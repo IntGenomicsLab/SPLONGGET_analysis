{
 "cells": [
  {
   "cell_type": "markdown",
   "id": "af8a3653",
   "metadata": {},
   "source": [
    "### Load packages"
   ]
  },
  {
   "cell_type": "code",
   "execution_count": null,
   "id": "d9a97e25",
   "metadata": {},
   "outputs": [],
   "source": [
    "import os\n",
    "import warnings\n",
    "import numpy as np\n",
    "import pandas as pd\n",
    "import scanpy as sc\n",
    "import scanpy.external as sce\n",
    "import seaborn as sns\n",
    "import anndata as ad\n",
    "import matplotlib.pyplot as plt\n",
    "import matplotlib\n",
    "from scipy.stats import median_abs_deviation\n",
    "import pyranges as pr\n",
    "\n",
    "import celltypist\n",
    "from celltypist import models\n",
    "\n",
    "warnings.simplefilter('ignore', FutureWarning)\n",
    "warnings.simplefilter('ignore', UserWarning)\n",
    "warnings.simplefilter('ignore', RuntimeWarning)\n",
    "\n",
    "sc.settings.set_figure_params(dpi=50, facecolor=\"white\", figsize=(10, 10))\n",
    "matplotlib.rcParams['pdf.fonttype'] = 42"
   ]
  },
  {
   "cell_type": "markdown",
   "id": "d077a26f",
   "metadata": {},
   "source": [
    "### Load data"
   ]
  },
  {
   "cell_type": "code",
   "execution_count": null,
   "id": "aaef6575",
   "metadata": {},
   "outputs": [],
   "source": [
    "# set variables to fetch data gene_counts.tsv files per sample\n",
    "\n",
    "datadir = 'path/to/scnanonseq/results'\n",
    "sample_prefixes = ['D0', 'Q1', 'Q2', 'Q3'] # populate list with sample names\n",
    "sample_dirs = [datadir + '/' + x + '/isoquant/' for x in sample_prefixes]\n",
    "sample_raw_ft_mtx_dirs = [x + f'{y}.gene_counts.tsv/' for x, y in zip(sample_dirs, sample_prefixes)]"
   ]
  },
  {
   "cell_type": "code",
   "execution_count": null,
   "id": "8a4c8b33",
   "metadata": {},
   "outputs": [],
   "source": [
    "# set variables to fetch data DNA barcode count files per sample\n",
    "\n",
    "dna_counts_dir = 'path/to/scdnalong/deduplicated/barcode counts/'\n",
    "dna_counts_txt = [dna_counts_dir+i+'_bc_counts.txt' for i in sample_prefixes]"
   ]
  },
  {
   "cell_type": "code",
   "execution_count": null,
   "id": "e8b755b1",
   "metadata": {},
   "outputs": [],
   "source": [
    "# set variables to fetch data ATAC and RNA CellRanger barcode files to generate mappers\n",
    "\n",
    "atac_barcodes_path = \"path/to/cellranger_arc_atac_barcodes\"\n",
    "rna_barcodes_path = \"path/to/cellranger_arc_rna_barcodes\"\n",
    "\n",
    "atac_barcodes_df = pd.read_csv(atac_barcodes_path, sep='\\t', header=None)\n",
    "rna_barcodes_df = pd.read_csv(rna_barcodes_path, sep='\\t', header=None)\n",
    "\n",
    "rna_barcode_mapper = dict(zip(rna_barcodes_df[0], atac_barcodes_df[0]))\n",
    "atac_barcode_mapper = dict(zip(atac_barcodes_df[0], rna_barcodes_df[0]))"
   ]
  },
  {
   "cell_type": "code",
   "execution_count": null,
   "id": "670eaeb5",
   "metadata": {},
   "outputs": [],
   "source": [
    "# mapper to match DNA barcode counts to RNA barcodes\n",
    "\n",
    "file_to_suffix = {\n",
    "    dna_counts_txt[0]: \"-D0\",\n",
    "    dna_counts_txt[1]: \"-Q1\",\n",
    "    dna_counts_txt[2]: \"-Q2\",\n",
    "    dna_counts_txt[3]: \"-Q3\"\n",
    "}\n",
    "\n",
    "column_to_modify = 1\n",
    "\n",
    "dna_count_barcode_mapper = {}\n",
    "\n",
    "for file_path, suffix in file_to_suffix.items():\n",
    "    with open(file_path, 'r') as f:\n",
    "        for line in f:\n",
    "            if line.strip():  # skip empty lines\n",
    "                parts = line.strip().split()\n",
    "                if len(parts) < 2:\n",
    "                    continue  # skip malformed lines\n",
    "\n",
    "                # Append suffix to the target column\n",
    "                dna_bc = parts[column_to_modify]\n",
    "                rna_bc = atac_barcode_mapper[dna_bc]\n",
    "                rna_bc += suffix\n",
    "\n",
    "                # Use the other column as key\n",
    "                value = int(parts[1 - column_to_modify])\n",
    "                key = rna_bc\n",
    "\n",
    "                dna_count_barcode_mapper[key] = value"
   ]
  },
  {
   "cell_type": "code",
   "execution_count": null,
   "id": "16270d0e",
   "metadata": {},
   "outputs": [],
   "source": [
    "# load gtf file to replace gene IDs with gene names\n",
    "\n",
    "gtf_file_path = 'path/to/gtf'\n",
    "gtf_file = pr.read_gtf(gtf_file_path, as_df=True)\n",
    "gene_id_to_name = dict(zip(gtf_file.gene_id, gtf_file.gene_name))"
   ]
  },
  {
   "cell_type": "code",
   "execution_count": null,
   "id": "eed3e577",
   "metadata": {},
   "outputs": [],
   "source": [
    "# load RNA data\n",
    "\n",
    "adatas = {}\n",
    "\n",
    "for path, sample_id in zip(sample_raw_ft_mtx_dirs, sample_prefixes):\n",
    "    sample_adata = sc.read(path, delimiter='\\t')\n",
    "    sample_adata = sample_adata.transpose()\n",
    "    sample_adata.var_names = sample_adata.var_names.map(gene_id_to_name)\n",
    "    sample_adata.var_names_make_unique()\n",
    "    sample_adata.obs['sample'] = sample_id\n",
    "    sample_adata.obs.index = sample_adata.obs.index + '-' + sample_id\n",
    "    adatas[sample_id] = sample_adata\n",
    "    print(sample_id)\n",
    "    print(sample_adata)"
   ]
  },
  {
   "cell_type": "code",
   "execution_count": null,
   "id": "46855c45",
   "metadata": {},
   "outputs": [],
   "source": [
    "# concatenate adata\n",
    "\n",
    "adata = sc.concat(adatas, label=\"sample\")\n",
    "adata.obs_names_make_unique()"
   ]
  },
  {
   "cell_type": "code",
   "execution_count": null,
   "id": "876484ac",
   "metadata": {},
   "outputs": [],
   "source": [
    "# assign DNA counts based on the previosly generated mapper object\n",
    "# replace NA values with 0\n",
    "\n",
    "adata.obs[\"dna_total_counts\"] = adata.obs.index.map(dna_count_barcode_mapper)\n",
    "adata.obs[\"dna_total_counts\"] = adata.obs[\"dna_total_counts\"].fillna(0)"
   ]
  },
  {
   "cell_type": "markdown",
   "id": "34624802",
   "metadata": {},
   "source": [
    "### QC"
   ]
  },
  {
   "cell_type": "code",
   "execution_count": null,
   "id": "ef18c695",
   "metadata": {},
   "outputs": [],
   "source": [
    "def qc_metrics(adata):\n",
    "    \n",
    "    # Saving count data\n",
    "    adata.layers[\"counts\"] = adata.X.copy()\n",
    "    \n",
    "    adata.var['mt'] = adata.var_names.str.startswith('MT-')\n",
    "    adata.var['ribo'] = adata.var_names.str.startswith('RPS', 'RPL')\n",
    "    adata.var['hb'] = adata.var_names.str.startswith('^HB[^(P)')\n",
    "    sc.pp.calculate_qc_metrics(adata, qc_vars=['mt', 'ribo', 'hb'], inplace=True, percent_top=[20], log1p=True)\n",
    "\n",
    "    remove = [\n",
    "        'total_counts_mt',\n",
    "        'total_counts_ribo',\n",
    "        'total_counts_hb',\n",
    "        'log1p_total_counts_mt',\n",
    "        'log1p_total_counts_ribo',\n",
    "        'log1p_total_counts_hb'\n",
    "    ]\n",
    "\n",
    "    adata.obs = adata.obs[[x for x in adata.obs.columns if x not in remove]]\n",
    "\n",
    "    return adata"
   ]
  },
  {
   "cell_type": "code",
   "execution_count": null,
   "id": "49d6ed3a",
   "metadata": {},
   "outputs": [],
   "source": [
    "adata = qc_metrics(adata)"
   ]
  },
  {
   "cell_type": "code",
   "execution_count": null,
   "id": "163e10c8",
   "metadata": {},
   "outputs": [],
   "source": [
    "# function to generate and save QC plots\n",
    "\n",
    "def plot_fn_b(adata, qc_step='before'):\n",
    "\n",
    "    sc.pl.violin(\n",
    "        adata,\n",
    "        [\"n_genes_by_counts\", \"total_counts\", \"pct_counts_mt\", \"pct_counts_ribo\"],\n",
    "        jitter=0.4,\n",
    "        multi_panel=True,\n",
    "        save=f'_n_genes_by_counts_total_counts_pct_counts_mt_pct_counts_ribo_{qc_step}_qc.pdf'\n",
    "    )\n",
    "\n",
    "    sc.pl.scatter(\n",
    "        adata, \"total_counts\", \"n_genes_by_counts\", color=\"pct_counts_mt\",\n",
    "        save=f'_total_counts_n_genes_by_counts_pct_counts_mt_{qc_step}_qc.pdf'\n",
    "    )\n",
    "\n",
    "    sc.pl.scatter(\n",
    "        adata, \"total_counts\", \"n_genes_by_counts\", color=\"pct_counts_ribo\",\n",
    "        save=f'_total_counts_n_genes_by_counts_pct_counts_ribo_{qc_step}_qc.pdf'\n",
    "    )"
   ]
  },
  {
   "cell_type": "code",
   "execution_count": null,
   "id": "3e8d6c32",
   "metadata": {},
   "outputs": [],
   "source": [
    "# plot QC metrics before filtering\n",
    "\n",
    "plot_fn_b(adata=adata, qc_step='before')\n",
    "print('\\n')"
   ]
  },
  {
   "cell_type": "markdown",
   "id": "26d81dcc",
   "metadata": {},
   "source": [
    "### Filtering"
   ]
  },
  {
   "cell_type": "code",
   "execution_count": null,
   "id": "346de98c",
   "metadata": {},
   "outputs": [],
   "source": [
    "# functions to identify outliers and doublets\n",
    "\n",
    "def is_outlier(adata, metric: str, nmads: int, show_threshold=False):\n",
    "    M = adata.obs[metric]\n",
    "    outlier = (M < np.median(M) - nmads * median_abs_deviation(M)) | (\n",
    "        np.median(M) + nmads * median_abs_deviation(M) < M\n",
    "    )\n",
    "    if show_threshold == True:\n",
    "        print(f'{metric} lower threshold: {np.median(M) - nmads * median_abs_deviation(M)}')\n",
    "        print(f'{metric} upper threshold: {np.median(M) + nmads * median_abs_deviation(M)}')\n",
    "    else:\n",
    "        return outlier\n",
    "\n",
    "def mt_is_outlier(adata, metric: str, nmads: int, show_threshold=False):\n",
    "    M = adata.obs[metric]\n",
    "    outlier = (\n",
    "        np.median(M) + nmads * median_abs_deviation(M) < M\n",
    "    )\n",
    "    if show_threshold == True:\n",
    "        print(f'{metric} upper threshold: {np.median(M) + nmads * median_abs_deviation(M)}')\n",
    "    else:\n",
    "        return outlier\n",
    "\n",
    "def ribo_is_outlier(adata, metric: str, nmads: int, show_threshold=False):\n",
    "    M = adata.obs[metric]\n",
    "    outlier = (\n",
    "        np.median(M) + nmads * median_abs_deviation(M) < M\n",
    "    )\n",
    "    if show_threshold == True:\n",
    "        print(f'{metric} upper threshold: {np.median(M) + nmads * median_abs_deviation(M)}')\n",
    "    else:\n",
    "        return outlier\n",
    "\n",
    "def doublet_outlier(adata):\n",
    "    outlier = (adata.obs['dna_total_counts'] > 60000) | (adata.obs['total_counts'] > 20000)\n",
    "    return outlier"
   ]
  },
  {
   "cell_type": "code",
   "execution_count": null,
   "id": "0b91b3fd",
   "metadata": {},
   "outputs": [],
   "source": [
    "adata.obs[\"outlier\"] = (\n",
    "    is_outlier(adata, \"log1p_total_counts\", 5)\n",
    "    | is_outlier(adata, \"log1p_n_genes_by_counts\", 5)\n",
    "    | is_outlier(adata, \"pct_counts_in_top_20_genes\", 5)\n",
    ")\n",
    "\n",
    "adata.obs[\"mt_outlier\"] = mt_is_outlier(adata, \"pct_counts_mt\", 5)\n",
    "\n",
    "adata.obs[\"ribo_outlier\"] = ribo_is_outlier(adata, \"pct_counts_ribo\", 5)\n",
    "\n",
    "adata.obs['doublet_outlier'] = doublet_outlier(adata)\n",
    "\n",
    "print(adata.obs.outlier.value_counts())\n",
    "print('\\n')\n",
    "print(adata.obs.mt_outlier.value_counts())\n",
    "print('\\n')\n",
    "print(adata.obs.ribo_outlier.value_counts())\n",
    "print('\\n')\n",
    "print(adata.obs.doublet_outlier.value_counts())\n",
    "print('\\n')"
   ]
  },
  {
   "cell_type": "code",
   "execution_count": null,
   "id": "b1301e2a",
   "metadata": {},
   "outputs": [],
   "source": [
    "print(f\"Total number of cells before filtering: {adata.n_obs}\")\n",
    "adata = adata[(~adata.obs.outlier) & (~adata.obs.mt_outlier) & (~adata.obs.ribo_outlier) & (~adata.obs.doublet_outlier)].copy()\n",
    "print(f\"Number of cells after filtering of low quality cells and doublets: {adata.n_obs}\")"
   ]
  },
  {
   "cell_type": "code",
   "execution_count": null,
   "id": "e9d8b3b5",
   "metadata": {},
   "outputs": [],
   "source": [
    "# plot QC metrics after filtering\n",
    "\n",
    "plot_fn_b(adata=adata, qc_step='after')\n",
    "print('\\n')"
   ]
  },
  {
   "cell_type": "markdown",
   "id": "d9887156",
   "metadata": {},
   "source": [
    "### Normalization"
   ]
  },
  {
   "cell_type": "code",
   "execution_count": null,
   "id": "98af63de",
   "metadata": {},
   "outputs": [],
   "source": [
    "def normalization_fn(adata):\n",
    "    adata.layers['log_counts'] = sc.pp.log1p(adata, copy=True).X\n",
    "    # Normalizing to median total counts\n",
    "    sc.pp.normalize_total(adata, exclude_highly_expressed=True)\n",
    "    # Logarithmize the data\n",
    "    sc.pp.log1p(adata)"
   ]
  },
  {
   "cell_type": "code",
   "execution_count": null,
   "id": "33c082a7",
   "metadata": {},
   "outputs": [],
   "source": [
    "normalization_fn(adata)"
   ]
  },
  {
   "cell_type": "markdown",
   "id": "d52147fa",
   "metadata": {},
   "source": [
    "### Feature selection"
   ]
  },
  {
   "cell_type": "code",
   "execution_count": null,
   "id": "76b43d41",
   "metadata": {},
   "outputs": [],
   "source": [
    "def feature_selection(adata):\n",
    "    \n",
    "    sc.pp.highly_variable_genes(\n",
    "        adata,\n",
    "        layer='log_counts',\n",
    "        n_top_genes=2000,\n",
    "        flavor='seurat',\n",
    "        batch_key='sample'\n",
    "        )\n",
    "    \n",
    "    sc.pl.highly_variable_genes(\n",
    "        adata,\n",
    "        save='_highly_variable_genes_2000_seurat.pdf'\n",
    "    )"
   ]
  },
  {
   "cell_type": "code",
   "execution_count": null,
   "id": "c1de1fea",
   "metadata": {},
   "outputs": [],
   "source": [
    "feature_selection(adata)"
   ]
  },
  {
   "cell_type": "markdown",
   "id": "314a3298",
   "metadata": {},
   "source": [
    "### Dimensionality reduction"
   ]
  },
  {
   "cell_type": "code",
   "execution_count": null,
   "id": "6fb9cb87",
   "metadata": {},
   "outputs": [],
   "source": [
    "sc.tl.pca(adata, zero_center=True, n_comps=50, use_highly_variable=True, random_state=0)"
   ]
  },
  {
   "cell_type": "code",
   "execution_count": null,
   "id": "1696a68d",
   "metadata": {},
   "outputs": [],
   "source": [
    "sc.pl.pca_variance_ratio(adata, n_pcs=50, log=True)"
   ]
  },
  {
   "cell_type": "code",
   "execution_count": null,
   "id": "b9d9325e",
   "metadata": {},
   "outputs": [],
   "source": [
    "sc.pp.neighbors(adata, n_neighbors=15, knn=True, random_state=0)"
   ]
  },
  {
   "cell_type": "code",
   "execution_count": null,
   "id": "d4c924c4",
   "metadata": {},
   "outputs": [],
   "source": [
    "sc.tl.umap(adata, random_state=0)"
   ]
  },
  {
   "cell_type": "markdown",
   "id": "35ab68c5",
   "metadata": {},
   "source": [
    "### Clustering"
   ]
  },
  {
   "cell_type": "code",
   "execution_count": null,
   "id": "0a431caf",
   "metadata": {},
   "outputs": [],
   "source": [
    "sc.tl.leiden(adata, flavor=\"leidenalg\", n_iterations=2, random_state=0)"
   ]
  },
  {
   "cell_type": "code",
   "execution_count": null,
   "id": "41344e17",
   "metadata": {},
   "outputs": [],
   "source": [
    "for res in [0.05, 0.5, 0.6, 0.75, 0.8, 0.85, 0.9, 0.95, 1.0, 1.25, 1.5, 2.0, 5.0, 10.0, 20.0]:\n",
    "    sc.tl.leiden(\n",
    "        adata, key_added=f\"leiden_{res}\", resolution=res, flavor=\"leidenalg\", random_state=0\n",
    "    )"
   ]
  },
  {
   "cell_type": "markdown",
   "id": "bde0a100",
   "metadata": {},
   "source": [
    "### Cell type annotation"
   ]
  },
  {
   "cell_type": "code",
   "execution_count": null,
   "id": "53e3db0c",
   "metadata": {},
   "outputs": [],
   "source": [
    "adata_celltypist = adata.copy()  # make a copy of our adata\n",
    "adata_celltypist.X = adata.layers[\"counts\"].copy()  # set adata.X to raw counts"
   ]
  },
  {
   "cell_type": "code",
   "execution_count": null,
   "id": "9159955c",
   "metadata": {},
   "outputs": [],
   "source": [
    "sc.pp.normalize_total(\n",
    "    adata_celltypist, target_sum=10**4\n",
    ")  # normalize to 10,000 counts per cell"
   ]
  },
  {
   "cell_type": "code",
   "execution_count": null,
   "id": "6a34e6f5",
   "metadata": {},
   "outputs": [],
   "source": [
    "adata_celltypist.X = sc.pp.log1p(adata_celltypist.X)  # log-transform"
   ]
  },
  {
   "cell_type": "code",
   "execution_count": null,
   "id": "0d09e0ed",
   "metadata": {},
   "outputs": [],
   "source": [
    "models.download_models(\n",
    "    force_update=True, model=[\"Immune_All_Low.pkl\", \"Immune_All_High.pkl\"]\n",
    ")"
   ]
  },
  {
   "cell_type": "code",
   "execution_count": null,
   "id": "176ced03",
   "metadata": {},
   "outputs": [],
   "source": [
    "model_low = models.Model.load(model=\"Immune_All_Low.pkl\")\n",
    "model_high = models.Model.load(model=\"Immune_All_High.pkl\")"
   ]
  },
  {
   "cell_type": "code",
   "execution_count": null,
   "id": "29c143a0",
   "metadata": {},
   "outputs": [],
   "source": [
    "predictions_high = celltypist.annotate(\n",
    "    adata_celltypist,\n",
    "    model=model_high,\n",
    "    majority_voting=True,\n",
    "    mode='best match',\n",
    "    over_clustering=adata.obs['leiden_10.0']\n",
    ")"
   ]
  },
  {
   "cell_type": "code",
   "execution_count": null,
   "id": "5587eb7a",
   "metadata": {},
   "outputs": [],
   "source": [
    "predictions_high_adata = predictions_high.to_adata()"
   ]
  },
  {
   "cell_type": "code",
   "execution_count": null,
   "id": "019f9ac1",
   "metadata": {},
   "outputs": [],
   "source": [
    "adata.obs[\"celltypist_cell_label_coarse\"] = predictions_high_adata.obs.loc[\n",
    "    adata.obs.index, \"majority_voting\"\n",
    "]\n",
    "adata.obs[\"celltypist_conf_score_coarse\"] = predictions_high_adata.obs.loc[\n",
    "    adata.obs.index, \"conf_score\"\n",
    "]"
   ]
  },
  {
   "cell_type": "code",
   "execution_count": null,
   "id": "a5c3a9c3",
   "metadata": {},
   "outputs": [],
   "source": [
    "predictions_low = celltypist.annotate(\n",
    "    adata_celltypist,\n",
    "    model=model_low,\n",
    "    majority_voting=True,\n",
    "    mode='best match',\n",
    "    over_clustering=adata.obs['leiden_10.0']\n",
    ")"
   ]
  },
  {
   "cell_type": "code",
   "execution_count": null,
   "id": "75a5f638",
   "metadata": {},
   "outputs": [],
   "source": [
    "predictions_low_adata = predictions_low.to_adata()"
   ]
  },
  {
   "cell_type": "code",
   "execution_count": null,
   "id": "b66b9e9c",
   "metadata": {},
   "outputs": [],
   "source": [
    "adata.obs[\"celltypist_cell_label_fine\"] = predictions_low_adata.obs.loc[\n",
    "    adata.obs.index, \"majority_voting\"\n",
    "]\n",
    "adata.obs[\"celltypist_conf_score_fine\"] = predictions_low_adata.obs.loc[\n",
    "    adata.obs.index, \"conf_score\"\n",
    "]"
   ]
  },
  {
   "cell_type": "markdown",
   "id": "108e5acf",
   "metadata": {},
   "source": [
    "### Save final adata object"
   ]
  },
  {
   "cell_type": "code",
   "execution_count": null,
   "id": "b470a40a",
   "metadata": {},
   "outputs": [],
   "source": [
    "path_to_save_adata = \"path/adata.h5ad\""
   ]
  },
  {
   "cell_type": "code",
   "execution_count": null,
   "id": "957c5086",
   "metadata": {},
   "outputs": [],
   "source": [
    "adata.write(path_to_save_adata)"
   ]
  }
 ],
 "metadata": {
  "language_info": {
   "name": "python"
  }
 },
 "nbformat": 4,
 "nbformat_minor": 5
}
