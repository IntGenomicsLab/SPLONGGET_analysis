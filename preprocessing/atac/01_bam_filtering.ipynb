{
 "cells": [
  {
   "cell_type": "markdown",
   "id": "d9f264be",
   "metadata": {},
   "source": [
    "# BAM filering\n",
    "\n",
    "In this notebook, we filter the output bam files from the scdnalong pipeline based on the read lengths. We keep the reads that are shorter than 1 000 bps\n",
    "\n",
    "Kernel used - any bash kernel"
   ]
  },
  {
   "cell_type": "code",
   "execution_count": null,
   "id": "beafb51b",
   "metadata": {
    "vscode": {
     "languageId": "shellscript"
    }
   },
   "outputs": [],
   "source": [
    "ARRAY=( D0 Q1 Q2 Q3 )\n",
    "\n",
    "INPUTDIR=/scdnalong/results/\n",
    "OUTDIR=/bamfiles_filtered\n",
    "\n",
    "ml SAMtools/1.21\n",
    "\n",
    "for name in \"${ARRAY[@]}\"\n",
    "do\n",
    "    INBAM=$INPUTDIR/$name/bam/dedup/${name}.dedup.sorted.bam\n",
    "    OUTBAM=$OUTDIR/$name.filtered.bam\n",
    "    echo \"Running sample\" $name\n",
    "    echo $INBAM\n",
    "    echo $OUTBAM\n",
    "    samtools view -@ 20 -e 'length(seq)<1000' -b --write-index -o $OUTBAM $INBAM\n",
    "    echo \"sample done\" $file\n",
    "done"
   ]
  }
 ],
 "metadata": {
  "kernelspec": {
   "display_name": "Bash",
   "language": "bash",
   "name": "bash"
  },
  "language_info": {
   "name": "bash"
  }
 },
 "nbformat": 4,
 "nbformat_minor": 5
}
