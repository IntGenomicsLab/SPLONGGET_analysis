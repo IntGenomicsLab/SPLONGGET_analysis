{
 "cells": [
  {
   "cell_type": "markdown",
   "id": "2ada661c",
   "metadata": {},
   "source": [
    "Notebook to get the UMAP coordinates for plotting"
   ]
  },
  {
   "cell_type": "code",
   "execution_count": null,
   "id": "bf4583a2-f741-4ba0-8a8c-6dfcfd19ec28",
   "metadata": {},
   "outputs": [
    {
     "data": {
      "text/plain": [
       "'2.0a0'"
      ]
     },
     "execution_count": 2,
     "metadata": {},
     "output_type": "execute_result"
    }
   ],
   "source": [
    "import pycisTopic\n",
    "import pandas as pd\n",
    "import os\n",
    "import pickle\n",
    "pycisTopic.__version__"
   ]
  },
  {
   "cell_type": "code",
   "execution_count": null,
   "id": "e4dbe587-c110-4219-b692-b9d5c9e53265",
   "metadata": {},
   "outputs": [
    {
     "name": "stderr",
     "output_type": "stream",
     "text": [
      "/opt/venv/lib/python3.11/site-packages/tqdm/auto.py:21: TqdmWarning: IProgress not found. Please update jupyter and ipywidgets. See https://ipywidgets.readthedocs.io/en/stable/user_install.html\n",
      "  from .autonotebook import tqdm as notebook_tqdm\n",
      "2025-07-15 12:05:51,295\tINFO util.py:154 -- Missing packages: ['ipywidgets']. Run `pip install -U ipywidgets`, then restart the notebook server for rich notebook output.\n"
     ]
    },
    {
     "name": "stdout",
     "output_type": "stream",
     "text": [
      "CistopicObject from project cisTopic_merge with n_cells × n_regions = 1972 × 135084\n"
     ]
    }
   ],
   "source": [
    "\n",
    "file_path = \"/preprocessing/atac/Q3_subset/outs/cistopic_obj_all_info.pkl\"\n",
    "with open(file_path, 'rb') as file:\n",
    "    cistopic_obj = pickle.load(file)\n",
    "\n",
    "print(cistopic_obj)"
   ]
  },
  {
   "cell_type": "code",
   "execution_count": 5,
   "id": "0400c5e1-8010-4e32-bf54-8aa6fc764c06",
   "metadata": {},
   "outputs": [],
   "source": [
    "umap_coords = cistopic_obj.projections['cell']['UMAP']\n",
    "cell_type = pd.DataFrame(cistopic_obj.cell_data[['sample_id','cell_type_all']])\n",
    "combined_df = pd.concat([umap_coords, cell_type], axis=1)\n",
    "combined_df.to_csv('Q3_long_atac_umap_coords.csv')"
   ]
  },
  {
   "cell_type": "code",
   "execution_count": 6,
   "id": "87bbad81-740d-43af-b0df-d227000f2e94",
   "metadata": {},
   "outputs": [
    {
     "data": {
      "text/html": [
       "<div>\n",
       "<style scoped>\n",
       "    .dataframe tbody tr th:only-of-type {\n",
       "        vertical-align: middle;\n",
       "    }\n",
       "\n",
       "    .dataframe tbody tr th {\n",
       "        vertical-align: top;\n",
       "    }\n",
       "\n",
       "    .dataframe thead th {\n",
       "        text-align: right;\n",
       "    }\n",
       "</style>\n",
       "<table border=\"1\" class=\"dataframe\">\n",
       "  <thead>\n",
       "    <tr style=\"text-align: right;\">\n",
       "      <th></th>\n",
       "      <th>UMAP_1</th>\n",
       "      <th>UMAP_2</th>\n",
       "      <th>sample_id</th>\n",
       "      <th>cell_type_all</th>\n",
       "    </tr>\n",
       "  </thead>\n",
       "  <tbody>\n",
       "    <tr>\n",
       "      <th>CAATTGCGTGTCCTGA-Q3___Q3</th>\n",
       "      <td>-0.448154</td>\n",
       "      <td>1.909155</td>\n",
       "      <td>Q3</td>\n",
       "      <td>Pro-B_cells_Q3</td>\n",
       "    </tr>\n",
       "    <tr>\n",
       "      <th>AAGGTATGTTAGGTTC-Q3___Q3</th>\n",
       "      <td>0.884243</td>\n",
       "      <td>1.766162</td>\n",
       "      <td>Q3</td>\n",
       "      <td>Pro-B_cells_Q3</td>\n",
       "    </tr>\n",
       "    <tr>\n",
       "      <th>CGTAATCGTGCGATTT-Q3___Q3</th>\n",
       "      <td>1.099209</td>\n",
       "      <td>-0.141099</td>\n",
       "      <td>Q3</td>\n",
       "      <td>Pro-B_cells_Q3</td>\n",
       "    </tr>\n",
       "    <tr>\n",
       "      <th>TGGATTCGTGCAGTAA-Q3___Q3</th>\n",
       "      <td>1.425549</td>\n",
       "      <td>0.228970</td>\n",
       "      <td>Q3</td>\n",
       "      <td>Pro-B_cells_Q3</td>\n",
       "    </tr>\n",
       "    <tr>\n",
       "      <th>CAAGGCTCACTAGCTT-Q3___Q3</th>\n",
       "      <td>2.134180</td>\n",
       "      <td>1.538181</td>\n",
       "      <td>Q3</td>\n",
       "      <td>Pro-B_cells_Q3</td>\n",
       "    </tr>\n",
       "    <tr>\n",
       "      <th>...</th>\n",
       "      <td>...</td>\n",
       "      <td>...</td>\n",
       "      <td>...</td>\n",
       "      <td>...</td>\n",
       "    </tr>\n",
       "    <tr>\n",
       "      <th>CCTCAGCCATGAGCCG-Q3___Q3</th>\n",
       "      <td>11.814343</td>\n",
       "      <td>13.590145</td>\n",
       "      <td>Q3</td>\n",
       "      <td>Tem_Trm_cytotoxic_T_cells</td>\n",
       "    </tr>\n",
       "    <tr>\n",
       "      <th>CGAGCGAGTATTGAGG-Q3___Q3</th>\n",
       "      <td>-3.868738</td>\n",
       "      <td>8.256097</td>\n",
       "      <td>Q3</td>\n",
       "      <td>Pro-B_cells_Q3</td>\n",
       "    </tr>\n",
       "    <tr>\n",
       "      <th>GCTATGCTCCACTATG-Q3___Q3</th>\n",
       "      <td>11.684388</td>\n",
       "      <td>13.206500</td>\n",
       "      <td>Q3</td>\n",
       "      <td>Tem_Trm_cytotoxic_T_cells</td>\n",
       "    </tr>\n",
       "    <tr>\n",
       "      <th>GTTGTCATCATGCCTA-Q3___Q3</th>\n",
       "      <td>-3.959188</td>\n",
       "      <td>8.439908</td>\n",
       "      <td>Q3</td>\n",
       "      <td>Pro-B_cells_Q3</td>\n",
       "    </tr>\n",
       "    <tr>\n",
       "      <th>AAGCTTGCATGACAAT-Q3___Q3</th>\n",
       "      <td>12.304297</td>\n",
       "      <td>13.021891</td>\n",
       "      <td>Q3</td>\n",
       "      <td>Tem_Trm_cytotoxic_T_cells</td>\n",
       "    </tr>\n",
       "  </tbody>\n",
       "</table>\n",
       "<p>1972 rows × 4 columns</p>\n",
       "</div>"
      ],
      "text/plain": [
       "                             UMAP_1     UMAP_2 sample_id  \\\n",
       "CAATTGCGTGTCCTGA-Q3___Q3  -0.448154   1.909155        Q3   \n",
       "AAGGTATGTTAGGTTC-Q3___Q3   0.884243   1.766162        Q3   \n",
       "CGTAATCGTGCGATTT-Q3___Q3   1.099209  -0.141099        Q3   \n",
       "TGGATTCGTGCAGTAA-Q3___Q3   1.425549   0.228970        Q3   \n",
       "CAAGGCTCACTAGCTT-Q3___Q3   2.134180   1.538181        Q3   \n",
       "...                             ...        ...       ...   \n",
       "CCTCAGCCATGAGCCG-Q3___Q3  11.814343  13.590145        Q3   \n",
       "CGAGCGAGTATTGAGG-Q3___Q3  -3.868738   8.256097        Q3   \n",
       "GCTATGCTCCACTATG-Q3___Q3  11.684388  13.206500        Q3   \n",
       "GTTGTCATCATGCCTA-Q3___Q3  -3.959188   8.439908        Q3   \n",
       "AAGCTTGCATGACAAT-Q3___Q3  12.304297  13.021891        Q3   \n",
       "\n",
       "                                      cell_type_all  \n",
       "CAATTGCGTGTCCTGA-Q3___Q3             Pro-B_cells_Q3  \n",
       "AAGGTATGTTAGGTTC-Q3___Q3             Pro-B_cells_Q3  \n",
       "CGTAATCGTGCGATTT-Q3___Q3             Pro-B_cells_Q3  \n",
       "TGGATTCGTGCAGTAA-Q3___Q3             Pro-B_cells_Q3  \n",
       "CAAGGCTCACTAGCTT-Q3___Q3             Pro-B_cells_Q3  \n",
       "...                                             ...  \n",
       "CCTCAGCCATGAGCCG-Q3___Q3  Tem_Trm_cytotoxic_T_cells  \n",
       "CGAGCGAGTATTGAGG-Q3___Q3             Pro-B_cells_Q3  \n",
       "GCTATGCTCCACTATG-Q3___Q3  Tem_Trm_cytotoxic_T_cells  \n",
       "GTTGTCATCATGCCTA-Q3___Q3             Pro-B_cells_Q3  \n",
       "AAGCTTGCATGACAAT-Q3___Q3  Tem_Trm_cytotoxic_T_cells  \n",
       "\n",
       "[1972 rows x 4 columns]"
      ]
     },
     "execution_count": 6,
     "metadata": {},
     "output_type": "execute_result"
    }
   ],
   "source": [
    "combined_df"
   ]
  }
 ],
 "metadata": {
  "kernelspec": {
   "display_name": "pycistopic_qc_may24",
   "language": "python",
   "name": "pycistopic_2a"
  },
  "language_info": {
   "codemirror_mode": {
    "name": "ipython",
    "version": 3
   },
   "file_extension": ".py",
   "mimetype": "text/x-python",
   "name": "python",
   "nbconvert_exporter": "python",
   "pygments_lexer": "ipython3",
   "version": "3.11.8"
  }
 },
 "nbformat": 4,
 "nbformat_minor": 5
}
