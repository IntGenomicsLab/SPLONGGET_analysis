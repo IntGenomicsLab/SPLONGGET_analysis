{
 "cells": [
  {
   "cell_type": "markdown",
   "id": "8c61651a-95f4-4633-90ea-1e6effae659f",
   "metadata": {},
   "source": [
    "# Fragment file creation with SnapATAC2"
   ]
  },
  {
   "cell_type": "markdown",
   "id": "ee43c8ed-bd5d-483f-bbce-38ea6a7f6129",
   "metadata": {},
   "source": [
    "Notebook where I create fragment files for downstream ATAC analysis"
   ]
  },
  {
   "cell_type": "code",
   "execution_count": 1,
   "id": "d33f7ede-ee13-4570-8e1e-af309a924b08",
   "metadata": {},
   "outputs": [
    {
     "data": {
      "text/plain": [
       "'2.6.4'"
      ]
     },
     "execution_count": 1,
     "metadata": {},
     "output_type": "execute_result"
    }
   ],
   "source": [
    "import os\n",
    "import pandas as pd\n",
    "import numpy as np\n",
    "\n",
    "import snapatac2 as snap\n",
    "\n",
    "snap.__version__"
   ]
  },
  {
   "cell_type": "code",
   "execution_count": null,
   "id": "ddb2d09c-a06f-4f23-bda1-0191a66d869a",
   "metadata": {},
   "outputs": [
    {
     "name": "stdout",
     "output_type": "stream",
     "text": [
      "D0.filtered.bam      Q1.filtered.bam.csi  Q3.filtered.bam\n",
      "D0.filtered.bam.csi  Q2.filtered.bam\t  Q3.filtered.bam.csi\n",
      "Q1.filtered.bam      Q2.filtered.bam.csi\n"
     ]
    }
   ],
   "source": [
    "!ls /bamfiles_filtered"
   ]
  },
  {
   "cell_type": "code",
   "execution_count": null,
   "id": "860e86dc-c7fe-4bba-b1f7-b0d818f520f1",
   "metadata": {},
   "outputs": [],
   "source": [
    "# define bam file location\n",
    "bam_path=\"/bamfiles_filtered/\"\n",
    "tsv_path=\"/fragments/\""
   ]
  },
  {
   "cell_type": "code",
   "execution_count": null,
   "id": "95d2b0bd",
   "metadata": {},
   "outputs": [],
   "source": [
    "for filename in os.listdir(bam_path):\n",
    "    if filename.endswith(\".bam\"):\n",
    "        try:\n",
    "            file_path = os.path.join(bam_path, filename)\n",
    "           \n",
    "            print(f\"Processing {file_path}\")\n",
    "            tsv = filename.replace(\".filtered.bam\", \".tsv.gz\")\n",
    "            tsv_full = os.path.join(tsv_path, tsv)\n",
    "            print(f\"Creating tsv file {tsv_full}\")\n",
    "            snap.pp.make_fragment_file(file_path, tsv_full, is_paired=False, barcode_tag=\"CB\",\n",
    "                min_mapq=30)\n",
    "            print(\"\\n\")\n",
    "        except:\n",
    "            pass"
   ]
  }
 ],
 "metadata": {
  "kernelspec": {
   "display_name": "snapatac2",
   "language": "python",
   "name": "snapatac2"
  },
  "language_info": {
   "codemirror_mode": {
    "name": "ipython",
    "version": 3
   },
   "file_extension": ".py",
   "mimetype": "text/x-python",
   "name": "python",
   "nbconvert_exporter": "python",
   "pygments_lexer": "ipython3",
   "version": "3.12.4"
  }
 },
 "nbformat": 4,
 "nbformat_minor": 5
}
