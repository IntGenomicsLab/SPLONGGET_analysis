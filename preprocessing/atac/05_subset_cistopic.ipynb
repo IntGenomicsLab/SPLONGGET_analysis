{
 "cells": [
  {
   "cell_type": "markdown",
   "id": "fa33e2da-779b-4a1f-be8f-c8bbfdbb845a",
   "metadata": {},
   "source": [
    "# subsetting pycistopic"
   ]
  },
  {
   "cell_type": "code",
   "execution_count": null,
   "id": "ce5456dc-291d-47ca-9572-5500dd2eac42",
   "metadata": {
    "vscode": {
     "languageId": "shellscript"
    }
   },
   "outputs": [
    {
     "data": {
      "text/plain": [
       "'2.0a0'"
      ]
     },
     "execution_count": 1,
     "metadata": {},
     "output_type": "execute_result"
    }
   ],
   "source": [
    "import pycisTopic\n",
    "import pandas as pd\n",
    "import os\n",
    "pycisTopic.__version__"
   ]
  },
  {
   "cell_type": "code",
   "execution_count": null,
   "id": "57d0c548-24d4-4bbf-8f9e-0473027e89d1",
   "metadata": {
    "vscode": {
     "languageId": "shellscript"
    }
   },
   "outputs": [],
   "source": [
    "os.chdir(os.getcwd())"
   ]
  },
  {
   "cell_type": "code",
   "execution_count": null,
   "id": "73e4c1c6",
   "metadata": {
    "vscode": {
     "languageId": "shellscript"
    }
   },
   "outputs": [],
   "source": [
    "!pwd"
   ]
  },
  {
   "cell_type": "code",
   "execution_count": null,
   "id": "a467b433-84a9-468b-957b-3638c15fd5b2",
   "metadata": {
    "vscode": {
     "languageId": "shellscript"
    }
   },
   "outputs": [],
   "source": [
    "out_dir = \"subset_outs\"\n",
    "os.makedirs(out_dir, exist_ok = True)"
   ]
  },
  {
   "cell_type": "code",
   "execution_count": null,
   "id": "90a7cc22-c4a7-425c-af7f-e628dbcba392",
   "metadata": {
    "vscode": {
     "languageId": "shellscript"
    }
   },
   "outputs": [
    {
     "name": "stderr",
     "output_type": "stream",
     "text": [
      "/opt/venv/lib/python3.11/site-packages/tqdm/auto.py:21: TqdmWarning: IProgress not found. Please update jupyter and ipywidgets. See https://ipywidgets.readthedocs.io/en/stable/user_install.html\n",
      "  from .autonotebook import tqdm as notebook_tqdm\n",
      "2025-05-19 20:49:51,100\tINFO util.py:154 -- Missing packages: ['ipywidgets']. Run `pip install -U ipywidgets`, then restart the notebook server for rich notebook output.\n"
     ]
    },
    {
     "name": "stdout",
     "output_type": "stream",
     "text": [
      "CistopicObject from project cisTopic_merge with n_cells × n_regions = 11327 × 224360\n"
     ]
    }
   ],
   "source": [
    "import pickle\n",
    "file_path = \"./outs/cistopic_obj.pkl\"\n",
    "with open(file_path, 'rb') as file:\n",
    "    cistopic_obj = pickle.load(file)\n",
    "\n",
    "print(cistopic_obj)"
   ]
  },
  {
   "cell_type": "code",
   "execution_count": null,
   "id": "7ca46a3f-eb4a-45c1-93dc-fd46bc9706a8",
   "metadata": {
    "vscode": {
     "languageId": "shellscript"
    }
   },
   "outputs": [],
   "source": [
    "cells_to_keep = cistopic_obj.cell_data[\n",
    "    cistopic_obj.cell_data['cell_type_all'].isin(['Pro-B_cells_D0', 'Pro-B_cells_Q1'])\n",
    "].index.tolist()\n"
   ]
  },
  {
   "cell_type": "code",
   "execution_count": null,
   "id": "c3e687d5-34d8-4d6a-880e-648e7e4735c1",
   "metadata": {
    "vscode": {
     "languageId": "shellscript"
    }
   },
   "outputs": [],
   "source": [
    "cistopic_obj.subset(cells=cells_to_keep)"
   ]
  },
  {
   "cell_type": "code",
   "execution_count": null,
   "id": "d0fae115-8d69-4508-8282-600493e82c22",
   "metadata": {
    "vscode": {
     "languageId": "shellscript"
    }
   },
   "outputs": [
    {
     "name": "stdout",
     "output_type": "stream",
     "text": [
      "CistopicObject from project cisTopic_merge with n_cells × n_regions = 7092 × 224236\n"
     ]
    }
   ],
   "source": [
    "print(cistopic_obj)"
   ]
  },
  {
   "cell_type": "code",
   "execution_count": null,
   "id": "52c0ed06-75f7-4d24-85ae-eac0216a5f8d",
   "metadata": {
    "vscode": {
     "languageId": "shellscript"
    }
   },
   "outputs": [],
   "source": [
    "pickle.dump(\n",
    "    cistopic_obj,\n",
    "    open(os.path.join(out_dir, \"subset_cistopic_obj.pkl\"), \"wb\")\n",
    ")"
   ]
  },
  {
   "cell_type": "code",
   "execution_count": null,
   "id": "0204edb1-4c4a-4b1d-990b-db9355c590c2",
   "metadata": {
    "vscode": {
     "languageId": "shellscript"
    }
   },
   "outputs": [
    {
     "data": {
      "text/plain": [
       "Pro-B_cells_Q1    5062\n",
       "Pro-B_cells_D0    2030\n",
       "Name: cell_type_all, dtype: int64"
      ]
     },
     "execution_count": 10,
     "metadata": {},
     "output_type": "execute_result"
    }
   ],
   "source": [
    "cistopic_obj.cell_data['cell_type_all'].value_counts()"
   ]
  },
  {
   "cell_type": "code",
   "execution_count": null,
   "id": "46b6f0d9-18d1-4a3a-ae78-efaf629e4275",
   "metadata": {
    "vscode": {
     "languageId": "shellscript"
    }
   },
   "outputs": [],
   "source": []
  }
 ],
 "metadata": {
  "kernelspec": {
   "display_name": "Bash",
   "language": "bash",
   "name": "bash"
  },
  "language_info": {
   "codemirror_mode": "shell",
   "file_extension": ".sh",
   "mimetype": "text/x-sh",
   "name": "bash"
  }
 },
 "nbformat": 4,
 "nbformat_minor": 5
}
