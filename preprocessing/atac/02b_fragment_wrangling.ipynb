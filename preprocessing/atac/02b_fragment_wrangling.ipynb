{
 "cells": [
  {
   "cell_type": "markdown",
   "id": "7bc77663",
   "metadata": {},
   "source": [
    "# Fragment wrangling"
   ]
  },
  {
   "cell_type": "markdown",
   "id": "1f33af8f",
   "metadata": {},
   "source": [
    "Unfortunately, the zipping from SnapATAC2 is not bgzip, so we unzip and rezip the files to be able to index them\n",
    "\n",
    "I also have to sort these files and remove column 6 to have cellranger-like output fragment file which are compatible with pycistopic\n"
   ]
  },
  {
   "cell_type": "code",
   "execution_count": null,
   "id": "47d4d337",
   "metadata": {
    "vscode": {
     "languageId": "powershell"
    }
   },
   "outputs": [],
   "source": [
    "ml HTSlib/1.21\n",
    "ARRAY=( D0 Q1 Q2 Q3 )\n",
    "\n",
    "# submit to array job\n",
    "i=${ARRAY[$SLURM_ARRAY_TASK_ID-1]}\n",
    " \n",
    "mkdir -p /fragments\n",
    "cd /fragments\n",
    "\n",
    "echo \"Processing $i\"\n",
    "zcat ${i}.tsv.gz  | sort -k1,1 -k2,2n | cut -f 1-5 | bgzip > ${i}_corrected.tsv.gz\n",
    "tabix -p bed ${i}_corrected.tsv.gz\n",
    "echo \"Done processing $i\""
   ]
  },
  {
   "cell_type": "code",
   "execution_count": null,
   "id": "e258402d",
   "metadata": {
    "vscode": {
     "languageId": "plaintext"
    }
   },
   "outputs": [],
   "source": []
  }
 ],
 "metadata": {
  "language_info": {
   "name": "python"
  }
 },
 "nbformat": 4,
 "nbformat_minor": 5
}
