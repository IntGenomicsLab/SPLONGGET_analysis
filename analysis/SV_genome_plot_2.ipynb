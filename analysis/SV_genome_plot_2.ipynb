{
 "cells": [
  {
   "cell_type": "code",
   "execution_count": 1,
   "metadata": {
    "vscode": {
     "languageId": "r"
    }
   },
   "outputs": [
    {
     "name": "stderr",
     "output_type": "stream",
     "text": [
      "Warning message in system(\"timedatectl\", intern = TRUE):\n",
      "“running command 'timedatectl' had status 1”\n",
      "── \u001b[1mAttaching core tidyverse packages\u001b[22m ──────────────────────── tidyverse 2.0.0 ──\n",
      "\u001b[32m✔\u001b[39m \u001b[34mdplyr    \u001b[39m 1.1.4     \u001b[32m✔\u001b[39m \u001b[34mreadr    \u001b[39m 2.1.4\n",
      "\u001b[32m✔\u001b[39m \u001b[34mforcats  \u001b[39m 1.0.0     \u001b[32m✔\u001b[39m \u001b[34mstringr  \u001b[39m 1.5.1\n",
      "\u001b[32m✔\u001b[39m \u001b[34mggplot2  \u001b[39m 3.5.1     \u001b[32m✔\u001b[39m \u001b[34mtibble   \u001b[39m 3.2.1\n",
      "\u001b[32m✔\u001b[39m \u001b[34mlubridate\u001b[39m 1.9.3     \u001b[32m✔\u001b[39m \u001b[34mtidyr    \u001b[39m 1.3.0\n",
      "\u001b[32m✔\u001b[39m \u001b[34mpurrr    \u001b[39m 1.0.2     \n",
      "── \u001b[1mConflicts\u001b[22m ────────────────────────────────────────── tidyverse_conflicts() ──\n",
      "\u001b[31m✖\u001b[39m \u001b[34mdplyr\u001b[39m::\u001b[32mbetween()\u001b[39m     masks \u001b[34mdata.table\u001b[39m::between()\n",
      "\u001b[31m✖\u001b[39m \u001b[34mdplyr\u001b[39m::\u001b[32mfilter()\u001b[39m      masks \u001b[34mstats\u001b[39m::filter()\n",
      "\u001b[31m✖\u001b[39m \u001b[34mdplyr\u001b[39m::\u001b[32mfirst()\u001b[39m       masks \u001b[34mdata.table\u001b[39m::first()\n",
      "\u001b[31m✖\u001b[39m \u001b[34mlubridate\u001b[39m::\u001b[32mhour()\u001b[39m    masks \u001b[34mdata.table\u001b[39m::hour()\n",
      "\u001b[31m✖\u001b[39m \u001b[34mlubridate\u001b[39m::\u001b[32misoweek()\u001b[39m masks \u001b[34mdata.table\u001b[39m::isoweek()\n",
      "\u001b[31m✖\u001b[39m \u001b[34mdplyr\u001b[39m::\u001b[32mlag()\u001b[39m         masks \u001b[34mstats\u001b[39m::lag()\n",
      "\u001b[31m✖\u001b[39m \u001b[34mdplyr\u001b[39m::\u001b[32mlast()\u001b[39m        masks \u001b[34mdata.table\u001b[39m::last()\n",
      "\u001b[31m✖\u001b[39m \u001b[34mlubridate\u001b[39m::\u001b[32mmday()\u001b[39m    masks \u001b[34mdata.table\u001b[39m::mday()\n",
      "\u001b[31m✖\u001b[39m \u001b[34mlubridate\u001b[39m::\u001b[32mminute()\u001b[39m  masks \u001b[34mdata.table\u001b[39m::minute()\n",
      "\u001b[31m✖\u001b[39m \u001b[34mlubridate\u001b[39m::\u001b[32mmonth()\u001b[39m   masks \u001b[34mdata.table\u001b[39m::month()\n",
      "\u001b[31m✖\u001b[39m \u001b[34mlubridate\u001b[39m::\u001b[32mquarter()\u001b[39m masks \u001b[34mdata.table\u001b[39m::quarter()\n",
      "\u001b[31m✖\u001b[39m \u001b[34mlubridate\u001b[39m::\u001b[32msecond()\u001b[39m  masks \u001b[34mdata.table\u001b[39m::second()\n",
      "\u001b[31m✖\u001b[39m \u001b[34mpurrr\u001b[39m::\u001b[32mtranspose()\u001b[39m   masks \u001b[34mdata.table\u001b[39m::transpose()\n",
      "\u001b[31m✖\u001b[39m \u001b[34mlubridate\u001b[39m::\u001b[32mwday()\u001b[39m    masks \u001b[34mdata.table\u001b[39m::wday()\n",
      "\u001b[31m✖\u001b[39m \u001b[34mlubridate\u001b[39m::\u001b[32mweek()\u001b[39m    masks \u001b[34mdata.table\u001b[39m::week()\n",
      "\u001b[31m✖\u001b[39m \u001b[34mlubridate\u001b[39m::\u001b[32myday()\u001b[39m    masks \u001b[34mdata.table\u001b[39m::yday()\n",
      "\u001b[31m✖\u001b[39m \u001b[34mlubridate\u001b[39m::\u001b[32myear()\u001b[39m    masks \u001b[34mdata.table\u001b[39m::year()\n",
      "\u001b[36mℹ\u001b[39m Use the conflicted package (\u001b[3m\u001b[34m<http://conflicted.r-lib.org/>\u001b[39m\u001b[23m) to force all conflicts to become errors\n"
     ]
    }
   ],
   "source": [
    "library(data.table)\n",
    "library(tidyverse)\n",
    "library(fastmap)"
   ]
  },
  {
   "cell_type": "code",
   "execution_count": 2,
   "metadata": {
    "vscode": {
     "languageId": "r"
    }
   },
   "outputs": [],
   "source": [
    "setwd(\"/staging/leuven/stg_00096/home/rcools/singularity_and_git/signature.tools.lib/\")"
   ]
  },
  {
   "cell_type": "code",
   "execution_count": 3,
   "metadata": {
    "vscode": {
     "languageId": "r"
    }
   },
   "outputs": [],
   "source": [
    "library(signature.tools.lib)"
   ]
  },
  {
   "cell_type": "code",
   "execution_count": 35,
   "metadata": {
    "vscode": {
     "languageId": "r"
    }
   },
   "outputs": [],
   "source": [
    "tmp_vcf<-readLines(\"/staging/leuven/stg_00096/home/projects/2023_Cools_B-ALL/FINAL_DNA_ANALYSIS/new_Variant_calling/Severus_TO_2/somatic_SVs/severus_somatic.vcf\")\n",
    "tmp_vcf_data<-read.table(\"/staging/leuven/stg_00096/home/projects/2023_Cools_B-ALL/FINAL_DNA_ANALYSIS/new_Variant_calling/Severus_TO_2/somatic_SVs/severus_somatic.vcf\", stringsAsFactors = FALSE)"
   ]
  },
  {
   "cell_type": "code",
   "execution_count": 36,
   "metadata": {
    "vscode": {
     "languageId": "r"
    }
   },
   "outputs": [
    {
     "data": {
      "text/html": [
       "<table class=\"dataframe\">\n",
       "<caption>A data.frame: 1 × 13</caption>\n",
       "<thead>\n",
       "\t<tr><th></th><th scope=col>#CHROM</th><th scope=col>POS</th><th scope=col>ID</th><th scope=col>REF</th><th scope=col>ALT</th><th scope=col>QUAL</th><th scope=col>FILTER</th><th scope=col>INFO</th><th scope=col>FORMAT</th><th scope=col>tagged_bam_D0_prefix</th><th scope=col>tagged_bam_Q1_prefix</th><th scope=col>tagged_bam_Q2_prefix</th><th scope=col>tagged_bam_Q3_prefix</th></tr>\n",
       "\t<tr><th></th><th scope=col>&lt;chr&gt;</th><th scope=col>&lt;int&gt;</th><th scope=col>&lt;chr&gt;</th><th scope=col>&lt;chr&gt;</th><th scope=col>&lt;chr&gt;</th><th scope=col>&lt;dbl&gt;</th><th scope=col>&lt;chr&gt;</th><th scope=col>&lt;chr&gt;</th><th scope=col>&lt;chr&gt;</th><th scope=col>&lt;chr&gt;</th><th scope=col>&lt;chr&gt;</th><th scope=col>&lt;chr&gt;</th><th scope=col>&lt;chr&gt;</th></tr>\n",
       "</thead>\n",
       "<tbody>\n",
       "\t<tr><th scope=row>1</th><td>chr1</td><td>986975</td><td>severus_DEL4</td><td>N</td><td>&lt;DEL&gt;</td><td>60</td><td>PASS</td><td>PRECISE;SVTYPE=DEL;SVLEN=508;END=987483;STRANDS=+-;INSIDE_VNTR=TRUE;DETAILED_TYPE=DEL;MAPQ=60.0</td><td>GT:GQ:VAF:hVAF:DR:DV</td><td>0/0:792:0.10:0.11,0.00,0.00:70:8</td><td>0/0:664:0.12:0.12,0.00,0.00:60:8</td><td>0/1:256:0.29:0.00,0.83,0.50:29:12</td><td>0/0:549:0.04:0.05,0.00,0.00:45:2</td></tr>\n",
       "</tbody>\n",
       "</table>\n"
      ],
      "text/latex": [
       "A data.frame: 1 × 13\n",
       "\\begin{tabular}{r|lllllllllllll}\n",
       "  & \\#CHROM & POS & ID & REF & ALT & QUAL & FILTER & INFO & FORMAT & tagged\\_bam\\_D0\\_prefix & tagged\\_bam\\_Q1\\_prefix & tagged\\_bam\\_Q2\\_prefix & tagged\\_bam\\_Q3\\_prefix\\\\\n",
       "  & <chr> & <int> & <chr> & <chr> & <chr> & <dbl> & <chr> & <chr> & <chr> & <chr> & <chr> & <chr> & <chr>\\\\\n",
       "\\hline\n",
       "\t1 & chr1 & 986975 & severus\\_DEL4 & N & <DEL> & 60 & PASS & PRECISE;SVTYPE=DEL;SVLEN=508;END=987483;STRANDS=+-;INSIDE\\_VNTR=TRUE;DETAILED\\_TYPE=DEL;MAPQ=60.0 & GT:GQ:VAF:hVAF:DR:DV & 0/0:792:0.10:0.11,0.00,0.00:70:8 & 0/0:664:0.12:0.12,0.00,0.00:60:8 & 0/1:256:0.29:0.00,0.83,0.50:29:12 & 0/0:549:0.04:0.05,0.00,0.00:45:2\\\\\n",
       "\\end{tabular}\n"
      ],
      "text/markdown": [
       "\n",
       "A data.frame: 1 × 13\n",
       "\n",
       "| <!--/--> | #CHROM &lt;chr&gt; | POS &lt;int&gt; | ID &lt;chr&gt; | REF &lt;chr&gt; | ALT &lt;chr&gt; | QUAL &lt;dbl&gt; | FILTER &lt;chr&gt; | INFO &lt;chr&gt; | FORMAT &lt;chr&gt; | tagged_bam_D0_prefix &lt;chr&gt; | tagged_bam_Q1_prefix &lt;chr&gt; | tagged_bam_Q2_prefix &lt;chr&gt; | tagged_bam_Q3_prefix &lt;chr&gt; |\n",
       "|---|---|---|---|---|---|---|---|---|---|---|---|---|---|\n",
       "| 1 | chr1 | 986975 | severus_DEL4 | N | &lt;DEL&gt; | 60 | PASS | PRECISE;SVTYPE=DEL;SVLEN=508;END=987483;STRANDS=+-;INSIDE_VNTR=TRUE;DETAILED_TYPE=DEL;MAPQ=60.0 | GT:GQ:VAF:hVAF:DR:DV | 0/0:792:0.10:0.11,0.00,0.00:70:8 | 0/0:664:0.12:0.12,0.00,0.00:60:8 | 0/1:256:0.29:0.00,0.83,0.50:29:12 | 0/0:549:0.04:0.05,0.00,0.00:45:2 |\n",
       "\n"
      ],
      "text/plain": [
       "  #CHROM POS    ID           REF ALT   QUAL FILTER\n",
       "1 chr1   986975 severus_DEL4 N   <DEL> 60   PASS  \n",
       "  INFO                                                                                           \n",
       "1 PRECISE;SVTYPE=DEL;SVLEN=508;END=987483;STRANDS=+-;INSIDE_VNTR=TRUE;DETAILED_TYPE=DEL;MAPQ=60.0\n",
       "  FORMAT               tagged_bam_D0_prefix            \n",
       "1 GT:GQ:VAF:hVAF:DR:DV 0/0:792:0.10:0.11,0.00,0.00:70:8\n",
       "  tagged_bam_Q1_prefix             tagged_bam_Q2_prefix             \n",
       "1 0/0:664:0.12:0.12,0.00,0.00:60:8 0/1:256:0.29:0.00,0.83,0.50:29:12\n",
       "  tagged_bam_Q3_prefix            \n",
       "1 0/0:549:0.04:0.05,0.00,0.00:45:2"
      ]
     },
     "metadata": {},
     "output_type": "display_data"
    }
   ],
   "source": [
    "# filter for the columns names\n",
    "tmp_vcf<-tmp_vcf[-(grep(\"#CHROM\",tmp_vcf)+1):-(length(tmp_vcf))]\n",
    "vcf_names<-unlist(strsplit(tmp_vcf[length(tmp_vcf)],\"\\t\"))\n",
    "names(tmp_vcf_data)<-vcf_names\n",
    "\n",
    "head(tmp_vcf_data,1)"
   ]
  },
  {
   "cell_type": "code",
   "execution_count": 37,
   "metadata": {
    "vscode": {
     "languageId": "r"
    }
   },
   "outputs": [
    {
     "name": "stderr",
     "output_type": "stream",
     "text": [
      "Warning message:\n",
      "“\u001b[1m\u001b[22mExpected 5 pieces. Additional pieces discarded in 1296 rows [1, 2, 3, 4, 5, 6,\n",
      "7, 8, 9, 10, 11, 12, 13, 14, 15, 16, 17, 18, 19, 20, ...].”\n",
      "Warning message:\n",
      "“\u001b[1m\u001b[22mExpected 5 pieces. Missing pieces filled with `NA` in 48 rows [84, 94, 101,\n",
      "110, 120, 137, 181, 183, 191, 208, 214, 228, 305, 322, 323, 353, 375, 446, 472,\n",
      "482, ...].”\n",
      "Warning message:\n",
      "“\u001b[1m\u001b[22mExpected 5 pieces. Additional pieces discarded in 1296 rows [1, 2, 3, 4, 5, 6,\n",
      "7, 8, 9, 10, 11, 12, 13, 14, 15, 16, 17, 18, 19, 20, ...].”\n",
      "Warning message:\n",
      "“\u001b[1m\u001b[22mExpected 5 pieces. Missing pieces filled with `NA` in 48 rows [84, 94, 101,\n",
      "110, 120, 137, 181, 183, 191, 208, 214, 228, 305, 322, 323, 353, 375, 446, 472,\n",
      "482, ...].”\n",
      "Warning message:\n",
      "“\u001b[1m\u001b[22mExpected 5 pieces. Additional pieces discarded in 1296 rows [1, 2, 3, 4, 5, 6,\n",
      "7, 8, 9, 10, 11, 12, 13, 14, 15, 16, 17, 18, 19, 20, ...].”\n",
      "Warning message:\n",
      "“\u001b[1m\u001b[22mExpected 5 pieces. Missing pieces filled with `NA` in 48 rows [84, 94, 101,\n",
      "110, 120, 137, 181, 183, 191, 208, 214, 228, 305, 322, 323, 353, 375, 446, 472,\n",
      "482, ...].”\n",
      "Warning message:\n",
      "“\u001b[1m\u001b[22mExpected 5 pieces. Additional pieces discarded in 1296 rows [1, 2, 3, 4, 5, 6,\n",
      "7, 8, 9, 10, 11, 12, 13, 14, 15, 16, 17, 18, 19, 20, ...].”\n",
      "Warning message:\n",
      "“\u001b[1m\u001b[22mExpected 5 pieces. Missing pieces filled with `NA` in 48 rows [84, 94, 101,\n",
      "110, 120, 137, 181, 183, 191, 208, 214, 228, 305, 322, 323, 353, 375, 446, 472,\n",
      "482, ...].”\n"
     ]
    }
   ],
   "source": [
    "library(dplyr)\n",
    "library(tidyr)\n",
    "library(stringr)\n",
    "\n",
    "D0 <- tmp_vcf_data %>%\n",
    "  select(-tagged_bam_Q2_prefix, -tagged_bam_Q3_prefix, -tagged_bam_Q1_prefix) %>%\n",
    "  separate(tagged_bam_D0_prefix, into = c(\"GT\", \"GQ\", \"VAF_0\", \"hVAF\", \"DR\", \"DV\"), sep = \":\") %>%\n",
    "  separate(INFO, into = c(\"V1\", \"SVTYPE\", \"SVLEN\", \"END\", \"else\"), sep = \";\") %>%\n",
    "  mutate(\n",
    "    SVTYPE = str_remove(SVTYPE, \"^SVTYPE=\"),\n",
    "    SVLEN = str_remove(SVLEN, \"^SVLEN=\"),\n",
    "    END = str_remove(END, \"^END=\")\n",
    "  )\n",
    "\n",
    "Q1 <- tmp_vcf_data %>%\n",
    "  select(-tagged_bam_Q2_prefix, -tagged_bam_Q3_prefix, -tagged_bam_D0_prefix) %>%\n",
    "  separate(tagged_bam_Q1_prefix, into = c(\"GT\", \"GQ\", \"VAF_0\", \"hVAF\", \"DR\", \"DV\"), sep = \":\") %>%\n",
    "  separate(INFO, into = c(\"V1\", \"SVTYPE\", \"SVLEN\", \"END\", \"else\"), sep = \";\") %>%\n",
    "  mutate(\n",
    "    SVTYPE = str_remove(SVTYPE, \"^SVTYPE=\"),\n",
    "    SVLEN = str_remove(SVLEN, \"^SVLEN=\"),\n",
    "    END = str_remove(END, \"^END=\")\n",
    "  )\n",
    "\n",
    "Q2 <- tmp_vcf_data %>%\n",
    "  select(-tagged_bam_Q1_prefix, -tagged_bam_Q3_prefix, -tagged_bam_D0_prefix) %>%\n",
    "  separate(tagged_bam_Q2_prefix, into = c(\"GT\", \"GQ\", \"VAF_0\", \"hVAF\", \"DR\", \"DV\"), sep = \":\") %>%\n",
    "  separate(INFO, into = c(\"V1\", \"SVTYPE\", \"SVLEN\", \"END\", \"else\"), sep = \";\") %>%\n",
    "  mutate(\n",
    "    SVTYPE = str_remove(SVTYPE, \"^SVTYPE=\"),\n",
    "    SVLEN = str_remove(SVLEN, \"^SVLEN=\"),\n",
    "    END = str_remove(END, \"^END=\")\n",
    "  )\n",
    "\n",
    "Q3 <- tmp_vcf_data %>%\n",
    "  select(-tagged_bam_Q1_prefix, -tagged_bam_Q2_prefix, -tagged_bam_D0_prefix) %>%\n",
    "  separate(tagged_bam_Q3_prefix, into = c(\"GT\", \"GQ\", \"VAF_0\", \"hVAF\", \"DR\", \"DV\"), sep = \":\") %>%\n",
    "  separate(INFO, into = c(\"V1\", \"SVTYPE\", \"SVLEN\", \"END\", \"else\"), sep = \";\") %>%\n",
    "  mutate(\n",
    "    SVTYPE = str_remove(SVTYPE, \"^SVTYPE=\"),\n",
    "    SVLEN = str_remove(SVLEN, \"^SVLEN=\"),\n",
    "    END = str_remove(END, \"^END=\")\n",
    "  )\n",
    "\n"
   ]
  },
  {
   "cell_type": "code",
   "execution_count": null,
   "metadata": {
    "vscode": {
     "languageId": "r"
    }
   },
   "outputs": [],
   "source": [
    "head(Q2,15)"
   ]
  },
  {
   "cell_type": "code",
   "execution_count": 39,
   "metadata": {
    "vscode": {
     "languageId": "r"
    }
   },
   "outputs": [],
   "source": [
    "chr <- c(paste0(\"chr\", 1:22), \"chrX\")\n",
    "\n",
    "filtered_list<- list(D0,Q1,Q2,Q3)\n",
    "\n",
    "Q1$CHROM <- Q1$'#CHROM'\n",
    "D0$CHROM <- D0$'#CHROM'\n",
    "Q2$CHROM <- Q2$'#CHROM'\n",
    "Q3$CHROM <- Q3$'#CHROM'"
   ]
  },
  {
   "cell_type": "code",
   "execution_count": 40,
   "metadata": {
    "vscode": {
     "languageId": "r"
    }
   },
   "outputs": [],
   "source": [
    "setwd(\"/staging/leuven/stg_00096/home/projects/2023_Cools_B-ALL/FINAL_DNA_ANALYSIS/new_Variant_calling/Severus_TO_2/somatic_SVs/plots\")"
   ]
  },
  {
   "cell_type": "code",
   "execution_count": 41,
   "metadata": {
    "vscode": {
     "languageId": "r"
    }
   },
   "outputs": [],
   "source": [
    "process_svtype <- function(df) {\n",
    "  \n",
    "  df <- df %>% filter(GT != \"0\")  # Filter rows where GT is not \"0\"\n",
    "  \n",
    "  # Handle BND rows\n",
    "  bnd_df <- df %>% \n",
    "    filter(SVTYPE == \"BND\") %>%\n",
    "    mutate(\n",
    "      ALT_clean = ALT %>% \n",
    "        str_replace_all(\"N\", \"\") %>% \n",
    "        str_replace_all(\"\\\\[\", \"\") %>% \n",
    "        str_replace_all(\"\\\\]\", \"\")\n",
    "    ) %>%\n",
    "    separate(ALT_clean, into = c(\"chrom2\", \"start2\"), sep = \":\") %>%\n",
    "    mutate(\n",
    "      svclass = \"translocation\",\n",
    "      chrom1 = CHROM,\n",
    "      start1 = as.numeric(POS),\n",
    "      start2 = as.numeric(start2),\n",
    "      end1 = start1 + 1,\n",
    "      end2 = start2 + 1\n",
    "    ) %>%\n",
    "    select(chrom1, start1, end1, chrom2, start2, end2, svclass)\n",
    "  \n",
    "  # Handle other SVTYPEs\n",
    "  other_df <- df %>% \n",
    "    filter(SVTYPE != \"BND\") %>%\n",
    "    mutate(\n",
    "      chrom1 = CHROM,\n",
    "      start1 = as.numeric(POS),\n",
    "      chrom2 = CHROM,\n",
    "      start2 = case_when(\n",
    "        SVTYPE == \"DEL\" ~ as.numeric(END),\n",
    "        SVTYPE == \"INS\" ~ as.numeric(POS) + as.numeric(SVLEN),\n",
    "        SVTYPE %in% c(\"DUP\", \"INV\") ~ as.numeric(END),\n",
    "        TRUE ~ NA_real_\n",
    "      ),\n",
    "      end1 = start1 + 1,\n",
    "      end2 = start2 + 1,\n",
    "      svclass = case_when(\n",
    "        SVTYPE == \"DEL\" ~ \"DEL\",\n",
    "        SVTYPE == \"INS\" ~ \"INS\",\n",
    "        SVTYPE == \"DUP\" ~ \"DUP\",\n",
    "        SVTYPE == \"INV\" ~ \"INV\",\n",
    "        TRUE ~ NA_character_\n",
    "      )\n",
    "    ) %>%\n",
    "    select(chrom1, start1, end1, chrom2, start2, end2, svclass) %>%\n",
    "    filter(!is.na(svclass))\n",
    "  \n",
    "  bind_rows(bnd_df, other_df)\n",
    "}\n",
    "\n",
    "  "
   ]
  },
  {
   "cell_type": "markdown",
   "metadata": {},
   "source": [
    "# change for every sample"
   ]
  },
  {
   "cell_type": "code",
   "execution_count": 111,
   "metadata": {
    "vscode": {
     "languageId": "r"
    }
   },
   "outputs": [
    {
     "name": "stderr",
     "output_type": "stream",
     "text": [
      "Warning message:\n",
      "“\u001b[1m\u001b[22mThere were 2 warnings in `mutate()`.\n",
      "The first warning was:\n",
      "\u001b[1m\u001b[22m\u001b[36mℹ\u001b[39m In argument: `start2 = case_when(...)`.\n",
      "Caused by warning:\n",
      "\u001b[33m!\u001b[39m NAs introduced by coercion\n",
      "\u001b[1m\u001b[22m\u001b[36mℹ\u001b[39m Run `dplyr::last_dplyr_warnings()` to see the 1 remaining warning.”\n"
     ]
    }
   ],
   "source": [
    "##################\n",
    "################\n",
    "test <- process_svtype(Q3)\n",
    "sample <-\"Q3\""
   ]
  },
  {
   "cell_type": "markdown",
   "metadata": {},
   "source": [
    "#Change for every sample:"
   ]
  },
  {
   "cell_type": "code",
   "execution_count": 112,
   "metadata": {
    "vscode": {
     "languageId": "r"
    }
   },
   "outputs": [
    {
     "data": {
      "text/html": [
       "1184"
      ],
      "text/latex": [
       "1184"
      ],
      "text/markdown": [
       "1184"
      ],
      "text/plain": [
       "[1] 1184"
      ]
     },
     "metadata": {},
     "output_type": "display_data"
    }
   ],
   "source": [
    "nrow(test)"
   ]
  },
  {
   "cell_type": "code",
   "execution_count": 113,
   "metadata": {
    "vscode": {
     "languageId": "r"
    }
   },
   "outputs": [
    {
     "data": {
      "text/html": [
       "<table class=\"dataframe\">\n",
       "<caption>A data.frame: 6 × 7</caption>\n",
       "<thead>\n",
       "\t<tr><th></th><th scope=col>chrom1</th><th scope=col>start1</th><th scope=col>end1</th><th scope=col>chrom2</th><th scope=col>start2</th><th scope=col>end2</th><th scope=col>svclass</th></tr>\n",
       "\t<tr><th></th><th scope=col>&lt;chr&gt;</th><th scope=col>&lt;dbl&gt;</th><th scope=col>&lt;dbl&gt;</th><th scope=col>&lt;chr&gt;</th><th scope=col>&lt;dbl&gt;</th><th scope=col>&lt;dbl&gt;</th><th scope=col>&lt;chr&gt;</th></tr>\n",
       "</thead>\n",
       "<tbody>\n",
       "\t<tr><th scope=row>1179</th><td>chrX</td><td>130088172</td><td>130088173</td><td>chrX</td><td>130088658</td><td>130088659</td><td>DEL</td></tr>\n",
       "\t<tr><th scope=row>1180</th><td>chrX</td><td>134905216</td><td>134905217</td><td>chrX</td><td>134906330</td><td>134906331</td><td>DEL</td></tr>\n",
       "\t<tr><th scope=row>1181</th><td>chrX</td><td>136948857</td><td>136948858</td><td>chrX</td><td>136950072</td><td>136950073</td><td>DEL</td></tr>\n",
       "\t<tr><th scope=row>1182</th><td>chrX</td><td>148314271</td><td>148314272</td><td>chrX</td><td>148315125</td><td>148315126</td><td>DEL</td></tr>\n",
       "\t<tr><th scope=row>1183</th><td>chrX</td><td>154391454</td><td>154391455</td><td>chrX</td><td>154391871</td><td>154391872</td><td>DEL</td></tr>\n",
       "\t<tr><th scope=row>1184</th><td>chrX</td><td>154795662</td><td>154795663</td><td>chrX</td><td>154796946</td><td>154796947</td><td>DEL</td></tr>\n",
       "</tbody>\n",
       "</table>\n"
      ],
      "text/latex": [
       "A data.frame: 6 × 7\n",
       "\\begin{tabular}{r|lllllll}\n",
       "  & chrom1 & start1 & end1 & chrom2 & start2 & end2 & svclass\\\\\n",
       "  & <chr> & <dbl> & <dbl> & <chr> & <dbl> & <dbl> & <chr>\\\\\n",
       "\\hline\n",
       "\t1179 & chrX & 130088172 & 130088173 & chrX & 130088658 & 130088659 & DEL\\\\\n",
       "\t1180 & chrX & 134905216 & 134905217 & chrX & 134906330 & 134906331 & DEL\\\\\n",
       "\t1181 & chrX & 136948857 & 136948858 & chrX & 136950072 & 136950073 & DEL\\\\\n",
       "\t1182 & chrX & 148314271 & 148314272 & chrX & 148315125 & 148315126 & DEL\\\\\n",
       "\t1183 & chrX & 154391454 & 154391455 & chrX & 154391871 & 154391872 & DEL\\\\\n",
       "\t1184 & chrX & 154795662 & 154795663 & chrX & 154796946 & 154796947 & DEL\\\\\n",
       "\\end{tabular}\n"
      ],
      "text/markdown": [
       "\n",
       "A data.frame: 6 × 7\n",
       "\n",
       "| <!--/--> | chrom1 &lt;chr&gt; | start1 &lt;dbl&gt; | end1 &lt;dbl&gt; | chrom2 &lt;chr&gt; | start2 &lt;dbl&gt; | end2 &lt;dbl&gt; | svclass &lt;chr&gt; |\n",
       "|---|---|---|---|---|---|---|---|\n",
       "| 1179 | chrX | 130088172 | 130088173 | chrX | 130088658 | 130088659 | DEL |\n",
       "| 1180 | chrX | 134905216 | 134905217 | chrX | 134906330 | 134906331 | DEL |\n",
       "| 1181 | chrX | 136948857 | 136948858 | chrX | 136950072 | 136950073 | DEL |\n",
       "| 1182 | chrX | 148314271 | 148314272 | chrX | 148315125 | 148315126 | DEL |\n",
       "| 1183 | chrX | 154391454 | 154391455 | chrX | 154391871 | 154391872 | DEL |\n",
       "| 1184 | chrX | 154795662 | 154795663 | chrX | 154796946 | 154796947 | DEL |\n",
       "\n"
      ],
      "text/plain": [
       "     chrom1 start1    end1      chrom2 start2    end2      svclass\n",
       "1179 chrX   130088172 130088173 chrX   130088658 130088659 DEL    \n",
       "1180 chrX   134905216 134905217 chrX   134906330 134906331 DEL    \n",
       "1181 chrX   136948857 136948858 chrX   136950072 136950073 DEL    \n",
       "1182 chrX   148314271 148314272 chrX   148315125 148315126 DEL    \n",
       "1183 chrX   154391454 154391455 chrX   154391871 154391872 DEL    \n",
       "1184 chrX   154795662 154795663 chrX   154796946 154796947 DEL    "
      ]
     },
     "metadata": {},
     "output_type": "display_data"
    }
   ],
   "source": [
    "tail(test)"
   ]
  },
  {
   "cell_type": "code",
   "execution_count": 114,
   "metadata": {
    "vscode": {
     "languageId": "r"
    }
   },
   "outputs": [],
   "source": [
    "valid_chroms <- paste0(\"chr\", c(1:22, \"X\", \"Y\"))\n",
    "\n",
    "# Filter sv_bedpe to include only links between valid chromosomes\n",
    "test <- test %>%\n",
    "  dplyr::filter(chrom1 %in% valid_chroms & chrom2 %in% valid_chroms)"
   ]
  },
  {
   "cell_type": "code",
   "execution_count": 115,
   "metadata": {
    "vscode": {
     "languageId": "r"
    }
   },
   "outputs": [
    {
     "data": {
      "text/html": [
       "<style>\n",
       ".list-inline {list-style: none; margin:0; padding: 0}\n",
       ".list-inline>li {display: inline-block}\n",
       ".list-inline>li:not(:last-child)::after {content: \"\\00b7\"; padding: 0 .5ex}\n",
       "</style>\n",
       "<ol class=list-inline><li>'chr2'</li><li>'chr3'</li><li>'chr8'</li><li>'chr14'</li><li>'chr5'</li><li>'chr7'</li><li>'chr9'</li><li>'chr10'</li><li>'chr11'</li><li>'chr17'</li><li>'chr12'</li><li>'chr16'</li><li>'chrX'</li><li>'chr20'</li><li>'chr1'</li><li>'chr4'</li><li>'chr6'</li><li>'chr13'</li><li>'chr15'</li><li>'chr18'</li><li>'chr19'</li><li>'chr21'</li><li>'chr22'</li></ol>\n"
      ],
      "text/latex": [
       "\\begin{enumerate*}\n",
       "\\item 'chr2'\n",
       "\\item 'chr3'\n",
       "\\item 'chr8'\n",
       "\\item 'chr14'\n",
       "\\item 'chr5'\n",
       "\\item 'chr7'\n",
       "\\item 'chr9'\n",
       "\\item 'chr10'\n",
       "\\item 'chr11'\n",
       "\\item 'chr17'\n",
       "\\item 'chr12'\n",
       "\\item 'chr16'\n",
       "\\item 'chrX'\n",
       "\\item 'chr20'\n",
       "\\item 'chr1'\n",
       "\\item 'chr4'\n",
       "\\item 'chr6'\n",
       "\\item 'chr13'\n",
       "\\item 'chr15'\n",
       "\\item 'chr18'\n",
       "\\item 'chr19'\n",
       "\\item 'chr21'\n",
       "\\item 'chr22'\n",
       "\\end{enumerate*}\n"
      ],
      "text/markdown": [
       "1. 'chr2'\n",
       "2. 'chr3'\n",
       "3. 'chr8'\n",
       "4. 'chr14'\n",
       "5. 'chr5'\n",
       "6. 'chr7'\n",
       "7. 'chr9'\n",
       "8. 'chr10'\n",
       "9. 'chr11'\n",
       "10. 'chr17'\n",
       "11. 'chr12'\n",
       "12. 'chr16'\n",
       "13. 'chrX'\n",
       "14. 'chr20'\n",
       "15. 'chr1'\n",
       "16. 'chr4'\n",
       "17. 'chr6'\n",
       "18. 'chr13'\n",
       "19. 'chr15'\n",
       "20. 'chr18'\n",
       "21. 'chr19'\n",
       "22. 'chr21'\n",
       "23. 'chr22'\n",
       "\n",
       "\n"
      ],
      "text/plain": [
       " [1] \"chr2\"  \"chr3\"  \"chr8\"  \"chr14\" \"chr5\"  \"chr7\"  \"chr9\"  \"chr10\" \"chr11\"\n",
       "[10] \"chr17\" \"chr12\" \"chr16\" \"chrX\"  \"chr20\" \"chr1\"  \"chr4\"  \"chr6\"  \"chr13\"\n",
       "[19] \"chr15\" \"chr18\" \"chr19\" \"chr21\" \"chr22\""
      ]
     },
     "metadata": {},
     "output_type": "display_data"
    }
   ],
   "source": [
    "unique(test$chrom2)"
   ]
  },
  {
   "cell_type": "code",
   "execution_count": 116,
   "metadata": {
    "vscode": {
     "languageId": "r"
    }
   },
   "outputs": [],
   "source": [
    "test$sample <- sample"
   ]
  },
  {
   "cell_type": "code",
   "execution_count": 117,
   "metadata": {
    "vscode": {
     "languageId": "r"
    }
   },
   "outputs": [],
   "source": [
    "test <- test %>% \n",
    "  filter(!(svclass == \"translocation\" & chrom1 == chrom2))"
   ]
  },
  {
   "cell_type": "code",
   "execution_count": 119,
   "metadata": {
    "vscode": {
     "languageId": "r"
    }
   },
   "outputs": [],
   "source": [
    "write.table(test, \n",
    "            file = paste0(\"output_\",sample,\"_filter.bed\"), \n",
    "            sep = \"\\t\", \n",
    "            quote = FALSE, \n",
    "            row.names = FALSE, \n",
    "            col.names = TRUE)"
   ]
  },
  {
   "cell_type": "code",
   "execution_count": 120,
   "metadata": {
    "vscode": {
     "languageId": "r"
    }
   },
   "outputs": [],
   "source": [
    "#Copy number file\n",
    "ascat <- fread(paste0(\"/staging/leuven/stg_00096/home/projects/2023_Cools_B-ALL/FINAL_DNA_ANALYSIS/new_Variant_calling/ASCAT_replot/\",sample,\"/\",sample,\".segments.txt\"))"
   ]
  },
  {
   "cell_type": "code",
   "execution_count": 121,
   "metadata": {
    "vscode": {
     "languageId": "r"
    }
   },
   "outputs": [
    {
     "data": {
      "text/html": [
       "<table class=\"dataframe\">\n",
       "<caption>A data.table: 6 × 6</caption>\n",
       "<thead>\n",
       "\t<tr><th scope=col>sample</th><th scope=col>chr</th><th scope=col>startpos</th><th scope=col>endpos</th><th scope=col>nMajor</th><th scope=col>nMinor</th></tr>\n",
       "\t<tr><th scope=col>&lt;chr&gt;</th><th scope=col>&lt;chr&gt;</th><th scope=col>&lt;int&gt;</th><th scope=col>&lt;int&gt;</th><th scope=col>&lt;int&gt;</th><th scope=col>&lt;int&gt;</th></tr>\n",
       "</thead>\n",
       "<tbody>\n",
       "\t<tr><td>Q3</td><td>1</td><td>  809641</td><td>54073027</td><td>1</td><td>1</td></tr>\n",
       "\t<tr><td>Q3</td><td>1</td><td>54077129</td><td>54859815</td><td>1</td><td>0</td></tr>\n",
       "\t<tr><td>Q3</td><td>1</td><td>54860467</td><td>55023987</td><td>0</td><td>0</td></tr>\n",
       "\t<tr><td>Q3</td><td>1</td><td>55034267</td><td>83757485</td><td>1</td><td>1</td></tr>\n",
       "\t<tr><td>Q3</td><td>1</td><td>83760556</td><td>84677969</td><td>1</td><td>0</td></tr>\n",
       "\t<tr><td>Q3</td><td>1</td><td>84681961</td><td>94739712</td><td>1</td><td>1</td></tr>\n",
       "</tbody>\n",
       "</table>\n"
      ],
      "text/latex": [
       "A data.table: 6 × 6\n",
       "\\begin{tabular}{llllll}\n",
       " sample & chr & startpos & endpos & nMajor & nMinor\\\\\n",
       " <chr> & <chr> & <int> & <int> & <int> & <int>\\\\\n",
       "\\hline\n",
       "\t Q3 & 1 &   809641 & 54073027 & 1 & 1\\\\\n",
       "\t Q3 & 1 & 54077129 & 54859815 & 1 & 0\\\\\n",
       "\t Q3 & 1 & 54860467 & 55023987 & 0 & 0\\\\\n",
       "\t Q3 & 1 & 55034267 & 83757485 & 1 & 1\\\\\n",
       "\t Q3 & 1 & 83760556 & 84677969 & 1 & 0\\\\\n",
       "\t Q3 & 1 & 84681961 & 94739712 & 1 & 1\\\\\n",
       "\\end{tabular}\n"
      ],
      "text/markdown": [
       "\n",
       "A data.table: 6 × 6\n",
       "\n",
       "| sample &lt;chr&gt; | chr &lt;chr&gt; | startpos &lt;int&gt; | endpos &lt;int&gt; | nMajor &lt;int&gt; | nMinor &lt;int&gt; |\n",
       "|---|---|---|---|---|---|\n",
       "| Q3 | 1 |   809641 | 54073027 | 1 | 1 |\n",
       "| Q3 | 1 | 54077129 | 54859815 | 1 | 0 |\n",
       "| Q3 | 1 | 54860467 | 55023987 | 0 | 0 |\n",
       "| Q3 | 1 | 55034267 | 83757485 | 1 | 1 |\n",
       "| Q3 | 1 | 83760556 | 84677969 | 1 | 0 |\n",
       "| Q3 | 1 | 84681961 | 94739712 | 1 | 1 |\n",
       "\n"
      ],
      "text/plain": [
       "  sample chr startpos endpos   nMajor nMinor\n",
       "1 Q3     1     809641 54073027 1      1     \n",
       "2 Q3     1   54077129 54859815 1      0     \n",
       "3 Q3     1   54860467 55023987 0      0     \n",
       "4 Q3     1   55034267 83757485 1      1     \n",
       "5 Q3     1   83760556 84677969 1      0     \n",
       "6 Q3     1   84681961 94739712 1      1     "
      ]
     },
     "metadata": {},
     "output_type": "display_data"
    }
   ],
   "source": [
    "head(ascat)"
   ]
  },
  {
   "cell_type": "code",
   "execution_count": 122,
   "metadata": {
    "vscode": {
     "languageId": "r"
    }
   },
   "outputs": [],
   "source": [
    "#Plus 65 for plottig purposes -> so we plot gains woth the najor allele without a gradient\n",
    "ascat$total.copy.number.inNormal <- 2\n",
    "ascat$minor.copy.number.inNormal <- 1\n",
    "ascat$minor.copy.number.inTumour <- ascat$nMinor\n",
    "ascat$total.copy.number.inTumour <- ifelse(\n",
    "  ascat$nMajor == 1 |ascat$nMajor == 0 ,\n",
    "  ascat$nMajor + ascat$nMinor,\n",
    "  65\n",
    ")\n",
    "ascat$Chromosome <- ascat$chr\n",
    "ascat$chromStart <- ascat$startpos\n",
    "ascat$chromEnd <- ascat$endpos\n",
    "ascat$seg_no <- row.names(ascat)\n"
   ]
  },
  {
   "cell_type": "code",
   "execution_count": 123,
   "metadata": {
    "vscode": {
     "languageId": "r"
    }
   },
   "outputs": [
    {
     "data": {
      "text/html": [
       "<table class=\"dataframe\">\n",
       "<caption>A data.table: 6 × 14</caption>\n",
       "<thead>\n",
       "\t<tr><th scope=col>sample</th><th scope=col>chr</th><th scope=col>startpos</th><th scope=col>endpos</th><th scope=col>nMajor</th><th scope=col>nMinor</th><th scope=col>total.copy.number.inNormal</th><th scope=col>minor.copy.number.inNormal</th><th scope=col>minor.copy.number.inTumour</th><th scope=col>total.copy.number.inTumour</th><th scope=col>Chromosome</th><th scope=col>chromStart</th><th scope=col>chromEnd</th><th scope=col>seg_no</th></tr>\n",
       "\t<tr><th scope=col>&lt;chr&gt;</th><th scope=col>&lt;chr&gt;</th><th scope=col>&lt;int&gt;</th><th scope=col>&lt;int&gt;</th><th scope=col>&lt;int&gt;</th><th scope=col>&lt;int&gt;</th><th scope=col>&lt;dbl&gt;</th><th scope=col>&lt;dbl&gt;</th><th scope=col>&lt;int&gt;</th><th scope=col>&lt;dbl&gt;</th><th scope=col>&lt;chr&gt;</th><th scope=col>&lt;int&gt;</th><th scope=col>&lt;int&gt;</th><th scope=col>&lt;chr&gt;</th></tr>\n",
       "</thead>\n",
       "<tbody>\n",
       "\t<tr><td>Q3</td><td>1</td><td>  809641</td><td>54073027</td><td>1</td><td>1</td><td>2</td><td>1</td><td>1</td><td>2</td><td>1</td><td>  809641</td><td>54073027</td><td>1</td></tr>\n",
       "\t<tr><td>Q3</td><td>1</td><td>54077129</td><td>54859815</td><td>1</td><td>0</td><td>2</td><td>1</td><td>0</td><td>1</td><td>1</td><td>54077129</td><td>54859815</td><td>2</td></tr>\n",
       "\t<tr><td>Q3</td><td>1</td><td>54860467</td><td>55023987</td><td>0</td><td>0</td><td>2</td><td>1</td><td>0</td><td>0</td><td>1</td><td>54860467</td><td>55023987</td><td>3</td></tr>\n",
       "\t<tr><td>Q3</td><td>1</td><td>55034267</td><td>83757485</td><td>1</td><td>1</td><td>2</td><td>1</td><td>1</td><td>2</td><td>1</td><td>55034267</td><td>83757485</td><td>4</td></tr>\n",
       "\t<tr><td>Q3</td><td>1</td><td>83760556</td><td>84677969</td><td>1</td><td>0</td><td>2</td><td>1</td><td>0</td><td>1</td><td>1</td><td>83760556</td><td>84677969</td><td>5</td></tr>\n",
       "\t<tr><td>Q3</td><td>1</td><td>84681961</td><td>94739712</td><td>1</td><td>1</td><td>2</td><td>1</td><td>1</td><td>2</td><td>1</td><td>84681961</td><td>94739712</td><td>6</td></tr>\n",
       "</tbody>\n",
       "</table>\n"
      ],
      "text/latex": [
       "A data.table: 6 × 14\n",
       "\\begin{tabular}{llllllllllllll}\n",
       " sample & chr & startpos & endpos & nMajor & nMinor & total.copy.number.inNormal & minor.copy.number.inNormal & minor.copy.number.inTumour & total.copy.number.inTumour & Chromosome & chromStart & chromEnd & seg\\_no\\\\\n",
       " <chr> & <chr> & <int> & <int> & <int> & <int> & <dbl> & <dbl> & <int> & <dbl> & <chr> & <int> & <int> & <chr>\\\\\n",
       "\\hline\n",
       "\t Q3 & 1 &   809641 & 54073027 & 1 & 1 & 2 & 1 & 1 & 2 & 1 &   809641 & 54073027 & 1\\\\\n",
       "\t Q3 & 1 & 54077129 & 54859815 & 1 & 0 & 2 & 1 & 0 & 1 & 1 & 54077129 & 54859815 & 2\\\\\n",
       "\t Q3 & 1 & 54860467 & 55023987 & 0 & 0 & 2 & 1 & 0 & 0 & 1 & 54860467 & 55023987 & 3\\\\\n",
       "\t Q3 & 1 & 55034267 & 83757485 & 1 & 1 & 2 & 1 & 1 & 2 & 1 & 55034267 & 83757485 & 4\\\\\n",
       "\t Q3 & 1 & 83760556 & 84677969 & 1 & 0 & 2 & 1 & 0 & 1 & 1 & 83760556 & 84677969 & 5\\\\\n",
       "\t Q3 & 1 & 84681961 & 94739712 & 1 & 1 & 2 & 1 & 1 & 2 & 1 & 84681961 & 94739712 & 6\\\\\n",
       "\\end{tabular}\n"
      ],
      "text/markdown": [
       "\n",
       "A data.table: 6 × 14\n",
       "\n",
       "| sample &lt;chr&gt; | chr &lt;chr&gt; | startpos &lt;int&gt; | endpos &lt;int&gt; | nMajor &lt;int&gt; | nMinor &lt;int&gt; | total.copy.number.inNormal &lt;dbl&gt; | minor.copy.number.inNormal &lt;dbl&gt; | minor.copy.number.inTumour &lt;int&gt; | total.copy.number.inTumour &lt;dbl&gt; | Chromosome &lt;chr&gt; | chromStart &lt;int&gt; | chromEnd &lt;int&gt; | seg_no &lt;chr&gt; |\n",
       "|---|---|---|---|---|---|---|---|---|---|---|---|---|---|\n",
       "| Q3 | 1 |   809641 | 54073027 | 1 | 1 | 2 | 1 | 1 | 2 | 1 |   809641 | 54073027 | 1 |\n",
       "| Q3 | 1 | 54077129 | 54859815 | 1 | 0 | 2 | 1 | 0 | 1 | 1 | 54077129 | 54859815 | 2 |\n",
       "| Q3 | 1 | 54860467 | 55023987 | 0 | 0 | 2 | 1 | 0 | 0 | 1 | 54860467 | 55023987 | 3 |\n",
       "| Q3 | 1 | 55034267 | 83757485 | 1 | 1 | 2 | 1 | 1 | 2 | 1 | 55034267 | 83757485 | 4 |\n",
       "| Q3 | 1 | 83760556 | 84677969 | 1 | 0 | 2 | 1 | 0 | 1 | 1 | 83760556 | 84677969 | 5 |\n",
       "| Q3 | 1 | 84681961 | 94739712 | 1 | 1 | 2 | 1 | 1 | 2 | 1 | 84681961 | 94739712 | 6 |\n",
       "\n"
      ],
      "text/plain": [
       "  sample chr startpos endpos   nMajor nMinor total.copy.number.inNormal\n",
       "1 Q3     1     809641 54073027 1      1      2                         \n",
       "2 Q3     1   54077129 54859815 1      0      2                         \n",
       "3 Q3     1   54860467 55023987 0      0      2                         \n",
       "4 Q3     1   55034267 83757485 1      1      2                         \n",
       "5 Q3     1   83760556 84677969 1      0      2                         \n",
       "6 Q3     1   84681961 94739712 1      1      2                         \n",
       "  minor.copy.number.inNormal minor.copy.number.inTumour\n",
       "1 1                          1                         \n",
       "2 1                          0                         \n",
       "3 1                          0                         \n",
       "4 1                          1                         \n",
       "5 1                          0                         \n",
       "6 1                          1                         \n",
       "  total.copy.number.inTumour Chromosome chromStart chromEnd seg_no\n",
       "1 2                          1            809641   54073027 1     \n",
       "2 1                          1          54077129   54859815 2     \n",
       "3 0                          1          54860467   55023987 3     \n",
       "4 2                          1          55034267   83757485 4     \n",
       "5 1                          1          83760556   84677969 5     \n",
       "6 2                          1          84681961   94739712 6     "
      ]
     },
     "metadata": {},
     "output_type": "display_data"
    }
   ],
   "source": [
    "head(ascat)"
   ]
  },
  {
   "cell_type": "code",
   "execution_count": 124,
   "metadata": {
    "vscode": {
     "languageId": "r"
    }
   },
   "outputs": [],
   "source": [
    "write.table(ascat, \n",
    "            file = paste0(\"ascat_\",sample,\".txt\"), \n",
    "            sep = \"\\t\", \n",
    "            quote = FALSE, \n",
    "            row.names = FALSE, \n",
    "            col.names = TRUE)"
   ]
  },
  {
   "cell_type": "code",
   "execution_count": 125,
   "metadata": {
    "vscode": {
     "languageId": "r"
    }
   },
   "outputs": [
    {
     "data": {
      "text/html": [
       "<table class=\"dataframe\">\n",
       "<caption>A data.frame: 1 × 10</caption>\n",
       "<thead>\n",
       "\t<tr><th></th><th scope=col>#CHROM</th><th scope=col>POS</th><th scope=col>ID</th><th scope=col>REF</th><th scope=col>ALT</th><th scope=col>QUAL</th><th scope=col>FILTER</th><th scope=col>INFO</th><th scope=col>FORMAT</th><th scope=col>Q3</th></tr>\n",
       "\t<tr><th></th><th scope=col>&lt;chr&gt;</th><th scope=col>&lt;int&gt;</th><th scope=col>&lt;chr&gt;</th><th scope=col>&lt;chr&gt;</th><th scope=col>&lt;chr&gt;</th><th scope=col>&lt;dbl&gt;</th><th scope=col>&lt;chr&gt;</th><th scope=col>&lt;chr&gt;</th><th scope=col>&lt;chr&gt;</th><th scope=col>&lt;chr&gt;</th></tr>\n",
       "</thead>\n",
       "<tbody>\n",
       "\t<tr><th scope=row>1</th><td>chr1</td><td>617409</td><td>.</td><td>A</td><td>C</td><td>20.6958</td><td>PASS</td><td>FAU=0;FCU=6;FGU=0;FTU=0;RAU=0;RCU=8;RGU=0;RTU=0;SB=1</td><td>GT:GQ:DP:AF:AD:AU:CU:GU:TU</td><td>1/1:20:14:1:0,14:0:14:0:0</td></tr>\n",
       "</tbody>\n",
       "</table>\n"
      ],
      "text/latex": [
       "A data.frame: 1 × 10\n",
       "\\begin{tabular}{r|llllllllll}\n",
       "  & \\#CHROM & POS & ID & REF & ALT & QUAL & FILTER & INFO & FORMAT & Q3\\\\\n",
       "  & <chr> & <int> & <chr> & <chr> & <chr> & <dbl> & <chr> & <chr> & <chr> & <chr>\\\\\n",
       "\\hline\n",
       "\t1 & chr1 & 617409 & . & A & C & 20.6958 & PASS & FAU=0;FCU=6;FGU=0;FTU=0;RAU=0;RCU=8;RGU=0;RTU=0;SB=1 & GT:GQ:DP:AF:AD:AU:CU:GU:TU & 1/1:20:14:1:0,14:0:14:0:0\\\\\n",
       "\\end{tabular}\n"
      ],
      "text/markdown": [
       "\n",
       "A data.frame: 1 × 10\n",
       "\n",
       "| <!--/--> | #CHROM &lt;chr&gt; | POS &lt;int&gt; | ID &lt;chr&gt; | REF &lt;chr&gt; | ALT &lt;chr&gt; | QUAL &lt;dbl&gt; | FILTER &lt;chr&gt; | INFO &lt;chr&gt; | FORMAT &lt;chr&gt; | Q3 &lt;chr&gt; |\n",
       "|---|---|---|---|---|---|---|---|---|---|---|\n",
       "| 1 | chr1 | 617409 | . | A | C | 20.6958 | PASS | FAU=0;FCU=6;FGU=0;FTU=0;RAU=0;RCU=8;RGU=0;RTU=0;SB=1 | GT:GQ:DP:AF:AD:AU:CU:GU:TU | 1/1:20:14:1:0,14:0:14:0:0 |\n",
       "\n"
      ],
      "text/plain": [
       "  #CHROM POS    ID REF ALT QUAL    FILTER\n",
       "1 chr1   617409 .  A   C   20.6958 PASS  \n",
       "  INFO                                                \n",
       "1 FAU=0;FCU=6;FGU=0;FTU=0;RAU=0;RCU=8;RGU=0;RTU=0;SB=1\n",
       "  FORMAT                     Q3                       \n",
       "1 GT:GQ:DP:AF:AD:AU:CU:GU:TU 1/1:20:14:1:0,14:0:14:0:0"
      ]
     },
     "metadata": {},
     "output_type": "display_data"
    }
   ],
   "source": [
    "tmp_vcf_data<-read.table(paste0(\"/staging/leuven/stg_00096/home/projects/2023_Cools_B-ALL/FINAL_DNA_ANALYSIS/new_Variant_calling/CLAIRS_TO/coverage_10/\",sample,\"/filtered.vcf.gz\"), stringsAsFactors = FALSE)\n",
    "tmp_vcf<-readLines(paste0(\"/staging/leuven/stg_00096/home/projects/2023_Cools_B-ALL/FINAL_DNA_ANALYSIS/new_Variant_calling/CLAIRS_TO/coverage_10/\",sample,\"/filtered.vcf.gz\"))\n",
    "\n",
    "# filter for the columns names\n",
    "tmp_vcf<-tmp_vcf[-(grep(\"#CHROM\",tmp_vcf)+1):-(length(tmp_vcf))]\n",
    "vcf_names<-unlist(strsplit(tmp_vcf[length(tmp_vcf)],\"\\t\"))\n",
    "names(tmp_vcf_data)<-vcf_names\n",
    "\n",
    "head(tmp_vcf_data,1)"
   ]
  },
  {
   "cell_type": "code",
   "execution_count": 126,
   "metadata": {
    "vscode": {
     "languageId": "r"
    }
   },
   "outputs": [],
   "source": [
    "tmp_vcf_data$chrom <- tmp_vcf_data$`#CHROM`"
   ]
  },
  {
   "cell_type": "code",
   "execution_count": 127,
   "metadata": {
    "vscode": {
     "languageId": "r"
    }
   },
   "outputs": [],
   "source": [
    "snv <- data.frame( \n",
    "  chr = tmp_vcf_data$chrom, \n",
    "  position = tmp_vcf_data$POS, \n",
    "  REF = tmp_vcf_data$REF, \n",
    "  ALT = tmp_vcf_data$ALT\n",
    ")\n"
   ]
  },
  {
   "cell_type": "code",
   "execution_count": 128,
   "metadata": {
    "vscode": {
     "languageId": "r"
    }
   },
   "outputs": [],
   "source": [
    "write.table(snv, \n",
    "            file = paste0(\"snv_\",sample,\".txt\"), \n",
    "            sep = \"\\t\", \n",
    "            quote = FALSE, \n",
    "            row.names = FALSE, \n",
    "            col.names = TRUE)"
   ]
  },
  {
   "cell_type": "code",
   "execution_count": 129,
   "metadata": {
    "vscode": {
     "languageId": "r"
    }
   },
   "outputs": [
    {
     "data": {
      "text/html": [
       "'/lustre1/project/stg_00096/home/projects/2023_Cools_B-ALL/FINAL_DNA_ANALYSIS/new_Variant_calling/Severus_TO_2/somatic_SVs/plots'"
      ],
      "text/latex": [
       "'/lustre1/project/stg\\_00096/home/projects/2023\\_Cools\\_B-ALL/FINAL\\_DNA\\_ANALYSIS/new\\_Variant\\_calling/Severus\\_TO\\_2/somatic\\_SVs/plots'"
      ],
      "text/markdown": [
       "'/lustre1/project/stg_00096/home/projects/2023_Cools_B-ALL/FINAL_DNA_ANALYSIS/new_Variant_calling/Severus_TO_2/somatic_SVs/plots'"
      ],
      "text/plain": [
       "[1] \"/lustre1/project/stg_00096/home/projects/2023_Cools_B-ALL/FINAL_DNA_ANALYSIS/new_Variant_calling/Severus_TO_2/somatic_SVs/plots\""
      ]
     },
     "metadata": {},
     "output_type": "display_data"
    }
   ],
   "source": [
    "getwd()"
   ]
  },
  {
   "cell_type": "code",
   "execution_count": 130,
   "metadata": {
    "vscode": {
     "languageId": "r"
    }
   },
   "outputs": [
    {
     "data": {
      "text/html": [
       "'/lustre1/project/stg_00096/home/projects/2023_Cools_B-ALL/FINAL_DNA_ANALYSIS/new_Variant_calling/Severus_TO_2/somatic_SVs/plots'"
      ],
      "text/latex": [
       "'/lustre1/project/stg\\_00096/home/projects/2023\\_Cools\\_B-ALL/FINAL\\_DNA\\_ANALYSIS/new\\_Variant\\_calling/Severus\\_TO\\_2/somatic\\_SVs/plots'"
      ],
      "text/markdown": [
       "'/lustre1/project/stg_00096/home/projects/2023_Cools_B-ALL/FINAL_DNA_ANALYSIS/new_Variant_calling/Severus_TO_2/somatic_SVs/plots'"
      ],
      "text/plain": [
       "[1] \"/lustre1/project/stg_00096/home/projects/2023_Cools_B-ALL/FINAL_DNA_ANALYSIS/new_Variant_calling/Severus_TO_2/somatic_SVs/plots\""
      ]
     },
     "metadata": {},
     "output_type": "display_data"
    }
   ],
   "source": [
    "getwd()"
   ]
  },
  {
   "cell_type": "code",
   "execution_count": 131,
   "metadata": {
    "vscode": {
     "languageId": "r"
    }
   },
   "outputs": [],
   "source": [
    "snv_file <- paste0(\"/staging/leuven/stg_00096/home/projects/2023_Cools_B-ALL/FINAL_DNA_ANALYSIS/new_Variant_calling/CLAIRS_TO/coverage_10/\",sample,\"/filtered.vcf.gz\")\n",
    "ascat <- paste0(\"/lustre1/project/stg_00096/home/projects/2023_Cools_B-ALL/FINAL_DNA_ANALYSIS/new_Variant_calling/Severus_TO_2/somatic_SVs/plots/ascat_\",sample,\".txt\")\n",
    "SV <- paste0(\"/lustre1/project/stg_00096/home/projects/2023_Cools_B-ALL/FINAL_DNA_ANALYSIS/new_Variant_calling/Severus_TO_2/somatic_SVs/plots/output_\",sample,\"_filter.bed\")"
   ]
  },
  {
   "cell_type": "code",
   "execution_count": null,
   "metadata": {
    "vscode": {
     "languageId": "r"
    }
   },
   "outputs": [],
   "source": [
    "genomeChart(outfilename = paste0(sample,\"_circos.pdf\"), sample_name = sample, SNV_vcf_file = snv_file, CNV_tab_file=ascat,SV_bedpe_file=SV,runKataegis=FALSE,genome.v = \"hg38\", Indels_vcf_file=NULL, Indels_tab_file=NULL)"
   ]
  },
  {
   "cell_type": "code",
   "execution_count": 133,
   "metadata": {
    "vscode": {
     "languageId": "r"
    }
   },
   "outputs": [
    {
     "data": {
      "text/html": [
       "'/lustre1/project/stg_00096/home/projects/2023_Cools_B-ALL/FINAL_DNA_ANALYSIS/new_Variant_calling/Severus_TO_2/somatic_SVs/plots'"
      ],
      "text/latex": [
       "'/lustre1/project/stg\\_00096/home/projects/2023\\_Cools\\_B-ALL/FINAL\\_DNA\\_ANALYSIS/new\\_Variant\\_calling/Severus\\_TO\\_2/somatic\\_SVs/plots'"
      ],
      "text/markdown": [
       "'/lustre1/project/stg_00096/home/projects/2023_Cools_B-ALL/FINAL_DNA_ANALYSIS/new_Variant_calling/Severus_TO_2/somatic_SVs/plots'"
      ],
      "text/plain": [
       "[1] \"/lustre1/project/stg_00096/home/projects/2023_Cools_B-ALL/FINAL_DNA_ANALYSIS/new_Variant_calling/Severus_TO_2/somatic_SVs/plots\""
      ]
     },
     "metadata": {},
     "output_type": "display_data"
    }
   ],
   "source": [
    "getwd()"
   ]
  }
 ],
 "metadata": {
  "kernelspec": {
   "display_name": "DPclust1",
   "language": "R",
   "name": "dpclust1"
  },
  "language_info": {
   "codemirror_mode": "r",
   "file_extension": ".r",
   "mimetype": "text/x-r-source",
   "name": "R",
   "pygments_lexer": "r",
   "version": "4.2.3"
  }
 },
 "nbformat": 4,
 "nbformat_minor": 2
}
