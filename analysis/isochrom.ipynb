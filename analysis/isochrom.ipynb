{
 "cells": [
  {
   "cell_type": "code",
   "execution_count": 1,
   "metadata": {
    "vscode": {
     "languageId": "r"
    }
   },
   "outputs": [
    {
     "name": "stderr",
     "output_type": "stream",
     "text": [
      "── \u001b[1mAttaching core tidyverse packages\u001b[22m ──────────────────────── tidyverse 2.0.0 ──\n",
      "\u001b[32m✔\u001b[39m \u001b[34mdplyr    \u001b[39m 1.1.4     \u001b[32m✔\u001b[39m \u001b[34mreadr    \u001b[39m 2.1.5\n",
      "\u001b[32m✔\u001b[39m \u001b[34mforcats  \u001b[39m 1.0.0     \u001b[32m✔\u001b[39m \u001b[34mstringr  \u001b[39m 1.5.1\n",
      "\u001b[32m✔\u001b[39m \u001b[34mggplot2  \u001b[39m 3.5.1     \u001b[32m✔\u001b[39m \u001b[34mtibble   \u001b[39m 3.2.1\n",
      "\u001b[32m✔\u001b[39m \u001b[34mlubridate\u001b[39m 1.9.4     \u001b[32m✔\u001b[39m \u001b[34mtidyr    \u001b[39m 1.3.1\n",
      "\u001b[32m✔\u001b[39m \u001b[34mpurrr    \u001b[39m 1.0.2     \n",
      "── \u001b[1mConflicts\u001b[22m ────────────────────────────────────────── tidyverse_conflicts() ──\n",
      "\u001b[31m✖\u001b[39m \u001b[34mdplyr\u001b[39m::\u001b[32mbetween()\u001b[39m     masks \u001b[34mdata.table\u001b[39m::between()\n",
      "\u001b[31m✖\u001b[39m \u001b[34mdplyr\u001b[39m::\u001b[32mfilter()\u001b[39m      masks \u001b[34mstats\u001b[39m::filter()\n",
      "\u001b[31m✖\u001b[39m \u001b[34mdplyr\u001b[39m::\u001b[32mfirst()\u001b[39m       masks \u001b[34mdata.table\u001b[39m::first()\n",
      "\u001b[31m✖\u001b[39m \u001b[34mlubridate\u001b[39m::\u001b[32mhour()\u001b[39m    masks \u001b[34mdata.table\u001b[39m::hour()\n",
      "\u001b[31m✖\u001b[39m \u001b[34mlubridate\u001b[39m::\u001b[32misoweek()\u001b[39m masks \u001b[34mdata.table\u001b[39m::isoweek()\n",
      "\u001b[31m✖\u001b[39m \u001b[34mdplyr\u001b[39m::\u001b[32mlag()\u001b[39m         masks \u001b[34mstats\u001b[39m::lag()\n",
      "\u001b[31m✖\u001b[39m \u001b[34mdplyr\u001b[39m::\u001b[32mlast()\u001b[39m        masks \u001b[34mdata.table\u001b[39m::last()\n",
      "\u001b[31m✖\u001b[39m \u001b[34mlubridate\u001b[39m::\u001b[32mmday()\u001b[39m    masks \u001b[34mdata.table\u001b[39m::mday()\n",
      "\u001b[31m✖\u001b[39m \u001b[34mlubridate\u001b[39m::\u001b[32mminute()\u001b[39m  masks \u001b[34mdata.table\u001b[39m::minute()\n",
      "\u001b[31m✖\u001b[39m \u001b[34mlubridate\u001b[39m::\u001b[32mmonth()\u001b[39m   masks \u001b[34mdata.table\u001b[39m::month()\n",
      "\u001b[31m✖\u001b[39m \u001b[34mlubridate\u001b[39m::\u001b[32mquarter()\u001b[39m masks \u001b[34mdata.table\u001b[39m::quarter()\n",
      "\u001b[31m✖\u001b[39m \u001b[34mlubridate\u001b[39m::\u001b[32msecond()\u001b[39m  masks \u001b[34mdata.table\u001b[39m::second()\n",
      "\u001b[31m✖\u001b[39m \u001b[34mpurrr\u001b[39m::\u001b[32mtranspose()\u001b[39m   masks \u001b[34mdata.table\u001b[39m::transpose()\n",
      "\u001b[31m✖\u001b[39m \u001b[34mlubridate\u001b[39m::\u001b[32mwday()\u001b[39m    masks \u001b[34mdata.table\u001b[39m::wday()\n",
      "\u001b[31m✖\u001b[39m \u001b[34mlubridate\u001b[39m::\u001b[32mweek()\u001b[39m    masks \u001b[34mdata.table\u001b[39m::week()\n",
      "\u001b[31m✖\u001b[39m \u001b[34mlubridate\u001b[39m::\u001b[32myday()\u001b[39m    masks \u001b[34mdata.table\u001b[39m::yday()\n",
      "\u001b[31m✖\u001b[39m \u001b[34mlubridate\u001b[39m::\u001b[32myear()\u001b[39m    masks \u001b[34mdata.table\u001b[39m::year()\n",
      "\u001b[36mℹ\u001b[39m Use the conflicted package (\u001b[3m\u001b[34m<http://conflicted.r-lib.org/>\u001b[39m\u001b[23m) to force all conflicts to become errors\n",
      "Loading required package: S4Vectors\n",
      "\n",
      "Loading required package: stats4\n",
      "\n",
      "Loading required package: BiocGenerics\n",
      "\n",
      "\n",
      "Attaching package: ‘BiocGenerics’\n",
      "\n",
      "\n",
      "The following objects are masked from ‘package:lubridate’:\n",
      "\n",
      "    intersect, setdiff, union\n",
      "\n",
      "\n",
      "The following objects are masked from ‘package:dplyr’:\n",
      "\n",
      "    combine, intersect, setdiff, union\n",
      "\n",
      "\n",
      "The following objects are masked from ‘package:stats’:\n",
      "\n",
      "    IQR, mad, sd, var, xtabs\n",
      "\n",
      "\n",
      "The following objects are masked from ‘package:base’:\n",
      "\n",
      "    Filter, Find, Map, Position, Reduce, anyDuplicated, aperm, append,\n",
      "    as.data.frame, basename, cbind, colnames, dirname, do.call,\n",
      "    duplicated, eval, evalq, get, grep, grepl, intersect, is.unsorted,\n",
      "    lapply, mapply, match, mget, order, paste, pmax, pmax.int, pmin,\n",
      "    pmin.int, rank, rbind, rownames, sapply, saveRDS, setdiff, table,\n",
      "    tapply, union, unique, unsplit, which.max, which.min\n",
      "\n",
      "\n",
      "\n",
      "Attaching package: ‘S4Vectors’\n",
      "\n",
      "\n",
      "The following objects are masked from ‘package:lubridate’:\n",
      "\n",
      "    second, second<-\n",
      "\n",
      "\n",
      "The following objects are masked from ‘package:dplyr’:\n",
      "\n",
      "    first, rename\n",
      "\n",
      "\n",
      "The following object is masked from ‘package:tidyr’:\n",
      "\n",
      "    expand\n",
      "\n",
      "\n",
      "The following objects are masked from ‘package:data.table’:\n",
      "\n",
      "    first, second\n",
      "\n",
      "\n",
      "The following object is masked from ‘package:utils’:\n",
      "\n",
      "    findMatches\n",
      "\n",
      "\n",
      "The following objects are masked from ‘package:base’:\n",
      "\n",
      "    I, expand.grid, unname\n",
      "\n",
      "\n",
      "Loading required package: IRanges\n",
      "\n",
      "\n",
      "Attaching package: ‘IRanges’\n",
      "\n",
      "\n",
      "The following object is masked from ‘package:lubridate’:\n",
      "\n",
      "    %within%\n",
      "\n",
      "\n",
      "The following objects are masked from ‘package:dplyr’:\n",
      "\n",
      "    collapse, desc, slice\n",
      "\n",
      "\n",
      "The following object is masked from ‘package:purrr’:\n",
      "\n",
      "    reduce\n",
      "\n",
      "\n",
      "The following object is masked from ‘package:data.table’:\n",
      "\n",
      "    shift\n",
      "\n",
      "\n",
      "Loading required package: GenomicRanges\n",
      "\n",
      "Loading required package: GenomeInfoDb\n",
      "\n",
      "Loading required package: SummarizedExperiment\n",
      "\n",
      "Loading required package: MatrixGenerics\n",
      "\n",
      "Loading required package: matrixStats\n",
      "\n",
      "\n",
      "Attaching package: ‘matrixStats’\n",
      "\n",
      "\n",
      "The following object is masked from ‘package:dplyr’:\n",
      "\n",
      "    count\n",
      "\n",
      "\n",
      "\n",
      "Attaching package: ‘MatrixGenerics’\n",
      "\n",
      "\n",
      "The following objects are masked from ‘package:matrixStats’:\n",
      "\n",
      "    colAlls, colAnyNAs, colAnys, colAvgsPerRowSet, colCollapse,\n",
      "    colCounts, colCummaxs, colCummins, colCumprods, colCumsums,\n",
      "    colDiffs, colIQRDiffs, colIQRs, colLogSumExps, colMadDiffs,\n",
      "    colMads, colMaxs, colMeans2, colMedians, colMins, colOrderStats,\n",
      "    colProds, colQuantiles, colRanges, colRanks, colSdDiffs, colSds,\n",
      "    colSums2, colTabulates, colVarDiffs, colVars, colWeightedMads,\n",
      "    colWeightedMeans, colWeightedMedians, colWeightedSds,\n",
      "    colWeightedVars, rowAlls, rowAnyNAs, rowAnys, rowAvgsPerColSet,\n",
      "    rowCollapse, rowCounts, rowCummaxs, rowCummins, rowCumprods,\n",
      "    rowCumsums, rowDiffs, rowIQRDiffs, rowIQRs, rowLogSumExps,\n",
      "    rowMadDiffs, rowMads, rowMaxs, rowMeans2, rowMedians, rowMins,\n",
      "    rowOrderStats, rowProds, rowQuantiles, rowRanges, rowRanks,\n",
      "    rowSdDiffs, rowSds, rowSums2, rowTabulates, rowVarDiffs, rowVars,\n",
      "    rowWeightedMads, rowWeightedMeans, rowWeightedMedians,\n",
      "    rowWeightedSds, rowWeightedVars\n",
      "\n",
      "\n",
      "Loading required package: Biobase\n",
      "\n",
      "Welcome to Bioconductor\n",
      "\n",
      "    Vignettes contain introductory material; view with\n",
      "    'browseVignettes()'. To cite Bioconductor, see\n",
      "    'citation(\"Biobase\")', and for packages 'citation(\"pkgname\")'.\n",
      "\n",
      "\n",
      "\n",
      "Attaching package: ‘Biobase’\n",
      "\n",
      "\n",
      "The following object is masked from ‘package:MatrixGenerics’:\n",
      "\n",
      "    rowMedians\n",
      "\n",
      "\n",
      "The following objects are masked from ‘package:matrixStats’:\n",
      "\n",
      "    anyMissing, rowMedians\n",
      "\n",
      "\n"
     ]
    }
   ],
   "source": [
    "library(data.table)\n",
    "library(tidyverse)\n",
    "library(DESeq2)\n",
    "library(rtracklayer)\n",
    "library(dplyr)"
   ]
  },
  {
   "cell_type": "markdown",
   "metadata": {},
   "source": [
    "This script is run to make the plot of the isocromosome 7 between D0 and Q1: before we run basic Deseq2 analysis. The Deseq2 analysis for all samples can be found in the other script!"
   ]
  },
  {
   "cell_type": "code",
   "execution_count": null,
   "metadata": {
    "vscode": {
     "languageId": "r"
    }
   },
   "outputs": [],
   "source": [
    "path_barcodes <- file.path(\"/barcodes_tumour_cells_D0.tsv\")\n",
    "\n",
    "# Get the list of files in the directory, including their full paths\n",
    "barcodes <- read.delim(path_barcodes, header = FALSE)"
   ]
  },
  {
   "cell_type": "code",
   "execution_count": 4,
   "metadata": {
    "vscode": {
     "languageId": "r"
    }
   },
   "outputs": [],
   "source": [
    "barcodes$V1 <- gsub(\"-D0\",\"\",barcodes$V1)"
   ]
  },
  {
   "cell_type": "markdown",
   "metadata": {},
   "source": [
    "# Load in the Raw counts form D0"
   ]
  },
  {
   "cell_type": "code",
   "execution_count": null,
   "metadata": {
    "vscode": {
     "languageId": "r"
    }
   },
   "outputs": [
    {
     "data": {
      "text/html": [
       "<table class=\"dataframe\">\n",
       "<caption>A data.frame: 6 × 2294</caption>\n",
       "<thead>\n",
       "\t<tr><th></th><th scope=col>feature_id</th><th scope=col>AAACAGCCAGTTTGTG</th><th scope=col>AAACAGCCATGTTTGG</th><th scope=col>AAACAGCCATTTAAGC</th><th scope=col>AAACATGCATTGGGAG</th><th scope=col>AAACCAACAATAACCT</th><th scope=col>AAACCGAAGAGCCGCT</th><th scope=col>AAACCGAAGTAACCAC</th><th scope=col>AAACCGGCAAACTGCC</th><th scope=col>AAACGCGCACTAGCGT</th><th scope=col>⋯</th><th scope=col>TTTGGTGCATAAAGCA</th><th scope=col>TTTGTCCCAAACCCTA</th><th scope=col>TTTGTCCCAATAGCAA</th><th scope=col>TTTGTCCCACTTCACT</th><th scope=col>TTTGTCCCATGTGGGA</th><th scope=col>TTTGTCTAGACAAGTG</th><th scope=col>TTTGTCTAGCTCATAA</th><th scope=col>TTTGTCTAGGTCGAGG</th><th scope=col>TTTGTTGGTAACCAGC</th><th scope=col>TTTGTTGGTAGCAGCT</th></tr>\n",
       "\t<tr><th></th><th scope=col>&lt;chr&gt;</th><th scope=col>&lt;dbl&gt;</th><th scope=col>&lt;dbl&gt;</th><th scope=col>&lt;dbl&gt;</th><th scope=col>&lt;dbl&gt;</th><th scope=col>&lt;dbl&gt;</th><th scope=col>&lt;dbl&gt;</th><th scope=col>&lt;dbl&gt;</th><th scope=col>&lt;dbl&gt;</th><th scope=col>&lt;dbl&gt;</th><th scope=col>⋯</th><th scope=col>&lt;dbl&gt;</th><th scope=col>&lt;dbl&gt;</th><th scope=col>&lt;dbl&gt;</th><th scope=col>&lt;dbl&gt;</th><th scope=col>&lt;dbl&gt;</th><th scope=col>&lt;dbl&gt;</th><th scope=col>&lt;dbl&gt;</th><th scope=col>&lt;dbl&gt;</th><th scope=col>&lt;dbl&gt;</th><th scope=col>&lt;dbl&gt;</th></tr>\n",
       "</thead>\n",
       "<tbody>\n",
       "\t<tr><th scope=row>1</th><td>ENSG00000000457</td><td>0</td><td>0</td><td>0</td><td>0</td><td>0</td><td>0</td><td>0</td><td>0</td><td>0</td><td>⋯</td><td>0</td><td>0</td><td>0</td><td>0</td><td>0</td><td>0</td><td>0</td><td>0</td><td>0</td><td>0</td></tr>\n",
       "\t<tr><th scope=row>2</th><td>ENSG00000000460</td><td>0</td><td>0</td><td>0</td><td>0</td><td>0</td><td>0</td><td>0</td><td>0</td><td>0</td><td>⋯</td><td>0</td><td>0</td><td>0</td><td>0</td><td>0</td><td>0</td><td>0</td><td>0</td><td>0</td><td>0</td></tr>\n",
       "\t<tr><th scope=row>3</th><td>ENSG00000000938</td><td>0</td><td>0</td><td>0</td><td>0</td><td>0</td><td>0</td><td>0</td><td>0</td><td>0</td><td>⋯</td><td>1</td><td>0</td><td>0</td><td>0</td><td>0</td><td>0</td><td>0</td><td>0</td><td>0</td><td>0</td></tr>\n",
       "\t<tr><th scope=row>4</th><td>ENSG00000000971</td><td>0</td><td>0</td><td>0</td><td>0</td><td>0</td><td>0</td><td>0</td><td>0</td><td>0</td><td>⋯</td><td>0</td><td>0</td><td>0</td><td>0</td><td>0</td><td>0</td><td>0</td><td>0</td><td>0</td><td>0</td></tr>\n",
       "\t<tr><th scope=row>5</th><td>ENSG00000001460</td><td>0</td><td>0</td><td>0</td><td>0</td><td>0</td><td>0</td><td>0</td><td>0</td><td>0</td><td>⋯</td><td>0</td><td>0</td><td>0</td><td>0</td><td>0</td><td>0</td><td>0</td><td>0</td><td>0</td><td>0</td></tr>\n",
       "\t<tr><th scope=row>6</th><td>ENSG00000001461</td><td>0</td><td>0</td><td>0</td><td>0</td><td>0</td><td>0</td><td>0</td><td>0</td><td>0</td><td>⋯</td><td>0</td><td>0</td><td>0</td><td>0</td><td>0</td><td>0</td><td>0</td><td>0</td><td>0</td><td>0</td></tr>\n",
       "</tbody>\n",
       "</table>\n"
      ],
      "text/latex": [
       "A data.frame: 6 × 2294\n",
       "\\begin{tabular}{r|lllllllllllllllllllll}\n",
       "  & feature\\_id & AAACAGCCAGTTTGTG & AAACAGCCATGTTTGG & AAACAGCCATTTAAGC & AAACATGCATTGGGAG & AAACCAACAATAACCT & AAACCGAAGAGCCGCT & AAACCGAAGTAACCAC & AAACCGGCAAACTGCC & AAACGCGCACTAGCGT & ⋯ & TTTGGTGCATAAAGCA & TTTGTCCCAAACCCTA & TTTGTCCCAATAGCAA & TTTGTCCCACTTCACT & TTTGTCCCATGTGGGA & TTTGTCTAGACAAGTG & TTTGTCTAGCTCATAA & TTTGTCTAGGTCGAGG & TTTGTTGGTAACCAGC & TTTGTTGGTAGCAGCT\\\\\n",
       "  & <chr> & <dbl> & <dbl> & <dbl> & <dbl> & <dbl> & <dbl> & <dbl> & <dbl> & <dbl> & ⋯ & <dbl> & <dbl> & <dbl> & <dbl> & <dbl> & <dbl> & <dbl> & <dbl> & <dbl> & <dbl>\\\\\n",
       "\\hline\n",
       "\t1 & ENSG00000000457 & 0 & 0 & 0 & 0 & 0 & 0 & 0 & 0 & 0 & ⋯ & 0 & 0 & 0 & 0 & 0 & 0 & 0 & 0 & 0 & 0\\\\\n",
       "\t2 & ENSG00000000460 & 0 & 0 & 0 & 0 & 0 & 0 & 0 & 0 & 0 & ⋯ & 0 & 0 & 0 & 0 & 0 & 0 & 0 & 0 & 0 & 0\\\\\n",
       "\t3 & ENSG00000000938 & 0 & 0 & 0 & 0 & 0 & 0 & 0 & 0 & 0 & ⋯ & 1 & 0 & 0 & 0 & 0 & 0 & 0 & 0 & 0 & 0\\\\\n",
       "\t4 & ENSG00000000971 & 0 & 0 & 0 & 0 & 0 & 0 & 0 & 0 & 0 & ⋯ & 0 & 0 & 0 & 0 & 0 & 0 & 0 & 0 & 0 & 0\\\\\n",
       "\t5 & ENSG00000001460 & 0 & 0 & 0 & 0 & 0 & 0 & 0 & 0 & 0 & ⋯ & 0 & 0 & 0 & 0 & 0 & 0 & 0 & 0 & 0 & 0\\\\\n",
       "\t6 & ENSG00000001461 & 0 & 0 & 0 & 0 & 0 & 0 & 0 & 0 & 0 & ⋯ & 0 & 0 & 0 & 0 & 0 & 0 & 0 & 0 & 0 & 0\\\\\n",
       "\\end{tabular}\n"
      ],
      "text/markdown": [
       "\n",
       "A data.frame: 6 × 2294\n",
       "\n",
       "| <!--/--> | feature_id &lt;chr&gt; | AAACAGCCAGTTTGTG &lt;dbl&gt; | AAACAGCCATGTTTGG &lt;dbl&gt; | AAACAGCCATTTAAGC &lt;dbl&gt; | AAACATGCATTGGGAG &lt;dbl&gt; | AAACCAACAATAACCT &lt;dbl&gt; | AAACCGAAGAGCCGCT &lt;dbl&gt; | AAACCGAAGTAACCAC &lt;dbl&gt; | AAACCGGCAAACTGCC &lt;dbl&gt; | AAACGCGCACTAGCGT &lt;dbl&gt; | ⋯ ⋯ | TTTGGTGCATAAAGCA &lt;dbl&gt; | TTTGTCCCAAACCCTA &lt;dbl&gt; | TTTGTCCCAATAGCAA &lt;dbl&gt; | TTTGTCCCACTTCACT &lt;dbl&gt; | TTTGTCCCATGTGGGA &lt;dbl&gt; | TTTGTCTAGACAAGTG &lt;dbl&gt; | TTTGTCTAGCTCATAA &lt;dbl&gt; | TTTGTCTAGGTCGAGG &lt;dbl&gt; | TTTGTTGGTAACCAGC &lt;dbl&gt; | TTTGTTGGTAGCAGCT &lt;dbl&gt; |\n",
       "|---|---|---|---|---|---|---|---|---|---|---|---|---|---|---|---|---|---|---|---|---|---|\n",
       "| 1 | ENSG00000000457 | 0 | 0 | 0 | 0 | 0 | 0 | 0 | 0 | 0 | ⋯ | 0 | 0 | 0 | 0 | 0 | 0 | 0 | 0 | 0 | 0 |\n",
       "| 2 | ENSG00000000460 | 0 | 0 | 0 | 0 | 0 | 0 | 0 | 0 | 0 | ⋯ | 0 | 0 | 0 | 0 | 0 | 0 | 0 | 0 | 0 | 0 |\n",
       "| 3 | ENSG00000000938 | 0 | 0 | 0 | 0 | 0 | 0 | 0 | 0 | 0 | ⋯ | 1 | 0 | 0 | 0 | 0 | 0 | 0 | 0 | 0 | 0 |\n",
       "| 4 | ENSG00000000971 | 0 | 0 | 0 | 0 | 0 | 0 | 0 | 0 | 0 | ⋯ | 0 | 0 | 0 | 0 | 0 | 0 | 0 | 0 | 0 | 0 |\n",
       "| 5 | ENSG00000001460 | 0 | 0 | 0 | 0 | 0 | 0 | 0 | 0 | 0 | ⋯ | 0 | 0 | 0 | 0 | 0 | 0 | 0 | 0 | 0 | 0 |\n",
       "| 6 | ENSG00000001461 | 0 | 0 | 0 | 0 | 0 | 0 | 0 | 0 | 0 | ⋯ | 0 | 0 | 0 | 0 | 0 | 0 | 0 | 0 | 0 | 0 |\n",
       "\n"
      ],
      "text/plain": [
       "  feature_id      AAACAGCCAGTTTGTG AAACAGCCATGTTTGG AAACAGCCATTTAAGC\n",
       "1 ENSG00000000457 0                0                0               \n",
       "2 ENSG00000000460 0                0                0               \n",
       "3 ENSG00000000938 0                0                0               \n",
       "4 ENSG00000000971 0                0                0               \n",
       "5 ENSG00000001460 0                0                0               \n",
       "6 ENSG00000001461 0                0                0               \n",
       "  AAACATGCATTGGGAG AAACCAACAATAACCT AAACCGAAGAGCCGCT AAACCGAAGTAACCAC\n",
       "1 0                0                0                0               \n",
       "2 0                0                0                0               \n",
       "3 0                0                0                0               \n",
       "4 0                0                0                0               \n",
       "5 0                0                0                0               \n",
       "6 0                0                0                0               \n",
       "  AAACCGGCAAACTGCC AAACGCGCACTAGCGT ⋯ TTTGGTGCATAAAGCA TTTGTCCCAAACCCTA\n",
       "1 0                0                ⋯ 0                0               \n",
       "2 0                0                ⋯ 0                0               \n",
       "3 0                0                ⋯ 1                0               \n",
       "4 0                0                ⋯ 0                0               \n",
       "5 0                0                ⋯ 0                0               \n",
       "6 0                0                ⋯ 0                0               \n",
       "  TTTGTCCCAATAGCAA TTTGTCCCACTTCACT TTTGTCCCATGTGGGA TTTGTCTAGACAAGTG\n",
       "1 0                0                0                0               \n",
       "2 0                0                0                0               \n",
       "3 0                0                0                0               \n",
       "4 0                0                0                0               \n",
       "5 0                0                0                0               \n",
       "6 0                0                0                0               \n",
       "  TTTGTCTAGCTCATAA TTTGTCTAGGTCGAGG TTTGTTGGTAACCAGC TTTGTTGGTAGCAGCT\n",
       "1 0                0                0                0               \n",
       "2 0                0                0                0               \n",
       "3 0                0                0                0               \n",
       "4 0                0                0                0               \n",
       "5 0                0                0                0               \n",
       "6 0                0                0                0               "
      ]
     },
     "metadata": {},
     "output_type": "display_data"
    }
   ],
   "source": [
    "raw_counts_D0 <- read.table(\"/isoquant/D0.gene_counts.tsv\", header =1)\n",
    "head(raw_counts_D0)"
   ]
  },
  {
   "cell_type": "code",
   "execution_count": 7,
   "metadata": {
    "vscode": {
     "languageId": "r"
    }
   },
   "outputs": [],
   "source": [
    "D0 <- barcodes"
   ]
  },
  {
   "cell_type": "code",
   "execution_count": 8,
   "metadata": {
    "vscode": {
     "languageId": "r"
    }
   },
   "outputs": [],
   "source": [
    "count <- raw_counts_D0 %>% dplyr::select(which(colnames(raw_counts_D0) %in% D0$V1))"
   ]
  },
  {
   "cell_type": "markdown",
   "metadata": {},
   "source": [
    "# Code for filter tumour cells based on barcodes and create pseudobulk by summinng rows"
   ]
  },
  {
   "cell_type": "code",
   "execution_count": 9,
   "metadata": {
    "vscode": {
     "languageId": "r"
    }
   },
   "outputs": [],
   "source": [
    "process_raw_counts <- function(raw_counts, D0) {\n",
    "  # Set row names and remove the first column\n",
    "  rownames(raw_counts) <- raw_counts$feature_id\n",
    "  raw_counts <- raw_counts[, -1]\n",
    "  \n",
    "  # Remove columns that match `D0_V1`\n",
    "  raw_counts <- raw_counts %>%\n",
    "    dplyr::select(which(colnames(raw_counts) %in% D0$V1))\n",
    "  \n",
    "  # Add a new column `D0` with row sums\n",
    "  raw_counts$D0 <- rowSums(raw_counts)\n",
    "  \n",
    "  # Return a data frame with only the `D0` column\n",
    "  D0 <- raw_counts %>% select(D0)\n",
    "  return(D0)\n",
    "}\n"
   ]
  },
  {
   "cell_type": "markdown",
   "metadata": {},
   "source": [
    "# Same for Q1"
   ]
  },
  {
   "cell_type": "code",
   "execution_count": null,
   "metadata": {
    "vscode": {
     "languageId": "r"
    }
   },
   "outputs": [],
   "source": [
    "raw_count_Q1 <- read.table(\"/isoquant/Q1.gene_counts.tsv\", header =1)\n",
    "#Cropt the barcodes of the tag\n",
    "path_barcodes <- file.path(\"/barcodes_tumour_cells_Q1.tsv\")\n",
    "\n",
    "# Get the list of files in the directory, including their full paths\n",
    "barcodes <- read.delim(path_barcodes, header = FALSE)\n",
    "barcodes$V1 <- gsub(\"-Q1\",\"\",barcodes$V1)\n",
    "Q1 <-barcodes\n"
   ]
  },
  {
   "cell_type": "code",
   "execution_count": 11,
   "metadata": {
    "vscode": {
     "languageId": "r"
    }
   },
   "outputs": [
    {
     "data": {
      "text/html": [
       "<table class=\"dataframe\">\n",
       "<caption>A data.frame: 6 × 4339</caption>\n",
       "<thead>\n",
       "\t<tr><th></th><th scope=col>feature_id</th><th scope=col>AAACAGCCAACATAAG</th><th scope=col>AAACAGCCATGTTGGC</th><th scope=col>AAACATGCACCGGCTA</th><th scope=col>AAACATGCACTTAACG</th><th scope=col>AAACATGCATTGTGCA</th><th scope=col>AAACCAACAAATACCT</th><th scope=col>AAACCAACAAGGTAAC</th><th scope=col>AAACCAACATAGACTT</th><th scope=col>AAACCGAAGCCTGACA</th><th scope=col>⋯</th><th scope=col>TTTGTCCCATTGTGTG</th><th scope=col>TTTGTCTAGTCCTTTG</th><th scope=col>TTTGTGAAGCATGGTT</th><th scope=col>TTTGTGAAGGTTAGAG</th><th scope=col>TTTGTGGCAAAGCGCA</th><th scope=col>TTTGTGGCAGGAACTG</th><th scope=col>TTTGTGTTCAGGCCTA</th><th scope=col>TTTGTGTTCATTGTTC</th><th scope=col>TTTGTGTTCCGTTATT</th><th scope=col>TTTGTGTTCTAATCCT</th></tr>\n",
       "\t<tr><th></th><th scope=col>&lt;chr&gt;</th><th scope=col>&lt;dbl&gt;</th><th scope=col>&lt;dbl&gt;</th><th scope=col>&lt;dbl&gt;</th><th scope=col>&lt;dbl&gt;</th><th scope=col>&lt;dbl&gt;</th><th scope=col>&lt;dbl&gt;</th><th scope=col>&lt;dbl&gt;</th><th scope=col>&lt;dbl&gt;</th><th scope=col>&lt;dbl&gt;</th><th scope=col>⋯</th><th scope=col>&lt;dbl&gt;</th><th scope=col>&lt;dbl&gt;</th><th scope=col>&lt;dbl&gt;</th><th scope=col>&lt;dbl&gt;</th><th scope=col>&lt;dbl&gt;</th><th scope=col>&lt;dbl&gt;</th><th scope=col>&lt;dbl&gt;</th><th scope=col>&lt;dbl&gt;</th><th scope=col>&lt;dbl&gt;</th><th scope=col>&lt;dbl&gt;</th></tr>\n",
       "</thead>\n",
       "<tbody>\n",
       "\t<tr><th scope=row>1</th><td>ENSG00000000457</td><td>0</td><td>0</td><td>0</td><td>0</td><td>0</td><td>0</td><td>0</td><td>0</td><td>0</td><td>⋯</td><td>1</td><td>0</td><td>0</td><td>0</td><td>0</td><td>0</td><td>2</td><td>0</td><td>0</td><td>0</td></tr>\n",
       "\t<tr><th scope=row>2</th><td>ENSG00000000460</td><td>0</td><td>0</td><td>0</td><td>0</td><td>0</td><td>0</td><td>0</td><td>0</td><td>0</td><td>⋯</td><td>1</td><td>0</td><td>0</td><td>0</td><td>0</td><td>0</td><td>0</td><td>0</td><td>0</td><td>0</td></tr>\n",
       "\t<tr><th scope=row>3</th><td>ENSG00000000938</td><td>0</td><td>0</td><td>0</td><td>0</td><td>0</td><td>0</td><td>0</td><td>0</td><td>0</td><td>⋯</td><td>0</td><td>0</td><td>0</td><td>0</td><td>0</td><td>0</td><td>0</td><td>0</td><td>0</td><td>0</td></tr>\n",
       "\t<tr><th scope=row>4</th><td>ENSG00000000971</td><td>0</td><td>0</td><td>0</td><td>0</td><td>0</td><td>0</td><td>0</td><td>0</td><td>0</td><td>⋯</td><td>0</td><td>0</td><td>0</td><td>0</td><td>0</td><td>0</td><td>0</td><td>0</td><td>0</td><td>0</td></tr>\n",
       "\t<tr><th scope=row>5</th><td>ENSG00000001460</td><td>0</td><td>0</td><td>0</td><td>0</td><td>0</td><td>0</td><td>0</td><td>0</td><td>0</td><td>⋯</td><td>1</td><td>0</td><td>0</td><td>0</td><td>0</td><td>0</td><td>0</td><td>0</td><td>0</td><td>0</td></tr>\n",
       "\t<tr><th scope=row>6</th><td>ENSG00000001461</td><td>3</td><td>0</td><td>0</td><td>2</td><td>0</td><td>0</td><td>0</td><td>0</td><td>0</td><td>⋯</td><td>5</td><td>0</td><td>0</td><td>0</td><td>0</td><td>0</td><td>0</td><td>0</td><td>0</td><td>0</td></tr>\n",
       "</tbody>\n",
       "</table>\n"
      ],
      "text/latex": [
       "A data.frame: 6 × 4339\n",
       "\\begin{tabular}{r|lllllllllllllllllllll}\n",
       "  & feature\\_id & AAACAGCCAACATAAG & AAACAGCCATGTTGGC & AAACATGCACCGGCTA & AAACATGCACTTAACG & AAACATGCATTGTGCA & AAACCAACAAATACCT & AAACCAACAAGGTAAC & AAACCAACATAGACTT & AAACCGAAGCCTGACA & ⋯ & TTTGTCCCATTGTGTG & TTTGTCTAGTCCTTTG & TTTGTGAAGCATGGTT & TTTGTGAAGGTTAGAG & TTTGTGGCAAAGCGCA & TTTGTGGCAGGAACTG & TTTGTGTTCAGGCCTA & TTTGTGTTCATTGTTC & TTTGTGTTCCGTTATT & TTTGTGTTCTAATCCT\\\\\n",
       "  & <chr> & <dbl> & <dbl> & <dbl> & <dbl> & <dbl> & <dbl> & <dbl> & <dbl> & <dbl> & ⋯ & <dbl> & <dbl> & <dbl> & <dbl> & <dbl> & <dbl> & <dbl> & <dbl> & <dbl> & <dbl>\\\\\n",
       "\\hline\n",
       "\t1 & ENSG00000000457 & 0 & 0 & 0 & 0 & 0 & 0 & 0 & 0 & 0 & ⋯ & 1 & 0 & 0 & 0 & 0 & 0 & 2 & 0 & 0 & 0\\\\\n",
       "\t2 & ENSG00000000460 & 0 & 0 & 0 & 0 & 0 & 0 & 0 & 0 & 0 & ⋯ & 1 & 0 & 0 & 0 & 0 & 0 & 0 & 0 & 0 & 0\\\\\n",
       "\t3 & ENSG00000000938 & 0 & 0 & 0 & 0 & 0 & 0 & 0 & 0 & 0 & ⋯ & 0 & 0 & 0 & 0 & 0 & 0 & 0 & 0 & 0 & 0\\\\\n",
       "\t4 & ENSG00000000971 & 0 & 0 & 0 & 0 & 0 & 0 & 0 & 0 & 0 & ⋯ & 0 & 0 & 0 & 0 & 0 & 0 & 0 & 0 & 0 & 0\\\\\n",
       "\t5 & ENSG00000001460 & 0 & 0 & 0 & 0 & 0 & 0 & 0 & 0 & 0 & ⋯ & 1 & 0 & 0 & 0 & 0 & 0 & 0 & 0 & 0 & 0\\\\\n",
       "\t6 & ENSG00000001461 & 3 & 0 & 0 & 2 & 0 & 0 & 0 & 0 & 0 & ⋯ & 5 & 0 & 0 & 0 & 0 & 0 & 0 & 0 & 0 & 0\\\\\n",
       "\\end{tabular}\n"
      ],
      "text/markdown": [
       "\n",
       "A data.frame: 6 × 4339\n",
       "\n",
       "| <!--/--> | feature_id &lt;chr&gt; | AAACAGCCAACATAAG &lt;dbl&gt; | AAACAGCCATGTTGGC &lt;dbl&gt; | AAACATGCACCGGCTA &lt;dbl&gt; | AAACATGCACTTAACG &lt;dbl&gt; | AAACATGCATTGTGCA &lt;dbl&gt; | AAACCAACAAATACCT &lt;dbl&gt; | AAACCAACAAGGTAAC &lt;dbl&gt; | AAACCAACATAGACTT &lt;dbl&gt; | AAACCGAAGCCTGACA &lt;dbl&gt; | ⋯ ⋯ | TTTGTCCCATTGTGTG &lt;dbl&gt; | TTTGTCTAGTCCTTTG &lt;dbl&gt; | TTTGTGAAGCATGGTT &lt;dbl&gt; | TTTGTGAAGGTTAGAG &lt;dbl&gt; | TTTGTGGCAAAGCGCA &lt;dbl&gt; | TTTGTGGCAGGAACTG &lt;dbl&gt; | TTTGTGTTCAGGCCTA &lt;dbl&gt; | TTTGTGTTCATTGTTC &lt;dbl&gt; | TTTGTGTTCCGTTATT &lt;dbl&gt; | TTTGTGTTCTAATCCT &lt;dbl&gt; |\n",
       "|---|---|---|---|---|---|---|---|---|---|---|---|---|---|---|---|---|---|---|---|---|---|\n",
       "| 1 | ENSG00000000457 | 0 | 0 | 0 | 0 | 0 | 0 | 0 | 0 | 0 | ⋯ | 1 | 0 | 0 | 0 | 0 | 0 | 2 | 0 | 0 | 0 |\n",
       "| 2 | ENSG00000000460 | 0 | 0 | 0 | 0 | 0 | 0 | 0 | 0 | 0 | ⋯ | 1 | 0 | 0 | 0 | 0 | 0 | 0 | 0 | 0 | 0 |\n",
       "| 3 | ENSG00000000938 | 0 | 0 | 0 | 0 | 0 | 0 | 0 | 0 | 0 | ⋯ | 0 | 0 | 0 | 0 | 0 | 0 | 0 | 0 | 0 | 0 |\n",
       "| 4 | ENSG00000000971 | 0 | 0 | 0 | 0 | 0 | 0 | 0 | 0 | 0 | ⋯ | 0 | 0 | 0 | 0 | 0 | 0 | 0 | 0 | 0 | 0 |\n",
       "| 5 | ENSG00000001460 | 0 | 0 | 0 | 0 | 0 | 0 | 0 | 0 | 0 | ⋯ | 1 | 0 | 0 | 0 | 0 | 0 | 0 | 0 | 0 | 0 |\n",
       "| 6 | ENSG00000001461 | 3 | 0 | 0 | 2 | 0 | 0 | 0 | 0 | 0 | ⋯ | 5 | 0 | 0 | 0 | 0 | 0 | 0 | 0 | 0 | 0 |\n",
       "\n"
      ],
      "text/plain": [
       "  feature_id      AAACAGCCAACATAAG AAACAGCCATGTTGGC AAACATGCACCGGCTA\n",
       "1 ENSG00000000457 0                0                0               \n",
       "2 ENSG00000000460 0                0                0               \n",
       "3 ENSG00000000938 0                0                0               \n",
       "4 ENSG00000000971 0                0                0               \n",
       "5 ENSG00000001460 0                0                0               \n",
       "6 ENSG00000001461 3                0                0               \n",
       "  AAACATGCACTTAACG AAACATGCATTGTGCA AAACCAACAAATACCT AAACCAACAAGGTAAC\n",
       "1 0                0                0                0               \n",
       "2 0                0                0                0               \n",
       "3 0                0                0                0               \n",
       "4 0                0                0                0               \n",
       "5 0                0                0                0               \n",
       "6 2                0                0                0               \n",
       "  AAACCAACATAGACTT AAACCGAAGCCTGACA ⋯ TTTGTCCCATTGTGTG TTTGTCTAGTCCTTTG\n",
       "1 0                0                ⋯ 1                0               \n",
       "2 0                0                ⋯ 1                0               \n",
       "3 0                0                ⋯ 0                0               \n",
       "4 0                0                ⋯ 0                0               \n",
       "5 0                0                ⋯ 1                0               \n",
       "6 0                0                ⋯ 5                0               \n",
       "  TTTGTGAAGCATGGTT TTTGTGAAGGTTAGAG TTTGTGGCAAAGCGCA TTTGTGGCAGGAACTG\n",
       "1 0                0                0                0               \n",
       "2 0                0                0                0               \n",
       "3 0                0                0                0               \n",
       "4 0                0                0                0               \n",
       "5 0                0                0                0               \n",
       "6 0                0                0                0               \n",
       "  TTTGTGTTCAGGCCTA TTTGTGTTCATTGTTC TTTGTGTTCCGTTATT TTTGTGTTCTAATCCT\n",
       "1 2                0                0                0               \n",
       "2 0                0                0                0               \n",
       "3 0                0                0                0               \n",
       "4 0                0                0                0               \n",
       "5 0                0                0                0               \n",
       "6 0                0                0                0               "
      ]
     },
     "metadata": {},
     "output_type": "display_data"
    }
   ],
   "source": [
    "head(raw_count_Q1)"
   ]
  },
  {
   "cell_type": "markdown",
   "metadata": {},
   "source": [
    "# Code to split the single data into random datasets"
   ]
  },
  {
   "cell_type": "code",
   "execution_count": 12,
   "metadata": {
    "vscode": {
     "languageId": "r"
    }
   },
   "outputs": [],
   "source": [
    "# Function to divide the single cell dataframe in 5 random frames:\n",
    "split_into_groups <- function(df, num_groups = 5, seed =123){\n",
    "    barcode_cols <- setdiff(names(df), \"feature_id\") # I want all the barcodes but not feature_id\n",
    "    set.seed(seed)\n",
    "\n",
    "    barcode_cols <- sample(barcode_cols) #shuffle the barcodes to create random sets\n",
    "\n",
    "    group_size <- ceiling(length(barcode_cols) / num_groups) #Split into groups\n",
    "    groups <- split(barcode_cols, ceiling(1:length(barcode_cols) / group_size)) #Now make the groups\n",
    "\n",
    "    grouped_dfs <- lapply(groups, function(cols) df[, c(\"feature_id\", cols)]) #Make a data.table out of it\n",
    "\n",
    "    return(grouped_dfs)   \n",
    "}"
   ]
  },
  {
   "cell_type": "code",
   "execution_count": 13,
   "metadata": {
    "vscode": {
     "languageId": "r"
    }
   },
   "outputs": [],
   "source": [
    "grouped_data_D0 <- split_into_groups(raw_counts_D0, num_groups = 3, seed=123)"
   ]
  },
  {
   "cell_type": "code",
   "execution_count": 14,
   "metadata": {
    "vscode": {
     "languageId": "r"
    }
   },
   "outputs": [],
   "source": [
    "D0_bulk <- lapply(names(grouped_data_D0), function(sample_name) {\n",
    "  # Get the corresponding group (x) from 'grouped_data_D0'\n",
    "  x <- grouped_data_D0[[sample_name]]\n",
    "  processed <- process_raw_counts(x, D0)\n",
    "  \n",
    "  colnames(processed) <- paste0(\"D0_\", sample_name)\n",
    "  \n",
    "  return(processed)\n",
    "})\n"
   ]
  },
  {
   "cell_type": "code",
   "execution_count": 16,
   "metadata": {
    "vscode": {
     "languageId": "r"
    }
   },
   "outputs": [],
   "source": [
    "grouped_data_Q1 <- split_into_groups(raw_count_Q1, num_groups = 3, seed=123)\n",
    "Q1_bulk <- lapply(names(grouped_data_Q1), function(sample_name) {\n",
    "  # Get the corresponding group (x) from 'grouped_data_D0'\n",
    "  x <- grouped_data_Q1[[sample_name]]\n",
    "    processed <- process_raw_counts(x, Q1)\n",
    "  \n",
    "    colnames(processed) <- paste0(\"Q1_\", sample_name)\n",
    "  \n",
    "  return(processed)\n",
    "})"
   ]
  },
  {
   "cell_type": "code",
   "execution_count": 17,
   "metadata": {
    "vscode": {
     "languageId": "r"
    }
   },
   "outputs": [],
   "source": [
    "for (i in 1:length(D0_bulk)) {\n",
    "  var_name <- paste0(\"D0_\", i)\n",
    "  \n",
    "  # Assign the data frame to the variable name\n",
    "  assign(var_name, D0_bulk[[i]])\n",
    "  df <- get(var_name)  # Get the data frame by its dynamically created name\n",
    "  df <- rownames_to_column(df, var = \"Row.names\")  # Convert row names to column\n",
    "  \n",
    "  # Re-assign the modified data frame back to the variable\n",
    "  assign(var_name, df)\n",
    "}"
   ]
  },
  {
   "cell_type": "code",
   "execution_count": 18,
   "metadata": {
    "vscode": {
     "languageId": "r"
    }
   },
   "outputs": [],
   "source": [
    "for (i in 1:length(Q1_bulk)) {\n",
    "  var_name <- paste0(\"Q1_\", i)\n",
    "  \n",
    "  # Assign the data frame to the variable name\n",
    "  assign(var_name, Q1_bulk[[i]])\n",
    "  df <- get(var_name)  # Get the data frame by its dynamically created name\n",
    "  df <- rownames_to_column(df, var = \"Row.names\")  # Convert row names to column\n",
    "  \n",
    "  # Re-assign the modified data frame back to the variable\n",
    "  assign(var_name, df)\n",
    "}"
   ]
  },
  {
   "cell_type": "code",
   "execution_count": 19,
   "metadata": {
    "vscode": {
     "languageId": "r"
    }
   },
   "outputs": [],
   "source": [
    "bulk_D0_Q1 <- Reduce(function(x, y) merge(x, y, by = \"Row.names\"),\n",
    "               list(D0_1, D0_2,D0_3 ,Q1_1, Q1_2, Q1_3))\n",
    "\n",
    "rownames(bulk_D0_Q1 ) <- bulk_D0_Q1$Row.names\n",
    "bulk_D0_Q1  <- bulk_D0_Q1 [, -1]"
   ]
  },
  {
   "cell_type": "markdown",
   "metadata": {},
   "source": [
    "# Created bulk for D0 vs Q1"
   ]
  },
  {
   "cell_type": "code",
   "execution_count": 20,
   "metadata": {
    "vscode": {
     "languageId": "r"
    }
   },
   "outputs": [
    {
     "data": {
      "text/html": [
       "<table class=\"dataframe\">\n",
       "<caption>A data.frame: 36601 × 6</caption>\n",
       "<thead>\n",
       "\t<tr><th></th><th scope=col>D0_1</th><th scope=col>D0_2</th><th scope=col>D0_3</th><th scope=col>Q1_1</th><th scope=col>Q1_2</th><th scope=col>Q1_3</th></tr>\n",
       "\t<tr><th></th><th scope=col>&lt;dbl&gt;</th><th scope=col>&lt;dbl&gt;</th><th scope=col>&lt;dbl&gt;</th><th scope=col>&lt;dbl&gt;</th><th scope=col>&lt;dbl&gt;</th><th scope=col>&lt;dbl&gt;</th></tr>\n",
       "</thead>\n",
       "<tbody>\n",
       "\t<tr><th scope=row>ENSG00000000003</th><td> 23.0</td><td> 17.0</td><td>  8</td><td>   7.0</td><td>   9.0</td><td>   5.0</td></tr>\n",
       "\t<tr><th scope=row>ENSG00000000005</th><td>  0.0</td><td>  0.0</td><td>  0</td><td>   0.0</td><td>   0.0</td><td>   0.0</td></tr>\n",
       "\t<tr><th scope=row>ENSG00000000419</th><td>207.0</td><td>242.0</td><td>214</td><td> 262.0</td><td> 285.0</td><td> 273.0</td></tr>\n",
       "\t<tr><th scope=row>ENSG00000000457</th><td> 36.0</td><td> 54.5</td><td> 54</td><td>  66.5</td><td>  77.0</td><td>  55.0</td></tr>\n",
       "\t<tr><th scope=row>ENSG00000000460</th><td> 42.0</td><td> 46.5</td><td> 33</td><td>  42.5</td><td>  50.0</td><td>  60.0</td></tr>\n",
       "\t<tr><th scope=row>ENSG00000000938</th><td> 25.0</td><td>  8.0</td><td>  5</td><td>  13.0</td><td>  14.0</td><td>   9.0</td></tr>\n",
       "\t<tr><th scope=row>ENSG00000000971</th><td>  0.0</td><td>  0.0</td><td>  0</td><td>   0.0</td><td>   0.0</td><td>   0.0</td></tr>\n",
       "\t<tr><th scope=row>ENSG00000001036</th><td> 28.0</td><td> 13.0</td><td>  9</td><td>  20.0</td><td>  24.0</td><td>  15.0</td></tr>\n",
       "\t<tr><th scope=row>ENSG00000001084</th><td>111.0</td><td> 58.0</td><td> 89</td><td>  70.0</td><td>  82.0</td><td>  76.0</td></tr>\n",
       "\t<tr><th scope=row>ENSG00000001167</th><td>128.0</td><td>136.0</td><td>139</td><td> 138.0</td><td> 152.0</td><td> 144.0</td></tr>\n",
       "\t<tr><th scope=row>ENSG00000001460</th><td> 26.0</td><td>  4.0</td><td> 19</td><td>  15.0</td><td>  12.0</td><td>   3.0</td></tr>\n",
       "\t<tr><th scope=row>ENSG00000001461</th><td> 63.0</td><td> 57.0</td><td> 66</td><td>  65.0</td><td>  78.0</td><td>  65.0</td></tr>\n",
       "\t<tr><th scope=row>ENSG00000001497</th><td>301.0</td><td>256.0</td><td>234</td><td> 267.0</td><td> 257.0</td><td> 226.0</td></tr>\n",
       "\t<tr><th scope=row>ENSG00000001561</th><td>  0.0</td><td>  6.0</td><td>  4</td><td>   4.0</td><td>   4.0</td><td>   4.0</td></tr>\n",
       "\t<tr><th scope=row>ENSG00000001617</th><td> 28.0</td><td> 38.0</td><td> 29</td><td>  64.0</td><td>  40.0</td><td>  67.0</td></tr>\n",
       "\t<tr><th scope=row>ENSG00000001626</th><td>  0.0</td><td>  0.0</td><td>  0</td><td>   0.0</td><td>   0.0</td><td>   0.0</td></tr>\n",
       "\t<tr><th scope=row>ENSG00000001629</th><td>255.0</td><td>240.0</td><td>217</td><td> 467.0</td><td> 433.0</td><td> 456.0</td></tr>\n",
       "\t<tr><th scope=row>ENSG00000001630</th><td>146.0</td><td>159.0</td><td>165</td><td> 279.0</td><td> 252.0</td><td> 282.0</td></tr>\n",
       "\t<tr><th scope=row>ENSG00000001631</th><td>140.0</td><td>188.0</td><td>186</td><td> 413.0</td><td> 409.5</td><td> 431.5</td></tr>\n",
       "\t<tr><th scope=row>ENSG00000002016</th><td>113.5</td><td>105.5</td><td>104</td><td> 137.0</td><td> 128.0</td><td> 127.0</td></tr>\n",
       "\t<tr><th scope=row>ENSG00000002330</th><td> 93.0</td><td> 81.0</td><td> 73</td><td>  87.0</td><td> 135.0</td><td> 113.0</td></tr>\n",
       "\t<tr><th scope=row>ENSG00000002549</th><td>272.5</td><td>268.0</td><td>272</td><td> 210.0</td><td> 186.0</td><td> 209.0</td></tr>\n",
       "\t<tr><th scope=row>ENSG00000002586</th><td>980.0</td><td>923.0</td><td>999</td><td>1515.0</td><td>1550.0</td><td>1476.0</td></tr>\n",
       "\t<tr><th scope=row>ENSG00000002587</th><td>  5.0</td><td>  1.0</td><td>  1</td><td>  11.0</td><td>  15.0</td><td>  14.0</td></tr>\n",
       "\t<tr><th scope=row>ENSG00000002726</th><td>  0.0</td><td>  0.0</td><td>  0</td><td>   0.0</td><td>   0.0</td><td>   0.0</td></tr>\n",
       "\t<tr><th scope=row>ENSG00000002745</th><td>  4.0</td><td>  3.0</td><td>  1</td><td>  11.0</td><td>   8.0</td><td>  17.0</td></tr>\n",
       "\t<tr><th scope=row>ENSG00000002746</th><td>  3.0</td><td>  0.0</td><td>  8</td><td>   3.0</td><td>   5.0</td><td>   1.0</td></tr>\n",
       "\t<tr><th scope=row>ENSG00000002822</th><td>161.0</td><td>141.0</td><td>180</td><td>  89.0</td><td> 105.0</td><td>  96.0</td></tr>\n",
       "\t<tr><th scope=row>ENSG00000002834</th><td>159.0</td><td>180.0</td><td>149</td><td> 263.0</td><td> 236.0</td><td> 204.5</td></tr>\n",
       "\t<tr><th scope=row>ENSG00000002919</th><td> 30.0</td><td> 36.0</td><td> 22</td><td>  16.0</td><td>  24.0</td><td>  33.0</td></tr>\n",
       "\t<tr><th scope=row>⋮</th><td>⋮</td><td>⋮</td><td>⋮</td><td>⋮</td><td>⋮</td><td>⋮</td></tr>\n",
       "\t<tr><th scope=row>ENSG00000288100</th><td>   0</td><td>   0</td><td>   0</td><td>   0</td><td>   0</td><td>   0</td></tr>\n",
       "\t<tr><th scope=row>ENSG00000288101</th><td>2841</td><td>2609</td><td>2717</td><td>3591</td><td>3406</td><td>3535</td></tr>\n",
       "\t<tr><th scope=row>ENSG00000288102</th><td>   0</td><td>   0</td><td>   0</td><td>   0</td><td>   0</td><td>   0</td></tr>\n",
       "\t<tr><th scope=row>ENSG00000288103</th><td>   0</td><td>   0</td><td>   0</td><td>   0</td><td>   0</td><td>   0</td></tr>\n",
       "\t<tr><th scope=row>ENSG00000288104</th><td>   0</td><td>   0</td><td>   0</td><td>   0</td><td>   0</td><td>   0</td></tr>\n",
       "\t<tr><th scope=row>ENSG00000288105</th><td>   0</td><td>   0</td><td>   0</td><td>   0</td><td>   0</td><td>   0</td></tr>\n",
       "\t<tr><th scope=row>ENSG00000288106</th><td>   0</td><td>   0</td><td>   0</td><td>   0</td><td>   0</td><td>   0</td></tr>\n",
       "\t<tr><th scope=row>ENSG00000288107</th><td>   0</td><td>   0</td><td>   0</td><td>   1</td><td>   1</td><td>   1</td></tr>\n",
       "\t<tr><th scope=row>ENSG00000288108</th><td>   0</td><td>   0</td><td>   0</td><td>   0</td><td>   0</td><td>   0</td></tr>\n",
       "\t<tr><th scope=row>ENSG00000288109</th><td>   0</td><td>   0</td><td>   0</td><td>   0</td><td>   0</td><td>   0</td></tr>\n",
       "\t<tr><th scope=row>ENSG00000288110</th><td>   0</td><td>   0</td><td>   0</td><td>   0</td><td>   0</td><td>   0</td></tr>\n",
       "\t<tr><th scope=row>ENSG00000288111</th><td>   0</td><td>   0</td><td>   0</td><td>   0</td><td>   0</td><td>   0</td></tr>\n",
       "\t<tr><th scope=row>ENSG00000288156</th><td>  50</td><td>  31</td><td>  15</td><td>  24</td><td>  33</td><td>  42</td></tr>\n",
       "\t<tr><th scope=row>ENSG00000288162</th><td>   0</td><td>   0</td><td>   0</td><td>  17</td><td>   9</td><td>  18</td></tr>\n",
       "\t<tr><th scope=row>ENSG00000288172</th><td>   0</td><td>   0</td><td>   0</td><td>   0</td><td>   0</td><td>   0</td></tr>\n",
       "\t<tr><th scope=row>ENSG00000288187</th><td>   0</td><td>   3</td><td>   0</td><td>   0</td><td>   2</td><td>   0</td></tr>\n",
       "\t<tr><th scope=row>ENSG00000288234</th><td>   0</td><td>   0</td><td>   0</td><td>   0</td><td>   0</td><td>   0</td></tr>\n",
       "\t<tr><th scope=row>ENSG00000288235</th><td>   0</td><td>   0</td><td>   0</td><td>   0</td><td>   0</td><td>   0</td></tr>\n",
       "\t<tr><th scope=row>ENSG00000288245</th><td>   0</td><td>   0</td><td>   0</td><td>   0</td><td>   0</td><td>   0</td></tr>\n",
       "\t<tr><th scope=row>ENSG00000288252</th><td>   0</td><td>   0</td><td>   0</td><td>   0</td><td>   0</td><td>   0</td></tr>\n",
       "\t<tr><th scope=row>ENSG00000288253</th><td>   3</td><td>   3</td><td>   1</td><td>   6</td><td>   2</td><td>   5</td></tr>\n",
       "\t<tr><th scope=row>ENSG00000288300</th><td>   0</td><td>   0</td><td>   0</td><td>   0</td><td>   0</td><td>   0</td></tr>\n",
       "\t<tr><th scope=row>ENSG00000288302</th><td> 106</td><td> 104</td><td>  92</td><td> 240</td><td> 247</td><td> 258</td></tr>\n",
       "\t<tr><th scope=row>ENSG00000288321</th><td>   0</td><td>   0</td><td>   0</td><td>   0</td><td>   0</td><td>   0</td></tr>\n",
       "\t<tr><th scope=row>ENSG00000288330</th><td>   0</td><td>   0</td><td>   0</td><td>   0</td><td>   0</td><td>   0</td></tr>\n",
       "\t<tr><th scope=row>ENSG00000288380</th><td>  53</td><td>  37</td><td>  76</td><td> 103</td><td> 102</td><td> 132</td></tr>\n",
       "\t<tr><th scope=row>ENSG00000288398</th><td>  13</td><td>   7</td><td>   8</td><td>  27</td><td>  15</td><td>   4</td></tr>\n",
       "\t<tr><th scope=row>ENSG00000288436</th><td>   0</td><td>   0</td><td>   0</td><td>   0</td><td>   0</td><td>   0</td></tr>\n",
       "\t<tr><th scope=row>ENSG00000288459</th><td>   0</td><td>   0</td><td>   0</td><td>   0</td><td>   0</td><td>   0</td></tr>\n",
       "\t<tr><th scope=row>ENSG00000288460</th><td>   0</td><td>   0</td><td>   0</td><td>   0</td><td>   0</td><td>   0</td></tr>\n",
       "</tbody>\n",
       "</table>\n"
      ],
      "text/latex": [
       "A data.frame: 36601 × 6\n",
       "\\begin{tabular}{r|llllll}\n",
       "  & D0\\_1 & D0\\_2 & D0\\_3 & Q1\\_1 & Q1\\_2 & Q1\\_3\\\\\n",
       "  & <dbl> & <dbl> & <dbl> & <dbl> & <dbl> & <dbl>\\\\\n",
       "\\hline\n",
       "\tENSG00000000003 &  23.0 &  17.0 &   8 &    7.0 &    9.0 &    5.0\\\\\n",
       "\tENSG00000000005 &   0.0 &   0.0 &   0 &    0.0 &    0.0 &    0.0\\\\\n",
       "\tENSG00000000419 & 207.0 & 242.0 & 214 &  262.0 &  285.0 &  273.0\\\\\n",
       "\tENSG00000000457 &  36.0 &  54.5 &  54 &   66.5 &   77.0 &   55.0\\\\\n",
       "\tENSG00000000460 &  42.0 &  46.5 &  33 &   42.5 &   50.0 &   60.0\\\\\n",
       "\tENSG00000000938 &  25.0 &   8.0 &   5 &   13.0 &   14.0 &    9.0\\\\\n",
       "\tENSG00000000971 &   0.0 &   0.0 &   0 &    0.0 &    0.0 &    0.0\\\\\n",
       "\tENSG00000001036 &  28.0 &  13.0 &   9 &   20.0 &   24.0 &   15.0\\\\\n",
       "\tENSG00000001084 & 111.0 &  58.0 &  89 &   70.0 &   82.0 &   76.0\\\\\n",
       "\tENSG00000001167 & 128.0 & 136.0 & 139 &  138.0 &  152.0 &  144.0\\\\\n",
       "\tENSG00000001460 &  26.0 &   4.0 &  19 &   15.0 &   12.0 &    3.0\\\\\n",
       "\tENSG00000001461 &  63.0 &  57.0 &  66 &   65.0 &   78.0 &   65.0\\\\\n",
       "\tENSG00000001497 & 301.0 & 256.0 & 234 &  267.0 &  257.0 &  226.0\\\\\n",
       "\tENSG00000001561 &   0.0 &   6.0 &   4 &    4.0 &    4.0 &    4.0\\\\\n",
       "\tENSG00000001617 &  28.0 &  38.0 &  29 &   64.0 &   40.0 &   67.0\\\\\n",
       "\tENSG00000001626 &   0.0 &   0.0 &   0 &    0.0 &    0.0 &    0.0\\\\\n",
       "\tENSG00000001629 & 255.0 & 240.0 & 217 &  467.0 &  433.0 &  456.0\\\\\n",
       "\tENSG00000001630 & 146.0 & 159.0 & 165 &  279.0 &  252.0 &  282.0\\\\\n",
       "\tENSG00000001631 & 140.0 & 188.0 & 186 &  413.0 &  409.5 &  431.5\\\\\n",
       "\tENSG00000002016 & 113.5 & 105.5 & 104 &  137.0 &  128.0 &  127.0\\\\\n",
       "\tENSG00000002330 &  93.0 &  81.0 &  73 &   87.0 &  135.0 &  113.0\\\\\n",
       "\tENSG00000002549 & 272.5 & 268.0 & 272 &  210.0 &  186.0 &  209.0\\\\\n",
       "\tENSG00000002586 & 980.0 & 923.0 & 999 & 1515.0 & 1550.0 & 1476.0\\\\\n",
       "\tENSG00000002587 &   5.0 &   1.0 &   1 &   11.0 &   15.0 &   14.0\\\\\n",
       "\tENSG00000002726 &   0.0 &   0.0 &   0 &    0.0 &    0.0 &    0.0\\\\\n",
       "\tENSG00000002745 &   4.0 &   3.0 &   1 &   11.0 &    8.0 &   17.0\\\\\n",
       "\tENSG00000002746 &   3.0 &   0.0 &   8 &    3.0 &    5.0 &    1.0\\\\\n",
       "\tENSG00000002822 & 161.0 & 141.0 & 180 &   89.0 &  105.0 &   96.0\\\\\n",
       "\tENSG00000002834 & 159.0 & 180.0 & 149 &  263.0 &  236.0 &  204.5\\\\\n",
       "\tENSG00000002919 &  30.0 &  36.0 &  22 &   16.0 &   24.0 &   33.0\\\\\n",
       "\t⋮ & ⋮ & ⋮ & ⋮ & ⋮ & ⋮ & ⋮\\\\\n",
       "\tENSG00000288100 &    0 &    0 &    0 &    0 &    0 &    0\\\\\n",
       "\tENSG00000288101 & 2841 & 2609 & 2717 & 3591 & 3406 & 3535\\\\\n",
       "\tENSG00000288102 &    0 &    0 &    0 &    0 &    0 &    0\\\\\n",
       "\tENSG00000288103 &    0 &    0 &    0 &    0 &    0 &    0\\\\\n",
       "\tENSG00000288104 &    0 &    0 &    0 &    0 &    0 &    0\\\\\n",
       "\tENSG00000288105 &    0 &    0 &    0 &    0 &    0 &    0\\\\\n",
       "\tENSG00000288106 &    0 &    0 &    0 &    0 &    0 &    0\\\\\n",
       "\tENSG00000288107 &    0 &    0 &    0 &    1 &    1 &    1\\\\\n",
       "\tENSG00000288108 &    0 &    0 &    0 &    0 &    0 &    0\\\\\n",
       "\tENSG00000288109 &    0 &    0 &    0 &    0 &    0 &    0\\\\\n",
       "\tENSG00000288110 &    0 &    0 &    0 &    0 &    0 &    0\\\\\n",
       "\tENSG00000288111 &    0 &    0 &    0 &    0 &    0 &    0\\\\\n",
       "\tENSG00000288156 &   50 &   31 &   15 &   24 &   33 &   42\\\\\n",
       "\tENSG00000288162 &    0 &    0 &    0 &   17 &    9 &   18\\\\\n",
       "\tENSG00000288172 &    0 &    0 &    0 &    0 &    0 &    0\\\\\n",
       "\tENSG00000288187 &    0 &    3 &    0 &    0 &    2 &    0\\\\\n",
       "\tENSG00000288234 &    0 &    0 &    0 &    0 &    0 &    0\\\\\n",
       "\tENSG00000288235 &    0 &    0 &    0 &    0 &    0 &    0\\\\\n",
       "\tENSG00000288245 &    0 &    0 &    0 &    0 &    0 &    0\\\\\n",
       "\tENSG00000288252 &    0 &    0 &    0 &    0 &    0 &    0\\\\\n",
       "\tENSG00000288253 &    3 &    3 &    1 &    6 &    2 &    5\\\\\n",
       "\tENSG00000288300 &    0 &    0 &    0 &    0 &    0 &    0\\\\\n",
       "\tENSG00000288302 &  106 &  104 &   92 &  240 &  247 &  258\\\\\n",
       "\tENSG00000288321 &    0 &    0 &    0 &    0 &    0 &    0\\\\\n",
       "\tENSG00000288330 &    0 &    0 &    0 &    0 &    0 &    0\\\\\n",
       "\tENSG00000288380 &   53 &   37 &   76 &  103 &  102 &  132\\\\\n",
       "\tENSG00000288398 &   13 &    7 &    8 &   27 &   15 &    4\\\\\n",
       "\tENSG00000288436 &    0 &    0 &    0 &    0 &    0 &    0\\\\\n",
       "\tENSG00000288459 &    0 &    0 &    0 &    0 &    0 &    0\\\\\n",
       "\tENSG00000288460 &    0 &    0 &    0 &    0 &    0 &    0\\\\\n",
       "\\end{tabular}\n"
      ],
      "text/markdown": [
       "\n",
       "A data.frame: 36601 × 6\n",
       "\n",
       "| <!--/--> | D0_1 &lt;dbl&gt; | D0_2 &lt;dbl&gt; | D0_3 &lt;dbl&gt; | Q1_1 &lt;dbl&gt; | Q1_2 &lt;dbl&gt; | Q1_3 &lt;dbl&gt; |\n",
       "|---|---|---|---|---|---|---|\n",
       "| ENSG00000000003 |  23.0 |  17.0 |   8 |    7.0 |    9.0 |    5.0 |\n",
       "| ENSG00000000005 |   0.0 |   0.0 |   0 |    0.0 |    0.0 |    0.0 |\n",
       "| ENSG00000000419 | 207.0 | 242.0 | 214 |  262.0 |  285.0 |  273.0 |\n",
       "| ENSG00000000457 |  36.0 |  54.5 |  54 |   66.5 |   77.0 |   55.0 |\n",
       "| ENSG00000000460 |  42.0 |  46.5 |  33 |   42.5 |   50.0 |   60.0 |\n",
       "| ENSG00000000938 |  25.0 |   8.0 |   5 |   13.0 |   14.0 |    9.0 |\n",
       "| ENSG00000000971 |   0.0 |   0.0 |   0 |    0.0 |    0.0 |    0.0 |\n",
       "| ENSG00000001036 |  28.0 |  13.0 |   9 |   20.0 |   24.0 |   15.0 |\n",
       "| ENSG00000001084 | 111.0 |  58.0 |  89 |   70.0 |   82.0 |   76.0 |\n",
       "| ENSG00000001167 | 128.0 | 136.0 | 139 |  138.0 |  152.0 |  144.0 |\n",
       "| ENSG00000001460 |  26.0 |   4.0 |  19 |   15.0 |   12.0 |    3.0 |\n",
       "| ENSG00000001461 |  63.0 |  57.0 |  66 |   65.0 |   78.0 |   65.0 |\n",
       "| ENSG00000001497 | 301.0 | 256.0 | 234 |  267.0 |  257.0 |  226.0 |\n",
       "| ENSG00000001561 |   0.0 |   6.0 |   4 |    4.0 |    4.0 |    4.0 |\n",
       "| ENSG00000001617 |  28.0 |  38.0 |  29 |   64.0 |   40.0 |   67.0 |\n",
       "| ENSG00000001626 |   0.0 |   0.0 |   0 |    0.0 |    0.0 |    0.0 |\n",
       "| ENSG00000001629 | 255.0 | 240.0 | 217 |  467.0 |  433.0 |  456.0 |\n",
       "| ENSG00000001630 | 146.0 | 159.0 | 165 |  279.0 |  252.0 |  282.0 |\n",
       "| ENSG00000001631 | 140.0 | 188.0 | 186 |  413.0 |  409.5 |  431.5 |\n",
       "| ENSG00000002016 | 113.5 | 105.5 | 104 |  137.0 |  128.0 |  127.0 |\n",
       "| ENSG00000002330 |  93.0 |  81.0 |  73 |   87.0 |  135.0 |  113.0 |\n",
       "| ENSG00000002549 | 272.5 | 268.0 | 272 |  210.0 |  186.0 |  209.0 |\n",
       "| ENSG00000002586 | 980.0 | 923.0 | 999 | 1515.0 | 1550.0 | 1476.0 |\n",
       "| ENSG00000002587 |   5.0 |   1.0 |   1 |   11.0 |   15.0 |   14.0 |\n",
       "| ENSG00000002726 |   0.0 |   0.0 |   0 |    0.0 |    0.0 |    0.0 |\n",
       "| ENSG00000002745 |   4.0 |   3.0 |   1 |   11.0 |    8.0 |   17.0 |\n",
       "| ENSG00000002746 |   3.0 |   0.0 |   8 |    3.0 |    5.0 |    1.0 |\n",
       "| ENSG00000002822 | 161.0 | 141.0 | 180 |   89.0 |  105.0 |   96.0 |\n",
       "| ENSG00000002834 | 159.0 | 180.0 | 149 |  263.0 |  236.0 |  204.5 |\n",
       "| ENSG00000002919 |  30.0 |  36.0 |  22 |   16.0 |   24.0 |   33.0 |\n",
       "| ⋮ | ⋮ | ⋮ | ⋮ | ⋮ | ⋮ | ⋮ |\n",
       "| ENSG00000288100 |    0 |    0 |    0 |    0 |    0 |    0 |\n",
       "| ENSG00000288101 | 2841 | 2609 | 2717 | 3591 | 3406 | 3535 |\n",
       "| ENSG00000288102 |    0 |    0 |    0 |    0 |    0 |    0 |\n",
       "| ENSG00000288103 |    0 |    0 |    0 |    0 |    0 |    0 |\n",
       "| ENSG00000288104 |    0 |    0 |    0 |    0 |    0 |    0 |\n",
       "| ENSG00000288105 |    0 |    0 |    0 |    0 |    0 |    0 |\n",
       "| ENSG00000288106 |    0 |    0 |    0 |    0 |    0 |    0 |\n",
       "| ENSG00000288107 |    0 |    0 |    0 |    1 |    1 |    1 |\n",
       "| ENSG00000288108 |    0 |    0 |    0 |    0 |    0 |    0 |\n",
       "| ENSG00000288109 |    0 |    0 |    0 |    0 |    0 |    0 |\n",
       "| ENSG00000288110 |    0 |    0 |    0 |    0 |    0 |    0 |\n",
       "| ENSG00000288111 |    0 |    0 |    0 |    0 |    0 |    0 |\n",
       "| ENSG00000288156 |   50 |   31 |   15 |   24 |   33 |   42 |\n",
       "| ENSG00000288162 |    0 |    0 |    0 |   17 |    9 |   18 |\n",
       "| ENSG00000288172 |    0 |    0 |    0 |    0 |    0 |    0 |\n",
       "| ENSG00000288187 |    0 |    3 |    0 |    0 |    2 |    0 |\n",
       "| ENSG00000288234 |    0 |    0 |    0 |    0 |    0 |    0 |\n",
       "| ENSG00000288235 |    0 |    0 |    0 |    0 |    0 |    0 |\n",
       "| ENSG00000288245 |    0 |    0 |    0 |    0 |    0 |    0 |\n",
       "| ENSG00000288252 |    0 |    0 |    0 |    0 |    0 |    0 |\n",
       "| ENSG00000288253 |    3 |    3 |    1 |    6 |    2 |    5 |\n",
       "| ENSG00000288300 |    0 |    0 |    0 |    0 |    0 |    0 |\n",
       "| ENSG00000288302 |  106 |  104 |   92 |  240 |  247 |  258 |\n",
       "| ENSG00000288321 |    0 |    0 |    0 |    0 |    0 |    0 |\n",
       "| ENSG00000288330 |    0 |    0 |    0 |    0 |    0 |    0 |\n",
       "| ENSG00000288380 |   53 |   37 |   76 |  103 |  102 |  132 |\n",
       "| ENSG00000288398 |   13 |    7 |    8 |   27 |   15 |    4 |\n",
       "| ENSG00000288436 |    0 |    0 |    0 |    0 |    0 |    0 |\n",
       "| ENSG00000288459 |    0 |    0 |    0 |    0 |    0 |    0 |\n",
       "| ENSG00000288460 |    0 |    0 |    0 |    0 |    0 |    0 |\n",
       "\n"
      ],
      "text/plain": [
       "                D0_1  D0_2  D0_3 Q1_1   Q1_2   Q1_3  \n",
       "ENSG00000000003  23.0  17.0   8     7.0    9.0    5.0\n",
       "ENSG00000000005   0.0   0.0   0     0.0    0.0    0.0\n",
       "ENSG00000000419 207.0 242.0 214   262.0  285.0  273.0\n",
       "ENSG00000000457  36.0  54.5  54    66.5   77.0   55.0\n",
       "ENSG00000000460  42.0  46.5  33    42.5   50.0   60.0\n",
       "ENSG00000000938  25.0   8.0   5    13.0   14.0    9.0\n",
       "ENSG00000000971   0.0   0.0   0     0.0    0.0    0.0\n",
       "ENSG00000001036  28.0  13.0   9    20.0   24.0   15.0\n",
       "ENSG00000001084 111.0  58.0  89    70.0   82.0   76.0\n",
       "ENSG00000001167 128.0 136.0 139   138.0  152.0  144.0\n",
       "ENSG00000001460  26.0   4.0  19    15.0   12.0    3.0\n",
       "ENSG00000001461  63.0  57.0  66    65.0   78.0   65.0\n",
       "ENSG00000001497 301.0 256.0 234   267.0  257.0  226.0\n",
       "ENSG00000001561   0.0   6.0   4     4.0    4.0    4.0\n",
       "ENSG00000001617  28.0  38.0  29    64.0   40.0   67.0\n",
       "ENSG00000001626   0.0   0.0   0     0.0    0.0    0.0\n",
       "ENSG00000001629 255.0 240.0 217   467.0  433.0  456.0\n",
       "ENSG00000001630 146.0 159.0 165   279.0  252.0  282.0\n",
       "ENSG00000001631 140.0 188.0 186   413.0  409.5  431.5\n",
       "ENSG00000002016 113.5 105.5 104   137.0  128.0  127.0\n",
       "ENSG00000002330  93.0  81.0  73    87.0  135.0  113.0\n",
       "ENSG00000002549 272.5 268.0 272   210.0  186.0  209.0\n",
       "ENSG00000002586 980.0 923.0 999  1515.0 1550.0 1476.0\n",
       "ENSG00000002587   5.0   1.0   1    11.0   15.0   14.0\n",
       "ENSG00000002726   0.0   0.0   0     0.0    0.0    0.0\n",
       "ENSG00000002745   4.0   3.0   1    11.0    8.0   17.0\n",
       "ENSG00000002746   3.0   0.0   8     3.0    5.0    1.0\n",
       "ENSG00000002822 161.0 141.0 180    89.0  105.0   96.0\n",
       "ENSG00000002834 159.0 180.0 149   263.0  236.0  204.5\n",
       "ENSG00000002919  30.0  36.0  22    16.0   24.0   33.0\n",
       "⋮               ⋮     ⋮     ⋮    ⋮      ⋮      ⋮     \n",
       "ENSG00000288100    0     0     0    0      0      0  \n",
       "ENSG00000288101 2841  2609  2717 3591   3406   3535  \n",
       "ENSG00000288102    0     0     0    0      0      0  \n",
       "ENSG00000288103    0     0     0    0      0      0  \n",
       "ENSG00000288104    0     0     0    0      0      0  \n",
       "ENSG00000288105    0     0     0    0      0      0  \n",
       "ENSG00000288106    0     0     0    0      0      0  \n",
       "ENSG00000288107    0     0     0    1      1      1  \n",
       "ENSG00000288108    0     0     0    0      0      0  \n",
       "ENSG00000288109    0     0     0    0      0      0  \n",
       "ENSG00000288110    0     0     0    0      0      0  \n",
       "ENSG00000288111    0     0     0    0      0      0  \n",
       "ENSG00000288156   50    31    15   24     33     42  \n",
       "ENSG00000288162    0     0     0   17      9     18  \n",
       "ENSG00000288172    0     0     0    0      0      0  \n",
       "ENSG00000288187    0     3     0    0      2      0  \n",
       "ENSG00000288234    0     0     0    0      0      0  \n",
       "ENSG00000288235    0     0     0    0      0      0  \n",
       "ENSG00000288245    0     0     0    0      0      0  \n",
       "ENSG00000288252    0     0     0    0      0      0  \n",
       "ENSG00000288253    3     3     1    6      2      5  \n",
       "ENSG00000288300    0     0     0    0      0      0  \n",
       "ENSG00000288302  106   104    92  240    247    258  \n",
       "ENSG00000288321    0     0     0    0      0      0  \n",
       "ENSG00000288330    0     0     0    0      0      0  \n",
       "ENSG00000288380   53    37    76  103    102    132  \n",
       "ENSG00000288398   13     7     8   27     15      4  \n",
       "ENSG00000288436    0     0     0    0      0      0  \n",
       "ENSG00000288459    0     0     0    0      0      0  \n",
       "ENSG00000288460    0     0     0    0      0      0  "
      ]
     },
     "metadata": {},
     "output_type": "display_data"
    }
   ],
   "source": [
    "bulk_D0_Q1"
   ]
  },
  {
   "cell_type": "code",
   "execution_count": 21,
   "metadata": {
    "vscode": {
     "languageId": "r"
    }
   },
   "outputs": [],
   "source": [
    "bulk_D0_Q1 <- bulk_D0_Q1[, c(\"Q1_1\", \"Q1_2\", \"Q1_3\", \"D0_1\", \"D0_2\", \"D0_3\")]"
   ]
  },
  {
   "cell_type": "code",
   "execution_count": 22,
   "metadata": {
    "vscode": {
     "languageId": "r"
    }
   },
   "outputs": [
    {
     "name": "stdout",
     "output_type": "stream",
     "text": [
      "     sample condition\n",
      "Q1_1   Q1_1   treated\n",
      "Q1_2   Q1_2   treated\n",
      "Q1_3   Q1_3   treated\n",
      "D0_1   D0_1 untreated\n",
      "D0_2   D0_2 untreated\n",
      "D0_3   D0_3 untreated\n"
     ]
    }
   ],
   "source": [
    "# Define samples and conditions\n",
    "samples <- colnames(bulk_D0_Q1)\n",
    "condition <- c(\"treated\", \"treated\", \"treated\", \n",
    "               \"untreated\", \"untreated\", \"untreated\")\n",
    "\n",
    "# Create the coldata data frame (without duplicate row names)\n",
    "coldata <- data.frame(sample = samples, condition = condition, row.names = samples)\n",
    "\n",
    "# View the data frame\n",
    "print(coldata)\n"
   ]
  },
  {
   "cell_type": "code",
   "execution_count": 23,
   "metadata": {
    "vscode": {
     "languageId": "r"
    }
   },
   "outputs": [],
   "source": [
    "bulk_D0_Q1 <- as.matrix(bulk_D0_Q1)\n",
    "bulk_D0_Q1[] <- as.integer(bulk_D0_Q1)"
   ]
  },
  {
   "cell_type": "code",
   "execution_count": 24,
   "metadata": {
    "vscode": {
     "languageId": "r"
    }
   },
   "outputs": [
    {
     "name": "stderr",
     "output_type": "stream",
     "text": [
      "converting counts to integer mode\n",
      "\n",
      "Warning message in DESeqDataSet(se, design = design, ignoreRank):\n",
      "“some variables in design formula are characters, converting to factors”\n"
     ]
    },
    {
     "data": {
      "text/plain": [
       "class: DESeqDataSet \n",
       "dim: 36601 6 \n",
       "metadata(1): version\n",
       "assays(1): counts\n",
       "rownames(36601): ENSG00000000003 ENSG00000000005 ... ENSG00000288459\n",
       "  ENSG00000288460\n",
       "rowData names(0):\n",
       "colnames(6): Q1_1 Q1_2 ... D0_2 D0_3\n",
       "colData names(2): sample condition"
      ]
     },
     "metadata": {},
     "output_type": "display_data"
    }
   ],
   "source": [
    "dds <- DESeqDataSetFromMatrix(countData = bulk_D0_Q1,\n",
    "                              colData = coldata,\n",
    "                              design = ~ condition)\n",
    "dds"
   ]
  },
  {
   "cell_type": "code",
   "execution_count": 25,
   "metadata": {
    "vscode": {
     "languageId": "r"
    }
   },
   "outputs": [
    {
     "data": {
      "text/plain": [
       "class: DESeqDataSet \n",
       "dim: 16192 6 \n",
       "metadata(1): version\n",
       "assays(1): counts\n",
       "rownames(16192): ENSG00000000003 ENSG00000000419 ... ENSG00000288380\n",
       "  ENSG00000288398\n",
       "rowData names(0):\n",
       "colnames(6): Q1_1 Q1_2 ... D0_2 D0_3\n",
       "colData names(2): sample condition"
      ]
     },
     "metadata": {},
     "output_type": "display_data"
    }
   ],
   "source": [
    "#Pre-filtering:\n",
    "# If the counts it smaller tham 10 in all samples than filter out\n",
    "#smallestGroupSize = 4, you're saying that a gene must have counts greater than or equal to 10 in at least 4 samples in order to be kept.\n",
    "#So set to 1 first\n",
    "keep <- rowSums(counts(dds) >= 10) >= 1\n",
    "dds <- dds[keep,]\n",
    "dds"
   ]
  },
  {
   "cell_type": "code",
   "execution_count": 26,
   "metadata": {
    "vscode": {
     "languageId": "r"
    }
   },
   "outputs": [
    {
     "name": "stderr",
     "output_type": "stream",
     "text": [
      "estimating size factors\n",
      "\n",
      "estimating dispersions\n",
      "\n",
      "gene-wise dispersion estimates\n",
      "\n",
      "mean-dispersion relationship\n",
      "\n",
      "final dispersion estimates\n",
      "\n",
      "fitting model and testing\n",
      "\n"
     ]
    }
   ],
   "source": [
    "dds$condition <- relevel(dds$condition, ref = \"untreated\")\n",
    "dds <- DESeq(dds)\n",
    "res <- results(dds, contrast=c(\"condition\", \"treated\", \"untreated\"), alpha=0.05)"
   ]
  },
  {
   "cell_type": "code",
   "execution_count": null,
   "metadata": {
    "vscode": {
     "languageId": "r"
    }
   },
   "outputs": [],
   "source": [
    "GFFfile <- readGFF(\"/gencode.v43.basic.annotation.gtf\")"
   ]
  },
  {
   "cell_type": "code",
   "execution_count": 28,
   "metadata": {
    "vscode": {
     "languageId": "r"
    }
   },
   "outputs": [
    {
     "data": {
      "text/html": [
       "<table class=\"dataframe\">\n",
       "<caption>A data.frame: 6 × 2</caption>\n",
       "<thead>\n",
       "\t<tr><th></th><th scope=col>gene_name</th><th scope=col>gene_id</th></tr>\n",
       "\t<tr><th></th><th scope=col>&lt;chr&gt;</th><th scope=col>&lt;chr&gt;</th></tr>\n",
       "</thead>\n",
       "<tbody>\n",
       "\t<tr><th scope=row>1</th><td>DDX11L2    </td><td>ENSG00000290825</td></tr>\n",
       "\t<tr><th scope=row>6</th><td>DDX11L1    </td><td>ENSG00000223972</td></tr>\n",
       "\t<tr><th scope=row>14</th><td>WASH7P     </td><td>ENSG00000227232</td></tr>\n",
       "\t<tr><th scope=row>27</th><td>MIR6859-1  </td><td>ENSG00000278267</td></tr>\n",
       "\t<tr><th scope=row>30</th><td>MIR1302-2HG</td><td>ENSG00000243485</td></tr>\n",
       "\t<tr><th scope=row>38</th><td>MIR1302-2  </td><td>ENSG00000284332</td></tr>\n",
       "</tbody>\n",
       "</table>\n"
      ],
      "text/latex": [
       "A data.frame: 6 × 2\n",
       "\\begin{tabular}{r|ll}\n",
       "  & gene\\_name & gene\\_id\\\\\n",
       "  & <chr> & <chr>\\\\\n",
       "\\hline\n",
       "\t1 & DDX11L2     & ENSG00000290825\\\\\n",
       "\t6 & DDX11L1     & ENSG00000223972\\\\\n",
       "\t14 & WASH7P      & ENSG00000227232\\\\\n",
       "\t27 & MIR6859-1   & ENSG00000278267\\\\\n",
       "\t30 & MIR1302-2HG & ENSG00000243485\\\\\n",
       "\t38 & MIR1302-2   & ENSG00000284332\\\\\n",
       "\\end{tabular}\n"
      ],
      "text/markdown": [
       "\n",
       "A data.frame: 6 × 2\n",
       "\n",
       "| <!--/--> | gene_name &lt;chr&gt; | gene_id &lt;chr&gt; |\n",
       "|---|---|---|\n",
       "| 1 | DDX11L2     | ENSG00000290825 |\n",
       "| 6 | DDX11L1     | ENSG00000223972 |\n",
       "| 14 | WASH7P      | ENSG00000227232 |\n",
       "| 27 | MIR6859-1   | ENSG00000278267 |\n",
       "| 30 | MIR1302-2HG | ENSG00000243485 |\n",
       "| 38 | MIR1302-2   | ENSG00000284332 |\n",
       "\n"
      ],
      "text/plain": [
       "   gene_name   gene_id        \n",
       "1  DDX11L2     ENSG00000290825\n",
       "6  DDX11L1     ENSG00000223972\n",
       "14 WASH7P      ENSG00000227232\n",
       "27 MIR6859-1   ENSG00000278267\n",
       "30 MIR1302-2HG ENSG00000243485\n",
       "38 MIR1302-2   ENSG00000284332"
      ]
     },
     "metadata": {},
     "output_type": "display_data"
    }
   ],
   "source": [
    "GFFfile <- GFFfile %>% select(gene_name, gene_id)\n",
    "GFFfile <- GFFfile %>%\n",
    "  mutate(gene_id = sapply(str_split(gene_id, \"\\\\.\"), function(x) x[1]))\n",
    "GFFfile <- GFFfile[!duplicated(GFFfile$gene_name), ]\n",
    "head(GFFfile)"
   ]
  },
  {
   "cell_type": "code",
   "execution_count": 29,
   "metadata": {
    "vscode": {
     "languageId": "r"
    }
   },
   "outputs": [
    {
     "data": {
      "text/html": [
       "<table class=\"dataframe\">\n",
       "<caption>A data.frame: 16112 × 8</caption>\n",
       "<thead>\n",
       "\t<tr><th scope=col>Row.names</th><th scope=col>baseMean</th><th scope=col>log2FoldChange</th><th scope=col>lfcSE</th><th scope=col>stat</th><th scope=col>pvalue</th><th scope=col>padj</th><th scope=col>gene_name</th></tr>\n",
       "\t<tr><th scope=col>&lt;I&lt;chr&gt;&gt;</th><th scope=col>&lt;dbl&gt;</th><th scope=col>&lt;dbl&gt;</th><th scope=col>&lt;dbl&gt;</th><th scope=col>&lt;dbl&gt;</th><th scope=col>&lt;dbl&gt;</th><th scope=col>&lt;dbl&gt;</th><th scope=col>&lt;chr&gt;</th></tr>\n",
       "</thead>\n",
       "<tbody>\n",
       "\t<tr><td>ENSG00000000003</td><td>  12.026017</td><td>-1.54704471</td><td>0.62256050</td><td>-2.48497087</td><td>1.295620e-02</td><td>4.051503e-02</td><td>TSPAN6  </td></tr>\n",
       "\t<tr><td>ENSG00000000419</td><td> 243.618064</td><td>-0.05101503</td><td>0.12854991</td><td>-0.39684998</td><td>6.914781e-01</td><td>8.108055e-01</td><td>DPM1    </td></tr>\n",
       "\t<tr><td>ENSG00000000457</td><td>  55.856464</td><td> 0.10214577</td><td>0.27934454</td><td> 0.36566229</td><td>7.146171e-01</td><td>8.275105e-01</td><td>SCYL3   </td></tr>\n",
       "\t<tr><td>ENSG00000000460</td><td>  44.766758</td><td>-0.02871300</td><td>0.30178069</td><td>-0.09514526</td><td>9.241995e-01</td><td>9.587185e-01</td><td>C1orf112</td></tr>\n",
       "\t<tr><td>ENSG00000000938</td><td>  12.357012</td><td>-0.43325983</td><td>0.63608149</td><td>-0.68113887</td><td>4.957836e-01</td><td>6.543214e-01</td><td>FGR     </td></tr>\n",
       "\t<tr><td>ENSG00000001036</td><td>  17.960175</td><td>-0.11671236</td><td>0.50989946</td><td>-0.22889289</td><td>8.189522e-01</td><td>8.942257e-01</td><td>FUCA2   </td></tr>\n",
       "\t<tr><td>ENSG00000001084</td><td>  81.584496</td><td>-0.53755478</td><td>0.24864165</td><td>-2.16196592</td><td>3.062080e-02</td><td>8.227880e-02</td><td>GCLC    </td></tr>\n",
       "\t<tr><td>ENSG00000001167</td><td> 138.720714</td><td>-0.25118840</td><td>0.16687665</td><td>-1.50523390</td><td>1.322640e-01</td><td>2.586495e-01</td><td>NFYA    </td></tr>\n",
       "\t<tr><td>ENSG00000001460</td><td>  13.584536</td><td>-1.06601277</td><td>0.67054650</td><td>-1.58976712</td><td>1.118873e-01</td><td>2.279415e-01</td><td>STPG1   </td></tr>\n",
       "\t<tr><td>ENSG00000001461</td><td>  65.171585</td><td>-0.19689388</td><td>0.24561472</td><td>-0.80163710</td><td>4.227629e-01</td><td>5.902714e-01</td><td>NIPAL3  </td></tr>\n",
       "\t<tr><td>ENSG00000001497</td><td> 257.383070</td><td>-0.43400805</td><td>0.13425375</td><td>-3.23274425</td><td>1.226073e-03</td><td>5.493805e-03</td><td>LAS1L   </td></tr>\n",
       "\t<tr><td>ENSG00000001617</td><td>  42.678986</td><td> 0.48969747</td><td>0.32208279</td><td> 1.52040868</td><td>1.284083e-01</td><td>2.527887e-01</td><td>SEMA3F  </td></tr>\n",
       "\t<tr><td>ENSG00000001629</td><td> 330.979273</td><td> 0.57161113</td><td>0.11202245</td><td> 5.10264784</td><td>3.349339e-07</td><td>3.615500e-06</td><td>ANKIB1  </td></tr>\n",
       "\t<tr><td>ENSG00000001630</td><td> 206.533584</td><td> 0.43214144</td><td>0.13999435</td><td> 3.08684904</td><td>2.022903e-03</td><td>8.420269e-03</td><td>CYP51A1 </td></tr>\n",
       "\t<tr><td>ENSG00000001631</td><td> 278.960966</td><td> 0.92726536</td><td>0.13024178</td><td> 7.11956905</td><td>1.082650e-12</td><td>2.428016e-11</td><td>KRIT1   </td></tr>\n",
       "\t<tr><td>ENSG00000002016</td><td> 117.431516</td><td>-0.07410701</td><td>0.18075734</td><td>-0.40998065</td><td>6.818201e-01</td><td>8.033267e-01</td><td>RAD52   </td></tr>\n",
       "\t<tr><td>ENSG00000002330</td><td>  95.069873</td><td> 0.08213750</td><td>0.21990197</td><td> 0.37351871</td><td>7.087624e-01</td><td>8.233217e-01</td><td>BAD     </td></tr>\n",
       "\t<tr><td>ENSG00000002549</td><td> 240.147799</td><td>-0.78286478</td><td>0.12870386</td><td>-6.08268295</td><td>1.181879e-09</td><td>1.854359e-08</td><td>LAP3    </td></tr>\n",
       "\t<tr><td>ENSG00000002586</td><td>1205.675202</td><td> 0.28778440</td><td>0.06115694</td><td> 4.70567049</td><td>2.530329e-06</td><td>2.259851e-05</td><td>CD99    </td></tr>\n",
       "\t<tr><td>ENSG00000002587</td><td>   7.144765</td><td> 2.15679429</td><td>0.85933284</td><td> 2.50984740</td><td>1.207833e-02</td><td>3.833141e-02</td><td>HS3ST1  </td></tr>\n",
       "\t<tr><td>ENSG00000002745</td><td>   6.733894</td><td> 1.81140939</td><td>0.84894901</td><td> 2.13370810</td><td>3.286668e-02</td><td>8.704241e-02</td><td>WNT16   </td></tr>\n",
       "\t<tr><td>ENSG00000002822</td><td> 132.555337</td><td>-1.09188024</td><td>0.18173849</td><td>-6.00797478</td><td>1.878551e-09</td><td>2.861476e-08</td><td>MAD1L1  </td></tr>\n",
       "\t<tr><td>ENSG00000002834</td><td> 193.857845</td><td> 0.16983692</td><td>0.15205517</td><td> 1.11694272</td><td>2.640188e-01</td><td>4.266025e-01</td><td>LASP1   </td></tr>\n",
       "\t<tr><td>ENSG00000002919</td><td>  27.066004</td><td>-0.62741405</td><td>0.40283287</td><td>-1.55750459</td><td>1.193507e-01</td><td>2.391150e-01</td><td>SNX11   </td></tr>\n",
       "\t<tr><td>ENSG00000003056</td><td> 218.206079</td><td>-0.30534977</td><td>0.13561185</td><td>-2.25164510</td><td>2.434471e-02</td><td>6.822701e-02</td><td>M6PR    </td></tr>\n",
       "\t<tr><td>ENSG00000003147</td><td>  11.923346</td><td> 1.46475559</td><td>0.66319428</td><td> 2.20863724</td><td>2.719988e-02</td><td>7.459697e-02</td><td>ICA1    </td></tr>\n",
       "\t<tr><td>ENSG00000003249</td><td>  28.442683</td><td> 2.14709351</td><td>0.43844559</td><td> 4.89705807</td><td>9.728210e-07</td><td>9.558202e-06</td><td>DBNDD1  </td></tr>\n",
       "\t<tr><td>ENSG00000003393</td><td>  88.880262</td><td> 0.46278719</td><td>0.22182324</td><td> 2.08628816</td><td>3.695253e-02</td><td>9.562655e-02</td><td>ALS2    </td></tr>\n",
       "\t<tr><td>ENSG00000003400</td><td>  99.580869</td><td> 0.07575214</td><td>0.20611456</td><td> 0.36752445</td><td>7.132279e-01</td><td>8.263746e-01</td><td>CASP10  </td></tr>\n",
       "\t<tr><td>ENSG00000003402</td><td> 301.540223</td><td> 0.11410246</td><td>0.12630799</td><td> 0.90336686</td><td>3.663312e-01</td><td>5.341409e-01</td><td>CFLAR   </td></tr>\n",
       "\t<tr><td>⋮</td><td>⋮</td><td>⋮</td><td>⋮</td><td>⋮</td><td>⋮</td><td>⋮</td><td>⋮</td></tr>\n",
       "\t<tr><td>ENSG00000287945</td><td>   6.561337</td><td>-0.582160782</td><td>0.78768897</td><td>-0.7390744</td><td>4.598618e-01</td><td>6.241679e-01</td><td>ENSG00000287945</td></tr>\n",
       "\t<tr><td>ENSG00000287957</td><td>  10.979339</td><td> 1.541818043</td><td>0.62998061</td><td> 2.4474056</td><td>1.438888e-02</td><td>4.434427e-02</td><td>ENSG00000287957</td></tr>\n",
       "\t<tr><td>ENSG00000287971</td><td>   5.755640</td><td> 2.360750618</td><td>0.97805632</td><td> 2.4137164</td><td>1.579075e-02</td><td>4.797969e-02</td><td>ENSG00000287971</td></tr>\n",
       "\t<tr><td>ENSG00000287978</td><td> 351.430703</td><td> 0.273977226</td><td>0.12708359</td><td> 2.1558820</td><td>3.109288e-02</td><td>8.316685e-02</td><td>ENSG00000287978</td></tr>\n",
       "\t<tr><td>ENSG00000287979</td><td> 177.151642</td><td> 0.699911978</td><td>0.17114570</td><td> 4.0895679</td><td>4.321775e-05</td><td>2.910906e-04</td><td>ENSG00000287979</td></tr>\n",
       "\t<tr><td>ENSG00000287993</td><td>  76.652354</td><td> 1.688565486</td><td>0.24568726</td><td> 6.8728249</td><td>6.294282e-12</td><td>1.311673e-10</td><td>ENSG00000287993</td></tr>\n",
       "\t<tr><td>ENSG00000288009</td><td>   9.276544</td><td> 0.570431408</td><td>0.70083805</td><td> 0.8139276</td><td>4.156864e-01</td><td>5.837637e-01</td><td>ENSG00000288009</td></tr>\n",
       "\t<tr><td>ENSG00000288012</td><td>  35.787364</td><td>-0.711455973</td><td>0.36909449</td><td>-1.9275714</td><td>5.390846e-02</td><td>1.296622e-01</td><td>ENSG00000288012</td></tr>\n",
       "\t<tr><td>ENSG00000288015</td><td>   3.073354</td><td> 4.895482250</td><td>1.57190560</td><td> 3.1143615</td><td>1.843435e-03</td><td>7.759007e-03</td><td>ENSG00000288015</td></tr>\n",
       "\t<tr><td>ENSG00000288023</td><td>   8.810148</td><td>-6.772981418</td><td>1.34738780</td><td>-5.0267499</td><td>4.988624e-07</td><td>5.191246e-06</td><td>ENSG00000288023</td></tr>\n",
       "\t<tr><td>ENSG00000288025</td><td>  25.401913</td><td> 0.466057236</td><td>0.39444625</td><td> 1.1815481</td><td>2.373850e-01</td><td>3.956450e-01</td><td>ENSG00000288025</td></tr>\n",
       "\t<tr><td>ENSG00000288032</td><td>  12.128725</td><td>-0.678480876</td><td>0.58854671</td><td>-1.1528072</td><td>2.489895e-01</td><td>4.093865e-01</td><td>ENSG00000288032</td></tr>\n",
       "\t<tr><td>ENSG00000288033</td><td>   4.410074</td><td>-1.728939441</td><td>1.07143051</td><td>-1.6136739</td><td>1.065982e-01</td><td>2.193839e-01</td><td>ENSG00000288033</td></tr>\n",
       "\t<tr><td>ENSG00000288044</td><td>  44.520764</td><td>-0.526488465</td><td>0.36045783</td><td>-1.4606104</td><td>1.441224e-01</td><td>2.759732e-01</td><td>ENSG00000288044</td></tr>\n",
       "\t<tr><td>ENSG00000288050</td><td>  10.511017</td><td> 1.086719910</td><td>0.64079208</td><td> 1.6959010</td><td>8.990464e-02</td><td>1.930940e-01</td><td>ENSG00000288050</td></tr>\n",
       "\t<tr><td>ENSG00000288061</td><td>  11.025074</td><td> 0.247117435</td><td>0.60215907</td><td> 0.4103856</td><td>6.815231e-01</td><td>8.032041e-01</td><td>ENSG00000288061</td></tr>\n",
       "\t<tr><td>ENSG00000288066</td><td>  36.922823</td><td> 0.494508348</td><td>0.32670177</td><td> 1.5136384</td><td>1.301176e-01</td><td>2.553574e-01</td><td>ENSG00000288066</td></tr>\n",
       "\t<tr><td>ENSG00000288075</td><td>  52.168861</td><td>-0.028186614</td><td>0.28072523</td><td>-0.1004064</td><td>9.200217e-01</td><td>9.569597e-01</td><td>ENSG00000288075</td></tr>\n",
       "\t<tr><td>ENSG00000288076</td><td>   6.551238</td><td> 1.318829893</td><td>0.81530923</td><td> 1.6175824</td><td>1.057526e-01</td><td>2.181333e-01</td><td>ENSG00000288076</td></tr>\n",
       "\t<tr><td>ENSG00000288080</td><td>   6.561639</td><td> 5.990614442</td><td>1.36793559</td><td> 4.3793103</td><td>1.190555e-05</td><td>9.162294e-05</td><td>ENSG00000288080</td></tr>\n",
       "\t<tr><td>ENSG00000288083</td><td>   7.586777</td><td> 6.199900704</td><td>1.33643275</td><td> 4.6391415</td><td>3.498594e-06</td><td>3.014861e-05</td><td>ENSG00000288083</td></tr>\n",
       "\t<tr><td>ENSG00000288093</td><td>  24.136662</td><td> 0.256107751</td><td>0.46900709</td><td> 0.5460637</td><td>5.850221e-01</td><td>7.282194e-01</td><td>ENSG00000288093</td></tr>\n",
       "\t<tr><td>ENSG00000288095</td><td>   9.585641</td><td> 0.642152309</td><td>0.67875282</td><td> 0.9460768</td><td>3.441094e-01</td><td>5.118243e-01</td><td>ENSG00000288095</td></tr>\n",
       "\t<tr><td>ENSG00000288096</td><td>   9.239791</td><td> 1.192785513</td><td>0.75809462</td><td> 1.5733993</td><td>1.156264e-01</td><td>2.335607e-01</td><td>ENSG00000288096</td></tr>\n",
       "\t<tr><td>ENSG00000288097</td><td>   4.709745</td><td>-3.287961022</td><td>1.25720679</td><td>-2.6152905</td><td>8.915158e-03</td><td>2.988701e-02</td><td>ENSG00000288097</td></tr>\n",
       "\t<tr><td>ENSG00000288101</td><td>3064.531573</td><td> 0.008649854</td><td>0.04188003</td><td> 0.2065389</td><td>8.363700e-01</td><td>9.055840e-01</td><td>ENSG00000288101</td></tr>\n",
       "\t<tr><td>ENSG00000288156</td><td>  32.345889</td><td>-0.312658994</td><td>0.41095988</td><td>-0.7608018</td><td>4.467755e-01</td><td>6.124440e-01</td><td>ENSG00000288156</td></tr>\n",
       "\t<tr><td>ENSG00000288162</td><td>   6.412180</td><td> 5.957512462</td><td>1.37487973</td><td> 4.3331154</td><td>1.470140e-05</td><td>1.105130e-04</td><td>ENSG00000288162</td></tr>\n",
       "\t<tr><td>ENSG00000288302</td><td> 165.155068</td><td> 0.944813215</td><td>0.15762925</td><td> 5.9938953</td><td>2.048733e-09</td><td>3.103188e-08</td><td>ENSG00000288302</td></tr>\n",
       "\t<tr><td>ENSG00000288398</td><td>  11.972362</td><td> 0.361650725</td><td>0.66123155</td><td> 0.5469351</td><td>5.844233e-01</td><td>7.278098e-01</td><td>ENSG00000288398</td></tr>\n",
       "</tbody>\n",
       "</table>\n"
      ],
      "text/latex": [
       "A data.frame: 16112 × 8\n",
       "\\begin{tabular}{llllllll}\n",
       " Row.names & baseMean & log2FoldChange & lfcSE & stat & pvalue & padj & gene\\_name\\\\\n",
       " <I<chr>> & <dbl> & <dbl> & <dbl> & <dbl> & <dbl> & <dbl> & <chr>\\\\\n",
       "\\hline\n",
       "\t ENSG00000000003 &   12.026017 & -1.54704471 & 0.62256050 & -2.48497087 & 1.295620e-02 & 4.051503e-02 & TSPAN6  \\\\\n",
       "\t ENSG00000000419 &  243.618064 & -0.05101503 & 0.12854991 & -0.39684998 & 6.914781e-01 & 8.108055e-01 & DPM1    \\\\\n",
       "\t ENSG00000000457 &   55.856464 &  0.10214577 & 0.27934454 &  0.36566229 & 7.146171e-01 & 8.275105e-01 & SCYL3   \\\\\n",
       "\t ENSG00000000460 &   44.766758 & -0.02871300 & 0.30178069 & -0.09514526 & 9.241995e-01 & 9.587185e-01 & C1orf112\\\\\n",
       "\t ENSG00000000938 &   12.357012 & -0.43325983 & 0.63608149 & -0.68113887 & 4.957836e-01 & 6.543214e-01 & FGR     \\\\\n",
       "\t ENSG00000001036 &   17.960175 & -0.11671236 & 0.50989946 & -0.22889289 & 8.189522e-01 & 8.942257e-01 & FUCA2   \\\\\n",
       "\t ENSG00000001084 &   81.584496 & -0.53755478 & 0.24864165 & -2.16196592 & 3.062080e-02 & 8.227880e-02 & GCLC    \\\\\n",
       "\t ENSG00000001167 &  138.720714 & -0.25118840 & 0.16687665 & -1.50523390 & 1.322640e-01 & 2.586495e-01 & NFYA    \\\\\n",
       "\t ENSG00000001460 &   13.584536 & -1.06601277 & 0.67054650 & -1.58976712 & 1.118873e-01 & 2.279415e-01 & STPG1   \\\\\n",
       "\t ENSG00000001461 &   65.171585 & -0.19689388 & 0.24561472 & -0.80163710 & 4.227629e-01 & 5.902714e-01 & NIPAL3  \\\\\n",
       "\t ENSG00000001497 &  257.383070 & -0.43400805 & 0.13425375 & -3.23274425 & 1.226073e-03 & 5.493805e-03 & LAS1L   \\\\\n",
       "\t ENSG00000001617 &   42.678986 &  0.48969747 & 0.32208279 &  1.52040868 & 1.284083e-01 & 2.527887e-01 & SEMA3F  \\\\\n",
       "\t ENSG00000001629 &  330.979273 &  0.57161113 & 0.11202245 &  5.10264784 & 3.349339e-07 & 3.615500e-06 & ANKIB1  \\\\\n",
       "\t ENSG00000001630 &  206.533584 &  0.43214144 & 0.13999435 &  3.08684904 & 2.022903e-03 & 8.420269e-03 & CYP51A1 \\\\\n",
       "\t ENSG00000001631 &  278.960966 &  0.92726536 & 0.13024178 &  7.11956905 & 1.082650e-12 & 2.428016e-11 & KRIT1   \\\\\n",
       "\t ENSG00000002016 &  117.431516 & -0.07410701 & 0.18075734 & -0.40998065 & 6.818201e-01 & 8.033267e-01 & RAD52   \\\\\n",
       "\t ENSG00000002330 &   95.069873 &  0.08213750 & 0.21990197 &  0.37351871 & 7.087624e-01 & 8.233217e-01 & BAD     \\\\\n",
       "\t ENSG00000002549 &  240.147799 & -0.78286478 & 0.12870386 & -6.08268295 & 1.181879e-09 & 1.854359e-08 & LAP3    \\\\\n",
       "\t ENSG00000002586 & 1205.675202 &  0.28778440 & 0.06115694 &  4.70567049 & 2.530329e-06 & 2.259851e-05 & CD99    \\\\\n",
       "\t ENSG00000002587 &    7.144765 &  2.15679429 & 0.85933284 &  2.50984740 & 1.207833e-02 & 3.833141e-02 & HS3ST1  \\\\\n",
       "\t ENSG00000002745 &    6.733894 &  1.81140939 & 0.84894901 &  2.13370810 & 3.286668e-02 & 8.704241e-02 & WNT16   \\\\\n",
       "\t ENSG00000002822 &  132.555337 & -1.09188024 & 0.18173849 & -6.00797478 & 1.878551e-09 & 2.861476e-08 & MAD1L1  \\\\\n",
       "\t ENSG00000002834 &  193.857845 &  0.16983692 & 0.15205517 &  1.11694272 & 2.640188e-01 & 4.266025e-01 & LASP1   \\\\\n",
       "\t ENSG00000002919 &   27.066004 & -0.62741405 & 0.40283287 & -1.55750459 & 1.193507e-01 & 2.391150e-01 & SNX11   \\\\\n",
       "\t ENSG00000003056 &  218.206079 & -0.30534977 & 0.13561185 & -2.25164510 & 2.434471e-02 & 6.822701e-02 & M6PR    \\\\\n",
       "\t ENSG00000003147 &   11.923346 &  1.46475559 & 0.66319428 &  2.20863724 & 2.719988e-02 & 7.459697e-02 & ICA1    \\\\\n",
       "\t ENSG00000003249 &   28.442683 &  2.14709351 & 0.43844559 &  4.89705807 & 9.728210e-07 & 9.558202e-06 & DBNDD1  \\\\\n",
       "\t ENSG00000003393 &   88.880262 &  0.46278719 & 0.22182324 &  2.08628816 & 3.695253e-02 & 9.562655e-02 & ALS2    \\\\\n",
       "\t ENSG00000003400 &   99.580869 &  0.07575214 & 0.20611456 &  0.36752445 & 7.132279e-01 & 8.263746e-01 & CASP10  \\\\\n",
       "\t ENSG00000003402 &  301.540223 &  0.11410246 & 0.12630799 &  0.90336686 & 3.663312e-01 & 5.341409e-01 & CFLAR   \\\\\n",
       "\t ⋮ & ⋮ & ⋮ & ⋮ & ⋮ & ⋮ & ⋮ & ⋮\\\\\n",
       "\t ENSG00000287945 &    6.561337 & -0.582160782 & 0.78768897 & -0.7390744 & 4.598618e-01 & 6.241679e-01 & ENSG00000287945\\\\\n",
       "\t ENSG00000287957 &   10.979339 &  1.541818043 & 0.62998061 &  2.4474056 & 1.438888e-02 & 4.434427e-02 & ENSG00000287957\\\\\n",
       "\t ENSG00000287971 &    5.755640 &  2.360750618 & 0.97805632 &  2.4137164 & 1.579075e-02 & 4.797969e-02 & ENSG00000287971\\\\\n",
       "\t ENSG00000287978 &  351.430703 &  0.273977226 & 0.12708359 &  2.1558820 & 3.109288e-02 & 8.316685e-02 & ENSG00000287978\\\\\n",
       "\t ENSG00000287979 &  177.151642 &  0.699911978 & 0.17114570 &  4.0895679 & 4.321775e-05 & 2.910906e-04 & ENSG00000287979\\\\\n",
       "\t ENSG00000287993 &   76.652354 &  1.688565486 & 0.24568726 &  6.8728249 & 6.294282e-12 & 1.311673e-10 & ENSG00000287993\\\\\n",
       "\t ENSG00000288009 &    9.276544 &  0.570431408 & 0.70083805 &  0.8139276 & 4.156864e-01 & 5.837637e-01 & ENSG00000288009\\\\\n",
       "\t ENSG00000288012 &   35.787364 & -0.711455973 & 0.36909449 & -1.9275714 & 5.390846e-02 & 1.296622e-01 & ENSG00000288012\\\\\n",
       "\t ENSG00000288015 &    3.073354 &  4.895482250 & 1.57190560 &  3.1143615 & 1.843435e-03 & 7.759007e-03 & ENSG00000288015\\\\\n",
       "\t ENSG00000288023 &    8.810148 & -6.772981418 & 1.34738780 & -5.0267499 & 4.988624e-07 & 5.191246e-06 & ENSG00000288023\\\\\n",
       "\t ENSG00000288025 &   25.401913 &  0.466057236 & 0.39444625 &  1.1815481 & 2.373850e-01 & 3.956450e-01 & ENSG00000288025\\\\\n",
       "\t ENSG00000288032 &   12.128725 & -0.678480876 & 0.58854671 & -1.1528072 & 2.489895e-01 & 4.093865e-01 & ENSG00000288032\\\\\n",
       "\t ENSG00000288033 &    4.410074 & -1.728939441 & 1.07143051 & -1.6136739 & 1.065982e-01 & 2.193839e-01 & ENSG00000288033\\\\\n",
       "\t ENSG00000288044 &   44.520764 & -0.526488465 & 0.36045783 & -1.4606104 & 1.441224e-01 & 2.759732e-01 & ENSG00000288044\\\\\n",
       "\t ENSG00000288050 &   10.511017 &  1.086719910 & 0.64079208 &  1.6959010 & 8.990464e-02 & 1.930940e-01 & ENSG00000288050\\\\\n",
       "\t ENSG00000288061 &   11.025074 &  0.247117435 & 0.60215907 &  0.4103856 & 6.815231e-01 & 8.032041e-01 & ENSG00000288061\\\\\n",
       "\t ENSG00000288066 &   36.922823 &  0.494508348 & 0.32670177 &  1.5136384 & 1.301176e-01 & 2.553574e-01 & ENSG00000288066\\\\\n",
       "\t ENSG00000288075 &   52.168861 & -0.028186614 & 0.28072523 & -0.1004064 & 9.200217e-01 & 9.569597e-01 & ENSG00000288075\\\\\n",
       "\t ENSG00000288076 &    6.551238 &  1.318829893 & 0.81530923 &  1.6175824 & 1.057526e-01 & 2.181333e-01 & ENSG00000288076\\\\\n",
       "\t ENSG00000288080 &    6.561639 &  5.990614442 & 1.36793559 &  4.3793103 & 1.190555e-05 & 9.162294e-05 & ENSG00000288080\\\\\n",
       "\t ENSG00000288083 &    7.586777 &  6.199900704 & 1.33643275 &  4.6391415 & 3.498594e-06 & 3.014861e-05 & ENSG00000288083\\\\\n",
       "\t ENSG00000288093 &   24.136662 &  0.256107751 & 0.46900709 &  0.5460637 & 5.850221e-01 & 7.282194e-01 & ENSG00000288093\\\\\n",
       "\t ENSG00000288095 &    9.585641 &  0.642152309 & 0.67875282 &  0.9460768 & 3.441094e-01 & 5.118243e-01 & ENSG00000288095\\\\\n",
       "\t ENSG00000288096 &    9.239791 &  1.192785513 & 0.75809462 &  1.5733993 & 1.156264e-01 & 2.335607e-01 & ENSG00000288096\\\\\n",
       "\t ENSG00000288097 &    4.709745 & -3.287961022 & 1.25720679 & -2.6152905 & 8.915158e-03 & 2.988701e-02 & ENSG00000288097\\\\\n",
       "\t ENSG00000288101 & 3064.531573 &  0.008649854 & 0.04188003 &  0.2065389 & 8.363700e-01 & 9.055840e-01 & ENSG00000288101\\\\\n",
       "\t ENSG00000288156 &   32.345889 & -0.312658994 & 0.41095988 & -0.7608018 & 4.467755e-01 & 6.124440e-01 & ENSG00000288156\\\\\n",
       "\t ENSG00000288162 &    6.412180 &  5.957512462 & 1.37487973 &  4.3331154 & 1.470140e-05 & 1.105130e-04 & ENSG00000288162\\\\\n",
       "\t ENSG00000288302 &  165.155068 &  0.944813215 & 0.15762925 &  5.9938953 & 2.048733e-09 & 3.103188e-08 & ENSG00000288302\\\\\n",
       "\t ENSG00000288398 &   11.972362 &  0.361650725 & 0.66123155 &  0.5469351 & 5.844233e-01 & 7.278098e-01 & ENSG00000288398\\\\\n",
       "\\end{tabular}\n"
      ],
      "text/markdown": [
       "\n",
       "A data.frame: 16112 × 8\n",
       "\n",
       "| Row.names &lt;I&lt;chr&gt;&gt; | baseMean &lt;dbl&gt; | log2FoldChange &lt;dbl&gt; | lfcSE &lt;dbl&gt; | stat &lt;dbl&gt; | pvalue &lt;dbl&gt; | padj &lt;dbl&gt; | gene_name &lt;chr&gt; |\n",
       "|---|---|---|---|---|---|---|---|\n",
       "| ENSG00000000003 |   12.026017 | -1.54704471 | 0.62256050 | -2.48497087 | 1.295620e-02 | 4.051503e-02 | TSPAN6   |\n",
       "| ENSG00000000419 |  243.618064 | -0.05101503 | 0.12854991 | -0.39684998 | 6.914781e-01 | 8.108055e-01 | DPM1     |\n",
       "| ENSG00000000457 |   55.856464 |  0.10214577 | 0.27934454 |  0.36566229 | 7.146171e-01 | 8.275105e-01 | SCYL3    |\n",
       "| ENSG00000000460 |   44.766758 | -0.02871300 | 0.30178069 | -0.09514526 | 9.241995e-01 | 9.587185e-01 | C1orf112 |\n",
       "| ENSG00000000938 |   12.357012 | -0.43325983 | 0.63608149 | -0.68113887 | 4.957836e-01 | 6.543214e-01 | FGR      |\n",
       "| ENSG00000001036 |   17.960175 | -0.11671236 | 0.50989946 | -0.22889289 | 8.189522e-01 | 8.942257e-01 | FUCA2    |\n",
       "| ENSG00000001084 |   81.584496 | -0.53755478 | 0.24864165 | -2.16196592 | 3.062080e-02 | 8.227880e-02 | GCLC     |\n",
       "| ENSG00000001167 |  138.720714 | -0.25118840 | 0.16687665 | -1.50523390 | 1.322640e-01 | 2.586495e-01 | NFYA     |\n",
       "| ENSG00000001460 |   13.584536 | -1.06601277 | 0.67054650 | -1.58976712 | 1.118873e-01 | 2.279415e-01 | STPG1    |\n",
       "| ENSG00000001461 |   65.171585 | -0.19689388 | 0.24561472 | -0.80163710 | 4.227629e-01 | 5.902714e-01 | NIPAL3   |\n",
       "| ENSG00000001497 |  257.383070 | -0.43400805 | 0.13425375 | -3.23274425 | 1.226073e-03 | 5.493805e-03 | LAS1L    |\n",
       "| ENSG00000001617 |   42.678986 |  0.48969747 | 0.32208279 |  1.52040868 | 1.284083e-01 | 2.527887e-01 | SEMA3F   |\n",
       "| ENSG00000001629 |  330.979273 |  0.57161113 | 0.11202245 |  5.10264784 | 3.349339e-07 | 3.615500e-06 | ANKIB1   |\n",
       "| ENSG00000001630 |  206.533584 |  0.43214144 | 0.13999435 |  3.08684904 | 2.022903e-03 | 8.420269e-03 | CYP51A1  |\n",
       "| ENSG00000001631 |  278.960966 |  0.92726536 | 0.13024178 |  7.11956905 | 1.082650e-12 | 2.428016e-11 | KRIT1    |\n",
       "| ENSG00000002016 |  117.431516 | -0.07410701 | 0.18075734 | -0.40998065 | 6.818201e-01 | 8.033267e-01 | RAD52    |\n",
       "| ENSG00000002330 |   95.069873 |  0.08213750 | 0.21990197 |  0.37351871 | 7.087624e-01 | 8.233217e-01 | BAD      |\n",
       "| ENSG00000002549 |  240.147799 | -0.78286478 | 0.12870386 | -6.08268295 | 1.181879e-09 | 1.854359e-08 | LAP3     |\n",
       "| ENSG00000002586 | 1205.675202 |  0.28778440 | 0.06115694 |  4.70567049 | 2.530329e-06 | 2.259851e-05 | CD99     |\n",
       "| ENSG00000002587 |    7.144765 |  2.15679429 | 0.85933284 |  2.50984740 | 1.207833e-02 | 3.833141e-02 | HS3ST1   |\n",
       "| ENSG00000002745 |    6.733894 |  1.81140939 | 0.84894901 |  2.13370810 | 3.286668e-02 | 8.704241e-02 | WNT16    |\n",
       "| ENSG00000002822 |  132.555337 | -1.09188024 | 0.18173849 | -6.00797478 | 1.878551e-09 | 2.861476e-08 | MAD1L1   |\n",
       "| ENSG00000002834 |  193.857845 |  0.16983692 | 0.15205517 |  1.11694272 | 2.640188e-01 | 4.266025e-01 | LASP1    |\n",
       "| ENSG00000002919 |   27.066004 | -0.62741405 | 0.40283287 | -1.55750459 | 1.193507e-01 | 2.391150e-01 | SNX11    |\n",
       "| ENSG00000003056 |  218.206079 | -0.30534977 | 0.13561185 | -2.25164510 | 2.434471e-02 | 6.822701e-02 | M6PR     |\n",
       "| ENSG00000003147 |   11.923346 |  1.46475559 | 0.66319428 |  2.20863724 | 2.719988e-02 | 7.459697e-02 | ICA1     |\n",
       "| ENSG00000003249 |   28.442683 |  2.14709351 | 0.43844559 |  4.89705807 | 9.728210e-07 | 9.558202e-06 | DBNDD1   |\n",
       "| ENSG00000003393 |   88.880262 |  0.46278719 | 0.22182324 |  2.08628816 | 3.695253e-02 | 9.562655e-02 | ALS2     |\n",
       "| ENSG00000003400 |   99.580869 |  0.07575214 | 0.20611456 |  0.36752445 | 7.132279e-01 | 8.263746e-01 | CASP10   |\n",
       "| ENSG00000003402 |  301.540223 |  0.11410246 | 0.12630799 |  0.90336686 | 3.663312e-01 | 5.341409e-01 | CFLAR    |\n",
       "| ⋮ | ⋮ | ⋮ | ⋮ | ⋮ | ⋮ | ⋮ | ⋮ |\n",
       "| ENSG00000287945 |    6.561337 | -0.582160782 | 0.78768897 | -0.7390744 | 4.598618e-01 | 6.241679e-01 | ENSG00000287945 |\n",
       "| ENSG00000287957 |   10.979339 |  1.541818043 | 0.62998061 |  2.4474056 | 1.438888e-02 | 4.434427e-02 | ENSG00000287957 |\n",
       "| ENSG00000287971 |    5.755640 |  2.360750618 | 0.97805632 |  2.4137164 | 1.579075e-02 | 4.797969e-02 | ENSG00000287971 |\n",
       "| ENSG00000287978 |  351.430703 |  0.273977226 | 0.12708359 |  2.1558820 | 3.109288e-02 | 8.316685e-02 | ENSG00000287978 |\n",
       "| ENSG00000287979 |  177.151642 |  0.699911978 | 0.17114570 |  4.0895679 | 4.321775e-05 | 2.910906e-04 | ENSG00000287979 |\n",
       "| ENSG00000287993 |   76.652354 |  1.688565486 | 0.24568726 |  6.8728249 | 6.294282e-12 | 1.311673e-10 | ENSG00000287993 |\n",
       "| ENSG00000288009 |    9.276544 |  0.570431408 | 0.70083805 |  0.8139276 | 4.156864e-01 | 5.837637e-01 | ENSG00000288009 |\n",
       "| ENSG00000288012 |   35.787364 | -0.711455973 | 0.36909449 | -1.9275714 | 5.390846e-02 | 1.296622e-01 | ENSG00000288012 |\n",
       "| ENSG00000288015 |    3.073354 |  4.895482250 | 1.57190560 |  3.1143615 | 1.843435e-03 | 7.759007e-03 | ENSG00000288015 |\n",
       "| ENSG00000288023 |    8.810148 | -6.772981418 | 1.34738780 | -5.0267499 | 4.988624e-07 | 5.191246e-06 | ENSG00000288023 |\n",
       "| ENSG00000288025 |   25.401913 |  0.466057236 | 0.39444625 |  1.1815481 | 2.373850e-01 | 3.956450e-01 | ENSG00000288025 |\n",
       "| ENSG00000288032 |   12.128725 | -0.678480876 | 0.58854671 | -1.1528072 | 2.489895e-01 | 4.093865e-01 | ENSG00000288032 |\n",
       "| ENSG00000288033 |    4.410074 | -1.728939441 | 1.07143051 | -1.6136739 | 1.065982e-01 | 2.193839e-01 | ENSG00000288033 |\n",
       "| ENSG00000288044 |   44.520764 | -0.526488465 | 0.36045783 | -1.4606104 | 1.441224e-01 | 2.759732e-01 | ENSG00000288044 |\n",
       "| ENSG00000288050 |   10.511017 |  1.086719910 | 0.64079208 |  1.6959010 | 8.990464e-02 | 1.930940e-01 | ENSG00000288050 |\n",
       "| ENSG00000288061 |   11.025074 |  0.247117435 | 0.60215907 |  0.4103856 | 6.815231e-01 | 8.032041e-01 | ENSG00000288061 |\n",
       "| ENSG00000288066 |   36.922823 |  0.494508348 | 0.32670177 |  1.5136384 | 1.301176e-01 | 2.553574e-01 | ENSG00000288066 |\n",
       "| ENSG00000288075 |   52.168861 | -0.028186614 | 0.28072523 | -0.1004064 | 9.200217e-01 | 9.569597e-01 | ENSG00000288075 |\n",
       "| ENSG00000288076 |    6.551238 |  1.318829893 | 0.81530923 |  1.6175824 | 1.057526e-01 | 2.181333e-01 | ENSG00000288076 |\n",
       "| ENSG00000288080 |    6.561639 |  5.990614442 | 1.36793559 |  4.3793103 | 1.190555e-05 | 9.162294e-05 | ENSG00000288080 |\n",
       "| ENSG00000288083 |    7.586777 |  6.199900704 | 1.33643275 |  4.6391415 | 3.498594e-06 | 3.014861e-05 | ENSG00000288083 |\n",
       "| ENSG00000288093 |   24.136662 |  0.256107751 | 0.46900709 |  0.5460637 | 5.850221e-01 | 7.282194e-01 | ENSG00000288093 |\n",
       "| ENSG00000288095 |    9.585641 |  0.642152309 | 0.67875282 |  0.9460768 | 3.441094e-01 | 5.118243e-01 | ENSG00000288095 |\n",
       "| ENSG00000288096 |    9.239791 |  1.192785513 | 0.75809462 |  1.5733993 | 1.156264e-01 | 2.335607e-01 | ENSG00000288096 |\n",
       "| ENSG00000288097 |    4.709745 | -3.287961022 | 1.25720679 | -2.6152905 | 8.915158e-03 | 2.988701e-02 | ENSG00000288097 |\n",
       "| ENSG00000288101 | 3064.531573 |  0.008649854 | 0.04188003 |  0.2065389 | 8.363700e-01 | 9.055840e-01 | ENSG00000288101 |\n",
       "| ENSG00000288156 |   32.345889 | -0.312658994 | 0.41095988 | -0.7608018 | 4.467755e-01 | 6.124440e-01 | ENSG00000288156 |\n",
       "| ENSG00000288162 |    6.412180 |  5.957512462 | 1.37487973 |  4.3331154 | 1.470140e-05 | 1.105130e-04 | ENSG00000288162 |\n",
       "| ENSG00000288302 |  165.155068 |  0.944813215 | 0.15762925 |  5.9938953 | 2.048733e-09 | 3.103188e-08 | ENSG00000288302 |\n",
       "| ENSG00000288398 |   11.972362 |  0.361650725 | 0.66123155 |  0.5469351 | 5.844233e-01 | 7.278098e-01 | ENSG00000288398 |\n",
       "\n"
      ],
      "text/plain": [
       "      Row.names       baseMean    log2FoldChange lfcSE      stat       \n",
       "1     ENSG00000000003   12.026017 -1.54704471    0.62256050 -2.48497087\n",
       "2     ENSG00000000419  243.618064 -0.05101503    0.12854991 -0.39684998\n",
       "3     ENSG00000000457   55.856464  0.10214577    0.27934454  0.36566229\n",
       "4     ENSG00000000460   44.766758 -0.02871300    0.30178069 -0.09514526\n",
       "5     ENSG00000000938   12.357012 -0.43325983    0.63608149 -0.68113887\n",
       "6     ENSG00000001036   17.960175 -0.11671236    0.50989946 -0.22889289\n",
       "7     ENSG00000001084   81.584496 -0.53755478    0.24864165 -2.16196592\n",
       "8     ENSG00000001167  138.720714 -0.25118840    0.16687665 -1.50523390\n",
       "9     ENSG00000001460   13.584536 -1.06601277    0.67054650 -1.58976712\n",
       "10    ENSG00000001461   65.171585 -0.19689388    0.24561472 -0.80163710\n",
       "11    ENSG00000001497  257.383070 -0.43400805    0.13425375 -3.23274425\n",
       "12    ENSG00000001617   42.678986  0.48969747    0.32208279  1.52040868\n",
       "13    ENSG00000001629  330.979273  0.57161113    0.11202245  5.10264784\n",
       "14    ENSG00000001630  206.533584  0.43214144    0.13999435  3.08684904\n",
       "15    ENSG00000001631  278.960966  0.92726536    0.13024178  7.11956905\n",
       "16    ENSG00000002016  117.431516 -0.07410701    0.18075734 -0.40998065\n",
       "17    ENSG00000002330   95.069873  0.08213750    0.21990197  0.37351871\n",
       "18    ENSG00000002549  240.147799 -0.78286478    0.12870386 -6.08268295\n",
       "19    ENSG00000002586 1205.675202  0.28778440    0.06115694  4.70567049\n",
       "20    ENSG00000002587    7.144765  2.15679429    0.85933284  2.50984740\n",
       "21    ENSG00000002745    6.733894  1.81140939    0.84894901  2.13370810\n",
       "22    ENSG00000002822  132.555337 -1.09188024    0.18173849 -6.00797478\n",
       "23    ENSG00000002834  193.857845  0.16983692    0.15205517  1.11694272\n",
       "24    ENSG00000002919   27.066004 -0.62741405    0.40283287 -1.55750459\n",
       "25    ENSG00000003056  218.206079 -0.30534977    0.13561185 -2.25164510\n",
       "26    ENSG00000003147   11.923346  1.46475559    0.66319428  2.20863724\n",
       "27    ENSG00000003249   28.442683  2.14709351    0.43844559  4.89705807\n",
       "28    ENSG00000003393   88.880262  0.46278719    0.22182324  2.08628816\n",
       "29    ENSG00000003400   99.580869  0.07575214    0.20611456  0.36752445\n",
       "30    ENSG00000003402  301.540223  0.11410246    0.12630799  0.90336686\n",
       "⋮     ⋮               ⋮           ⋮              ⋮          ⋮          \n",
       "16083 ENSG00000287945    6.561337 -0.582160782   0.78768897 -0.7390744 \n",
       "16084 ENSG00000287957   10.979339  1.541818043   0.62998061  2.4474056 \n",
       "16085 ENSG00000287971    5.755640  2.360750618   0.97805632  2.4137164 \n",
       "16086 ENSG00000287978  351.430703  0.273977226   0.12708359  2.1558820 \n",
       "16087 ENSG00000287979  177.151642  0.699911978   0.17114570  4.0895679 \n",
       "16088 ENSG00000287993   76.652354  1.688565486   0.24568726  6.8728249 \n",
       "16089 ENSG00000288009    9.276544  0.570431408   0.70083805  0.8139276 \n",
       "16090 ENSG00000288012   35.787364 -0.711455973   0.36909449 -1.9275714 \n",
       "16091 ENSG00000288015    3.073354  4.895482250   1.57190560  3.1143615 \n",
       "16092 ENSG00000288023    8.810148 -6.772981418   1.34738780 -5.0267499 \n",
       "16093 ENSG00000288025   25.401913  0.466057236   0.39444625  1.1815481 \n",
       "16094 ENSG00000288032   12.128725 -0.678480876   0.58854671 -1.1528072 \n",
       "16095 ENSG00000288033    4.410074 -1.728939441   1.07143051 -1.6136739 \n",
       "16096 ENSG00000288044   44.520764 -0.526488465   0.36045783 -1.4606104 \n",
       "16097 ENSG00000288050   10.511017  1.086719910   0.64079208  1.6959010 \n",
       "16098 ENSG00000288061   11.025074  0.247117435   0.60215907  0.4103856 \n",
       "16099 ENSG00000288066   36.922823  0.494508348   0.32670177  1.5136384 \n",
       "16100 ENSG00000288075   52.168861 -0.028186614   0.28072523 -0.1004064 \n",
       "16101 ENSG00000288076    6.551238  1.318829893   0.81530923  1.6175824 \n",
       "16102 ENSG00000288080    6.561639  5.990614442   1.36793559  4.3793103 \n",
       "16103 ENSG00000288083    7.586777  6.199900704   1.33643275  4.6391415 \n",
       "16104 ENSG00000288093   24.136662  0.256107751   0.46900709  0.5460637 \n",
       "16105 ENSG00000288095    9.585641  0.642152309   0.67875282  0.9460768 \n",
       "16106 ENSG00000288096    9.239791  1.192785513   0.75809462  1.5733993 \n",
       "16107 ENSG00000288097    4.709745 -3.287961022   1.25720679 -2.6152905 \n",
       "16108 ENSG00000288101 3064.531573  0.008649854   0.04188003  0.2065389 \n",
       "16109 ENSG00000288156   32.345889 -0.312658994   0.41095988 -0.7608018 \n",
       "16110 ENSG00000288162    6.412180  5.957512462   1.37487973  4.3331154 \n",
       "16111 ENSG00000288302  165.155068  0.944813215   0.15762925  5.9938953 \n",
       "16112 ENSG00000288398   11.972362  0.361650725   0.66123155  0.5469351 \n",
       "      pvalue       padj         gene_name      \n",
       "1     1.295620e-02 4.051503e-02 TSPAN6         \n",
       "2     6.914781e-01 8.108055e-01 DPM1           \n",
       "3     7.146171e-01 8.275105e-01 SCYL3          \n",
       "4     9.241995e-01 9.587185e-01 C1orf112       \n",
       "5     4.957836e-01 6.543214e-01 FGR            \n",
       "6     8.189522e-01 8.942257e-01 FUCA2          \n",
       "7     3.062080e-02 8.227880e-02 GCLC           \n",
       "8     1.322640e-01 2.586495e-01 NFYA           \n",
       "9     1.118873e-01 2.279415e-01 STPG1          \n",
       "10    4.227629e-01 5.902714e-01 NIPAL3         \n",
       "11    1.226073e-03 5.493805e-03 LAS1L          \n",
       "12    1.284083e-01 2.527887e-01 SEMA3F         \n",
       "13    3.349339e-07 3.615500e-06 ANKIB1         \n",
       "14    2.022903e-03 8.420269e-03 CYP51A1        \n",
       "15    1.082650e-12 2.428016e-11 KRIT1          \n",
       "16    6.818201e-01 8.033267e-01 RAD52          \n",
       "17    7.087624e-01 8.233217e-01 BAD            \n",
       "18    1.181879e-09 1.854359e-08 LAP3           \n",
       "19    2.530329e-06 2.259851e-05 CD99           \n",
       "20    1.207833e-02 3.833141e-02 HS3ST1         \n",
       "21    3.286668e-02 8.704241e-02 WNT16          \n",
       "22    1.878551e-09 2.861476e-08 MAD1L1         \n",
       "23    2.640188e-01 4.266025e-01 LASP1          \n",
       "24    1.193507e-01 2.391150e-01 SNX11          \n",
       "25    2.434471e-02 6.822701e-02 M6PR           \n",
       "26    2.719988e-02 7.459697e-02 ICA1           \n",
       "27    9.728210e-07 9.558202e-06 DBNDD1         \n",
       "28    3.695253e-02 9.562655e-02 ALS2           \n",
       "29    7.132279e-01 8.263746e-01 CASP10         \n",
       "30    3.663312e-01 5.341409e-01 CFLAR          \n",
       "⋮     ⋮            ⋮            ⋮              \n",
       "16083 4.598618e-01 6.241679e-01 ENSG00000287945\n",
       "16084 1.438888e-02 4.434427e-02 ENSG00000287957\n",
       "16085 1.579075e-02 4.797969e-02 ENSG00000287971\n",
       "16086 3.109288e-02 8.316685e-02 ENSG00000287978\n",
       "16087 4.321775e-05 2.910906e-04 ENSG00000287979\n",
       "16088 6.294282e-12 1.311673e-10 ENSG00000287993\n",
       "16089 4.156864e-01 5.837637e-01 ENSG00000288009\n",
       "16090 5.390846e-02 1.296622e-01 ENSG00000288012\n",
       "16091 1.843435e-03 7.759007e-03 ENSG00000288015\n",
       "16092 4.988624e-07 5.191246e-06 ENSG00000288023\n",
       "16093 2.373850e-01 3.956450e-01 ENSG00000288025\n",
       "16094 2.489895e-01 4.093865e-01 ENSG00000288032\n",
       "16095 1.065982e-01 2.193839e-01 ENSG00000288033\n",
       "16096 1.441224e-01 2.759732e-01 ENSG00000288044\n",
       "16097 8.990464e-02 1.930940e-01 ENSG00000288050\n",
       "16098 6.815231e-01 8.032041e-01 ENSG00000288061\n",
       "16099 1.301176e-01 2.553574e-01 ENSG00000288066\n",
       "16100 9.200217e-01 9.569597e-01 ENSG00000288075\n",
       "16101 1.057526e-01 2.181333e-01 ENSG00000288076\n",
       "16102 1.190555e-05 9.162294e-05 ENSG00000288080\n",
       "16103 3.498594e-06 3.014861e-05 ENSG00000288083\n",
       "16104 5.850221e-01 7.282194e-01 ENSG00000288093\n",
       "16105 3.441094e-01 5.118243e-01 ENSG00000288095\n",
       "16106 1.156264e-01 2.335607e-01 ENSG00000288096\n",
       "16107 8.915158e-03 2.988701e-02 ENSG00000288097\n",
       "16108 8.363700e-01 9.055840e-01 ENSG00000288101\n",
       "16109 4.467755e-01 6.124440e-01 ENSG00000288156\n",
       "16110 1.470140e-05 1.105130e-04 ENSG00000288162\n",
       "16111 2.048733e-09 3.103188e-08 ENSG00000288302\n",
       "16112 5.844233e-01 7.278098e-01 ENSG00000288398"
      ]
     },
     "metadata": {},
     "output_type": "display_data"
    }
   ],
   "source": [
    "res_df <- merge(as.data.frame(res), GFFfile, by.x = \"row.names\", by.y=\"gene_id\")\n",
    "res_df"
   ]
  },
  {
   "cell_type": "code",
   "execution_count": 30,
   "metadata": {
    "vscode": {
     "languageId": "r"
    }
   },
   "outputs": [
    {
     "data": {
      "text/html": [
       "<style>\n",
       ".list-inline {list-style: none; margin:0; padding: 0}\n",
       ".list-inline>li {display: inline-block}\n",
       ".list-inline>li:not(:last-child)::after {content: \"\\00b7\"; padding: 0 .5ex}\n",
       "</style>\n",
       "<ol class=list-inline><li>'Intercept'</li><li>'condition_treated_vs_untreated'</li></ol>\n"
      ],
      "text/latex": [
       "\\begin{enumerate*}\n",
       "\\item 'Intercept'\n",
       "\\item 'condition\\_treated\\_vs\\_untreated'\n",
       "\\end{enumerate*}\n"
      ],
      "text/markdown": [
       "1. 'Intercept'\n",
       "2. 'condition_treated_vs_untreated'\n",
       "\n",
       "\n"
      ],
      "text/plain": [
       "[1] \"Intercept\"                      \"condition_treated_vs_untreated\""
      ]
     },
     "metadata": {},
     "output_type": "display_data"
    },
    {
     "name": "stderr",
     "output_type": "stream",
     "text": [
      "using 'apeglm' for LFC shrinkage. If used in published research, please cite:\n",
      "    Zhu, A., Ibrahim, J.G., Love, M.I. (2018) Heavy-tailed prior distributions for\n",
      "    sequence count data: removing the noise and preserving large differences.\n",
      "    Bioinformatics. https://doi.org/10.1093/bioinformatics/bty895\n",
      "\n"
     ]
    },
    {
     "data": {
      "text/plain": [
       "log2 fold change (MAP): condition treated vs untreated \n",
       "Wald test p-value: condition treated vs untreated \n",
       "DataFrame with 16192 rows and 5 columns\n",
       "                 baseMean log2FoldChange     lfcSE      pvalue        padj\n",
       "                <numeric>      <numeric> <numeric>   <numeric>   <numeric>\n",
       "ENSG00000000003   12.0260     -1.0092154  0.699623   0.0129562    0.040515\n",
       "ENSG00000000419  243.6181     -0.0472627  0.123951   0.6914781    0.810806\n",
       "ENSG00000000457   55.8565      0.0756094  0.240556   0.7146171    0.827511\n",
       "ENSG00000000460   44.7668     -0.0197966  0.253072   0.9241995    0.958719\n",
       "ENSG00000000938   12.3570     -0.1552376  0.395407   0.4957836    0.654321\n",
       "...                   ...            ...       ...         ...         ...\n",
       "ENSG00000288156  32.34589      -0.180286  0.322242 4.46775e-01 6.12444e-01\n",
       "ENSG00000288162   6.41218       5.978441  2.530707 1.47014e-05 1.10513e-04\n",
       "ENSG00000288302 165.15507       0.909015  0.158487 2.04873e-09 3.10319e-08\n",
       "ENSG00000288380  80.26448       0.561094  0.253498 1.02540e-02 3.35283e-02\n",
       "ENSG00000288398  11.97236       0.122743  0.393094 5.84423e-01 7.27810e-01"
      ]
     },
     "metadata": {},
     "output_type": "display_data"
    }
   ],
   "source": [
    "resultsNames(dds)\n",
    "resLFC <- lfcShrink(dds, coef=\"condition_treated_vs_untreated\", type=\"apeglm\")\n",
    "resLFC"
   ]
  },
  {
   "cell_type": "code",
   "execution_count": 31,
   "metadata": {
    "vscode": {
     "languageId": "r"
    }
   },
   "outputs": [
    {
     "data": {
      "text/html": [
       "<table class=\"dataframe\">\n",
       "<caption>A data.frame: 16112 × 8</caption>\n",
       "<thead>\n",
       "\t<tr><th></th><th scope=col>Row.names</th><th scope=col>baseMean</th><th scope=col>log2FoldChange</th><th scope=col>lfcSE</th><th scope=col>stat</th><th scope=col>pvalue</th><th scope=col>padj</th><th scope=col>gene_name</th></tr>\n",
       "\t<tr><th></th><th scope=col>&lt;I&lt;chr&gt;&gt;</th><th scope=col>&lt;dbl&gt;</th><th scope=col>&lt;dbl&gt;</th><th scope=col>&lt;dbl&gt;</th><th scope=col>&lt;dbl&gt;</th><th scope=col>&lt;dbl&gt;</th><th scope=col>&lt;dbl&gt;</th><th scope=col>&lt;chr&gt;</th></tr>\n",
       "</thead>\n",
       "<tbody>\n",
       "\t<tr><th scope=row>167</th><td>ENSG00000008988</td><td>15911.7029</td><td> 0.8736037</td><td>0.01997269</td><td> 43.73991</td><td> 0.000000e+00</td><td> 0.000000e+00</td><td>RPS20  </td></tr>\n",
       "\t<tr><th scope=row>883</th><td>ENSG00000071082</td><td>15789.8437</td><td> 0.9120215</td><td>0.02195469</td><td> 41.54107</td><td> 0.000000e+00</td><td> 0.000000e+00</td><td>RPL31  </td></tr>\n",
       "\t<tr><th scope=row>2467</th><td>ENSG00000106211</td><td> 3989.5391</td><td> 2.2794300</td><td>0.04040489</td><td> 56.41471</td><td> 0.000000e+00</td><td> 0.000000e+00</td><td>HSPB1  </td></tr>\n",
       "\t<tr><th scope=row>3043</th><td>ENSG00000112306</td><td>39592.7193</td><td> 1.0082457</td><td>0.01649306</td><td> 61.13152</td><td> 0.000000e+00</td><td> 0.000000e+00</td><td>RPS12  </td></tr>\n",
       "\t<tr><th scope=row>4925</th><td>ENSG00000133112</td><td>16816.4541</td><td> 0.8094644</td><td>0.02093642</td><td> 38.66298</td><td> 0.000000e+00</td><td> 0.000000e+00</td><td>TPT1   </td></tr>\n",
       "\t<tr><th scope=row>5514</th><td>ENSG00000137818</td><td>43663.0893</td><td> 0.8955089</td><td>0.01689063</td><td> 53.01810</td><td> 0.000000e+00</td><td> 0.000000e+00</td><td>RPLP1  </td></tr>\n",
       "\t<tr><th scope=row>5577</th><td>ENSG00000138326</td><td>23164.0419</td><td> 0.7275472</td><td>0.01749415</td><td> 41.58803</td><td> 0.000000e+00</td><td> 0.000000e+00</td><td>RPS24  </td></tr>\n",
       "\t<tr><th scope=row>6057</th><td>ENSG00000142937</td><td>14740.3644</td><td> 0.7802394</td><td>0.01999334</td><td> 39.02497</td><td> 0.000000e+00</td><td> 0.000000e+00</td><td>RPS8   </td></tr>\n",
       "\t<tr><th scope=row>6340</th><td>ENSG00000145425</td><td>18045.4473</td><td> 0.7329901</td><td>0.01868972</td><td> 39.21889</td><td> 0.000000e+00</td><td> 0.000000e+00</td><td>RPS3A  </td></tr>\n",
       "\t<tr><th scope=row>7646</th><td>ENSG00000161970</td><td>15771.4429</td><td> 1.0688648</td><td>0.02535755</td><td> 42.15175</td><td> 0.000000e+00</td><td> 0.000000e+00</td><td>RPL26  </td></tr>\n",
       "\t<tr><th scope=row>8096</th><td>ENSG00000164587</td><td>13108.5500</td><td> 1.0317966</td><td>0.02107276</td><td> 48.96353</td><td> 0.000000e+00</td><td> 0.000000e+00</td><td>RPS14  </td></tr>\n",
       "\t<tr><th scope=row>9180</th><td>ENSG00000171858</td><td>14829.4079</td><td> 0.8832629</td><td>0.02251809</td><td> 39.22460</td><td> 0.000000e+00</td><td> 0.000000e+00</td><td>RPS21  </td></tr>\n",
       "\t<tr><th scope=row>9330</th><td>ENSG00000172995</td><td> 1873.6081</td><td>-4.7500078</td><td>0.08057382</td><td>-58.95225</td><td> 0.000000e+00</td><td> 0.000000e+00</td><td>ARPP21 </td></tr>\n",
       "\t<tr><th scope=row>10694</th><td>ENSG00000186468</td><td>26165.9522</td><td> 1.2922533</td><td>0.01815233</td><td> 71.18938</td><td> 0.000000e+00</td><td> 0.000000e+00</td><td>RPS23  </td></tr>\n",
       "\t<tr><th scope=row>12675</th><td>ENSG00000231500</td><td>30000.4543</td><td> 0.7821378</td><td>0.01697603</td><td> 46.07306</td><td> 0.000000e+00</td><td> 0.000000e+00</td><td>RPS18  </td></tr>\n",
       "\t<tr><th scope=row>14493</th><td>ENSG00000265681</td><td>14695.3210</td><td> 0.9236325</td><td>0.02151586</td><td> 42.92798</td><td> 0.000000e+00</td><td> 0.000000e+00</td><td>RPL17  </td></tr>\n",
       "\t<tr><th scope=row>4212</th><td>ENSG00000125691</td><td>21736.6035</td><td> 0.6896909</td><td>0.01878786</td><td> 36.70939</td><td>5.172060e-295</td><td>4.926235e-292</td><td>RPL23  </td></tr>\n",
       "\t<tr><th scope=row>2640</th><td>ENSG00000108107</td><td>22884.9763</td><td> 0.6276369</td><td>0.01733226</td><td> 36.21207</td><td>3.931538e-287</td><td>3.536637e-284</td><td>RPL28  </td></tr>\n",
       "\t<tr><th scope=row>7190</th><td>ENSG00000156482</td><td>21734.9534</td><td> 0.7432248</td><td>0.02136454</td><td> 34.78777</td><td>3.723595e-265</td><td>3.173287e-262</td><td>RPL30  </td></tr>\n",
       "\t<tr><th scope=row>6280</th><td>ENSG00000144713</td><td>13692.3263</td><td> 0.7314160</td><td>0.02105491</td><td> 34.73851</td><td>2.066682e-264</td><td>1.673186e-261</td><td>RPL32  </td></tr>\n",
       "\t<tr><th scope=row>2761</th><td>ENSG00000109475</td><td>23821.0698</td><td> 0.7244899</td><td>0.02111615</td><td> 34.30975</td><td>5.614605e-258</td><td>4.329127e-255</td><td>RPL34  </td></tr>\n",
       "\t<tr><th scope=row>11737</th><td>ENSG00000204628</td><td> 6249.2248</td><td> 0.9621827</td><td>0.02857508</td><td> 33.67209</td><td>1.481532e-248</td><td>1.090407e-245</td><td>RACK1  </td></tr>\n",
       "\t<tr><th scope=row>1012</th><td>ENSG00000075624</td><td> 7262.1174</td><td>-0.9415456</td><td>0.02814764</td><td>-33.45025</td><td>2.552035e-245</td><td>1.796633e-242</td><td>ACTB   </td></tr>\n",
       "\t<tr><th scope=row>9625</th><td>ENSG00000175782</td><td> 2997.6651</td><td> 1.5178334</td><td>0.04578817</td><td> 33.14903</td><td>5.849245e-241</td><td>3.946290e-238</td><td>SLC35E3</td></tr>\n",
       "\t<tr><th scope=row>9305</th><td>ENSG00000172809</td><td>12492.3214</td><td> 0.7466833</td><td>0.02264975</td><td> 32.96652</td><td>2.453020e-238</td><td>1.588772e-235</td><td>RPL38  </td></tr>\n",
       "\t<tr><th scope=row>6350</th><td>ENSG00000145592</td><td>13908.3627</td><td> 0.6870976</td><td>0.02163642</td><td> 31.75653</td><td>2.579929e-221</td><td>1.606700e-218</td><td>RPL37  </td></tr>\n",
       "\t<tr><th scope=row>8414</th><td>ENSG00000166523</td><td>  884.1185</td><td> 2.6280508</td><td>0.08332942</td><td> 31.53809</td><td>2.611660e-218</td><td>1.566222e-215</td><td>CLEC4E </td></tr>\n",
       "\t<tr><th scope=row>11548</th><td>ENSG00000198879</td><td> 1031.5036</td><td>-2.1336636</td><td>0.06776901</td><td>-31.48435</td><td>1.422544e-217</td><td>8.226368e-215</td><td>SFMBT2 </td></tr>\n",
       "\t<tr><th scope=row>4590</th><td>ENSG00000130255</td><td> 8447.0186</td><td> 0.7769630</td><td>0.02472134</td><td> 31.42884</td><td>8.170138e-217</td><td>4.561755e-214</td><td>RPL36  </td></tr>\n",
       "\t<tr><th scope=row>3586</th><td>ENSG00000118181</td><td>10225.9961</td><td> 0.7385657</td><td>0.02350955</td><td> 31.41556</td><td>1.240473e-216</td><td>6.695244e-214</td><td>RPS25  </td></tr>\n",
       "\t<tr><th scope=row>⋮</th><td>⋮</td><td>⋮</td><td>⋮</td><td>⋮</td><td>⋮</td><td>⋮</td><td>⋮</td><td>⋮</td></tr>\n",
       "\t<tr><th scope=row>12920</th><td>ENSG00000235564</td><td>  9.365851</td><td>-3.260909e-03</td><td>0.66420591</td><td>-0.0049094856</td><td>0.9960828</td><td>0.9978700</td><td>ENSG00000235564</td></tr>\n",
       "\t<tr><th scope=row>12831</th><td>ENSG00000234072</td><td> 79.622425</td><td> 1.167768e-03</td><td>0.24488814</td><td> 0.0047685774</td><td>0.9961952</td><td>0.9979209</td><td>GTF3C2-AS2     </td></tr>\n",
       "\t<tr><th scope=row>5875</th><td>ENSG00000141002</td><td>949.586340</td><td>-3.014322e-04</td><td>0.06968577</td><td>-0.0043255922</td><td>0.9965487</td><td>0.9982132</td><td>TCF25          </td></tr>\n",
       "\t<tr><th scope=row>14416</th><td>ENSG00000263513</td><td>  6.404160</td><td> 3.821072e-03</td><td>0.90118213</td><td> 0.0042400659</td><td>0.9966169</td><td>0.9982198</td><td>FAM72C         </td></tr>\n",
       "\t<tr><th scope=row>7700</th><td>ENSG00000162522</td><td>  9.313901</td><td> 2.907733e-03</td><td>0.72486047</td><td> 0.0040114379</td><td>0.9967993</td><td>0.9983408</td><td>KIAA1522       </td></tr>\n",
       "\t<tr><th scope=row>9693</th><td>ENSG00000176531</td><td> 22.464018</td><td>-1.639984e-03</td><td>0.43252026</td><td>-0.0037916935</td><td>0.9969747</td><td>0.9984546</td><td>PHLDB3         </td></tr>\n",
       "\t<tr><th scope=row>11071</th><td>ENSG00000196476</td><td> 46.751727</td><td>-1.072555e-03</td><td>0.29178754</td><td>-0.0036758080</td><td>0.9970671</td><td>0.9984758</td><td>C20orf96       </td></tr>\n",
       "\t<tr><th scope=row>12448</th><td>ENSG00000227963</td><td>  7.858618</td><td> 2.547305e-03</td><td>0.70659178</td><td> 0.0036050584</td><td>0.9971236</td><td>0.9984758</td><td>RBM15-AS1      </td></tr>\n",
       "\t<tr><th scope=row>13653</th><td>ENSG00000253649</td><td>  6.698170</td><td>-2.921370e-03</td><td>0.82681483</td><td>-0.0035332817</td><td>0.9971809</td><td>0.9984758</td><td>PRSS51         </td></tr>\n",
       "\t<tr><th scope=row>12073</th><td>ENSG00000214719</td><td>115.641577</td><td>-5.928766e-04</td><td>0.19089374</td><td>-0.0031057937</td><td>0.9975219</td><td>0.9987556</td><td>ENSG00000214719</td></tr>\n",
       "\t<tr><th scope=row>13837</th><td>ENSG00000256436</td><td>  9.337575</td><td>-2.175552e-03</td><td>0.74613222</td><td>-0.0029157730</td><td>0.9976736</td><td>0.9988456</td><td>TAS2R31        </td></tr>\n",
       "\t<tr><th scope=row>7715</th><td>ENSG00000162623</td><td>137.204456</td><td>-4.522282e-04</td><td>0.17083891</td><td>-0.0026471030</td><td>0.9978879</td><td>0.9989935</td><td>TYW3           </td></tr>\n",
       "\t<tr><th scope=row>14663</th><td>ENSG00000267698</td><td> 10.528463</td><td> 1.729825e-03</td><td>0.67150276</td><td> 0.0025760506</td><td>0.9979446</td><td>0.9989935</td><td>ENSG00000267698</td></tr>\n",
       "\t<tr><th scope=row>1244</th><td>ENSG00000084463</td><td>355.837304</td><td> 2.579826e-04</td><td>0.11020466</td><td> 0.0023409408</td><td>0.9981322</td><td>0.9991003</td><td>WBP11          </td></tr>\n",
       "\t<tr><th scope=row>4679</th><td>ENSG00000130881</td><td> 14.565002</td><td> 1.205365e-03</td><td>0.54244011</td><td> 0.0022221165</td><td>0.9982270</td><td>0.9991003</td><td>LRP3           </td></tr>\n",
       "\t<tr><th scope=row>9091</th><td>ENSG00000171169</td><td> 23.917489</td><td>-8.961116e-04</td><td>0.40542030</td><td>-0.0022103274</td><td>0.9982364</td><td>0.9991003</td><td>NAIF1          </td></tr>\n",
       "\t<tr><th scope=row>7608</th><td>ENSG00000161533</td><td>167.426743</td><td>-3.005072e-04</td><td>0.16009850</td><td>-0.0018770143</td><td>0.9985024</td><td>0.9993047</td><td>ACOX1          </td></tr>\n",
       "\t<tr><th scope=row>7731</th><td>ENSG00000162702</td><td>137.197448</td><td>-2.024479e-04</td><td>0.17267639</td><td>-0.0011724119</td><td>0.9990646</td><td>0.9997171</td><td>ZNF281         </td></tr>\n",
       "\t<tr><th scope=row>8932</th><td>ENSG00000169972</td><td>  7.882471</td><td>-7.838005e-04</td><td>0.74490843</td><td>-0.0010522106</td><td>0.9991605</td><td>0.9997171</td><td>PUSL1          </td></tr>\n",
       "\t<tr><th scope=row>10017</th><td>ENSG00000179943</td><td> 17.207984</td><td> 5.191023e-04</td><td>0.49389105</td><td> 0.0010510462</td><td>0.9991614</td><td>0.9997171</td><td>FIZ1           </td></tr>\n",
       "\t<tr><th scope=row>13254</th><td>ENSG00000243509</td><td> 11.956630</td><td>-6.441162e-04</td><td>0.57494023</td><td>-0.0011203186</td><td>0.9991061</td><td>0.9997171</td><td>TNFRSF6B       </td></tr>\n",
       "\t<tr><th scope=row>1655</th><td>ENSG00000100036</td><td>  7.868575</td><td> 4.133127e-04</td><td>0.71546824</td><td> 0.0005776814</td><td>0.9995391</td><td>0.9997243</td><td>SLC35E4        </td></tr>\n",
       "\t<tr><th scope=row>7749</th><td>ENSG00000162813</td><td> 65.918131</td><td>-1.893541e-04</td><td>0.26536240</td><td>-0.0007135680</td><td>0.9994307</td><td>0.9997243</td><td>BPNT1          </td></tr>\n",
       "\t<tr><th scope=row>8656</th><td>ENSG00000168000</td><td> 58.258099</td><td> 2.767375e-04</td><td>0.32105767</td><td> 0.0008619558</td><td>0.9993123</td><td>0.9997243</td><td>BSCL2          </td></tr>\n",
       "\t<tr><th scope=row>11826</th><td>ENSG00000205726</td><td>161.063873</td><td> 1.082638e-04</td><td>0.16698659</td><td> 0.0006483382</td><td>0.9994827</td><td>0.9997243</td><td>ITSN1          </td></tr>\n",
       "\t<tr><th scope=row>12027</th><td>ENSG00000213999</td><td> 22.465853</td><td> 3.951287e-04</td><td>0.42231607</td><td> 0.0009356231</td><td>0.9992535</td><td>0.9997243</td><td>MEF2B          </td></tr>\n",
       "\t<tr><th scope=row>13113</th><td>ENSG00000239779</td><td>157.331160</td><td>-1.189262e-04</td><td>0.16923843</td><td>-0.0007027139</td><td>0.9994393</td><td>0.9997243</td><td>WBP1           </td></tr>\n",
       "\t<tr><th scope=row>2182</th><td>ENSG00000104131</td><td>286.506006</td><td>-4.422495e-05</td><td>0.11938091</td><td>-0.0003704524</td><td>0.9997044</td><td>0.9997662</td><td>EIF3J          </td></tr>\n",
       "\t<tr><th scope=row>12068</th><td>ENSG00000214654</td><td> 17.230517</td><td>-1.959725e-04</td><td>0.50228754</td><td>-0.0003901601</td><td>0.9996887</td><td>0.9997662</td><td>B3GALT9        </td></tr>\n",
       "\t<tr><th scope=row>15247</th><td>ENSG00000274292</td><td>155.207683</td><td>-2.337686e-05</td><td>0.16359555</td><td>-0.0001428942</td><td>0.9998860</td><td>0.9998860</td><td>ENSG00000274292</td></tr>\n",
       "</tbody>\n",
       "</table>\n"
      ],
      "text/latex": [
       "A data.frame: 16112 × 8\n",
       "\\begin{tabular}{r|llllllll}\n",
       "  & Row.names & baseMean & log2FoldChange & lfcSE & stat & pvalue & padj & gene\\_name\\\\\n",
       "  & <I<chr>> & <dbl> & <dbl> & <dbl> & <dbl> & <dbl> & <dbl> & <chr>\\\\\n",
       "\\hline\n",
       "\t167 & ENSG00000008988 & 15911.7029 &  0.8736037 & 0.01997269 &  43.73991 &  0.000000e+00 &  0.000000e+00 & RPS20  \\\\\n",
       "\t883 & ENSG00000071082 & 15789.8437 &  0.9120215 & 0.02195469 &  41.54107 &  0.000000e+00 &  0.000000e+00 & RPL31  \\\\\n",
       "\t2467 & ENSG00000106211 &  3989.5391 &  2.2794300 & 0.04040489 &  56.41471 &  0.000000e+00 &  0.000000e+00 & HSPB1  \\\\\n",
       "\t3043 & ENSG00000112306 & 39592.7193 &  1.0082457 & 0.01649306 &  61.13152 &  0.000000e+00 &  0.000000e+00 & RPS12  \\\\\n",
       "\t4925 & ENSG00000133112 & 16816.4541 &  0.8094644 & 0.02093642 &  38.66298 &  0.000000e+00 &  0.000000e+00 & TPT1   \\\\\n",
       "\t5514 & ENSG00000137818 & 43663.0893 &  0.8955089 & 0.01689063 &  53.01810 &  0.000000e+00 &  0.000000e+00 & RPLP1  \\\\\n",
       "\t5577 & ENSG00000138326 & 23164.0419 &  0.7275472 & 0.01749415 &  41.58803 &  0.000000e+00 &  0.000000e+00 & RPS24  \\\\\n",
       "\t6057 & ENSG00000142937 & 14740.3644 &  0.7802394 & 0.01999334 &  39.02497 &  0.000000e+00 &  0.000000e+00 & RPS8   \\\\\n",
       "\t6340 & ENSG00000145425 & 18045.4473 &  0.7329901 & 0.01868972 &  39.21889 &  0.000000e+00 &  0.000000e+00 & RPS3A  \\\\\n",
       "\t7646 & ENSG00000161970 & 15771.4429 &  1.0688648 & 0.02535755 &  42.15175 &  0.000000e+00 &  0.000000e+00 & RPL26  \\\\\n",
       "\t8096 & ENSG00000164587 & 13108.5500 &  1.0317966 & 0.02107276 &  48.96353 &  0.000000e+00 &  0.000000e+00 & RPS14  \\\\\n",
       "\t9180 & ENSG00000171858 & 14829.4079 &  0.8832629 & 0.02251809 &  39.22460 &  0.000000e+00 &  0.000000e+00 & RPS21  \\\\\n",
       "\t9330 & ENSG00000172995 &  1873.6081 & -4.7500078 & 0.08057382 & -58.95225 &  0.000000e+00 &  0.000000e+00 & ARPP21 \\\\\n",
       "\t10694 & ENSG00000186468 & 26165.9522 &  1.2922533 & 0.01815233 &  71.18938 &  0.000000e+00 &  0.000000e+00 & RPS23  \\\\\n",
       "\t12675 & ENSG00000231500 & 30000.4543 &  0.7821378 & 0.01697603 &  46.07306 &  0.000000e+00 &  0.000000e+00 & RPS18  \\\\\n",
       "\t14493 & ENSG00000265681 & 14695.3210 &  0.9236325 & 0.02151586 &  42.92798 &  0.000000e+00 &  0.000000e+00 & RPL17  \\\\\n",
       "\t4212 & ENSG00000125691 & 21736.6035 &  0.6896909 & 0.01878786 &  36.70939 & 5.172060e-295 & 4.926235e-292 & RPL23  \\\\\n",
       "\t2640 & ENSG00000108107 & 22884.9763 &  0.6276369 & 0.01733226 &  36.21207 & 3.931538e-287 & 3.536637e-284 & RPL28  \\\\\n",
       "\t7190 & ENSG00000156482 & 21734.9534 &  0.7432248 & 0.02136454 &  34.78777 & 3.723595e-265 & 3.173287e-262 & RPL30  \\\\\n",
       "\t6280 & ENSG00000144713 & 13692.3263 &  0.7314160 & 0.02105491 &  34.73851 & 2.066682e-264 & 1.673186e-261 & RPL32  \\\\\n",
       "\t2761 & ENSG00000109475 & 23821.0698 &  0.7244899 & 0.02111615 &  34.30975 & 5.614605e-258 & 4.329127e-255 & RPL34  \\\\\n",
       "\t11737 & ENSG00000204628 &  6249.2248 &  0.9621827 & 0.02857508 &  33.67209 & 1.481532e-248 & 1.090407e-245 & RACK1  \\\\\n",
       "\t1012 & ENSG00000075624 &  7262.1174 & -0.9415456 & 0.02814764 & -33.45025 & 2.552035e-245 & 1.796633e-242 & ACTB   \\\\\n",
       "\t9625 & ENSG00000175782 &  2997.6651 &  1.5178334 & 0.04578817 &  33.14903 & 5.849245e-241 & 3.946290e-238 & SLC35E3\\\\\n",
       "\t9305 & ENSG00000172809 & 12492.3214 &  0.7466833 & 0.02264975 &  32.96652 & 2.453020e-238 & 1.588772e-235 & RPL38  \\\\\n",
       "\t6350 & ENSG00000145592 & 13908.3627 &  0.6870976 & 0.02163642 &  31.75653 & 2.579929e-221 & 1.606700e-218 & RPL37  \\\\\n",
       "\t8414 & ENSG00000166523 &   884.1185 &  2.6280508 & 0.08332942 &  31.53809 & 2.611660e-218 & 1.566222e-215 & CLEC4E \\\\\n",
       "\t11548 & ENSG00000198879 &  1031.5036 & -2.1336636 & 0.06776901 & -31.48435 & 1.422544e-217 & 8.226368e-215 & SFMBT2 \\\\\n",
       "\t4590 & ENSG00000130255 &  8447.0186 &  0.7769630 & 0.02472134 &  31.42884 & 8.170138e-217 & 4.561755e-214 & RPL36  \\\\\n",
       "\t3586 & ENSG00000118181 & 10225.9961 &  0.7385657 & 0.02350955 &  31.41556 & 1.240473e-216 & 6.695244e-214 & RPS25  \\\\\n",
       "\t⋮ & ⋮ & ⋮ & ⋮ & ⋮ & ⋮ & ⋮ & ⋮ & ⋮\\\\\n",
       "\t12920 & ENSG00000235564 &   9.365851 & -3.260909e-03 & 0.66420591 & -0.0049094856 & 0.9960828 & 0.9978700 & ENSG00000235564\\\\\n",
       "\t12831 & ENSG00000234072 &  79.622425 &  1.167768e-03 & 0.24488814 &  0.0047685774 & 0.9961952 & 0.9979209 & GTF3C2-AS2     \\\\\n",
       "\t5875 & ENSG00000141002 & 949.586340 & -3.014322e-04 & 0.06968577 & -0.0043255922 & 0.9965487 & 0.9982132 & TCF25          \\\\\n",
       "\t14416 & ENSG00000263513 &   6.404160 &  3.821072e-03 & 0.90118213 &  0.0042400659 & 0.9966169 & 0.9982198 & FAM72C         \\\\\n",
       "\t7700 & ENSG00000162522 &   9.313901 &  2.907733e-03 & 0.72486047 &  0.0040114379 & 0.9967993 & 0.9983408 & KIAA1522       \\\\\n",
       "\t9693 & ENSG00000176531 &  22.464018 & -1.639984e-03 & 0.43252026 & -0.0037916935 & 0.9969747 & 0.9984546 & PHLDB3         \\\\\n",
       "\t11071 & ENSG00000196476 &  46.751727 & -1.072555e-03 & 0.29178754 & -0.0036758080 & 0.9970671 & 0.9984758 & C20orf96       \\\\\n",
       "\t12448 & ENSG00000227963 &   7.858618 &  2.547305e-03 & 0.70659178 &  0.0036050584 & 0.9971236 & 0.9984758 & RBM15-AS1      \\\\\n",
       "\t13653 & ENSG00000253649 &   6.698170 & -2.921370e-03 & 0.82681483 & -0.0035332817 & 0.9971809 & 0.9984758 & PRSS51         \\\\\n",
       "\t12073 & ENSG00000214719 & 115.641577 & -5.928766e-04 & 0.19089374 & -0.0031057937 & 0.9975219 & 0.9987556 & ENSG00000214719\\\\\n",
       "\t13837 & ENSG00000256436 &   9.337575 & -2.175552e-03 & 0.74613222 & -0.0029157730 & 0.9976736 & 0.9988456 & TAS2R31        \\\\\n",
       "\t7715 & ENSG00000162623 & 137.204456 & -4.522282e-04 & 0.17083891 & -0.0026471030 & 0.9978879 & 0.9989935 & TYW3           \\\\\n",
       "\t14663 & ENSG00000267698 &  10.528463 &  1.729825e-03 & 0.67150276 &  0.0025760506 & 0.9979446 & 0.9989935 & ENSG00000267698\\\\\n",
       "\t1244 & ENSG00000084463 & 355.837304 &  2.579826e-04 & 0.11020466 &  0.0023409408 & 0.9981322 & 0.9991003 & WBP11          \\\\\n",
       "\t4679 & ENSG00000130881 &  14.565002 &  1.205365e-03 & 0.54244011 &  0.0022221165 & 0.9982270 & 0.9991003 & LRP3           \\\\\n",
       "\t9091 & ENSG00000171169 &  23.917489 & -8.961116e-04 & 0.40542030 & -0.0022103274 & 0.9982364 & 0.9991003 & NAIF1          \\\\\n",
       "\t7608 & ENSG00000161533 & 167.426743 & -3.005072e-04 & 0.16009850 & -0.0018770143 & 0.9985024 & 0.9993047 & ACOX1          \\\\\n",
       "\t7731 & ENSG00000162702 & 137.197448 & -2.024479e-04 & 0.17267639 & -0.0011724119 & 0.9990646 & 0.9997171 & ZNF281         \\\\\n",
       "\t8932 & ENSG00000169972 &   7.882471 & -7.838005e-04 & 0.74490843 & -0.0010522106 & 0.9991605 & 0.9997171 & PUSL1          \\\\\n",
       "\t10017 & ENSG00000179943 &  17.207984 &  5.191023e-04 & 0.49389105 &  0.0010510462 & 0.9991614 & 0.9997171 & FIZ1           \\\\\n",
       "\t13254 & ENSG00000243509 &  11.956630 & -6.441162e-04 & 0.57494023 & -0.0011203186 & 0.9991061 & 0.9997171 & TNFRSF6B       \\\\\n",
       "\t1655 & ENSG00000100036 &   7.868575 &  4.133127e-04 & 0.71546824 &  0.0005776814 & 0.9995391 & 0.9997243 & SLC35E4        \\\\\n",
       "\t7749 & ENSG00000162813 &  65.918131 & -1.893541e-04 & 0.26536240 & -0.0007135680 & 0.9994307 & 0.9997243 & BPNT1          \\\\\n",
       "\t8656 & ENSG00000168000 &  58.258099 &  2.767375e-04 & 0.32105767 &  0.0008619558 & 0.9993123 & 0.9997243 & BSCL2          \\\\\n",
       "\t11826 & ENSG00000205726 & 161.063873 &  1.082638e-04 & 0.16698659 &  0.0006483382 & 0.9994827 & 0.9997243 & ITSN1          \\\\\n",
       "\t12027 & ENSG00000213999 &  22.465853 &  3.951287e-04 & 0.42231607 &  0.0009356231 & 0.9992535 & 0.9997243 & MEF2B          \\\\\n",
       "\t13113 & ENSG00000239779 & 157.331160 & -1.189262e-04 & 0.16923843 & -0.0007027139 & 0.9994393 & 0.9997243 & WBP1           \\\\\n",
       "\t2182 & ENSG00000104131 & 286.506006 & -4.422495e-05 & 0.11938091 & -0.0003704524 & 0.9997044 & 0.9997662 & EIF3J          \\\\\n",
       "\t12068 & ENSG00000214654 &  17.230517 & -1.959725e-04 & 0.50228754 & -0.0003901601 & 0.9996887 & 0.9997662 & B3GALT9        \\\\\n",
       "\t15247 & ENSG00000274292 & 155.207683 & -2.337686e-05 & 0.16359555 & -0.0001428942 & 0.9998860 & 0.9998860 & ENSG00000274292\\\\\n",
       "\\end{tabular}\n"
      ],
      "text/markdown": [
       "\n",
       "A data.frame: 16112 × 8\n",
       "\n",
       "| <!--/--> | Row.names &lt;I&lt;chr&gt;&gt; | baseMean &lt;dbl&gt; | log2FoldChange &lt;dbl&gt; | lfcSE &lt;dbl&gt; | stat &lt;dbl&gt; | pvalue &lt;dbl&gt; | padj &lt;dbl&gt; | gene_name &lt;chr&gt; |\n",
       "|---|---|---|---|---|---|---|---|---|\n",
       "| 167 | ENSG00000008988 | 15911.7029 |  0.8736037 | 0.01997269 |  43.73991 |  0.000000e+00 |  0.000000e+00 | RPS20   |\n",
       "| 883 | ENSG00000071082 | 15789.8437 |  0.9120215 | 0.02195469 |  41.54107 |  0.000000e+00 |  0.000000e+00 | RPL31   |\n",
       "| 2467 | ENSG00000106211 |  3989.5391 |  2.2794300 | 0.04040489 |  56.41471 |  0.000000e+00 |  0.000000e+00 | HSPB1   |\n",
       "| 3043 | ENSG00000112306 | 39592.7193 |  1.0082457 | 0.01649306 |  61.13152 |  0.000000e+00 |  0.000000e+00 | RPS12   |\n",
       "| 4925 | ENSG00000133112 | 16816.4541 |  0.8094644 | 0.02093642 |  38.66298 |  0.000000e+00 |  0.000000e+00 | TPT1    |\n",
       "| 5514 | ENSG00000137818 | 43663.0893 |  0.8955089 | 0.01689063 |  53.01810 |  0.000000e+00 |  0.000000e+00 | RPLP1   |\n",
       "| 5577 | ENSG00000138326 | 23164.0419 |  0.7275472 | 0.01749415 |  41.58803 |  0.000000e+00 |  0.000000e+00 | RPS24   |\n",
       "| 6057 | ENSG00000142937 | 14740.3644 |  0.7802394 | 0.01999334 |  39.02497 |  0.000000e+00 |  0.000000e+00 | RPS8    |\n",
       "| 6340 | ENSG00000145425 | 18045.4473 |  0.7329901 | 0.01868972 |  39.21889 |  0.000000e+00 |  0.000000e+00 | RPS3A   |\n",
       "| 7646 | ENSG00000161970 | 15771.4429 |  1.0688648 | 0.02535755 |  42.15175 |  0.000000e+00 |  0.000000e+00 | RPL26   |\n",
       "| 8096 | ENSG00000164587 | 13108.5500 |  1.0317966 | 0.02107276 |  48.96353 |  0.000000e+00 |  0.000000e+00 | RPS14   |\n",
       "| 9180 | ENSG00000171858 | 14829.4079 |  0.8832629 | 0.02251809 |  39.22460 |  0.000000e+00 |  0.000000e+00 | RPS21   |\n",
       "| 9330 | ENSG00000172995 |  1873.6081 | -4.7500078 | 0.08057382 | -58.95225 |  0.000000e+00 |  0.000000e+00 | ARPP21  |\n",
       "| 10694 | ENSG00000186468 | 26165.9522 |  1.2922533 | 0.01815233 |  71.18938 |  0.000000e+00 |  0.000000e+00 | RPS23   |\n",
       "| 12675 | ENSG00000231500 | 30000.4543 |  0.7821378 | 0.01697603 |  46.07306 |  0.000000e+00 |  0.000000e+00 | RPS18   |\n",
       "| 14493 | ENSG00000265681 | 14695.3210 |  0.9236325 | 0.02151586 |  42.92798 |  0.000000e+00 |  0.000000e+00 | RPL17   |\n",
       "| 4212 | ENSG00000125691 | 21736.6035 |  0.6896909 | 0.01878786 |  36.70939 | 5.172060e-295 | 4.926235e-292 | RPL23   |\n",
       "| 2640 | ENSG00000108107 | 22884.9763 |  0.6276369 | 0.01733226 |  36.21207 | 3.931538e-287 | 3.536637e-284 | RPL28   |\n",
       "| 7190 | ENSG00000156482 | 21734.9534 |  0.7432248 | 0.02136454 |  34.78777 | 3.723595e-265 | 3.173287e-262 | RPL30   |\n",
       "| 6280 | ENSG00000144713 | 13692.3263 |  0.7314160 | 0.02105491 |  34.73851 | 2.066682e-264 | 1.673186e-261 | RPL32   |\n",
       "| 2761 | ENSG00000109475 | 23821.0698 |  0.7244899 | 0.02111615 |  34.30975 | 5.614605e-258 | 4.329127e-255 | RPL34   |\n",
       "| 11737 | ENSG00000204628 |  6249.2248 |  0.9621827 | 0.02857508 |  33.67209 | 1.481532e-248 | 1.090407e-245 | RACK1   |\n",
       "| 1012 | ENSG00000075624 |  7262.1174 | -0.9415456 | 0.02814764 | -33.45025 | 2.552035e-245 | 1.796633e-242 | ACTB    |\n",
       "| 9625 | ENSG00000175782 |  2997.6651 |  1.5178334 | 0.04578817 |  33.14903 | 5.849245e-241 | 3.946290e-238 | SLC35E3 |\n",
       "| 9305 | ENSG00000172809 | 12492.3214 |  0.7466833 | 0.02264975 |  32.96652 | 2.453020e-238 | 1.588772e-235 | RPL38   |\n",
       "| 6350 | ENSG00000145592 | 13908.3627 |  0.6870976 | 0.02163642 |  31.75653 | 2.579929e-221 | 1.606700e-218 | RPL37   |\n",
       "| 8414 | ENSG00000166523 |   884.1185 |  2.6280508 | 0.08332942 |  31.53809 | 2.611660e-218 | 1.566222e-215 | CLEC4E  |\n",
       "| 11548 | ENSG00000198879 |  1031.5036 | -2.1336636 | 0.06776901 | -31.48435 | 1.422544e-217 | 8.226368e-215 | SFMBT2  |\n",
       "| 4590 | ENSG00000130255 |  8447.0186 |  0.7769630 | 0.02472134 |  31.42884 | 8.170138e-217 | 4.561755e-214 | RPL36   |\n",
       "| 3586 | ENSG00000118181 | 10225.9961 |  0.7385657 | 0.02350955 |  31.41556 | 1.240473e-216 | 6.695244e-214 | RPS25   |\n",
       "| ⋮ | ⋮ | ⋮ | ⋮ | ⋮ | ⋮ | ⋮ | ⋮ | ⋮ |\n",
       "| 12920 | ENSG00000235564 |   9.365851 | -3.260909e-03 | 0.66420591 | -0.0049094856 | 0.9960828 | 0.9978700 | ENSG00000235564 |\n",
       "| 12831 | ENSG00000234072 |  79.622425 |  1.167768e-03 | 0.24488814 |  0.0047685774 | 0.9961952 | 0.9979209 | GTF3C2-AS2      |\n",
       "| 5875 | ENSG00000141002 | 949.586340 | -3.014322e-04 | 0.06968577 | -0.0043255922 | 0.9965487 | 0.9982132 | TCF25           |\n",
       "| 14416 | ENSG00000263513 |   6.404160 |  3.821072e-03 | 0.90118213 |  0.0042400659 | 0.9966169 | 0.9982198 | FAM72C          |\n",
       "| 7700 | ENSG00000162522 |   9.313901 |  2.907733e-03 | 0.72486047 |  0.0040114379 | 0.9967993 | 0.9983408 | KIAA1522        |\n",
       "| 9693 | ENSG00000176531 |  22.464018 | -1.639984e-03 | 0.43252026 | -0.0037916935 | 0.9969747 | 0.9984546 | PHLDB3          |\n",
       "| 11071 | ENSG00000196476 |  46.751727 | -1.072555e-03 | 0.29178754 | -0.0036758080 | 0.9970671 | 0.9984758 | C20orf96        |\n",
       "| 12448 | ENSG00000227963 |   7.858618 |  2.547305e-03 | 0.70659178 |  0.0036050584 | 0.9971236 | 0.9984758 | RBM15-AS1       |\n",
       "| 13653 | ENSG00000253649 |   6.698170 | -2.921370e-03 | 0.82681483 | -0.0035332817 | 0.9971809 | 0.9984758 | PRSS51          |\n",
       "| 12073 | ENSG00000214719 | 115.641577 | -5.928766e-04 | 0.19089374 | -0.0031057937 | 0.9975219 | 0.9987556 | ENSG00000214719 |\n",
       "| 13837 | ENSG00000256436 |   9.337575 | -2.175552e-03 | 0.74613222 | -0.0029157730 | 0.9976736 | 0.9988456 | TAS2R31         |\n",
       "| 7715 | ENSG00000162623 | 137.204456 | -4.522282e-04 | 0.17083891 | -0.0026471030 | 0.9978879 | 0.9989935 | TYW3            |\n",
       "| 14663 | ENSG00000267698 |  10.528463 |  1.729825e-03 | 0.67150276 |  0.0025760506 | 0.9979446 | 0.9989935 | ENSG00000267698 |\n",
       "| 1244 | ENSG00000084463 | 355.837304 |  2.579826e-04 | 0.11020466 |  0.0023409408 | 0.9981322 | 0.9991003 | WBP11           |\n",
       "| 4679 | ENSG00000130881 |  14.565002 |  1.205365e-03 | 0.54244011 |  0.0022221165 | 0.9982270 | 0.9991003 | LRP3            |\n",
       "| 9091 | ENSG00000171169 |  23.917489 | -8.961116e-04 | 0.40542030 | -0.0022103274 | 0.9982364 | 0.9991003 | NAIF1           |\n",
       "| 7608 | ENSG00000161533 | 167.426743 | -3.005072e-04 | 0.16009850 | -0.0018770143 | 0.9985024 | 0.9993047 | ACOX1           |\n",
       "| 7731 | ENSG00000162702 | 137.197448 | -2.024479e-04 | 0.17267639 | -0.0011724119 | 0.9990646 | 0.9997171 | ZNF281          |\n",
       "| 8932 | ENSG00000169972 |   7.882471 | -7.838005e-04 | 0.74490843 | -0.0010522106 | 0.9991605 | 0.9997171 | PUSL1           |\n",
       "| 10017 | ENSG00000179943 |  17.207984 |  5.191023e-04 | 0.49389105 |  0.0010510462 | 0.9991614 | 0.9997171 | FIZ1            |\n",
       "| 13254 | ENSG00000243509 |  11.956630 | -6.441162e-04 | 0.57494023 | -0.0011203186 | 0.9991061 | 0.9997171 | TNFRSF6B        |\n",
       "| 1655 | ENSG00000100036 |   7.868575 |  4.133127e-04 | 0.71546824 |  0.0005776814 | 0.9995391 | 0.9997243 | SLC35E4         |\n",
       "| 7749 | ENSG00000162813 |  65.918131 | -1.893541e-04 | 0.26536240 | -0.0007135680 | 0.9994307 | 0.9997243 | BPNT1           |\n",
       "| 8656 | ENSG00000168000 |  58.258099 |  2.767375e-04 | 0.32105767 |  0.0008619558 | 0.9993123 | 0.9997243 | BSCL2           |\n",
       "| 11826 | ENSG00000205726 | 161.063873 |  1.082638e-04 | 0.16698659 |  0.0006483382 | 0.9994827 | 0.9997243 | ITSN1           |\n",
       "| 12027 | ENSG00000213999 |  22.465853 |  3.951287e-04 | 0.42231607 |  0.0009356231 | 0.9992535 | 0.9997243 | MEF2B           |\n",
       "| 13113 | ENSG00000239779 | 157.331160 | -1.189262e-04 | 0.16923843 | -0.0007027139 | 0.9994393 | 0.9997243 | WBP1            |\n",
       "| 2182 | ENSG00000104131 | 286.506006 | -4.422495e-05 | 0.11938091 | -0.0003704524 | 0.9997044 | 0.9997662 | EIF3J           |\n",
       "| 12068 | ENSG00000214654 |  17.230517 | -1.959725e-04 | 0.50228754 | -0.0003901601 | 0.9996887 | 0.9997662 | B3GALT9         |\n",
       "| 15247 | ENSG00000274292 | 155.207683 | -2.337686e-05 | 0.16359555 | -0.0001428942 | 0.9998860 | 0.9998860 | ENSG00000274292 |\n",
       "\n"
      ],
      "text/plain": [
       "      Row.names       baseMean   log2FoldChange lfcSE      stat         \n",
       "167   ENSG00000008988 15911.7029  0.8736037     0.01997269  43.73991    \n",
       "883   ENSG00000071082 15789.8437  0.9120215     0.02195469  41.54107    \n",
       "2467  ENSG00000106211  3989.5391  2.2794300     0.04040489  56.41471    \n",
       "3043  ENSG00000112306 39592.7193  1.0082457     0.01649306  61.13152    \n",
       "4925  ENSG00000133112 16816.4541  0.8094644     0.02093642  38.66298    \n",
       "5514  ENSG00000137818 43663.0893  0.8955089     0.01689063  53.01810    \n",
       "5577  ENSG00000138326 23164.0419  0.7275472     0.01749415  41.58803    \n",
       "6057  ENSG00000142937 14740.3644  0.7802394     0.01999334  39.02497    \n",
       "6340  ENSG00000145425 18045.4473  0.7329901     0.01868972  39.21889    \n",
       "7646  ENSG00000161970 15771.4429  1.0688648     0.02535755  42.15175    \n",
       "8096  ENSG00000164587 13108.5500  1.0317966     0.02107276  48.96353    \n",
       "9180  ENSG00000171858 14829.4079  0.8832629     0.02251809  39.22460    \n",
       "9330  ENSG00000172995  1873.6081 -4.7500078     0.08057382 -58.95225    \n",
       "10694 ENSG00000186468 26165.9522  1.2922533     0.01815233  71.18938    \n",
       "12675 ENSG00000231500 30000.4543  0.7821378     0.01697603  46.07306    \n",
       "14493 ENSG00000265681 14695.3210  0.9236325     0.02151586  42.92798    \n",
       "4212  ENSG00000125691 21736.6035  0.6896909     0.01878786  36.70939    \n",
       "2640  ENSG00000108107 22884.9763  0.6276369     0.01733226  36.21207    \n",
       "7190  ENSG00000156482 21734.9534  0.7432248     0.02136454  34.78777    \n",
       "6280  ENSG00000144713 13692.3263  0.7314160     0.02105491  34.73851    \n",
       "2761  ENSG00000109475 23821.0698  0.7244899     0.02111615  34.30975    \n",
       "11737 ENSG00000204628  6249.2248  0.9621827     0.02857508  33.67209    \n",
       "1012  ENSG00000075624  7262.1174 -0.9415456     0.02814764 -33.45025    \n",
       "9625  ENSG00000175782  2997.6651  1.5178334     0.04578817  33.14903    \n",
       "9305  ENSG00000172809 12492.3214  0.7466833     0.02264975  32.96652    \n",
       "6350  ENSG00000145592 13908.3627  0.6870976     0.02163642  31.75653    \n",
       "8414  ENSG00000166523   884.1185  2.6280508     0.08332942  31.53809    \n",
       "11548 ENSG00000198879  1031.5036 -2.1336636     0.06776901 -31.48435    \n",
       "4590  ENSG00000130255  8447.0186  0.7769630     0.02472134  31.42884    \n",
       "3586  ENSG00000118181 10225.9961  0.7385657     0.02350955  31.41556    \n",
       "⋮     ⋮               ⋮          ⋮              ⋮          ⋮            \n",
       "12920 ENSG00000235564   9.365851 -3.260909e-03  0.66420591 -0.0049094856\n",
       "12831 ENSG00000234072  79.622425  1.167768e-03  0.24488814  0.0047685774\n",
       "5875  ENSG00000141002 949.586340 -3.014322e-04  0.06968577 -0.0043255922\n",
       "14416 ENSG00000263513   6.404160  3.821072e-03  0.90118213  0.0042400659\n",
       "7700  ENSG00000162522   9.313901  2.907733e-03  0.72486047  0.0040114379\n",
       "9693  ENSG00000176531  22.464018 -1.639984e-03  0.43252026 -0.0037916935\n",
       "11071 ENSG00000196476  46.751727 -1.072555e-03  0.29178754 -0.0036758080\n",
       "12448 ENSG00000227963   7.858618  2.547305e-03  0.70659178  0.0036050584\n",
       "13653 ENSG00000253649   6.698170 -2.921370e-03  0.82681483 -0.0035332817\n",
       "12073 ENSG00000214719 115.641577 -5.928766e-04  0.19089374 -0.0031057937\n",
       "13837 ENSG00000256436   9.337575 -2.175552e-03  0.74613222 -0.0029157730\n",
       "7715  ENSG00000162623 137.204456 -4.522282e-04  0.17083891 -0.0026471030\n",
       "14663 ENSG00000267698  10.528463  1.729825e-03  0.67150276  0.0025760506\n",
       "1244  ENSG00000084463 355.837304  2.579826e-04  0.11020466  0.0023409408\n",
       "4679  ENSG00000130881  14.565002  1.205365e-03  0.54244011  0.0022221165\n",
       "9091  ENSG00000171169  23.917489 -8.961116e-04  0.40542030 -0.0022103274\n",
       "7608  ENSG00000161533 167.426743 -3.005072e-04  0.16009850 -0.0018770143\n",
       "7731  ENSG00000162702 137.197448 -2.024479e-04  0.17267639 -0.0011724119\n",
       "8932  ENSG00000169972   7.882471 -7.838005e-04  0.74490843 -0.0010522106\n",
       "10017 ENSG00000179943  17.207984  5.191023e-04  0.49389105  0.0010510462\n",
       "13254 ENSG00000243509  11.956630 -6.441162e-04  0.57494023 -0.0011203186\n",
       "1655  ENSG00000100036   7.868575  4.133127e-04  0.71546824  0.0005776814\n",
       "7749  ENSG00000162813  65.918131 -1.893541e-04  0.26536240 -0.0007135680\n",
       "8656  ENSG00000168000  58.258099  2.767375e-04  0.32105767  0.0008619558\n",
       "11826 ENSG00000205726 161.063873  1.082638e-04  0.16698659  0.0006483382\n",
       "12027 ENSG00000213999  22.465853  3.951287e-04  0.42231607  0.0009356231\n",
       "13113 ENSG00000239779 157.331160 -1.189262e-04  0.16923843 -0.0007027139\n",
       "2182  ENSG00000104131 286.506006 -4.422495e-05  0.11938091 -0.0003704524\n",
       "12068 ENSG00000214654  17.230517 -1.959725e-04  0.50228754 -0.0003901601\n",
       "15247 ENSG00000274292 155.207683 -2.337686e-05  0.16359555 -0.0001428942\n",
       "      pvalue        padj          gene_name      \n",
       "167    0.000000e+00  0.000000e+00 RPS20          \n",
       "883    0.000000e+00  0.000000e+00 RPL31          \n",
       "2467   0.000000e+00  0.000000e+00 HSPB1          \n",
       "3043   0.000000e+00  0.000000e+00 RPS12          \n",
       "4925   0.000000e+00  0.000000e+00 TPT1           \n",
       "5514   0.000000e+00  0.000000e+00 RPLP1          \n",
       "5577   0.000000e+00  0.000000e+00 RPS24          \n",
       "6057   0.000000e+00  0.000000e+00 RPS8           \n",
       "6340   0.000000e+00  0.000000e+00 RPS3A          \n",
       "7646   0.000000e+00  0.000000e+00 RPL26          \n",
       "8096   0.000000e+00  0.000000e+00 RPS14          \n",
       "9180   0.000000e+00  0.000000e+00 RPS21          \n",
       "9330   0.000000e+00  0.000000e+00 ARPP21         \n",
       "10694  0.000000e+00  0.000000e+00 RPS23          \n",
       "12675  0.000000e+00  0.000000e+00 RPS18          \n",
       "14493  0.000000e+00  0.000000e+00 RPL17          \n",
       "4212  5.172060e-295 4.926235e-292 RPL23          \n",
       "2640  3.931538e-287 3.536637e-284 RPL28          \n",
       "7190  3.723595e-265 3.173287e-262 RPL30          \n",
       "6280  2.066682e-264 1.673186e-261 RPL32          \n",
       "2761  5.614605e-258 4.329127e-255 RPL34          \n",
       "11737 1.481532e-248 1.090407e-245 RACK1          \n",
       "1012  2.552035e-245 1.796633e-242 ACTB           \n",
       "9625  5.849245e-241 3.946290e-238 SLC35E3        \n",
       "9305  2.453020e-238 1.588772e-235 RPL38          \n",
       "6350  2.579929e-221 1.606700e-218 RPL37          \n",
       "8414  2.611660e-218 1.566222e-215 CLEC4E         \n",
       "11548 1.422544e-217 8.226368e-215 SFMBT2         \n",
       "4590  8.170138e-217 4.561755e-214 RPL36          \n",
       "3586  1.240473e-216 6.695244e-214 RPS25          \n",
       "⋮     ⋮             ⋮             ⋮              \n",
       "12920 0.9960828     0.9978700     ENSG00000235564\n",
       "12831 0.9961952     0.9979209     GTF3C2-AS2     \n",
       "5875  0.9965487     0.9982132     TCF25          \n",
       "14416 0.9966169     0.9982198     FAM72C         \n",
       "7700  0.9967993     0.9983408     KIAA1522       \n",
       "9693  0.9969747     0.9984546     PHLDB3         \n",
       "11071 0.9970671     0.9984758     C20orf96       \n",
       "12448 0.9971236     0.9984758     RBM15-AS1      \n",
       "13653 0.9971809     0.9984758     PRSS51         \n",
       "12073 0.9975219     0.9987556     ENSG00000214719\n",
       "13837 0.9976736     0.9988456     TAS2R31        \n",
       "7715  0.9978879     0.9989935     TYW3           \n",
       "14663 0.9979446     0.9989935     ENSG00000267698\n",
       "1244  0.9981322     0.9991003     WBP11          \n",
       "4679  0.9982270     0.9991003     LRP3           \n",
       "9091  0.9982364     0.9991003     NAIF1          \n",
       "7608  0.9985024     0.9993047     ACOX1          \n",
       "7731  0.9990646     0.9997171     ZNF281         \n",
       "8932  0.9991605     0.9997171     PUSL1          \n",
       "10017 0.9991614     0.9997171     FIZ1           \n",
       "13254 0.9991061     0.9997171     TNFRSF6B       \n",
       "1655  0.9995391     0.9997243     SLC35E4        \n",
       "7749  0.9994307     0.9997243     BPNT1          \n",
       "8656  0.9993123     0.9997243     BSCL2          \n",
       "11826 0.9994827     0.9997243     ITSN1          \n",
       "12027 0.9992535     0.9997243     MEF2B          \n",
       "13113 0.9994393     0.9997243     WBP1           \n",
       "2182  0.9997044     0.9997662     EIF3J          \n",
       "12068 0.9996887     0.9997662     B3GALT9        \n",
       "15247 0.9998860     0.9998860     ENSG00000274292"
      ]
     },
     "metadata": {},
     "output_type": "display_data"
    }
   ],
   "source": [
    "resOrdered <- res[order(res$pvalue),]\n",
    "resOrdered_df <- merge(as.data.frame(resOrdered), GFFfile, by.x = \"row.names\", by.y=\"gene_id\")\n",
    "resOrdered_df <- resOrdered_df[order(resOrdered_df$padj),]\n",
    "resOrdered_df"
   ]
  },
  {
   "cell_type": "code",
   "execution_count": 32,
   "metadata": {
    "vscode": {
     "languageId": "r"
    }
   },
   "outputs": [
    {
     "name": "stdout",
     "output_type": "stream",
     "text": [
      "\n",
      "out of 16192 with nonzero total read count\n",
      "adjusted p-value < 0.05\n",
      "LFC > 0 (up)       : 2884, 18%\n",
      "LFC < 0 (down)     : 2498, 15%\n",
      "outliers [1]       : 0, 0%\n",
      "low counts [2]     : 0, 0%\n",
      "(mean count < 2)\n",
      "[1] see 'cooksCutoff' argument of ?results\n",
      "[2] see 'independentFiltering' argument of ?results\n",
      "\n"
     ]
    }
   ],
   "source": [
    "summary(res)"
   ]
  },
  {
   "cell_type": "code",
   "execution_count": 33,
   "metadata": {
    "vscode": {
     "languageId": "r"
    }
   },
   "outputs": [
    {
     "data": {
      "text/html": [
       "5382"
      ],
      "text/latex": [
       "5382"
      ],
      "text/markdown": [
       "5382"
      ],
      "text/plain": [
       "[1] 5382"
      ]
     },
     "metadata": {},
     "output_type": "display_data"
    }
   ],
   "source": [
    "sum(res$padj < 0.05, na.rm=TRUE)"
   ]
  },
  {
   "cell_type": "code",
   "execution_count": 34,
   "metadata": {
    "vscode": {
     "languageId": "r"
    }
   },
   "outputs": [
    {
     "data": {
      "image/png": "[encoded data removed]",
      "text/plain": [
       "Plot with title “”"
      ]
     },
     "metadata": {
      "image/png": {
       "height": 420,
       "width": 420
      }
     },
     "output_type": "display_data"
    }
   ],
   "source": [
    "par(bg = \"white\")\n",
    "\n",
    "# Plot the MA plot with specified y-axis limits\n",
    "plotMA(res, ylim=c(-2, 2))\n",
    "\n",
    "# Reset par to default if needed\n",
    "par(bg = \"transparent\")"
   ]
  },
  {
   "cell_type": "code",
   "execution_count": 35,
   "metadata": {
    "vscode": {
     "languageId": "r"
    }
   },
   "outputs": [
    {
     "data": {
      "image/png": "[encoded data removed]",
      "text/plain": [
       "Plot with title “ENSG00000008988”"
      ]
     },
     "metadata": {
      "image/png": {
       "height": 420,
       "width": 420
      }
     },
     "output_type": "display_data"
    }
   ],
   "source": [
    "par(bg = \"white\")\n",
    "plotCounts(dds, gene=which.min(res$padj), intgroup=\"condition\")"
   ]
  },
  {
   "cell_type": "code",
   "execution_count": 36,
   "metadata": {
    "vscode": {
     "languageId": "r"
    }
   },
   "outputs": [
    {
     "name": "stdout",
     "output_type": "stream",
     "text": [
      "log2 fold change (MLE): condition treated vs untreated \n",
      "Wald test p-value: condition treated vs untreated \n",
      "DataFrame with 16192 rows and 6 columns\n",
      "                 baseMean log2FoldChange     lfcSE       stat      pvalue\n",
      "                <numeric>      <numeric> <numeric>  <numeric>   <numeric>\n",
      "TSPAN6            12.0260      -1.547045  0.622561 -2.4849709   0.0129562\n",
      "DPM1             243.6181      -0.051015  0.128550 -0.3968500   0.6914781\n",
      "SCYL3             55.8565       0.102146  0.279345  0.3656623   0.7146171\n",
      "C1orf112          44.7668      -0.028713  0.301781 -0.0951453   0.9241995\n",
      "FGR               12.3570      -0.433260  0.636081 -0.6811389   0.4957836\n",
      "...                   ...            ...       ...        ...         ...\n",
      "ENSG00000288156  32.34589      -0.312659  0.410960  -0.760802 4.46775e-01\n",
      "ENSG00000288162   6.41218       5.957512  1.374880   4.333115 1.47014e-05\n",
      "ENSG00000288302 165.15507       0.944813  0.157629   5.993895 2.04873e-09\n",
      "ENSG00000288380  80.26448       0.660071  0.257123   2.567145 1.02540e-02\n",
      "ENSG00000288398  11.97236       0.361651  0.661232   0.546935 5.84423e-01\n",
      "                       padj\n",
      "                  <numeric>\n",
      "TSPAN6             0.040515\n",
      "DPM1               0.810806\n",
      "SCYL3              0.827511\n",
      "C1orf112           0.958719\n",
      "FGR                0.654321\n",
      "...                     ...\n",
      "ENSG00000288156 6.12444e-01\n",
      "ENSG00000288162 1.10513e-04\n",
      "ENSG00000288302 3.10319e-08\n",
      "ENSG00000288380 3.35283e-02\n",
      "ENSG00000288398 7.27810e-01\n"
     ]
    }
   ],
   "source": [
    "rownames(res) <- sapply(rownames(res), function(x) {\n",
    "  match_idx <- match(x, GFFfile$gene_id)\n",
    "  if (!is.na(match_idx)) {\n",
    "    return(GFFfile$gene_name[match_idx])\n",
    "  } else {\n",
    "    return(x)  # Keep original rowname if no match\n",
    "  }\n",
    "})\n",
    "\n",
    "# View the updated `res`\n",
    "print(res)"
   ]
  },
  {
   "cell_type": "code",
   "execution_count": 37,
   "metadata": {
    "vscode": {
     "languageId": "r"
    }
   },
   "outputs": [
    {
     "name": "stderr",
     "output_type": "stream",
     "text": [
      "Loading required package: ggrepel\n",
      "\n"
     ]
    }
   ],
   "source": [
    "library(EnhancedVolcano)\n",
    "library(pheatmap)"
   ]
  },
  {
   "cell_type": "code",
   "execution_count": null,
   "metadata": {
    "vscode": {
     "languageId": "r"
    }
   },
   "outputs": [],
   "source": [
    "setwd(\"/output_figures\")"
   ]
  },
  {
   "cell_type": "code",
   "execution_count": 45,
   "metadata": {
    "vscode": {
     "languageId": "r"
    }
   },
   "outputs": [],
   "source": [
    "#Circos Plot\n",
    "library(biomaRt)"
   ]
  },
  {
   "cell_type": "code",
   "execution_count": 46,
   "metadata": {
    "vscode": {
     "languageId": "r"
    }
   },
   "outputs": [],
   "source": [
    "ensembl <- useEnsembl(biomart = \"genes\")"
   ]
  },
  {
   "cell_type": "code",
   "execution_count": 47,
   "metadata": {
    "vscode": {
     "languageId": "r"
    }
   },
   "outputs": [],
   "source": [
    "datasets = listDatasets(ensembl)"
   ]
  },
  {
   "cell_type": "code",
   "execution_count": 48,
   "metadata": {
    "vscode": {
     "languageId": "r"
    }
   },
   "outputs": [
    {
     "data": {
      "text/html": [
       "<table class=\"dataframe\">\n",
       "<caption>A data.frame: 6 × 3</caption>\n",
       "<thead>\n",
       "\t<tr><th></th><th scope=col>dataset</th><th scope=col>description</th><th scope=col>version</th></tr>\n",
       "\t<tr><th></th><th scope=col>&lt;I&lt;chr&gt;&gt;</th><th scope=col>&lt;I&lt;chr&gt;&gt;</th><th scope=col>&lt;I&lt;chr&gt;&gt;</th></tr>\n",
       "</thead>\n",
       "<tbody>\n",
       "\t<tr><th scope=row>1</th><td>abrachyrhynchus_gene_ensembl</td><td>Pink-footed goose genes (ASM259213v1)</td><td>ASM259213v1</td></tr>\n",
       "\t<tr><th scope=row>2</th><td>acalliptera_gene_ensembl    </td><td>Eastern happy genes (fAstCal1.3)     </td><td>fAstCal1.3 </td></tr>\n",
       "\t<tr><th scope=row>3</th><td>acarolinensis_gene_ensembl  </td><td>Green anole genes (AnoCar2.0v2)      </td><td>AnoCar2.0v2</td></tr>\n",
       "\t<tr><th scope=row>4</th><td>acchrysaetos_gene_ensembl   </td><td>Golden eagle genes (bAquChr1.2)      </td><td>bAquChr1.2 </td></tr>\n",
       "\t<tr><th scope=row>5</th><td>acitrinellus_gene_ensembl   </td><td>Midas cichlid genes (Midas_v5)       </td><td>Midas_v5   </td></tr>\n",
       "\t<tr><th scope=row>6</th><td>amelanoleuca_gene_ensembl   </td><td>Giant panda genes (ASM200744v2)      </td><td>ASM200744v2</td></tr>\n",
       "</tbody>\n",
       "</table>\n"
      ],
      "text/latex": [
       "A data.frame: 6 × 3\n",
       "\\begin{tabular}{r|lll}\n",
       "  & dataset & description & version\\\\\n",
       "  & <I<chr>> & <I<chr>> & <I<chr>>\\\\\n",
       "\\hline\n",
       "\t1 & abrachyrhynchus\\_gene\\_ensembl & Pink-footed goose genes (ASM259213v1) & ASM259213v1\\\\\n",
       "\t2 & acalliptera\\_gene\\_ensembl     & Eastern happy genes (fAstCal1.3)      & fAstCal1.3 \\\\\n",
       "\t3 & acarolinensis\\_gene\\_ensembl   & Green anole genes (AnoCar2.0v2)       & AnoCar2.0v2\\\\\n",
       "\t4 & acchrysaetos\\_gene\\_ensembl    & Golden eagle genes (bAquChr1.2)       & bAquChr1.2 \\\\\n",
       "\t5 & acitrinellus\\_gene\\_ensembl    & Midas cichlid genes (Midas\\_v5)        & Midas\\_v5   \\\\\n",
       "\t6 & amelanoleuca\\_gene\\_ensembl    & Giant panda genes (ASM200744v2)       & ASM200744v2\\\\\n",
       "\\end{tabular}\n"
      ],
      "text/markdown": [
       "\n",
       "A data.frame: 6 × 3\n",
       "\n",
       "| <!--/--> | dataset &lt;I&lt;chr&gt;&gt; | description &lt;I&lt;chr&gt;&gt; | version &lt;I&lt;chr&gt;&gt; |\n",
       "|---|---|---|---|\n",
       "| 1 | abrachyrhynchus_gene_ensembl | Pink-footed goose genes (ASM259213v1) | ASM259213v1 |\n",
       "| 2 | acalliptera_gene_ensembl     | Eastern happy genes (fAstCal1.3)      | fAstCal1.3  |\n",
       "| 3 | acarolinensis_gene_ensembl   | Green anole genes (AnoCar2.0v2)       | AnoCar2.0v2 |\n",
       "| 4 | acchrysaetos_gene_ensembl    | Golden eagle genes (bAquChr1.2)       | bAquChr1.2  |\n",
       "| 5 | acitrinellus_gene_ensembl    | Midas cichlid genes (Midas_v5)        | Midas_v5    |\n",
       "| 6 | amelanoleuca_gene_ensembl    | Giant panda genes (ASM200744v2)       | ASM200744v2 |\n",
       "\n"
      ],
      "text/plain": [
       "  dataset                      description                          \n",
       "1 abrachyrhynchus_gene_ensembl Pink-footed goose genes (ASM259213v1)\n",
       "2 acalliptera_gene_ensembl     Eastern happy genes (fAstCal1.3)     \n",
       "3 acarolinensis_gene_ensembl   Green anole genes (AnoCar2.0v2)      \n",
       "4 acchrysaetos_gene_ensembl    Golden eagle genes (bAquChr1.2)      \n",
       "5 acitrinellus_gene_ensembl    Midas cichlid genes (Midas_v5)       \n",
       "6 amelanoleuca_gene_ensembl    Giant panda genes (ASM200744v2)      \n",
       "  version    \n",
       "1 ASM259213v1\n",
       "2 fAstCal1.3 \n",
       "3 AnoCar2.0v2\n",
       "4 bAquChr1.2 \n",
       "5 Midas_v5   \n",
       "6 ASM200744v2"
      ]
     },
     "metadata": {},
     "output_type": "display_data"
    }
   ],
   "source": [
    "head(datasets)"
   ]
  },
  {
   "cell_type": "code",
   "execution_count": 49,
   "metadata": {
    "vscode": {
     "languageId": "r"
    }
   },
   "outputs": [],
   "source": [
    "dataset_nb = grep(\"human\", datasets$description, ignore.case = TRUE)\n",
    "dataset = datasets$dataset[dataset_nb]"
   ]
  },
  {
   "cell_type": "code",
   "execution_count": 50,
   "metadata": {
    "vscode": {
     "languageId": "r"
    }
   },
   "outputs": [],
   "source": [
    "ensembl <- useDataset(dataset = dataset, mart=ensembl)"
   ]
  },
  {
   "cell_type": "code",
   "execution_count": 51,
   "metadata": {
    "vscode": {
     "languageId": "r"
    }
   },
   "outputs": [
    {
     "data": {
      "text/html": [
       "<table class=\"dataframe\">\n",
       "<caption>A data.frame: 6 × 4</caption>\n",
       "<thead>\n",
       "\t<tr><th></th><th scope=col>ensembl_gene_id</th><th scope=col>chromosome_name</th><th scope=col>start_position</th><th scope=col>end_position</th></tr>\n",
       "\t<tr><th></th><th scope=col>&lt;chr&gt;</th><th scope=col>&lt;chr&gt;</th><th scope=col>&lt;int&gt;</th><th scope=col>&lt;int&gt;</th></tr>\n",
       "</thead>\n",
       "<tbody>\n",
       "\t<tr><th scope=row>1</th><td>ENSG00000210049</td><td>MT</td><td> 577</td><td> 647</td></tr>\n",
       "\t<tr><th scope=row>2</th><td>ENSG00000211459</td><td>MT</td><td> 648</td><td>1601</td></tr>\n",
       "\t<tr><th scope=row>3</th><td>ENSG00000210077</td><td>MT</td><td>1602</td><td>1670</td></tr>\n",
       "\t<tr><th scope=row>4</th><td>ENSG00000210082</td><td>MT</td><td>1671</td><td>3229</td></tr>\n",
       "\t<tr><th scope=row>5</th><td>ENSG00000209082</td><td>MT</td><td>3230</td><td>3304</td></tr>\n",
       "\t<tr><th scope=row>6</th><td>ENSG00000198888</td><td>MT</td><td>3307</td><td>4262</td></tr>\n",
       "</tbody>\n",
       "</table>\n"
      ],
      "text/latex": [
       "A data.frame: 6 × 4\n",
       "\\begin{tabular}{r|llll}\n",
       "  & ensembl\\_gene\\_id & chromosome\\_name & start\\_position & end\\_position\\\\\n",
       "  & <chr> & <chr> & <int> & <int>\\\\\n",
       "\\hline\n",
       "\t1 & ENSG00000210049 & MT &  577 &  647\\\\\n",
       "\t2 & ENSG00000211459 & MT &  648 & 1601\\\\\n",
       "\t3 & ENSG00000210077 & MT & 1602 & 1670\\\\\n",
       "\t4 & ENSG00000210082 & MT & 1671 & 3229\\\\\n",
       "\t5 & ENSG00000209082 & MT & 3230 & 3304\\\\\n",
       "\t6 & ENSG00000198888 & MT & 3307 & 4262\\\\\n",
       "\\end{tabular}\n"
      ],
      "text/markdown": [
       "\n",
       "A data.frame: 6 × 4\n",
       "\n",
       "| <!--/--> | ensembl_gene_id &lt;chr&gt; | chromosome_name &lt;chr&gt; | start_position &lt;int&gt; | end_position &lt;int&gt; |\n",
       "|---|---|---|---|---|\n",
       "| 1 | ENSG00000210049 | MT |  577 |  647 |\n",
       "| 2 | ENSG00000211459 | MT |  648 | 1601 |\n",
       "| 3 | ENSG00000210077 | MT | 1602 | 1670 |\n",
       "| 4 | ENSG00000210082 | MT | 1671 | 3229 |\n",
       "| 5 | ENSG00000209082 | MT | 3230 | 3304 |\n",
       "| 6 | ENSG00000198888 | MT | 3307 | 4262 |\n",
       "\n"
      ],
      "text/plain": [
       "  ensembl_gene_id chromosome_name start_position end_position\n",
       "1 ENSG00000210049 MT               577            647        \n",
       "2 ENSG00000211459 MT               648           1601        \n",
       "3 ENSG00000210077 MT              1602           1670        \n",
       "4 ENSG00000210082 MT              1671           3229        \n",
       "5 ENSG00000209082 MT              3230           3304        \n",
       "6 ENSG00000198888 MT              3307           4262        "
      ]
     },
     "metadata": {},
     "output_type": "display_data"
    }
   ],
   "source": [
    "# Get coordinates for all genes:\n",
    "attributes <- c(\"ensembl_gene_id\", \"chromosome_name\", \"start_position\", \"end_position\")\n",
    "values <- list(ensembl_gene_id=c())\n",
    "all.genes <- getBM(attributes=attributes, values = values, mart = ensembl)\n",
    "head(all.genes)"
   ]
  },
  {
   "cell_type": "code",
   "execution_count": 52,
   "metadata": {
    "vscode": {
     "languageId": "r"
    }
   },
   "outputs": [],
   "source": [
    "#Rename and match with the DEseq output:\n",
    "colnames(all.genes)[1] = \"Gene.ID\"\n"
   ]
  },
  {
   "cell_type": "code",
   "execution_count": 53,
   "metadata": {
    "vscode": {
     "languageId": "r"
    }
   },
   "outputs": [
    {
     "data": {
      "text/html": [
       "<table class=\"dataframe\">\n",
       "<caption>A data.frame: 6 × 8</caption>\n",
       "<thead>\n",
       "\t<tr><th></th><th scope=col>Row.names</th><th scope=col>baseMean</th><th scope=col>log2FoldChange</th><th scope=col>lfcSE</th><th scope=col>stat</th><th scope=col>pvalue</th><th scope=col>padj</th><th scope=col>gene_name</th></tr>\n",
       "\t<tr><th></th><th scope=col>&lt;I&lt;chr&gt;&gt;</th><th scope=col>&lt;dbl&gt;</th><th scope=col>&lt;dbl&gt;</th><th scope=col>&lt;dbl&gt;</th><th scope=col>&lt;dbl&gt;</th><th scope=col>&lt;dbl&gt;</th><th scope=col>&lt;dbl&gt;</th><th scope=col>&lt;chr&gt;</th></tr>\n",
       "</thead>\n",
       "<tbody>\n",
       "\t<tr><th scope=row>1</th><td>ENSG00000000003</td><td> 12.02602</td><td>-1.54704471</td><td>0.6225605</td><td>-2.48497087</td><td>0.0129562</td><td>0.04051503</td><td>TSPAN6  </td></tr>\n",
       "\t<tr><th scope=row>2</th><td>ENSG00000000419</td><td>243.61806</td><td>-0.05101503</td><td>0.1285499</td><td>-0.39684998</td><td>0.6914781</td><td>0.81080551</td><td>DPM1    </td></tr>\n",
       "\t<tr><th scope=row>3</th><td>ENSG00000000457</td><td> 55.85646</td><td> 0.10214577</td><td>0.2793445</td><td> 0.36566229</td><td>0.7146171</td><td>0.82751054</td><td>SCYL3   </td></tr>\n",
       "\t<tr><th scope=row>4</th><td>ENSG00000000460</td><td> 44.76676</td><td>-0.02871300</td><td>0.3017807</td><td>-0.09514526</td><td>0.9241995</td><td>0.95871853</td><td>C1orf112</td></tr>\n",
       "\t<tr><th scope=row>5</th><td>ENSG00000000938</td><td> 12.35701</td><td>-0.43325983</td><td>0.6360815</td><td>-0.68113887</td><td>0.4957836</td><td>0.65432138</td><td>FGR     </td></tr>\n",
       "\t<tr><th scope=row>6</th><td>ENSG00000001036</td><td> 17.96017</td><td>-0.11671236</td><td>0.5098995</td><td>-0.22889289</td><td>0.8189522</td><td>0.89422574</td><td>FUCA2   </td></tr>\n",
       "</tbody>\n",
       "</table>\n"
      ],
      "text/latex": [
       "A data.frame: 6 × 8\n",
       "\\begin{tabular}{r|llllllll}\n",
       "  & Row.names & baseMean & log2FoldChange & lfcSE & stat & pvalue & padj & gene\\_name\\\\\n",
       "  & <I<chr>> & <dbl> & <dbl> & <dbl> & <dbl> & <dbl> & <dbl> & <chr>\\\\\n",
       "\\hline\n",
       "\t1 & ENSG00000000003 &  12.02602 & -1.54704471 & 0.6225605 & -2.48497087 & 0.0129562 & 0.04051503 & TSPAN6  \\\\\n",
       "\t2 & ENSG00000000419 & 243.61806 & -0.05101503 & 0.1285499 & -0.39684998 & 0.6914781 & 0.81080551 & DPM1    \\\\\n",
       "\t3 & ENSG00000000457 &  55.85646 &  0.10214577 & 0.2793445 &  0.36566229 & 0.7146171 & 0.82751054 & SCYL3   \\\\\n",
       "\t4 & ENSG00000000460 &  44.76676 & -0.02871300 & 0.3017807 & -0.09514526 & 0.9241995 & 0.95871853 & C1orf112\\\\\n",
       "\t5 & ENSG00000000938 &  12.35701 & -0.43325983 & 0.6360815 & -0.68113887 & 0.4957836 & 0.65432138 & FGR     \\\\\n",
       "\t6 & ENSG00000001036 &  17.96017 & -0.11671236 & 0.5098995 & -0.22889289 & 0.8189522 & 0.89422574 & FUCA2   \\\\\n",
       "\\end{tabular}\n"
      ],
      "text/markdown": [
       "\n",
       "A data.frame: 6 × 8\n",
       "\n",
       "| <!--/--> | Row.names &lt;I&lt;chr&gt;&gt; | baseMean &lt;dbl&gt; | log2FoldChange &lt;dbl&gt; | lfcSE &lt;dbl&gt; | stat &lt;dbl&gt; | pvalue &lt;dbl&gt; | padj &lt;dbl&gt; | gene_name &lt;chr&gt; |\n",
       "|---|---|---|---|---|---|---|---|---|\n",
       "| 1 | ENSG00000000003 |  12.02602 | -1.54704471 | 0.6225605 | -2.48497087 | 0.0129562 | 0.04051503 | TSPAN6   |\n",
       "| 2 | ENSG00000000419 | 243.61806 | -0.05101503 | 0.1285499 | -0.39684998 | 0.6914781 | 0.81080551 | DPM1     |\n",
       "| 3 | ENSG00000000457 |  55.85646 |  0.10214577 | 0.2793445 |  0.36566229 | 0.7146171 | 0.82751054 | SCYL3    |\n",
       "| 4 | ENSG00000000460 |  44.76676 | -0.02871300 | 0.3017807 | -0.09514526 | 0.9241995 | 0.95871853 | C1orf112 |\n",
       "| 5 | ENSG00000000938 |  12.35701 | -0.43325983 | 0.6360815 | -0.68113887 | 0.4957836 | 0.65432138 | FGR      |\n",
       "| 6 | ENSG00000001036 |  17.96017 | -0.11671236 | 0.5098995 | -0.22889289 | 0.8189522 | 0.89422574 | FUCA2    |\n",
       "\n"
      ],
      "text/plain": [
       "  Row.names       baseMean  log2FoldChange lfcSE     stat        pvalue   \n",
       "1 ENSG00000000003  12.02602 -1.54704471    0.6225605 -2.48497087 0.0129562\n",
       "2 ENSG00000000419 243.61806 -0.05101503    0.1285499 -0.39684998 0.6914781\n",
       "3 ENSG00000000457  55.85646  0.10214577    0.2793445  0.36566229 0.7146171\n",
       "4 ENSG00000000460  44.76676 -0.02871300    0.3017807 -0.09514526 0.9241995\n",
       "5 ENSG00000000938  12.35701 -0.43325983    0.6360815 -0.68113887 0.4957836\n",
       "6 ENSG00000001036  17.96017 -0.11671236    0.5098995 -0.22889289 0.8189522\n",
       "  padj       gene_name\n",
       "1 0.04051503 TSPAN6   \n",
       "2 0.81080551 DPM1     \n",
       "3 0.82751054 SCYL3    \n",
       "4 0.95871853 C1orf112 \n",
       "5 0.65432138 FGR      \n",
       "6 0.89422574 FUCA2    "
      ]
     },
     "metadata": {},
     "output_type": "display_data"
    }
   ],
   "source": [
    "head(res_df)"
   ]
  },
  {
   "cell_type": "code",
   "execution_count": 54,
   "metadata": {
    "vscode": {
     "languageId": "r"
    }
   },
   "outputs": [],
   "source": [
    "res_df$Gene.ID <- res_df$Row.names"
   ]
  },
  {
   "cell_type": "code",
   "execution_count": 55,
   "metadata": {
    "vscode": {
     "languageId": "r"
    }
   },
   "outputs": [
    {
     "data": {
      "text/html": [
       "<table class=\"dataframe\">\n",
       "<caption>A data.frame: 6 × 12</caption>\n",
       "<thead>\n",
       "\t<tr><th></th><th scope=col>Gene.ID</th><th scope=col>chromosome_name</th><th scope=col>start_position</th><th scope=col>end_position</th><th scope=col>Row.names</th><th scope=col>baseMean</th><th scope=col>log2FoldChange</th><th scope=col>lfcSE</th><th scope=col>stat</th><th scope=col>pvalue</th><th scope=col>padj</th><th scope=col>gene_name</th></tr>\n",
       "\t<tr><th></th><th scope=col>&lt;chr&gt;</th><th scope=col>&lt;chr&gt;</th><th scope=col>&lt;int&gt;</th><th scope=col>&lt;int&gt;</th><th scope=col>&lt;I&lt;chr&gt;&gt;</th><th scope=col>&lt;dbl&gt;</th><th scope=col>&lt;dbl&gt;</th><th scope=col>&lt;dbl&gt;</th><th scope=col>&lt;dbl&gt;</th><th scope=col>&lt;dbl&gt;</th><th scope=col>&lt;dbl&gt;</th><th scope=col>&lt;chr&gt;</th></tr>\n",
       "</thead>\n",
       "<tbody>\n",
       "\t<tr><th scope=row>1</th><td>ENSG00000000003</td><td>X </td><td>100627108</td><td>100639991</td><td>ENSG00000000003</td><td> 12.02602</td><td>-1.54704471</td><td>0.6225605</td><td>-2.48497087</td><td>0.0129562</td><td>0.04051503</td><td>TSPAN6  </td></tr>\n",
       "\t<tr><th scope=row>2</th><td>ENSG00000000419</td><td>20</td><td> 50934867</td><td> 50959140</td><td>ENSG00000000419</td><td>243.61806</td><td>-0.05101503</td><td>0.1285499</td><td>-0.39684998</td><td>0.6914781</td><td>0.81080551</td><td>DPM1    </td></tr>\n",
       "\t<tr><th scope=row>3</th><td>ENSG00000000457</td><td>1 </td><td>169849631</td><td>169894267</td><td>ENSG00000000457</td><td> 55.85646</td><td> 0.10214577</td><td>0.2793445</td><td> 0.36566229</td><td>0.7146171</td><td>0.82751054</td><td>SCYL3   </td></tr>\n",
       "\t<tr><th scope=row>4</th><td>ENSG00000000460</td><td>1 </td><td>169662007</td><td>169854080</td><td>ENSG00000000460</td><td> 44.76676</td><td>-0.02871300</td><td>0.3017807</td><td>-0.09514526</td><td>0.9241995</td><td>0.95871853</td><td>C1orf112</td></tr>\n",
       "\t<tr><th scope=row>5</th><td>ENSG00000000938</td><td>1 </td><td> 27612064</td><td> 27635185</td><td>ENSG00000000938</td><td> 12.35701</td><td>-0.43325983</td><td>0.6360815</td><td>-0.68113887</td><td>0.4957836</td><td>0.65432138</td><td>FGR     </td></tr>\n",
       "\t<tr><th scope=row>6</th><td>ENSG00000001036</td><td>6 </td><td>143494812</td><td>143511720</td><td>ENSG00000001036</td><td> 17.96017</td><td>-0.11671236</td><td>0.5098995</td><td>-0.22889289</td><td>0.8189522</td><td>0.89422574</td><td>FUCA2   </td></tr>\n",
       "</tbody>\n",
       "</table>\n"
      ],
      "text/latex": [
       "A data.frame: 6 × 12\n",
       "\\begin{tabular}{r|llllllllllll}\n",
       "  & Gene.ID & chromosome\\_name & start\\_position & end\\_position & Row.names & baseMean & log2FoldChange & lfcSE & stat & pvalue & padj & gene\\_name\\\\\n",
       "  & <chr> & <chr> & <int> & <int> & <I<chr>> & <dbl> & <dbl> & <dbl> & <dbl> & <dbl> & <dbl> & <chr>\\\\\n",
       "\\hline\n",
       "\t1 & ENSG00000000003 & X  & 100627108 & 100639991 & ENSG00000000003 &  12.02602 & -1.54704471 & 0.6225605 & -2.48497087 & 0.0129562 & 0.04051503 & TSPAN6  \\\\\n",
       "\t2 & ENSG00000000419 & 20 &  50934867 &  50959140 & ENSG00000000419 & 243.61806 & -0.05101503 & 0.1285499 & -0.39684998 & 0.6914781 & 0.81080551 & DPM1    \\\\\n",
       "\t3 & ENSG00000000457 & 1  & 169849631 & 169894267 & ENSG00000000457 &  55.85646 &  0.10214577 & 0.2793445 &  0.36566229 & 0.7146171 & 0.82751054 & SCYL3   \\\\\n",
       "\t4 & ENSG00000000460 & 1  & 169662007 & 169854080 & ENSG00000000460 &  44.76676 & -0.02871300 & 0.3017807 & -0.09514526 & 0.9241995 & 0.95871853 & C1orf112\\\\\n",
       "\t5 & ENSG00000000938 & 1  &  27612064 &  27635185 & ENSG00000000938 &  12.35701 & -0.43325983 & 0.6360815 & -0.68113887 & 0.4957836 & 0.65432138 & FGR     \\\\\n",
       "\t6 & ENSG00000001036 & 6  & 143494812 & 143511720 & ENSG00000001036 &  17.96017 & -0.11671236 & 0.5098995 & -0.22889289 & 0.8189522 & 0.89422574 & FUCA2   \\\\\n",
       "\\end{tabular}\n"
      ],
      "text/markdown": [
       "\n",
       "A data.frame: 6 × 12\n",
       "\n",
       "| <!--/--> | Gene.ID &lt;chr&gt; | chromosome_name &lt;chr&gt; | start_position &lt;int&gt; | end_position &lt;int&gt; | Row.names &lt;I&lt;chr&gt;&gt; | baseMean &lt;dbl&gt; | log2FoldChange &lt;dbl&gt; | lfcSE &lt;dbl&gt; | stat &lt;dbl&gt; | pvalue &lt;dbl&gt; | padj &lt;dbl&gt; | gene_name &lt;chr&gt; |\n",
       "|---|---|---|---|---|---|---|---|---|---|---|---|---|\n",
       "| 1 | ENSG00000000003 | X  | 100627108 | 100639991 | ENSG00000000003 |  12.02602 | -1.54704471 | 0.6225605 | -2.48497087 | 0.0129562 | 0.04051503 | TSPAN6   |\n",
       "| 2 | ENSG00000000419 | 20 |  50934867 |  50959140 | ENSG00000000419 | 243.61806 | -0.05101503 | 0.1285499 | -0.39684998 | 0.6914781 | 0.81080551 | DPM1     |\n",
       "| 3 | ENSG00000000457 | 1  | 169849631 | 169894267 | ENSG00000000457 |  55.85646 |  0.10214577 | 0.2793445 |  0.36566229 | 0.7146171 | 0.82751054 | SCYL3    |\n",
       "| 4 | ENSG00000000460 | 1  | 169662007 | 169854080 | ENSG00000000460 |  44.76676 | -0.02871300 | 0.3017807 | -0.09514526 | 0.9241995 | 0.95871853 | C1orf112 |\n",
       "| 5 | ENSG00000000938 | 1  |  27612064 |  27635185 | ENSG00000000938 |  12.35701 | -0.43325983 | 0.6360815 | -0.68113887 | 0.4957836 | 0.65432138 | FGR      |\n",
       "| 6 | ENSG00000001036 | 6  | 143494812 | 143511720 | ENSG00000001036 |  17.96017 | -0.11671236 | 0.5098995 | -0.22889289 | 0.8189522 | 0.89422574 | FUCA2    |\n",
       "\n"
      ],
      "text/plain": [
       "  Gene.ID         chromosome_name start_position end_position Row.names      \n",
       "1 ENSG00000000003 X               100627108      100639991    ENSG00000000003\n",
       "2 ENSG00000000419 20               50934867       50959140    ENSG00000000419\n",
       "3 ENSG00000000457 1               169849631      169894267    ENSG00000000457\n",
       "4 ENSG00000000460 1               169662007      169854080    ENSG00000000460\n",
       "5 ENSG00000000938 1                27612064       27635185    ENSG00000000938\n",
       "6 ENSG00000001036 6               143494812      143511720    ENSG00000001036\n",
       "  baseMean  log2FoldChange lfcSE     stat        pvalue    padj       gene_name\n",
       "1  12.02602 -1.54704471    0.6225605 -2.48497087 0.0129562 0.04051503 TSPAN6   \n",
       "2 243.61806 -0.05101503    0.1285499 -0.39684998 0.6914781 0.81080551 DPM1     \n",
       "3  55.85646  0.10214577    0.2793445  0.36566229 0.7146171 0.82751054 SCYL3    \n",
       "4  44.76676 -0.02871300    0.3017807 -0.09514526 0.9241995 0.95871853 C1orf112 \n",
       "5  12.35701 -0.43325983    0.6360815 -0.68113887 0.4957836 0.65432138 FGR      \n",
       "6  17.96017 -0.11671236    0.5098995 -0.22889289 0.8189522 0.89422574 FUCA2    "
      ]
     },
     "metadata": {},
     "output_type": "display_data"
    }
   ],
   "source": [
    "merged_data <- merge(all.genes, res_df, by=\"Gene.ID\")\n",
    "head(merged_data)"
   ]
  },
  {
   "cell_type": "code",
   "execution_count": 56,
   "metadata": {
    "vscode": {
     "languageId": "r"
    }
   },
   "outputs": [
    {
     "data": {
      "text/html": [
       "<table class=\"dataframe\">\n",
       "<caption>A data.frame: 6 × 12</caption>\n",
       "<thead>\n",
       "\t<tr><th></th><th scope=col>Gene.ID</th><th scope=col>chromosome_name</th><th scope=col>start_position</th><th scope=col>end_position</th><th scope=col>Row.names</th><th scope=col>baseMean</th><th scope=col>log2FoldChange</th><th scope=col>lfcSE</th><th scope=col>stat</th><th scope=col>pvalue</th><th scope=col>padj</th><th scope=col>gene_name</th></tr>\n",
       "\t<tr><th></th><th scope=col>&lt;chr&gt;</th><th scope=col>&lt;chr&gt;</th><th scope=col>&lt;int&gt;</th><th scope=col>&lt;int&gt;</th><th scope=col>&lt;I&lt;chr&gt;&gt;</th><th scope=col>&lt;dbl&gt;</th><th scope=col>&lt;dbl&gt;</th><th scope=col>&lt;dbl&gt;</th><th scope=col>&lt;dbl&gt;</th><th scope=col>&lt;dbl&gt;</th><th scope=col>&lt;dbl&gt;</th><th scope=col>&lt;chr&gt;</th></tr>\n",
       "</thead>\n",
       "<tbody>\n",
       "\t<tr><th scope=row>1</th><td>ENSG00000000003</td><td>chrX </td><td>100627108</td><td>100639991</td><td>ENSG00000000003</td><td> 12.02602</td><td>-1.54704471</td><td>0.6225605</td><td>-2.48497087</td><td>0.0129562</td><td>0.04051503</td><td>TSPAN6  </td></tr>\n",
       "\t<tr><th scope=row>2</th><td>ENSG00000000419</td><td>chr20</td><td> 50934867</td><td> 50959140</td><td>ENSG00000000419</td><td>243.61806</td><td>-0.05101503</td><td>0.1285499</td><td>-0.39684998</td><td>0.6914781</td><td>0.81080551</td><td>DPM1    </td></tr>\n",
       "\t<tr><th scope=row>3</th><td>ENSG00000000457</td><td>chr1 </td><td>169849631</td><td>169894267</td><td>ENSG00000000457</td><td> 55.85646</td><td> 0.10214577</td><td>0.2793445</td><td> 0.36566229</td><td>0.7146171</td><td>0.82751054</td><td>SCYL3   </td></tr>\n",
       "\t<tr><th scope=row>4</th><td>ENSG00000000460</td><td>chr1 </td><td>169662007</td><td>169854080</td><td>ENSG00000000460</td><td> 44.76676</td><td>-0.02871300</td><td>0.3017807</td><td>-0.09514526</td><td>0.9241995</td><td>0.95871853</td><td>C1orf112</td></tr>\n",
       "\t<tr><th scope=row>5</th><td>ENSG00000000938</td><td>chr1 </td><td> 27612064</td><td> 27635185</td><td>ENSG00000000938</td><td> 12.35701</td><td>-0.43325983</td><td>0.6360815</td><td>-0.68113887</td><td>0.4957836</td><td>0.65432138</td><td>FGR     </td></tr>\n",
       "\t<tr><th scope=row>6</th><td>ENSG00000001036</td><td>chr6 </td><td>143494812</td><td>143511720</td><td>ENSG00000001036</td><td> 17.96017</td><td>-0.11671236</td><td>0.5098995</td><td>-0.22889289</td><td>0.8189522</td><td>0.89422574</td><td>FUCA2   </td></tr>\n",
       "</tbody>\n",
       "</table>\n"
      ],
      "text/latex": [
       "A data.frame: 6 × 12\n",
       "\\begin{tabular}{r|llllllllllll}\n",
       "  & Gene.ID & chromosome\\_name & start\\_position & end\\_position & Row.names & baseMean & log2FoldChange & lfcSE & stat & pvalue & padj & gene\\_name\\\\\n",
       "  & <chr> & <chr> & <int> & <int> & <I<chr>> & <dbl> & <dbl> & <dbl> & <dbl> & <dbl> & <dbl> & <chr>\\\\\n",
       "\\hline\n",
       "\t1 & ENSG00000000003 & chrX  & 100627108 & 100639991 & ENSG00000000003 &  12.02602 & -1.54704471 & 0.6225605 & -2.48497087 & 0.0129562 & 0.04051503 & TSPAN6  \\\\\n",
       "\t2 & ENSG00000000419 & chr20 &  50934867 &  50959140 & ENSG00000000419 & 243.61806 & -0.05101503 & 0.1285499 & -0.39684998 & 0.6914781 & 0.81080551 & DPM1    \\\\\n",
       "\t3 & ENSG00000000457 & chr1  & 169849631 & 169894267 & ENSG00000000457 &  55.85646 &  0.10214577 & 0.2793445 &  0.36566229 & 0.7146171 & 0.82751054 & SCYL3   \\\\\n",
       "\t4 & ENSG00000000460 & chr1  & 169662007 & 169854080 & ENSG00000000460 &  44.76676 & -0.02871300 & 0.3017807 & -0.09514526 & 0.9241995 & 0.95871853 & C1orf112\\\\\n",
       "\t5 & ENSG00000000938 & chr1  &  27612064 &  27635185 & ENSG00000000938 &  12.35701 & -0.43325983 & 0.6360815 & -0.68113887 & 0.4957836 & 0.65432138 & FGR     \\\\\n",
       "\t6 & ENSG00000001036 & chr6  & 143494812 & 143511720 & ENSG00000001036 &  17.96017 & -0.11671236 & 0.5098995 & -0.22889289 & 0.8189522 & 0.89422574 & FUCA2   \\\\\n",
       "\\end{tabular}\n"
      ],
      "text/markdown": [
       "\n",
       "A data.frame: 6 × 12\n",
       "\n",
       "| <!--/--> | Gene.ID &lt;chr&gt; | chromosome_name &lt;chr&gt; | start_position &lt;int&gt; | end_position &lt;int&gt; | Row.names &lt;I&lt;chr&gt;&gt; | baseMean &lt;dbl&gt; | log2FoldChange &lt;dbl&gt; | lfcSE &lt;dbl&gt; | stat &lt;dbl&gt; | pvalue &lt;dbl&gt; | padj &lt;dbl&gt; | gene_name &lt;chr&gt; |\n",
       "|---|---|---|---|---|---|---|---|---|---|---|---|---|\n",
       "| 1 | ENSG00000000003 | chrX  | 100627108 | 100639991 | ENSG00000000003 |  12.02602 | -1.54704471 | 0.6225605 | -2.48497087 | 0.0129562 | 0.04051503 | TSPAN6   |\n",
       "| 2 | ENSG00000000419 | chr20 |  50934867 |  50959140 | ENSG00000000419 | 243.61806 | -0.05101503 | 0.1285499 | -0.39684998 | 0.6914781 | 0.81080551 | DPM1     |\n",
       "| 3 | ENSG00000000457 | chr1  | 169849631 | 169894267 | ENSG00000000457 |  55.85646 |  0.10214577 | 0.2793445 |  0.36566229 | 0.7146171 | 0.82751054 | SCYL3    |\n",
       "| 4 | ENSG00000000460 | chr1  | 169662007 | 169854080 | ENSG00000000460 |  44.76676 | -0.02871300 | 0.3017807 | -0.09514526 | 0.9241995 | 0.95871853 | C1orf112 |\n",
       "| 5 | ENSG00000000938 | chr1  |  27612064 |  27635185 | ENSG00000000938 |  12.35701 | -0.43325983 | 0.6360815 | -0.68113887 | 0.4957836 | 0.65432138 | FGR      |\n",
       "| 6 | ENSG00000001036 | chr6  | 143494812 | 143511720 | ENSG00000001036 |  17.96017 | -0.11671236 | 0.5098995 | -0.22889289 | 0.8189522 | 0.89422574 | FUCA2    |\n",
       "\n"
      ],
      "text/plain": [
       "  Gene.ID         chromosome_name start_position end_position Row.names      \n",
       "1 ENSG00000000003 chrX            100627108      100639991    ENSG00000000003\n",
       "2 ENSG00000000419 chr20            50934867       50959140    ENSG00000000419\n",
       "3 ENSG00000000457 chr1            169849631      169894267    ENSG00000000457\n",
       "4 ENSG00000000460 chr1            169662007      169854080    ENSG00000000460\n",
       "5 ENSG00000000938 chr1             27612064       27635185    ENSG00000000938\n",
       "6 ENSG00000001036 chr6            143494812      143511720    ENSG00000001036\n",
       "  baseMean  log2FoldChange lfcSE     stat        pvalue    padj       gene_name\n",
       "1  12.02602 -1.54704471    0.6225605 -2.48497087 0.0129562 0.04051503 TSPAN6   \n",
       "2 243.61806 -0.05101503    0.1285499 -0.39684998 0.6914781 0.81080551 DPM1     \n",
       "3  55.85646  0.10214577    0.2793445  0.36566229 0.7146171 0.82751054 SCYL3    \n",
       "4  44.76676 -0.02871300    0.3017807 -0.09514526 0.9241995 0.95871853 C1orf112 \n",
       "5  12.35701 -0.43325983    0.6360815 -0.68113887 0.4957836 0.65432138 FGR      \n",
       "6  17.96017 -0.11671236    0.5098995 -0.22889289 0.8189522 0.89422574 FUCA2    "
      ]
     },
     "metadata": {},
     "output_type": "display_data"
    }
   ],
   "source": [
    "merged_data$chromosome_name <- paste(\"chr\", merged_data$chromosome_name, sep = \"\")\n",
    "head(merged_data)"
   ]
  },
  {
   "cell_type": "markdown",
   "metadata": {},
   "source": [
    "# Plotting expression per chromosome:"
   ]
  },
  {
   "cell_type": "code",
   "execution_count": 59,
   "metadata": {
    "vscode": {
     "languageId": "r"
    }
   },
   "outputs": [
    {
     "name": "stderr",
     "output_type": "stream",
     "text": [
      "Loading required package: DEXSeq\n",
      "\n",
      "Loading required package: BiocParallel\n",
      "\n"
     ]
    },
    {
     "name": "stderr",
     "output_type": "stream",
     "text": [
      "Loading required package: AnnotationDbi\n",
      "\n",
      "\n",
      "Attaching package: ‘AnnotationDbi’\n",
      "\n",
      "\n",
      "The following object is masked from ‘package:dplyr’:\n",
      "\n",
      "    select\n",
      "\n",
      "\n",
      "Loading required package: RColorBrewer\n",
      "\n"
     ]
    }
   ],
   "source": [
    "library(\"pasilla\")\n",
    "library(\"DESeq2\")\n",
    "library(ggrepel) "
   ]
  },
  {
   "cell_type": "code",
   "execution_count": 60,
   "metadata": {
    "vscode": {
     "languageId": "r"
    }
   },
   "outputs": [
    {
     "name": "stderr",
     "output_type": "stream",
     "text": [
      "Loading required package: BSgenome\n",
      "\n",
      "Loading required package: Biostrings\n",
      "\n",
      "Loading required package: XVector\n",
      "\n",
      "\n",
      "Attaching package: ‘XVector’\n",
      "\n",
      "\n",
      "The following object is masked from ‘package:purrr’:\n",
      "\n",
      "    compact\n",
      "\n",
      "\n",
      "\n",
      "Attaching package: ‘Biostrings’\n",
      "\n",
      "\n",
      "The following object is masked from ‘package:base’:\n",
      "\n",
      "    strsplit\n",
      "\n",
      "\n",
      "Loading required package: BiocIO\n",
      "\n",
      "\n",
      "Attaching package: ‘BiocIO’\n",
      "\n",
      "\n",
      "The following object is masked from ‘package:rtracklayer’:\n",
      "\n",
      "    FileForFormat\n",
      "\n",
      "\n"
     ]
    }
   ],
   "source": [
    "library(BSgenome.Hsapiens.UCSC.hg38)\n",
    "library(GenomicRanges)"
   ]
  },
  {
   "cell_type": "code",
   "execution_count": 62,
   "metadata": {
    "vscode": {
     "languageId": "r"
    }
   },
   "outputs": [
    {
     "data": {
      "text/html": [
       "<style>\n",
       ".dl-inline {width: auto; margin:0; padding: 0}\n",
       ".dl-inline>dt, .dl-inline>dd {float: none; width: auto; display: inline-block}\n",
       ".dl-inline>dt::after {content: \":\\0020\"; padding-right: .5ex}\n",
       ".dl-inline>dt:not(:first-of-type) {padding-left: .5ex}\n",
       "</style><dl class=dl-inline><dt>chr1</dt><dd>0</dd><dt>chr2</dt><dd>248956422</dd><dt>chr3</dt><dd>491149951</dd><dt>chr4</dt><dd>689445510</dd><dt>chr5</dt><dd>879660065</dd><dt>chr6</dt><dd>1061198324</dd></dl>\n"
      ],
      "text/latex": [
       "\\begin{description*}\n",
       "\\item[chr1] 0\n",
       "\\item[chr2] 248956422\n",
       "\\item[chr3] 491149951\n",
       "\\item[chr4] 689445510\n",
       "\\item[chr5] 879660065\n",
       "\\item[chr6] 1061198324\n",
       "\\end{description*}\n"
      ],
      "text/markdown": [
       "chr1\n",
       ":   0chr2\n",
       ":   248956422chr3\n",
       ":   491149951chr4\n",
       ":   689445510chr5\n",
       ":   879660065chr6\n",
       ":   1061198324\n",
       "\n"
      ],
      "text/plain": [
       "      chr1       chr2       chr3       chr4       chr5       chr6 \n",
       "         0  248956422  491149951  689445510  879660065 1061198324 "
      ]
     },
     "metadata": {},
     "output_type": "display_data"
    }
   ],
   "source": [
    "cumdist <- setNames(object = c(0, cumsum(as.numeric(seqlengths(BSgenome.Hsapiens.UCSC.hg38)[1:22]))), nm = paste0(\"chr\", 1:23))\n",
    "head(cumdist)"
   ]
  },
  {
   "cell_type": "code",
   "execution_count": 63,
   "metadata": {
    "vscode": {
     "languageId": "r"
    }
   },
   "outputs": [
    {
     "data": {
      "text/plain": [
       "GRanges object with 15953 ranges and 9 metadata columns:\n",
       "          seqnames              ranges strand |         Gene.ID       Row.names\n",
       "             <Rle>           <IRanges>  <Rle> |     <character>          <AsIs>\n",
       "      [1]     chrX 100627108-100639991      * | ENSG00000000003 ENSG00000000003\n",
       "      [2]    chr20   50934867-50959140      * | ENSG00000000419 ENSG00000000419\n",
       "      [3]     chr1 169849631-169894267      * | ENSG00000000457 ENSG00000000457\n",
       "      [4]     chr1 169662007-169854080      * | ENSG00000000460 ENSG00000000460\n",
       "      [5]     chr1   27612064-27635185      * | ENSG00000000938 ENSG00000000938\n",
       "      ...      ...                 ...    ... .             ...             ...\n",
       "  [15949]    chr11 111320379-111323816      * | ENSG00000288097 ENSG00000288097\n",
       "  [15950]    chr19     2293173-2295781      * | ENSG00000288156 ENSG00000288156\n",
       "  [15951]     chr6 170134257-170142926      * | ENSG00000288162 ENSG00000288162\n",
       "  [15952]    chr14 101120512-101121577      * | ENSG00000288302 ENSG00000288302\n",
       "  [15953]     chr1   16228674-16231335      * | ENSG00000288398 ENSG00000288398\n",
       "           baseMean log2FoldChange     lfcSE       stat      pvalue        padj\n",
       "          <numeric>      <numeric> <numeric>  <numeric>   <numeric>   <numeric>\n",
       "      [1]   12.0260      -1.547045  0.622561 -2.4849709   0.0129562    0.040515\n",
       "      [2]  243.6181      -0.051015  0.128550 -0.3968500   0.6914781    0.810806\n",
       "      [3]   55.8565       0.102146  0.279345  0.3656623   0.7146171    0.827511\n",
       "      [4]   44.7668      -0.028713  0.301781 -0.0951453   0.9241995    0.958719\n",
       "      [5]   12.3570      -0.433260  0.636081 -0.6811389   0.4957836    0.654321\n",
       "      ...       ...            ...       ...        ...         ...         ...\n",
       "  [15949]   4.70974      -3.287961  1.257207  -2.615291 8.91516e-03 2.98870e-02\n",
       "  [15950]  32.34589      -0.312659  0.410960  -0.760802 4.46775e-01 6.12444e-01\n",
       "  [15951]   6.41218       5.957512  1.374880   4.333115 1.47014e-05 1.10513e-04\n",
       "  [15952] 165.15507       0.944813  0.157629   5.993895 2.04873e-09 3.10319e-08\n",
       "  [15953]  11.97236       0.361651  0.661232   0.546935 5.84423e-01 7.27810e-01\n",
       "                gene_name\n",
       "              <character>\n",
       "      [1]          TSPAN6\n",
       "      [2]            DPM1\n",
       "      [3]           SCYL3\n",
       "      [4]        C1orf112\n",
       "      [5]             FGR\n",
       "      ...             ...\n",
       "  [15949] ENSG00000288097\n",
       "  [15950] ENSG00000288156\n",
       "  [15951] ENSG00000288162\n",
       "  [15952] ENSG00000288302\n",
       "  [15953] ENSG00000288398\n",
       "  -------\n",
       "  seqinfo: 24 sequences from an unspecified genome; no seqlengths"
      ]
     },
     "metadata": {},
     "output_type": "display_data"
    }
   ],
   "source": [
    "GR_data <- makeGRangesFromDataFrame(\n",
    "  merged_data,\n",
    "  seqnames.field = \"chromosome_name\",  # Column for chromosome names\n",
    "  start.field = \"start_position\",     # Column for start positions\n",
    "  end.field = \"end_position\",         # Column for end positions\n",
    "  keep.extra.columns = TRUE           # Retain additional columns (e.g., log2FoldChange)\n",
    ")\n",
    "\n",
    "# Inspect the GenomicRanges object\n",
    "GR_data"
   ]
  },
  {
   "cell_type": "code",
   "execution_count": 100,
   "metadata": {
    "vscode": {
     "languageId": "r"
    }
   },
   "outputs": [
    {
     "data": {
      "image/png": "[encoded data removed]",
      "text/plain": [
       "plot without title"
      ]
     },
     "metadata": {
      "image/png": {
       "height": 420,
       "width": 420
      }
     },
     "output_type": "display_data"
    }
   ],
   "source": [
    "library(karyoploteR)\n",
    "kp <- plotKaryotype(genome=\"hg38\")\n"
   ]
  },
  {
   "cell_type": "code",
   "execution_count": 84,
   "metadata": {
    "vscode": {
     "languageId": "r"
    }
   },
   "outputs": [],
   "source": [
    "ordered <- GR_data[order(GR_data$padj, na.last = TRUE),]\n"
   ]
  },
  {
   "cell_type": "code",
   "execution_count": 101,
   "metadata": {
    "vscode": {
     "languageId": "r"
    }
   },
   "outputs": [],
   "source": [
    "dm.genes <- GR_data"
   ]
  },
  {
   "cell_type": "code",
   "execution_count": 86,
   "metadata": {
    "vscode": {
     "languageId": "r"
    }
   },
   "outputs": [
    {
     "data": {
      "text/plain": [
       "GRanges object with 15953 ranges and 10 metadata columns:\n",
       "          seqnames              ranges strand |         Gene.ID       Row.names\n",
       "             <Rle>           <IRanges>  <Rle> |     <character>          <AsIs>\n",
       "      [1]     chrX 100627108-100639991      * | ENSG00000000003 ENSG00000000003\n",
       "      [2]    chr20   50934867-50959140      * | ENSG00000000419 ENSG00000000419\n",
       "      [3]     chr1 169849631-169894267      * | ENSG00000000457 ENSG00000000457\n",
       "      [4]     chr1 169662007-169854080      * | ENSG00000000460 ENSG00000000460\n",
       "      [5]     chr1   27612064-27635185      * | ENSG00000000938 ENSG00000000938\n",
       "      ...      ...                 ...    ... .             ...             ...\n",
       "  [15949]    chr11 111320379-111323816      * | ENSG00000288097 ENSG00000288097\n",
       "  [15950]    chr19     2293173-2295781      * | ENSG00000288156 ENSG00000288156\n",
       "  [15951]     chr6 170134257-170142926      * | ENSG00000288162 ENSG00000288162\n",
       "  [15952]    chr14 101120512-101121577      * | ENSG00000288302 ENSG00000288302\n",
       "  [15953]     chr1   16228674-16231335      * | ENSG00000288398 ENSG00000288398\n",
       "           baseMean log2FoldChange     lfcSE       stat      pvalue        padj\n",
       "          <numeric>      <numeric> <numeric>  <numeric>   <numeric>   <numeric>\n",
       "      [1]   12.0260      -1.547045  0.622561 -2.4849709   0.0129562    0.040515\n",
       "      [2]  243.6181      -0.051015  0.128550 -0.3968500   0.6914781    0.810806\n",
       "      [3]   55.8565       0.102146  0.279345  0.3656623   0.7146171    0.827511\n",
       "      [4]   44.7668      -0.028713  0.301781 -0.0951453   0.9241995    0.958719\n",
       "      [5]   12.3570      -0.433260  0.636081 -0.6811389   0.4957836    0.654321\n",
       "      ...       ...            ...       ...        ...         ...         ...\n",
       "  [15949]   4.70974      -3.287961  1.257207  -2.615291 8.91516e-03 2.98870e-02\n",
       "  [15950]  32.34589      -0.312659  0.410960  -0.760802 4.46775e-01 6.12444e-01\n",
       "  [15951]   6.41218       5.957512  1.374880   4.333115 1.47014e-05 1.10513e-04\n",
       "  [15952] 165.15507       0.944813  0.157629   5.993895 2.04873e-09 3.10319e-08\n",
       "  [15953]  11.97236       0.361651  0.661232   0.546935 5.84423e-01 7.27810e-01\n",
       "                gene_name  log.pval\n",
       "              <character> <numeric>\n",
       "      [1]          TSPAN6 1.3923838\n",
       "      [2]            DPM1 0.0910833\n",
       "      [3]           SCYL3 0.0822265\n",
       "      [4]        C1orf112 0.0183089\n",
       "      [5]             FGR 0.1842089\n",
       "      ...             ...       ...\n",
       "  [15949] ENSG00000288097  1.524518\n",
       "  [15950] ENSG00000288156  0.212934\n",
       "  [15951] ENSG00000288162  3.956586\n",
       "  [15952] ENSG00000288302  7.508192\n",
       "  [15953] ENSG00000288398  0.137982\n",
       "  -------\n",
       "  seqinfo: 24 sequences from an unspecified genome; no seqlengths"
      ]
     },
     "metadata": {},
     "output_type": "display_data"
    }
   ],
   "source": [
    "filtered.dm.genes <- dm.genes[!is.na(dm.genes$padj)]\n",
    "log.pval <- -log10(filtered.dm.genes$padj)\n",
    "mcols(filtered.dm.genes)$log.pval <- log.pval\n",
    "filtered.dm.genes"
   ]
  },
  {
   "cell_type": "code",
   "execution_count": 87,
   "metadata": {
    "vscode": {
     "languageId": "r"
    }
   },
   "outputs": [
    {
     "data": {
      "image/png": "[encoded data removed]",
      "text/plain": [
       "plot without title"
      ]
     },
     "metadata": {
      "image/png": {
       "height": 420,
       "width": 420
      }
     },
     "output_type": "display_data"
    }
   ],
   "source": [
    "sign.genes <- filtered.dm.genes[filtered.dm.genes$padj < 5,] # so no filtering but we could also plot where padj < 0.05\n",
    "kp <- plotKaryotype(genome=\"hg38\")\n",
    "kpPoints(kp, data=sign.genes, y=sign.genes$log.pval)"
   ]
  },
  {
   "cell_type": "code",
   "execution_count": 88,
   "metadata": {
    "vscode": {
     "languageId": "r"
    }
   },
   "outputs": [
    {
     "data": {
      "text/html": [
       "<style>\n",
       ".list-inline {list-style: none; margin:0; padding: 0}\n",
       ".list-inline>li {display: inline-block}\n",
       ".list-inline>li:not(:last-child)::after {content: \"\\00b7\"; padding: 0 .5ex}\n",
       "</style>\n",
       "<ol class=list-inline><li>4.9518078672169e-05</li><li>Inf</li></ol>\n"
      ],
      "text/latex": [
       "\\begin{enumerate*}\n",
       "\\item 4.9518078672169e-05\n",
       "\\item Inf\n",
       "\\end{enumerate*}\n"
      ],
      "text/markdown": [
       "1. 4.9518078672169e-05\n",
       "2. Inf\n",
       "\n",
       "\n"
      ],
      "text/plain": [
       "[1] 4.951808e-05          Inf"
      ]
     },
     "metadata": {},
     "output_type": "display_data"
    }
   ],
   "source": [
    "range(sign.genes$log.pval)"
   ]
  },
  {
   "cell_type": "code",
   "execution_count": 89,
   "metadata": {
    "vscode": {
     "languageId": "r"
    }
   },
   "outputs": [
    {
     "data": {
      "text/html": [
       "16"
      ],
      "text/latex": [
       "16"
      ],
      "text/markdown": [
       "16"
      ],
      "text/plain": [
       "[1] 16"
      ]
     },
     "metadata": {},
     "output_type": "display_data"
    }
   ],
   "source": [
    "sum(sign.genes$log.pval == \"Inf\") "
   ]
  },
  {
   "cell_type": "code",
   "execution_count": 90,
   "metadata": {
    "vscode": {
     "languageId": "r"
    }
   },
   "outputs": [],
   "source": [
    "sign.genes <- sign.genes[is.finite(sign.genes$log.pval), ]"
   ]
  },
  {
   "cell_type": "code",
   "execution_count": 91,
   "metadata": {
    "vscode": {
     "languageId": "r"
    }
   },
   "outputs": [
    {
     "data": {
      "image/png": "[encoded data removed]",
      "text/plain": [
       "plot without title"
      ]
     },
     "metadata": {
      "image/png": {
       "height": 420,
       "width": 420
      }
     },
     "output_type": "display_data"
    }
   ],
   "source": [
    "# Define Y-axis limits based on log2FoldChange values\n",
    "fc.ymax <- ceiling(max(abs(sign.genes$log2FoldChange), na.rm = TRUE))\n",
    "fc.ymin <- -fc.ymax\n",
    "\n",
    "# Zoom in on chromosome 7\n",
    "kp <- plotKaryotype(genome=\"hg38\", chromosomes=\"chr7\")\n",
    "\n",
    "# Plot points\n",
    "kpPoints(kp, data=sign.genes, y=sign.genes$log2FoldChange, ymax=fc.ymax, ymin=fc.ymin)"
   ]
  },
  {
   "cell_type": "code",
   "execution_count": 92,
   "metadata": {
    "vscode": {
     "languageId": "r"
    }
   },
   "outputs": [],
   "source": [
    "sign.genes <- sign.genes[abs(sign.genes$log2FoldChange) < 4.1,]"
   ]
  },
  {
   "cell_type": "code",
   "execution_count": 93,
   "metadata": {
    "vscode": {
     "languageId": "r"
    }
   },
   "outputs": [
    {
     "data": {
      "image/png": "[encoded data removed]",
      "text/plain": [
       "plot without title"
      ]
     },
     "metadata": {
      "image/png": {
       "height": 420,
       "width": 420
      }
     },
     "output_type": "display_data"
    }
   ],
   "source": [
    "# Define Y-axis limits based on log2FoldChange values\n",
    "fc.ymax <- ceiling(max(abs(sign.genes$log2FoldChange), na.rm = TRUE))\n",
    "fc.ymin <- -fc.ymax\n",
    "\n",
    "# Zoom in on chromosome 7\n",
    "kp <- plotKaryotype(genome=\"hg38\", chromosomes=\"chr7\")\n",
    "\n",
    "# Plot points\n",
    "kpPoints(kp, data=sign.genes, y=sign.genes$log2FoldChange, ymax=fc.ymax, ymin=fc.ymin)"
   ]
  },
  {
   "cell_type": "code",
   "execution_count": 94,
   "metadata": {
    "vscode": {
     "languageId": "r"
    }
   },
   "outputs": [
    {
     "name": "stderr",
     "output_type": "stream",
     "text": [
      "Warning message in text.default(x = x, y = y, labels = labels, pos = pos, offset = 0, :\n",
      "\"\"ymax\" is not a graphical parameter\"\n",
      "Warning message in text.default(x = x, y = y, labels = labels, pos = pos, offset = 0, :\n",
      "\"\"ymin\" is not a graphical parameter\"\n"
     ]
    },
    {
     "data": {
      "image/png": "[encoded data removed]",
      "text/plain": [
       "plot without title"
      ]
     },
     "metadata": {
      "image/png": {
       "height": 420,
       "width": 420
      }
     },
     "output_type": "display_data"
    }
   ],
   "source": [
    "cex.val <- sqrt(sign.genes$log.pval)/7\n",
    "kp <- plotKaryotype(genome=\"hg38\", chromosomes = \"chr7\")\n",
    "kpPoints(kp, data=sign.genes, y=sign.genes$log2FoldChange, cex=cex.val, ymax=fc.ymax, ymin=fc.ymin)\n",
    "kpAxis(kp, ymax=fc.ymax, ymin=fc.ymin)\n",
    "kpAddLabels(kp, labels = \"log2 Fold Change\", srt=90, pos=1, label.margin = 0.04, ymax=fc.ymax, ymin=fc.ymin)"
   ]
  },
  {
   "cell_type": "code",
   "execution_count": 95,
   "metadata": {
    "vscode": {
     "languageId": "r"
    }
   },
   "outputs": [
    {
     "name": "stderr",
     "output_type": "stream",
     "text": [
      "Warning message in text.default(x = x, y = y, labels = labels, pos = pos, offset = 0, :\n",
      "\"\"ymax\" is not a graphical parameter\"\n",
      "Warning message in text.default(x = x, y = y, labels = labels, pos = pos, offset = 0, :\n",
      "\"\"ymin\" is not a graphical parameter\"\n"
     ]
    },
    {
     "data": {
      "image/png": "[encoded data removed]",
      "text/plain": [
       "plot without title"
      ]
     },
     "metadata": {
      "image/png": {
       "height": 420,
       "width": 420
      }
     },
     "output_type": "display_data"
    }
   ],
   "source": [
    "col.over <- \"#709AE1FF\"\n",
    "col.under <- \"#fac710\"\n",
    "sign.col <- rep(col.over, length(sign.genes))\n",
    "sign.col[sign.genes$log2FoldChange<0] <- col.under\n",
    "cex.val <- sqrt(sign.genes$log.pval)/5\n",
    "kp <- plotKaryotype(genome=\"hg38\", chromosomes = \"chr7\")\n",
    "kpPoints(kp, data=sign.genes, y=sign.genes$log2FoldChange, cex=cex.val, ymax=fc.ymax, ymin=fc.ymin, col=sign.col)\n",
    "kpAxis(kp, ymax=fc.ymax, ymin=fc.ymin)\n",
    "kpAddLabels(kp, labels = \"log2 Fold Change\", srt=90, pos=1, label.margin = 0.06, ymax=fc.ymax, ymin=fc.ymin)"
   ]
  },
  {
   "cell_type": "code",
   "execution_count": 96,
   "metadata": {
    "vscode": {
     "languageId": "r"
    }
   },
   "outputs": [],
   "source": [
    "sign.genes <- sign.genes[abs(sign.genes$log2FoldChange) < 4.1,]"
   ]
  },
  {
   "cell_type": "code",
   "execution_count": 97,
   "metadata": {
    "vscode": {
     "languageId": "r"
    }
   },
   "outputs": [
    {
     "data": {
      "text/html": [
       "<style>\n",
       ".list-inline {list-style: none; margin:0; padding: 0}\n",
       ".list-inline>li {display: inline-block}\n",
       ".list-inline>li:not(:last-child)::after {content: \"\\00b7\"; padding: 0 .5ex}\n",
       "</style>\n",
       "<ol class=list-inline><li>-4.05397283362196</li><li>4.08979325528803</li></ol>\n"
      ],
      "text/latex": [
       "\\begin{enumerate*}\n",
       "\\item -4.05397283362196\n",
       "\\item 4.08979325528803\n",
       "\\end{enumerate*}\n"
      ],
      "text/markdown": [
       "1. -4.05397283362196\n",
       "2. 4.08979325528803\n",
       "\n",
       "\n"
      ],
      "text/plain": [
       "[1] -4.053973  4.089793"
      ]
     },
     "metadata": {},
     "output_type": "display_data"
    }
   ],
   "source": [
    "range(sign.genes$log2FoldChange)"
   ]
  },
  {
   "cell_type": "code",
   "execution_count": 98,
   "metadata": {
    "vscode": {
     "languageId": "r"
    }
   },
   "outputs": [
    {
     "name": "stderr",
     "output_type": "stream",
     "text": [
      "Warning message in text.default(x = x, y = y, labels = labels, pos = pos, offset = 0, :\n",
      "\"\"ymax\" is not a graphical parameter\"\n",
      "Warning message in text.default(x = x, y = y, labels = labels, pos = pos, offset = 0, :\n",
      "\"\"ymin\" is not a graphical parameter\"\n"
     ]
    },
    {
     "name": "stdout",
     "output_type": "stream",
     "text": [
      "$plot.params\n",
      "$plot.params$leftmargin\n",
      "[1] 0.1\n",
      "\n",
      "$plot.params$rightmargin\n",
      "[1] 0.05\n",
      "\n",
      "$plot.params$topmargin\n",
      "[1] 120\n",
      "\n",
      "$plot.params$bottommargin\n",
      "[1] 100\n",
      "\n",
      "$plot.params$ideogramheight\n",
      "[1] 50\n",
      "\n",
      "$plot.params$ideogramlateralmargin\n",
      "[1] 0\n",
      "\n",
      "$plot.params$data1height\n",
      "[1] 200\n",
      "\n",
      "$plot.params$data1inmargin\n",
      "[1] 20\n",
      "\n",
      "$plot.params$data1outmargin\n",
      "[1] 20\n",
      "\n",
      "$plot.params$data1min\n",
      "[1] 0\n",
      "\n",
      "$plot.params$data1max\n",
      "[1] 1\n",
      "\n",
      "$plot.params$data2height\n",
      "[1] 0\n",
      "\n",
      "$plot.params$data2inmargin\n",
      "[1] 0\n",
      "\n",
      "$plot.params$data2outmargin\n",
      "[1] 0\n",
      "\n",
      "$plot.params$data2min\n",
      "[1] 0\n",
      "\n",
      "$plot.params$data2max\n",
      "[1] 1\n",
      "\n",
      "$plot.params$dataideogrammin\n",
      "[1] 0\n",
      "\n",
      "$plot.params$dataideogrammax\n",
      "[1] 1\n",
      "\n",
      "$plot.params$dataallmin\n",
      "[1] 0\n",
      "\n",
      "$plot.params$dataallmax\n",
      "[1] 1\n",
      "\n",
      "\n",
      "$genome.name\n",
      "[1] \"hg38\"\n",
      "\n",
      "$genome\n",
      "GRanges object with 1 range and 0 metadata columns:\n",
      "       seqnames      ranges strand\n",
      "          <Rle>   <IRanges>  <Rle>\n",
      "  chr7     chr7 1-159345973      *\n",
      "  -------\n",
      "  seqinfo: 1 sequence from hg38 genome\n",
      "\n",
      "$cytobands\n",
      "GRanges object with 44 ranges and 2 metadata columns:\n",
      "       seqnames              ranges strand |        name    gieStain\n",
      "          <Rle>           <IRanges>  <Rle> | <character> <character>\n",
      "  1242     chr7           0-2800000      * |       p22.3        gneg\n",
      "  1243     chr7     2800000-4500000      * |       p22.2      gpos25\n",
      "  1244     chr7     4500000-7200000      * |       p22.1        gneg\n",
      "  1245     chr7    7200000-13700000      * |       p21.3     gpos100\n",
      "  1246     chr7   13700000-16500000      * |       p21.2        gneg\n",
      "   ...      ...                 ...    ... .         ...         ...\n",
      "  1281     chr7 138500000-143400000      * |         q34        gneg\n",
      "  1282     chr7 143400000-148200000      * |         q35      gpos75\n",
      "  1283     chr7 148200000-152800000      * |       q36.1        gneg\n",
      "  1284     chr7 152800000-155200000      * |       q36.2      gpos25\n",
      "  1285     chr7 155200000-159345973      * |       q36.3        gneg\n",
      "  -------\n",
      "  seqinfo: 1 sequence from an unspecified genome; no seqlengths\n",
      "\n",
      "$plot.type\n",
      "[1] 1\n",
      "\n",
      "$plot.region\n",
      "GRanges object with 1 range and 0 metadata columns:\n",
      "       seqnames      ranges strand\n",
      "          <Rle>   <IRanges>  <Rle>\n",
      "  chr7     chr7 1-159345973      *\n",
      "  -------\n",
      "  seqinfo: 1 sequence from hg38 genome\n",
      "\n",
      "$zoom\n",
      "[1] FALSE\n",
      "\n",
      "$chromosomes\n",
      "[1] \"chr7\"\n",
      "\n",
      "$chromosome.lengths\n",
      "     chr7 \n",
      "159345973 \n",
      "\n",
      "$coord.change.function\n",
      "function (chr = NULL, x = NULL, y = NULL, data.panel = NULL) \n",
      "{\n",
      "    if (!is.null(y)) {\n",
      "        if (is.null(chr)) {\n",
      "            stop(\"If y is not NULL, chr must be specified too\")\n",
      "        }\n",
      "        if (length(y) != length(chr)) {\n",
      "            stop(\"If y is not NULL, it have to have the same length as chr\")\n",
      "        }\n",
      "    }\n",
      "    if (is.null(data.panel) || data.panel == 2) \n",
      "        data.panel <- 1\n",
      "    return(genomic2plot(chr = chr, x = x, y = y, data.panel = data.panel, \n",
      "        genome = genome, plot.params = plot.params))\n",
      "}\n",
      "<bytecode: 0x557d15a55aa0>\n",
      "<environment: 0x557d00c270e0>\n",
      "\n",
      "$ideogram.mid\n",
      "function (chr) \n",
      "{\n",
      "    return(ideoMid(chr = chr, genome = genome, plot.params = plot.params))\n",
      "}\n",
      "<bytecode: 0x557d15a720d0>\n",
      "<environment: 0x557d00c270e0>\n",
      "\n",
      "$chromosome.height\n",
      "[1] 290\n",
      "\n",
      "$graphical.par\n",
      "$graphical.par$old.par\n",
      "$graphical.par$old.par$xlog\n",
      "[1] FALSE\n",
      "\n",
      "$graphical.par$old.par$ylog\n",
      "[1] FALSE\n",
      "\n",
      "$graphical.par$old.par$adj\n",
      "[1] 0.5\n",
      "\n",
      "$graphical.par$old.par$ann\n",
      "[1] TRUE\n",
      "\n",
      "$graphical.par$old.par$ask\n",
      "[1] FALSE\n",
      "\n",
      "$graphical.par$old.par$bg\n",
      "[1] \"transparent\"\n",
      "\n",
      "$graphical.par$old.par$bty\n",
      "[1] \"o\"\n",
      "\n",
      "$graphical.par$old.par$cex\n",
      "[1] 1\n",
      "\n",
      "$graphical.par$old.par$cex.axis\n",
      "[1] 1\n",
      "\n",
      "$graphical.par$old.par$cex.lab\n",
      "[1] 1\n",
      "\n",
      "$graphical.par$old.par$cex.main\n",
      "[1] 1.2\n",
      "\n",
      "$graphical.par$old.par$cex.sub\n",
      "[1] 1\n",
      "\n",
      "$graphical.par$old.par$col\n",
      "[1] \"black\"\n",
      "\n",
      "$graphical.par$old.par$col.axis\n",
      "[1] \"black\"\n",
      "\n",
      "$graphical.par$old.par$col.lab\n",
      "[1] \"black\"\n",
      "\n",
      "$graphical.par$old.par$col.main\n",
      "[1] \"black\"\n",
      "\n",
      "$graphical.par$old.par$col.sub\n",
      "[1] \"black\"\n",
      "\n",
      "$graphical.par$old.par$crt\n",
      "[1] 0\n",
      "\n",
      "$graphical.par$old.par$err\n",
      "[1] 0\n",
      "\n",
      "$graphical.par$old.par$family\n",
      "[1] \"\"\n",
      "\n",
      "$graphical.par$old.par$fg\n",
      "[1] \"black\"\n",
      "\n",
      "$graphical.par$old.par$fig\n",
      "[1] 0 1 0 1\n",
      "\n",
      "$graphical.par$old.par$fin\n",
      "[1] 7 7\n",
      "\n",
      "$graphical.par$old.par$font\n",
      "[1] 1\n",
      "\n",
      "$graphical.par$old.par$font.axis\n",
      "[1] 1\n",
      "\n",
      "$graphical.par$old.par$font.lab\n",
      "[1] 1\n",
      "\n",
      "$graphical.par$old.par$font.main\n",
      "[1] 2\n",
      "\n",
      "$graphical.par$old.par$font.sub\n",
      "[1] 1\n",
      "\n",
      "$graphical.par$old.par$lab\n",
      "[1] 5 5 7\n",
      "\n",
      "$graphical.par$old.par$las\n",
      "[1] 0\n",
      "\n",
      "$graphical.par$old.par$lend\n",
      "[1] \"round\"\n",
      "\n",
      "$graphical.par$old.par$lheight\n",
      "[1] 1\n",
      "\n",
      "$graphical.par$old.par$ljoin\n",
      "[1] \"round\"\n",
      "\n",
      "$graphical.par$old.par$lmitre\n",
      "[1] 10\n",
      "\n",
      "$graphical.par$old.par$lty\n",
      "[1] \"solid\"\n",
      "\n",
      "$graphical.par$old.par$lwd\n",
      "[1] 1\n",
      "\n",
      "$graphical.par$old.par$mai\n",
      "[1] 1.02 0.82 0.82 0.42\n",
      "\n",
      "$graphical.par$old.par$mar\n",
      "[1] 5.1 4.1 4.1 2.1\n",
      "\n",
      "$graphical.par$old.par$mex\n",
      "[1] 1\n",
      "\n",
      "$graphical.par$old.par$mfcol\n",
      "[1] 1 1\n",
      "\n",
      "$graphical.par$old.par$mfg\n",
      "[1] 1 1 1 1\n",
      "\n",
      "$graphical.par$old.par$mfrow\n",
      "[1] 1 1\n",
      "\n",
      "$graphical.par$old.par$mgp\n",
      "[1] 3 1 0\n",
      "\n",
      "$graphical.par$old.par$mkh\n",
      "[1] 0.001\n",
      "\n",
      "$graphical.par$old.par$new\n",
      "[1] FALSE\n",
      "\n",
      "$graphical.par$old.par$oma\n",
      "[1] 0 0 0 0\n",
      "\n",
      "$graphical.par$old.par$omd\n",
      "[1] 0 1 0 1\n",
      "\n",
      "$graphical.par$old.par$omi\n",
      "[1] 0 0 0 0\n",
      "\n",
      "$graphical.par$old.par$pch\n",
      "[1] 1\n",
      "\n",
      "$graphical.par$old.par$pin\n",
      "[1] 5.76 5.16\n",
      "\n",
      "$graphical.par$old.par$plt\n",
      "[1] 0.1171429 0.9400000 0.1457143 0.8828571\n",
      "\n",
      "$graphical.par$old.par$ps\n",
      "[1] 12\n",
      "\n",
      "$graphical.par$old.par$pty\n",
      "[1] \"m\"\n",
      "\n",
      "$graphical.par$old.par$smo\n",
      "[1] 1\n",
      "\n",
      "$graphical.par$old.par$srt\n",
      "[1] 0\n",
      "\n",
      "$graphical.par$old.par$tck\n",
      "[1] NA\n",
      "\n",
      "$graphical.par$old.par$tcl\n",
      "[1] -0.5\n",
      "\n",
      "$graphical.par$old.par$usr\n",
      "[1] 0 1 0 1\n",
      "\n",
      "$graphical.par$old.par$xaxp\n",
      "[1] 0 1 5\n",
      "\n",
      "$graphical.par$old.par$xaxs\n",
      "[1] \"r\"\n",
      "\n",
      "$graphical.par$old.par$xaxt\n",
      "[1] \"s\"\n",
      "\n",
      "$graphical.par$old.par$xpd\n",
      "[1] FALSE\n",
      "\n",
      "$graphical.par$old.par$yaxp\n",
      "[1] 0 1 5\n",
      "\n",
      "$graphical.par$old.par$yaxs\n",
      "[1] \"r\"\n",
      "\n",
      "$graphical.par$old.par$yaxt\n",
      "[1] \"s\"\n",
      "\n",
      "$graphical.par$old.par$ylbias\n",
      "[1] 0.2\n",
      "\n",
      "\n",
      "$graphical.par$new.par\n",
      "$graphical.par$new.par$xlog\n",
      "[1] FALSE\n",
      "\n",
      "$graphical.par$new.par$ylog\n",
      "[1] FALSE\n",
      "\n",
      "$graphical.par$new.par$adj\n",
      "[1] 0.5\n",
      "\n",
      "$graphical.par$new.par$ann\n",
      "[1] TRUE\n",
      "\n",
      "$graphical.par$new.par$ask\n",
      "[1] FALSE\n",
      "\n",
      "$graphical.par$new.par$bg\n",
      "[1] \"transparent\"\n",
      "\n",
      "$graphical.par$new.par$bty\n",
      "[1] \"o\"\n",
      "\n",
      "$graphical.par$new.par$cex\n",
      "[1] 1\n",
      "\n",
      "$graphical.par$new.par$cex.axis\n",
      "[1] 1\n",
      "\n",
      "$graphical.par$new.par$cex.lab\n",
      "[1] 1\n",
      "\n",
      "$graphical.par$new.par$cex.main\n",
      "[1] 1.2\n",
      "\n",
      "$graphical.par$new.par$cex.sub\n",
      "[1] 1\n",
      "\n",
      "$graphical.par$new.par$col\n",
      "[1] \"black\"\n",
      "\n",
      "$graphical.par$new.par$col.axis\n",
      "[1] \"black\"\n",
      "\n",
      "$graphical.par$new.par$col.lab\n",
      "[1] \"black\"\n",
      "\n",
      "$graphical.par$new.par$col.main\n",
      "[1] \"black\"\n",
      "\n",
      "$graphical.par$new.par$col.sub\n",
      "[1] \"black\"\n",
      "\n",
      "$graphical.par$new.par$crt\n",
      "[1] 0\n",
      "\n",
      "$graphical.par$new.par$err\n",
      "[1] 0\n",
      "\n",
      "$graphical.par$new.par$family\n",
      "[1] \"\"\n",
      "\n",
      "$graphical.par$new.par$fg\n",
      "[1] \"black\"\n",
      "\n",
      "$graphical.par$new.par$fig\n",
      "[1] 0 1 0 1\n",
      "\n",
      "$graphical.par$new.par$fin\n",
      "[1] 7 7\n",
      "\n",
      "$graphical.par$new.par$font\n",
      "[1] 1\n",
      "\n",
      "$graphical.par$new.par$font.axis\n",
      "[1] 1\n",
      "\n",
      "$graphical.par$new.par$font.lab\n",
      "[1] 1\n",
      "\n",
      "$graphical.par$new.par$font.main\n",
      "[1] 2\n",
      "\n",
      "$graphical.par$new.par$font.sub\n",
      "[1] 1\n",
      "\n",
      "$graphical.par$new.par$lab\n",
      "[1] 5 5 7\n",
      "\n",
      "$graphical.par$new.par$las\n",
      "[1] 0\n",
      "\n",
      "$graphical.par$new.par$lend\n",
      "[1] \"round\"\n",
      "\n",
      "$graphical.par$new.par$lheight\n",
      "[1] 1\n",
      "\n",
      "$graphical.par$new.par$ljoin\n",
      "[1] \"round\"\n",
      "\n",
      "$graphical.par$new.par$lmitre\n",
      "[1] 10\n",
      "\n",
      "$graphical.par$new.par$lty\n",
      "[1] \"solid\"\n",
      "\n",
      "$graphical.par$new.par$lwd\n",
      "[1] 1\n",
      "\n",
      "$graphical.par$new.par$mai\n",
      "[1] 0.02 0.02 0.02 0.02\n",
      "\n",
      "$graphical.par$new.par$mar\n",
      "[1] 0.1 0.1 0.1 0.1\n",
      "\n",
      "$graphical.par$new.par$mex\n",
      "[1] 1\n",
      "\n",
      "$graphical.par$new.par$mfcol\n",
      "[1] 1 1\n",
      "\n",
      "$graphical.par$new.par$mfg\n",
      "[1] 1 1 1 1\n",
      "\n",
      "$graphical.par$new.par$mfrow\n",
      "[1] 1 1\n",
      "\n",
      "$graphical.par$new.par$mgp\n",
      "[1] 3 1 0\n",
      "\n",
      "$graphical.par$new.par$mkh\n",
      "[1] 0.001\n",
      "\n",
      "$graphical.par$new.par$new\n",
      "[1] FALSE\n",
      "\n",
      "$graphical.par$new.par$oma\n",
      "[1] 0 0 0 0\n",
      "\n",
      "$graphical.par$new.par$omd\n",
      "[1] 0 1 0 1\n",
      "\n",
      "$graphical.par$new.par$omi\n",
      "[1] 0 0 0 0\n",
      "\n",
      "$graphical.par$new.par$pch\n",
      "[1] 1\n",
      "\n",
      "$graphical.par$new.par$pin\n",
      "[1] 6.96 6.96\n",
      "\n",
      "$graphical.par$new.par$plt\n",
      "[1] 0.002857143 0.997142857 0.002857143 0.997142857\n",
      "\n",
      "$graphical.par$new.par$ps\n",
      "[1] 12\n",
      "\n",
      "$graphical.par$new.par$pty\n",
      "[1] \"m\"\n",
      "\n",
      "$graphical.par$new.par$smo\n",
      "[1] 1\n",
      "\n",
      "$graphical.par$new.par$srt\n",
      "[1] 0\n",
      "\n",
      "$graphical.par$new.par$tck\n",
      "[1] NA\n",
      "\n",
      "$graphical.par$new.par$tcl\n",
      "[1] -0.5\n",
      "\n",
      "$graphical.par$new.par$usr\n",
      "[1]   0   1   0 510\n",
      "\n",
      "$graphical.par$new.par$xaxp\n",
      "[1] 0 1 5\n",
      "\n",
      "$graphical.par$new.par$xaxs\n",
      "[1] \"r\"\n",
      "\n",
      "$graphical.par$new.par$xaxt\n",
      "[1] \"s\"\n",
      "\n",
      "$graphical.par$new.par$xpd\n",
      "[1] FALSE\n",
      "\n",
      "$graphical.par$new.par$yaxp\n",
      "[1]   0 500   5\n",
      "\n",
      "$graphical.par$new.par$yaxs\n",
      "[1] \"r\"\n",
      "\n",
      "$graphical.par$new.par$yaxt\n",
      "[1] \"s\"\n",
      "\n",
      "$graphical.par$new.par$ylbias\n",
      "[1] 0.2\n",
      "\n",
      "\n",
      "\n",
      "$beginKpPlot\n",
      "function () \n",
      "{\n",
      "    graphics::par(kp$graphical.par$new.par)\n",
      "}\n",
      "<bytecode: 0x557db6bfe2c0>\n",
      "<environment: 0x557d11fe2700>\n",
      "\n",
      "$endKpPlot\n",
      "function () \n",
      "{\n",
      "    graphics::par(kp$graphical.par$old.par)\n",
      "}\n",
      "<bytecode: 0x557db6bfdd48>\n",
      "<environment: 0x557d11fe2700>\n",
      "\n",
      "$plot\n",
      "$plot$xmin\n",
      "[1] 0\n",
      "\n",
      "$plot$xmax\n",
      "[1] 1\n",
      "\n",
      "$plot$ymin\n",
      "[1] 0\n",
      "\n",
      "$plot$ymax\n",
      "[1] 510\n",
      "\n",
      "\n",
      "attr(,\"class\")\n",
      "[1] \"KaryoPlot\"\n"
     ]
    },
    {
     "data": {
      "text/html": [
       "<strong>pdf:</strong> 2"
      ],
      "text/latex": [
       "\\textbf{pdf:} 2"
      ],
      "text/markdown": [
       "**pdf:** 2"
      ],
      "text/plain": [
       "pdf \n",
       "  2 "
      ]
     },
     "metadata": {},
     "output_type": "display_data"
    },
    {
     "data": {
      "image/png": "[encoded data removed]",
      "text/plain": [
       "plot without title"
      ]
     },
     "metadata": {
      "image/png": {
       "height": 420,
       "width": 420
      }
     },
     "output_type": "display_data"
    }
   ],
   "source": [
    "fc.ymax <- ceiling(max(abs(sign.genes$log2FoldChange), na.rm = TRUE))\n",
    "fc.ymin <- -fc.ymax\n",
    "col.over <- \"#709AE1FF\"\n",
    "col.under <- \"#fac710\"\n",
    "sign.col <- rep(col.over, length(sign.genes))\n",
    "sign.col[sign.genes$log2FoldChange<0] <- col.under\n",
    "cex.val <- sqrt(sign.genes$log.pval)/10\n",
    "kp <- plotKaryotype(genome=\"hg38\", chromosomes = \"chr7\")\n",
    "kpPoints(kp, data=sign.genes, y=sign.genes$log2FoldChange, cex=cex.val, ymax=fc.ymax, ymin=fc.ymin, col=sign.col)\n",
    "kpAxis(kp, ymax=fc.ymax, ymin=fc.ymin)\n",
    "kpAddLabels(kp, labels = \"log2 Fold Change\", srt=90, pos=1, label.margin = 0.06, ymax=fc.ymax, ymin=fc.ymin)\n",
    "\n",
    "pdf(\"Isochromosome.pdf\", width = 8, height = 6)\n",
    "print(kp)\n",
    "dev.off()"
   ]
  },
  {
   "cell_type": "code",
   "execution_count": null,
   "metadata": {
    "vscode": {
     "languageId": "r"
    }
   },
   "outputs": [
    {
     "name": "stderr",
     "output_type": "stream",
     "text": [
      "Warning message in text.default(x = x, y = y, labels = labels, pos = pos, offset = 0, :\n",
      "\"\"ymax\" is not a graphical parameter\"\n",
      "Warning message in text.default(x = x, y = y, labels = labels, pos = pos, offset = 0, :\n",
      "\"\"ymin\" is not a graphical parameter\"\n"
     ]
    },
    {
     "data": {
      "text/html": [
       "<strong>pdf:</strong> 2"
      ],
      "text/latex": [
       "\\textbf{pdf:} 2"
      ],
      "text/markdown": [
       "**pdf:** 2"
      ],
      "text/plain": [
       "pdf \n",
       "  2 "
      ]
     },
     "metadata": {},
     "output_type": "display_data"
    }
   ],
   "source": [
    "# Define the output directory and filename\n",
    "output_dir <- \"/Deseq2/\"  # Change this to your desired folder\n",
    "output_file <- paste0(output_dir, \"chr7_log2FC_plot.pdf\")\n",
    "\n",
    "# Define plotting parameters\n",
    "col.over <- \"#709AE1FF\"\n",
    "col.under <- \"#fac710\"\n",
    "sign.col <- rep(col.over, length(sign.genes))\n",
    "sign.col[sign.genes$log2FoldChange<0] <- col.under\n",
    "\n",
    "# Start PDF device\n",
    "pdf(\"Isochromosome.pdf\", width = 8, height = 6)\n",
    "\n",
    "# All plotting must happen here\n",
    "cex.val <- sqrt(sign.genes$log.pval)/5\n",
    "kp <- plotKaryotype(genome=\"hg38\", chromosomes = \"chr7\")\n",
    "kpPoints(kp, data=sign.genes, y=sign.genes$log2FoldChange, cex=cex.val, ymax=fc.ymax, ymin=fc.ymin, col=sign.col)\n",
    "kpAxis(kp, ymax=fc.ymax, ymin=fc.ymin)\n",
    "kpAddLabels(kp, labels = \"log2 Fold Change\", srt=90, pos=1, label.margin = 0.06, ymax=fc.ymax, ymin=fc.ymin)\n",
    "\n",
    "# Close the PDF device\n",
    "dev.off()\n",
    "\n"
   ]
  }
 ],
 "metadata": {
  "kernelspec": {
   "display_name": "Deseq2",
   "language": "R",
   "name": "deseq2"
  },
  "language_info": {
   "codemirror_mode": "r",
   "file_extension": ".r",
   "mimetype": "text/x-r-source",
   "name": "R",
   "pygments_lexer": "r",
   "version": "4.4.2"
  }
 },
 "nbformat": 4,
 "nbformat_minor": 2
}
