{
 "cells": [
  {
   "cell_type": "code",
   "execution_count": 1,
   "id": "6d8b7bc9",
   "metadata": {
    "vscode": {
     "languageId": "r"
    }
   },
   "outputs": [
    {
     "name": "stderr",
     "output_type": "stream",
     "text": [
      "── \u001b[1mAttaching core tidyverse packages\u001b[22m ──────────────────────── tidyverse 2.0.0 ──\n",
      "\u001b[32m✔\u001b[39m \u001b[34mdplyr    \u001b[39m 1.1.4     \u001b[32m✔\u001b[39m \u001b[34mreadr    \u001b[39m 2.1.5\n",
      "\u001b[32m✔\u001b[39m \u001b[34mforcats  \u001b[39m 1.0.0     \u001b[32m✔\u001b[39m \u001b[34mstringr  \u001b[39m 1.5.1\n",
      "\u001b[32m✔\u001b[39m \u001b[34mggplot2  \u001b[39m 3.5.2     \u001b[32m✔\u001b[39m \u001b[34mtibble   \u001b[39m 3.2.1\n",
      "\u001b[32m✔\u001b[39m \u001b[34mlubridate\u001b[39m 1.9.3     \u001b[32m✔\u001b[39m \u001b[34mtidyr    \u001b[39m 1.3.1\n",
      "\u001b[32m✔\u001b[39m \u001b[34mpurrr    \u001b[39m 1.0.4     \n",
      "── \u001b[1mConflicts\u001b[22m ────────────────────────────────────────── tidyverse_conflicts() ──\n",
      "\u001b[31m✖\u001b[39m \u001b[34mdplyr\u001b[39m::\u001b[32mfilter()\u001b[39m masks \u001b[34mstats\u001b[39m::filter()\n",
      "\u001b[31m✖\u001b[39m \u001b[34mdplyr\u001b[39m::\u001b[32mlag()\u001b[39m    masks \u001b[34mstats\u001b[39m::lag()\n",
      "\u001b[36mℹ\u001b[39m Use the conflicted package (\u001b[3m\u001b[34m<http://conflicted.r-lib.org/>\u001b[39m\u001b[23m) to force all conflicts to become errors\n",
      "\n",
      "Attaching package: ‘data.table’\n",
      "\n",
      "\n",
      "The following objects are masked from ‘package:lubridate’:\n",
      "\n",
      "    hour, isoweek, mday, minute, month, quarter, second, wday, week,\n",
      "    yday, year\n",
      "\n",
      "\n",
      "The following objects are masked from ‘package:dplyr’:\n",
      "\n",
      "    between, first, last\n",
      "\n",
      "\n",
      "The following object is masked from ‘package:purrr’:\n",
      "\n",
      "    transpose\n",
      "\n",
      "\n"
     ]
    }
   ],
   "source": [
    "library(tidyverse)\n",
    "library(data.table)"
   ]
  },
  {
   "cell_type": "markdown",
   "id": "21c051d9",
   "metadata": {},
   "source": [
    "This script is generate a loci file with REF/ALT for the LOH on chr3 -> we can use this to discriminate tumour cell from normals and doubets"
   ]
  },
  {
   "cell_type": "code",
   "execution_count": null,
   "id": "ccb9631a",
   "metadata": {
    "vscode": {
     "languageId": "r"
    }
   },
   "outputs": [
    {
     "data": {
      "text/html": [
       "<table class=\"dataframe\">\n",
       "<caption>A data.frame: 6 × 4</caption>\n",
       "<thead>\n",
       "\t<tr><th></th><th scope=col>X</th><th scope=col>Chromosome</th><th scope=col>Position</th><th scope=col>Q3</th></tr>\n",
       "\t<tr><th></th><th scope=col>&lt;chr&gt;</th><th scope=col>&lt;chr&gt;</th><th scope=col>&lt;int&gt;</th><th scope=col>&lt;dbl&gt;</th></tr>\n",
       "</thead>\n",
       "<tbody>\n",
       "\t<tr><th scope=row>1</th><td>1_809641</td><td>1</td><td>809641</td><td>0.0000000</td></tr>\n",
       "\t<tr><th scope=row>2</th><td>1_812761</td><td>1</td><td>812761</td><td>0.0000000</td></tr>\n",
       "\t<tr><th scope=row>3</th><td>1_817186</td><td>1</td><td>817186</td><td>1.0000000</td></tr>\n",
       "\t<tr><th scope=row>4</th><td>1_818954</td><td>1</td><td>818954</td><td>1.0000000</td></tr>\n",
       "\t<tr><th scope=row>5</th><td>1_825532</td><td>1</td><td>825532</td><td>0.9558824</td></tr>\n",
       "\t<tr><th scope=row>6</th><td>1_825767</td><td>1</td><td>825767</td><td>0.9722222</td></tr>\n",
       "</tbody>\n",
       "</table>\n"
      ],
      "text/latex": [
       "A data.frame: 6 × 4\n",
       "\\begin{tabular}{r|llll}\n",
       "  & X & Chromosome & Position & Q3\\\\\n",
       "  & <chr> & <chr> & <int> & <dbl>\\\\\n",
       "\\hline\n",
       "\t1 & 1\\_809641 & 1 & 809641 & 0.0000000\\\\\n",
       "\t2 & 1\\_812761 & 1 & 812761 & 0.0000000\\\\\n",
       "\t3 & 1\\_817186 & 1 & 817186 & 1.0000000\\\\\n",
       "\t4 & 1\\_818954 & 1 & 818954 & 1.0000000\\\\\n",
       "\t5 & 1\\_825532 & 1 & 825532 & 0.9558824\\\\\n",
       "\t6 & 1\\_825767 & 1 & 825767 & 0.9722222\\\\\n",
       "\\end{tabular}\n"
      ],
      "text/markdown": [
       "\n",
       "A data.frame: 6 × 4\n",
       "\n",
       "| <!--/--> | X &lt;chr&gt; | Chromosome &lt;chr&gt; | Position &lt;int&gt; | Q3 &lt;dbl&gt; |\n",
       "|---|---|---|---|---|\n",
       "| 1 | 1_809641 | 1 | 809641 | 0.0000000 |\n",
       "| 2 | 1_812761 | 1 | 812761 | 0.0000000 |\n",
       "| 3 | 1_817186 | 1 | 817186 | 1.0000000 |\n",
       "| 4 | 1_818954 | 1 | 818954 | 1.0000000 |\n",
       "| 5 | 1_825532 | 1 | 825532 | 0.9558824 |\n",
       "| 6 | 1_825767 | 1 | 825767 | 0.9722222 |\n",
       "\n"
      ],
      "text/plain": [
       "  X        Chromosome Position Q3       \n",
       "1 1_809641 1          809641   0.0000000\n",
       "2 1_812761 1          812761   0.0000000\n",
       "3 1_817186 1          817186   1.0000000\n",
       "4 1_818954 1          818954   1.0000000\n",
       "5 1_825532 1          825532   0.9558824\n",
       "6 1_825767 1          825767   0.9722222"
      ]
     },
     "metadata": {},
     "output_type": "display_data"
    }
   ],
   "source": [
    "#Load in the raw BAF values from the normals of chr3\n",
    "normal_BAF <- read.delim(\"/ASCAT/Q3/Normal_BAF_rawBAF.txt\")\n",
    "head(normal_BAF)"
   ]
  },
  {
   "cell_type": "code",
   "execution_count": 255,
   "id": "985622d2",
   "metadata": {
    "vscode": {
     "languageId": "r"
    }
   },
   "outputs": [
    {
     "data": {
      "text/html": [
       "<table class=\"dataframe\">\n",
       "<caption>A data.frame: 6 × 4</caption>\n",
       "<thead>\n",
       "\t<tr><th></th><th scope=col>X</th><th scope=col>Chromosome</th><th scope=col>Position</th><th scope=col>Q3</th></tr>\n",
       "\t<tr><th></th><th scope=col>&lt;chr&gt;</th><th scope=col>&lt;chr&gt;</th><th scope=col>&lt;int&gt;</th><th scope=col>&lt;dbl&gt;</th></tr>\n",
       "</thead>\n",
       "<tbody>\n",
       "\t<tr><th scope=row>7</th><td>1_833068</td><td>1</td><td>833068</td><td>0.2222222</td></tr>\n",
       "\t<tr><th scope=row>15</th><td>1_873251</td><td>1</td><td>873251</td><td>0.5000000</td></tr>\n",
       "\t<tr><th scope=row>16</th><td>1_873548</td><td>1</td><td>873548</td><td>0.5789474</td></tr>\n",
       "\t<tr><th scope=row>18</th><td>1_896529</td><td>1</td><td>896529</td><td>0.6153846</td></tr>\n",
       "\t<tr><th scope=row>19</th><td>1_896686</td><td>1</td><td>896686</td><td>0.5833333</td></tr>\n",
       "\t<tr><th scope=row>20</th><td>1_896732</td><td>1</td><td>896732</td><td>0.6153846</td></tr>\n",
       "</tbody>\n",
       "</table>\n"
      ],
      "text/latex": [
       "A data.frame: 6 × 4\n",
       "\\begin{tabular}{r|llll}\n",
       "  & X & Chromosome & Position & Q3\\\\\n",
       "  & <chr> & <chr> & <int> & <dbl>\\\\\n",
       "\\hline\n",
       "\t7 & 1\\_833068 & 1 & 833068 & 0.2222222\\\\\n",
       "\t15 & 1\\_873251 & 1 & 873251 & 0.5000000\\\\\n",
       "\t16 & 1\\_873548 & 1 & 873548 & 0.5789474\\\\\n",
       "\t18 & 1\\_896529 & 1 & 896529 & 0.6153846\\\\\n",
       "\t19 & 1\\_896686 & 1 & 896686 & 0.5833333\\\\\n",
       "\t20 & 1\\_896732 & 1 & 896732 & 0.6153846\\\\\n",
       "\\end{tabular}\n"
      ],
      "text/markdown": [
       "\n",
       "A data.frame: 6 × 4\n",
       "\n",
       "| <!--/--> | X &lt;chr&gt; | Chromosome &lt;chr&gt; | Position &lt;int&gt; | Q3 &lt;dbl&gt; |\n",
       "|---|---|---|---|---|\n",
       "| 7 | 1_833068 | 1 | 833068 | 0.2222222 |\n",
       "| 15 | 1_873251 | 1 | 873251 | 0.5000000 |\n",
       "| 16 | 1_873548 | 1 | 873548 | 0.5789474 |\n",
       "| 18 | 1_896529 | 1 | 896529 | 0.6153846 |\n",
       "| 19 | 1_896686 | 1 | 896686 | 0.5833333 |\n",
       "| 20 | 1_896732 | 1 | 896732 | 0.6153846 |\n",
       "\n"
      ],
      "text/plain": [
       "   X        Chromosome Position Q3       \n",
       "7  1_833068 1          833068   0.2222222\n",
       "15 1_873251 1          873251   0.5000000\n",
       "16 1_873548 1          873548   0.5789474\n",
       "18 1_896529 1          896529   0.6153846\n",
       "19 1_896686 1          896686   0.5833333\n",
       "20 1_896732 1          896732   0.6153846"
      ]
     },
     "metadata": {},
     "output_type": "display_data"
    }
   ],
   "source": [
    "#Filter on het SNPs -> positions between 0.2 and 0.8\n",
    "filtered_normal_BAF <- normal_BAF[normal_BAF$Q3 >= 0.2 & normal_BAF$Q3 <= 0.8,]\n",
    "head(filtered_normal_BAF)"
   ]
  },
  {
   "cell_type": "code",
   "execution_count": 256,
   "id": "a3d93956",
   "metadata": {
    "vscode": {
     "languageId": "r"
    }
   },
   "outputs": [
    {
     "data": {
      "text/html": [
       "<table class=\"dataframe\">\n",
       "<caption>A data.frame: 6 × 4</caption>\n",
       "<thead>\n",
       "\t<tr><th></th><th scope=col>X</th><th scope=col>Chromosome</th><th scope=col>Position</th><th scope=col>Q3</th></tr>\n",
       "\t<tr><th></th><th scope=col>&lt;chr&gt;</th><th scope=col>&lt;chr&gt;</th><th scope=col>&lt;int&gt;</th><th scope=col>&lt;dbl&gt;</th></tr>\n",
       "</thead>\n",
       "<tbody>\n",
       "\t<tr><th scope=row>79742</th><td>3_350895 </td><td>3</td><td> 350895</td><td>0.7333333</td></tr>\n",
       "\t<tr><th scope=row>79743</th><td>3_352610 </td><td>3</td><td> 352610</td><td>0.3636364</td></tr>\n",
       "\t<tr><th scope=row>79744</th><td>3_352834 </td><td>3</td><td> 352834</td><td>0.6363636</td></tr>\n",
       "\t<tr><th scope=row>79745</th><td>3_495878 </td><td>3</td><td> 495878</td><td>0.5000000</td></tr>\n",
       "\t<tr><th scope=row>79753</th><td>3_767148 </td><td>3</td><td> 767148</td><td>0.5000000</td></tr>\n",
       "\t<tr><th scope=row>79754</th><td>3_1011969</td><td>3</td><td>1011969</td><td>0.3636364</td></tr>\n",
       "</tbody>\n",
       "</table>\n"
      ],
      "text/latex": [
       "A data.frame: 6 × 4\n",
       "\\begin{tabular}{r|llll}\n",
       "  & X & Chromosome & Position & Q3\\\\\n",
       "  & <chr> & <chr> & <int> & <dbl>\\\\\n",
       "\\hline\n",
       "\t79742 & 3\\_350895  & 3 &  350895 & 0.7333333\\\\\n",
       "\t79743 & 3\\_352610  & 3 &  352610 & 0.3636364\\\\\n",
       "\t79744 & 3\\_352834  & 3 &  352834 & 0.6363636\\\\\n",
       "\t79745 & 3\\_495878  & 3 &  495878 & 0.5000000\\\\\n",
       "\t79753 & 3\\_767148  & 3 &  767148 & 0.5000000\\\\\n",
       "\t79754 & 3\\_1011969 & 3 & 1011969 & 0.3636364\\\\\n",
       "\\end{tabular}\n"
      ],
      "text/markdown": [
       "\n",
       "A data.frame: 6 × 4\n",
       "\n",
       "| <!--/--> | X &lt;chr&gt; | Chromosome &lt;chr&gt; | Position &lt;int&gt; | Q3 &lt;dbl&gt; |\n",
       "|---|---|---|---|---|\n",
       "| 79742 | 3_350895  | 3 |  350895 | 0.7333333 |\n",
       "| 79743 | 3_352610  | 3 |  352610 | 0.3636364 |\n",
       "| 79744 | 3_352834  | 3 |  352834 | 0.6363636 |\n",
       "| 79745 | 3_495878  | 3 |  495878 | 0.5000000 |\n",
       "| 79753 | 3_767148  | 3 |  767148 | 0.5000000 |\n",
       "| 79754 | 3_1011969 | 3 | 1011969 | 0.3636364 |\n",
       "\n"
      ],
      "text/plain": [
       "      X         Chromosome Position Q3       \n",
       "79742 3_350895  3           350895  0.7333333\n",
       "79743 3_352610  3           352610  0.3636364\n",
       "79744 3_352834  3           352834  0.6363636\n",
       "79745 3_495878  3           495878  0.5000000\n",
       "79753 3_767148  3           767148  0.5000000\n",
       "79754 3_1011969 3          1011969  0.3636364"
      ]
     },
     "metadata": {},
     "output_type": "display_data"
    }
   ],
   "source": [
    "#Only look for chromosome 3\n",
    "chr3_BAF <- filtered_normal_BAF[filtered_normal_BAF$Chromosome == 3,]\n",
    "head(chr3_BAF)"
   ]
  },
  {
   "cell_type": "code",
   "execution_count": 257,
   "id": "9d32522b",
   "metadata": {
    "vscode": {
     "languageId": "r"
    }
   },
   "outputs": [
    {
     "data": {
      "text/html": [
       "10480"
      ],
      "text/latex": [
       "10480"
      ],
      "text/markdown": [
       "10480"
      ],
      "text/plain": [
       "[1] 10480"
      ]
     },
     "metadata": {},
     "output_type": "display_data"
    }
   ],
   "source": [
    "nrow((chr3_BAF))"
   ]
  },
  {
   "cell_type": "code",
   "execution_count": null,
   "id": "6427fcb3",
   "metadata": {
    "vscode": {
     "languageId": "r"
    }
   },
   "outputs": [
    {
     "data": {
      "text/html": [
       "10480"
      ],
      "text/latex": [
       "10480"
      ],
      "text/markdown": [
       "10480"
      ],
      "text/plain": [
       "[1] 10480"
      ]
     },
     "metadata": {},
     "output_type": "display_data"
    },
    {
     "data": {
      "text/html": [
       "<table class=\"dataframe\">\n",
       "<caption>A data.frame: 6 × 4</caption>\n",
       "<thead>\n",
       "\t<tr><th></th><th scope=col>X</th><th scope=col>Chromosome</th><th scope=col>Position</th><th scope=col>Q3</th></tr>\n",
       "\t<tr><th></th><th scope=col>&lt;chr&gt;</th><th scope=col>&lt;chr&gt;</th><th scope=col>&lt;int&gt;</th><th scope=col>&lt;dbl&gt;</th></tr>\n",
       "</thead>\n",
       "<tbody>\n",
       "\t<tr><th scope=row>79742</th><td>3_350895 </td><td>3</td><td> 350895</td><td>0.3181818</td></tr>\n",
       "\t<tr><th scope=row>79743</th><td>3_352610 </td><td>3</td><td> 352610</td><td>0.7000000</td></tr>\n",
       "\t<tr><th scope=row>79744</th><td>3_352834 </td><td>3</td><td> 352834</td><td>0.3333333</td></tr>\n",
       "\t<tr><th scope=row>79745</th><td>3_495878 </td><td>3</td><td> 495878</td><td>0.5000000</td></tr>\n",
       "\t<tr><th scope=row>79753</th><td>3_767148 </td><td>3</td><td> 767148</td><td>1.0000000</td></tr>\n",
       "\t<tr><th scope=row>79754</th><td>3_1011969</td><td>3</td><td>1011969</td><td>1.0000000</td></tr>\n",
       "</tbody>\n",
       "</table>\n"
      ],
      "text/latex": [
       "A data.frame: 6 × 4\n",
       "\\begin{tabular}{r|llll}\n",
       "  & X & Chromosome & Position & Q3\\\\\n",
       "  & <chr> & <chr> & <int> & <dbl>\\\\\n",
       "\\hline\n",
       "\t79742 & 3\\_350895  & 3 &  350895 & 0.3181818\\\\\n",
       "\t79743 & 3\\_352610  & 3 &  352610 & 0.7000000\\\\\n",
       "\t79744 & 3\\_352834  & 3 &  352834 & 0.3333333\\\\\n",
       "\t79745 & 3\\_495878  & 3 &  495878 & 0.5000000\\\\\n",
       "\t79753 & 3\\_767148  & 3 &  767148 & 1.0000000\\\\\n",
       "\t79754 & 3\\_1011969 & 3 & 1011969 & 1.0000000\\\\\n",
       "\\end{tabular}\n"
      ],
      "text/markdown": [
       "\n",
       "A data.frame: 6 × 4\n",
       "\n",
       "| <!--/--> | X &lt;chr&gt; | Chromosome &lt;chr&gt; | Position &lt;int&gt; | Q3 &lt;dbl&gt; |\n",
       "|---|---|---|---|---|\n",
       "| 79742 | 3_350895  | 3 |  350895 | 0.3181818 |\n",
       "| 79743 | 3_352610  | 3 |  352610 | 0.7000000 |\n",
       "| 79744 | 3_352834  | 3 |  352834 | 0.3333333 |\n",
       "| 79745 | 3_495878  | 3 |  495878 | 0.5000000 |\n",
       "| 79753 | 3_767148  | 3 |  767148 | 1.0000000 |\n",
       "| 79754 | 3_1011969 | 3 | 1011969 | 1.0000000 |\n",
       "\n"
      ],
      "text/plain": [
       "      X         Chromosome Position Q3       \n",
       "79742 3_350895  3           350895  0.3181818\n",
       "79743 3_352610  3           352610  0.7000000\n",
       "79744 3_352834  3           352834  0.3333333\n",
       "79745 3_495878  3           495878  0.5000000\n",
       "79753 3_767148  3           767148  1.0000000\n",
       "79754 3_1011969 3          1011969  1.0000000"
      ]
     },
     "metadata": {},
     "output_type": "display_data"
    }
   ],
   "source": [
    "# Go to the tumour BAF and only keep these positions:\n",
    "tumour_BAF <- read.delim(\"/ASCAT/Q3/Tumor_BAF_rawBAF.txt\")\n",
    "\n",
    "tumour_BAF <- tumour_BAF[tumour_BAF$Chromosome ==3,]\n",
    "chr3_tumour_BAF <- tumour_BAF[tumour_BAF$Position %in% chr3_BAF$Position,]\n",
    "nrow(chr3_tumour_BAF)\n",
    "head(chr3_tumour_BAF)"
   ]
  },
  {
   "cell_type": "code",
   "execution_count": null,
   "id": "bed1917e",
   "metadata": {
    "vscode": {
     "languageId": "r"
    }
   },
   "outputs": [
    {
     "data": {
      "text/html": [
       "<table class=\"dataframe\">\n",
       "<caption>A data.frame: 6 × 7</caption>\n",
       "<thead>\n",
       "\t<tr><th></th><th scope=col>X.CHR</th><th scope=col>POS</th><th scope=col>Count_A</th><th scope=col>Count_C</th><th scope=col>Count_G</th><th scope=col>Count_T</th><th scope=col>Good_depth</th></tr>\n",
       "\t<tr><th></th><th scope=col>&lt;chr&gt;</th><th scope=col>&lt;int&gt;</th><th scope=col>&lt;int&gt;</th><th scope=col>&lt;int&gt;</th><th scope=col>&lt;int&gt;</th><th scope=col>&lt;int&gt;</th><th scope=col>&lt;int&gt;</th></tr>\n",
       "</thead>\n",
       "<tbody>\n",
       "\t<tr><th scope=row>1</th><td>chr3</td><td>12690</td><td>12</td><td> 0</td><td> 0</td><td> 0</td><td>12</td></tr>\n",
       "\t<tr><th scope=row>2</th><td>chr3</td><td>13847</td><td>14</td><td> 0</td><td> 1</td><td> 0</td><td>15</td></tr>\n",
       "\t<tr><th scope=row>3</th><td>chr3</td><td>15110</td><td> 0</td><td> 0</td><td>23</td><td> 0</td><td>23</td></tr>\n",
       "\t<tr><th scope=row>4</th><td>chr3</td><td>15453</td><td> 0</td><td>18</td><td> 0</td><td> 0</td><td>18</td></tr>\n",
       "\t<tr><th scope=row>5</th><td>chr3</td><td>19366</td><td> 0</td><td>15</td><td> 0</td><td> 0</td><td>15</td></tr>\n",
       "\t<tr><th scope=row>6</th><td>chr3</td><td>19435</td><td> 0</td><td> 0</td><td> 0</td><td>16</td><td>16</td></tr>\n",
       "</tbody>\n",
       "</table>\n"
      ],
      "text/latex": [
       "A data.frame: 6 × 7\n",
       "\\begin{tabular}{r|lllllll}\n",
       "  & X.CHR & POS & Count\\_A & Count\\_C & Count\\_G & Count\\_T & Good\\_depth\\\\\n",
       "  & <chr> & <int> & <int> & <int> & <int> & <int> & <int>\\\\\n",
       "\\hline\n",
       "\t1 & chr3 & 12690 & 12 &  0 &  0 &  0 & 12\\\\\n",
       "\t2 & chr3 & 13847 & 14 &  0 &  1 &  0 & 15\\\\\n",
       "\t3 & chr3 & 15110 &  0 &  0 & 23 &  0 & 23\\\\\n",
       "\t4 & chr3 & 15453 &  0 & 18 &  0 &  0 & 18\\\\\n",
       "\t5 & chr3 & 19366 &  0 & 15 &  0 &  0 & 15\\\\\n",
       "\t6 & chr3 & 19435 &  0 &  0 &  0 & 16 & 16\\\\\n",
       "\\end{tabular}\n"
      ],
      "text/markdown": [
       "\n",
       "A data.frame: 6 × 7\n",
       "\n",
       "| <!--/--> | X.CHR &lt;chr&gt; | POS &lt;int&gt; | Count_A &lt;int&gt; | Count_C &lt;int&gt; | Count_G &lt;int&gt; | Count_T &lt;int&gt; | Good_depth &lt;int&gt; |\n",
       "|---|---|---|---|---|---|---|---|\n",
       "| 1 | chr3 | 12690 | 12 |  0 |  0 |  0 | 12 |\n",
       "| 2 | chr3 | 13847 | 14 |  0 |  1 |  0 | 15 |\n",
       "| 3 | chr3 | 15110 |  0 |  0 | 23 |  0 | 23 |\n",
       "| 4 | chr3 | 15453 |  0 | 18 |  0 |  0 | 18 |\n",
       "| 5 | chr3 | 19366 |  0 | 15 |  0 |  0 | 15 |\n",
       "| 6 | chr3 | 19435 |  0 |  0 |  0 | 16 | 16 |\n",
       "\n"
      ],
      "text/plain": [
       "  X.CHR POS   Count_A Count_C Count_G Count_T Good_depth\n",
       "1 chr3  12690 12       0       0       0      12        \n",
       "2 chr3  13847 14       0       1       0      15        \n",
       "3 chr3  15110  0       0      23       0      23        \n",
       "4 chr3  15453  0      18       0       0      18        \n",
       "5 chr3  19366  0      15       0       0      15        \n",
       "6 chr3  19435  0       0       0      16      16        "
      ]
     },
     "metadata": {},
     "output_type": "display_data"
    }
   ],
   "source": [
    "#Merge with the allelecounts of chromosome 3\n",
    "allelecounts <- read.delim(\"/ASCAT/Q3/Q3_alleleFrequencies_chr3.txt\")\n",
    "head(allelecounts)"
   ]
  },
  {
   "cell_type": "code",
   "execution_count": null,
   "id": "ea48cca9",
   "metadata": {
    "vscode": {
     "languageId": "r"
    }
   },
   "outputs": [],
   "source": [
    "full_data_frame <- left_join(allelecounts, chr3_tumour_BAF, by = c(\"POS\" = \"Position\"))\n",
    "full_data_frame"
   ]
  },
  {
   "cell_type": "code",
   "execution_count": 261,
   "id": "b372092b",
   "metadata": {
    "vscode": {
     "languageId": "r"
    }
   },
   "outputs": [
    {
     "data": {
      "text/html": [
       "<table class=\"dataframe\">\n",
       "<caption>A data.frame: 6 × 10</caption>\n",
       "<thead>\n",
       "\t<tr><th></th><th scope=col>X.CHR</th><th scope=col>POS</th><th scope=col>Count_A</th><th scope=col>Count_C</th><th scope=col>Count_G</th><th scope=col>Count_T</th><th scope=col>Good_depth</th><th scope=col>X</th><th scope=col>Chromosome</th><th scope=col>Q3</th></tr>\n",
       "\t<tr><th></th><th scope=col>&lt;chr&gt;</th><th scope=col>&lt;int&gt;</th><th scope=col>&lt;int&gt;</th><th scope=col>&lt;int&gt;</th><th scope=col>&lt;int&gt;</th><th scope=col>&lt;int&gt;</th><th scope=col>&lt;int&gt;</th><th scope=col>&lt;chr&gt;</th><th scope=col>&lt;chr&gt;</th><th scope=col>&lt;dbl&gt;</th></tr>\n",
       "</thead>\n",
       "<tbody>\n",
       "\t<tr><th scope=row>518</th><td>chr3</td><td> 350895</td><td>0</td><td> 0</td><td>15</td><td> 7</td><td>22</td><td>3_350895 </td><td>3</td><td>0.3181818</td></tr>\n",
       "\t<tr><th scope=row>519</th><td>chr3</td><td> 352610</td><td>0</td><td>14</td><td> 0</td><td> 6</td><td>20</td><td>3_352610 </td><td>3</td><td>0.7000000</td></tr>\n",
       "\t<tr><th scope=row>520</th><td>chr3</td><td> 352834</td><td>0</td><td> 7</td><td> 0</td><td>14</td><td>21</td><td>3_352834 </td><td>3</td><td>0.3333333</td></tr>\n",
       "\t<tr><th scope=row>700</th><td>chr3</td><td> 495878</td><td>7</td><td> 0</td><td> 7</td><td> 0</td><td>14</td><td>3_495878 </td><td>3</td><td>0.5000000</td></tr>\n",
       "\t<tr><th scope=row>924</th><td>chr3</td><td> 767148</td><td>0</td><td> 0</td><td> 2</td><td> 0</td><td> 2</td><td>3_767148 </td><td>3</td><td>1.0000000</td></tr>\n",
       "\t<tr><th scope=row>1240</th><td>chr3</td><td>1011969</td><td>4</td><td> 0</td><td> 0</td><td> 0</td><td> 4</td><td>3_1011969</td><td>3</td><td>1.0000000</td></tr>\n",
       "</tbody>\n",
       "</table>\n"
      ],
      "text/latex": [
       "A data.frame: 6 × 10\n",
       "\\begin{tabular}{r|llllllllll}\n",
       "  & X.CHR & POS & Count\\_A & Count\\_C & Count\\_G & Count\\_T & Good\\_depth & X & Chromosome & Q3\\\\\n",
       "  & <chr> & <int> & <int> & <int> & <int> & <int> & <int> & <chr> & <chr> & <dbl>\\\\\n",
       "\\hline\n",
       "\t518 & chr3 &  350895 & 0 &  0 & 15 &  7 & 22 & 3\\_350895  & 3 & 0.3181818\\\\\n",
       "\t519 & chr3 &  352610 & 0 & 14 &  0 &  6 & 20 & 3\\_352610  & 3 & 0.7000000\\\\\n",
       "\t520 & chr3 &  352834 & 0 &  7 &  0 & 14 & 21 & 3\\_352834  & 3 & 0.3333333\\\\\n",
       "\t700 & chr3 &  495878 & 7 &  0 &  7 &  0 & 14 & 3\\_495878  & 3 & 0.5000000\\\\\n",
       "\t924 & chr3 &  767148 & 0 &  0 &  2 &  0 &  2 & 3\\_767148  & 3 & 1.0000000\\\\\n",
       "\t1240 & chr3 & 1011969 & 4 &  0 &  0 &  0 &  4 & 3\\_1011969 & 3 & 1.0000000\\\\\n",
       "\\end{tabular}\n"
      ],
      "text/markdown": [
       "\n",
       "A data.frame: 6 × 10\n",
       "\n",
       "| <!--/--> | X.CHR &lt;chr&gt; | POS &lt;int&gt; | Count_A &lt;int&gt; | Count_C &lt;int&gt; | Count_G &lt;int&gt; | Count_T &lt;int&gt; | Good_depth &lt;int&gt; | X &lt;chr&gt; | Chromosome &lt;chr&gt; | Q3 &lt;dbl&gt; |\n",
       "|---|---|---|---|---|---|---|---|---|---|---|\n",
       "| 518 | chr3 |  350895 | 0 |  0 | 15 |  7 | 22 | 3_350895  | 3 | 0.3181818 |\n",
       "| 519 | chr3 |  352610 | 0 | 14 |  0 |  6 | 20 | 3_352610  | 3 | 0.7000000 |\n",
       "| 520 | chr3 |  352834 | 0 |  7 |  0 | 14 | 21 | 3_352834  | 3 | 0.3333333 |\n",
       "| 700 | chr3 |  495878 | 7 |  0 |  7 |  0 | 14 | 3_495878  | 3 | 0.5000000 |\n",
       "| 924 | chr3 |  767148 | 0 |  0 |  2 |  0 |  2 | 3_767148  | 3 | 1.0000000 |\n",
       "| 1240 | chr3 | 1011969 | 4 |  0 |  0 |  0 |  4 | 3_1011969 | 3 | 1.0000000 |\n",
       "\n"
      ],
      "text/plain": [
       "     X.CHR POS     Count_A Count_C Count_G Count_T Good_depth X        \n",
       "518  chr3   350895 0        0      15       7      22         3_350895 \n",
       "519  chr3   352610 0       14       0       6      20         3_352610 \n",
       "520  chr3   352834 0        7       0      14      21         3_352834 \n",
       "700  chr3   495878 7        0       7       0      14         3_495878 \n",
       "924  chr3   767148 0        0       2       0       2         3_767148 \n",
       "1240 chr3  1011969 4        0       0       0       4         3_1011969\n",
       "     Chromosome Q3       \n",
       "518  3          0.3181818\n",
       "519  3          0.7000000\n",
       "520  3          0.3333333\n",
       "700  3          0.5000000\n",
       "924  3          1.0000000\n",
       "1240 3          1.0000000"
      ]
     },
     "metadata": {},
     "output_type": "display_data"
    }
   ],
   "source": [
    "cleaned_full_data <- na.omit(full_data_frame)\n",
    "head(cleaned_full_data)"
   ]
  },
  {
   "cell_type": "code",
   "execution_count": 262,
   "id": "3467eba6",
   "metadata": {
    "vscode": {
     "languageId": "r"
    }
   },
   "outputs": [],
   "source": [
    "cleaned_full_data <- as.data.frame(cleaned_full_data)"
   ]
  },
  {
   "cell_type": "code",
   "execution_count": 263,
   "id": "cf035fd1",
   "metadata": {
    "vscode": {
     "languageId": "r"
    }
   },
   "outputs": [
    {
     "data": {
      "image/png": "[encoded data removed]",
      "text/plain": [
       "Plot with title “Histogram of cleaned_full_data$Q3”"
      ]
     },
     "metadata": {
      "image/png": {
       "height": 420,
       "width": 420
      }
     },
     "output_type": "display_data"
    }
   ],
   "source": [
    "hist(cleaned_full_data$Q3, breaks = 70 )"
   ]
  },
  {
   "cell_type": "code",
   "execution_count": 264,
   "id": "9c078249",
   "metadata": {
    "vscode": {
     "languageId": "r"
    }
   },
   "outputs": [
    {
     "data": {
      "text/html": [
       "<table class=\"dataframe\">\n",
       "<caption>A data.frame: 6 × 10</caption>\n",
       "<thead>\n",
       "\t<tr><th></th><th scope=col>X.CHR</th><th scope=col>POS</th><th scope=col>Count_A</th><th scope=col>Count_C</th><th scope=col>Count_G</th><th scope=col>Count_T</th><th scope=col>Good_depth</th><th scope=col>X</th><th scope=col>Chromosome</th><th scope=col>Q3</th></tr>\n",
       "\t<tr><th></th><th scope=col>&lt;chr&gt;</th><th scope=col>&lt;int&gt;</th><th scope=col>&lt;int&gt;</th><th scope=col>&lt;int&gt;</th><th scope=col>&lt;int&gt;</th><th scope=col>&lt;int&gt;</th><th scope=col>&lt;int&gt;</th><th scope=col>&lt;chr&gt;</th><th scope=col>&lt;chr&gt;</th><th scope=col>&lt;dbl&gt;</th></tr>\n",
       "</thead>\n",
       "<tbody>\n",
       "\t<tr><th scope=row>518</th><td>chr3</td><td> 350895</td><td>0</td><td> 0</td><td>15</td><td> 7</td><td>22</td><td>3_350895 </td><td>3</td><td>0.3181818</td></tr>\n",
       "\t<tr><th scope=row>519</th><td>chr3</td><td> 352610</td><td>0</td><td>14</td><td> 0</td><td> 6</td><td>20</td><td>3_352610 </td><td>3</td><td>0.7000000</td></tr>\n",
       "\t<tr><th scope=row>520</th><td>chr3</td><td> 352834</td><td>0</td><td> 7</td><td> 0</td><td>14</td><td>21</td><td>3_352834 </td><td>3</td><td>0.3333333</td></tr>\n",
       "\t<tr><th scope=row>700</th><td>chr3</td><td> 495878</td><td>7</td><td> 0</td><td> 7</td><td> 0</td><td>14</td><td>3_495878 </td><td>3</td><td>0.5000000</td></tr>\n",
       "\t<tr><th scope=row>924</th><td>chr3</td><td> 767148</td><td>0</td><td> 0</td><td> 2</td><td> 0</td><td> 2</td><td>3_767148 </td><td>3</td><td>1.0000000</td></tr>\n",
       "\t<tr><th scope=row>1240</th><td>chr3</td><td>1011969</td><td>4</td><td> 0</td><td> 0</td><td> 0</td><td> 4</td><td>3_1011969</td><td>3</td><td>1.0000000</td></tr>\n",
       "</tbody>\n",
       "</table>\n"
      ],
      "text/latex": [
       "A data.frame: 6 × 10\n",
       "\\begin{tabular}{r|llllllllll}\n",
       "  & X.CHR & POS & Count\\_A & Count\\_C & Count\\_G & Count\\_T & Good\\_depth & X & Chromosome & Q3\\\\\n",
       "  & <chr> & <int> & <int> & <int> & <int> & <int> & <int> & <chr> & <chr> & <dbl>\\\\\n",
       "\\hline\n",
       "\t518 & chr3 &  350895 & 0 &  0 & 15 &  7 & 22 & 3\\_350895  & 3 & 0.3181818\\\\\n",
       "\t519 & chr3 &  352610 & 0 & 14 &  0 &  6 & 20 & 3\\_352610  & 3 & 0.7000000\\\\\n",
       "\t520 & chr3 &  352834 & 0 &  7 &  0 & 14 & 21 & 3\\_352834  & 3 & 0.3333333\\\\\n",
       "\t700 & chr3 &  495878 & 7 &  0 &  7 &  0 & 14 & 3\\_495878  & 3 & 0.5000000\\\\\n",
       "\t924 & chr3 &  767148 & 0 &  0 &  2 &  0 &  2 & 3\\_767148  & 3 & 1.0000000\\\\\n",
       "\t1240 & chr3 & 1011969 & 4 &  0 &  0 &  0 &  4 & 3\\_1011969 & 3 & 1.0000000\\\\\n",
       "\\end{tabular}\n"
      ],
      "text/markdown": [
       "\n",
       "A data.frame: 6 × 10\n",
       "\n",
       "| <!--/--> | X.CHR &lt;chr&gt; | POS &lt;int&gt; | Count_A &lt;int&gt; | Count_C &lt;int&gt; | Count_G &lt;int&gt; | Count_T &lt;int&gt; | Good_depth &lt;int&gt; | X &lt;chr&gt; | Chromosome &lt;chr&gt; | Q3 &lt;dbl&gt; |\n",
       "|---|---|---|---|---|---|---|---|---|---|---|\n",
       "| 518 | chr3 |  350895 | 0 |  0 | 15 |  7 | 22 | 3_350895  | 3 | 0.3181818 |\n",
       "| 519 | chr3 |  352610 | 0 | 14 |  0 |  6 | 20 | 3_352610  | 3 | 0.7000000 |\n",
       "| 520 | chr3 |  352834 | 0 |  7 |  0 | 14 | 21 | 3_352834  | 3 | 0.3333333 |\n",
       "| 700 | chr3 |  495878 | 7 |  0 |  7 |  0 | 14 | 3_495878  | 3 | 0.5000000 |\n",
       "| 924 | chr3 |  767148 | 0 |  0 |  2 |  0 |  2 | 3_767148  | 3 | 1.0000000 |\n",
       "| 1240 | chr3 | 1011969 | 4 |  0 |  0 |  0 |  4 | 3_1011969 | 3 | 1.0000000 |\n",
       "\n"
      ],
      "text/plain": [
       "     X.CHR POS     Count_A Count_C Count_G Count_T Good_depth X        \n",
       "518  chr3   350895 0        0      15       7      22         3_350895 \n",
       "519  chr3   352610 0       14       0       6      20         3_352610 \n",
       "520  chr3   352834 0        7       0      14      21         3_352834 \n",
       "700  chr3   495878 7        0       7       0      14         3_495878 \n",
       "924  chr3   767148 0        0       2       0       2         3_767148 \n",
       "1240 chr3  1011969 4        0       0       0       4         3_1011969\n",
       "     Chromosome Q3       \n",
       "518  3          0.3181818\n",
       "519  3          0.7000000\n",
       "520  3          0.3333333\n",
       "700  3          0.5000000\n",
       "924  3          1.0000000\n",
       "1240 3          1.0000000"
      ]
     },
     "metadata": {},
     "output_type": "display_data"
    }
   ],
   "source": [
    "head(cleaned_full_data)"
   ]
  },
  {
   "cell_type": "code",
   "execution_count": 265,
   "id": "3804de81",
   "metadata": {
    "vscode": {
     "languageId": "r"
    }
   },
   "outputs": [],
   "source": [
    "df <- cleaned_full_data"
   ]
  },
  {
   "cell_type": "code",
   "execution_count": 266,
   "id": "d7afc998",
   "metadata": {
    "vscode": {
     "languageId": "r"
    }
   },
   "outputs": [],
   "source": [
    "# Define mirrorBaf function on a numeric vector (single sample)\n",
    "mirrorBaf <- function(baf) {\n",
    "  ifelse(baf > 0.5, baf, 1 - baf)\n",
    "}\n",
    "\n",
    "# Add mirrored BAF column\n",
    "df$Q3_mirrored <- mirrorBaf(df$Q3)\n"
   ]
  },
  {
   "cell_type": "code",
   "execution_count": 267,
   "id": "2725b69c",
   "metadata": {
    "vscode": {
     "languageId": "r"
    }
   },
   "outputs": [],
   "source": [
    "df$Count_A <- as.numeric(df$Count_A)\n",
    "df$Count_C <- as.numeric(df$Count_C)\n",
    "df$Count_G <- as.numeric(df$Count_G)\n",
    "df$Count_T <- as.numeric(df$Count_T)\n",
    "df$Good_depth <- as.numeric(df$Good_depth)"
   ]
  },
  {
   "cell_type": "code",
   "execution_count": 269,
   "id": "e8a40098",
   "metadata": {
    "vscode": {
     "languageId": "r"
    }
   },
   "outputs": [],
   "source": [
    "get_major_minor_alleles <- function(row) {\n",
    "  # Convert counts and Good_depth to numeric explicitly\n",
    "  count_A <- as.numeric(row[\"Count_A\"])\n",
    "  count_C <- as.numeric(row[\"Count_C\"])\n",
    "  count_G <- as.numeric(row[\"Count_G\"])\n",
    "  count_T <- as.numeric(row[\"Count_T\"])\n",
    "  good_depth <- as.numeric(row[\"Good_depth\"])\n",
    "  baf_mirrored <- as.numeric(row[\"Q3_mirrored\"])\n",
    "\n",
    "  bafs <- c(\n",
    "    A = count_A / good_depth,\n",
    "    C = count_C / good_depth,\n",
    "    G = count_G / good_depth,\n",
    "    T = count_T / good_depth\n",
    "  )\n",
    "  \n",
    "  major_allele <- names(which.min(abs(bafs - baf_mirrored)))\n",
    "\n",
    "  bafs_no_major <- bafs[names(bafs) != major_allele]\n",
    "  \n",
    "  minor_allele <- if(length(bafs_no_major) > 0) {\n",
    "    max_baf <- max(bafs_no_major)\n",
    "    if (max_baf > 0) {\n",
    "      names(which.max(bafs_no_major))\n",
    "    } else {\n",
    "      \".\"\n",
    "    }\n",
    "  } else {\n",
    "    \".\"\n",
    "  }\n",
    "  \n",
    "  c(MINOR = minor_allele, MAJOR = major_allele)\n",
    "}\n"
   ]
  },
  {
   "cell_type": "code",
   "execution_count": 270,
   "id": "b312fb7f",
   "metadata": {
    "vscode": {
     "languageId": "r"
    }
   },
   "outputs": [],
   "source": [
    "alleles <- t(apply(df, 1, get_major_minor_alleles))\n",
    "df$MAJOR <- alleles[, \"MAJOR\"]\n",
    "df$MINOR <- alleles[, \"MINOR\"]\n"
   ]
  },
  {
   "cell_type": "code",
   "execution_count": 273,
   "id": "7c0a201f",
   "metadata": {
    "vscode": {
     "languageId": "r"
    }
   },
   "outputs": [
    {
     "data": {
      "text/html": [
       "<style>\n",
       ".list-inline {list-style: none; margin:0; padding: 0}\n",
       ".list-inline>li {display: inline-block}\n",
       ".list-inline>li:not(:last-child)::after {content: \"\\00b7\"; padding: 0 .5ex}\n",
       "</style>\n",
       "<ol class=list-inline><li>'X.CHR'</li><li>'POS'</li><li>'Count_A'</li><li>'Count_C'</li><li>'Count_G'</li><li>'Count_T'</li><li>'Good_depth'</li><li>'X'</li><li>'Chromosome'</li><li>'Q3'</li><li>'Q3_mirrored'</li><li>'MAJOR'</li><li>'MINOR'</li></ol>\n"
      ],
      "text/latex": [
       "\\begin{enumerate*}\n",
       "\\item 'X.CHR'\n",
       "\\item 'POS'\n",
       "\\item 'Count\\_A'\n",
       "\\item 'Count\\_C'\n",
       "\\item 'Count\\_G'\n",
       "\\item 'Count\\_T'\n",
       "\\item 'Good\\_depth'\n",
       "\\item 'X'\n",
       "\\item 'Chromosome'\n",
       "\\item 'Q3'\n",
       "\\item 'Q3\\_mirrored'\n",
       "\\item 'MAJOR'\n",
       "\\item 'MINOR'\n",
       "\\end{enumerate*}\n"
      ],
      "text/markdown": [
       "1. 'X.CHR'\n",
       "2. 'POS'\n",
       "3. 'Count_A'\n",
       "4. 'Count_C'\n",
       "5. 'Count_G'\n",
       "6. 'Count_T'\n",
       "7. 'Good_depth'\n",
       "8. 'X'\n",
       "9. 'Chromosome'\n",
       "10. 'Q3'\n",
       "11. 'Q3_mirrored'\n",
       "12. 'MAJOR'\n",
       "13. 'MINOR'\n",
       "\n",
       "\n"
      ],
      "text/plain": [
       " [1] \"X.CHR\"       \"POS\"         \"Count_A\"     \"Count_C\"     \"Count_G\"    \n",
       " [6] \"Count_T\"     \"Good_depth\"  \"X\"           \"Chromosome\"  \"Q3\"         \n",
       "[11] \"Q3_mirrored\" \"MAJOR\"       \"MINOR\"      "
      ]
     },
     "metadata": {},
     "output_type": "display_data"
    }
   ],
   "source": [
    "names(df)"
   ]
  },
  {
   "cell_type": "code",
   "execution_count": 274,
   "id": "92cb6f6e",
   "metadata": {
    "vscode": {
     "languageId": "r"
    }
   },
   "outputs": [
    {
     "data": {
      "text/html": [
       "'/lustre1/project/stg_00096/home/projects/2023_Cools_B-ALL/FINAL_DNA_ANALYSIS/CART_cells_analysis'"
      ],
      "text/latex": [
       "'/lustre1/project/stg\\_00096/home/projects/2023\\_Cools\\_B-ALL/FINAL\\_DNA\\_ANALYSIS/CART\\_cells\\_analysis'"
      ],
      "text/markdown": [
       "'/lustre1/project/stg_00096/home/projects/2023_Cools_B-ALL/FINAL_DNA_ANALYSIS/CART_cells_analysis'"
      ],
      "text/plain": [
       "[1] \"/lustre1/project/stg_00096/home/projects/2023_Cools_B-ALL/FINAL_DNA_ANALYSIS/CART_cells_analysis\""
      ]
     },
     "metadata": {},
     "output_type": "display_data"
    }
   ],
   "source": [
    "getwd()"
   ]
  },
  {
   "cell_type": "code",
   "execution_count": 275,
   "id": "58a00335",
   "metadata": {
    "vscode": {
     "languageId": "r"
    }
   },
   "outputs": [],
   "source": [
    "write.table(df, file = \"Allelecounter_and_BAF_ALT_chr3.txt\", sep = \"\\t\", row.names = FALSE, quote = FALSE)"
   ]
  },
  {
   "cell_type": "code",
   "execution_count": null,
   "id": "a208f41f",
   "metadata": {
    "vscode": {
     "languageId": "r"
    }
   },
   "outputs": [],
   "source": [
    "#now that the vcf is saved; we're going to read it in agian an make a vcf file:\n",
    "names <- c('X.CHR','POS','Count_A','Count_C','Count_G','Count_T','Good_depth','X','Chromosome','Q3','Q3_mirrored','MAJOR','MINOR')"
   ]
  },
  {
   "cell_type": "code",
   "execution_count": null,
   "id": "1c10d983",
   "metadata": {
    "vscode": {
     "languageId": "r"
    }
   },
   "outputs": [],
   "source": [
    "txt <- read.table(\n",
    "  \"Allelecounter_and_BAF_ALT_chr3.txt\",\n",
    "  header = TRUE,\n",
    "  sep = \"\\t\",\n",
    "  col.names = names\n",
    ")\n",
    "head(txt)"
   ]
  },
  {
   "cell_type": "code",
   "execution_count": null,
   "id": "7e159a49",
   "metadata": {
    "vscode": {
     "languageId": "r"
    }
   },
   "outputs": [],
   "source": [
    "# Prepare VCF \n",
    "vcf_lines <- c(\"##fileformat=VCFv4.2\",\n",
    "               \"CHROM\\tPOS\\tID\\tREF\\tALT\\tQUAL\\tFILTER\\tINFO\")\n",
    "\n",
    "\n",
    "for (i in 1:nrow(txt)) {\n",
    "  ref <- txt$MINOR[i]  \n",
    "  alt <- txt$MAJOR[i]\n",
    "  vcf_line <- paste(txt$X.CHR[i], txt$POS[i], \".\", ref, alt, \".\", \"PASS\", paste0(\"DP=\", txt$Good_depth[i]), sep=\"\\t\")\n",
    "  vcf_lines <- c(vcf_lines, vcf_line)\n",
    "}\n"
   ]
  },
  {
   "cell_type": "code",
   "execution_count": null,
   "id": "b9de5465",
   "metadata": {
    "vscode": {
     "languageId": "r"
    }
   },
   "outputs": [],
   "source": [
    "# Write to VCF\n",
    "writeLines(vcf_lines, \"output_chr3_ASCAT.vcf\")"
   ]
  },
  {
   "cell_type": "code",
   "execution_count": null,
   "id": "b28b71f0",
   "metadata": {
    "vscode": {
     "languageId": "r"
    }
   },
   "outputs": [],
   "source": [
    "#Now use cellsnp to genotypes thes back"
   ]
  }
 ],
 "metadata": {
  "kernelspec": {
   "display_name": "base_R",
   "language": "R",
   "name": "base_r"
  },
  "language_info": {
   "codemirror_mode": "r",
   "file_extension": ".r",
   "mimetype": "text/x-r-source",
   "name": "R",
   "pygments_lexer": "r",
   "version": "4.3.3"
  }
 },
 "nbformat": 4,
 "nbformat_minor": 5
}
