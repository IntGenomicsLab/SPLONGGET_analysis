{
 "cells": [
  {
   "cell_type": "markdown",
   "metadata": {},
   "source": [
    "# This comes after CLAIRS calling; both extra filtering the calls and plotting\n"
   ]
  },
  {
   "cell_type": "code",
   "execution_count": 1,
   "metadata": {
    "vscode": {
     "languageId": "r"
    }
   },
   "outputs": [
    {
     "name": "stderr",
     "output_type": "stream",
     "text": [
      "Warning message in system(\"timedatectl\", intern = TRUE):\n",
      "“running command 'timedatectl' had status 1”\n",
      "── \u001b[1mAttaching core tidyverse packages\u001b[22m ──────────────────────── tidyverse 2.0.0 ──\n",
      "\u001b[32m✔\u001b[39m \u001b[34mdplyr    \u001b[39m 1.1.4     \u001b[32m✔\u001b[39m \u001b[34mreadr    \u001b[39m 2.1.5\n",
      "\u001b[32m✔\u001b[39m \u001b[34mforcats  \u001b[39m 1.0.0     \u001b[32m✔\u001b[39m \u001b[34mstringr  \u001b[39m 1.5.1\n",
      "\u001b[32m✔\u001b[39m \u001b[34mggplot2  \u001b[39m 3.5.2     \u001b[32m✔\u001b[39m \u001b[34mtibble   \u001b[39m 3.2.1\n",
      "\u001b[32m✔\u001b[39m \u001b[34mlubridate\u001b[39m 1.9.3     \u001b[32m✔\u001b[39m \u001b[34mtidyr    \u001b[39m 1.3.1\n",
      "\u001b[32m✔\u001b[39m \u001b[34mpurrr    \u001b[39m 1.0.4     \n",
      "── \u001b[1mConflicts\u001b[22m ────────────────────────────────────────── tidyverse_conflicts() ──\n",
      "\u001b[31m✖\u001b[39m \u001b[34mdplyr\u001b[39m::\u001b[32mbetween()\u001b[39m     masks \u001b[34mdata.table\u001b[39m::between()\n",
      "\u001b[31m✖\u001b[39m \u001b[34mdplyr\u001b[39m::\u001b[32mfilter()\u001b[39m      masks \u001b[34mstats\u001b[39m::filter()\n",
      "\u001b[31m✖\u001b[39m \u001b[34mdplyr\u001b[39m::\u001b[32mfirst()\u001b[39m       masks \u001b[34mdata.table\u001b[39m::first()\n",
      "\u001b[31m✖\u001b[39m \u001b[34mlubridate\u001b[39m::\u001b[32mhour()\u001b[39m    masks \u001b[34mdata.table\u001b[39m::hour()\n",
      "\u001b[31m✖\u001b[39m \u001b[34mlubridate\u001b[39m::\u001b[32misoweek()\u001b[39m masks \u001b[34mdata.table\u001b[39m::isoweek()\n",
      "\u001b[31m✖\u001b[39m \u001b[34mdplyr\u001b[39m::\u001b[32mlag()\u001b[39m         masks \u001b[34mstats\u001b[39m::lag()\n",
      "\u001b[31m✖\u001b[39m \u001b[34mdplyr\u001b[39m::\u001b[32mlast()\u001b[39m        masks \u001b[34mdata.table\u001b[39m::last()\n",
      "\u001b[31m✖\u001b[39m \u001b[34mlubridate\u001b[39m::\u001b[32mmday()\u001b[39m    masks \u001b[34mdata.table\u001b[39m::mday()\n",
      "\u001b[31m✖\u001b[39m \u001b[34mlubridate\u001b[39m::\u001b[32mminute()\u001b[39m  masks \u001b[34mdata.table\u001b[39m::minute()\n",
      "\u001b[31m✖\u001b[39m \u001b[34mlubridate\u001b[39m::\u001b[32mmonth()\u001b[39m   masks \u001b[34mdata.table\u001b[39m::month()\n",
      "\u001b[31m✖\u001b[39m \u001b[34mlubridate\u001b[39m::\u001b[32mquarter()\u001b[39m masks \u001b[34mdata.table\u001b[39m::quarter()\n",
      "\u001b[31m✖\u001b[39m \u001b[34mlubridate\u001b[39m::\u001b[32msecond()\u001b[39m  masks \u001b[34mdata.table\u001b[39m::second()\n",
      "\u001b[31m✖\u001b[39m \u001b[34mpurrr\u001b[39m::\u001b[32mtranspose()\u001b[39m   masks \u001b[34mdata.table\u001b[39m::transpose()\n",
      "\u001b[31m✖\u001b[39m \u001b[34mlubridate\u001b[39m::\u001b[32mwday()\u001b[39m    masks \u001b[34mdata.table\u001b[39m::wday()\n",
      "\u001b[31m✖\u001b[39m \u001b[34mlubridate\u001b[39m::\u001b[32mweek()\u001b[39m    masks \u001b[34mdata.table\u001b[39m::week()\n",
      "\u001b[31m✖\u001b[39m \u001b[34mlubridate\u001b[39m::\u001b[32myday()\u001b[39m    masks \u001b[34mdata.table\u001b[39m::yday()\n",
      "\u001b[31m✖\u001b[39m \u001b[34mlubridate\u001b[39m::\u001b[32myear()\u001b[39m    masks \u001b[34mdata.table\u001b[39m::year()\n",
      "\u001b[36mℹ\u001b[39m Use the conflicted package (\u001b[3m\u001b[34m<http://conflicted.r-lib.org/>\u001b[39m\u001b[23m) to force all conflicts to become errors\n",
      "Warning message:\n",
      "“package ‘cowplot’ was built under R version 4.4.1”\n",
      "\n",
      "Attaching package: ‘cowplot’\n",
      "\n",
      "\n",
      "The following object is masked from ‘package:lubridate’:\n",
      "\n",
      "    stamp\n",
      "\n",
      "\n"
     ]
    }
   ],
   "source": [
    "library(data.table)\n",
    "library(tidyverse)\n",
    "library(ggplot2)\n",
    "library(UpSetR)\n",
    "library(ggsci)\n",
    "library(cowplot)"
   ]
  },
  {
   "cell_type": "code",
   "execution_count": null,
   "metadata": {
    "vscode": {
     "languageId": "r"
    }
   },
   "outputs": [],
   "source": [
    "setwd(\"/signature.tools.lib/\")"
   ]
  },
  {
   "cell_type": "code",
   "execution_count": 3,
   "metadata": {
    "vscode": {
     "languageId": "r"
    }
   },
   "outputs": [
    {
     "name": "stderr",
     "output_type": "stream",
     "text": [
      "Loading required package: usethis\n",
      "\n"
     ]
    }
   ],
   "source": [
    "library(devtools)"
   ]
  },
  {
   "cell_type": "code",
   "execution_count": 5,
   "metadata": {
    "vscode": {
     "languageId": "r"
    }
   },
   "outputs": [
    {
     "name": "stderr",
     "output_type": "stream",
     "text": [
      "Loading required package: GenomeInfoDb\n",
      "\n"
     ]
    },
    {
     "name": "stderr",
     "output_type": "stream",
     "text": [
      "Loading required package: BiocGenerics\n",
      "\n",
      "\n",
      "Attaching package: ‘BiocGenerics’\n",
      "\n",
      "\n",
      "The following objects are masked from ‘package:lubridate’:\n",
      "\n",
      "    intersect, setdiff, union\n",
      "\n",
      "\n",
      "The following objects are masked from ‘package:dplyr’:\n",
      "\n",
      "    combine, intersect, setdiff, union\n",
      "\n",
      "\n",
      "The following objects are masked from ‘package:stats’:\n",
      "\n",
      "    IQR, mad, sd, var, xtabs\n",
      "\n",
      "\n",
      "The following objects are masked from ‘package:base’:\n",
      "\n",
      "    Filter, Find, Map, Position, Reduce, anyDuplicated, aperm, append,\n",
      "    as.data.frame, basename, cbind, colnames, dirname, do.call,\n",
      "    duplicated, eval, evalq, get, grep, grepl, intersect, is.unsorted,\n",
      "    lapply, mapply, match, mget, order, paste, pmax, pmax.int, pmin,\n",
      "    pmin.int, rank, rbind, rownames, sapply, setdiff, sort, table,\n",
      "    tapply, union, unique, unsplit, which.max, which.min\n",
      "\n",
      "\n",
      "Loading required package: S4Vectors\n",
      "\n",
      "Loading required package: stats4\n",
      "\n",
      "\n",
      "Attaching package: ‘S4Vectors’\n",
      "\n",
      "\n",
      "The following objects are masked from ‘package:lubridate’:\n",
      "\n",
      "    second, second<-\n",
      "\n",
      "\n",
      "The following objects are masked from ‘package:dplyr’:\n",
      "\n",
      "    first, rename\n",
      "\n",
      "\n",
      "The following object is masked from ‘package:tidyr’:\n",
      "\n",
      "    expand\n",
      "\n",
      "\n",
      "The following objects are masked from ‘package:data.table’:\n",
      "\n",
      "    first, second\n",
      "\n",
      "\n",
      "The following object is masked from ‘package:utils’:\n",
      "\n",
      "    findMatches\n",
      "\n",
      "\n",
      "The following objects are masked from ‘package:base’:\n",
      "\n",
      "    I, expand.grid, unname\n",
      "\n",
      "\n",
      "Loading required package: IRanges\n",
      "\n",
      "\n",
      "Attaching package: ‘IRanges’\n",
      "\n",
      "\n",
      "The following object is masked from ‘package:lubridate’:\n",
      "\n",
      "    %within%\n",
      "\n",
      "\n",
      "The following objects are masked from ‘package:dplyr’:\n",
      "\n",
      "    collapse, desc, slice\n",
      "\n",
      "\n",
      "The following object is masked from ‘package:purrr’:\n",
      "\n",
      "    reduce\n",
      "\n",
      "\n",
      "The following object is masked from ‘package:data.table’:\n",
      "\n",
      "    shift\n",
      "\n",
      "\n",
      "Loading required package: BSgenome\n",
      "\n",
      "Loading required package: GenomicRanges\n",
      "\n",
      "Loading required package: Biostrings\n",
      "\n",
      "Loading required package: XVector\n",
      "\n",
      "\n",
      "Attaching package: ‘XVector’\n",
      "\n",
      "\n",
      "The following object is masked from ‘package:purrr’:\n",
      "\n",
      "    compact\n",
      "\n",
      "\n",
      "\n",
      "Attaching package: ‘Biostrings’\n",
      "\n",
      "\n",
      "The following object is masked from ‘package:base’:\n",
      "\n",
      "    strsplit\n",
      "\n",
      "\n",
      "Loading required package: BiocIO\n",
      "\n",
      "Loading required package: rtracklayer\n",
      "\n",
      "\n",
      "Attaching package: ‘rtracklayer’\n",
      "\n",
      "\n",
      "The following object is masked from ‘package:BiocIO’:\n",
      "\n",
      "    FileForFormat\n",
      "\n",
      "\n"
     ]
    }
   ],
   "source": [
    "library(BSgenome.Hsapiens.UCSC.hg38)"
   ]
  },
  {
   "cell_type": "code",
   "execution_count": 7,
   "metadata": {
    "vscode": {
     "languageId": "r"
    }
   },
   "outputs": [],
   "source": [
    "samples <- c(\"D0\", \"Q1\", \"Q2\", \"Q3\")"
   ]
  },
  {
   "cell_type": "code",
   "execution_count": null,
   "metadata": {
    "vscode": {
     "languageId": "r"
    }
   },
   "outputs": [],
   "source": [
    "# Create file paths dynamically\n",
    "\n",
    "\n",
    "file_paths <- paste0(\"/CLAIRS_TO/coverage_10/\", \n",
    "                     samples, \"/snv.vcf.gz\")\n",
    "# Read and label each file with its timepoint\n",
    "vcf_list <- mapply(function(file, sample) {\n",
    "  dt <- fread(file, skip = \"#CHROM\")\n",
    "  dt <- dt[FILTER == \"PASS\"]  # Filter only PASS\n",
    "  \n",
    "  # Extract the genotype/sample column (assume it's column 10 for now)\n",
    "  sample_col <- names(dt)[10]  # or replace with exact sample column name if known\n",
    "  \n",
    "  # Separate FORMAT fields into new columns\n",
    "  dt <- dt %>%\n",
    "    mutate(sample_data = as.character(get(sample_col))) %>%\n",
    "    separate(sample_data, into = c(\"GT\", \"GQ\", \"DP\", \"AF\", \"AD\", \"AU\", \"CU\", \"GU\", \"TU\"), sep = \":\") %>%\n",
    "    mutate(timepoint = sample)\n",
    "  \n",
    "  return(as.data.table(dt))\n",
    "}, file_paths, samples, SIMPLIFY = FALSE)"
   ]
  },
  {
   "cell_type": "code",
   "execution_count": 9,
   "metadata": {
    "vscode": {
     "languageId": "r"
    }
   },
   "outputs": [
    {
     "data": {
      "text/html": [
       "<style>\n",
       ".list-inline {list-style: none; margin:0; padding: 0}\n",
       ".list-inline>li {display: inline-block}\n",
       ".list-inline>li:not(:last-child)::after {content: \"\\00b7\"; padding: 0 .5ex}\n",
       "</style>\n",
       "<ol class=list-inline><li>'#CHROM'</li><li>'POS'</li><li>'ID'</li><li>'REF'</li><li>'ALT'</li><li>'QUAL'</li><li>'FILTER'</li><li>'INFO'</li><li>'FORMAT'</li><li>'D0'</li><li>'GT'</li><li>'GQ'</li><li>'DP'</li><li>'AF'</li><li>'AD'</li><li>'AU'</li><li>'CU'</li><li>'GU'</li><li>'TU'</li><li>'timepoint'</li></ol>\n"
      ],
      "text/latex": [
       "\\begin{enumerate*}\n",
       "\\item '\\#CHROM'\n",
       "\\item 'POS'\n",
       "\\item 'ID'\n",
       "\\item 'REF'\n",
       "\\item 'ALT'\n",
       "\\item 'QUAL'\n",
       "\\item 'FILTER'\n",
       "\\item 'INFO'\n",
       "\\item 'FORMAT'\n",
       "\\item 'D0'\n",
       "\\item 'GT'\n",
       "\\item 'GQ'\n",
       "\\item 'DP'\n",
       "\\item 'AF'\n",
       "\\item 'AD'\n",
       "\\item 'AU'\n",
       "\\item 'CU'\n",
       "\\item 'GU'\n",
       "\\item 'TU'\n",
       "\\item 'timepoint'\n",
       "\\end{enumerate*}\n"
      ],
      "text/markdown": [
       "1. '#CHROM'\n",
       "2. 'POS'\n",
       "3. 'ID'\n",
       "4. 'REF'\n",
       "5. 'ALT'\n",
       "6. 'QUAL'\n",
       "7. 'FILTER'\n",
       "8. 'INFO'\n",
       "9. 'FORMAT'\n",
       "10. 'D0'\n",
       "11. 'GT'\n",
       "12. 'GQ'\n",
       "13. 'DP'\n",
       "14. 'AF'\n",
       "15. 'AD'\n",
       "16. 'AU'\n",
       "17. 'CU'\n",
       "18. 'GU'\n",
       "19. 'TU'\n",
       "20. 'timepoint'\n",
       "\n",
       "\n"
      ],
      "text/plain": [
       " [1] \"#CHROM\"    \"POS\"       \"ID\"        \"REF\"       \"ALT\"       \"QUAL\"     \n",
       " [7] \"FILTER\"    \"INFO\"      \"FORMAT\"    \"D0\"        \"GT\"        \"GQ\"       \n",
       "[13] \"DP\"        \"AF\"        \"AD\"        \"AU\"        \"CU\"        \"GU\"       \n",
       "[19] \"TU\"        \"timepoint\""
      ]
     },
     "metadata": {},
     "output_type": "display_data"
    }
   ],
   "source": [
    "colnames(vcf_list[[1]])"
   ]
  },
  {
   "cell_type": "code",
   "execution_count": 11,
   "metadata": {
    "vscode": {
     "languageId": "r"
    }
   },
   "outputs": [],
   "source": [
    "# Combine all into one long dataframe\n",
    "df_long <- bind_rows(vcf_list) %>%\n",
    "  select(`#CHROM`, POS, timepoint, QUAL, DP, AF) %>%\n",
    "  mutate(present = 1) "
   ]
  },
  {
   "cell_type": "code",
   "execution_count": 12,
   "metadata": {
    "vscode": {
     "languageId": "r"
    }
   },
   "outputs": [],
   "source": [
    "setDT(df_long)"
   ]
  },
  {
   "cell_type": "markdown",
   "metadata": {},
   "source": [
    "Here we are going apply the filter condition: more strict if only in 1 sample"
   ]
  },
  {
   "cell_type": "code",
   "execution_count": 13,
   "metadata": {
    "vscode": {
     "languageId": "r"
    }
   },
   "outputs": [],
   "source": [
    "# Assuming df_long is already a data.table\n",
    "df_long[, variant := paste(`#CHROM`, POS, sep = \":\")]\n",
    "\n",
    "# Count how many unique samples each variant appears in\n",
    "variant_counts <- df_long[, .(sample_count = uniqueN(timepoint)), by = variant]\n",
    "\n",
    "# Merge count info back\n",
    "df_long <- merge(df_long, variant_counts, by = \"variant\")\n",
    "\n",
    "# Apply filtering condition\n",
    "df_filtered <- df_long[sample_count >= 2 | (sample_count == 1 & QUAL > 25 & DP > 30 & AF > 0.15)]\n",
    "\n",
    "# Extract metadata (e.g., CHROM, POS, QUAL)\n",
    "meta <- unique(df_filtered[, .(variant, `#CHROM`, POS, QUAL)])"
   ]
  },
  {
   "cell_type": "code",
   "execution_count": 14,
   "metadata": {
    "vscode": {
     "languageId": "r"
    }
   },
   "outputs": [],
   "source": [
    "wide_presence <- dcast(\n",
    "  df_filtered[, .(variant, timepoint, present = 1)], \n",
    "  variant ~ timepoint, \n",
    "  value.var = \"present\", \n",
    "  fill = 0\n",
    ")\n",
    "\n",
    "# Merge metadata back\n",
    "df_wide <- merge(meta, wide_presence, by = \"variant\")\n",
    "\n",
    "# Reorder columns (optional)\n",
    "setcolorder(df_wide, c(\"variant\", \"#CHROM\", \"POS\", \"QUAL\"))"
   ]
  },
  {
   "cell_type": "code",
   "execution_count": 16,
   "metadata": {
    "vscode": {
     "languageId": "r"
    }
   },
   "outputs": [],
   "source": [
    "df_wide <- df_wide[!duplicated(df_wide$variant), ]"
   ]
  },
  {
   "cell_type": "code",
   "execution_count": 17,
   "metadata": {
    "vscode": {
     "languageId": "r"
    }
   },
   "outputs": [
    {
     "data": {
      "text/html": [
       "<table class=\"dataframe\">\n",
       "<caption>A data.table: 28785 × 8</caption>\n",
       "<thead>\n",
       "\t<tr><th scope=col>variant</th><th scope=col>#CHROM</th><th scope=col>POS</th><th scope=col>QUAL</th><th scope=col>D0</th><th scope=col>Q1</th><th scope=col>Q2</th><th scope=col>Q3</th></tr>\n",
       "\t<tr><th scope=col>&lt;chr&gt;</th><th scope=col>&lt;chr&gt;</th><th scope=col>&lt;int&gt;</th><th scope=col>&lt;dbl&gt;</th><th scope=col>&lt;dbl&gt;</th><th scope=col>&lt;dbl&gt;</th><th scope=col>&lt;dbl&gt;</th><th scope=col>&lt;dbl&gt;</th></tr>\n",
       "</thead>\n",
       "<tbody>\n",
       "\t<tr><td>chr10:100239175</td><td>chr10</td><td>100239175</td><td>60.7878</td><td>0</td><td>0</td><td>0</td><td>1</td></tr>\n",
       "\t<tr><td>chr10:100244609</td><td>chr10</td><td>100244609</td><td>15.6850</td><td>1</td><td>1</td><td>1</td><td>1</td></tr>\n",
       "\t<tr><td>chr10:100274928</td><td>chr10</td><td>100274928</td><td>87.1612</td><td>1</td><td>1</td><td>0</td><td>1</td></tr>\n",
       "\t<tr><td>chr10:100504513</td><td>chr10</td><td>100504513</td><td>64.8268</td><td>1</td><td>1</td><td>1</td><td>1</td></tr>\n",
       "\t<tr><td>chr10:100554396</td><td>chr10</td><td>100554396</td><td>65.9101</td><td>1</td><td>1</td><td>1</td><td>1</td></tr>\n",
       "\t<tr><td>chr10:100574852</td><td>chr10</td><td>100574852</td><td>65.1676</td><td>1</td><td>1</td><td>1</td><td>1</td></tr>\n",
       "\t<tr><td>chr10:100588309</td><td>chr10</td><td>100588309</td><td>54.9513</td><td>1</td><td>0</td><td>1</td><td>1</td></tr>\n",
       "\t<tr><td>chr10:100596807</td><td>chr10</td><td>100596807</td><td>53.0938</td><td>1</td><td>1</td><td>1</td><td>0</td></tr>\n",
       "\t<tr><td>chr10:100646858</td><td>chr10</td><td>100646858</td><td>65.1122</td><td>0</td><td>1</td><td>0</td><td>1</td></tr>\n",
       "\t<tr><td>chr10:100675329</td><td>chr10</td><td>100675329</td><td>65.5558</td><td>0</td><td>0</td><td>0</td><td>1</td></tr>\n",
       "\t<tr><td>chr10:100792432</td><td>chr10</td><td>100792432</td><td>14.4720</td><td>0</td><td>1</td><td>1</td><td>0</td></tr>\n",
       "\t<tr><td>chr10:100858628</td><td>chr10</td><td>100858628</td><td>74.6138</td><td>1</td><td>1</td><td>0</td><td>1</td></tr>\n",
       "\t<tr><td>chr10:100902195</td><td>chr10</td><td>100902195</td><td>53.6540</td><td>0</td><td>0</td><td>0</td><td>1</td></tr>\n",
       "\t<tr><td>chr10:100902927</td><td>chr10</td><td>100902927</td><td>24.5068</td><td>0</td><td>1</td><td>1</td><td>1</td></tr>\n",
       "\t<tr><td>chr10:100922965</td><td>chr10</td><td>100922965</td><td>77.8523</td><td>1</td><td>1</td><td>1</td><td>1</td></tr>\n",
       "\t<tr><td>chr10:101040036</td><td>chr10</td><td>101040036</td><td>54.8807</td><td>0</td><td>1</td><td>1</td><td>1</td></tr>\n",
       "\t<tr><td>chr10:10114135 </td><td>chr10</td><td> 10114135</td><td>27.0701</td><td>0</td><td>0</td><td>1</td><td>0</td></tr>\n",
       "\t<tr><td>chr10:101163098</td><td>chr10</td><td>101163098</td><td>65.2319</td><td>1</td><td>1</td><td>1</td><td>1</td></tr>\n",
       "\t<tr><td>chr10:101225851</td><td>chr10</td><td>101225851</td><td>14.8665</td><td>0</td><td>1</td><td>1</td><td>0</td></tr>\n",
       "\t<tr><td>chr10:101381258</td><td>chr10</td><td>101381258</td><td>55.2149</td><td>0</td><td>0</td><td>1</td><td>0</td></tr>\n",
       "\t<tr><td>chr10:101390274</td><td>chr10</td><td>101390274</td><td>64.1893</td><td>0</td><td>1</td><td>0</td><td>0</td></tr>\n",
       "\t<tr><td>chr10:101632483</td><td>chr10</td><td>101632483</td><td>55.3211</td><td>0</td><td>0</td><td>1</td><td>0</td></tr>\n",
       "\t<tr><td>chr10:101972843</td><td>chr10</td><td>101972843</td><td>64.9104</td><td>1</td><td>1</td><td>1</td><td>1</td></tr>\n",
       "\t<tr><td>chr10:101998750</td><td>chr10</td><td>101998750</td><td>74.9922</td><td>1</td><td>1</td><td>0</td><td>1</td></tr>\n",
       "\t<tr><td>chr10:102012079</td><td>chr10</td><td>102012079</td><td>63.5892</td><td>0</td><td>0</td><td>0</td><td>1</td></tr>\n",
       "\t<tr><td>chr10:102064379</td><td>chr10</td><td>102064379</td><td>85.0931</td><td>1</td><td>1</td><td>0</td><td>1</td></tr>\n",
       "\t<tr><td>chr10:102147879</td><td>chr10</td><td>102147879</td><td>65.6416</td><td>1</td><td>1</td><td>0</td><td>1</td></tr>\n",
       "\t<tr><td>chr10:102234841</td><td>chr10</td><td>102234841</td><td>62.2372</td><td>1</td><td>1</td><td>0</td><td>1</td></tr>\n",
       "\t<tr><td>chr10:102395881</td><td>chr10</td><td>102395881</td><td>65.3597</td><td>1</td><td>1</td><td>1</td><td>1</td></tr>\n",
       "\t<tr><td>chr10:102513229</td><td>chr10</td><td>102513229</td><td>65.5178</td><td>0</td><td>0</td><td>0</td><td>1</td></tr>\n",
       "\t<tr><td>⋮</td><td>⋮</td><td>⋮</td><td>⋮</td><td>⋮</td><td>⋮</td><td>⋮</td><td>⋮</td></tr>\n",
       "\t<tr><td>chrX:9809918 </td><td>chrX</td><td> 9809918</td><td>19.2055</td><td>1</td><td>0</td><td>1</td><td>1</td></tr>\n",
       "\t<tr><td>chrX:98978155</td><td>chrX</td><td>98978155</td><td>62.2910</td><td>0</td><td>0</td><td>1</td><td>0</td></tr>\n",
       "\t<tr><td>chrX:9946315 </td><td>chrX</td><td> 9946315</td><td>22.6427</td><td>0</td><td>1</td><td>1</td><td>0</td></tr>\n",
       "\t<tr><td>chrX:99861149</td><td>chrX</td><td>99861149</td><td>54.3583</td><td>0</td><td>0</td><td>1</td><td>0</td></tr>\n",
       "\t<tr><td>chrX:99994907</td><td>chrX</td><td>99994907</td><td>67.4903</td><td>0</td><td>0</td><td>1</td><td>1</td></tr>\n",
       "\t<tr><td>chrY:11107613</td><td>chrY</td><td>11107613</td><td>62.3616</td><td>0</td><td>1</td><td>0</td><td>1</td></tr>\n",
       "\t<tr><td>chrY:11107693</td><td>chrY</td><td>11107693</td><td>20.7997</td><td>0</td><td>1</td><td>0</td><td>1</td></tr>\n",
       "\t<tr><td>chrY:11111423</td><td>chrY</td><td>11111423</td><td>20.1378</td><td>0</td><td>1</td><td>1</td><td>1</td></tr>\n",
       "\t<tr><td>chrY:11334485</td><td>chrY</td><td>11334485</td><td>16.5177</td><td>0</td><td>0</td><td>1</td><td>1</td></tr>\n",
       "\t<tr><td>chrY:11359576</td><td>chrY</td><td>11359576</td><td>21.9624</td><td>0</td><td>1</td><td>1</td><td>0</td></tr>\n",
       "\t<tr><td>chrY:56824909</td><td>chrY</td><td>56824909</td><td>50.3217</td><td>1</td><td>1</td><td>0</td><td>0</td></tr>\n",
       "\t<tr><td>chrY:56824935</td><td>chrY</td><td>56824935</td><td>22.6362</td><td>0</td><td>1</td><td>1</td><td>0</td></tr>\n",
       "\t<tr><td>chrY:56845926</td><td>chrY</td><td>56845926</td><td>13.0684</td><td>1</td><td>0</td><td>1</td><td>0</td></tr>\n",
       "\t<tr><td>chrY:56846400</td><td>chrY</td><td>56846400</td><td>17.1930</td><td>1</td><td>0</td><td>1</td><td>0</td></tr>\n",
       "\t<tr><td>chrY:56848647</td><td>chrY</td><td>56848647</td><td>13.6918</td><td>1</td><td>0</td><td>1</td><td>0</td></tr>\n",
       "\t<tr><td>chrY:56851586</td><td>chrY</td><td>56851586</td><td>13.4641</td><td>0</td><td>1</td><td>1</td><td>1</td></tr>\n",
       "\t<tr><td>chrY:56853153</td><td>chrY</td><td>56853153</td><td>16.0565</td><td>0</td><td>0</td><td>1</td><td>1</td></tr>\n",
       "\t<tr><td>chrY:56853154</td><td>chrY</td><td>56853154</td><td>14.1522</td><td>0</td><td>1</td><td>1</td><td>1</td></tr>\n",
       "\t<tr><td>chrY:56853457</td><td>chrY</td><td>56853457</td><td>22.0914</td><td>0</td><td>0</td><td>1</td><td>1</td></tr>\n",
       "\t<tr><td>chrY:56853606</td><td>chrY</td><td>56853606</td><td>21.5156</td><td>0</td><td>0</td><td>1</td><td>1</td></tr>\n",
       "\t<tr><td>chrY:56854224</td><td>chrY</td><td>56854224</td><td>15.7836</td><td>0</td><td>1</td><td>1</td><td>1</td></tr>\n",
       "\t<tr><td>chrY:56854321</td><td>chrY</td><td>56854321</td><td>51.6755</td><td>1</td><td>0</td><td>1</td><td>1</td></tr>\n",
       "\t<tr><td>chrY:56859727</td><td>chrY</td><td>56859727</td><td> 8.2480</td><td>1</td><td>1</td><td>0</td><td>0</td></tr>\n",
       "\t<tr><td>chrY:56859776</td><td>chrY</td><td>56859776</td><td> 8.1045</td><td>1</td><td>1</td><td>0</td><td>0</td></tr>\n",
       "\t<tr><td>chrY:56859862</td><td>chrY</td><td>56859862</td><td>65.3891</td><td>1</td><td>1</td><td>1</td><td>0</td></tr>\n",
       "\t<tr><td>chrY:56863083</td><td>chrY</td><td>56863083</td><td>19.9054</td><td>1</td><td>1</td><td>0</td><td>1</td></tr>\n",
       "\t<tr><td>chrY:56865621</td><td>chrY</td><td>56865621</td><td>11.9102</td><td>0</td><td>0</td><td>1</td><td>1</td></tr>\n",
       "\t<tr><td>chrY:56870918</td><td>chrY</td><td>56870918</td><td>51.5534</td><td>1</td><td>0</td><td>1</td><td>1</td></tr>\n",
       "\t<tr><td>chrY:56875693</td><td>chrY</td><td>56875693</td><td>25.4743</td><td>0</td><td>1</td><td>0</td><td>1</td></tr>\n",
       "\t<tr><td>chrY:56878776</td><td>chrY</td><td>56878776</td><td>19.5101</td><td>0</td><td>1</td><td>1</td><td>0</td></tr>\n",
       "</tbody>\n",
       "</table>\n"
      ],
      "text/latex": [
       "A data.table: 28785 × 8\n",
       "\\begin{tabular}{llllllll}\n",
       " variant & \\#CHROM & POS & QUAL & D0 & Q1 & Q2 & Q3\\\\\n",
       " <chr> & <chr> & <int> & <dbl> & <dbl> & <dbl> & <dbl> & <dbl>\\\\\n",
       "\\hline\n",
       "\t chr10:100239175 & chr10 & 100239175 & 60.7878 & 0 & 0 & 0 & 1\\\\\n",
       "\t chr10:100244609 & chr10 & 100244609 & 15.6850 & 1 & 1 & 1 & 1\\\\\n",
       "\t chr10:100274928 & chr10 & 100274928 & 87.1612 & 1 & 1 & 0 & 1\\\\\n",
       "\t chr10:100504513 & chr10 & 100504513 & 64.8268 & 1 & 1 & 1 & 1\\\\\n",
       "\t chr10:100554396 & chr10 & 100554396 & 65.9101 & 1 & 1 & 1 & 1\\\\\n",
       "\t chr10:100574852 & chr10 & 100574852 & 65.1676 & 1 & 1 & 1 & 1\\\\\n",
       "\t chr10:100588309 & chr10 & 100588309 & 54.9513 & 1 & 0 & 1 & 1\\\\\n",
       "\t chr10:100596807 & chr10 & 100596807 & 53.0938 & 1 & 1 & 1 & 0\\\\\n",
       "\t chr10:100646858 & chr10 & 100646858 & 65.1122 & 0 & 1 & 0 & 1\\\\\n",
       "\t chr10:100675329 & chr10 & 100675329 & 65.5558 & 0 & 0 & 0 & 1\\\\\n",
       "\t chr10:100792432 & chr10 & 100792432 & 14.4720 & 0 & 1 & 1 & 0\\\\\n",
       "\t chr10:100858628 & chr10 & 100858628 & 74.6138 & 1 & 1 & 0 & 1\\\\\n",
       "\t chr10:100902195 & chr10 & 100902195 & 53.6540 & 0 & 0 & 0 & 1\\\\\n",
       "\t chr10:100902927 & chr10 & 100902927 & 24.5068 & 0 & 1 & 1 & 1\\\\\n",
       "\t chr10:100922965 & chr10 & 100922965 & 77.8523 & 1 & 1 & 1 & 1\\\\\n",
       "\t chr10:101040036 & chr10 & 101040036 & 54.8807 & 0 & 1 & 1 & 1\\\\\n",
       "\t chr10:10114135  & chr10 &  10114135 & 27.0701 & 0 & 0 & 1 & 0\\\\\n",
       "\t chr10:101163098 & chr10 & 101163098 & 65.2319 & 1 & 1 & 1 & 1\\\\\n",
       "\t chr10:101225851 & chr10 & 101225851 & 14.8665 & 0 & 1 & 1 & 0\\\\\n",
       "\t chr10:101381258 & chr10 & 101381258 & 55.2149 & 0 & 0 & 1 & 0\\\\\n",
       "\t chr10:101390274 & chr10 & 101390274 & 64.1893 & 0 & 1 & 0 & 0\\\\\n",
       "\t chr10:101632483 & chr10 & 101632483 & 55.3211 & 0 & 0 & 1 & 0\\\\\n",
       "\t chr10:101972843 & chr10 & 101972843 & 64.9104 & 1 & 1 & 1 & 1\\\\\n",
       "\t chr10:101998750 & chr10 & 101998750 & 74.9922 & 1 & 1 & 0 & 1\\\\\n",
       "\t chr10:102012079 & chr10 & 102012079 & 63.5892 & 0 & 0 & 0 & 1\\\\\n",
       "\t chr10:102064379 & chr10 & 102064379 & 85.0931 & 1 & 1 & 0 & 1\\\\\n",
       "\t chr10:102147879 & chr10 & 102147879 & 65.6416 & 1 & 1 & 0 & 1\\\\\n",
       "\t chr10:102234841 & chr10 & 102234841 & 62.2372 & 1 & 1 & 0 & 1\\\\\n",
       "\t chr10:102395881 & chr10 & 102395881 & 65.3597 & 1 & 1 & 1 & 1\\\\\n",
       "\t chr10:102513229 & chr10 & 102513229 & 65.5178 & 0 & 0 & 0 & 1\\\\\n",
       "\t ⋮ & ⋮ & ⋮ & ⋮ & ⋮ & ⋮ & ⋮ & ⋮\\\\\n",
       "\t chrX:9809918  & chrX &  9809918 & 19.2055 & 1 & 0 & 1 & 1\\\\\n",
       "\t chrX:98978155 & chrX & 98978155 & 62.2910 & 0 & 0 & 1 & 0\\\\\n",
       "\t chrX:9946315  & chrX &  9946315 & 22.6427 & 0 & 1 & 1 & 0\\\\\n",
       "\t chrX:99861149 & chrX & 99861149 & 54.3583 & 0 & 0 & 1 & 0\\\\\n",
       "\t chrX:99994907 & chrX & 99994907 & 67.4903 & 0 & 0 & 1 & 1\\\\\n",
       "\t chrY:11107613 & chrY & 11107613 & 62.3616 & 0 & 1 & 0 & 1\\\\\n",
       "\t chrY:11107693 & chrY & 11107693 & 20.7997 & 0 & 1 & 0 & 1\\\\\n",
       "\t chrY:11111423 & chrY & 11111423 & 20.1378 & 0 & 1 & 1 & 1\\\\\n",
       "\t chrY:11334485 & chrY & 11334485 & 16.5177 & 0 & 0 & 1 & 1\\\\\n",
       "\t chrY:11359576 & chrY & 11359576 & 21.9624 & 0 & 1 & 1 & 0\\\\\n",
       "\t chrY:56824909 & chrY & 56824909 & 50.3217 & 1 & 1 & 0 & 0\\\\\n",
       "\t chrY:56824935 & chrY & 56824935 & 22.6362 & 0 & 1 & 1 & 0\\\\\n",
       "\t chrY:56845926 & chrY & 56845926 & 13.0684 & 1 & 0 & 1 & 0\\\\\n",
       "\t chrY:56846400 & chrY & 56846400 & 17.1930 & 1 & 0 & 1 & 0\\\\\n",
       "\t chrY:56848647 & chrY & 56848647 & 13.6918 & 1 & 0 & 1 & 0\\\\\n",
       "\t chrY:56851586 & chrY & 56851586 & 13.4641 & 0 & 1 & 1 & 1\\\\\n",
       "\t chrY:56853153 & chrY & 56853153 & 16.0565 & 0 & 0 & 1 & 1\\\\\n",
       "\t chrY:56853154 & chrY & 56853154 & 14.1522 & 0 & 1 & 1 & 1\\\\\n",
       "\t chrY:56853457 & chrY & 56853457 & 22.0914 & 0 & 0 & 1 & 1\\\\\n",
       "\t chrY:56853606 & chrY & 56853606 & 21.5156 & 0 & 0 & 1 & 1\\\\\n",
       "\t chrY:56854224 & chrY & 56854224 & 15.7836 & 0 & 1 & 1 & 1\\\\\n",
       "\t chrY:56854321 & chrY & 56854321 & 51.6755 & 1 & 0 & 1 & 1\\\\\n",
       "\t chrY:56859727 & chrY & 56859727 &  8.2480 & 1 & 1 & 0 & 0\\\\\n",
       "\t chrY:56859776 & chrY & 56859776 &  8.1045 & 1 & 1 & 0 & 0\\\\\n",
       "\t chrY:56859862 & chrY & 56859862 & 65.3891 & 1 & 1 & 1 & 0\\\\\n",
       "\t chrY:56863083 & chrY & 56863083 & 19.9054 & 1 & 1 & 0 & 1\\\\\n",
       "\t chrY:56865621 & chrY & 56865621 & 11.9102 & 0 & 0 & 1 & 1\\\\\n",
       "\t chrY:56870918 & chrY & 56870918 & 51.5534 & 1 & 0 & 1 & 1\\\\\n",
       "\t chrY:56875693 & chrY & 56875693 & 25.4743 & 0 & 1 & 0 & 1\\\\\n",
       "\t chrY:56878776 & chrY & 56878776 & 19.5101 & 0 & 1 & 1 & 0\\\\\n",
       "\\end{tabular}\n"
      ],
      "text/markdown": [
       "\n",
       "A data.table: 28785 × 8\n",
       "\n",
       "| variant &lt;chr&gt; | #CHROM &lt;chr&gt; | POS &lt;int&gt; | QUAL &lt;dbl&gt; | D0 &lt;dbl&gt; | Q1 &lt;dbl&gt; | Q2 &lt;dbl&gt; | Q3 &lt;dbl&gt; |\n",
       "|---|---|---|---|---|---|---|---|\n",
       "| chr10:100239175 | chr10 | 100239175 | 60.7878 | 0 | 0 | 0 | 1 |\n",
       "| chr10:100244609 | chr10 | 100244609 | 15.6850 | 1 | 1 | 1 | 1 |\n",
       "| chr10:100274928 | chr10 | 100274928 | 87.1612 | 1 | 1 | 0 | 1 |\n",
       "| chr10:100504513 | chr10 | 100504513 | 64.8268 | 1 | 1 | 1 | 1 |\n",
       "| chr10:100554396 | chr10 | 100554396 | 65.9101 | 1 | 1 | 1 | 1 |\n",
       "| chr10:100574852 | chr10 | 100574852 | 65.1676 | 1 | 1 | 1 | 1 |\n",
       "| chr10:100588309 | chr10 | 100588309 | 54.9513 | 1 | 0 | 1 | 1 |\n",
       "| chr10:100596807 | chr10 | 100596807 | 53.0938 | 1 | 1 | 1 | 0 |\n",
       "| chr10:100646858 | chr10 | 100646858 | 65.1122 | 0 | 1 | 0 | 1 |\n",
       "| chr10:100675329 | chr10 | 100675329 | 65.5558 | 0 | 0 | 0 | 1 |\n",
       "| chr10:100792432 | chr10 | 100792432 | 14.4720 | 0 | 1 | 1 | 0 |\n",
       "| chr10:100858628 | chr10 | 100858628 | 74.6138 | 1 | 1 | 0 | 1 |\n",
       "| chr10:100902195 | chr10 | 100902195 | 53.6540 | 0 | 0 | 0 | 1 |\n",
       "| chr10:100902927 | chr10 | 100902927 | 24.5068 | 0 | 1 | 1 | 1 |\n",
       "| chr10:100922965 | chr10 | 100922965 | 77.8523 | 1 | 1 | 1 | 1 |\n",
       "| chr10:101040036 | chr10 | 101040036 | 54.8807 | 0 | 1 | 1 | 1 |\n",
       "| chr10:10114135  | chr10 |  10114135 | 27.0701 | 0 | 0 | 1 | 0 |\n",
       "| chr10:101163098 | chr10 | 101163098 | 65.2319 | 1 | 1 | 1 | 1 |\n",
       "| chr10:101225851 | chr10 | 101225851 | 14.8665 | 0 | 1 | 1 | 0 |\n",
       "| chr10:101381258 | chr10 | 101381258 | 55.2149 | 0 | 0 | 1 | 0 |\n",
       "| chr10:101390274 | chr10 | 101390274 | 64.1893 | 0 | 1 | 0 | 0 |\n",
       "| chr10:101632483 | chr10 | 101632483 | 55.3211 | 0 | 0 | 1 | 0 |\n",
       "| chr10:101972843 | chr10 | 101972843 | 64.9104 | 1 | 1 | 1 | 1 |\n",
       "| chr10:101998750 | chr10 | 101998750 | 74.9922 | 1 | 1 | 0 | 1 |\n",
       "| chr10:102012079 | chr10 | 102012079 | 63.5892 | 0 | 0 | 0 | 1 |\n",
       "| chr10:102064379 | chr10 | 102064379 | 85.0931 | 1 | 1 | 0 | 1 |\n",
       "| chr10:102147879 | chr10 | 102147879 | 65.6416 | 1 | 1 | 0 | 1 |\n",
       "| chr10:102234841 | chr10 | 102234841 | 62.2372 | 1 | 1 | 0 | 1 |\n",
       "| chr10:102395881 | chr10 | 102395881 | 65.3597 | 1 | 1 | 1 | 1 |\n",
       "| chr10:102513229 | chr10 | 102513229 | 65.5178 | 0 | 0 | 0 | 1 |\n",
       "| ⋮ | ⋮ | ⋮ | ⋮ | ⋮ | ⋮ | ⋮ | ⋮ |\n",
       "| chrX:9809918  | chrX |  9809918 | 19.2055 | 1 | 0 | 1 | 1 |\n",
       "| chrX:98978155 | chrX | 98978155 | 62.2910 | 0 | 0 | 1 | 0 |\n",
       "| chrX:9946315  | chrX |  9946315 | 22.6427 | 0 | 1 | 1 | 0 |\n",
       "| chrX:99861149 | chrX | 99861149 | 54.3583 | 0 | 0 | 1 | 0 |\n",
       "| chrX:99994907 | chrX | 99994907 | 67.4903 | 0 | 0 | 1 | 1 |\n",
       "| chrY:11107613 | chrY | 11107613 | 62.3616 | 0 | 1 | 0 | 1 |\n",
       "| chrY:11107693 | chrY | 11107693 | 20.7997 | 0 | 1 | 0 | 1 |\n",
       "| chrY:11111423 | chrY | 11111423 | 20.1378 | 0 | 1 | 1 | 1 |\n",
       "| chrY:11334485 | chrY | 11334485 | 16.5177 | 0 | 0 | 1 | 1 |\n",
       "| chrY:11359576 | chrY | 11359576 | 21.9624 | 0 | 1 | 1 | 0 |\n",
       "| chrY:56824909 | chrY | 56824909 | 50.3217 | 1 | 1 | 0 | 0 |\n",
       "| chrY:56824935 | chrY | 56824935 | 22.6362 | 0 | 1 | 1 | 0 |\n",
       "| chrY:56845926 | chrY | 56845926 | 13.0684 | 1 | 0 | 1 | 0 |\n",
       "| chrY:56846400 | chrY | 56846400 | 17.1930 | 1 | 0 | 1 | 0 |\n",
       "| chrY:56848647 | chrY | 56848647 | 13.6918 | 1 | 0 | 1 | 0 |\n",
       "| chrY:56851586 | chrY | 56851586 | 13.4641 | 0 | 1 | 1 | 1 |\n",
       "| chrY:56853153 | chrY | 56853153 | 16.0565 | 0 | 0 | 1 | 1 |\n",
       "| chrY:56853154 | chrY | 56853154 | 14.1522 | 0 | 1 | 1 | 1 |\n",
       "| chrY:56853457 | chrY | 56853457 | 22.0914 | 0 | 0 | 1 | 1 |\n",
       "| chrY:56853606 | chrY | 56853606 | 21.5156 | 0 | 0 | 1 | 1 |\n",
       "| chrY:56854224 | chrY | 56854224 | 15.7836 | 0 | 1 | 1 | 1 |\n",
       "| chrY:56854321 | chrY | 56854321 | 51.6755 | 1 | 0 | 1 | 1 |\n",
       "| chrY:56859727 | chrY | 56859727 |  8.2480 | 1 | 1 | 0 | 0 |\n",
       "| chrY:56859776 | chrY | 56859776 |  8.1045 | 1 | 1 | 0 | 0 |\n",
       "| chrY:56859862 | chrY | 56859862 | 65.3891 | 1 | 1 | 1 | 0 |\n",
       "| chrY:56863083 | chrY | 56863083 | 19.9054 | 1 | 1 | 0 | 1 |\n",
       "| chrY:56865621 | chrY | 56865621 | 11.9102 | 0 | 0 | 1 | 1 |\n",
       "| chrY:56870918 | chrY | 56870918 | 51.5534 | 1 | 0 | 1 | 1 |\n",
       "| chrY:56875693 | chrY | 56875693 | 25.4743 | 0 | 1 | 0 | 1 |\n",
       "| chrY:56878776 | chrY | 56878776 | 19.5101 | 0 | 1 | 1 | 0 |\n",
       "\n"
      ],
      "text/plain": [
       "      variant         #CHROM POS       QUAL    D0 Q1 Q2 Q3\n",
       "1     chr10:100239175 chr10  100239175 60.7878 0  0  0  1 \n",
       "2     chr10:100244609 chr10  100244609 15.6850 1  1  1  1 \n",
       "3     chr10:100274928 chr10  100274928 87.1612 1  1  0  1 \n",
       "4     chr10:100504513 chr10  100504513 64.8268 1  1  1  1 \n",
       "5     chr10:100554396 chr10  100554396 65.9101 1  1  1  1 \n",
       "6     chr10:100574852 chr10  100574852 65.1676 1  1  1  1 \n",
       "7     chr10:100588309 chr10  100588309 54.9513 1  0  1  1 \n",
       "8     chr10:100596807 chr10  100596807 53.0938 1  1  1  0 \n",
       "9     chr10:100646858 chr10  100646858 65.1122 0  1  0  1 \n",
       "10    chr10:100675329 chr10  100675329 65.5558 0  0  0  1 \n",
       "11    chr10:100792432 chr10  100792432 14.4720 0  1  1  0 \n",
       "12    chr10:100858628 chr10  100858628 74.6138 1  1  0  1 \n",
       "13    chr10:100902195 chr10  100902195 53.6540 0  0  0  1 \n",
       "14    chr10:100902927 chr10  100902927 24.5068 0  1  1  1 \n",
       "15    chr10:100922965 chr10  100922965 77.8523 1  1  1  1 \n",
       "16    chr10:101040036 chr10  101040036 54.8807 0  1  1  1 \n",
       "17    chr10:10114135  chr10   10114135 27.0701 0  0  1  0 \n",
       "18    chr10:101163098 chr10  101163098 65.2319 1  1  1  1 \n",
       "19    chr10:101225851 chr10  101225851 14.8665 0  1  1  0 \n",
       "20    chr10:101381258 chr10  101381258 55.2149 0  0  1  0 \n",
       "21    chr10:101390274 chr10  101390274 64.1893 0  1  0  0 \n",
       "22    chr10:101632483 chr10  101632483 55.3211 0  0  1  0 \n",
       "23    chr10:101972843 chr10  101972843 64.9104 1  1  1  1 \n",
       "24    chr10:101998750 chr10  101998750 74.9922 1  1  0  1 \n",
       "25    chr10:102012079 chr10  102012079 63.5892 0  0  0  1 \n",
       "26    chr10:102064379 chr10  102064379 85.0931 1  1  0  1 \n",
       "27    chr10:102147879 chr10  102147879 65.6416 1  1  0  1 \n",
       "28    chr10:102234841 chr10  102234841 62.2372 1  1  0  1 \n",
       "29    chr10:102395881 chr10  102395881 65.3597 1  1  1  1 \n",
       "30    chr10:102513229 chr10  102513229 65.5178 0  0  0  1 \n",
       "⋮     ⋮               ⋮      ⋮         ⋮       ⋮  ⋮  ⋮  ⋮ \n",
       "28756 chrX:9809918    chrX    9809918  19.2055 1  0  1  1 \n",
       "28757 chrX:98978155   chrX   98978155  62.2910 0  0  1  0 \n",
       "28758 chrX:9946315    chrX    9946315  22.6427 0  1  1  0 \n",
       "28759 chrX:99861149   chrX   99861149  54.3583 0  0  1  0 \n",
       "28760 chrX:99994907   chrX   99994907  67.4903 0  0  1  1 \n",
       "28761 chrY:11107613   chrY   11107613  62.3616 0  1  0  1 \n",
       "28762 chrY:11107693   chrY   11107693  20.7997 0  1  0  1 \n",
       "28763 chrY:11111423   chrY   11111423  20.1378 0  1  1  1 \n",
       "28764 chrY:11334485   chrY   11334485  16.5177 0  0  1  1 \n",
       "28765 chrY:11359576   chrY   11359576  21.9624 0  1  1  0 \n",
       "28766 chrY:56824909   chrY   56824909  50.3217 1  1  0  0 \n",
       "28767 chrY:56824935   chrY   56824935  22.6362 0  1  1  0 \n",
       "28768 chrY:56845926   chrY   56845926  13.0684 1  0  1  0 \n",
       "28769 chrY:56846400   chrY   56846400  17.1930 1  0  1  0 \n",
       "28770 chrY:56848647   chrY   56848647  13.6918 1  0  1  0 \n",
       "28771 chrY:56851586   chrY   56851586  13.4641 0  1  1  1 \n",
       "28772 chrY:56853153   chrY   56853153  16.0565 0  0  1  1 \n",
       "28773 chrY:56853154   chrY   56853154  14.1522 0  1  1  1 \n",
       "28774 chrY:56853457   chrY   56853457  22.0914 0  0  1  1 \n",
       "28775 chrY:56853606   chrY   56853606  21.5156 0  0  1  1 \n",
       "28776 chrY:56854224   chrY   56854224  15.7836 0  1  1  1 \n",
       "28777 chrY:56854321   chrY   56854321  51.6755 1  0  1  1 \n",
       "28778 chrY:56859727   chrY   56859727   8.2480 1  1  0  0 \n",
       "28779 chrY:56859776   chrY   56859776   8.1045 1  1  0  0 \n",
       "28780 chrY:56859862   chrY   56859862  65.3891 1  1  1  0 \n",
       "28781 chrY:56863083   chrY   56863083  19.9054 1  1  0  1 \n",
       "28782 chrY:56865621   chrY   56865621  11.9102 0  0  1  1 \n",
       "28783 chrY:56870918   chrY   56870918  51.5534 1  0  1  1 \n",
       "28784 chrY:56875693   chrY   56875693  25.4743 0  1  0  1 \n",
       "28785 chrY:56878776   chrY   56878776  19.5101 0  1  1  0 "
      ]
     },
     "metadata": {},
     "output_type": "display_data"
    }
   ],
   "source": [
    "df_wide "
   ]
  },
  {
   "cell_type": "code",
   "execution_count": 18,
   "metadata": {
    "vscode": {
     "languageId": "r"
    }
   },
   "outputs": [],
   "source": [
    "list_variants = c(\"chr13:28028203\",\"chr12:28028203\",\"chr12:25245347\",\"chr12:25225628\",\"chr12:112450406\",\"chr12:112450395\",\"chr4:112450395\",\"chr4:1961074\",\"chr1:1961074\",\"chr1:114716123\",\"chr1:114716126\",\"chr16:28936152\",\"chr16:28935555\",\"chr16:28935556\")"
   ]
  },
  {
   "cell_type": "code",
   "execution_count": 19,
   "metadata": {
    "vscode": {
     "languageId": "r"
    }
   },
   "outputs": [
    {
     "data": {
      "text/html": [
       "<table class=\"dataframe\">\n",
       "<caption>A data.table: 5 × 8</caption>\n",
       "<thead>\n",
       "\t<tr><th scope=col>variant</th><th scope=col>#CHROM</th><th scope=col>POS</th><th scope=col>QUAL</th><th scope=col>D0</th><th scope=col>Q1</th><th scope=col>Q2</th><th scope=col>Q3</th></tr>\n",
       "\t<tr><th scope=col>&lt;chr&gt;</th><th scope=col>&lt;chr&gt;</th><th scope=col>&lt;int&gt;</th><th scope=col>&lt;dbl&gt;</th><th scope=col>&lt;dbl&gt;</th><th scope=col>&lt;dbl&gt;</th><th scope=col>&lt;dbl&gt;</th><th scope=col>&lt;dbl&gt;</th></tr>\n",
       "</thead>\n",
       "<tbody>\n",
       "\t<tr><td>chr12:112450395</td><td>chr12</td><td>112450395</td><td>62.4684</td><td>1</td><td>1</td><td>1</td><td>1</td></tr>\n",
       "\t<tr><td>chr12:25245347 </td><td>chr12</td><td> 25245347</td><td>52.7211</td><td>0</td><td>1</td><td>1</td><td>1</td></tr>\n",
       "\t<tr><td>chr16:28935556 </td><td>chr16</td><td> 28935556</td><td>55.9252</td><td>0</td><td>0</td><td>0</td><td>1</td></tr>\n",
       "\t<tr><td>chr16:28936152 </td><td>chr16</td><td> 28936152</td><td>25.8363</td><td>0</td><td>0</td><td>0</td><td>1</td></tr>\n",
       "\t<tr><td>chr4:1961074   </td><td>chr4 </td><td>  1961074</td><td>21.6985</td><td>1</td><td>1</td><td>1</td><td>1</td></tr>\n",
       "</tbody>\n",
       "</table>\n"
      ],
      "text/latex": [
       "A data.table: 5 × 8\n",
       "\\begin{tabular}{llllllll}\n",
       " variant & \\#CHROM & POS & QUAL & D0 & Q1 & Q2 & Q3\\\\\n",
       " <chr> & <chr> & <int> & <dbl> & <dbl> & <dbl> & <dbl> & <dbl>\\\\\n",
       "\\hline\n",
       "\t chr12:112450395 & chr12 & 112450395 & 62.4684 & 1 & 1 & 1 & 1\\\\\n",
       "\t chr12:25245347  & chr12 &  25245347 & 52.7211 & 0 & 1 & 1 & 1\\\\\n",
       "\t chr16:28935556  & chr16 &  28935556 & 55.9252 & 0 & 0 & 0 & 1\\\\\n",
       "\t chr16:28936152  & chr16 &  28936152 & 25.8363 & 0 & 0 & 0 & 1\\\\\n",
       "\t chr4:1961074    & chr4  &   1961074 & 21.6985 & 1 & 1 & 1 & 1\\\\\n",
       "\\end{tabular}\n"
      ],
      "text/markdown": [
       "\n",
       "A data.table: 5 × 8\n",
       "\n",
       "| variant &lt;chr&gt; | #CHROM &lt;chr&gt; | POS &lt;int&gt; | QUAL &lt;dbl&gt; | D0 &lt;dbl&gt; | Q1 &lt;dbl&gt; | Q2 &lt;dbl&gt; | Q3 &lt;dbl&gt; |\n",
       "|---|---|---|---|---|---|---|---|\n",
       "| chr12:112450395 | chr12 | 112450395 | 62.4684 | 1 | 1 | 1 | 1 |\n",
       "| chr12:25245347  | chr12 |  25245347 | 52.7211 | 0 | 1 | 1 | 1 |\n",
       "| chr16:28935556  | chr16 |  28935556 | 55.9252 | 0 | 0 | 0 | 1 |\n",
       "| chr16:28936152  | chr16 |  28936152 | 25.8363 | 0 | 0 | 0 | 1 |\n",
       "| chr4:1961074    | chr4  |   1961074 | 21.6985 | 1 | 1 | 1 | 1 |\n",
       "\n"
      ],
      "text/plain": [
       "  variant         #CHROM POS       QUAL    D0 Q1 Q2 Q3\n",
       "1 chr12:112450395 chr12  112450395 62.4684 1  1  1  1 \n",
       "2 chr12:25245347  chr12   25245347 52.7211 0  1  1  1 \n",
       "3 chr16:28935556  chr16   28935556 55.9252 0  0  0  1 \n",
       "4 chr16:28936152  chr16   28936152 25.8363 0  0  0  1 \n",
       "5 chr4:1961074    chr4     1961074 21.6985 1  1  1  1 "
      ]
     },
     "metadata": {},
     "output_type": "display_data"
    }
   ],
   "source": [
    "CD19 <- df_wide[df_wide$variant %in% list_variants, ]\n",
    "CD19"
   ]
  },
  {
   "cell_type": "code",
   "execution_count": 20,
   "metadata": {
    "vscode": {
     "languageId": "r"
    }
   },
   "outputs": [],
   "source": [
    "# Collapse duplicates per variant\n",
    "sample_cols <- c(\"D0\", \"Q1\", \"Q2\", \"Q3\")\n",
    "\n",
    "dt <- as.data.table(df_wide)  # assuming your table is called df_wide\n",
    "\n",
    "# Collapse by variant using max\n",
    "dt_unique <- dt[, lapply(.SD, max), by = variant, .SDcols = sample_cols]\n",
    "\n",
    "# Add total presence\n",
    "dt_unique[, total := rowSums(.SD), .SDcols = sample_cols]\n",
    "\n",
    "# Initialize list\n",
    "upset_data <- list()\n",
    "\n",
    "# Unique variants per sample\n",
    "for (s in sample_cols) {\n",
    "  upset_data[[s]] <- dt_unique[get(s) == 1 & total == 1, .N]\n",
    "}\n",
    "\n",
    "# Combinations of samples\n",
    "for (i in 2:length(sample_cols)) {\n",
    "  combs <- combn(sample_cols, i, simplify = FALSE)\n",
    "  for (c in combs) {\n",
    "    combo_name <- paste(c, collapse = \"&\")\n",
    "    sub_dt <- dt_unique[, ..c]\n",
    "    count <- sum(rowSums(sub_dt == 1) == i & dt_unique$total == i)\n",
    "    upset_data[[combo_name]] <- count\n",
    "  }\n",
    "}\n",
    "\n",
    "# Build data.frame\n",
    "upset_df <- data.frame(\n",
    "  set_name = names(upset_data),\n",
    "  count = unlist(upset_data),\n",
    "  stringsAsFactors = FALSE\n",
    ")"
   ]
  },
  {
   "cell_type": "code",
   "execution_count": 21,
   "metadata": {
    "vscode": {
     "languageId": "r"
    }
   },
   "outputs": [
    {
     "data": {
      "text/html": [
       "<table class=\"dataframe\">\n",
       "<caption>A data.frame: 15 × 2</caption>\n",
       "<thead>\n",
       "\t<tr><th></th><th scope=col>set_name</th><th scope=col>count</th></tr>\n",
       "\t<tr><th></th><th scope=col>&lt;chr&gt;</th><th scope=col>&lt;int&gt;</th></tr>\n",
       "</thead>\n",
       "<tbody>\n",
       "\t<tr><th scope=row>D0</th><td>D0         </td><td>1419</td></tr>\n",
       "\t<tr><th scope=row>Q1</th><td>Q1         </td><td>1185</td></tr>\n",
       "\t<tr><th scope=row>Q2</th><td>Q2         </td><td>3183</td></tr>\n",
       "\t<tr><th scope=row>Q3</th><td>Q3         </td><td>2485</td></tr>\n",
       "\t<tr><th scope=row>D0&amp;Q1</th><td><span style=white-space:pre-wrap>D0&amp;Q1      </span></td><td> 857</td></tr>\n",
       "\t<tr><th scope=row>D0&amp;Q2</th><td><span style=white-space:pre-wrap>D0&amp;Q2      </span></td><td> 892</td></tr>\n",
       "\t<tr><th scope=row>D0&amp;Q3</th><td><span style=white-space:pre-wrap>D0&amp;Q3      </span></td><td> 849</td></tr>\n",
       "\t<tr><th scope=row>Q1&amp;Q2</th><td><span style=white-space:pre-wrap>Q1&amp;Q2      </span></td><td>1679</td></tr>\n",
       "\t<tr><th scope=row>Q1&amp;Q3</th><td><span style=white-space:pre-wrap>Q1&amp;Q3      </span></td><td>1266</td></tr>\n",
       "\t<tr><th scope=row>Q2&amp;Q3</th><td><span style=white-space:pre-wrap>Q2&amp;Q3      </span></td><td>2636</td></tr>\n",
       "\t<tr><th scope=row>D0&amp;Q1&amp;Q2</th><td><span style=white-space:pre-wrap>D0&amp;Q1&amp;Q2   </span></td><td> 647</td></tr>\n",
       "\t<tr><th scope=row>D0&amp;Q1&amp;Q3</th><td><span style=white-space:pre-wrap>D0&amp;Q1&amp;Q3   </span></td><td>3591</td></tr>\n",
       "\t<tr><th scope=row>D0&amp;Q2&amp;Q3</th><td><span style=white-space:pre-wrap>D0&amp;Q2&amp;Q3   </span></td><td> 760</td></tr>\n",
       "\t<tr><th scope=row>Q1&amp;Q2&amp;Q3</th><td><span style=white-space:pre-wrap>Q1&amp;Q2&amp;Q3   </span></td><td>1922</td></tr>\n",
       "\t<tr><th scope=row>D0&amp;Q1&amp;Q2&amp;Q3</th><td>D0&amp;Q1&amp;Q2&amp;Q3</td><td>5414</td></tr>\n",
       "</tbody>\n",
       "</table>\n"
      ],
      "text/latex": [
       "A data.frame: 15 × 2\n",
       "\\begin{tabular}{r|ll}\n",
       "  & set\\_name & count\\\\\n",
       "  & <chr> & <int>\\\\\n",
       "\\hline\n",
       "\tD0 & D0          & 1419\\\\\n",
       "\tQ1 & Q1          & 1185\\\\\n",
       "\tQ2 & Q2          & 3183\\\\\n",
       "\tQ3 & Q3          & 2485\\\\\n",
       "\tD0\\&Q1 & D0\\&Q1       &  857\\\\\n",
       "\tD0\\&Q2 & D0\\&Q2       &  892\\\\\n",
       "\tD0\\&Q3 & D0\\&Q3       &  849\\\\\n",
       "\tQ1\\&Q2 & Q1\\&Q2       & 1679\\\\\n",
       "\tQ1\\&Q3 & Q1\\&Q3       & 1266\\\\\n",
       "\tQ2\\&Q3 & Q2\\&Q3       & 2636\\\\\n",
       "\tD0\\&Q1\\&Q2 & D0\\&Q1\\&Q2    &  647\\\\\n",
       "\tD0\\&Q1\\&Q3 & D0\\&Q1\\&Q3    & 3591\\\\\n",
       "\tD0\\&Q2\\&Q3 & D0\\&Q2\\&Q3    &  760\\\\\n",
       "\tQ1\\&Q2\\&Q3 & Q1\\&Q2\\&Q3    & 1922\\\\\n",
       "\tD0\\&Q1\\&Q2\\&Q3 & D0\\&Q1\\&Q2\\&Q3 & 5414\\\\\n",
       "\\end{tabular}\n"
      ],
      "text/markdown": [
       "\n",
       "A data.frame: 15 × 2\n",
       "\n",
       "| <!--/--> | set_name &lt;chr&gt; | count &lt;int&gt; |\n",
       "|---|---|---|\n",
       "| D0 | D0          | 1419 |\n",
       "| Q1 | Q1          | 1185 |\n",
       "| Q2 | Q2          | 3183 |\n",
       "| Q3 | Q3          | 2485 |\n",
       "| D0&amp;Q1 | D0&amp;Q1       |  857 |\n",
       "| D0&amp;Q2 | D0&amp;Q2       |  892 |\n",
       "| D0&amp;Q3 | D0&amp;Q3       |  849 |\n",
       "| Q1&amp;Q2 | Q1&amp;Q2       | 1679 |\n",
       "| Q1&amp;Q3 | Q1&amp;Q3       | 1266 |\n",
       "| Q2&amp;Q3 | Q2&amp;Q3       | 2636 |\n",
       "| D0&amp;Q1&amp;Q2 | D0&amp;Q1&amp;Q2    |  647 |\n",
       "| D0&amp;Q1&amp;Q3 | D0&amp;Q1&amp;Q3    | 3591 |\n",
       "| D0&amp;Q2&amp;Q3 | D0&amp;Q2&amp;Q3    |  760 |\n",
       "| Q1&amp;Q2&amp;Q3 | Q1&amp;Q2&amp;Q3    | 1922 |\n",
       "| D0&amp;Q1&amp;Q2&amp;Q3 | D0&amp;Q1&amp;Q2&amp;Q3 | 5414 |\n",
       "\n"
      ],
      "text/plain": [
       "            set_name    count\n",
       "D0          D0          1419 \n",
       "Q1          Q1          1185 \n",
       "Q2          Q2          3183 \n",
       "Q3          Q3          2485 \n",
       "D0&Q1       D0&Q1        857 \n",
       "D0&Q2       D0&Q2        892 \n",
       "D0&Q3       D0&Q3        849 \n",
       "Q1&Q2       Q1&Q2       1679 \n",
       "Q1&Q3       Q1&Q3       1266 \n",
       "Q2&Q3       Q2&Q3       2636 \n",
       "D0&Q1&Q2    D0&Q1&Q2     647 \n",
       "D0&Q1&Q3    D0&Q1&Q3    3591 \n",
       "D0&Q2&Q3    D0&Q2&Q3     760 \n",
       "Q1&Q2&Q3    Q1&Q2&Q3    1922 \n",
       "D0&Q1&Q2&Q3 D0&Q1&Q2&Q3 5414 "
      ]
     },
     "metadata": {},
     "output_type": "display_data"
    }
   ],
   "source": [
    "upset_df"
   ]
  },
  {
   "cell_type": "code",
   "execution_count": 22,
   "metadata": {
    "vscode": {
     "languageId": "r"
    }
   },
   "outputs": [],
   "source": [
    "input <- setNames(upset_df$count, upset_df$set_name)"
   ]
  },
  {
   "cell_type": "code",
   "execution_count": 26,
   "metadata": {
    "vscode": {
     "languageId": "r"
    }
   },
   "outputs": [
    {
     "data": {
      "image/png": "[encoded data removed]",
      "text/plain": [
       "plot without title"
      ]
     },
     "metadata": {
      "image/png": {
       "height": 420,
       "width": 420
      }
     },
     "output_type": "display_data"
    }
   ],
   "source": [
    "upset(fromExpression(input), \n",
    "      nintersects = 40,  # Show top 40 intersections\n",
    "      nsets = 6,  # Show 6 sample sets in the plot\n",
    "      order.by = \"freq\",  # Order intersections by frequency (most common first)\n",
    "      decreasing = T,  # Show largest groups first\n",
    "      mb.ratio = c(0.6, 0.4),  # Adjust plot ratio (Main bars vs Matrix plot)\n",
    "      number.angles = 0,  # Keep intersection size labels horizontal\n",
    "      text.scale = 0.8,  # Increase text size\n",
    "      point.size = 2.8,  # Adjust dot size in the matrix\n",
    "      line.size = 1  # Adjust connecting line size\n",
    ")\n"
   ]
  },
  {
   "cell_type": "code",
   "execution_count": 38,
   "metadata": {
    "vscode": {
     "languageId": "r"
    }
   },
   "outputs": [],
   "source": [
    "setwd(\"/staging/leuven/stg_00096/home/projects/2023_Cools_B-ALL/FINAL_DNA_ANALYSIS/new_Variant_calling/\")"
   ]
  },
  {
   "cell_type": "code",
   "execution_count": 39,
   "metadata": {
    "vscode": {
     "languageId": "r"
    }
   },
   "outputs": [
    {
     "data": {
      "text/html": [
       "<strong>pdf:</strong> 2"
      ],
      "text/latex": [
       "\\textbf{pdf:} 2"
      ],
      "text/markdown": [
       "**pdf:** 2"
      ],
      "text/plain": [
       "pdf \n",
       "  2 "
      ]
     },
     "metadata": {},
     "output_type": "display_data"
    }
   ],
   "source": [
    "# Save to PDF\n",
    "pdf(\"upset_plot_snv.pdf\", width = 10, height = 6)\n",
    "\n",
    "upset(fromExpression(input), \n",
    "      nintersects = 40,      # Show top 40 intersections\n",
    "      nsets = 6,             # Show 6 sample sets in the plot\n",
    "      order.by = \"freq\",     # Order intersections by frequency (most common first)\n",
    "      decreasing = TRUE,     # Show largest groups first\n",
    "      mb.ratio = c(0.6, 0.4),# Adjust plot ratio\n",
    "      number.angles = 0,     # Horizontal labels\n",
    "      text.scale = 0.8,      # Text size\n",
    "      point.size = 2.8,      # Dot size\n",
    "      line.size = 1          # Line size\n",
    ")\n",
    "\n",
    "dev.off()"
   ]
  },
  {
   "cell_type": "markdown",
   "metadata": {},
   "source": [
    "Write a loci.txt -> switch depending on the sample you want and re-run this next part again for each sample:"
   ]
  },
  {
   "cell_type": "code",
   "execution_count": 40,
   "metadata": {
    "vscode": {
     "languageId": "r"
    }
   },
   "outputs": [],
   "source": [
    "sample <- \"Q3\""
   ]
  },
  {
   "cell_type": "code",
   "execution_count": null,
   "metadata": {
    "vscode": {
     "languageId": "r"
    }
   },
   "outputs": [
    {
     "data": {
      "text/html": [
       "<table class=\"dataframe\">\n",
       "<caption>A data.table: 594677 × 20</caption>\n",
       "<thead>\n",
       "\t<tr><th scope=col>#CHROM</th><th scope=col>POS</th><th scope=col>ID</th><th scope=col>REF</th><th scope=col>ALT</th><th scope=col>QUAL</th><th scope=col>FILTER</th><th scope=col>INFO</th><th scope=col>FORMAT</th><th scope=col>Q3</th><th scope=col>GT</th><th scope=col>GQ</th><th scope=col>DP</th><th scope=col>AF</th><th scope=col>AD</th><th scope=col>AU</th><th scope=col>CU</th><th scope=col>GU</th><th scope=col>TU</th><th scope=col>timepoint</th></tr>\n",
       "\t<tr><th scope=col>&lt;chr&gt;</th><th scope=col>&lt;int&gt;</th><th scope=col>&lt;chr&gt;</th><th scope=col>&lt;chr&gt;</th><th scope=col>&lt;chr&gt;</th><th scope=col>&lt;dbl&gt;</th><th scope=col>&lt;chr&gt;</th><th scope=col>&lt;chr&gt;</th><th scope=col>&lt;chr&gt;</th><th scope=col>&lt;chr&gt;</th><th scope=col>&lt;chr&gt;</th><th scope=col>&lt;chr&gt;</th><th scope=col>&lt;chr&gt;</th><th scope=col>&lt;chr&gt;</th><th scope=col>&lt;chr&gt;</th><th scope=col>&lt;chr&gt;</th><th scope=col>&lt;chr&gt;</th><th scope=col>&lt;chr&gt;</th><th scope=col>&lt;chr&gt;</th><th scope=col>&lt;chr&gt;</th></tr>\n",
       "</thead>\n",
       "<tbody>\n",
       "\t<tr><td>chr1</td><td> 58952</td><td>.</td><td>A</td><td>G</td><td>14.6705</td><td>PASS</td><td>FAU=5;FCU=0;FGU=2;FTU=0;RAU=8;RCU=0;RGU=2;RTU=0;SB=1.0        </td><td>GT:GQ:DP:AF:AD:AU:CU:GU:TU</td><td>0/1:14:17:0.2353:13,4:13:0:4:0</td><td>0/1</td><td>14</td><td>17</td><td>0.2353</td><td>13,4</td><td>13</td><td>0 </td><td>4 </td><td>0 </td><td>Q3</td></tr>\n",
       "\t<tr><td>chr1</td><td> 60541</td><td>.</td><td>A</td><td>G</td><td>10.0087</td><td>PASS</td><td>H;FAU=5;FCU=0;FGU=1;FTU=0;RAU=9;RCU=0;RGU=2;RTU=0;SB=1.0      </td><td>GT:GQ:DP:AF:AD:AU:CU:GU:TU</td><td>0/1:10:17:0.1765:14,3:14:0:3:0</td><td>0/1</td><td>10</td><td>17</td><td>0.1765</td><td>14,3</td><td>14</td><td>0 </td><td>3 </td><td>0 </td><td>Q3</td></tr>\n",
       "\t<tr><td>chr1</td><td> 62304</td><td>.</td><td>T</td><td>C</td><td>17.2842</td><td>PASS</td><td>H;FAU=0;FCU=2;FGU=0;FTU=7;RAU=0;RCU=1;RGU=0;RTU=5;SB=1.0      </td><td>GT:GQ:DP:AF:AD:AU:CU:GU:TU</td><td>0/1:17:15:0.2000:12,3:0:3:0:12</td><td>0/1</td><td>17</td><td>15</td><td>0.2000</td><td>12,3</td><td>0 </td><td>3 </td><td>0 </td><td>12</td><td>Q3</td></tr>\n",
       "\t<tr><td>chr1</td><td>128957</td><td>.</td><td>T</td><td>C</td><td>22.4832</td><td>PASS</td><td>H;FAU=0;FCU=2;FGU=0;FTU=8;RAU=0;RCU=3;RGU=0;RTU=10;SB=1.0     </td><td>GT:GQ:DP:AF:AD:AU:CU:GU:TU</td><td>0/1:22:23:0.2174:18,5:0:5:0:18</td><td>0/1</td><td>22</td><td>23</td><td>0.2174</td><td>18,5</td><td>0 </td><td>5 </td><td>0 </td><td>18</td><td>Q3</td></tr>\n",
       "\t<tr><td>chr1</td><td>131184</td><td>.</td><td>T</td><td>C</td><td>10.7616</td><td>PASS</td><td>H;FAU=0;FCU=2;FGU=0;FTU=6;RAU=0;RCU=3;RGU=0;RTU=7;SB=1.0      </td><td>GT:GQ:DP:AF:AD:AU:CU:GU:TU</td><td>0/1:10:18:0.2778:13,5:0:5:0:13</td><td>0/1</td><td>10</td><td>18</td><td>0.2778</td><td>13,5</td><td>0 </td><td>5 </td><td>0 </td><td>13</td><td>Q3</td></tr>\n",
       "\t<tr><td>chr1</td><td>131817</td><td>.</td><td>A</td><td>G</td><td> 8.1306</td><td>PASS</td><td>H;FAU=7;FCU=0;FGU=2;FTU=0;RAU=7;RCU=0;RGU=2;RTU=0;SB=1.0      </td><td>GT:GQ:DP:AF:AD:AU:CU:GU:TU</td><td>0/1:8:18:0.2222:14,4:14:0:4:0 </td><td>0/1</td><td>8 </td><td>18</td><td>0.2222</td><td>14,4</td><td>14</td><td>0 </td><td>4 </td><td>0 </td><td>Q3</td></tr>\n",
       "\t<tr><td>chr1</td><td>289127</td><td>.</td><td>G</td><td>A</td><td>14.2460</td><td>PASS</td><td>H;FAU=2;FCU=0;FGU=12;FTU=0;RAU=1;RCU=0;RGU=5;RTU=0;SB=1.0     </td><td>GT:GQ:DP:AF:AD:AU:CU:GU:TU</td><td>0/1:14:20:0.1500:17,3:3:0:17:0</td><td>0/1</td><td>14</td><td>20</td><td>0.1500</td><td>17,3</td><td>3 </td><td>0 </td><td>17</td><td>0 </td><td>Q3</td></tr>\n",
       "\t<tr><td>chr1</td><td>289745</td><td>.</td><td>T</td><td>C</td><td> 9.1576</td><td>PASS</td><td>H;FAU=0;FCU=2;FGU=0;FTU=18;RAU=0;RCU=1;RGU=0;RTU=8;SB=1.0     </td><td>GT:GQ:DP:AF:AD:AU:CU:GU:TU</td><td>0/1:9:29:0.1034:26,3:0:3:0:26 </td><td>0/1</td><td>9 </td><td>29</td><td>0.1034</td><td>26,3</td><td>0 </td><td>3 </td><td>0 </td><td>26</td><td>Q3</td></tr>\n",
       "\t<tr><td>chr1</td><td>617409</td><td>.</td><td>A</td><td>C</td><td>20.6958</td><td>PASS</td><td>FAU=0;FCU=6;FGU=0;FTU=0;RAU=0;RCU=8;RGU=0;RTU=0;SB=1.0        </td><td>GT:GQ:DP:AF:AD:AU:CU:GU:TU</td><td>1/1:20:14:1.0000:0,14:0:14:0:0</td><td>1/1</td><td>20</td><td>14</td><td>1.0000</td><td>0,14</td><td>0 </td><td>14</td><td>0 </td><td>0 </td><td>Q3</td></tr>\n",
       "\t<tr><td>chr1</td><td>638954</td><td>.</td><td>A</td><td>G</td><td>53.8897</td><td>PASS</td><td>FAU=8;FCU=0;FGU=1;FTU=0;RAU=11;RCU=0;RGU=2;RTU=0;SB=1.0       </td><td>GT:GQ:DP:AF:AD:AU:CU:GU:TU</td><td>0/1:53:22:0.1364:19,3:19:0:3:0</td><td>0/1</td><td>53</td><td>22</td><td>0.1364</td><td>19,3</td><td>19</td><td>0 </td><td>3 </td><td>0 </td><td>Q3</td></tr>\n",
       "\t<tr><td>chr1</td><td>643353</td><td>.</td><td>A</td><td>G</td><td> 8.9180</td><td>PASS</td><td>H;FAU=4;FCU=0;FGU=2;FTU=0;RAU=8;RCU=0;RGU=2;RTU=0;SB=0.58403  </td><td>GT:GQ:DP:AF:AD:AU:CU:GU:TU</td><td>0/1:8:17:0.2353:12,4:12:0:4:0 </td><td>0/1</td><td>8 </td><td>17</td><td>0.2353</td><td>12,4</td><td>12</td><td>0 </td><td>4 </td><td>0 </td><td>Q3</td></tr>\n",
       "\t<tr><td>chr1</td><td>669334</td><td>.</td><td>A</td><td>C</td><td>20.6609</td><td>PASS</td><td>FAU=0;FCU=5;FGU=0;FTU=0;RAU=2;RCU=4;RGU=0;RTU=0;SB=1.0        </td><td>GT:GQ:DP:AF:AD:AU:CU:GU:TU</td><td>0/1:20:12:0.7500:2,9:2:9:0:0  </td><td>0/1</td><td>20</td><td>12</td><td>0.7500</td><td>2,9 </td><td>2 </td><td>9 </td><td>0 </td><td>0 </td><td>Q3</td></tr>\n",
       "\t<tr><td>chr1</td><td>690422</td><td>.</td><td>T</td><td>C</td><td> 8.0665</td><td>PASS</td><td>H;FAU=0;FCU=2;FGU=0;FTU=7;RAU=0;RCU=2;RGU=0;RTU=7;SB=1.0      </td><td>GT:GQ:DP:AF:AD:AU:CU:GU:TU</td><td>0/1:8:18:0.2222:14,4:0:4:0:14 </td><td>0/1</td><td>8 </td><td>18</td><td>0.2222</td><td>14,4</td><td>0 </td><td>4 </td><td>0 </td><td>14</td><td>Q3</td></tr>\n",
       "\t<tr><td>chr1</td><td>702349</td><td>.</td><td>G</td><td>A</td><td>11.9877</td><td>PASS</td><td>H;FAU=2;FCU=0;FGU=2;FTU=0;RAU=1;RCU=0;RGU=10;RTU=0;SB=0.17157 </td><td>GT:GQ:DP:AF:AD:AU:CU:GU:TU</td><td>0/1:11:18:0.1667:12,3:3:0:12:0</td><td>0/1</td><td>11</td><td>18</td><td>0.1667</td><td>12,3</td><td>3 </td><td>0 </td><td>12</td><td>0 </td><td>Q3</td></tr>\n",
       "\t<tr><td>chr1</td><td>784500</td><td>.</td><td>T</td><td>C</td><td>22.5001</td><td>PASS</td><td>FAU=0;FCU=1;FGU=0;FTU=14;RAU=0;RCU=2;RGU=0;RTU=17;SB=1.0      </td><td>GT:GQ:DP:AF:AD:AU:CU:GU:TU</td><td>0/1:22:34:0.0882:31,3:0:3:0:31</td><td>0/1</td><td>22</td><td>34</td><td>0.0882</td><td>31,3</td><td>0 </td><td>3 </td><td>0 </td><td>31</td><td>Q3</td></tr>\n",
       "\t<tr><td>chr1</td><td>784769</td><td>.</td><td>A</td><td>G</td><td>21.7814</td><td>PASS</td><td>FAU=19;FCU=0;FGU=2;FTU=0;RAU=18;RCU=0;RGU=1;RTU=0;SB=1.0      </td><td>GT:GQ:DP:AF:AD:AU:CU:GU:TU</td><td>0/1:21:40:0.0750:37,3:37:0:3:0</td><td>0/1</td><td>21</td><td>40</td><td>0.0750</td><td>37,3</td><td>37</td><td>0 </td><td>3 </td><td>0 </td><td>Q3</td></tr>\n",
       "\t<tr><td>chr1</td><td>787198</td><td>.</td><td>T</td><td>C</td><td>14.7852</td><td>PASS</td><td>FAU=0;FCU=2;FGU=0;FTU=12;RAU=0;RCU=1;RGU=0;RTU=8;SB=1.0       </td><td>GT:GQ:DP:AF:AD:AU:CU:GU:TU</td><td>0/1:14:23:0.1304:20,3:0:3:0:20</td><td>0/1</td><td>14</td><td>23</td><td>0.1304</td><td>20,3</td><td>0 </td><td>3 </td><td>0 </td><td>20</td><td>Q3</td></tr>\n",
       "\t<tr><td>chr1</td><td>831330</td><td>.</td><td>T</td><td>C</td><td>17.4864</td><td>PASS</td><td>FAU=0;FCU=3;FGU=0;FTU=51;RAU=0;RCU=2;RGU=0;RTU=34;SB=1.0      </td><td>GT:GQ:DP:AF:AD:AU:CU:GU:TU</td><td>0/1:17:90:0.0556:85,5:0:5:0:85</td><td>0/1</td><td>17</td><td>90</td><td>0.0556</td><td>85,5</td><td>0 </td><td>5 </td><td>0 </td><td>85</td><td>Q3</td></tr>\n",
       "\t<tr><td>chr1</td><td>833625</td><td>.</td><td>C</td><td>T</td><td>13.2505</td><td>PASS</td><td>FAU=0;FCU=42;FGU=0;FTU=2;RAU=0;RCU=27;RGU=0;RTU=2;SB=1.0      </td><td>GT:GQ:DP:AF:AD:AU:CU:GU:TU</td><td>0/1:13:74:0.0541:69,4:0:69:0:4</td><td>0/1</td><td>13</td><td>74</td><td>0.0541</td><td>69,4</td><td>0 </td><td>69</td><td>0 </td><td>4 </td><td>Q3</td></tr>\n",
       "\t<tr><td>chr1</td><td>833632</td><td>.</td><td>T</td><td>C</td><td>16.7791</td><td>PASS</td><td>FAU=0;FCU=2;FGU=0;FTU=40;RAU=0;RCU=2;RGU=0;RTU=27;SB=1.0      </td><td>GT:GQ:DP:AF:AD:AU:CU:GU:TU</td><td>0/1:16:72:0.0556:67,4:0:4:0:67</td><td>0/1</td><td>16</td><td>72</td><td>0.0556</td><td>67,4</td><td>0 </td><td>4 </td><td>0 </td><td>67</td><td>Q3</td></tr>\n",
       "\t<tr><td>chr1</td><td>834925</td><td>.</td><td>A</td><td>G</td><td>15.0979</td><td>PASS</td><td>FAU=26;FCU=0;FGU=2;FTU=0;RAU=29;RCU=0;RGU=2;RTU=0;SB=1.0      </td><td>GT:GQ:DP:AF:AD:AU:CU:GU:TU</td><td>0/1:15:59:0.0678:55,4:55:0:4:0</td><td>0/1</td><td>15</td><td>59</td><td>0.0678</td><td>55,4</td><td>55</td><td>0 </td><td>4 </td><td>0 </td><td>Q3</td></tr>\n",
       "\t<tr><td>chr1</td><td>836576</td><td>.</td><td>T</td><td>C</td><td>19.1571</td><td>PASS</td><td>FAU=0;FCU=2;FGU=0;FTU=26;RAU=0;RCU=2;RGU=0;RTU=26;SB=1.0      </td><td>GT:GQ:DP:AF:AD:AU:CU:GU:TU</td><td>0/1:19:57:0.0702:52,4:0:4:0:52</td><td>0/1</td><td>19</td><td>57</td><td>0.0702</td><td>52,4</td><td>0 </td><td>4 </td><td>0 </td><td>52</td><td>Q3</td></tr>\n",
       "\t<tr><td>chr1</td><td>837592</td><td>.</td><td>T</td><td>C</td><td>16.0198</td><td>PASS</td><td>FAU=0;FCU=2;FGU=0;FTU=39;RAU=0;RCU=2;RGU=0;RTU=28;SB=1.0      </td><td>GT:GQ:DP:AF:AD:AU:CU:GU:TU</td><td>0/1:16:71:0.0563:67,4:0:4:0:67</td><td>0/1</td><td>16</td><td>71</td><td>0.0563</td><td>67,4</td><td>0 </td><td>4 </td><td>0 </td><td>67</td><td>Q3</td></tr>\n",
       "\t<tr><td>chr1</td><td>849590</td><td>.</td><td>T</td><td>C</td><td>21.1387</td><td>PASS</td><td>FAU=0;FCU=2;FGU=0;FTU=18;RAU=0;RCU=1;RGU=0;RTU=22;SB=0.58998  </td><td>GT:GQ:DP:AF:AD:AU:CU:GU:TU</td><td>0/1:21:43:0.0698:40,3:0:3:0:40</td><td>0/1</td><td>21</td><td>43</td><td>0.0698</td><td>40,3</td><td>0 </td><td>3 </td><td>0 </td><td>40</td><td>Q3</td></tr>\n",
       "\t<tr><td>chr1</td><td>863474</td><td>.</td><td>A</td><td>G</td><td>20.4546</td><td>PASS</td><td>H;FAU=33;FCU=0;FGU=3;FTU=0;RAU=27;RCU=0;RGU=1;RTU=0;SB=1.0    </td><td>GT:GQ:DP:AF:AD:AU:CU:GU:TU</td><td>0/1:20:64:0.0625:60,4:60:0:4:0</td><td>0/1</td><td>20</td><td>64</td><td>0.0625</td><td>60,4</td><td>60</td><td>0 </td><td>4 </td><td>0 </td><td>Q3</td></tr>\n",
       "\t<tr><td>chr1</td><td>872206</td><td>.</td><td>T</td><td>C</td><td>14.4036</td><td>PASS</td><td>H;FAU=0;FCU=1;FGU=0;FTU=31;RAU=0;RCU=2;RGU=0;RTU=25;SB=0.56545</td><td>GT:GQ:DP:AF:AD:AU:CU:GU:TU</td><td>0/1:14:59:0.0508:56,3:0:3:0:56</td><td>0/1</td><td>14</td><td>59</td><td>0.0508</td><td>56,3</td><td>0 </td><td>3 </td><td>0 </td><td>56</td><td>Q3</td></tr>\n",
       "\t<tr><td>chr1</td><td>872989</td><td>.</td><td>T</td><td>C</td><td>14.6196</td><td>PASS</td><td>H;FAU=0;FCU=2;FGU=0;FTU=33;RAU=0;RCU=1;RGU=0;RTU=23;SB=1.0    </td><td>GT:GQ:DP:AF:AD:AU:CU:GU:TU</td><td>0/1:14:59:0.0508:56,3:0:3:0:56</td><td>0/1</td><td>14</td><td>59</td><td>0.0508</td><td>56,3</td><td>0 </td><td>3 </td><td>0 </td><td>56</td><td>Q3</td></tr>\n",
       "\t<tr><td>chr1</td><td>877576</td><td>.</td><td>T</td><td>C</td><td>15.9677</td><td>PASS</td><td>H;FAU=0;FCU=2;FGU=0;FTU=30;RAU=0;RCU=1;RGU=0;RTU=15;SB=1.0    </td><td>GT:GQ:DP:AF:AD:AU:CU:GU:TU</td><td>0/1:15:48:0.0625:45,3:0:3:0:45</td><td>0/1</td><td>15</td><td>48</td><td>0.0625</td><td>45,3</td><td>0 </td><td>3 </td><td>0 </td><td>45</td><td>Q3</td></tr>\n",
       "\t<tr><td>chr1</td><td>890490</td><td>.</td><td>A</td><td>G</td><td>16.2334</td><td>PASS</td><td>FAU=7;FCU=0;FGU=1;FTU=0;RAU=8;RCU=0;RGU=3;RTU=0;SB=0.62096    </td><td>GT:GQ:DP:AF:AD:AU:CU:GU:TU</td><td>0/1:16:19:0.2105:15,4:15:0:4:0</td><td>0/1</td><td>16</td><td>19</td><td>0.2105</td><td>15,4</td><td>15</td><td>0 </td><td>4 </td><td>0 </td><td>Q3</td></tr>\n",
       "\t<tr><td>chr1</td><td>891544</td><td>.</td><td>T</td><td>C</td><td>25.2339</td><td>PASS</td><td>FAU=0;FCU=2;FGU=0;FTU=8;RAU=0;RCU=1;RGU=0;RTU=9;SB=0.57143    </td><td>GT:GQ:DP:AF:AD:AU:CU:GU:TU</td><td>0/1:25:20:0.1500:17,3:0:3:0:17</td><td>0/1</td><td>25</td><td>20</td><td>0.1500</td><td>17,3</td><td>0 </td><td>3 </td><td>0 </td><td>17</td><td>Q3</td></tr>\n",
       "\t<tr><td>⋮</td><td>⋮</td><td>⋮</td><td>⋮</td><td>⋮</td><td>⋮</td><td>⋮</td><td>⋮</td><td>⋮</td><td>⋮</td><td>⋮</td><td>⋮</td><td>⋮</td><td>⋮</td><td>⋮</td><td>⋮</td><td>⋮</td><td>⋮</td><td>⋮</td><td>⋮</td></tr>\n",
       "\t<tr><td>chrX</td><td>155990521</td><td>.</td><td>A</td><td>T</td><td>53.2068</td><td>PASS</td><td>FAU=10;FCU=0;FGU=0;FTU=2;RAU=13;RCU=0;RGU=0;RTU=2;SB=1.0          </td><td>GT:GQ:DP:AF:AD:AU:CU:GU:TU</td><td>0/1:53:27:0.1481:23,4:23:0:0:4     </td><td>0/1</td><td>53</td><td>27 </td><td>0.1481</td><td>23,4  </td><td>23 </td><td>0  </td><td>0  </td><td>4  </td><td>Q3</td></tr>\n",
       "\t<tr><td>chrX</td><td>155991883</td><td>.</td><td>T</td><td>C</td><td>17.9454</td><td>PASS</td><td>FAU=0;FCU=2;FGU=0;FTU=14;RAU=0;RCU=1;RGU=0;RTU=13;SB=1.0          </td><td>GT:GQ:DP:AF:AD:AU:CU:GU:TU</td><td>0/1:17:30:0.1000:27,3:0:3:0:27     </td><td>0/1</td><td>17</td><td>30 </td><td>0.1000</td><td>27,3  </td><td>0  </td><td>3  </td><td>0  </td><td>27 </td><td>Q3</td></tr>\n",
       "\t<tr><td>chrY</td><td> 11107613</td><td>.</td><td>G</td><td>A</td><td>26.5277</td><td>PASS</td><td>FAU=2;FCU=0;FGU=6;FTU=0;RAU=3;RCU=0;RGU=3;RTU=0;SB=0.32867        </td><td>GT:GQ:DP:AF:AD:AU:CU:GU:TU</td><td>0/1:26:14:0.3571:9,5:5:0:9:0       </td><td>0/1</td><td>26</td><td>14 </td><td>0.3571</td><td>9,5   </td><td>5  </td><td>0  </td><td>9  </td><td>0  </td><td>Q3</td></tr>\n",
       "\t<tr><td>chrY</td><td> 11107693</td><td>.</td><td>C</td><td>G</td><td>15.2934</td><td>PASS</td><td>FAU=0;FCU=6;FGU=3;FTU=0;RAU=0;RCU=2;RGU=2;RTU=0;SB=1.0            </td><td>GT:GQ:DP:AF:AD:AU:CU:GU:TU</td><td>0/1:15:13:0.3846:8,5:0:8:5:0       </td><td>0/1</td><td>15</td><td>13 </td><td>0.3846</td><td>8,5   </td><td>0  </td><td>8  </td><td>5  </td><td>0  </td><td>Q3</td></tr>\n",
       "\t<tr><td>chrY</td><td> 11108142</td><td>.</td><td>G</td><td>A</td><td>12.5761</td><td>PASS</td><td>FAU=1;FCU=0;FGU=9;FTU=0;RAU=3;RCU=0;RGU=5;RTU=0;SB=0.28483        </td><td>GT:GQ:DP:AF:AD:AU:CU:GU:TU</td><td>0/1:12:19:0.2105:14,4:4:0:14:0     </td><td>0/1</td><td>12</td><td>19 </td><td>0.2105</td><td>14,4  </td><td>4  </td><td>0  </td><td>14 </td><td>0  </td><td>Q3</td></tr>\n",
       "\t<tr><td>chrY</td><td> 11111423</td><td>.</td><td>C</td><td>T</td><td>20.5264</td><td>PASS</td><td>H;FAU=0;FCU=5;FGU=0;FTU=3;RAU=0;RCU=4;RGU=0;RTU=5;SB=0.63719      </td><td>GT:GQ:DP:AF:AD:AU:CU:GU:TU</td><td>0/1:20:17:0.4706:9,8:0:9:0:8       </td><td>0/1</td><td>20</td><td>17 </td><td>0.4706</td><td>9,8   </td><td>0  </td><td>9  </td><td>0  </td><td>8  </td><td>Q3</td></tr>\n",
       "\t<tr><td>chrY</td><td> 11117117</td><td>.</td><td>G</td><td>A</td><td>17.6191</td><td>PASS</td><td>FAU=2;FCU=0;FGU=8;FTU=0;RAU=2;RCU=0;RGU=5;RTU=0;SB=1.0            </td><td>GT:GQ:DP:AF:AD:AU:CU:GU:TU</td><td>0/1:17:17:0.2353:13,4:4:0:13:0     </td><td>0/1</td><td>17</td><td>17 </td><td>0.2353</td><td>13,4  </td><td>4  </td><td>0  </td><td>13 </td><td>0  </td><td>Q3</td></tr>\n",
       "\t<tr><td>chrY</td><td> 11334485</td><td>.</td><td>T</td><td>C</td><td>54.3717</td><td>PASS</td><td>FAU=0;FCU=8;FGU=0;FTU=1;RAU=0;RCU=2;RGU=0;RTU=5;SB=0.03497        </td><td>GT:GQ:DP:AF:AD:AU:CU:GU:TU</td><td>0/1:54:16:0.6250:6,10:0:10:0:6     </td><td>0/1</td><td>54</td><td>16 </td><td>0.6250</td><td>6,10  </td><td>0  </td><td>10 </td><td>0  </td><td>6  </td><td>Q3</td></tr>\n",
       "\t<tr><td>chrY</td><td> 11386391</td><td>.</td><td>A</td><td>G</td><td>17.4762</td><td>PASS</td><td>FAU=2;FCU=0;FGU=2;FTU=0;RAU=5;RCU=0;RGU=2;RTU=0;SB=0.57576        </td><td>GT:GQ:DP:AF:AD:AU:CU:GU:TU</td><td>0/1:17:11:0.3636:7,4:7:0:4:0       </td><td>0/1</td><td>17</td><td>11 </td><td>0.3636</td><td>7,4   </td><td>7  </td><td>0  </td><td>4  </td><td>0  </td><td>Q3</td></tr>\n",
       "\t<tr><td>chrY</td><td> 11387391</td><td>.</td><td>T</td><td>C</td><td>13.0979</td><td>PASS</td><td>FAU=0;FCU=2;FGU=0;FTU=2;RAU=0;RCU=2;RGU=0;RTU=7;SB=0.53007        </td><td>GT:GQ:DP:AF:AD:AU:CU:GU:TU</td><td>0/1:13:13:0.3077:9,4:0:4:0:9       </td><td>0/1</td><td>13</td><td>13 </td><td>0.3077</td><td>9,4   </td><td>0  </td><td>4  </td><td>0  </td><td>9  </td><td>Q3</td></tr>\n",
       "\t<tr><td>chrY</td><td> 11387543</td><td>.</td><td>T</td><td>C</td><td>12.1125</td><td>PASS</td><td>FAU=0;FCU=2;FGU=0;FTU=3;RAU=0;RCU=2;RGU=0;RTU=7;SB=0.56044        </td><td>GT:GQ:DP:AF:AD:AU:CU:GU:TU</td><td>0/1:12:14:0.2857:10,4:0:4:0:10     </td><td>0/1</td><td>12</td><td>14 </td><td>0.2857</td><td>10,4  </td><td>0  </td><td>4  </td><td>0  </td><td>10 </td><td>Q3</td></tr>\n",
       "\t<tr><td>chrY</td><td> 56821847</td><td>.</td><td>G</td><td>C</td><td>16.4162</td><td>PASS</td><td>H;FAU=0;FCU=2;FGU=6;FTU=0;RAU=0;RCU=2;RGU=8;RTU=0;SB=0.61771      </td><td>GT:GQ:DP:AF:AD:AU:CU:GU:TU</td><td>0/1:16:18:0.2222:14,4:0:4:14:0     </td><td>0/1</td><td>16</td><td>18 </td><td>0.2222</td><td>14,4  </td><td>0  </td><td>4  </td><td>14 </td><td>0  </td><td>Q3</td></tr>\n",
       "\t<tr><td>chrY</td><td> 56851586</td><td>.</td><td>G</td><td>A</td><td>18.7914</td><td>PASS</td><td>FAU=12;FCU=0;FGU=102;FTU=0;RAU=10;RCU=0;RGU=102;RTU=0;SB=0.66222  </td><td>GT:GQ:DP:AF:AD:AU:CU:GU:TU</td><td>0/1:18:226:0.0973:204,22:22:0:204:0</td><td>0/1</td><td>18</td><td>226</td><td>0.0973</td><td>204,22</td><td>22 </td><td>0  </td><td>204</td><td>0  </td><td>Q3</td></tr>\n",
       "\t<tr><td>chrY</td><td> 56852306</td><td>.</td><td>C</td><td>A</td><td>14.3195</td><td>PASS</td><td>FAU=8;FCU=108;FGU=0;FTU=0;RAU=13;RCU=115;RGU=0;RTU=0;SB=0.51202   </td><td>GT:GQ:DP:AF:AD:AU:CU:GU:TU</td><td>0/1:14:244:0.0861:223,21:21:223:0:0</td><td>0/1</td><td>14</td><td>244</td><td>0.0861</td><td>223,21</td><td>21 </td><td>223</td><td>0  </td><td>0  </td><td>Q3</td></tr>\n",
       "\t<tr><td>chrY</td><td> 56853153</td><td>.</td><td>T</td><td>C</td><td>21.0236</td><td>PASS</td><td>FAU=0;FCU=30;FGU=0;FTU=93;RAU=0;RCU=33;RGU=0;RTU=109;SB=0.77949   </td><td>GT:GQ:DP:AF:AD:AU:CU:GU:TU</td><td>0/1:21:265:0.2377:202,63:0:63:0:202</td><td>0/1</td><td>21</td><td>265</td><td>0.2377</td><td>202,63</td><td>0  </td><td>63 </td><td>0  </td><td>202</td><td>Q3</td></tr>\n",
       "\t<tr><td>chrY</td><td> 56853154</td><td>.</td><td>G</td><td>T</td><td>23.6621</td><td>PASS</td><td>FAU=2;FCU=0;FGU=94;FTU=30;RAU=2;RCU=0;RGU=107;RTU=33;SB=0.77949   </td><td>GT:GQ:DP:AF:AD:AU:CU:GU:TU</td><td>0/1:23:268:0.2351:201,63:4:0:201:63</td><td>0/1</td><td>23</td><td>268</td><td>0.2351</td><td>201,63</td><td>4  </td><td>0  </td><td>201</td><td>63 </td><td>Q3</td></tr>\n",
       "\t<tr><td>chrY</td><td> 56853457</td><td>.</td><td>A</td><td>C</td><td>14.6932</td><td>PASS</td><td>FAU=124;FCU=11;FGU=0;FTU=0;RAU=135;RCU=14;RGU=0;RTU=0;SB=0.83476  </td><td>GT:GQ:DP:AF:AD:AU:CU:GU:TU</td><td>0/1:14:284:0.0880:259,25:259:25:0:0</td><td>0/1</td><td>14</td><td>284</td><td>0.0880</td><td>259,25</td><td>259</td><td>25 </td><td>0  </td><td>0  </td><td>Q3</td></tr>\n",
       "\t<tr><td>chrY</td><td> 56853606</td><td>.</td><td>G</td><td>T</td><td>17.2308</td><td>PASS</td><td>FAU=0;FCU=0;FGU=129;FTU=13;RAU=0;RCU=0;RGU=137;RTU=15;SB=1.0      </td><td>GT:GQ:DP:AF:AD:AU:CU:GU:TU</td><td>0/1:17:294:0.0952:266,28:0:0:266:28</td><td>0/1</td><td>17</td><td>294</td><td>0.0952</td><td>266,28</td><td>0  </td><td>0  </td><td>266</td><td>28 </td><td>Q3</td></tr>\n",
       "\t<tr><td>chrY</td><td> 56854224</td><td>.</td><td>G</td><td>T</td><td>10.0871</td><td>PASS</td><td>H;FAU=0;FCU=0;FGU=159;FTU=16;RAU=0;RCU=0;RGU=151;RTU=15;SB=1.0    </td><td>GT:GQ:DP:AF:AD:AU:CU:GU:TU</td><td>0/1:10:341:0.0909:310,31:0:0:310:31</td><td>0/1</td><td>10</td><td>341</td><td>0.0909</td><td>310,31</td><td>0  </td><td>0  </td><td>310</td><td>31 </td><td>Q3</td></tr>\n",
       "\t<tr><td>chrY</td><td> 56854321</td><td>.</td><td>C</td><td>T</td><td>59.4913</td><td>PASS</td><td>FAU=0;FCU=134;FGU=0;FTU=49;RAU=0;RCU=144;RGU=0;RTU=39;SB=0.27584  </td><td>GT:GQ:DP:AF:AD:AU:CU:GU:TU</td><td>0/1:59:366:0.2404:278,88:0:278:0:88</td><td>0/1</td><td>59</td><td>366</td><td>0.2404</td><td>278,88</td><td>0  </td><td>278</td><td>0  </td><td>88 </td><td>Q3</td></tr>\n",
       "\t<tr><td>chrY</td><td> 56857748</td><td>.</td><td>T</td><td>A</td><td> 9.2395</td><td>PASS</td><td>H;FAU=29;FCU=0;FGU=0;FTU=282;RAU=23;RCU=0;RGU=0;RTU=278;SB=0.39169</td><td>GT:GQ:DP:AF:AD:AU:CU:GU:TU</td><td>0/1:9:612:0.0850:560,52:52:0:0:560 </td><td>0/1</td><td>9 </td><td>612</td><td>0.0850</td><td>560,52</td><td>52 </td><td>0  </td><td>0  </td><td>560</td><td>Q3</td></tr>\n",
       "\t<tr><td>chrY</td><td> 56859432</td><td>.</td><td>A</td><td>C</td><td>13.3793</td><td>PASS</td><td>H;FAU=173;FCU=35;FGU=0;FTU=0;RAU=164;RCU=27;RGU=1;RTU=0;SB=0.27983</td><td>GT:GQ:DP:AF:AD:AU:CU:GU:TU</td><td>0/1:13:400:0.1550:337,62:337:62:1:0</td><td>0/1</td><td>13</td><td>400</td><td>0.1550</td><td>337,62</td><td>337</td><td>62 </td><td>1  </td><td>0  </td><td>Q3</td></tr>\n",
       "\t<tr><td>chrY</td><td> 56859954</td><td>.</td><td>A</td><td>C</td><td>12.6353</td><td>PASS</td><td>H;FAU=197;FCU=17;FGU=0;FTU=0;RAU=177;RCU=14;RGU=1;RTU=0;SB=0.8611 </td><td>GT:GQ:DP:AF:AD:AU:CU:GU:TU</td><td>0/1:12:406:0.0764:374,31:374:31:1:0</td><td>0/1</td><td>12</td><td>406</td><td>0.0764</td><td>374,31</td><td>374</td><td>31 </td><td>1  </td><td>0  </td><td>Q3</td></tr>\n",
       "\t<tr><td>chrY</td><td> 56860064</td><td>.</td><td>G</td><td>A</td><td>14.2908</td><td>PASS</td><td>FAU=18;FCU=0;FGU=197;FTU=0;RAU=16;RCU=0;RGU=177;RTU=0;SB=0.86547  </td><td>GT:GQ:DP:AF:AD:AU:CU:GU:TU</td><td>0/1:14:408:0.0833:374,34:34:0:374:0</td><td>0/1</td><td>14</td><td>408</td><td>0.0833</td><td>374,34</td><td>34 </td><td>0  </td><td>374</td><td>0  </td><td>Q3</td></tr>\n",
       "\t<tr><td>chrY</td><td> 56860789</td><td>.</td><td>C</td><td>T</td><td>12.9183</td><td>PASS</td><td>FAU=0;FCU=156;FGU=0;FTU=16;RAU=0;RCU=129;RGU=0;RTU=13;SB=1.0      </td><td>GT:GQ:DP:AF:AD:AU:CU:GU:TU</td><td>0/1:12:314:0.0924:285,29:0:285:0:29</td><td>0/1</td><td>12</td><td>314</td><td>0.0924</td><td>285,29</td><td>0  </td><td>285</td><td>0  </td><td>29 </td><td>Q3</td></tr>\n",
       "\t<tr><td>chrY</td><td> 56863083</td><td>.</td><td>C</td><td>T</td><td> 9.2390</td><td>PASS</td><td>H;FAU=0;FCU=91;FGU=0;FTU=9;RAU=0;RCU=85;RGU=0;RTU=12;SB=0.49047   </td><td>GT:GQ:DP:AF:AD:AU:CU:GU:TU</td><td>0/1:9:197:0.1066:176,21:0:176:0:21 </td><td>0/1</td><td>9 </td><td>197</td><td>0.1066</td><td>176,21</td><td>0  </td><td>176</td><td>0  </td><td>21 </td><td>Q3</td></tr>\n",
       "\t<tr><td>chrY</td><td> 56865621</td><td>.</td><td>A</td><td>T</td><td>20.7002</td><td>PASS</td><td>H;FAU=66;FCU=0;FGU=0;FTU=6;RAU=44;RCU=0;RGU=1;RTU=8;SB=0.28825    </td><td>GT:GQ:DP:AF:AD:AU:CU:GU:TU</td><td>0/1:20:125:0.1120:110,14:110:0:1:14</td><td>0/1</td><td>20</td><td>125</td><td>0.1120</td><td>110,14</td><td>110</td><td>0  </td><td>1  </td><td>14 </td><td>Q3</td></tr>\n",
       "\t<tr><td>chrY</td><td> 56867213</td><td>.</td><td>C</td><td>T</td><td>14.5788</td><td>PASS</td><td>FAU=0;FCU=23;FGU=0;FTU=6;RAU=0;RCU=37;RGU=0;RTU=16;SB=0.4496      </td><td>GT:GQ:DP:AF:AD:AU:CU:GU:TU</td><td>0/1:14:82:0.2683:60,22:0:60:0:22   </td><td>0/1</td><td>14</td><td>82 </td><td>0.2683</td><td>60,22 </td><td>0  </td><td>60 </td><td>0  </td><td>22 </td><td>Q3</td></tr>\n",
       "\t<tr><td>chrY</td><td> 56870918</td><td>.</td><td>G</td><td>A</td><td>25.1104</td><td>PASS</td><td>H;FAU=2;FCU=0;FGU=28;FTU=0;RAU=5;RCU=0;RGU=32;RTU=0;SB=1.0        </td><td>GT:GQ:DP:AF:AD:AU:CU:GU:TU</td><td>0/1:25:67:0.1045:60,7:7:0:60:0     </td><td>0/1</td><td>25</td><td>67 </td><td>0.1045</td><td>60,7  </td><td>7  </td><td>0  </td><td>60 </td><td>0  </td><td>Q3</td></tr>\n",
       "\t<tr><td>chrY</td><td> 56875693</td><td>.</td><td>C</td><td>G</td><td> 9.5873</td><td>PASS</td><td>H;FAU=0;FCU=40;FGU=5;FTU=0;RAU=0;RCU=24;RGU=5;RTU=0;SB=0.49568    </td><td>GT:GQ:DP:AF:AD:AU:CU:GU:TU</td><td>0/1:9:74:0.1351:64,10:0:64:10:0    </td><td>0/1</td><td>9 </td><td>74 </td><td>0.1351</td><td>64,10 </td><td>0  </td><td>64 </td><td>10 </td><td>0  </td><td>Q3</td></tr>\n",
       "</tbody>\n",
       "</table>\n"
      ],
      "text/latex": [
       "A data.table: 594677 × 20\n",
       "\\begin{tabular}{llllllllllllllllllll}\n",
       " \\#CHROM & POS & ID & REF & ALT & QUAL & FILTER & INFO & FORMAT & Q3 & GT & GQ & DP & AF & AD & AU & CU & GU & TU & timepoint\\\\\n",
       " <chr> & <int> & <chr> & <chr> & <chr> & <dbl> & <chr> & <chr> & <chr> & <chr> & <chr> & <chr> & <chr> & <chr> & <chr> & <chr> & <chr> & <chr> & <chr> & <chr>\\\\\n",
       "\\hline\n",
       "\t chr1 &  58952 & . & A & G & 14.6705 & PASS & FAU=5;FCU=0;FGU=2;FTU=0;RAU=8;RCU=0;RGU=2;RTU=0;SB=1.0         & GT:GQ:DP:AF:AD:AU:CU:GU:TU & 0/1:14:17:0.2353:13,4:13:0:4:0 & 0/1 & 14 & 17 & 0.2353 & 13,4 & 13 & 0  & 4  & 0  & Q3\\\\\n",
       "\t chr1 &  60541 & . & A & G & 10.0087 & PASS & H;FAU=5;FCU=0;FGU=1;FTU=0;RAU=9;RCU=0;RGU=2;RTU=0;SB=1.0       & GT:GQ:DP:AF:AD:AU:CU:GU:TU & 0/1:10:17:0.1765:14,3:14:0:3:0 & 0/1 & 10 & 17 & 0.1765 & 14,3 & 14 & 0  & 3  & 0  & Q3\\\\\n",
       "\t chr1 &  62304 & . & T & C & 17.2842 & PASS & H;FAU=0;FCU=2;FGU=0;FTU=7;RAU=0;RCU=1;RGU=0;RTU=5;SB=1.0       & GT:GQ:DP:AF:AD:AU:CU:GU:TU & 0/1:17:15:0.2000:12,3:0:3:0:12 & 0/1 & 17 & 15 & 0.2000 & 12,3 & 0  & 3  & 0  & 12 & Q3\\\\\n",
       "\t chr1 & 128957 & . & T & C & 22.4832 & PASS & H;FAU=0;FCU=2;FGU=0;FTU=8;RAU=0;RCU=3;RGU=0;RTU=10;SB=1.0      & GT:GQ:DP:AF:AD:AU:CU:GU:TU & 0/1:22:23:0.2174:18,5:0:5:0:18 & 0/1 & 22 & 23 & 0.2174 & 18,5 & 0  & 5  & 0  & 18 & Q3\\\\\n",
       "\t chr1 & 131184 & . & T & C & 10.7616 & PASS & H;FAU=0;FCU=2;FGU=0;FTU=6;RAU=0;RCU=3;RGU=0;RTU=7;SB=1.0       & GT:GQ:DP:AF:AD:AU:CU:GU:TU & 0/1:10:18:0.2778:13,5:0:5:0:13 & 0/1 & 10 & 18 & 0.2778 & 13,5 & 0  & 5  & 0  & 13 & Q3\\\\\n",
       "\t chr1 & 131817 & . & A & G &  8.1306 & PASS & H;FAU=7;FCU=0;FGU=2;FTU=0;RAU=7;RCU=0;RGU=2;RTU=0;SB=1.0       & GT:GQ:DP:AF:AD:AU:CU:GU:TU & 0/1:8:18:0.2222:14,4:14:0:4:0  & 0/1 & 8  & 18 & 0.2222 & 14,4 & 14 & 0  & 4  & 0  & Q3\\\\\n",
       "\t chr1 & 289127 & . & G & A & 14.2460 & PASS & H;FAU=2;FCU=0;FGU=12;FTU=0;RAU=1;RCU=0;RGU=5;RTU=0;SB=1.0      & GT:GQ:DP:AF:AD:AU:CU:GU:TU & 0/1:14:20:0.1500:17,3:3:0:17:0 & 0/1 & 14 & 20 & 0.1500 & 17,3 & 3  & 0  & 17 & 0  & Q3\\\\\n",
       "\t chr1 & 289745 & . & T & C &  9.1576 & PASS & H;FAU=0;FCU=2;FGU=0;FTU=18;RAU=0;RCU=1;RGU=0;RTU=8;SB=1.0      & GT:GQ:DP:AF:AD:AU:CU:GU:TU & 0/1:9:29:0.1034:26,3:0:3:0:26  & 0/1 & 9  & 29 & 0.1034 & 26,3 & 0  & 3  & 0  & 26 & Q3\\\\\n",
       "\t chr1 & 617409 & . & A & C & 20.6958 & PASS & FAU=0;FCU=6;FGU=0;FTU=0;RAU=0;RCU=8;RGU=0;RTU=0;SB=1.0         & GT:GQ:DP:AF:AD:AU:CU:GU:TU & 1/1:20:14:1.0000:0,14:0:14:0:0 & 1/1 & 20 & 14 & 1.0000 & 0,14 & 0  & 14 & 0  & 0  & Q3\\\\\n",
       "\t chr1 & 638954 & . & A & G & 53.8897 & PASS & FAU=8;FCU=0;FGU=1;FTU=0;RAU=11;RCU=0;RGU=2;RTU=0;SB=1.0        & GT:GQ:DP:AF:AD:AU:CU:GU:TU & 0/1:53:22:0.1364:19,3:19:0:3:0 & 0/1 & 53 & 22 & 0.1364 & 19,3 & 19 & 0  & 3  & 0  & Q3\\\\\n",
       "\t chr1 & 643353 & . & A & G &  8.9180 & PASS & H;FAU=4;FCU=0;FGU=2;FTU=0;RAU=8;RCU=0;RGU=2;RTU=0;SB=0.58403   & GT:GQ:DP:AF:AD:AU:CU:GU:TU & 0/1:8:17:0.2353:12,4:12:0:4:0  & 0/1 & 8  & 17 & 0.2353 & 12,4 & 12 & 0  & 4  & 0  & Q3\\\\\n",
       "\t chr1 & 669334 & . & A & C & 20.6609 & PASS & FAU=0;FCU=5;FGU=0;FTU=0;RAU=2;RCU=4;RGU=0;RTU=0;SB=1.0         & GT:GQ:DP:AF:AD:AU:CU:GU:TU & 0/1:20:12:0.7500:2,9:2:9:0:0   & 0/1 & 20 & 12 & 0.7500 & 2,9  & 2  & 9  & 0  & 0  & Q3\\\\\n",
       "\t chr1 & 690422 & . & T & C &  8.0665 & PASS & H;FAU=0;FCU=2;FGU=0;FTU=7;RAU=0;RCU=2;RGU=0;RTU=7;SB=1.0       & GT:GQ:DP:AF:AD:AU:CU:GU:TU & 0/1:8:18:0.2222:14,4:0:4:0:14  & 0/1 & 8  & 18 & 0.2222 & 14,4 & 0  & 4  & 0  & 14 & Q3\\\\\n",
       "\t chr1 & 702349 & . & G & A & 11.9877 & PASS & H;FAU=2;FCU=0;FGU=2;FTU=0;RAU=1;RCU=0;RGU=10;RTU=0;SB=0.17157  & GT:GQ:DP:AF:AD:AU:CU:GU:TU & 0/1:11:18:0.1667:12,3:3:0:12:0 & 0/1 & 11 & 18 & 0.1667 & 12,3 & 3  & 0  & 12 & 0  & Q3\\\\\n",
       "\t chr1 & 784500 & . & T & C & 22.5001 & PASS & FAU=0;FCU=1;FGU=0;FTU=14;RAU=0;RCU=2;RGU=0;RTU=17;SB=1.0       & GT:GQ:DP:AF:AD:AU:CU:GU:TU & 0/1:22:34:0.0882:31,3:0:3:0:31 & 0/1 & 22 & 34 & 0.0882 & 31,3 & 0  & 3  & 0  & 31 & Q3\\\\\n",
       "\t chr1 & 784769 & . & A & G & 21.7814 & PASS & FAU=19;FCU=0;FGU=2;FTU=0;RAU=18;RCU=0;RGU=1;RTU=0;SB=1.0       & GT:GQ:DP:AF:AD:AU:CU:GU:TU & 0/1:21:40:0.0750:37,3:37:0:3:0 & 0/1 & 21 & 40 & 0.0750 & 37,3 & 37 & 0  & 3  & 0  & Q3\\\\\n",
       "\t chr1 & 787198 & . & T & C & 14.7852 & PASS & FAU=0;FCU=2;FGU=0;FTU=12;RAU=0;RCU=1;RGU=0;RTU=8;SB=1.0        & GT:GQ:DP:AF:AD:AU:CU:GU:TU & 0/1:14:23:0.1304:20,3:0:3:0:20 & 0/1 & 14 & 23 & 0.1304 & 20,3 & 0  & 3  & 0  & 20 & Q3\\\\\n",
       "\t chr1 & 831330 & . & T & C & 17.4864 & PASS & FAU=0;FCU=3;FGU=0;FTU=51;RAU=0;RCU=2;RGU=0;RTU=34;SB=1.0       & GT:GQ:DP:AF:AD:AU:CU:GU:TU & 0/1:17:90:0.0556:85,5:0:5:0:85 & 0/1 & 17 & 90 & 0.0556 & 85,5 & 0  & 5  & 0  & 85 & Q3\\\\\n",
       "\t chr1 & 833625 & . & C & T & 13.2505 & PASS & FAU=0;FCU=42;FGU=0;FTU=2;RAU=0;RCU=27;RGU=0;RTU=2;SB=1.0       & GT:GQ:DP:AF:AD:AU:CU:GU:TU & 0/1:13:74:0.0541:69,4:0:69:0:4 & 0/1 & 13 & 74 & 0.0541 & 69,4 & 0  & 69 & 0  & 4  & Q3\\\\\n",
       "\t chr1 & 833632 & . & T & C & 16.7791 & PASS & FAU=0;FCU=2;FGU=0;FTU=40;RAU=0;RCU=2;RGU=0;RTU=27;SB=1.0       & GT:GQ:DP:AF:AD:AU:CU:GU:TU & 0/1:16:72:0.0556:67,4:0:4:0:67 & 0/1 & 16 & 72 & 0.0556 & 67,4 & 0  & 4  & 0  & 67 & Q3\\\\\n",
       "\t chr1 & 834925 & . & A & G & 15.0979 & PASS & FAU=26;FCU=0;FGU=2;FTU=0;RAU=29;RCU=0;RGU=2;RTU=0;SB=1.0       & GT:GQ:DP:AF:AD:AU:CU:GU:TU & 0/1:15:59:0.0678:55,4:55:0:4:0 & 0/1 & 15 & 59 & 0.0678 & 55,4 & 55 & 0  & 4  & 0  & Q3\\\\\n",
       "\t chr1 & 836576 & . & T & C & 19.1571 & PASS & FAU=0;FCU=2;FGU=0;FTU=26;RAU=0;RCU=2;RGU=0;RTU=26;SB=1.0       & GT:GQ:DP:AF:AD:AU:CU:GU:TU & 0/1:19:57:0.0702:52,4:0:4:0:52 & 0/1 & 19 & 57 & 0.0702 & 52,4 & 0  & 4  & 0  & 52 & Q3\\\\\n",
       "\t chr1 & 837592 & . & T & C & 16.0198 & PASS & FAU=0;FCU=2;FGU=0;FTU=39;RAU=0;RCU=2;RGU=0;RTU=28;SB=1.0       & GT:GQ:DP:AF:AD:AU:CU:GU:TU & 0/1:16:71:0.0563:67,4:0:4:0:67 & 0/1 & 16 & 71 & 0.0563 & 67,4 & 0  & 4  & 0  & 67 & Q3\\\\\n",
       "\t chr1 & 849590 & . & T & C & 21.1387 & PASS & FAU=0;FCU=2;FGU=0;FTU=18;RAU=0;RCU=1;RGU=0;RTU=22;SB=0.58998   & GT:GQ:DP:AF:AD:AU:CU:GU:TU & 0/1:21:43:0.0698:40,3:0:3:0:40 & 0/1 & 21 & 43 & 0.0698 & 40,3 & 0  & 3  & 0  & 40 & Q3\\\\\n",
       "\t chr1 & 863474 & . & A & G & 20.4546 & PASS & H;FAU=33;FCU=0;FGU=3;FTU=0;RAU=27;RCU=0;RGU=1;RTU=0;SB=1.0     & GT:GQ:DP:AF:AD:AU:CU:GU:TU & 0/1:20:64:0.0625:60,4:60:0:4:0 & 0/1 & 20 & 64 & 0.0625 & 60,4 & 60 & 0  & 4  & 0  & Q3\\\\\n",
       "\t chr1 & 872206 & . & T & C & 14.4036 & PASS & H;FAU=0;FCU=1;FGU=0;FTU=31;RAU=0;RCU=2;RGU=0;RTU=25;SB=0.56545 & GT:GQ:DP:AF:AD:AU:CU:GU:TU & 0/1:14:59:0.0508:56,3:0:3:0:56 & 0/1 & 14 & 59 & 0.0508 & 56,3 & 0  & 3  & 0  & 56 & Q3\\\\\n",
       "\t chr1 & 872989 & . & T & C & 14.6196 & PASS & H;FAU=0;FCU=2;FGU=0;FTU=33;RAU=0;RCU=1;RGU=0;RTU=23;SB=1.0     & GT:GQ:DP:AF:AD:AU:CU:GU:TU & 0/1:14:59:0.0508:56,3:0:3:0:56 & 0/1 & 14 & 59 & 0.0508 & 56,3 & 0  & 3  & 0  & 56 & Q3\\\\\n",
       "\t chr1 & 877576 & . & T & C & 15.9677 & PASS & H;FAU=0;FCU=2;FGU=0;FTU=30;RAU=0;RCU=1;RGU=0;RTU=15;SB=1.0     & GT:GQ:DP:AF:AD:AU:CU:GU:TU & 0/1:15:48:0.0625:45,3:0:3:0:45 & 0/1 & 15 & 48 & 0.0625 & 45,3 & 0  & 3  & 0  & 45 & Q3\\\\\n",
       "\t chr1 & 890490 & . & A & G & 16.2334 & PASS & FAU=7;FCU=0;FGU=1;FTU=0;RAU=8;RCU=0;RGU=3;RTU=0;SB=0.62096     & GT:GQ:DP:AF:AD:AU:CU:GU:TU & 0/1:16:19:0.2105:15,4:15:0:4:0 & 0/1 & 16 & 19 & 0.2105 & 15,4 & 15 & 0  & 4  & 0  & Q3\\\\\n",
       "\t chr1 & 891544 & . & T & C & 25.2339 & PASS & FAU=0;FCU=2;FGU=0;FTU=8;RAU=0;RCU=1;RGU=0;RTU=9;SB=0.57143     & GT:GQ:DP:AF:AD:AU:CU:GU:TU & 0/1:25:20:0.1500:17,3:0:3:0:17 & 0/1 & 25 & 20 & 0.1500 & 17,3 & 0  & 3  & 0  & 17 & Q3\\\\\n",
       "\t ⋮ & ⋮ & ⋮ & ⋮ & ⋮ & ⋮ & ⋮ & ⋮ & ⋮ & ⋮ & ⋮ & ⋮ & ⋮ & ⋮ & ⋮ & ⋮ & ⋮ & ⋮ & ⋮ & ⋮\\\\\n",
       "\t chrX & 155990521 & . & A & T & 53.2068 & PASS & FAU=10;FCU=0;FGU=0;FTU=2;RAU=13;RCU=0;RGU=0;RTU=2;SB=1.0           & GT:GQ:DP:AF:AD:AU:CU:GU:TU & 0/1:53:27:0.1481:23,4:23:0:0:4      & 0/1 & 53 & 27  & 0.1481 & 23,4   & 23  & 0   & 0   & 4   & Q3\\\\\n",
       "\t chrX & 155991883 & . & T & C & 17.9454 & PASS & FAU=0;FCU=2;FGU=0;FTU=14;RAU=0;RCU=1;RGU=0;RTU=13;SB=1.0           & GT:GQ:DP:AF:AD:AU:CU:GU:TU & 0/1:17:30:0.1000:27,3:0:3:0:27      & 0/1 & 17 & 30  & 0.1000 & 27,3   & 0   & 3   & 0   & 27  & Q3\\\\\n",
       "\t chrY &  11107613 & . & G & A & 26.5277 & PASS & FAU=2;FCU=0;FGU=6;FTU=0;RAU=3;RCU=0;RGU=3;RTU=0;SB=0.32867         & GT:GQ:DP:AF:AD:AU:CU:GU:TU & 0/1:26:14:0.3571:9,5:5:0:9:0        & 0/1 & 26 & 14  & 0.3571 & 9,5    & 5   & 0   & 9   & 0   & Q3\\\\\n",
       "\t chrY &  11107693 & . & C & G & 15.2934 & PASS & FAU=0;FCU=6;FGU=3;FTU=0;RAU=0;RCU=2;RGU=2;RTU=0;SB=1.0             & GT:GQ:DP:AF:AD:AU:CU:GU:TU & 0/1:15:13:0.3846:8,5:0:8:5:0        & 0/1 & 15 & 13  & 0.3846 & 8,5    & 0   & 8   & 5   & 0   & Q3\\\\\n",
       "\t chrY &  11108142 & . & G & A & 12.5761 & PASS & FAU=1;FCU=0;FGU=9;FTU=0;RAU=3;RCU=0;RGU=5;RTU=0;SB=0.28483         & GT:GQ:DP:AF:AD:AU:CU:GU:TU & 0/1:12:19:0.2105:14,4:4:0:14:0      & 0/1 & 12 & 19  & 0.2105 & 14,4   & 4   & 0   & 14  & 0   & Q3\\\\\n",
       "\t chrY &  11111423 & . & C & T & 20.5264 & PASS & H;FAU=0;FCU=5;FGU=0;FTU=3;RAU=0;RCU=4;RGU=0;RTU=5;SB=0.63719       & GT:GQ:DP:AF:AD:AU:CU:GU:TU & 0/1:20:17:0.4706:9,8:0:9:0:8        & 0/1 & 20 & 17  & 0.4706 & 9,8    & 0   & 9   & 0   & 8   & Q3\\\\\n",
       "\t chrY &  11117117 & . & G & A & 17.6191 & PASS & FAU=2;FCU=0;FGU=8;FTU=0;RAU=2;RCU=0;RGU=5;RTU=0;SB=1.0             & GT:GQ:DP:AF:AD:AU:CU:GU:TU & 0/1:17:17:0.2353:13,4:4:0:13:0      & 0/1 & 17 & 17  & 0.2353 & 13,4   & 4   & 0   & 13  & 0   & Q3\\\\\n",
       "\t chrY &  11334485 & . & T & C & 54.3717 & PASS & FAU=0;FCU=8;FGU=0;FTU=1;RAU=0;RCU=2;RGU=0;RTU=5;SB=0.03497         & GT:GQ:DP:AF:AD:AU:CU:GU:TU & 0/1:54:16:0.6250:6,10:0:10:0:6      & 0/1 & 54 & 16  & 0.6250 & 6,10   & 0   & 10  & 0   & 6   & Q3\\\\\n",
       "\t chrY &  11386391 & . & A & G & 17.4762 & PASS & FAU=2;FCU=0;FGU=2;FTU=0;RAU=5;RCU=0;RGU=2;RTU=0;SB=0.57576         & GT:GQ:DP:AF:AD:AU:CU:GU:TU & 0/1:17:11:0.3636:7,4:7:0:4:0        & 0/1 & 17 & 11  & 0.3636 & 7,4    & 7   & 0   & 4   & 0   & Q3\\\\\n",
       "\t chrY &  11387391 & . & T & C & 13.0979 & PASS & FAU=0;FCU=2;FGU=0;FTU=2;RAU=0;RCU=2;RGU=0;RTU=7;SB=0.53007         & GT:GQ:DP:AF:AD:AU:CU:GU:TU & 0/1:13:13:0.3077:9,4:0:4:0:9        & 0/1 & 13 & 13  & 0.3077 & 9,4    & 0   & 4   & 0   & 9   & Q3\\\\\n",
       "\t chrY &  11387543 & . & T & C & 12.1125 & PASS & FAU=0;FCU=2;FGU=0;FTU=3;RAU=0;RCU=2;RGU=0;RTU=7;SB=0.56044         & GT:GQ:DP:AF:AD:AU:CU:GU:TU & 0/1:12:14:0.2857:10,4:0:4:0:10      & 0/1 & 12 & 14  & 0.2857 & 10,4   & 0   & 4   & 0   & 10  & Q3\\\\\n",
       "\t chrY &  56821847 & . & G & C & 16.4162 & PASS & H;FAU=0;FCU=2;FGU=6;FTU=0;RAU=0;RCU=2;RGU=8;RTU=0;SB=0.61771       & GT:GQ:DP:AF:AD:AU:CU:GU:TU & 0/1:16:18:0.2222:14,4:0:4:14:0      & 0/1 & 16 & 18  & 0.2222 & 14,4   & 0   & 4   & 14  & 0   & Q3\\\\\n",
       "\t chrY &  56851586 & . & G & A & 18.7914 & PASS & FAU=12;FCU=0;FGU=102;FTU=0;RAU=10;RCU=0;RGU=102;RTU=0;SB=0.66222   & GT:GQ:DP:AF:AD:AU:CU:GU:TU & 0/1:18:226:0.0973:204,22:22:0:204:0 & 0/1 & 18 & 226 & 0.0973 & 204,22 & 22  & 0   & 204 & 0   & Q3\\\\\n",
       "\t chrY &  56852306 & . & C & A & 14.3195 & PASS & FAU=8;FCU=108;FGU=0;FTU=0;RAU=13;RCU=115;RGU=0;RTU=0;SB=0.51202    & GT:GQ:DP:AF:AD:AU:CU:GU:TU & 0/1:14:244:0.0861:223,21:21:223:0:0 & 0/1 & 14 & 244 & 0.0861 & 223,21 & 21  & 223 & 0   & 0   & Q3\\\\\n",
       "\t chrY &  56853153 & . & T & C & 21.0236 & PASS & FAU=0;FCU=30;FGU=0;FTU=93;RAU=0;RCU=33;RGU=0;RTU=109;SB=0.77949    & GT:GQ:DP:AF:AD:AU:CU:GU:TU & 0/1:21:265:0.2377:202,63:0:63:0:202 & 0/1 & 21 & 265 & 0.2377 & 202,63 & 0   & 63  & 0   & 202 & Q3\\\\\n",
       "\t chrY &  56853154 & . & G & T & 23.6621 & PASS & FAU=2;FCU=0;FGU=94;FTU=30;RAU=2;RCU=0;RGU=107;RTU=33;SB=0.77949    & GT:GQ:DP:AF:AD:AU:CU:GU:TU & 0/1:23:268:0.2351:201,63:4:0:201:63 & 0/1 & 23 & 268 & 0.2351 & 201,63 & 4   & 0   & 201 & 63  & Q3\\\\\n",
       "\t chrY &  56853457 & . & A & C & 14.6932 & PASS & FAU=124;FCU=11;FGU=0;FTU=0;RAU=135;RCU=14;RGU=0;RTU=0;SB=0.83476   & GT:GQ:DP:AF:AD:AU:CU:GU:TU & 0/1:14:284:0.0880:259,25:259:25:0:0 & 0/1 & 14 & 284 & 0.0880 & 259,25 & 259 & 25  & 0   & 0   & Q3\\\\\n",
       "\t chrY &  56853606 & . & G & T & 17.2308 & PASS & FAU=0;FCU=0;FGU=129;FTU=13;RAU=0;RCU=0;RGU=137;RTU=15;SB=1.0       & GT:GQ:DP:AF:AD:AU:CU:GU:TU & 0/1:17:294:0.0952:266,28:0:0:266:28 & 0/1 & 17 & 294 & 0.0952 & 266,28 & 0   & 0   & 266 & 28  & Q3\\\\\n",
       "\t chrY &  56854224 & . & G & T & 10.0871 & PASS & H;FAU=0;FCU=0;FGU=159;FTU=16;RAU=0;RCU=0;RGU=151;RTU=15;SB=1.0     & GT:GQ:DP:AF:AD:AU:CU:GU:TU & 0/1:10:341:0.0909:310,31:0:0:310:31 & 0/1 & 10 & 341 & 0.0909 & 310,31 & 0   & 0   & 310 & 31  & Q3\\\\\n",
       "\t chrY &  56854321 & . & C & T & 59.4913 & PASS & FAU=0;FCU=134;FGU=0;FTU=49;RAU=0;RCU=144;RGU=0;RTU=39;SB=0.27584   & GT:GQ:DP:AF:AD:AU:CU:GU:TU & 0/1:59:366:0.2404:278,88:0:278:0:88 & 0/1 & 59 & 366 & 0.2404 & 278,88 & 0   & 278 & 0   & 88  & Q3\\\\\n",
       "\t chrY &  56857748 & . & T & A &  9.2395 & PASS & H;FAU=29;FCU=0;FGU=0;FTU=282;RAU=23;RCU=0;RGU=0;RTU=278;SB=0.39169 & GT:GQ:DP:AF:AD:AU:CU:GU:TU & 0/1:9:612:0.0850:560,52:52:0:0:560  & 0/1 & 9  & 612 & 0.0850 & 560,52 & 52  & 0   & 0   & 560 & Q3\\\\\n",
       "\t chrY &  56859432 & . & A & C & 13.3793 & PASS & H;FAU=173;FCU=35;FGU=0;FTU=0;RAU=164;RCU=27;RGU=1;RTU=0;SB=0.27983 & GT:GQ:DP:AF:AD:AU:CU:GU:TU & 0/1:13:400:0.1550:337,62:337:62:1:0 & 0/1 & 13 & 400 & 0.1550 & 337,62 & 337 & 62  & 1   & 0   & Q3\\\\\n",
       "\t chrY &  56859954 & . & A & C & 12.6353 & PASS & H;FAU=197;FCU=17;FGU=0;FTU=0;RAU=177;RCU=14;RGU=1;RTU=0;SB=0.8611  & GT:GQ:DP:AF:AD:AU:CU:GU:TU & 0/1:12:406:0.0764:374,31:374:31:1:0 & 0/1 & 12 & 406 & 0.0764 & 374,31 & 374 & 31  & 1   & 0   & Q3\\\\\n",
       "\t chrY &  56860064 & . & G & A & 14.2908 & PASS & FAU=18;FCU=0;FGU=197;FTU=0;RAU=16;RCU=0;RGU=177;RTU=0;SB=0.86547   & GT:GQ:DP:AF:AD:AU:CU:GU:TU & 0/1:14:408:0.0833:374,34:34:0:374:0 & 0/1 & 14 & 408 & 0.0833 & 374,34 & 34  & 0   & 374 & 0   & Q3\\\\\n",
       "\t chrY &  56860789 & . & C & T & 12.9183 & PASS & FAU=0;FCU=156;FGU=0;FTU=16;RAU=0;RCU=129;RGU=0;RTU=13;SB=1.0       & GT:GQ:DP:AF:AD:AU:CU:GU:TU & 0/1:12:314:0.0924:285,29:0:285:0:29 & 0/1 & 12 & 314 & 0.0924 & 285,29 & 0   & 285 & 0   & 29  & Q3\\\\\n",
       "\t chrY &  56863083 & . & C & T &  9.2390 & PASS & H;FAU=0;FCU=91;FGU=0;FTU=9;RAU=0;RCU=85;RGU=0;RTU=12;SB=0.49047    & GT:GQ:DP:AF:AD:AU:CU:GU:TU & 0/1:9:197:0.1066:176,21:0:176:0:21  & 0/1 & 9  & 197 & 0.1066 & 176,21 & 0   & 176 & 0   & 21  & Q3\\\\\n",
       "\t chrY &  56865621 & . & A & T & 20.7002 & PASS & H;FAU=66;FCU=0;FGU=0;FTU=6;RAU=44;RCU=0;RGU=1;RTU=8;SB=0.28825     & GT:GQ:DP:AF:AD:AU:CU:GU:TU & 0/1:20:125:0.1120:110,14:110:0:1:14 & 0/1 & 20 & 125 & 0.1120 & 110,14 & 110 & 0   & 1   & 14  & Q3\\\\\n",
       "\t chrY &  56867213 & . & C & T & 14.5788 & PASS & FAU=0;FCU=23;FGU=0;FTU=6;RAU=0;RCU=37;RGU=0;RTU=16;SB=0.4496       & GT:GQ:DP:AF:AD:AU:CU:GU:TU & 0/1:14:82:0.2683:60,22:0:60:0:22    & 0/1 & 14 & 82  & 0.2683 & 60,22  & 0   & 60  & 0   & 22  & Q3\\\\\n",
       "\t chrY &  56870918 & . & G & A & 25.1104 & PASS & H;FAU=2;FCU=0;FGU=28;FTU=0;RAU=5;RCU=0;RGU=32;RTU=0;SB=1.0         & GT:GQ:DP:AF:AD:AU:CU:GU:TU & 0/1:25:67:0.1045:60,7:7:0:60:0      & 0/1 & 25 & 67  & 0.1045 & 60,7   & 7   & 0   & 60  & 0   & Q3\\\\\n",
       "\t chrY &  56875693 & . & C & G &  9.5873 & PASS & H;FAU=0;FCU=40;FGU=5;FTU=0;RAU=0;RCU=24;RGU=5;RTU=0;SB=0.49568     & GT:GQ:DP:AF:AD:AU:CU:GU:TU & 0/1:9:74:0.1351:64,10:0:64:10:0     & 0/1 & 9  & 74  & 0.1351 & 64,10  & 0   & 64  & 10  & 0   & Q3\\\\\n",
       "\\end{tabular}\n"
      ],
      "text/markdown": [
       "\n",
       "A data.table: 594677 × 20\n",
       "\n",
       "| #CHROM &lt;chr&gt; | POS &lt;int&gt; | ID &lt;chr&gt; | REF &lt;chr&gt; | ALT &lt;chr&gt; | QUAL &lt;dbl&gt; | FILTER &lt;chr&gt; | INFO &lt;chr&gt; | FORMAT &lt;chr&gt; | Q3 &lt;chr&gt; | GT &lt;chr&gt; | GQ &lt;chr&gt; | DP &lt;chr&gt; | AF &lt;chr&gt; | AD &lt;chr&gt; | AU &lt;chr&gt; | CU &lt;chr&gt; | GU &lt;chr&gt; | TU &lt;chr&gt; | timepoint &lt;chr&gt; |\n",
       "|---|---|---|---|---|---|---|---|---|---|---|---|---|---|---|---|---|---|---|---|\n",
       "| chr1 |  58952 | . | A | G | 14.6705 | PASS | FAU=5;FCU=0;FGU=2;FTU=0;RAU=8;RCU=0;RGU=2;RTU=0;SB=1.0         | GT:GQ:DP:AF:AD:AU:CU:GU:TU | 0/1:14:17:0.2353:13,4:13:0:4:0 | 0/1 | 14 | 17 | 0.2353 | 13,4 | 13 | 0  | 4  | 0  | Q3 |\n",
       "| chr1 |  60541 | . | A | G | 10.0087 | PASS | H;FAU=5;FCU=0;FGU=1;FTU=0;RAU=9;RCU=0;RGU=2;RTU=0;SB=1.0       | GT:GQ:DP:AF:AD:AU:CU:GU:TU | 0/1:10:17:0.1765:14,3:14:0:3:0 | 0/1 | 10 | 17 | 0.1765 | 14,3 | 14 | 0  | 3  | 0  | Q3 |\n",
       "| chr1 |  62304 | . | T | C | 17.2842 | PASS | H;FAU=0;FCU=2;FGU=0;FTU=7;RAU=0;RCU=1;RGU=0;RTU=5;SB=1.0       | GT:GQ:DP:AF:AD:AU:CU:GU:TU | 0/1:17:15:0.2000:12,3:0:3:0:12 | 0/1 | 17 | 15 | 0.2000 | 12,3 | 0  | 3  | 0  | 12 | Q3 |\n",
       "| chr1 | 128957 | . | T | C | 22.4832 | PASS | H;FAU=0;FCU=2;FGU=0;FTU=8;RAU=0;RCU=3;RGU=0;RTU=10;SB=1.0      | GT:GQ:DP:AF:AD:AU:CU:GU:TU | 0/1:22:23:0.2174:18,5:0:5:0:18 | 0/1 | 22 | 23 | 0.2174 | 18,5 | 0  | 5  | 0  | 18 | Q3 |\n",
       "| chr1 | 131184 | . | T | C | 10.7616 | PASS | H;FAU=0;FCU=2;FGU=0;FTU=6;RAU=0;RCU=3;RGU=0;RTU=7;SB=1.0       | GT:GQ:DP:AF:AD:AU:CU:GU:TU | 0/1:10:18:0.2778:13,5:0:5:0:13 | 0/1 | 10 | 18 | 0.2778 | 13,5 | 0  | 5  | 0  | 13 | Q3 |\n",
       "| chr1 | 131817 | . | A | G |  8.1306 | PASS | H;FAU=7;FCU=0;FGU=2;FTU=0;RAU=7;RCU=0;RGU=2;RTU=0;SB=1.0       | GT:GQ:DP:AF:AD:AU:CU:GU:TU | 0/1:8:18:0.2222:14,4:14:0:4:0  | 0/1 | 8  | 18 | 0.2222 | 14,4 | 14 | 0  | 4  | 0  | Q3 |\n",
       "| chr1 | 289127 | . | G | A | 14.2460 | PASS | H;FAU=2;FCU=0;FGU=12;FTU=0;RAU=1;RCU=0;RGU=5;RTU=0;SB=1.0      | GT:GQ:DP:AF:AD:AU:CU:GU:TU | 0/1:14:20:0.1500:17,3:3:0:17:0 | 0/1 | 14 | 20 | 0.1500 | 17,3 | 3  | 0  | 17 | 0  | Q3 |\n",
       "| chr1 | 289745 | . | T | C |  9.1576 | PASS | H;FAU=0;FCU=2;FGU=0;FTU=18;RAU=0;RCU=1;RGU=0;RTU=8;SB=1.0      | GT:GQ:DP:AF:AD:AU:CU:GU:TU | 0/1:9:29:0.1034:26,3:0:3:0:26  | 0/1 | 9  | 29 | 0.1034 | 26,3 | 0  | 3  | 0  | 26 | Q3 |\n",
       "| chr1 | 617409 | . | A | C | 20.6958 | PASS | FAU=0;FCU=6;FGU=0;FTU=0;RAU=0;RCU=8;RGU=0;RTU=0;SB=1.0         | GT:GQ:DP:AF:AD:AU:CU:GU:TU | 1/1:20:14:1.0000:0,14:0:14:0:0 | 1/1 | 20 | 14 | 1.0000 | 0,14 | 0  | 14 | 0  | 0  | Q3 |\n",
       "| chr1 | 638954 | . | A | G | 53.8897 | PASS | FAU=8;FCU=0;FGU=1;FTU=0;RAU=11;RCU=0;RGU=2;RTU=0;SB=1.0        | GT:GQ:DP:AF:AD:AU:CU:GU:TU | 0/1:53:22:0.1364:19,3:19:0:3:0 | 0/1 | 53 | 22 | 0.1364 | 19,3 | 19 | 0  | 3  | 0  | Q3 |\n",
       "| chr1 | 643353 | . | A | G |  8.9180 | PASS | H;FAU=4;FCU=0;FGU=2;FTU=0;RAU=8;RCU=0;RGU=2;RTU=0;SB=0.58403   | GT:GQ:DP:AF:AD:AU:CU:GU:TU | 0/1:8:17:0.2353:12,4:12:0:4:0  | 0/1 | 8  | 17 | 0.2353 | 12,4 | 12 | 0  | 4  | 0  | Q3 |\n",
       "| chr1 | 669334 | . | A | C | 20.6609 | PASS | FAU=0;FCU=5;FGU=0;FTU=0;RAU=2;RCU=4;RGU=0;RTU=0;SB=1.0         | GT:GQ:DP:AF:AD:AU:CU:GU:TU | 0/1:20:12:0.7500:2,9:2:9:0:0   | 0/1 | 20 | 12 | 0.7500 | 2,9  | 2  | 9  | 0  | 0  | Q3 |\n",
       "| chr1 | 690422 | . | T | C |  8.0665 | PASS | H;FAU=0;FCU=2;FGU=0;FTU=7;RAU=0;RCU=2;RGU=0;RTU=7;SB=1.0       | GT:GQ:DP:AF:AD:AU:CU:GU:TU | 0/1:8:18:0.2222:14,4:0:4:0:14  | 0/1 | 8  | 18 | 0.2222 | 14,4 | 0  | 4  | 0  | 14 | Q3 |\n",
       "| chr1 | 702349 | . | G | A | 11.9877 | PASS | H;FAU=2;FCU=0;FGU=2;FTU=0;RAU=1;RCU=0;RGU=10;RTU=0;SB=0.17157  | GT:GQ:DP:AF:AD:AU:CU:GU:TU | 0/1:11:18:0.1667:12,3:3:0:12:0 | 0/1 | 11 | 18 | 0.1667 | 12,3 | 3  | 0  | 12 | 0  | Q3 |\n",
       "| chr1 | 784500 | . | T | C | 22.5001 | PASS | FAU=0;FCU=1;FGU=0;FTU=14;RAU=0;RCU=2;RGU=0;RTU=17;SB=1.0       | GT:GQ:DP:AF:AD:AU:CU:GU:TU | 0/1:22:34:0.0882:31,3:0:3:0:31 | 0/1 | 22 | 34 | 0.0882 | 31,3 | 0  | 3  | 0  | 31 | Q3 |\n",
       "| chr1 | 784769 | . | A | G | 21.7814 | PASS | FAU=19;FCU=0;FGU=2;FTU=0;RAU=18;RCU=0;RGU=1;RTU=0;SB=1.0       | GT:GQ:DP:AF:AD:AU:CU:GU:TU | 0/1:21:40:0.0750:37,3:37:0:3:0 | 0/1 | 21 | 40 | 0.0750 | 37,3 | 37 | 0  | 3  | 0  | Q3 |\n",
       "| chr1 | 787198 | . | T | C | 14.7852 | PASS | FAU=0;FCU=2;FGU=0;FTU=12;RAU=0;RCU=1;RGU=0;RTU=8;SB=1.0        | GT:GQ:DP:AF:AD:AU:CU:GU:TU | 0/1:14:23:0.1304:20,3:0:3:0:20 | 0/1 | 14 | 23 | 0.1304 | 20,3 | 0  | 3  | 0  | 20 | Q3 |\n",
       "| chr1 | 831330 | . | T | C | 17.4864 | PASS | FAU=0;FCU=3;FGU=0;FTU=51;RAU=0;RCU=2;RGU=0;RTU=34;SB=1.0       | GT:GQ:DP:AF:AD:AU:CU:GU:TU | 0/1:17:90:0.0556:85,5:0:5:0:85 | 0/1 | 17 | 90 | 0.0556 | 85,5 | 0  | 5  | 0  | 85 | Q3 |\n",
       "| chr1 | 833625 | . | C | T | 13.2505 | PASS | FAU=0;FCU=42;FGU=0;FTU=2;RAU=0;RCU=27;RGU=0;RTU=2;SB=1.0       | GT:GQ:DP:AF:AD:AU:CU:GU:TU | 0/1:13:74:0.0541:69,4:0:69:0:4 | 0/1 | 13 | 74 | 0.0541 | 69,4 | 0  | 69 | 0  | 4  | Q3 |\n",
       "| chr1 | 833632 | . | T | C | 16.7791 | PASS | FAU=0;FCU=2;FGU=0;FTU=40;RAU=0;RCU=2;RGU=0;RTU=27;SB=1.0       | GT:GQ:DP:AF:AD:AU:CU:GU:TU | 0/1:16:72:0.0556:67,4:0:4:0:67 | 0/1 | 16 | 72 | 0.0556 | 67,4 | 0  | 4  | 0  | 67 | Q3 |\n",
       "| chr1 | 834925 | . | A | G | 15.0979 | PASS | FAU=26;FCU=0;FGU=2;FTU=0;RAU=29;RCU=0;RGU=2;RTU=0;SB=1.0       | GT:GQ:DP:AF:AD:AU:CU:GU:TU | 0/1:15:59:0.0678:55,4:55:0:4:0 | 0/1 | 15 | 59 | 0.0678 | 55,4 | 55 | 0  | 4  | 0  | Q3 |\n",
       "| chr1 | 836576 | . | T | C | 19.1571 | PASS | FAU=0;FCU=2;FGU=0;FTU=26;RAU=0;RCU=2;RGU=0;RTU=26;SB=1.0       | GT:GQ:DP:AF:AD:AU:CU:GU:TU | 0/1:19:57:0.0702:52,4:0:4:0:52 | 0/1 | 19 | 57 | 0.0702 | 52,4 | 0  | 4  | 0  | 52 | Q3 |\n",
       "| chr1 | 837592 | . | T | C | 16.0198 | PASS | FAU=0;FCU=2;FGU=0;FTU=39;RAU=0;RCU=2;RGU=0;RTU=28;SB=1.0       | GT:GQ:DP:AF:AD:AU:CU:GU:TU | 0/1:16:71:0.0563:67,4:0:4:0:67 | 0/1 | 16 | 71 | 0.0563 | 67,4 | 0  | 4  | 0  | 67 | Q3 |\n",
       "| chr1 | 849590 | . | T | C | 21.1387 | PASS | FAU=0;FCU=2;FGU=0;FTU=18;RAU=0;RCU=1;RGU=0;RTU=22;SB=0.58998   | GT:GQ:DP:AF:AD:AU:CU:GU:TU | 0/1:21:43:0.0698:40,3:0:3:0:40 | 0/1 | 21 | 43 | 0.0698 | 40,3 | 0  | 3  | 0  | 40 | Q3 |\n",
       "| chr1 | 863474 | . | A | G | 20.4546 | PASS | H;FAU=33;FCU=0;FGU=3;FTU=0;RAU=27;RCU=0;RGU=1;RTU=0;SB=1.0     | GT:GQ:DP:AF:AD:AU:CU:GU:TU | 0/1:20:64:0.0625:60,4:60:0:4:0 | 0/1 | 20 | 64 | 0.0625 | 60,4 | 60 | 0  | 4  | 0  | Q3 |\n",
       "| chr1 | 872206 | . | T | C | 14.4036 | PASS | H;FAU=0;FCU=1;FGU=0;FTU=31;RAU=0;RCU=2;RGU=0;RTU=25;SB=0.56545 | GT:GQ:DP:AF:AD:AU:CU:GU:TU | 0/1:14:59:0.0508:56,3:0:3:0:56 | 0/1 | 14 | 59 | 0.0508 | 56,3 | 0  | 3  | 0  | 56 | Q3 |\n",
       "| chr1 | 872989 | . | T | C | 14.6196 | PASS | H;FAU=0;FCU=2;FGU=0;FTU=33;RAU=0;RCU=1;RGU=0;RTU=23;SB=1.0     | GT:GQ:DP:AF:AD:AU:CU:GU:TU | 0/1:14:59:0.0508:56,3:0:3:0:56 | 0/1 | 14 | 59 | 0.0508 | 56,3 | 0  | 3  | 0  | 56 | Q3 |\n",
       "| chr1 | 877576 | . | T | C | 15.9677 | PASS | H;FAU=0;FCU=2;FGU=0;FTU=30;RAU=0;RCU=1;RGU=0;RTU=15;SB=1.0     | GT:GQ:DP:AF:AD:AU:CU:GU:TU | 0/1:15:48:0.0625:45,3:0:3:0:45 | 0/1 | 15 | 48 | 0.0625 | 45,3 | 0  | 3  | 0  | 45 | Q3 |\n",
       "| chr1 | 890490 | . | A | G | 16.2334 | PASS | FAU=7;FCU=0;FGU=1;FTU=0;RAU=8;RCU=0;RGU=3;RTU=0;SB=0.62096     | GT:GQ:DP:AF:AD:AU:CU:GU:TU | 0/1:16:19:0.2105:15,4:15:0:4:0 | 0/1 | 16 | 19 | 0.2105 | 15,4 | 15 | 0  | 4  | 0  | Q3 |\n",
       "| chr1 | 891544 | . | T | C | 25.2339 | PASS | FAU=0;FCU=2;FGU=0;FTU=8;RAU=0;RCU=1;RGU=0;RTU=9;SB=0.57143     | GT:GQ:DP:AF:AD:AU:CU:GU:TU | 0/1:25:20:0.1500:17,3:0:3:0:17 | 0/1 | 25 | 20 | 0.1500 | 17,3 | 0  | 3  | 0  | 17 | Q3 |\n",
       "| ⋮ | ⋮ | ⋮ | ⋮ | ⋮ | ⋮ | ⋮ | ⋮ | ⋮ | ⋮ | ⋮ | ⋮ | ⋮ | ⋮ | ⋮ | ⋮ | ⋮ | ⋮ | ⋮ | ⋮ |\n",
       "| chrX | 155990521 | . | A | T | 53.2068 | PASS | FAU=10;FCU=0;FGU=0;FTU=2;RAU=13;RCU=0;RGU=0;RTU=2;SB=1.0           | GT:GQ:DP:AF:AD:AU:CU:GU:TU | 0/1:53:27:0.1481:23,4:23:0:0:4      | 0/1 | 53 | 27  | 0.1481 | 23,4   | 23  | 0   | 0   | 4   | Q3 |\n",
       "| chrX | 155991883 | . | T | C | 17.9454 | PASS | FAU=0;FCU=2;FGU=0;FTU=14;RAU=0;RCU=1;RGU=0;RTU=13;SB=1.0           | GT:GQ:DP:AF:AD:AU:CU:GU:TU | 0/1:17:30:0.1000:27,3:0:3:0:27      | 0/1 | 17 | 30  | 0.1000 | 27,3   | 0   | 3   | 0   | 27  | Q3 |\n",
       "| chrY |  11107613 | . | G | A | 26.5277 | PASS | FAU=2;FCU=0;FGU=6;FTU=0;RAU=3;RCU=0;RGU=3;RTU=0;SB=0.32867         | GT:GQ:DP:AF:AD:AU:CU:GU:TU | 0/1:26:14:0.3571:9,5:5:0:9:0        | 0/1 | 26 | 14  | 0.3571 | 9,5    | 5   | 0   | 9   | 0   | Q3 |\n",
       "| chrY |  11107693 | . | C | G | 15.2934 | PASS | FAU=0;FCU=6;FGU=3;FTU=0;RAU=0;RCU=2;RGU=2;RTU=0;SB=1.0             | GT:GQ:DP:AF:AD:AU:CU:GU:TU | 0/1:15:13:0.3846:8,5:0:8:5:0        | 0/1 | 15 | 13  | 0.3846 | 8,5    | 0   | 8   | 5   | 0   | Q3 |\n",
       "| chrY |  11108142 | . | G | A | 12.5761 | PASS | FAU=1;FCU=0;FGU=9;FTU=0;RAU=3;RCU=0;RGU=5;RTU=0;SB=0.28483         | GT:GQ:DP:AF:AD:AU:CU:GU:TU | 0/1:12:19:0.2105:14,4:4:0:14:0      | 0/1 | 12 | 19  | 0.2105 | 14,4   | 4   | 0   | 14  | 0   | Q3 |\n",
       "| chrY |  11111423 | . | C | T | 20.5264 | PASS | H;FAU=0;FCU=5;FGU=0;FTU=3;RAU=0;RCU=4;RGU=0;RTU=5;SB=0.63719       | GT:GQ:DP:AF:AD:AU:CU:GU:TU | 0/1:20:17:0.4706:9,8:0:9:0:8        | 0/1 | 20 | 17  | 0.4706 | 9,8    | 0   | 9   | 0   | 8   | Q3 |\n",
       "| chrY |  11117117 | . | G | A | 17.6191 | PASS | FAU=2;FCU=0;FGU=8;FTU=0;RAU=2;RCU=0;RGU=5;RTU=0;SB=1.0             | GT:GQ:DP:AF:AD:AU:CU:GU:TU | 0/1:17:17:0.2353:13,4:4:0:13:0      | 0/1 | 17 | 17  | 0.2353 | 13,4   | 4   | 0   | 13  | 0   | Q3 |\n",
       "| chrY |  11334485 | . | T | C | 54.3717 | PASS | FAU=0;FCU=8;FGU=0;FTU=1;RAU=0;RCU=2;RGU=0;RTU=5;SB=0.03497         | GT:GQ:DP:AF:AD:AU:CU:GU:TU | 0/1:54:16:0.6250:6,10:0:10:0:6      | 0/1 | 54 | 16  | 0.6250 | 6,10   | 0   | 10  | 0   | 6   | Q3 |\n",
       "| chrY |  11386391 | . | A | G | 17.4762 | PASS | FAU=2;FCU=0;FGU=2;FTU=0;RAU=5;RCU=0;RGU=2;RTU=0;SB=0.57576         | GT:GQ:DP:AF:AD:AU:CU:GU:TU | 0/1:17:11:0.3636:7,4:7:0:4:0        | 0/1 | 17 | 11  | 0.3636 | 7,4    | 7   | 0   | 4   | 0   | Q3 |\n",
       "| chrY |  11387391 | . | T | C | 13.0979 | PASS | FAU=0;FCU=2;FGU=0;FTU=2;RAU=0;RCU=2;RGU=0;RTU=7;SB=0.53007         | GT:GQ:DP:AF:AD:AU:CU:GU:TU | 0/1:13:13:0.3077:9,4:0:4:0:9        | 0/1 | 13 | 13  | 0.3077 | 9,4    | 0   | 4   | 0   | 9   | Q3 |\n",
       "| chrY |  11387543 | . | T | C | 12.1125 | PASS | FAU=0;FCU=2;FGU=0;FTU=3;RAU=0;RCU=2;RGU=0;RTU=7;SB=0.56044         | GT:GQ:DP:AF:AD:AU:CU:GU:TU | 0/1:12:14:0.2857:10,4:0:4:0:10      | 0/1 | 12 | 14  | 0.2857 | 10,4   | 0   | 4   | 0   | 10  | Q3 |\n",
       "| chrY |  56821847 | . | G | C | 16.4162 | PASS | H;FAU=0;FCU=2;FGU=6;FTU=0;RAU=0;RCU=2;RGU=8;RTU=0;SB=0.61771       | GT:GQ:DP:AF:AD:AU:CU:GU:TU | 0/1:16:18:0.2222:14,4:0:4:14:0      | 0/1 | 16 | 18  | 0.2222 | 14,4   | 0   | 4   | 14  | 0   | Q3 |\n",
       "| chrY |  56851586 | . | G | A | 18.7914 | PASS | FAU=12;FCU=0;FGU=102;FTU=0;RAU=10;RCU=0;RGU=102;RTU=0;SB=0.66222   | GT:GQ:DP:AF:AD:AU:CU:GU:TU | 0/1:18:226:0.0973:204,22:22:0:204:0 | 0/1 | 18 | 226 | 0.0973 | 204,22 | 22  | 0   | 204 | 0   | Q3 |\n",
       "| chrY |  56852306 | . | C | A | 14.3195 | PASS | FAU=8;FCU=108;FGU=0;FTU=0;RAU=13;RCU=115;RGU=0;RTU=0;SB=0.51202    | GT:GQ:DP:AF:AD:AU:CU:GU:TU | 0/1:14:244:0.0861:223,21:21:223:0:0 | 0/1 | 14 | 244 | 0.0861 | 223,21 | 21  | 223 | 0   | 0   | Q3 |\n",
       "| chrY |  56853153 | . | T | C | 21.0236 | PASS | FAU=0;FCU=30;FGU=0;FTU=93;RAU=0;RCU=33;RGU=0;RTU=109;SB=0.77949    | GT:GQ:DP:AF:AD:AU:CU:GU:TU | 0/1:21:265:0.2377:202,63:0:63:0:202 | 0/1 | 21 | 265 | 0.2377 | 202,63 | 0   | 63  | 0   | 202 | Q3 |\n",
       "| chrY |  56853154 | . | G | T | 23.6621 | PASS | FAU=2;FCU=0;FGU=94;FTU=30;RAU=2;RCU=0;RGU=107;RTU=33;SB=0.77949    | GT:GQ:DP:AF:AD:AU:CU:GU:TU | 0/1:23:268:0.2351:201,63:4:0:201:63 | 0/1 | 23 | 268 | 0.2351 | 201,63 | 4   | 0   | 201 | 63  | Q3 |\n",
       "| chrY |  56853457 | . | A | C | 14.6932 | PASS | FAU=124;FCU=11;FGU=0;FTU=0;RAU=135;RCU=14;RGU=0;RTU=0;SB=0.83476   | GT:GQ:DP:AF:AD:AU:CU:GU:TU | 0/1:14:284:0.0880:259,25:259:25:0:0 | 0/1 | 14 | 284 | 0.0880 | 259,25 | 259 | 25  | 0   | 0   | Q3 |\n",
       "| chrY |  56853606 | . | G | T | 17.2308 | PASS | FAU=0;FCU=0;FGU=129;FTU=13;RAU=0;RCU=0;RGU=137;RTU=15;SB=1.0       | GT:GQ:DP:AF:AD:AU:CU:GU:TU | 0/1:17:294:0.0952:266,28:0:0:266:28 | 0/1 | 17 | 294 | 0.0952 | 266,28 | 0   | 0   | 266 | 28  | Q3 |\n",
       "| chrY |  56854224 | . | G | T | 10.0871 | PASS | H;FAU=0;FCU=0;FGU=159;FTU=16;RAU=0;RCU=0;RGU=151;RTU=15;SB=1.0     | GT:GQ:DP:AF:AD:AU:CU:GU:TU | 0/1:10:341:0.0909:310,31:0:0:310:31 | 0/1 | 10 | 341 | 0.0909 | 310,31 | 0   | 0   | 310 | 31  | Q3 |\n",
       "| chrY |  56854321 | . | C | T | 59.4913 | PASS | FAU=0;FCU=134;FGU=0;FTU=49;RAU=0;RCU=144;RGU=0;RTU=39;SB=0.27584   | GT:GQ:DP:AF:AD:AU:CU:GU:TU | 0/1:59:366:0.2404:278,88:0:278:0:88 | 0/1 | 59 | 366 | 0.2404 | 278,88 | 0   | 278 | 0   | 88  | Q3 |\n",
       "| chrY |  56857748 | . | T | A |  9.2395 | PASS | H;FAU=29;FCU=0;FGU=0;FTU=282;RAU=23;RCU=0;RGU=0;RTU=278;SB=0.39169 | GT:GQ:DP:AF:AD:AU:CU:GU:TU | 0/1:9:612:0.0850:560,52:52:0:0:560  | 0/1 | 9  | 612 | 0.0850 | 560,52 | 52  | 0   | 0   | 560 | Q3 |\n",
       "| chrY |  56859432 | . | A | C | 13.3793 | PASS | H;FAU=173;FCU=35;FGU=0;FTU=0;RAU=164;RCU=27;RGU=1;RTU=0;SB=0.27983 | GT:GQ:DP:AF:AD:AU:CU:GU:TU | 0/1:13:400:0.1550:337,62:337:62:1:0 | 0/1 | 13 | 400 | 0.1550 | 337,62 | 337 | 62  | 1   | 0   | Q3 |\n",
       "| chrY |  56859954 | . | A | C | 12.6353 | PASS | H;FAU=197;FCU=17;FGU=0;FTU=0;RAU=177;RCU=14;RGU=1;RTU=0;SB=0.8611  | GT:GQ:DP:AF:AD:AU:CU:GU:TU | 0/1:12:406:0.0764:374,31:374:31:1:0 | 0/1 | 12 | 406 | 0.0764 | 374,31 | 374 | 31  | 1   | 0   | Q3 |\n",
       "| chrY |  56860064 | . | G | A | 14.2908 | PASS | FAU=18;FCU=0;FGU=197;FTU=0;RAU=16;RCU=0;RGU=177;RTU=0;SB=0.86547   | GT:GQ:DP:AF:AD:AU:CU:GU:TU | 0/1:14:408:0.0833:374,34:34:0:374:0 | 0/1 | 14 | 408 | 0.0833 | 374,34 | 34  | 0   | 374 | 0   | Q3 |\n",
       "| chrY |  56860789 | . | C | T | 12.9183 | PASS | FAU=0;FCU=156;FGU=0;FTU=16;RAU=0;RCU=129;RGU=0;RTU=13;SB=1.0       | GT:GQ:DP:AF:AD:AU:CU:GU:TU | 0/1:12:314:0.0924:285,29:0:285:0:29 | 0/1 | 12 | 314 | 0.0924 | 285,29 | 0   | 285 | 0   | 29  | Q3 |\n",
       "| chrY |  56863083 | . | C | T |  9.2390 | PASS | H;FAU=0;FCU=91;FGU=0;FTU=9;RAU=0;RCU=85;RGU=0;RTU=12;SB=0.49047    | GT:GQ:DP:AF:AD:AU:CU:GU:TU | 0/1:9:197:0.1066:176,21:0:176:0:21  | 0/1 | 9  | 197 | 0.1066 | 176,21 | 0   | 176 | 0   | 21  | Q3 |\n",
       "| chrY |  56865621 | . | A | T | 20.7002 | PASS | H;FAU=66;FCU=0;FGU=0;FTU=6;RAU=44;RCU=0;RGU=1;RTU=8;SB=0.28825     | GT:GQ:DP:AF:AD:AU:CU:GU:TU | 0/1:20:125:0.1120:110,14:110:0:1:14 | 0/1 | 20 | 125 | 0.1120 | 110,14 | 110 | 0   | 1   | 14  | Q3 |\n",
       "| chrY |  56867213 | . | C | T | 14.5788 | PASS | FAU=0;FCU=23;FGU=0;FTU=6;RAU=0;RCU=37;RGU=0;RTU=16;SB=0.4496       | GT:GQ:DP:AF:AD:AU:CU:GU:TU | 0/1:14:82:0.2683:60,22:0:60:0:22    | 0/1 | 14 | 82  | 0.2683 | 60,22  | 0   | 60  | 0   | 22  | Q3 |\n",
       "| chrY |  56870918 | . | G | A | 25.1104 | PASS | H;FAU=2;FCU=0;FGU=28;FTU=0;RAU=5;RCU=0;RGU=32;RTU=0;SB=1.0         | GT:GQ:DP:AF:AD:AU:CU:GU:TU | 0/1:25:67:0.1045:60,7:7:0:60:0      | 0/1 | 25 | 67  | 0.1045 | 60,7   | 7   | 0   | 60  | 0   | Q3 |\n",
       "| chrY |  56875693 | . | C | G |  9.5873 | PASS | H;FAU=0;FCU=40;FGU=5;FTU=0;RAU=0;RCU=24;RGU=5;RTU=0;SB=0.49568     | GT:GQ:DP:AF:AD:AU:CU:GU:TU | 0/1:9:74:0.1351:64,10:0:64:10:0     | 0/1 | 9  | 74  | 0.1351 | 64,10  | 0   | 64  | 10  | 0   | Q3 |\n",
       "\n"
      ],
      "text/plain": [
       "       #CHROM POS       ID REF ALT QUAL    FILTER\n",
       "1      chr1    58952    .  A   G   14.6705 PASS  \n",
       "2      chr1    60541    .  A   G   10.0087 PASS  \n",
       "3      chr1    62304    .  T   C   17.2842 PASS  \n",
       "4      chr1   128957    .  T   C   22.4832 PASS  \n",
       "5      chr1   131184    .  T   C   10.7616 PASS  \n",
       "6      chr1   131817    .  A   G    8.1306 PASS  \n",
       "7      chr1   289127    .  G   A   14.2460 PASS  \n",
       "8      chr1   289745    .  T   C    9.1576 PASS  \n",
       "9      chr1   617409    .  A   C   20.6958 PASS  \n",
       "10     chr1   638954    .  A   G   53.8897 PASS  \n",
       "11     chr1   643353    .  A   G    8.9180 PASS  \n",
       "12     chr1   669334    .  A   C   20.6609 PASS  \n",
       "13     chr1   690422    .  T   C    8.0665 PASS  \n",
       "14     chr1   702349    .  G   A   11.9877 PASS  \n",
       "15     chr1   784500    .  T   C   22.5001 PASS  \n",
       "16     chr1   784769    .  A   G   21.7814 PASS  \n",
       "17     chr1   787198    .  T   C   14.7852 PASS  \n",
       "18     chr1   831330    .  T   C   17.4864 PASS  \n",
       "19     chr1   833625    .  C   T   13.2505 PASS  \n",
       "20     chr1   833632    .  T   C   16.7791 PASS  \n",
       "21     chr1   834925    .  A   G   15.0979 PASS  \n",
       "22     chr1   836576    .  T   C   19.1571 PASS  \n",
       "23     chr1   837592    .  T   C   16.0198 PASS  \n",
       "24     chr1   849590    .  T   C   21.1387 PASS  \n",
       "25     chr1   863474    .  A   G   20.4546 PASS  \n",
       "26     chr1   872206    .  T   C   14.4036 PASS  \n",
       "27     chr1   872989    .  T   C   14.6196 PASS  \n",
       "28     chr1   877576    .  T   C   15.9677 PASS  \n",
       "29     chr1   890490    .  A   G   16.2334 PASS  \n",
       "30     chr1   891544    .  T   C   25.2339 PASS  \n",
       "⋮      ⋮      ⋮         ⋮  ⋮   ⋮   ⋮       ⋮     \n",
       "594648 chrX   155990521 .  A   T   53.2068 PASS  \n",
       "594649 chrX   155991883 .  T   C   17.9454 PASS  \n",
       "594650 chrY    11107613 .  G   A   26.5277 PASS  \n",
       "594651 chrY    11107693 .  C   G   15.2934 PASS  \n",
       "594652 chrY    11108142 .  G   A   12.5761 PASS  \n",
       "594653 chrY    11111423 .  C   T   20.5264 PASS  \n",
       "594654 chrY    11117117 .  G   A   17.6191 PASS  \n",
       "594655 chrY    11334485 .  T   C   54.3717 PASS  \n",
       "594656 chrY    11386391 .  A   G   17.4762 PASS  \n",
       "594657 chrY    11387391 .  T   C   13.0979 PASS  \n",
       "594658 chrY    11387543 .  T   C   12.1125 PASS  \n",
       "594659 chrY    56821847 .  G   C   16.4162 PASS  \n",
       "594660 chrY    56851586 .  G   A   18.7914 PASS  \n",
       "594661 chrY    56852306 .  C   A   14.3195 PASS  \n",
       "594662 chrY    56853153 .  T   C   21.0236 PASS  \n",
       "594663 chrY    56853154 .  G   T   23.6621 PASS  \n",
       "594664 chrY    56853457 .  A   C   14.6932 PASS  \n",
       "594665 chrY    56853606 .  G   T   17.2308 PASS  \n",
       "594666 chrY    56854224 .  G   T   10.0871 PASS  \n",
       "594667 chrY    56854321 .  C   T   59.4913 PASS  \n",
       "594668 chrY    56857748 .  T   A    9.2395 PASS  \n",
       "594669 chrY    56859432 .  A   C   13.3793 PASS  \n",
       "594670 chrY    56859954 .  A   C   12.6353 PASS  \n",
       "594671 chrY    56860064 .  G   A   14.2908 PASS  \n",
       "594672 chrY    56860789 .  C   T   12.9183 PASS  \n",
       "594673 chrY    56863083 .  C   T    9.2390 PASS  \n",
       "594674 chrY    56865621 .  A   T   20.7002 PASS  \n",
       "594675 chrY    56867213 .  C   T   14.5788 PASS  \n",
       "594676 chrY    56870918 .  G   A   25.1104 PASS  \n",
       "594677 chrY    56875693 .  C   G    9.5873 PASS  \n",
       "       INFO                                                              \n",
       "1      FAU=5;FCU=0;FGU=2;FTU=0;RAU=8;RCU=0;RGU=2;RTU=0;SB=1.0            \n",
       "2      H;FAU=5;FCU=0;FGU=1;FTU=0;RAU=9;RCU=0;RGU=2;RTU=0;SB=1.0          \n",
       "3      H;FAU=0;FCU=2;FGU=0;FTU=7;RAU=0;RCU=1;RGU=0;RTU=5;SB=1.0          \n",
       "4      H;FAU=0;FCU=2;FGU=0;FTU=8;RAU=0;RCU=3;RGU=0;RTU=10;SB=1.0         \n",
       "5      H;FAU=0;FCU=2;FGU=0;FTU=6;RAU=0;RCU=3;RGU=0;RTU=7;SB=1.0          \n",
       "6      H;FAU=7;FCU=0;FGU=2;FTU=0;RAU=7;RCU=0;RGU=2;RTU=0;SB=1.0          \n",
       "7      H;FAU=2;FCU=0;FGU=12;FTU=0;RAU=1;RCU=0;RGU=5;RTU=0;SB=1.0         \n",
       "8      H;FAU=0;FCU=2;FGU=0;FTU=18;RAU=0;RCU=1;RGU=0;RTU=8;SB=1.0         \n",
       "9      FAU=0;FCU=6;FGU=0;FTU=0;RAU=0;RCU=8;RGU=0;RTU=0;SB=1.0            \n",
       "10     FAU=8;FCU=0;FGU=1;FTU=0;RAU=11;RCU=0;RGU=2;RTU=0;SB=1.0           \n",
       "11     H;FAU=4;FCU=0;FGU=2;FTU=0;RAU=8;RCU=0;RGU=2;RTU=0;SB=0.58403      \n",
       "12     FAU=0;FCU=5;FGU=0;FTU=0;RAU=2;RCU=4;RGU=0;RTU=0;SB=1.0            \n",
       "13     H;FAU=0;FCU=2;FGU=0;FTU=7;RAU=0;RCU=2;RGU=0;RTU=7;SB=1.0          \n",
       "14     H;FAU=2;FCU=0;FGU=2;FTU=0;RAU=1;RCU=0;RGU=10;RTU=0;SB=0.17157     \n",
       "15     FAU=0;FCU=1;FGU=0;FTU=14;RAU=0;RCU=2;RGU=0;RTU=17;SB=1.0          \n",
       "16     FAU=19;FCU=0;FGU=2;FTU=0;RAU=18;RCU=0;RGU=1;RTU=0;SB=1.0          \n",
       "17     FAU=0;FCU=2;FGU=0;FTU=12;RAU=0;RCU=1;RGU=0;RTU=8;SB=1.0           \n",
       "18     FAU=0;FCU=3;FGU=0;FTU=51;RAU=0;RCU=2;RGU=0;RTU=34;SB=1.0          \n",
       "19     FAU=0;FCU=42;FGU=0;FTU=2;RAU=0;RCU=27;RGU=0;RTU=2;SB=1.0          \n",
       "20     FAU=0;FCU=2;FGU=0;FTU=40;RAU=0;RCU=2;RGU=0;RTU=27;SB=1.0          \n",
       "21     FAU=26;FCU=0;FGU=2;FTU=0;RAU=29;RCU=0;RGU=2;RTU=0;SB=1.0          \n",
       "22     FAU=0;FCU=2;FGU=0;FTU=26;RAU=0;RCU=2;RGU=0;RTU=26;SB=1.0          \n",
       "23     FAU=0;FCU=2;FGU=0;FTU=39;RAU=0;RCU=2;RGU=0;RTU=28;SB=1.0          \n",
       "24     FAU=0;FCU=2;FGU=0;FTU=18;RAU=0;RCU=1;RGU=0;RTU=22;SB=0.58998      \n",
       "25     H;FAU=33;FCU=0;FGU=3;FTU=0;RAU=27;RCU=0;RGU=1;RTU=0;SB=1.0        \n",
       "26     H;FAU=0;FCU=1;FGU=0;FTU=31;RAU=0;RCU=2;RGU=0;RTU=25;SB=0.56545    \n",
       "27     H;FAU=0;FCU=2;FGU=0;FTU=33;RAU=0;RCU=1;RGU=0;RTU=23;SB=1.0        \n",
       "28     H;FAU=0;FCU=2;FGU=0;FTU=30;RAU=0;RCU=1;RGU=0;RTU=15;SB=1.0        \n",
       "29     FAU=7;FCU=0;FGU=1;FTU=0;RAU=8;RCU=0;RGU=3;RTU=0;SB=0.62096        \n",
       "30     FAU=0;FCU=2;FGU=0;FTU=8;RAU=0;RCU=1;RGU=0;RTU=9;SB=0.57143        \n",
       "⋮      ⋮                                                                 \n",
       "594648 FAU=10;FCU=0;FGU=0;FTU=2;RAU=13;RCU=0;RGU=0;RTU=2;SB=1.0          \n",
       "594649 FAU=0;FCU=2;FGU=0;FTU=14;RAU=0;RCU=1;RGU=0;RTU=13;SB=1.0          \n",
       "594650 FAU=2;FCU=0;FGU=6;FTU=0;RAU=3;RCU=0;RGU=3;RTU=0;SB=0.32867        \n",
       "594651 FAU=0;FCU=6;FGU=3;FTU=0;RAU=0;RCU=2;RGU=2;RTU=0;SB=1.0            \n",
       "594652 FAU=1;FCU=0;FGU=9;FTU=0;RAU=3;RCU=0;RGU=5;RTU=0;SB=0.28483        \n",
       "594653 H;FAU=0;FCU=5;FGU=0;FTU=3;RAU=0;RCU=4;RGU=0;RTU=5;SB=0.63719      \n",
       "594654 FAU=2;FCU=0;FGU=8;FTU=0;RAU=2;RCU=0;RGU=5;RTU=0;SB=1.0            \n",
       "594655 FAU=0;FCU=8;FGU=0;FTU=1;RAU=0;RCU=2;RGU=0;RTU=5;SB=0.03497        \n",
       "594656 FAU=2;FCU=0;FGU=2;FTU=0;RAU=5;RCU=0;RGU=2;RTU=0;SB=0.57576        \n",
       "594657 FAU=0;FCU=2;FGU=0;FTU=2;RAU=0;RCU=2;RGU=0;RTU=7;SB=0.53007        \n",
       "594658 FAU=0;FCU=2;FGU=0;FTU=3;RAU=0;RCU=2;RGU=0;RTU=7;SB=0.56044        \n",
       "594659 H;FAU=0;FCU=2;FGU=6;FTU=0;RAU=0;RCU=2;RGU=8;RTU=0;SB=0.61771      \n",
       "594660 FAU=12;FCU=0;FGU=102;FTU=0;RAU=10;RCU=0;RGU=102;RTU=0;SB=0.66222  \n",
       "594661 FAU=8;FCU=108;FGU=0;FTU=0;RAU=13;RCU=115;RGU=0;RTU=0;SB=0.51202   \n",
       "594662 FAU=0;FCU=30;FGU=0;FTU=93;RAU=0;RCU=33;RGU=0;RTU=109;SB=0.77949   \n",
       "594663 FAU=2;FCU=0;FGU=94;FTU=30;RAU=2;RCU=0;RGU=107;RTU=33;SB=0.77949   \n",
       "594664 FAU=124;FCU=11;FGU=0;FTU=0;RAU=135;RCU=14;RGU=0;RTU=0;SB=0.83476  \n",
       "594665 FAU=0;FCU=0;FGU=129;FTU=13;RAU=0;RCU=0;RGU=137;RTU=15;SB=1.0      \n",
       "594666 H;FAU=0;FCU=0;FGU=159;FTU=16;RAU=0;RCU=0;RGU=151;RTU=15;SB=1.0    \n",
       "594667 FAU=0;FCU=134;FGU=0;FTU=49;RAU=0;RCU=144;RGU=0;RTU=39;SB=0.27584  \n",
       "594668 H;FAU=29;FCU=0;FGU=0;FTU=282;RAU=23;RCU=0;RGU=0;RTU=278;SB=0.39169\n",
       "594669 H;FAU=173;FCU=35;FGU=0;FTU=0;RAU=164;RCU=27;RGU=1;RTU=0;SB=0.27983\n",
       "594670 H;FAU=197;FCU=17;FGU=0;FTU=0;RAU=177;RCU=14;RGU=1;RTU=0;SB=0.8611 \n",
       "594671 FAU=18;FCU=0;FGU=197;FTU=0;RAU=16;RCU=0;RGU=177;RTU=0;SB=0.86547  \n",
       "594672 FAU=0;FCU=156;FGU=0;FTU=16;RAU=0;RCU=129;RGU=0;RTU=13;SB=1.0      \n",
       "594673 H;FAU=0;FCU=91;FGU=0;FTU=9;RAU=0;RCU=85;RGU=0;RTU=12;SB=0.49047   \n",
       "594674 H;FAU=66;FCU=0;FGU=0;FTU=6;RAU=44;RCU=0;RGU=1;RTU=8;SB=0.28825    \n",
       "594675 FAU=0;FCU=23;FGU=0;FTU=6;RAU=0;RCU=37;RGU=0;RTU=16;SB=0.4496      \n",
       "594676 H;FAU=2;FCU=0;FGU=28;FTU=0;RAU=5;RCU=0;RGU=32;RTU=0;SB=1.0        \n",
       "594677 H;FAU=0;FCU=40;FGU=5;FTU=0;RAU=0;RCU=24;RGU=5;RTU=0;SB=0.49568    \n",
       "       FORMAT                     Q3                                  GT  GQ\n",
       "1      GT:GQ:DP:AF:AD:AU:CU:GU:TU 0/1:14:17:0.2353:13,4:13:0:4:0      0/1 14\n",
       "2      GT:GQ:DP:AF:AD:AU:CU:GU:TU 0/1:10:17:0.1765:14,3:14:0:3:0      0/1 10\n",
       "3      GT:GQ:DP:AF:AD:AU:CU:GU:TU 0/1:17:15:0.2000:12,3:0:3:0:12      0/1 17\n",
       "4      GT:GQ:DP:AF:AD:AU:CU:GU:TU 0/1:22:23:0.2174:18,5:0:5:0:18      0/1 22\n",
       "5      GT:GQ:DP:AF:AD:AU:CU:GU:TU 0/1:10:18:0.2778:13,5:0:5:0:13      0/1 10\n",
       "6      GT:GQ:DP:AF:AD:AU:CU:GU:TU 0/1:8:18:0.2222:14,4:14:0:4:0       0/1 8 \n",
       "7      GT:GQ:DP:AF:AD:AU:CU:GU:TU 0/1:14:20:0.1500:17,3:3:0:17:0      0/1 14\n",
       "8      GT:GQ:DP:AF:AD:AU:CU:GU:TU 0/1:9:29:0.1034:26,3:0:3:0:26       0/1 9 \n",
       "9      GT:GQ:DP:AF:AD:AU:CU:GU:TU 1/1:20:14:1.0000:0,14:0:14:0:0      1/1 20\n",
       "10     GT:GQ:DP:AF:AD:AU:CU:GU:TU 0/1:53:22:0.1364:19,3:19:0:3:0      0/1 53\n",
       "11     GT:GQ:DP:AF:AD:AU:CU:GU:TU 0/1:8:17:0.2353:12,4:12:0:4:0       0/1 8 \n",
       "12     GT:GQ:DP:AF:AD:AU:CU:GU:TU 0/1:20:12:0.7500:2,9:2:9:0:0        0/1 20\n",
       "13     GT:GQ:DP:AF:AD:AU:CU:GU:TU 0/1:8:18:0.2222:14,4:0:4:0:14       0/1 8 \n",
       "14     GT:GQ:DP:AF:AD:AU:CU:GU:TU 0/1:11:18:0.1667:12,3:3:0:12:0      0/1 11\n",
       "15     GT:GQ:DP:AF:AD:AU:CU:GU:TU 0/1:22:34:0.0882:31,3:0:3:0:31      0/1 22\n",
       "16     GT:GQ:DP:AF:AD:AU:CU:GU:TU 0/1:21:40:0.0750:37,3:37:0:3:0      0/1 21\n",
       "17     GT:GQ:DP:AF:AD:AU:CU:GU:TU 0/1:14:23:0.1304:20,3:0:3:0:20      0/1 14\n",
       "18     GT:GQ:DP:AF:AD:AU:CU:GU:TU 0/1:17:90:0.0556:85,5:0:5:0:85      0/1 17\n",
       "19     GT:GQ:DP:AF:AD:AU:CU:GU:TU 0/1:13:74:0.0541:69,4:0:69:0:4      0/1 13\n",
       "20     GT:GQ:DP:AF:AD:AU:CU:GU:TU 0/1:16:72:0.0556:67,4:0:4:0:67      0/1 16\n",
       "21     GT:GQ:DP:AF:AD:AU:CU:GU:TU 0/1:15:59:0.0678:55,4:55:0:4:0      0/1 15\n",
       "22     GT:GQ:DP:AF:AD:AU:CU:GU:TU 0/1:19:57:0.0702:52,4:0:4:0:52      0/1 19\n",
       "23     GT:GQ:DP:AF:AD:AU:CU:GU:TU 0/1:16:71:0.0563:67,4:0:4:0:67      0/1 16\n",
       "24     GT:GQ:DP:AF:AD:AU:CU:GU:TU 0/1:21:43:0.0698:40,3:0:3:0:40      0/1 21\n",
       "25     GT:GQ:DP:AF:AD:AU:CU:GU:TU 0/1:20:64:0.0625:60,4:60:0:4:0      0/1 20\n",
       "26     GT:GQ:DP:AF:AD:AU:CU:GU:TU 0/1:14:59:0.0508:56,3:0:3:0:56      0/1 14\n",
       "27     GT:GQ:DP:AF:AD:AU:CU:GU:TU 0/1:14:59:0.0508:56,3:0:3:0:56      0/1 14\n",
       "28     GT:GQ:DP:AF:AD:AU:CU:GU:TU 0/1:15:48:0.0625:45,3:0:3:0:45      0/1 15\n",
       "29     GT:GQ:DP:AF:AD:AU:CU:GU:TU 0/1:16:19:0.2105:15,4:15:0:4:0      0/1 16\n",
       "30     GT:GQ:DP:AF:AD:AU:CU:GU:TU 0/1:25:20:0.1500:17,3:0:3:0:17      0/1 25\n",
       "⋮      ⋮                          ⋮                                   ⋮   ⋮ \n",
       "594648 GT:GQ:DP:AF:AD:AU:CU:GU:TU 0/1:53:27:0.1481:23,4:23:0:0:4      0/1 53\n",
       "594649 GT:GQ:DP:AF:AD:AU:CU:GU:TU 0/1:17:30:0.1000:27,3:0:3:0:27      0/1 17\n",
       "594650 GT:GQ:DP:AF:AD:AU:CU:GU:TU 0/1:26:14:0.3571:9,5:5:0:9:0        0/1 26\n",
       "594651 GT:GQ:DP:AF:AD:AU:CU:GU:TU 0/1:15:13:0.3846:8,5:0:8:5:0        0/1 15\n",
       "594652 GT:GQ:DP:AF:AD:AU:CU:GU:TU 0/1:12:19:0.2105:14,4:4:0:14:0      0/1 12\n",
       "594653 GT:GQ:DP:AF:AD:AU:CU:GU:TU 0/1:20:17:0.4706:9,8:0:9:0:8        0/1 20\n",
       "594654 GT:GQ:DP:AF:AD:AU:CU:GU:TU 0/1:17:17:0.2353:13,4:4:0:13:0      0/1 17\n",
       "594655 GT:GQ:DP:AF:AD:AU:CU:GU:TU 0/1:54:16:0.6250:6,10:0:10:0:6      0/1 54\n",
       "594656 GT:GQ:DP:AF:AD:AU:CU:GU:TU 0/1:17:11:0.3636:7,4:7:0:4:0        0/1 17\n",
       "594657 GT:GQ:DP:AF:AD:AU:CU:GU:TU 0/1:13:13:0.3077:9,4:0:4:0:9        0/1 13\n",
       "594658 GT:GQ:DP:AF:AD:AU:CU:GU:TU 0/1:12:14:0.2857:10,4:0:4:0:10      0/1 12\n",
       "594659 GT:GQ:DP:AF:AD:AU:CU:GU:TU 0/1:16:18:0.2222:14,4:0:4:14:0      0/1 16\n",
       "594660 GT:GQ:DP:AF:AD:AU:CU:GU:TU 0/1:18:226:0.0973:204,22:22:0:204:0 0/1 18\n",
       "594661 GT:GQ:DP:AF:AD:AU:CU:GU:TU 0/1:14:244:0.0861:223,21:21:223:0:0 0/1 14\n",
       "594662 GT:GQ:DP:AF:AD:AU:CU:GU:TU 0/1:21:265:0.2377:202,63:0:63:0:202 0/1 21\n",
       "594663 GT:GQ:DP:AF:AD:AU:CU:GU:TU 0/1:23:268:0.2351:201,63:4:0:201:63 0/1 23\n",
       "594664 GT:GQ:DP:AF:AD:AU:CU:GU:TU 0/1:14:284:0.0880:259,25:259:25:0:0 0/1 14\n",
       "594665 GT:GQ:DP:AF:AD:AU:CU:GU:TU 0/1:17:294:0.0952:266,28:0:0:266:28 0/1 17\n",
       "594666 GT:GQ:DP:AF:AD:AU:CU:GU:TU 0/1:10:341:0.0909:310,31:0:0:310:31 0/1 10\n",
       "594667 GT:GQ:DP:AF:AD:AU:CU:GU:TU 0/1:59:366:0.2404:278,88:0:278:0:88 0/1 59\n",
       "594668 GT:GQ:DP:AF:AD:AU:CU:GU:TU 0/1:9:612:0.0850:560,52:52:0:0:560  0/1 9 \n",
       "594669 GT:GQ:DP:AF:AD:AU:CU:GU:TU 0/1:13:400:0.1550:337,62:337:62:1:0 0/1 13\n",
       "594670 GT:GQ:DP:AF:AD:AU:CU:GU:TU 0/1:12:406:0.0764:374,31:374:31:1:0 0/1 12\n",
       "594671 GT:GQ:DP:AF:AD:AU:CU:GU:TU 0/1:14:408:0.0833:374,34:34:0:374:0 0/1 14\n",
       "594672 GT:GQ:DP:AF:AD:AU:CU:GU:TU 0/1:12:314:0.0924:285,29:0:285:0:29 0/1 12\n",
       "594673 GT:GQ:DP:AF:AD:AU:CU:GU:TU 0/1:9:197:0.1066:176,21:0:176:0:21  0/1 9 \n",
       "594674 GT:GQ:DP:AF:AD:AU:CU:GU:TU 0/1:20:125:0.1120:110,14:110:0:1:14 0/1 20\n",
       "594675 GT:GQ:DP:AF:AD:AU:CU:GU:TU 0/1:14:82:0.2683:60,22:0:60:0:22    0/1 14\n",
       "594676 GT:GQ:DP:AF:AD:AU:CU:GU:TU 0/1:25:67:0.1045:60,7:7:0:60:0      0/1 25\n",
       "594677 GT:GQ:DP:AF:AD:AU:CU:GU:TU 0/1:9:74:0.1351:64,10:0:64:10:0     0/1 9 \n",
       "       DP  AF     AD     AU  CU  GU  TU  timepoint\n",
       "1      17  0.2353 13,4   13  0   4   0   Q3       \n",
       "2      17  0.1765 14,3   14  0   3   0   Q3       \n",
       "3      15  0.2000 12,3   0   3   0   12  Q3       \n",
       "4      23  0.2174 18,5   0   5   0   18  Q3       \n",
       "5      18  0.2778 13,5   0   5   0   13  Q3       \n",
       "6      18  0.2222 14,4   14  0   4   0   Q3       \n",
       "7      20  0.1500 17,3   3   0   17  0   Q3       \n",
       "8      29  0.1034 26,3   0   3   0   26  Q3       \n",
       "9      14  1.0000 0,14   0   14  0   0   Q3       \n",
       "10     22  0.1364 19,3   19  0   3   0   Q3       \n",
       "11     17  0.2353 12,4   12  0   4   0   Q3       \n",
       "12     12  0.7500 2,9    2   9   0   0   Q3       \n",
       "13     18  0.2222 14,4   0   4   0   14  Q3       \n",
       "14     18  0.1667 12,3   3   0   12  0   Q3       \n",
       "15     34  0.0882 31,3   0   3   0   31  Q3       \n",
       "16     40  0.0750 37,3   37  0   3   0   Q3       \n",
       "17     23  0.1304 20,3   0   3   0   20  Q3       \n",
       "18     90  0.0556 85,5   0   5   0   85  Q3       \n",
       "19     74  0.0541 69,4   0   69  0   4   Q3       \n",
       "20     72  0.0556 67,4   0   4   0   67  Q3       \n",
       "21     59  0.0678 55,4   55  0   4   0   Q3       \n",
       "22     57  0.0702 52,4   0   4   0   52  Q3       \n",
       "23     71  0.0563 67,4   0   4   0   67  Q3       \n",
       "24     43  0.0698 40,3   0   3   0   40  Q3       \n",
       "25     64  0.0625 60,4   60  0   4   0   Q3       \n",
       "26     59  0.0508 56,3   0   3   0   56  Q3       \n",
       "27     59  0.0508 56,3   0   3   0   56  Q3       \n",
       "28     48  0.0625 45,3   0   3   0   45  Q3       \n",
       "29     19  0.2105 15,4   15  0   4   0   Q3       \n",
       "30     20  0.1500 17,3   0   3   0   17  Q3       \n",
       "⋮      ⋮   ⋮      ⋮      ⋮   ⋮   ⋮   ⋮   ⋮        \n",
       "594648 27  0.1481 23,4   23  0   0   4   Q3       \n",
       "594649 30  0.1000 27,3   0   3   0   27  Q3       \n",
       "594650 14  0.3571 9,5    5   0   9   0   Q3       \n",
       "594651 13  0.3846 8,5    0   8   5   0   Q3       \n",
       "594652 19  0.2105 14,4   4   0   14  0   Q3       \n",
       "594653 17  0.4706 9,8    0   9   0   8   Q3       \n",
       "594654 17  0.2353 13,4   4   0   13  0   Q3       \n",
       "594655 16  0.6250 6,10   0   10  0   6   Q3       \n",
       "594656 11  0.3636 7,4    7   0   4   0   Q3       \n",
       "594657 13  0.3077 9,4    0   4   0   9   Q3       \n",
       "594658 14  0.2857 10,4   0   4   0   10  Q3       \n",
       "594659 18  0.2222 14,4   0   4   14  0   Q3       \n",
       "594660 226 0.0973 204,22 22  0   204 0   Q3       \n",
       "594661 244 0.0861 223,21 21  223 0   0   Q3       \n",
       "594662 265 0.2377 202,63 0   63  0   202 Q3       \n",
       "594663 268 0.2351 201,63 4   0   201 63  Q3       \n",
       "594664 284 0.0880 259,25 259 25  0   0   Q3       \n",
       "594665 294 0.0952 266,28 0   0   266 28  Q3       \n",
       "594666 341 0.0909 310,31 0   0   310 31  Q3       \n",
       "594667 366 0.2404 278,88 0   278 0   88  Q3       \n",
       "594668 612 0.0850 560,52 52  0   0   560 Q3       \n",
       "594669 400 0.1550 337,62 337 62  1   0   Q3       \n",
       "594670 406 0.0764 374,31 374 31  1   0   Q3       \n",
       "594671 408 0.0833 374,34 34  0   374 0   Q3       \n",
       "594672 314 0.0924 285,29 0   285 0   29  Q3       \n",
       "594673 197 0.1066 176,21 0   176 0   21  Q3       \n",
       "594674 125 0.1120 110,14 110 0   1   14  Q3       \n",
       "594675 82  0.2683 60,22  0   60  0   22  Q3       \n",
       "594676 67  0.1045 60,7   7   0   60  0   Q3       \n",
       "594677 74  0.1351 64,10  0   64  10  0   Q3       "
      ]
     },
     "metadata": {},
     "output_type": "display_data"
    }
   ],
   "source": [
    "# Switch to the right list for each sample as well!!!\n",
    "vcf <- vcf_list[[4]]\n",
    "vcf"
   ]
  },
  {
   "cell_type": "code",
   "execution_count": 42,
   "metadata": {
    "vscode": {
     "languageId": "r"
    }
   },
   "outputs": [],
   "source": [
    "D0 <-df_wide[df_wide$Q3 == 1,]"
   ]
  },
  {
   "cell_type": "code",
   "execution_count": 43,
   "metadata": {
    "vscode": {
     "languageId": "r"
    }
   },
   "outputs": [
    {
     "data": {
      "text/html": [
       "<table class=\"dataframe\">\n",
       "<caption>A data.table: 52456 × 8</caption>\n",
       "<thead>\n",
       "\t<tr><th scope=col>variant</th><th scope=col>#CHROM</th><th scope=col>POS</th><th scope=col>QUAL</th><th scope=col>D0</th><th scope=col>Q1</th><th scope=col>Q2</th><th scope=col>Q3</th></tr>\n",
       "\t<tr><th scope=col>&lt;chr&gt;</th><th scope=col>&lt;chr&gt;</th><th scope=col>&lt;int&gt;</th><th scope=col>&lt;dbl&gt;</th><th scope=col>&lt;dbl&gt;</th><th scope=col>&lt;dbl&gt;</th><th scope=col>&lt;dbl&gt;</th><th scope=col>&lt;dbl&gt;</th></tr>\n",
       "</thead>\n",
       "<tbody>\n",
       "\t<tr><td>chr10:100239175</td><td>chr10</td><td>100239175</td><td>60.7878</td><td>0</td><td>0</td><td>0</td><td>1</td></tr>\n",
       "\t<tr><td>chr10:100244609</td><td>chr10</td><td>100244609</td><td>15.6850</td><td>1</td><td>1</td><td>1</td><td>1</td></tr>\n",
       "\t<tr><td>chr10:100244609</td><td>chr10</td><td>100244609</td><td>52.6381</td><td>1</td><td>1</td><td>1</td><td>1</td></tr>\n",
       "\t<tr><td>chr10:100244609</td><td>chr10</td><td>100244609</td><td>60.8805</td><td>1</td><td>1</td><td>1</td><td>1</td></tr>\n",
       "\t<tr><td>chr10:100244609</td><td>chr10</td><td>100244609</td><td>18.0215</td><td>1</td><td>1</td><td>1</td><td>1</td></tr>\n",
       "\t<tr><td>chr10:100274928</td><td>chr10</td><td>100274928</td><td>87.1612</td><td>1</td><td>1</td><td>0</td><td>1</td></tr>\n",
       "\t<tr><td>chr10:100274928</td><td>chr10</td><td>100274928</td><td>76.9426</td><td>1</td><td>1</td><td>0</td><td>1</td></tr>\n",
       "\t<tr><td>chr10:100274928</td><td>chr10</td><td>100274928</td><td>66.4493</td><td>1</td><td>1</td><td>0</td><td>1</td></tr>\n",
       "\t<tr><td>chr10:100504513</td><td>chr10</td><td>100504513</td><td>64.8268</td><td>1</td><td>1</td><td>1</td><td>1</td></tr>\n",
       "\t<tr><td>chr10:100504513</td><td>chr10</td><td>100504513</td><td>64.0123</td><td>1</td><td>1</td><td>1</td><td>1</td></tr>\n",
       "\t<tr><td>chr10:100504513</td><td>chr10</td><td>100504513</td><td>63.3970</td><td>1</td><td>1</td><td>1</td><td>1</td></tr>\n",
       "\t<tr><td>chr10:100504513</td><td>chr10</td><td>100504513</td><td>64.2007</td><td>1</td><td>1</td><td>1</td><td>1</td></tr>\n",
       "\t<tr><td>chr10:100554396</td><td>chr10</td><td>100554396</td><td>65.9101</td><td>1</td><td>1</td><td>1</td><td>1</td></tr>\n",
       "\t<tr><td>chr10:100554396</td><td>chr10</td><td>100554396</td><td>65.5361</td><td>1</td><td>1</td><td>1</td><td>1</td></tr>\n",
       "\t<tr><td>chr10:100554396</td><td>chr10</td><td>100554396</td><td>74.5490</td><td>1</td><td>1</td><td>1</td><td>1</td></tr>\n",
       "\t<tr><td>chr10:100554396</td><td>chr10</td><td>100554396</td><td>75.2550</td><td>1</td><td>1</td><td>1</td><td>1</td></tr>\n",
       "\t<tr><td>chr10:100574852</td><td>chr10</td><td>100574852</td><td>65.1676</td><td>1</td><td>1</td><td>1</td><td>1</td></tr>\n",
       "\t<tr><td>chr10:100574852</td><td>chr10</td><td>100574852</td><td>81.1068</td><td>1</td><td>1</td><td>1</td><td>1</td></tr>\n",
       "\t<tr><td>chr10:100574852</td><td>chr10</td><td>100574852</td><td>74.1302</td><td>1</td><td>1</td><td>1</td><td>1</td></tr>\n",
       "\t<tr><td>chr10:100574852</td><td>chr10</td><td>100574852</td><td>81.2275</td><td>1</td><td>1</td><td>1</td><td>1</td></tr>\n",
       "\t<tr><td>chr10:100588309</td><td>chr10</td><td>100588309</td><td>54.9513</td><td>1</td><td>0</td><td>1</td><td>1</td></tr>\n",
       "\t<tr><td>chr10:100588309</td><td>chr10</td><td>100588309</td><td>52.3245</td><td>1</td><td>0</td><td>1</td><td>1</td></tr>\n",
       "\t<tr><td>chr10:100588309</td><td>chr10</td><td>100588309</td><td>54.0632</td><td>1</td><td>0</td><td>1</td><td>1</td></tr>\n",
       "\t<tr><td>chr10:100646858</td><td>chr10</td><td>100646858</td><td>65.1122</td><td>0</td><td>1</td><td>0</td><td>1</td></tr>\n",
       "\t<tr><td>chr10:100646858</td><td>chr10</td><td>100646858</td><td>62.7153</td><td>0</td><td>1</td><td>0</td><td>1</td></tr>\n",
       "\t<tr><td>chr10:100675329</td><td>chr10</td><td>100675329</td><td>65.5558</td><td>0</td><td>0</td><td>0</td><td>1</td></tr>\n",
       "\t<tr><td>chr10:100858628</td><td>chr10</td><td>100858628</td><td>74.6138</td><td>1</td><td>1</td><td>0</td><td>1</td></tr>\n",
       "\t<tr><td>chr10:100858628</td><td>chr10</td><td>100858628</td><td>74.5660</td><td>1</td><td>1</td><td>0</td><td>1</td></tr>\n",
       "\t<tr><td>chr10:100858628</td><td>chr10</td><td>100858628</td><td>62.5840</td><td>1</td><td>1</td><td>0</td><td>1</td></tr>\n",
       "\t<tr><td>chr10:100902195</td><td>chr10</td><td>100902195</td><td>53.6540</td><td>0</td><td>0</td><td>0</td><td>1</td></tr>\n",
       "\t<tr><td>⋮</td><td>⋮</td><td>⋮</td><td>⋮</td><td>⋮</td><td>⋮</td><td>⋮</td><td>⋮</td></tr>\n",
       "\t<tr><td>chrY:11334485</td><td>chrY</td><td>11334485</td><td>16.5177</td><td>0</td><td>0</td><td>1</td><td>1</td></tr>\n",
       "\t<tr><td>chrY:11334485</td><td>chrY</td><td>11334485</td><td>54.3717</td><td>0</td><td>0</td><td>1</td><td>1</td></tr>\n",
       "\t<tr><td>chrY:56851586</td><td>chrY</td><td>56851586</td><td>13.4641</td><td>0</td><td>1</td><td>1</td><td>1</td></tr>\n",
       "\t<tr><td>chrY:56851586</td><td>chrY</td><td>56851586</td><td>16.2306</td><td>0</td><td>1</td><td>1</td><td>1</td></tr>\n",
       "\t<tr><td>chrY:56851586</td><td>chrY</td><td>56851586</td><td>18.7914</td><td>0</td><td>1</td><td>1</td><td>1</td></tr>\n",
       "\t<tr><td>chrY:56853153</td><td>chrY</td><td>56853153</td><td>16.0565</td><td>0</td><td>0</td><td>1</td><td>1</td></tr>\n",
       "\t<tr><td>chrY:56853153</td><td>chrY</td><td>56853153</td><td>21.0236</td><td>0</td><td>0</td><td>1</td><td>1</td></tr>\n",
       "\t<tr><td>chrY:56853154</td><td>chrY</td><td>56853154</td><td>14.1522</td><td>0</td><td>1</td><td>1</td><td>1</td></tr>\n",
       "\t<tr><td>chrY:56853154</td><td>chrY</td><td>56853154</td><td>20.8165</td><td>0</td><td>1</td><td>1</td><td>1</td></tr>\n",
       "\t<tr><td>chrY:56853154</td><td>chrY</td><td>56853154</td><td>23.6621</td><td>0</td><td>1</td><td>1</td><td>1</td></tr>\n",
       "\t<tr><td>chrY:56853457</td><td>chrY</td><td>56853457</td><td>22.0914</td><td>0</td><td>0</td><td>1</td><td>1</td></tr>\n",
       "\t<tr><td>chrY:56853457</td><td>chrY</td><td>56853457</td><td>14.6932</td><td>0</td><td>0</td><td>1</td><td>1</td></tr>\n",
       "\t<tr><td>chrY:56853606</td><td>chrY</td><td>56853606</td><td>21.5156</td><td>0</td><td>0</td><td>1</td><td>1</td></tr>\n",
       "\t<tr><td>chrY:56853606</td><td>chrY</td><td>56853606</td><td>17.2308</td><td>0</td><td>0</td><td>1</td><td>1</td></tr>\n",
       "\t<tr><td>chrY:56854224</td><td>chrY</td><td>56854224</td><td>15.7836</td><td>0</td><td>1</td><td>1</td><td>1</td></tr>\n",
       "\t<tr><td>chrY:56854224</td><td>chrY</td><td>56854224</td><td>11.9130</td><td>0</td><td>1</td><td>1</td><td>1</td></tr>\n",
       "\t<tr><td>chrY:56854224</td><td>chrY</td><td>56854224</td><td>10.0871</td><td>0</td><td>1</td><td>1</td><td>1</td></tr>\n",
       "\t<tr><td>chrY:56854321</td><td>chrY</td><td>56854321</td><td>51.6755</td><td>1</td><td>0</td><td>1</td><td>1</td></tr>\n",
       "\t<tr><td>chrY:56854321</td><td>chrY</td><td>56854321</td><td>52.2667</td><td>1</td><td>0</td><td>1</td><td>1</td></tr>\n",
       "\t<tr><td>chrY:56854321</td><td>chrY</td><td>56854321</td><td>59.4913</td><td>1</td><td>0</td><td>1</td><td>1</td></tr>\n",
       "\t<tr><td>chrY:56863083</td><td>chrY</td><td>56863083</td><td>19.9054</td><td>1</td><td>1</td><td>0</td><td>1</td></tr>\n",
       "\t<tr><td>chrY:56863083</td><td>chrY</td><td>56863083</td><td>10.5823</td><td>1</td><td>1</td><td>0</td><td>1</td></tr>\n",
       "\t<tr><td>chrY:56863083</td><td>chrY</td><td>56863083</td><td> 9.2390</td><td>1</td><td>1</td><td>0</td><td>1</td></tr>\n",
       "\t<tr><td>chrY:56865621</td><td>chrY</td><td>56865621</td><td>11.9102</td><td>0</td><td>0</td><td>1</td><td>1</td></tr>\n",
       "\t<tr><td>chrY:56865621</td><td>chrY</td><td>56865621</td><td>20.7002</td><td>0</td><td>0</td><td>1</td><td>1</td></tr>\n",
       "\t<tr><td>chrY:56870918</td><td>chrY</td><td>56870918</td><td>51.5534</td><td>1</td><td>0</td><td>1</td><td>1</td></tr>\n",
       "\t<tr><td>chrY:56870918</td><td>chrY</td><td>56870918</td><td>20.2322</td><td>1</td><td>0</td><td>1</td><td>1</td></tr>\n",
       "\t<tr><td>chrY:56870918</td><td>chrY</td><td>56870918</td><td>25.1104</td><td>1</td><td>0</td><td>1</td><td>1</td></tr>\n",
       "\t<tr><td>chrY:56875693</td><td>chrY</td><td>56875693</td><td>25.4743</td><td>0</td><td>1</td><td>0</td><td>1</td></tr>\n",
       "\t<tr><td>chrY:56875693</td><td>chrY</td><td>56875693</td><td> 9.5873</td><td>0</td><td>1</td><td>0</td><td>1</td></tr>\n",
       "</tbody>\n",
       "</table>\n"
      ],
      "text/latex": [
       "A data.table: 52456 × 8\n",
       "\\begin{tabular}{llllllll}\n",
       " variant & \\#CHROM & POS & QUAL & D0 & Q1 & Q2 & Q3\\\\\n",
       " <chr> & <chr> & <int> & <dbl> & <dbl> & <dbl> & <dbl> & <dbl>\\\\\n",
       "\\hline\n",
       "\t chr10:100239175 & chr10 & 100239175 & 60.7878 & 0 & 0 & 0 & 1\\\\\n",
       "\t chr10:100244609 & chr10 & 100244609 & 15.6850 & 1 & 1 & 1 & 1\\\\\n",
       "\t chr10:100244609 & chr10 & 100244609 & 52.6381 & 1 & 1 & 1 & 1\\\\\n",
       "\t chr10:100244609 & chr10 & 100244609 & 60.8805 & 1 & 1 & 1 & 1\\\\\n",
       "\t chr10:100244609 & chr10 & 100244609 & 18.0215 & 1 & 1 & 1 & 1\\\\\n",
       "\t chr10:100274928 & chr10 & 100274928 & 87.1612 & 1 & 1 & 0 & 1\\\\\n",
       "\t chr10:100274928 & chr10 & 100274928 & 76.9426 & 1 & 1 & 0 & 1\\\\\n",
       "\t chr10:100274928 & chr10 & 100274928 & 66.4493 & 1 & 1 & 0 & 1\\\\\n",
       "\t chr10:100504513 & chr10 & 100504513 & 64.8268 & 1 & 1 & 1 & 1\\\\\n",
       "\t chr10:100504513 & chr10 & 100504513 & 64.0123 & 1 & 1 & 1 & 1\\\\\n",
       "\t chr10:100504513 & chr10 & 100504513 & 63.3970 & 1 & 1 & 1 & 1\\\\\n",
       "\t chr10:100504513 & chr10 & 100504513 & 64.2007 & 1 & 1 & 1 & 1\\\\\n",
       "\t chr10:100554396 & chr10 & 100554396 & 65.9101 & 1 & 1 & 1 & 1\\\\\n",
       "\t chr10:100554396 & chr10 & 100554396 & 65.5361 & 1 & 1 & 1 & 1\\\\\n",
       "\t chr10:100554396 & chr10 & 100554396 & 74.5490 & 1 & 1 & 1 & 1\\\\\n",
       "\t chr10:100554396 & chr10 & 100554396 & 75.2550 & 1 & 1 & 1 & 1\\\\\n",
       "\t chr10:100574852 & chr10 & 100574852 & 65.1676 & 1 & 1 & 1 & 1\\\\\n",
       "\t chr10:100574852 & chr10 & 100574852 & 81.1068 & 1 & 1 & 1 & 1\\\\\n",
       "\t chr10:100574852 & chr10 & 100574852 & 74.1302 & 1 & 1 & 1 & 1\\\\\n",
       "\t chr10:100574852 & chr10 & 100574852 & 81.2275 & 1 & 1 & 1 & 1\\\\\n",
       "\t chr10:100588309 & chr10 & 100588309 & 54.9513 & 1 & 0 & 1 & 1\\\\\n",
       "\t chr10:100588309 & chr10 & 100588309 & 52.3245 & 1 & 0 & 1 & 1\\\\\n",
       "\t chr10:100588309 & chr10 & 100588309 & 54.0632 & 1 & 0 & 1 & 1\\\\\n",
       "\t chr10:100646858 & chr10 & 100646858 & 65.1122 & 0 & 1 & 0 & 1\\\\\n",
       "\t chr10:100646858 & chr10 & 100646858 & 62.7153 & 0 & 1 & 0 & 1\\\\\n",
       "\t chr10:100675329 & chr10 & 100675329 & 65.5558 & 0 & 0 & 0 & 1\\\\\n",
       "\t chr10:100858628 & chr10 & 100858628 & 74.6138 & 1 & 1 & 0 & 1\\\\\n",
       "\t chr10:100858628 & chr10 & 100858628 & 74.5660 & 1 & 1 & 0 & 1\\\\\n",
       "\t chr10:100858628 & chr10 & 100858628 & 62.5840 & 1 & 1 & 0 & 1\\\\\n",
       "\t chr10:100902195 & chr10 & 100902195 & 53.6540 & 0 & 0 & 0 & 1\\\\\n",
       "\t ⋮ & ⋮ & ⋮ & ⋮ & ⋮ & ⋮ & ⋮ & ⋮\\\\\n",
       "\t chrY:11334485 & chrY & 11334485 & 16.5177 & 0 & 0 & 1 & 1\\\\\n",
       "\t chrY:11334485 & chrY & 11334485 & 54.3717 & 0 & 0 & 1 & 1\\\\\n",
       "\t chrY:56851586 & chrY & 56851586 & 13.4641 & 0 & 1 & 1 & 1\\\\\n",
       "\t chrY:56851586 & chrY & 56851586 & 16.2306 & 0 & 1 & 1 & 1\\\\\n",
       "\t chrY:56851586 & chrY & 56851586 & 18.7914 & 0 & 1 & 1 & 1\\\\\n",
       "\t chrY:56853153 & chrY & 56853153 & 16.0565 & 0 & 0 & 1 & 1\\\\\n",
       "\t chrY:56853153 & chrY & 56853153 & 21.0236 & 0 & 0 & 1 & 1\\\\\n",
       "\t chrY:56853154 & chrY & 56853154 & 14.1522 & 0 & 1 & 1 & 1\\\\\n",
       "\t chrY:56853154 & chrY & 56853154 & 20.8165 & 0 & 1 & 1 & 1\\\\\n",
       "\t chrY:56853154 & chrY & 56853154 & 23.6621 & 0 & 1 & 1 & 1\\\\\n",
       "\t chrY:56853457 & chrY & 56853457 & 22.0914 & 0 & 0 & 1 & 1\\\\\n",
       "\t chrY:56853457 & chrY & 56853457 & 14.6932 & 0 & 0 & 1 & 1\\\\\n",
       "\t chrY:56853606 & chrY & 56853606 & 21.5156 & 0 & 0 & 1 & 1\\\\\n",
       "\t chrY:56853606 & chrY & 56853606 & 17.2308 & 0 & 0 & 1 & 1\\\\\n",
       "\t chrY:56854224 & chrY & 56854224 & 15.7836 & 0 & 1 & 1 & 1\\\\\n",
       "\t chrY:56854224 & chrY & 56854224 & 11.9130 & 0 & 1 & 1 & 1\\\\\n",
       "\t chrY:56854224 & chrY & 56854224 & 10.0871 & 0 & 1 & 1 & 1\\\\\n",
       "\t chrY:56854321 & chrY & 56854321 & 51.6755 & 1 & 0 & 1 & 1\\\\\n",
       "\t chrY:56854321 & chrY & 56854321 & 52.2667 & 1 & 0 & 1 & 1\\\\\n",
       "\t chrY:56854321 & chrY & 56854321 & 59.4913 & 1 & 0 & 1 & 1\\\\\n",
       "\t chrY:56863083 & chrY & 56863083 & 19.9054 & 1 & 1 & 0 & 1\\\\\n",
       "\t chrY:56863083 & chrY & 56863083 & 10.5823 & 1 & 1 & 0 & 1\\\\\n",
       "\t chrY:56863083 & chrY & 56863083 &  9.2390 & 1 & 1 & 0 & 1\\\\\n",
       "\t chrY:56865621 & chrY & 56865621 & 11.9102 & 0 & 0 & 1 & 1\\\\\n",
       "\t chrY:56865621 & chrY & 56865621 & 20.7002 & 0 & 0 & 1 & 1\\\\\n",
       "\t chrY:56870918 & chrY & 56870918 & 51.5534 & 1 & 0 & 1 & 1\\\\\n",
       "\t chrY:56870918 & chrY & 56870918 & 20.2322 & 1 & 0 & 1 & 1\\\\\n",
       "\t chrY:56870918 & chrY & 56870918 & 25.1104 & 1 & 0 & 1 & 1\\\\\n",
       "\t chrY:56875693 & chrY & 56875693 & 25.4743 & 0 & 1 & 0 & 1\\\\\n",
       "\t chrY:56875693 & chrY & 56875693 &  9.5873 & 0 & 1 & 0 & 1\\\\\n",
       "\\end{tabular}\n"
      ],
      "text/markdown": [
       "\n",
       "A data.table: 52456 × 8\n",
       "\n",
       "| variant &lt;chr&gt; | #CHROM &lt;chr&gt; | POS &lt;int&gt; | QUAL &lt;dbl&gt; | D0 &lt;dbl&gt; | Q1 &lt;dbl&gt; | Q2 &lt;dbl&gt; | Q3 &lt;dbl&gt; |\n",
       "|---|---|---|---|---|---|---|---|\n",
       "| chr10:100239175 | chr10 | 100239175 | 60.7878 | 0 | 0 | 0 | 1 |\n",
       "| chr10:100244609 | chr10 | 100244609 | 15.6850 | 1 | 1 | 1 | 1 |\n",
       "| chr10:100244609 | chr10 | 100244609 | 52.6381 | 1 | 1 | 1 | 1 |\n",
       "| chr10:100244609 | chr10 | 100244609 | 60.8805 | 1 | 1 | 1 | 1 |\n",
       "| chr10:100244609 | chr10 | 100244609 | 18.0215 | 1 | 1 | 1 | 1 |\n",
       "| chr10:100274928 | chr10 | 100274928 | 87.1612 | 1 | 1 | 0 | 1 |\n",
       "| chr10:100274928 | chr10 | 100274928 | 76.9426 | 1 | 1 | 0 | 1 |\n",
       "| chr10:100274928 | chr10 | 100274928 | 66.4493 | 1 | 1 | 0 | 1 |\n",
       "| chr10:100504513 | chr10 | 100504513 | 64.8268 | 1 | 1 | 1 | 1 |\n",
       "| chr10:100504513 | chr10 | 100504513 | 64.0123 | 1 | 1 | 1 | 1 |\n",
       "| chr10:100504513 | chr10 | 100504513 | 63.3970 | 1 | 1 | 1 | 1 |\n",
       "| chr10:100504513 | chr10 | 100504513 | 64.2007 | 1 | 1 | 1 | 1 |\n",
       "| chr10:100554396 | chr10 | 100554396 | 65.9101 | 1 | 1 | 1 | 1 |\n",
       "| chr10:100554396 | chr10 | 100554396 | 65.5361 | 1 | 1 | 1 | 1 |\n",
       "| chr10:100554396 | chr10 | 100554396 | 74.5490 | 1 | 1 | 1 | 1 |\n",
       "| chr10:100554396 | chr10 | 100554396 | 75.2550 | 1 | 1 | 1 | 1 |\n",
       "| chr10:100574852 | chr10 | 100574852 | 65.1676 | 1 | 1 | 1 | 1 |\n",
       "| chr10:100574852 | chr10 | 100574852 | 81.1068 | 1 | 1 | 1 | 1 |\n",
       "| chr10:100574852 | chr10 | 100574852 | 74.1302 | 1 | 1 | 1 | 1 |\n",
       "| chr10:100574852 | chr10 | 100574852 | 81.2275 | 1 | 1 | 1 | 1 |\n",
       "| chr10:100588309 | chr10 | 100588309 | 54.9513 | 1 | 0 | 1 | 1 |\n",
       "| chr10:100588309 | chr10 | 100588309 | 52.3245 | 1 | 0 | 1 | 1 |\n",
       "| chr10:100588309 | chr10 | 100588309 | 54.0632 | 1 | 0 | 1 | 1 |\n",
       "| chr10:100646858 | chr10 | 100646858 | 65.1122 | 0 | 1 | 0 | 1 |\n",
       "| chr10:100646858 | chr10 | 100646858 | 62.7153 | 0 | 1 | 0 | 1 |\n",
       "| chr10:100675329 | chr10 | 100675329 | 65.5558 | 0 | 0 | 0 | 1 |\n",
       "| chr10:100858628 | chr10 | 100858628 | 74.6138 | 1 | 1 | 0 | 1 |\n",
       "| chr10:100858628 | chr10 | 100858628 | 74.5660 | 1 | 1 | 0 | 1 |\n",
       "| chr10:100858628 | chr10 | 100858628 | 62.5840 | 1 | 1 | 0 | 1 |\n",
       "| chr10:100902195 | chr10 | 100902195 | 53.6540 | 0 | 0 | 0 | 1 |\n",
       "| ⋮ | ⋮ | ⋮ | ⋮ | ⋮ | ⋮ | ⋮ | ⋮ |\n",
       "| chrY:11334485 | chrY | 11334485 | 16.5177 | 0 | 0 | 1 | 1 |\n",
       "| chrY:11334485 | chrY | 11334485 | 54.3717 | 0 | 0 | 1 | 1 |\n",
       "| chrY:56851586 | chrY | 56851586 | 13.4641 | 0 | 1 | 1 | 1 |\n",
       "| chrY:56851586 | chrY | 56851586 | 16.2306 | 0 | 1 | 1 | 1 |\n",
       "| chrY:56851586 | chrY | 56851586 | 18.7914 | 0 | 1 | 1 | 1 |\n",
       "| chrY:56853153 | chrY | 56853153 | 16.0565 | 0 | 0 | 1 | 1 |\n",
       "| chrY:56853153 | chrY | 56853153 | 21.0236 | 0 | 0 | 1 | 1 |\n",
       "| chrY:56853154 | chrY | 56853154 | 14.1522 | 0 | 1 | 1 | 1 |\n",
       "| chrY:56853154 | chrY | 56853154 | 20.8165 | 0 | 1 | 1 | 1 |\n",
       "| chrY:56853154 | chrY | 56853154 | 23.6621 | 0 | 1 | 1 | 1 |\n",
       "| chrY:56853457 | chrY | 56853457 | 22.0914 | 0 | 0 | 1 | 1 |\n",
       "| chrY:56853457 | chrY | 56853457 | 14.6932 | 0 | 0 | 1 | 1 |\n",
       "| chrY:56853606 | chrY | 56853606 | 21.5156 | 0 | 0 | 1 | 1 |\n",
       "| chrY:56853606 | chrY | 56853606 | 17.2308 | 0 | 0 | 1 | 1 |\n",
       "| chrY:56854224 | chrY | 56854224 | 15.7836 | 0 | 1 | 1 | 1 |\n",
       "| chrY:56854224 | chrY | 56854224 | 11.9130 | 0 | 1 | 1 | 1 |\n",
       "| chrY:56854224 | chrY | 56854224 | 10.0871 | 0 | 1 | 1 | 1 |\n",
       "| chrY:56854321 | chrY | 56854321 | 51.6755 | 1 | 0 | 1 | 1 |\n",
       "| chrY:56854321 | chrY | 56854321 | 52.2667 | 1 | 0 | 1 | 1 |\n",
       "| chrY:56854321 | chrY | 56854321 | 59.4913 | 1 | 0 | 1 | 1 |\n",
       "| chrY:56863083 | chrY | 56863083 | 19.9054 | 1 | 1 | 0 | 1 |\n",
       "| chrY:56863083 | chrY | 56863083 | 10.5823 | 1 | 1 | 0 | 1 |\n",
       "| chrY:56863083 | chrY | 56863083 |  9.2390 | 1 | 1 | 0 | 1 |\n",
       "| chrY:56865621 | chrY | 56865621 | 11.9102 | 0 | 0 | 1 | 1 |\n",
       "| chrY:56865621 | chrY | 56865621 | 20.7002 | 0 | 0 | 1 | 1 |\n",
       "| chrY:56870918 | chrY | 56870918 | 51.5534 | 1 | 0 | 1 | 1 |\n",
       "| chrY:56870918 | chrY | 56870918 | 20.2322 | 1 | 0 | 1 | 1 |\n",
       "| chrY:56870918 | chrY | 56870918 | 25.1104 | 1 | 0 | 1 | 1 |\n",
       "| chrY:56875693 | chrY | 56875693 | 25.4743 | 0 | 1 | 0 | 1 |\n",
       "| chrY:56875693 | chrY | 56875693 |  9.5873 | 0 | 1 | 0 | 1 |\n",
       "\n"
      ],
      "text/plain": [
       "      variant         #CHROM POS       QUAL    D0 Q1 Q2 Q3\n",
       "1     chr10:100239175 chr10  100239175 60.7878 0  0  0  1 \n",
       "2     chr10:100244609 chr10  100244609 15.6850 1  1  1  1 \n",
       "3     chr10:100244609 chr10  100244609 52.6381 1  1  1  1 \n",
       "4     chr10:100244609 chr10  100244609 60.8805 1  1  1  1 \n",
       "5     chr10:100244609 chr10  100244609 18.0215 1  1  1  1 \n",
       "6     chr10:100274928 chr10  100274928 87.1612 1  1  0  1 \n",
       "7     chr10:100274928 chr10  100274928 76.9426 1  1  0  1 \n",
       "8     chr10:100274928 chr10  100274928 66.4493 1  1  0  1 \n",
       "9     chr10:100504513 chr10  100504513 64.8268 1  1  1  1 \n",
       "10    chr10:100504513 chr10  100504513 64.0123 1  1  1  1 \n",
       "11    chr10:100504513 chr10  100504513 63.3970 1  1  1  1 \n",
       "12    chr10:100504513 chr10  100504513 64.2007 1  1  1  1 \n",
       "13    chr10:100554396 chr10  100554396 65.9101 1  1  1  1 \n",
       "14    chr10:100554396 chr10  100554396 65.5361 1  1  1  1 \n",
       "15    chr10:100554396 chr10  100554396 74.5490 1  1  1  1 \n",
       "16    chr10:100554396 chr10  100554396 75.2550 1  1  1  1 \n",
       "17    chr10:100574852 chr10  100574852 65.1676 1  1  1  1 \n",
       "18    chr10:100574852 chr10  100574852 81.1068 1  1  1  1 \n",
       "19    chr10:100574852 chr10  100574852 74.1302 1  1  1  1 \n",
       "20    chr10:100574852 chr10  100574852 81.2275 1  1  1  1 \n",
       "21    chr10:100588309 chr10  100588309 54.9513 1  0  1  1 \n",
       "22    chr10:100588309 chr10  100588309 52.3245 1  0  1  1 \n",
       "23    chr10:100588309 chr10  100588309 54.0632 1  0  1  1 \n",
       "24    chr10:100646858 chr10  100646858 65.1122 0  1  0  1 \n",
       "25    chr10:100646858 chr10  100646858 62.7153 0  1  0  1 \n",
       "26    chr10:100675329 chr10  100675329 65.5558 0  0  0  1 \n",
       "27    chr10:100858628 chr10  100858628 74.6138 1  1  0  1 \n",
       "28    chr10:100858628 chr10  100858628 74.5660 1  1  0  1 \n",
       "29    chr10:100858628 chr10  100858628 62.5840 1  1  0  1 \n",
       "30    chr10:100902195 chr10  100902195 53.6540 0  0  0  1 \n",
       "⋮     ⋮               ⋮      ⋮         ⋮       ⋮  ⋮  ⋮  ⋮ \n",
       "52427 chrY:11334485   chrY   11334485  16.5177 0  0  1  1 \n",
       "52428 chrY:11334485   chrY   11334485  54.3717 0  0  1  1 \n",
       "52429 chrY:56851586   chrY   56851586  13.4641 0  1  1  1 \n",
       "52430 chrY:56851586   chrY   56851586  16.2306 0  1  1  1 \n",
       "52431 chrY:56851586   chrY   56851586  18.7914 0  1  1  1 \n",
       "52432 chrY:56853153   chrY   56853153  16.0565 0  0  1  1 \n",
       "52433 chrY:56853153   chrY   56853153  21.0236 0  0  1  1 \n",
       "52434 chrY:56853154   chrY   56853154  14.1522 0  1  1  1 \n",
       "52435 chrY:56853154   chrY   56853154  20.8165 0  1  1  1 \n",
       "52436 chrY:56853154   chrY   56853154  23.6621 0  1  1  1 \n",
       "52437 chrY:56853457   chrY   56853457  22.0914 0  0  1  1 \n",
       "52438 chrY:56853457   chrY   56853457  14.6932 0  0  1  1 \n",
       "52439 chrY:56853606   chrY   56853606  21.5156 0  0  1  1 \n",
       "52440 chrY:56853606   chrY   56853606  17.2308 0  0  1  1 \n",
       "52441 chrY:56854224   chrY   56854224  15.7836 0  1  1  1 \n",
       "52442 chrY:56854224   chrY   56854224  11.9130 0  1  1  1 \n",
       "52443 chrY:56854224   chrY   56854224  10.0871 0  1  1  1 \n",
       "52444 chrY:56854321   chrY   56854321  51.6755 1  0  1  1 \n",
       "52445 chrY:56854321   chrY   56854321  52.2667 1  0  1  1 \n",
       "52446 chrY:56854321   chrY   56854321  59.4913 1  0  1  1 \n",
       "52447 chrY:56863083   chrY   56863083  19.9054 1  1  0  1 \n",
       "52448 chrY:56863083   chrY   56863083  10.5823 1  1  0  1 \n",
       "52449 chrY:56863083   chrY   56863083   9.2390 1  1  0  1 \n",
       "52450 chrY:56865621   chrY   56865621  11.9102 0  0  1  1 \n",
       "52451 chrY:56865621   chrY   56865621  20.7002 0  0  1  1 \n",
       "52452 chrY:56870918   chrY   56870918  51.5534 1  0  1  1 \n",
       "52453 chrY:56870918   chrY   56870918  20.2322 1  0  1  1 \n",
       "52454 chrY:56870918   chrY   56870918  25.1104 1  0  1  1 \n",
       "52455 chrY:56875693   chrY   56875693  25.4743 0  1  0  1 \n",
       "52456 chrY:56875693   chrY   56875693   9.5873 0  1  0  1 "
      ]
     },
     "metadata": {},
     "output_type": "display_data"
    }
   ],
   "source": [
    "D0"
   ]
  },
  {
   "cell_type": "code",
   "execution_count": 44,
   "metadata": {
    "vscode": {
     "languageId": "r"
    }
   },
   "outputs": [],
   "source": [
    "# Filter by ref_filtered\n",
    " vcf_filtered  <- semi_join(vcf, D0, by = c(\"#CHROM\", \"POS\"))"
   ]
  },
  {
   "cell_type": "code",
   "execution_count": 45,
   "metadata": {
    "vscode": {
     "languageId": "r"
    }
   },
   "outputs": [
    {
     "data": {
      "text/html": [
       "<table class=\"dataframe\">\n",
       "<caption>A data.table: 6 × 20</caption>\n",
       "<thead>\n",
       "\t<tr><th scope=col>#CHROM</th><th scope=col>POS</th><th scope=col>ID</th><th scope=col>REF</th><th scope=col>ALT</th><th scope=col>QUAL</th><th scope=col>FILTER</th><th scope=col>INFO</th><th scope=col>FORMAT</th><th scope=col>Q3</th><th scope=col>GT</th><th scope=col>GQ</th><th scope=col>DP</th><th scope=col>AF</th><th scope=col>AD</th><th scope=col>AU</th><th scope=col>CU</th><th scope=col>GU</th><th scope=col>TU</th><th scope=col>timepoint</th></tr>\n",
       "\t<tr><th scope=col>&lt;chr&gt;</th><th scope=col>&lt;int&gt;</th><th scope=col>&lt;chr&gt;</th><th scope=col>&lt;chr&gt;</th><th scope=col>&lt;chr&gt;</th><th scope=col>&lt;dbl&gt;</th><th scope=col>&lt;chr&gt;</th><th scope=col>&lt;chr&gt;</th><th scope=col>&lt;chr&gt;</th><th scope=col>&lt;chr&gt;</th><th scope=col>&lt;chr&gt;</th><th scope=col>&lt;chr&gt;</th><th scope=col>&lt;chr&gt;</th><th scope=col>&lt;chr&gt;</th><th scope=col>&lt;chr&gt;</th><th scope=col>&lt;chr&gt;</th><th scope=col>&lt;chr&gt;</th><th scope=col>&lt;chr&gt;</th><th scope=col>&lt;chr&gt;</th><th scope=col>&lt;chr&gt;</th></tr>\n",
       "</thead>\n",
       "<tbody>\n",
       "\t<tr><td>chr1</td><td> 617409</td><td>.</td><td>A</td><td>C</td><td>20.6958</td><td>PASS</td><td>FAU=0;FCU=6;FGU=0;FTU=0;RAU=0;RCU=8;RGU=0;RTU=0;SB=1.0          </td><td>GT:GQ:DP:AF:AD:AU:CU:GU:TU</td><td>1/1:20:14:1.0000:0,14:0:14:0:0   </td><td>1/1</td><td>20</td><td>14 </td><td>1.0000</td><td>0,14 </td><td>0 </td><td>14</td><td>0 </td><td>0 </td><td>Q3</td></tr>\n",
       "\t<tr><td>chr1</td><td> 669334</td><td>.</td><td>A</td><td>C</td><td>20.6609</td><td>PASS</td><td>FAU=0;FCU=5;FGU=0;FTU=0;RAU=2;RCU=4;RGU=0;RTU=0;SB=1.0          </td><td>GT:GQ:DP:AF:AD:AU:CU:GU:TU</td><td>0/1:20:12:0.7500:2,9:2:9:0:0     </td><td>0/1</td><td>20</td><td>12 </td><td>0.7500</td><td>2,9  </td><td>2 </td><td>9 </td><td>0 </td><td>0 </td><td>Q3</td></tr>\n",
       "\t<tr><td>chr1</td><td> 941526</td><td>.</td><td>G</td><td>T</td><td>63.8137</td><td>PASS</td><td>H;FAU=0;FCU=0;FGU=39;FTU=34;RAU=0;RCU=0;RGU=37;RTU=39;SB=0.16589</td><td>GT:GQ:DP:AF:AD:AU:CU:GU:TU</td><td>0/1:63:149:0.4899:76,73:0:0:76:73</td><td>0/1</td><td>63</td><td>149</td><td>0.4899</td><td>76,73</td><td>0 </td><td>0 </td><td>76</td><td>73</td><td>Q3</td></tr>\n",
       "\t<tr><td>chr1</td><td> 956183</td><td>.</td><td>C</td><td>T</td><td>81.1951</td><td>PASS</td><td>H;FAU=0;FCU=34;FGU=0;FTU=32;RAU=0;RCU=46;RGU=0;RTU=44;SB=1.0    </td><td>GT:GQ:DP:AF:AD:AU:CU:GU:TU</td><td>0/1:81:156:0.4872:80,76:0:80:0:76</td><td>0/1</td><td>81</td><td>156</td><td>0.4872</td><td>80,76</td><td>0 </td><td>80</td><td>0 </td><td>76</td><td>Q3</td></tr>\n",
       "\t<tr><td>chr1</td><td> 965436</td><td>.</td><td>G</td><td>A</td><td>61.9883</td><td>PASS</td><td>FAU=26;FCU=0;FGU=37;FTU=0;RAU=45;RCU=0;RGU=29;RTU=0;SB=0.00769  </td><td>GT:GQ:DP:AF:AD:AU:CU:GU:TU</td><td>0/1:61:138:0.5145:66,71:71:0:66:0</td><td>0/1</td><td>61</td><td>138</td><td>0.5145</td><td>66,71</td><td>71</td><td>0 </td><td>66</td><td>0 </td><td>Q3</td></tr>\n",
       "\t<tr><td>chr1</td><td>1064721</td><td>.</td><td>A</td><td>C</td><td>66.9678</td><td>PASS</td><td>H;FAU=28;FCU=25;FGU=0;FTU=0;RAU=13;RCU=38;RGU=0;RTU=0;SB=0.00338</td><td>GT:GQ:DP:AF:AD:AU:CU:GU:TU</td><td>0/1:66:104:0.6058:41,63:41:63:0:0</td><td>0/1</td><td>66</td><td>104</td><td>0.6058</td><td>41,63</td><td>41</td><td>63</td><td>0 </td><td>0 </td><td>Q3</td></tr>\n",
       "</tbody>\n",
       "</table>\n"
      ],
      "text/latex": [
       "A data.table: 6 × 20\n",
       "\\begin{tabular}{llllllllllllllllllll}\n",
       " \\#CHROM & POS & ID & REF & ALT & QUAL & FILTER & INFO & FORMAT & Q3 & GT & GQ & DP & AF & AD & AU & CU & GU & TU & timepoint\\\\\n",
       " <chr> & <int> & <chr> & <chr> & <chr> & <dbl> & <chr> & <chr> & <chr> & <chr> & <chr> & <chr> & <chr> & <chr> & <chr> & <chr> & <chr> & <chr> & <chr> & <chr>\\\\\n",
       "\\hline\n",
       "\t chr1 &  617409 & . & A & C & 20.6958 & PASS & FAU=0;FCU=6;FGU=0;FTU=0;RAU=0;RCU=8;RGU=0;RTU=0;SB=1.0           & GT:GQ:DP:AF:AD:AU:CU:GU:TU & 1/1:20:14:1.0000:0,14:0:14:0:0    & 1/1 & 20 & 14  & 1.0000 & 0,14  & 0  & 14 & 0  & 0  & Q3\\\\\n",
       "\t chr1 &  669334 & . & A & C & 20.6609 & PASS & FAU=0;FCU=5;FGU=0;FTU=0;RAU=2;RCU=4;RGU=0;RTU=0;SB=1.0           & GT:GQ:DP:AF:AD:AU:CU:GU:TU & 0/1:20:12:0.7500:2,9:2:9:0:0      & 0/1 & 20 & 12  & 0.7500 & 2,9   & 2  & 9  & 0  & 0  & Q3\\\\\n",
       "\t chr1 &  941526 & . & G & T & 63.8137 & PASS & H;FAU=0;FCU=0;FGU=39;FTU=34;RAU=0;RCU=0;RGU=37;RTU=39;SB=0.16589 & GT:GQ:DP:AF:AD:AU:CU:GU:TU & 0/1:63:149:0.4899:76,73:0:0:76:73 & 0/1 & 63 & 149 & 0.4899 & 76,73 & 0  & 0  & 76 & 73 & Q3\\\\\n",
       "\t chr1 &  956183 & . & C & T & 81.1951 & PASS & H;FAU=0;FCU=34;FGU=0;FTU=32;RAU=0;RCU=46;RGU=0;RTU=44;SB=1.0     & GT:GQ:DP:AF:AD:AU:CU:GU:TU & 0/1:81:156:0.4872:80,76:0:80:0:76 & 0/1 & 81 & 156 & 0.4872 & 80,76 & 0  & 80 & 0  & 76 & Q3\\\\\n",
       "\t chr1 &  965436 & . & G & A & 61.9883 & PASS & FAU=26;FCU=0;FGU=37;FTU=0;RAU=45;RCU=0;RGU=29;RTU=0;SB=0.00769   & GT:GQ:DP:AF:AD:AU:CU:GU:TU & 0/1:61:138:0.5145:66,71:71:0:66:0 & 0/1 & 61 & 138 & 0.5145 & 66,71 & 71 & 0  & 66 & 0  & Q3\\\\\n",
       "\t chr1 & 1064721 & . & A & C & 66.9678 & PASS & H;FAU=28;FCU=25;FGU=0;FTU=0;RAU=13;RCU=38;RGU=0;RTU=0;SB=0.00338 & GT:GQ:DP:AF:AD:AU:CU:GU:TU & 0/1:66:104:0.6058:41,63:41:63:0:0 & 0/1 & 66 & 104 & 0.6058 & 41,63 & 41 & 63 & 0  & 0  & Q3\\\\\n",
       "\\end{tabular}\n"
      ],
      "text/markdown": [
       "\n",
       "A data.table: 6 × 20\n",
       "\n",
       "| #CHROM &lt;chr&gt; | POS &lt;int&gt; | ID &lt;chr&gt; | REF &lt;chr&gt; | ALT &lt;chr&gt; | QUAL &lt;dbl&gt; | FILTER &lt;chr&gt; | INFO &lt;chr&gt; | FORMAT &lt;chr&gt; | Q3 &lt;chr&gt; | GT &lt;chr&gt; | GQ &lt;chr&gt; | DP &lt;chr&gt; | AF &lt;chr&gt; | AD &lt;chr&gt; | AU &lt;chr&gt; | CU &lt;chr&gt; | GU &lt;chr&gt; | TU &lt;chr&gt; | timepoint &lt;chr&gt; |\n",
       "|---|---|---|---|---|---|---|---|---|---|---|---|---|---|---|---|---|---|---|---|\n",
       "| chr1 |  617409 | . | A | C | 20.6958 | PASS | FAU=0;FCU=6;FGU=0;FTU=0;RAU=0;RCU=8;RGU=0;RTU=0;SB=1.0           | GT:GQ:DP:AF:AD:AU:CU:GU:TU | 1/1:20:14:1.0000:0,14:0:14:0:0    | 1/1 | 20 | 14  | 1.0000 | 0,14  | 0  | 14 | 0  | 0  | Q3 |\n",
       "| chr1 |  669334 | . | A | C | 20.6609 | PASS | FAU=0;FCU=5;FGU=0;FTU=0;RAU=2;RCU=4;RGU=0;RTU=0;SB=1.0           | GT:GQ:DP:AF:AD:AU:CU:GU:TU | 0/1:20:12:0.7500:2,9:2:9:0:0      | 0/1 | 20 | 12  | 0.7500 | 2,9   | 2  | 9  | 0  | 0  | Q3 |\n",
       "| chr1 |  941526 | . | G | T | 63.8137 | PASS | H;FAU=0;FCU=0;FGU=39;FTU=34;RAU=0;RCU=0;RGU=37;RTU=39;SB=0.16589 | GT:GQ:DP:AF:AD:AU:CU:GU:TU | 0/1:63:149:0.4899:76,73:0:0:76:73 | 0/1 | 63 | 149 | 0.4899 | 76,73 | 0  | 0  | 76 | 73 | Q3 |\n",
       "| chr1 |  956183 | . | C | T | 81.1951 | PASS | H;FAU=0;FCU=34;FGU=0;FTU=32;RAU=0;RCU=46;RGU=0;RTU=44;SB=1.0     | GT:GQ:DP:AF:AD:AU:CU:GU:TU | 0/1:81:156:0.4872:80,76:0:80:0:76 | 0/1 | 81 | 156 | 0.4872 | 80,76 | 0  | 80 | 0  | 76 | Q3 |\n",
       "| chr1 |  965436 | . | G | A | 61.9883 | PASS | FAU=26;FCU=0;FGU=37;FTU=0;RAU=45;RCU=0;RGU=29;RTU=0;SB=0.00769   | GT:GQ:DP:AF:AD:AU:CU:GU:TU | 0/1:61:138:0.5145:66,71:71:0:66:0 | 0/1 | 61 | 138 | 0.5145 | 66,71 | 71 | 0  | 66 | 0  | Q3 |\n",
       "| chr1 | 1064721 | . | A | C | 66.9678 | PASS | H;FAU=28;FCU=25;FGU=0;FTU=0;RAU=13;RCU=38;RGU=0;RTU=0;SB=0.00338 | GT:GQ:DP:AF:AD:AU:CU:GU:TU | 0/1:66:104:0.6058:41,63:41:63:0:0 | 0/1 | 66 | 104 | 0.6058 | 41,63 | 41 | 63 | 0  | 0  | Q3 |\n",
       "\n"
      ],
      "text/plain": [
       "  #CHROM POS     ID REF ALT QUAL    FILTER\n",
       "1 chr1    617409 .  A   C   20.6958 PASS  \n",
       "2 chr1    669334 .  A   C   20.6609 PASS  \n",
       "3 chr1    941526 .  G   T   63.8137 PASS  \n",
       "4 chr1    956183 .  C   T   81.1951 PASS  \n",
       "5 chr1    965436 .  G   A   61.9883 PASS  \n",
       "6 chr1   1064721 .  A   C   66.9678 PASS  \n",
       "  INFO                                                            \n",
       "1 FAU=0;FCU=6;FGU=0;FTU=0;RAU=0;RCU=8;RGU=0;RTU=0;SB=1.0          \n",
       "2 FAU=0;FCU=5;FGU=0;FTU=0;RAU=2;RCU=4;RGU=0;RTU=0;SB=1.0          \n",
       "3 H;FAU=0;FCU=0;FGU=39;FTU=34;RAU=0;RCU=0;RGU=37;RTU=39;SB=0.16589\n",
       "4 H;FAU=0;FCU=34;FGU=0;FTU=32;RAU=0;RCU=46;RGU=0;RTU=44;SB=1.0    \n",
       "5 FAU=26;FCU=0;FGU=37;FTU=0;RAU=45;RCU=0;RGU=29;RTU=0;SB=0.00769  \n",
       "6 H;FAU=28;FCU=25;FGU=0;FTU=0;RAU=13;RCU=38;RGU=0;RTU=0;SB=0.00338\n",
       "  FORMAT                     Q3                                GT  GQ DP \n",
       "1 GT:GQ:DP:AF:AD:AU:CU:GU:TU 1/1:20:14:1.0000:0,14:0:14:0:0    1/1 20 14 \n",
       "2 GT:GQ:DP:AF:AD:AU:CU:GU:TU 0/1:20:12:0.7500:2,9:2:9:0:0      0/1 20 12 \n",
       "3 GT:GQ:DP:AF:AD:AU:CU:GU:TU 0/1:63:149:0.4899:76,73:0:0:76:73 0/1 63 149\n",
       "4 GT:GQ:DP:AF:AD:AU:CU:GU:TU 0/1:81:156:0.4872:80,76:0:80:0:76 0/1 81 156\n",
       "5 GT:GQ:DP:AF:AD:AU:CU:GU:TU 0/1:61:138:0.5145:66,71:71:0:66:0 0/1 61 138\n",
       "6 GT:GQ:DP:AF:AD:AU:CU:GU:TU 0/1:66:104:0.6058:41,63:41:63:0:0 0/1 66 104\n",
       "  AF     AD    AU CU GU TU timepoint\n",
       "1 1.0000 0,14  0  14 0  0  Q3       \n",
       "2 0.7500 2,9   2  9  0  0  Q3       \n",
       "3 0.4899 76,73 0  0  76 73 Q3       \n",
       "4 0.4872 80,76 0  80 0  76 Q3       \n",
       "5 0.5145 66,71 71 0  66 0  Q3       \n",
       "6 0.6058 41,63 41 63 0  0  Q3       "
      ]
     },
     "metadata": {},
     "output_type": "display_data"
    }
   ],
   "source": [
    "head(vcf_filtered)"
   ]
  },
  {
   "cell_type": "code",
   "execution_count": 46,
   "metadata": {
    "vscode": {
     "languageId": "r"
    }
   },
   "outputs": [],
   "source": [
    "setwd(paste0(\"/staging/leuven/stg_00096/home/projects/2023_Cools_B-ALL/FINAL_DNA_ANALYSIS/new_Variant_calling/CLAIRS_TO/coverage_10/\",sample,\"/\"))"
   ]
  },
  {
   "cell_type": "code",
   "execution_count": 47,
   "metadata": {
    "vscode": {
     "languageId": "r"
    }
   },
   "outputs": [],
   "source": [
    "loci <- vcf_filtered %>% select (\"#CHROM\", POS)"
   ]
  },
  {
   "cell_type": "code",
   "execution_count": 49,
   "metadata": {
    "vscode": {
     "languageId": "r"
    }
   },
   "outputs": [],
   "source": [
    "fwrite(loci, \"loci.txt\", col.names = FALSE, sep = '\\t')"
   ]
  },
  {
   "cell_type": "markdown",
   "metadata": {},
   "source": [
    "After this go to 02_filter_vcf_pos.sh for filterig for the final snv vcf"
   ]
  },
  {
   "cell_type": "code",
   "execution_count": 7,
   "metadata": {
    "vscode": {
     "languageId": "r"
    }
   },
   "outputs": [],
   "source": [
    "library(maftools)"
   ]
  },
  {
   "cell_type": "markdown",
   "metadata": {},
   "source": [
    "# MAF script"
   ]
  },
  {
   "cell_type": "code",
   "execution_count": null,
   "metadata": {
    "vscode": {
     "languageId": "r"
    }
   },
   "outputs": [],
   "source": [
    "OUTBASE <- \"/CLAIRS_TO/coverage_10\""
   ]
  },
  {
   "cell_type": "code",
   "execution_count": 3,
   "metadata": {
    "vscode": {
     "languageId": "r"
    }
   },
   "outputs": [
    {
     "name": "stdout",
     "output_type": "stream",
     "text": [
      "[1] \"/staging/leuven/stg_00096/home/projects/2023_Cools_B-ALL/FINAL_DNA_ANALYSIS/new_Variant_calling/CLAIRS_TO/coverage_10\"\n"
     ]
    }
   ],
   "source": [
    "print(OUTBASE)"
   ]
  },
  {
   "cell_type": "code",
   "execution_count": 4,
   "metadata": {
    "vscode": {
     "languageId": "r"
    }
   },
   "outputs": [
    {
     "data": {
      "text/html": [
       "<style>\n",
       ".list-inline {list-style: none; margin:0; padding: 0}\n",
       ".list-inline>li {display: inline-block}\n",
       ".list-inline>li:not(:last-child)::after {content: \"\\00b7\"; padding: 0 .5ex}\n",
       "</style>\n",
       "<ol class=list-inline><li>'/staging/leuven/stg_00096/home/projects/2023_Cools_B-ALL/FINAL_DNA_ANALYSIS/new_Variant_calling/CLAIRS_TO/coverage_10/D0/D0_PASS_funcotate_snvs_indels.maf'</li><li>'/staging/leuven/stg_00096/home/projects/2023_Cools_B-ALL/FINAL_DNA_ANALYSIS/new_Variant_calling/CLAIRS_TO/coverage_10/Q1/Q1_PASS_funcotate_snvs_indels.maf'</li><li>'/staging/leuven/stg_00096/home/projects/2023_Cools_B-ALL/FINAL_DNA_ANALYSIS/new_Variant_calling/CLAIRS_TO/coverage_10/Q2/Q2_PASS_funcotate_snvs_indels.maf'</li><li>'/staging/leuven/stg_00096/home/projects/2023_Cools_B-ALL/FINAL_DNA_ANALYSIS/new_Variant_calling/CLAIRS_TO/coverage_10/Q3/Q3_PASS_funcotate_snvs_indels.maf'</li></ol>\n"
      ],
      "text/latex": [
       "\\begin{enumerate*}\n",
       "\\item '/staging/leuven/stg\\_00096/home/projects/2023\\_Cools\\_B-ALL/FINAL\\_DNA\\_ANALYSIS/new\\_Variant\\_calling/CLAIRS\\_TO/coverage\\_10/D0/D0\\_PASS\\_funcotate\\_snvs\\_indels.maf'\n",
       "\\item '/staging/leuven/stg\\_00096/home/projects/2023\\_Cools\\_B-ALL/FINAL\\_DNA\\_ANALYSIS/new\\_Variant\\_calling/CLAIRS\\_TO/coverage\\_10/Q1/Q1\\_PASS\\_funcotate\\_snvs\\_indels.maf'\n",
       "\\item '/staging/leuven/stg\\_00096/home/projects/2023\\_Cools\\_B-ALL/FINAL\\_DNA\\_ANALYSIS/new\\_Variant\\_calling/CLAIRS\\_TO/coverage\\_10/Q2/Q2\\_PASS\\_funcotate\\_snvs\\_indels.maf'\n",
       "\\item '/staging/leuven/stg\\_00096/home/projects/2023\\_Cools\\_B-ALL/FINAL\\_DNA\\_ANALYSIS/new\\_Variant\\_calling/CLAIRS\\_TO/coverage\\_10/Q3/Q3\\_PASS\\_funcotate\\_snvs\\_indels.maf'\n",
       "\\end{enumerate*}\n"
      ],
      "text/markdown": [
       "1. '/staging/leuven/stg_00096/home/projects/2023_Cools_B-ALL/FINAL_DNA_ANALYSIS/new_Variant_calling/CLAIRS_TO/coverage_10/D0/D0_PASS_funcotate_snvs_indels.maf'\n",
       "2. '/staging/leuven/stg_00096/home/projects/2023_Cools_B-ALL/FINAL_DNA_ANALYSIS/new_Variant_calling/CLAIRS_TO/coverage_10/Q1/Q1_PASS_funcotate_snvs_indels.maf'\n",
       "3. '/staging/leuven/stg_00096/home/projects/2023_Cools_B-ALL/FINAL_DNA_ANALYSIS/new_Variant_calling/CLAIRS_TO/coverage_10/Q2/Q2_PASS_funcotate_snvs_indels.maf'\n",
       "4. '/staging/leuven/stg_00096/home/projects/2023_Cools_B-ALL/FINAL_DNA_ANALYSIS/new_Variant_calling/CLAIRS_TO/coverage_10/Q3/Q3_PASS_funcotate_snvs_indels.maf'\n",
       "\n",
       "\n"
      ],
      "text/plain": [
       "[1] \"/staging/leuven/stg_00096/home/projects/2023_Cools_B-ALL/FINAL_DNA_ANALYSIS/new_Variant_calling/CLAIRS_TO/coverage_10/D0/D0_PASS_funcotate_snvs_indels.maf\"\n",
       "[2] \"/staging/leuven/stg_00096/home/projects/2023_Cools_B-ALL/FINAL_DNA_ANALYSIS/new_Variant_calling/CLAIRS_TO/coverage_10/Q1/Q1_PASS_funcotate_snvs_indels.maf\"\n",
       "[3] \"/staging/leuven/stg_00096/home/projects/2023_Cools_B-ALL/FINAL_DNA_ANALYSIS/new_Variant_calling/CLAIRS_TO/coverage_10/Q2/Q2_PASS_funcotate_snvs_indels.maf\"\n",
       "[4] \"/staging/leuven/stg_00096/home/projects/2023_Cools_B-ALL/FINAL_DNA_ANALYSIS/new_Variant_calling/CLAIRS_TO/coverage_10/Q3/Q3_PASS_funcotate_snvs_indels.maf\""
      ]
     },
     "metadata": {},
     "output_type": "display_data"
    }
   ],
   "source": [
    "snv_files <- list.files(OUTBASE, pattern = \"maf\", full.names = T, recursive = T)\n",
    "snv_files"
   ]
  },
  {
   "cell_type": "code",
   "execution_count": 5,
   "metadata": {
    "vscode": {
     "languageId": "r"
    }
   },
   "outputs": [],
   "source": [
    "timepoint <- c(\"D0\", \"Q1\", \"Q2\", \"Q3\")"
   ]
  },
  {
   "cell_type": "code",
   "execution_count": 48,
   "metadata": {
    "vscode": {
     "languageId": "r"
    }
   },
   "outputs": [
    {
     "name": "stdout",
     "output_type": "stream",
     "text": [
      "-Reading\n",
      "-Validating\n",
      "-Silent variants: 14310 \n",
      "-Summarizing\n",
      "-Processing clinical data\n",
      "--Missing clinical data\n",
      "-Finished in 0.152s elapsed (0.704s cpu) \n",
      "-Reading\n",
      "-Validating\n",
      "-Silent variants: 16421 \n",
      "-Summarizing\n",
      "-Processing clinical data\n",
      "--Missing clinical data\n",
      "-Finished in 0.180s elapsed (0.764s cpu) \n",
      "-Reading\n",
      "-Validating\n",
      "-Silent variants: 17032 \n",
      "-Summarizing\n",
      "-Processing clinical data\n",
      "--Missing clinical data\n",
      "-Finished in 0.162s elapsed (0.774s cpu) \n",
      "-Reading\n",
      "-Validating\n",
      "-Silent variants: 18773 \n",
      "-Summarizing\n",
      "-Processing clinical data\n",
      "--Missing clinical data\n",
      "-Finished in 0.181s elapsed (0.874s cpu) \n",
      "Merging 4 MAF objects\n",
      "-Validating\n",
      "--Removed 37690 duplicated variants\n",
      "-Silent variants: 28846 \n",
      "-Summarizing\n",
      "-Processing clinical data\n",
      "--Annotation missing for below samples in MAF:\n",
      "  D0\n",
      "  Q1\n",
      "  Q2\n",
      "  Q3\n",
      "-Finished in 0.602s elapsed (1.255s cpu) \n"
     ]
    }
   ],
   "source": [
    "process_maf_files <- function(maf_files, sample_name) {\n",
    "\n",
    "  # Read MAF files and update Tumor_Sample_Barcode and matched_mode\n",
    "  r_maffiles <- lapply(seq_along(maf_files), function(i) {\n",
    "    maf <- read.maf(maf_files[i])\n",
    "    maf@data$Tumor_Sample_Barcode <- sample_name[i]\n",
    "    return(maf)\n",
    "  })\n",
    "    # Merge the MAF files into a single cohort\n",
    "  maf_files_matched_cohort <- merge_mafs(r_maffiles, verbose = TRUE)\n",
    "  \n",
    "  return(maf_files_matched_cohort)\n",
    "}\n",
    "maf_files_matched_cohort <- process_maf_files(snv_files,sample_name = timepoint)"
   ]
  },
  {
   "cell_type": "code",
   "execution_count": 49,
   "metadata": {
    "vscode": {
     "languageId": "r"
    }
   },
   "outputs": [
    {
     "data": {
      "text/html": [
       "<style>\n",
       ".list-inline {list-style: none; margin:0; padding: 0}\n",
       ".list-inline>li {display: inline-block}\n",
       ".list-inline>li:not(:last-child)::after {content: \"\\00b7\"; padding: 0 .5ex}\n",
       "</style>\n",
       "<ol class=list-inline><li>D0</li><li>D0</li><li>D0</li><li>D0</li><li>D0</li><li>D0</li><li>D0</li><li>D0</li><li>D0</li><li>D0</li><li>D0</li><li>D0</li><li>D0</li><li>D0</li><li>D0</li><li>D0</li><li>D0</li><li>D0</li><li>D0</li><li>D0</li><li>D0</li><li>D0</li><li>D0</li><li>D0</li><li>D0</li><li>D0</li><li>D0</li><li>D0</li><li>D0</li><li>D0</li><li>D0</li><li>D0</li><li>D0</li><li>D0</li><li>D0</li><li>D0</li><li>D0</li><li>D0</li><li>D0</li><li>D0</li><li>D0</li><li>D0</li><li>D0</li><li>D0</li><li>D0</li><li>D0</li><li>D0</li><li>D0</li><li>D0</li><li>D0</li><li>D0</li><li>D0</li><li>D0</li><li>D0</li><li>D0</li><li>D0</li><li>D0</li><li>D0</li><li>D0</li><li>D0</li><li>D0</li><li>D0</li><li>D0</li><li>D0</li><li>D0</li><li>D0</li><li>D0</li><li>D0</li><li>D0</li><li>D0</li><li>D0</li><li>D0</li><li>D0</li><li>D0</li><li>D0</li><li>D0</li><li>D0</li><li>D0</li><li>D0</li><li>D0</li><li>D0</li><li>D0</li><li>D0</li><li>D0</li><li>D0</li><li>D0</li><li>D0</li><li>D0</li><li>D0</li><li>D0</li><li>D0</li><li>D0</li><li>D0</li><li>D0</li><li>D0</li><li>D0</li><li>D0</li><li>D0</li><li>D0</li><li>D0</li><li>D0</li><li>D0</li><li>D0</li><li>D0</li><li>D0</li><li>D0</li><li>D0</li><li>D0</li><li>D0</li><li>D0</li><li>D0</li><li>D0</li><li>D0</li><li>D0</li><li>D0</li><li>D0</li><li>D0</li><li>D0</li><li>D0</li><li>Q1</li><li>Q1</li><li>Q1</li><li>Q1</li><li>Q1</li><li>Q1</li><li>Q1</li><li>Q1</li><li>Q1</li><li>Q1</li><li>Q1</li><li>Q1</li><li>Q1</li><li>Q1</li><li>Q1</li><li>Q1</li><li>Q1</li><li>Q1</li><li>Q1</li><li>Q1</li><li>Q1</li><li>Q1</li><li>Q1</li><li>Q1</li><li>Q1</li><li>Q1</li><li>Q1</li><li>Q1</li><li>Q1</li><li>Q1</li><li>Q1</li><li>Q1</li><li>Q1</li><li>Q1</li><li>Q1</li><li>Q1</li><li>Q1</li><li>Q1</li><li>Q1</li><li>Q1</li><li>Q1</li><li>Q1</li><li>Q1</li><li>Q1</li><li>Q1</li><li>Q1</li><li>Q1</li><li>Q1</li><li>Q1</li><li>Q1</li><li>Q1</li><li>Q1</li><li>Q1</li><li>Q1</li><li>Q1</li><li>Q1</li><li>Q1</li><li>Q1</li><li>Q1</li><li>Q1</li><li>Q1</li><li>Q1</li><li>Q1</li><li>Q1</li><li>Q1</li><li>Q1</li><li>Q1</li><li>Q1</li><li>Q1</li><li>Q1</li><li>Q1</li><li>Q1</li><li>Q1</li><li>Q1</li><li>Q1</li><li>Q1</li><li>Q1</li><li>Q1</li><li>Q1</li><li>Q1</li><li>Q1</li><li>⋯</li><li>Q2</li><li>Q2</li><li>Q2</li><li>Q2</li><li>Q2</li><li>Q2</li><li>Q2</li><li>Q2</li><li>Q2</li><li>Q2</li><li>Q2</li><li>Q2</li><li>Q2</li><li>Q2</li><li>Q2</li><li>Q2</li><li>Q2</li><li>Q2</li><li>Q2</li><li>Q2</li><li>Q2</li><li>Q2</li><li>Q2</li><li>Q2</li><li>Q2</li><li>Q2</li><li>Q2</li><li>Q2</li><li>Q2</li><li>Q2</li><li>Q2</li><li>Q2</li><li>Q2</li><li>Q2</li><li>Q2</li><li>Q2</li><li>Q2</li><li>Q2</li><li>Q2</li><li>Q2</li><li>Q2</li><li>Q2</li><li>Q2</li><li>Q2</li><li>Q2</li><li>Q2</li><li>Q2</li><li>Q2</li><li>Q2</li><li>Q2</li><li>Q3</li><li>Q3</li><li>Q3</li><li>Q3</li><li>Q3</li><li>Q3</li><li>Q3</li><li>Q3</li><li>Q3</li><li>Q3</li><li>Q3</li><li>Q3</li><li>Q3</li><li>Q3</li><li>Q3</li><li>Q3</li><li>Q3</li><li>Q3</li><li>Q3</li><li>Q3</li><li>Q3</li><li>Q3</li><li>Q3</li><li>Q3</li><li>Q3</li><li>Q3</li><li>Q3</li><li>Q3</li><li>Q3</li><li>Q3</li><li>Q3</li><li>Q3</li><li>Q3</li><li>Q3</li><li>Q3</li><li>Q3</li><li>Q3</li><li>Q3</li><li>Q3</li><li>Q3</li><li>Q3</li><li>Q3</li><li>Q3</li><li>Q3</li><li>Q3</li><li>Q3</li><li>Q3</li><li>Q3</li><li>Q3</li><li>Q3</li><li>Q3</li><li>Q3</li><li>Q3</li><li>Q3</li><li>Q3</li><li>Q3</li><li>Q3</li><li>Q3</li><li>Q3</li><li>Q3</li><li>Q3</li><li>Q3</li><li>Q3</li><li>Q3</li><li>Q3</li><li>Q3</li><li>Q3</li><li>Q3</li><li>Q3</li><li>Q3</li><li>Q3</li><li>Q3</li><li>Q3</li><li>Q3</li><li>Q3</li><li>Q3</li><li>Q3</li><li>Q3</li><li>Q3</li><li>Q3</li><li>Q3</li><li>Q3</li><li>Q3</li><li>Q3</li><li>Q3</li><li>Q3</li><li>Q3</li><li>Q3</li><li>Q3</li><li>Q3</li><li>Q3</li><li>Q3</li><li>Q3</li><li>Q3</li><li>Q3</li><li>Q3</li><li>Q3</li><li>Q3</li><li>Q3</li><li>Q3</li><li>Q3</li><li>Q3</li><li>Q3</li><li>Q3</li><li>Q3</li><li>Q3</li><li>Q3</li><li>Q3</li><li>Q3</li><li>Q3</li><li>Q3</li><li>Q3</li><li>Q3</li><li>Q3</li><li>Q3</li><li>Q3</li><li>Q3</li><li>Q3</li><li>Q3</li><li>Q3</li><li>Q3</li><li>Q3</li><li>Q3</li><li>Q3</li><li>Q3</li><li>Q3</li><li>Q3</li><li>Q3</li><li>Q3</li><li>Q3</li><li>Q3</li><li>Q3</li><li>Q3</li><li>Q3</li><li>Q3</li><li>Q3</li><li>Q3</li><li>Q3</li><li>Q3</li><li>Q3</li><li>Q3</li><li>Q3</li><li>Q3</li><li>Q3</li><li>Q3</li><li>Q3</li><li>Q3</li><li>Q3</li><li>Q3</li><li>Q3</li></ol>\n",
       "\n",
       "<details>\n",
       "\t<summary style=display:list-item;cursor:pointer>\n",
       "\t\t<strong>Levels</strong>:\n",
       "\t</summary>\n",
       "\t<style>\n",
       "\t.list-inline {list-style: none; margin:0; padding: 0}\n",
       "\t.list-inline>li {display: inline-block}\n",
       "\t.list-inline>li:not(:last-child)::after {content: \"\\00b7\"; padding: 0 .5ex}\n",
       "\t</style>\n",
       "\t<ol class=list-inline><li>'D0'</li><li>'Q1'</li><li>'Q2'</li><li>'Q3'</li><li>'__UNKNOWN__'</li></ol>\n",
       "</details>"
      ],
      "text/latex": [
       "\\begin{enumerate*}\n",
       "\\item D0\n",
       "\\item D0\n",
       "\\item D0\n",
       "\\item D0\n",
       "\\item D0\n",
       "\\item D0\n",
       "\\item D0\n",
       "\\item D0\n",
       "\\item D0\n",
       "\\item D0\n",
       "\\item D0\n",
       "\\item D0\n",
       "\\item D0\n",
       "\\item D0\n",
       "\\item D0\n",
       "\\item D0\n",
       "\\item D0\n",
       "\\item D0\n",
       "\\item D0\n",
       "\\item D0\n",
       "\\item D0\n",
       "\\item D0\n",
       "\\item D0\n",
       "\\item D0\n",
       "\\item D0\n",
       "\\item D0\n",
       "\\item D0\n",
       "\\item D0\n",
       "\\item D0\n",
       "\\item D0\n",
       "\\item D0\n",
       "\\item D0\n",
       "\\item D0\n",
       "\\item D0\n",
       "\\item D0\n",
       "\\item D0\n",
       "\\item D0\n",
       "\\item D0\n",
       "\\item D0\n",
       "\\item D0\n",
       "\\item D0\n",
       "\\item D0\n",
       "\\item D0\n",
       "\\item D0\n",
       "\\item D0\n",
       "\\item D0\n",
       "\\item D0\n",
       "\\item D0\n",
       "\\item D0\n",
       "\\item D0\n",
       "\\item D0\n",
       "\\item D0\n",
       "\\item D0\n",
       "\\item D0\n",
       "\\item D0\n",
       "\\item D0\n",
       "\\item D0\n",
       "\\item D0\n",
       "\\item D0\n",
       "\\item D0\n",
       "\\item D0\n",
       "\\item D0\n",
       "\\item D0\n",
       "\\item D0\n",
       "\\item D0\n",
       "\\item D0\n",
       "\\item D0\n",
       "\\item D0\n",
       "\\item D0\n",
       "\\item D0\n",
       "\\item D0\n",
       "\\item D0\n",
       "\\item D0\n",
       "\\item D0\n",
       "\\item D0\n",
       "\\item D0\n",
       "\\item D0\n",
       "\\item D0\n",
       "\\item D0\n",
       "\\item D0\n",
       "\\item D0\n",
       "\\item D0\n",
       "\\item D0\n",
       "\\item D0\n",
       "\\item D0\n",
       "\\item D0\n",
       "\\item D0\n",
       "\\item D0\n",
       "\\item D0\n",
       "\\item D0\n",
       "\\item D0\n",
       "\\item D0\n",
       "\\item D0\n",
       "\\item D0\n",
       "\\item D0\n",
       "\\item D0\n",
       "\\item D0\n",
       "\\item D0\n",
       "\\item D0\n",
       "\\item D0\n",
       "\\item D0\n",
       "\\item D0\n",
       "\\item D0\n",
       "\\item D0\n",
       "\\item D0\n",
       "\\item D0\n",
       "\\item D0\n",
       "\\item D0\n",
       "\\item D0\n",
       "\\item D0\n",
       "\\item D0\n",
       "\\item D0\n",
       "\\item D0\n",
       "\\item D0\n",
       "\\item D0\n",
       "\\item D0\n",
       "\\item D0\n",
       "\\item D0\n",
       "\\item D0\n",
       "\\item Q1\n",
       "\\item Q1\n",
       "\\item Q1\n",
       "\\item Q1\n",
       "\\item Q1\n",
       "\\item Q1\n",
       "\\item Q1\n",
       "\\item Q1\n",
       "\\item Q1\n",
       "\\item Q1\n",
       "\\item Q1\n",
       "\\item Q1\n",
       "\\item Q1\n",
       "\\item Q1\n",
       "\\item Q1\n",
       "\\item Q1\n",
       "\\item Q1\n",
       "\\item Q1\n",
       "\\item Q1\n",
       "\\item Q1\n",
       "\\item Q1\n",
       "\\item Q1\n",
       "\\item Q1\n",
       "\\item Q1\n",
       "\\item Q1\n",
       "\\item Q1\n",
       "\\item Q1\n",
       "\\item Q1\n",
       "\\item Q1\n",
       "\\item Q1\n",
       "\\item Q1\n",
       "\\item Q1\n",
       "\\item Q1\n",
       "\\item Q1\n",
       "\\item Q1\n",
       "\\item Q1\n",
       "\\item Q1\n",
       "\\item Q1\n",
       "\\item Q1\n",
       "\\item Q1\n",
       "\\item Q1\n",
       "\\item Q1\n",
       "\\item Q1\n",
       "\\item Q1\n",
       "\\item Q1\n",
       "\\item Q1\n",
       "\\item Q1\n",
       "\\item Q1\n",
       "\\item Q1\n",
       "\\item Q1\n",
       "\\item Q1\n",
       "\\item Q1\n",
       "\\item Q1\n",
       "\\item Q1\n",
       "\\item Q1\n",
       "\\item Q1\n",
       "\\item Q1\n",
       "\\item Q1\n",
       "\\item Q1\n",
       "\\item Q1\n",
       "\\item Q1\n",
       "\\item Q1\n",
       "\\item Q1\n",
       "\\item Q1\n",
       "\\item Q1\n",
       "\\item Q1\n",
       "\\item Q1\n",
       "\\item Q1\n",
       "\\item Q1\n",
       "\\item Q1\n",
       "\\item Q1\n",
       "\\item Q1\n",
       "\\item Q1\n",
       "\\item Q1\n",
       "\\item Q1\n",
       "\\item Q1\n",
       "\\item Q1\n",
       "\\item Q1\n",
       "\\item Q1\n",
       "\\item Q1\n",
       "\\item Q1\n",
       "\\item ⋯\n",
       "\\item Q2\n",
       "\\item Q2\n",
       "\\item Q2\n",
       "\\item Q2\n",
       "\\item Q2\n",
       "\\item Q2\n",
       "\\item Q2\n",
       "\\item Q2\n",
       "\\item Q2\n",
       "\\item Q2\n",
       "\\item Q2\n",
       "\\item Q2\n",
       "\\item Q2\n",
       "\\item Q2\n",
       "\\item Q2\n",
       "\\item Q2\n",
       "\\item Q2\n",
       "\\item Q2\n",
       "\\item Q2\n",
       "\\item Q2\n",
       "\\item Q2\n",
       "\\item Q2\n",
       "\\item Q2\n",
       "\\item Q2\n",
       "\\item Q2\n",
       "\\item Q2\n",
       "\\item Q2\n",
       "\\item Q2\n",
       "\\item Q2\n",
       "\\item Q2\n",
       "\\item Q2\n",
       "\\item Q2\n",
       "\\item Q2\n",
       "\\item Q2\n",
       "\\item Q2\n",
       "\\item Q2\n",
       "\\item Q2\n",
       "\\item Q2\n",
       "\\item Q2\n",
       "\\item Q2\n",
       "\\item Q2\n",
       "\\item Q2\n",
       "\\item Q2\n",
       "\\item Q2\n",
       "\\item Q2\n",
       "\\item Q2\n",
       "\\item Q2\n",
       "\\item Q2\n",
       "\\item Q2\n",
       "\\item Q2\n",
       "\\item Q3\n",
       "\\item Q3\n",
       "\\item Q3\n",
       "\\item Q3\n",
       "\\item Q3\n",
       "\\item Q3\n",
       "\\item Q3\n",
       "\\item Q3\n",
       "\\item Q3\n",
       "\\item Q3\n",
       "\\item Q3\n",
       "\\item Q3\n",
       "\\item Q3\n",
       "\\item Q3\n",
       "\\item Q3\n",
       "\\item Q3\n",
       "\\item Q3\n",
       "\\item Q3\n",
       "\\item Q3\n",
       "\\item Q3\n",
       "\\item Q3\n",
       "\\item Q3\n",
       "\\item Q3\n",
       "\\item Q3\n",
       "\\item Q3\n",
       "\\item Q3\n",
       "\\item Q3\n",
       "\\item Q3\n",
       "\\item Q3\n",
       "\\item Q3\n",
       "\\item Q3\n",
       "\\item Q3\n",
       "\\item Q3\n",
       "\\item Q3\n",
       "\\item Q3\n",
       "\\item Q3\n",
       "\\item Q3\n",
       "\\item Q3\n",
       "\\item Q3\n",
       "\\item Q3\n",
       "\\item Q3\n",
       "\\item Q3\n",
       "\\item Q3\n",
       "\\item Q3\n",
       "\\item Q3\n",
       "\\item Q3\n",
       "\\item Q3\n",
       "\\item Q3\n",
       "\\item Q3\n",
       "\\item Q3\n",
       "\\item Q3\n",
       "\\item Q3\n",
       "\\item Q3\n",
       "\\item Q3\n",
       "\\item Q3\n",
       "\\item Q3\n",
       "\\item Q3\n",
       "\\item Q3\n",
       "\\item Q3\n",
       "\\item Q3\n",
       "\\item Q3\n",
       "\\item Q3\n",
       "\\item Q3\n",
       "\\item Q3\n",
       "\\item Q3\n",
       "\\item Q3\n",
       "\\item Q3\n",
       "\\item Q3\n",
       "\\item Q3\n",
       "\\item Q3\n",
       "\\item Q3\n",
       "\\item Q3\n",
       "\\item Q3\n",
       "\\item Q3\n",
       "\\item Q3\n",
       "\\item Q3\n",
       "\\item Q3\n",
       "\\item Q3\n",
       "\\item Q3\n",
       "\\item Q3\n",
       "\\item Q3\n",
       "\\item Q3\n",
       "\\item Q3\n",
       "\\item Q3\n",
       "\\item Q3\n",
       "\\item Q3\n",
       "\\item Q3\n",
       "\\item Q3\n",
       "\\item Q3\n",
       "\\item Q3\n",
       "\\item Q3\n",
       "\\item Q3\n",
       "\\item Q3\n",
       "\\item Q3\n",
       "\\item Q3\n",
       "\\item Q3\n",
       "\\item Q3\n",
       "\\item Q3\n",
       "\\item Q3\n",
       "\\item Q3\n",
       "\\item Q3\n",
       "\\item Q3\n",
       "\\item Q3\n",
       "\\item Q3\n",
       "\\item Q3\n",
       "\\item Q3\n",
       "\\item Q3\n",
       "\\item Q3\n",
       "\\item Q3\n",
       "\\item Q3\n",
       "\\item Q3\n",
       "\\item Q3\n",
       "\\item Q3\n",
       "\\item Q3\n",
       "\\item Q3\n",
       "\\item Q3\n",
       "\\item Q3\n",
       "\\item Q3\n",
       "\\item Q3\n",
       "\\item Q3\n",
       "\\item Q3\n",
       "\\item Q3\n",
       "\\item Q3\n",
       "\\item Q3\n",
       "\\item Q3\n",
       "\\item Q3\n",
       "\\item Q3\n",
       "\\item Q3\n",
       "\\item Q3\n",
       "\\item Q3\n",
       "\\item Q3\n",
       "\\item Q3\n",
       "\\item Q3\n",
       "\\item Q3\n",
       "\\item Q3\n",
       "\\item Q3\n",
       "\\item Q3\n",
       "\\item Q3\n",
       "\\item Q3\n",
       "\\item Q3\n",
       "\\item Q3\n",
       "\\item Q3\n",
       "\\item Q3\n",
       "\\item Q3\n",
       "\\item Q3\n",
       "\\item Q3\n",
       "\\item Q3\n",
       "\\item Q3\n",
       "\\item Q3\n",
       "\\item Q3\n",
       "\\end{enumerate*}\n",
       "\n",
       "\\emph{Levels}: \\begin{enumerate*}\n",
       "\\item 'D0'\n",
       "\\item 'Q1'\n",
       "\\item 'Q2'\n",
       "\\item 'Q3'\n",
       "\\item '\\_\\_UNKNOWN\\_\\_'\n",
       "\\end{enumerate*}\n"
      ],
      "text/markdown": [
       "1. D0\n",
       "2. D0\n",
       "3. D0\n",
       "4. D0\n",
       "5. D0\n",
       "6. D0\n",
       "7. D0\n",
       "8. D0\n",
       "9. D0\n",
       "10. D0\n",
       "11. D0\n",
       "12. D0\n",
       "13. D0\n",
       "14. D0\n",
       "15. D0\n",
       "16. D0\n",
       "17. D0\n",
       "18. D0\n",
       "19. D0\n",
       "20. D0\n",
       "21. D0\n",
       "22. D0\n",
       "23. D0\n",
       "24. D0\n",
       "25. D0\n",
       "26. D0\n",
       "27. D0\n",
       "28. D0\n",
       "29. D0\n",
       "30. D0\n",
       "31. D0\n",
       "32. D0\n",
       "33. D0\n",
       "34. D0\n",
       "35. D0\n",
       "36. D0\n",
       "37. D0\n",
       "38. D0\n",
       "39. D0\n",
       "40. D0\n",
       "41. D0\n",
       "42. D0\n",
       "43. D0\n",
       "44. D0\n",
       "45. D0\n",
       "46. D0\n",
       "47. D0\n",
       "48. D0\n",
       "49. D0\n",
       "50. D0\n",
       "51. D0\n",
       "52. D0\n",
       "53. D0\n",
       "54. D0\n",
       "55. D0\n",
       "56. D0\n",
       "57. D0\n",
       "58. D0\n",
       "59. D0\n",
       "60. D0\n",
       "61. D0\n",
       "62. D0\n",
       "63. D0\n",
       "64. D0\n",
       "65. D0\n",
       "66. D0\n",
       "67. D0\n",
       "68. D0\n",
       "69. D0\n",
       "70. D0\n",
       "71. D0\n",
       "72. D0\n",
       "73. D0\n",
       "74. D0\n",
       "75. D0\n",
       "76. D0\n",
       "77. D0\n",
       "78. D0\n",
       "79. D0\n",
       "80. D0\n",
       "81. D0\n",
       "82. D0\n",
       "83. D0\n",
       "84. D0\n",
       "85. D0\n",
       "86. D0\n",
       "87. D0\n",
       "88. D0\n",
       "89. D0\n",
       "90. D0\n",
       "91. D0\n",
       "92. D0\n",
       "93. D0\n",
       "94. D0\n",
       "95. D0\n",
       "96. D0\n",
       "97. D0\n",
       "98. D0\n",
       "99. D0\n",
       "100. D0\n",
       "101. D0\n",
       "102. D0\n",
       "103. D0\n",
       "104. D0\n",
       "105. D0\n",
       "106. D0\n",
       "107. D0\n",
       "108. D0\n",
       "109. D0\n",
       "110. D0\n",
       "111. D0\n",
       "112. D0\n",
       "113. D0\n",
       "114. D0\n",
       "115. D0\n",
       "116. D0\n",
       "117. D0\n",
       "118. D0\n",
       "119. D0\n",
       "120. Q1\n",
       "121. Q1\n",
       "122. Q1\n",
       "123. Q1\n",
       "124. Q1\n",
       "125. Q1\n",
       "126. Q1\n",
       "127. Q1\n",
       "128. Q1\n",
       "129. Q1\n",
       "130. Q1\n",
       "131. Q1\n",
       "132. Q1\n",
       "133. Q1\n",
       "134. Q1\n",
       "135. Q1\n",
       "136. Q1\n",
       "137. Q1\n",
       "138. Q1\n",
       "139. Q1\n",
       "140. Q1\n",
       "141. Q1\n",
       "142. Q1\n",
       "143. Q1\n",
       "144. Q1\n",
       "145. Q1\n",
       "146. Q1\n",
       "147. Q1\n",
       "148. Q1\n",
       "149. Q1\n",
       "150. Q1\n",
       "151. Q1\n",
       "152. Q1\n",
       "153. Q1\n",
       "154. Q1\n",
       "155. Q1\n",
       "156. Q1\n",
       "157. Q1\n",
       "158. Q1\n",
       "159. Q1\n",
       "160. Q1\n",
       "161. Q1\n",
       "162. Q1\n",
       "163. Q1\n",
       "164. Q1\n",
       "165. Q1\n",
       "166. Q1\n",
       "167. Q1\n",
       "168. Q1\n",
       "169. Q1\n",
       "170. Q1\n",
       "171. Q1\n",
       "172. Q1\n",
       "173. Q1\n",
       "174. Q1\n",
       "175. Q1\n",
       "176. Q1\n",
       "177. Q1\n",
       "178. Q1\n",
       "179. Q1\n",
       "180. Q1\n",
       "181. Q1\n",
       "182. Q1\n",
       "183. Q1\n",
       "184. Q1\n",
       "185. Q1\n",
       "186. Q1\n",
       "187. Q1\n",
       "188. Q1\n",
       "189. Q1\n",
       "190. Q1\n",
       "191. Q1\n",
       "192. Q1\n",
       "193. Q1\n",
       "194. Q1\n",
       "195. Q1\n",
       "196. Q1\n",
       "197. Q1\n",
       "198. Q1\n",
       "199. Q1\n",
       "200. Q1\n",
       "201. ⋯\n",
       "202. Q2\n",
       "203. Q2\n",
       "204. Q2\n",
       "205. Q2\n",
       "206. Q2\n",
       "207. Q2\n",
       "208. Q2\n",
       "209. Q2\n",
       "210. Q2\n",
       "211. Q2\n",
       "212. Q2\n",
       "213. Q2\n",
       "214. Q2\n",
       "215. Q2\n",
       "216. Q2\n",
       "217. Q2\n",
       "218. Q2\n",
       "219. Q2\n",
       "220. Q2\n",
       "221. Q2\n",
       "222. Q2\n",
       "223. Q2\n",
       "224. Q2\n",
       "225. Q2\n",
       "226. Q2\n",
       "227. Q2\n",
       "228. Q2\n",
       "229. Q2\n",
       "230. Q2\n",
       "231. Q2\n",
       "232. Q2\n",
       "233. Q2\n",
       "234. Q2\n",
       "235. Q2\n",
       "236. Q2\n",
       "237. Q2\n",
       "238. Q2\n",
       "239. Q2\n",
       "240. Q2\n",
       "241. Q2\n",
       "242. Q2\n",
       "243. Q2\n",
       "244. Q2\n",
       "245. Q2\n",
       "246. Q2\n",
       "247. Q2\n",
       "248. Q2\n",
       "249. Q2\n",
       "250. Q2\n",
       "251. Q2\n",
       "252. Q3\n",
       "253. Q3\n",
       "254. Q3\n",
       "255. Q3\n",
       "256. Q3\n",
       "257. Q3\n",
       "258. Q3\n",
       "259. Q3\n",
       "260. Q3\n",
       "261. Q3\n",
       "262. Q3\n",
       "263. Q3\n",
       "264. Q3\n",
       "265. Q3\n",
       "266. Q3\n",
       "267. Q3\n",
       "268. Q3\n",
       "269. Q3\n",
       "270. Q3\n",
       "271. Q3\n",
       "272. Q3\n",
       "273. Q3\n",
       "274. Q3\n",
       "275. Q3\n",
       "276. Q3\n",
       "277. Q3\n",
       "278. Q3\n",
       "279. Q3\n",
       "280. Q3\n",
       "281. Q3\n",
       "282. Q3\n",
       "283. Q3\n",
       "284. Q3\n",
       "285. Q3\n",
       "286. Q3\n",
       "287. Q3\n",
       "288. Q3\n",
       "289. Q3\n",
       "290. Q3\n",
       "291. Q3\n",
       "292. Q3\n",
       "293. Q3\n",
       "294. Q3\n",
       "295. Q3\n",
       "296. Q3\n",
       "297. Q3\n",
       "298. Q3\n",
       "299. Q3\n",
       "300. Q3\n",
       "301. Q3\n",
       "302. Q3\n",
       "303. Q3\n",
       "304. Q3\n",
       "305. Q3\n",
       "306. Q3\n",
       "307. Q3\n",
       "308. Q3\n",
       "309. Q3\n",
       "310. Q3\n",
       "311. Q3\n",
       "312. Q3\n",
       "313. Q3\n",
       "314. Q3\n",
       "315. Q3\n",
       "316. Q3\n",
       "317. Q3\n",
       "318. Q3\n",
       "319. Q3\n",
       "320. Q3\n",
       "321. Q3\n",
       "322. Q3\n",
       "323. Q3\n",
       "324. Q3\n",
       "325. Q3\n",
       "326. Q3\n",
       "327. Q3\n",
       "328. Q3\n",
       "329. Q3\n",
       "330. Q3\n",
       "331. Q3\n",
       "332. Q3\n",
       "333. Q3\n",
       "334. Q3\n",
       "335. Q3\n",
       "336. Q3\n",
       "337. Q3\n",
       "338. Q3\n",
       "339. Q3\n",
       "340. Q3\n",
       "341. Q3\n",
       "342. Q3\n",
       "343. Q3\n",
       "344. Q3\n",
       "345. Q3\n",
       "346. Q3\n",
       "347. Q3\n",
       "348. Q3\n",
       "349. Q3\n",
       "350. Q3\n",
       "351. Q3\n",
       "352. Q3\n",
       "353. Q3\n",
       "354. Q3\n",
       "355. Q3\n",
       "356. Q3\n",
       "357. Q3\n",
       "358. Q3\n",
       "359. Q3\n",
       "360. Q3\n",
       "361. Q3\n",
       "362. Q3\n",
       "363. Q3\n",
       "364. Q3\n",
       "365. Q3\n",
       "366. Q3\n",
       "367. Q3\n",
       "368. Q3\n",
       "369. Q3\n",
       "370. Q3\n",
       "371. Q3\n",
       "372. Q3\n",
       "373. Q3\n",
       "374. Q3\n",
       "375. Q3\n",
       "376. Q3\n",
       "377. Q3\n",
       "378. Q3\n",
       "379. Q3\n",
       "380. Q3\n",
       "381. Q3\n",
       "382. Q3\n",
       "383. Q3\n",
       "384. Q3\n",
       "385. Q3\n",
       "386. Q3\n",
       "387. Q3\n",
       "388. Q3\n",
       "389. Q3\n",
       "390. Q3\n",
       "391. Q3\n",
       "392. Q3\n",
       "393. Q3\n",
       "394. Q3\n",
       "395. Q3\n",
       "396. Q3\n",
       "397. Q3\n",
       "398. Q3\n",
       "399. Q3\n",
       "400. Q3\n",
       "401. Q3\n",
       "\n",
       "\n",
       "\n",
       "**Levels**: 1. 'D0'\n",
       "2. 'Q1'\n",
       "3. 'Q2'\n",
       "4. 'Q3'\n",
       "5. '__UNKNOWN__'\n",
       "\n",
       "\n"
      ],
      "text/plain": [
       "  [1] D0 D0 D0 D0 D0 D0 D0 D0 D0 D0 D0 D0 D0 D0 D0 D0 D0 D0 D0 D0 D0 D0 D0 D0 D0\n",
       " [26] D0 D0 D0 D0 D0 D0 D0 D0 D0 D0 D0 D0 D0 D0 D0 D0 D0 D0 D0 D0 D0 D0 D0 D0 D0\n",
       " [51] D0 D0 D0 D0 D0 D0 D0 D0 D0 D0 D0 D0 D0 D0 D0 D0 D0 D0 D0 D0 D0 D0 D0 D0 D0\n",
       " [76] D0 D0 D0 D0 D0 D0 D0 D0 D0 D0 D0 D0 D0 D0 D0 D0 D0 D0 D0 D0 D0 D0 D0 D0 D0\n",
       "[101] D0 D0 D0 D0 D0 D0 D0 D0 D0 D0 D0 D0 D0 D0 D0 D0 D0 D0 D0 Q1 Q1 Q1 Q1 Q1 Q1\n",
       "[126] Q1 Q1 Q1 Q1 Q1 Q1 Q1 Q1 Q1 Q1 Q1 Q1 Q1 Q1 Q1 Q1 Q1 Q1 Q1 Q1 Q1 Q1 Q1 Q1 Q1\n",
       "[151] Q1 Q1 Q1 Q1 Q1 Q1 Q1 Q1 Q1 Q1 Q1 Q1 Q1 Q1 Q1 Q1 Q1 Q1 Q1 Q1 Q1 Q1 Q1 Q1 Q1\n",
       "[176] Q1 Q1 Q1 Q1 Q1 Q1 Q1 Q1 Q1 Q1 Q1 Q1 Q1 Q1 Q1 Q1 Q1 Q1 Q1 Q1 Q1 Q1 Q1 Q1 Q1\n",
       "[201] Q1 Q1 Q1 Q1 Q1 Q1 Q1 Q1 Q1 Q1 Q1 Q1 Q1 Q1 Q1 Q1 Q1 Q1 Q1 Q1 Q1 Q1 Q1 Q1 Q1\n",
       "[226] Q1 Q1 Q1 Q1 Q1 Q1 Q1 Q1 Q1 Q1 Q1 Q1 Q1 Q1 Q1 Q1 Q1 Q1 Q1 Q1 Q1 Q1 Q1 Q1 Q1\n",
       "[251] Q1 Q1 Q1 Q1 Q1 Q1 Q1 Q1 Q1 Q2 Q2 Q2 Q2 Q2 Q2 Q2 Q2 Q2 Q2 Q2 Q2 Q2 Q2 Q2 Q2\n",
       "[276] Q2 Q2 Q2 Q2 Q2 Q2 Q2 Q2 Q2 Q2 Q2 Q2 Q2 Q2 Q2 Q2 Q2 Q2 Q2 Q2 Q2 Q2 Q2 Q2 Q2\n",
       "[301] Q2 Q2 Q2 Q2 Q2 Q2 Q2 Q2 Q2 Q2 Q2 Q2 Q2 Q2 Q2 Q2 Q2 Q2 Q2 Q2 Q2 Q2 Q2 Q2 Q2\n",
       "[326] Q2 Q2 Q2 Q2 Q2 Q2 Q2 Q2 Q2 Q2 Q2 Q2 Q2 Q2 Q2 Q2 Q2 Q2 Q2 Q2 Q2 Q2 Q2 Q2 Q2\n",
       "[351] Q2 Q2 Q2 Q2 Q2 Q2 Q2 Q2 Q2 Q2 Q3 Q3 Q3 Q3 Q3 Q3 Q3 Q3 Q3 Q3 Q3 Q3 Q3 Q3 Q3\n",
       "[376] Q3 Q3 Q3 Q3 Q3 Q3 Q3 Q3 Q3 Q3 Q3 Q3 Q3 Q3 Q3 Q3 Q3 Q3 Q3 Q3 Q3 Q3 Q3 Q3 Q3\n",
       "[401] Q3 Q3 Q3 Q3 Q3 Q3 Q3 Q3 Q3 Q3 Q3 Q3 Q3 Q3 Q3 Q3 Q3 Q3 Q3 Q3 Q3 Q3 Q3 Q3 Q3\n",
       "[426] Q3 Q3 Q3 Q3 Q3 Q3 Q3 Q3 Q3 Q3 Q3 Q3 Q3 Q3 Q3 Q3 Q3 Q3 Q3 Q3 Q3 Q3 Q3 Q3 Q3\n",
       "[451] Q3 Q3 Q3 Q3 Q3 Q3 Q3 Q3 Q3 Q3 Q3 Q3 Q3 Q3 Q3 Q3 Q3 Q3 Q3 Q3 Q3 Q3 Q3 Q3 Q3\n",
       "[476] Q3 Q3 Q3 Q3 Q3 Q3 Q3 Q3 Q3 Q3 Q3 Q3 Q3 Q3 Q3 Q3 Q3 Q3 Q3 Q3 Q3 Q3 Q3 Q3 Q3\n",
       "[501] Q3 Q3 Q3 Q3 Q3 Q3 Q3 Q3 Q3 Q3\n",
       "Levels: D0 Q1 Q2 Q3 __UNKNOWN__"
      ]
     },
     "metadata": {},
     "output_type": "display_data"
    }
   ],
   "source": [
    "maf_files_matched_cohort@data$Tumor_Sample_Barcode"
   ]
  },
  {
   "cell_type": "code",
   "execution_count": 50,
   "metadata": {
    "vscode": {
     "languageId": "r"
    }
   },
   "outputs": [
    {
     "data": {
      "image/png": "[encoded data removed]",
      "text/plain": [
       "Plot with title “Top 10\n",
       "mutated genes”"
      ]
     },
     "metadata": {
      "image/png": {
       "height": 420,
       "width": 420
      }
     },
     "output_type": "display_data"
    }
   ],
   "source": [
    "y <- plotmafSummary(maf_files_matched_cohort, showBarcodes = TRUE)"
   ]
  },
  {
   "cell_type": "code",
   "execution_count": 53,
   "metadata": {
    "vscode": {
     "languageId": "r"
    }
   },
   "outputs": [],
   "source": [
    "mutations <- c(\"NRAS\", \"NSD2\", \"PTPN11\", \"KRAS\", \"FLT3\", \"CD19\" ,\"TP53\",\"CDKN2A\")"
   ]
  },
  {
   "cell_type": "code",
   "execution_count": 56,
   "metadata": {
    "vscode": {
     "languageId": "r"
    }
   },
   "outputs": [
    {
     "data": {
      "text/html": [
       "'/lustre1/project/stg_00096/home/projects/2023_Cools_B-ALL/FINAL_DNA_ANALYSIS/new_Variant_calling/CLAIRS_TO'"
      ],
      "text/latex": [
       "'/lustre1/project/stg\\_00096/home/projects/2023\\_Cools\\_B-ALL/FINAL\\_DNA\\_ANALYSIS/new\\_Variant\\_calling/CLAIRS\\_TO'"
      ],
      "text/markdown": [
       "'/lustre1/project/stg_00096/home/projects/2023_Cools_B-ALL/FINAL_DNA_ANALYSIS/new_Variant_calling/CLAIRS_TO'"
      ],
      "text/plain": [
       "[1] \"/lustre1/project/stg_00096/home/projects/2023_Cools_B-ALL/FINAL_DNA_ANALYSIS/new_Variant_calling/CLAIRS_TO\""
      ]
     },
     "metadata": {},
     "output_type": "display_data"
    }
   ],
   "source": [
    "getwd()"
   ]
  },
  {
   "cell_type": "code",
   "execution_count": 55,
   "metadata": {
    "vscode": {
     "languageId": "r"
    }
   },
   "outputs": [
    {
     "data": {
      "image/png": "[encoded data removed]",
      "text/plain": [
       "Plot with title “Altered in 4 (80%) of 5 samples.”"
      ]
     },
     "metadata": {
      "image/png": {
       "height": 420,
       "width": 420
      }
     },
     "output_type": "display_data"
    }
   ],
   "source": [
    "x <- oncoplot(maf =maf_files_matched_cohort, top = 20, fontSize = 0.6, showTumorSampleBarcodes = T, writeMatrix = F, genes = mutations, sampleOrder = c(\"D0\", \"Q1\",\"Q2\",\"Q3\"))"
   ]
  },
  {
   "cell_type": "code",
   "execution_count": 57,
   "metadata": {
    "vscode": {
     "languageId": "r"
    }
   },
   "outputs": [
    {
     "data": {
      "text/html": [
       "<strong>pdf:</strong> 2"
      ],
      "text/latex": [
       "\\textbf{pdf:} 2"
      ],
      "text/markdown": [
       "**pdf:** 2"
      ],
      "text/plain": [
       "pdf \n",
       "  2 "
      ]
     },
     "metadata": {},
     "output_type": "display_data"
    }
   ],
   "source": [
    "pdf(\"oncoplot_top20.pdf\", width = 10, height = 8)  # adjust size as needed\n",
    "\n",
    "oncoplot(\n",
    "  maf = maf_files_matched_cohort,\n",
    "  top = 20,\n",
    "  fontSize = 0.6,\n",
    "  showTumorSampleBarcodes = TRUE,\n",
    "  writeMatrix = FALSE,\n",
    "  genes = mutations,\n",
    "  sampleOrder = c(\"D0\", \"Q1\", \"Q2\", \"Q3\")\n",
    ")\n",
    "\n",
    "dev.off()"
   ]
  },
  {
   "cell_type": "code",
   "execution_count": 24,
   "metadata": {
    "vscode": {
     "languageId": "r"
    }
   },
   "outputs": [
    {
     "name": "stderr",
     "output_type": "stream",
     "text": [
      "2 transcripts available. Use arguments refSeqID or proteinID to manually specify tx name.\n",
      "\n"
     ]
    },
    {
     "name": "stdout",
     "output_type": "stream",
     "text": [
      "     HGNC refseq.ID protein.ID aa.length\n",
      "   <char>    <char>     <char>     <num>\n",
      "1: PTPN11 NM_002834  NP_002825       593\n",
      "2: PTPN11 NM_080601  NP_542168       460\n"
     ]
    },
    {
     "name": "stderr",
     "output_type": "stream",
     "text": [
      "Using longer transcript NM_002834 for now.\n",
      "\n",
      "Assuming protein change information are stored under column Protein_Change. Use argument AACol to override if necessary.\n",
      "\n",
      "Removed 9 mutations for which AA position was not available\n",
      "\n"
     ]
    },
    {
     "data": {
      "image/png": "[encoded data removed]",
      "text/plain": [
       "Plot with title “NM_002834”"
      ]
     },
     "metadata": {
      "image/png": {
       "height": 420,
       "width": 420
      }
     },
     "output_type": "display_data"
    }
   ],
   "source": [
    "lollipopPlot(\n",
    "  maf = maf_files_matched_cohort,\n",
    "  gene = 'PTPN11',\n",
    "  showMutationRate = TRUE,\n",
    "  labelPos = c(72)\n",
    ")"
   ]
  },
  {
   "cell_type": "code",
   "execution_count": 58,
   "metadata": {
    "vscode": {
     "languageId": "r"
    }
   },
   "outputs": [
    {
     "name": "stdout",
     "output_type": "stream",
     "text": [
      "-Reading\n",
      "-Validating\n",
      "-Silent variants: 1068 \n",
      "-Summarizing\n",
      "-Processing clinical data\n",
      "--Missing clinical data\n",
      "-Finished in 0.519s elapsed (1.449s cpu) \n",
      "-Reading\n",
      "-Validating\n",
      "-Silent variants: 1192 \n",
      "-Summarizing\n",
      "-Processing clinical data\n",
      "--Missing clinical data\n",
      "-Finished in 0.778s elapsed (1.813s cpu) \n",
      "-Reading\n",
      "-Validating\n",
      "-Silent variants: 926 \n",
      "-Summarizing\n",
      "-Processing clinical data\n",
      "--Missing clinical data\n",
      "-Finished in 0.522s elapsed (1.544s cpu) \n",
      "-Reading\n",
      "-Validating\n",
      "-Silent variants: 1261 \n",
      "-Summarizing\n",
      "-Processing clinical data\n",
      "--Missing clinical data\n",
      "-Finished in 0.597s elapsed (1.755s cpu) \n",
      "Merging 4 MAF objects\n",
      "-Validating\n",
      "--Removed 2717 duplicated variants\n",
      "-Silent variants: 1730 \n",
      "-Summarizing\n",
      "-Processing clinical data\n",
      "--Annotation missing for below samples in MAF:\n",
      "  D0\n",
      "  Q1\n",
      "  Q2\n",
      "  Q3\n",
      "-Finished in 1.339s elapsed (2.539s cpu) \n"
     ]
    }
   ],
   "source": [
    "process_maf_files <- function(maf_files, sample_name) {\n",
    "\n",
    "  # Read MAF files and update Tumor_Sample_Barcode and matched_mode\n",
    "  r_maffiles <- lapply(seq_along(maf_files), function(i) {\n",
    "    maf <- read.maf(maf_files[i],vc_nonSyn = c(\"RNA\", \"IGR\", \"5'flank\", \"Intron\", \"3'UTR\", \"Missense_Mutation\", \"Splice_Site\", \"Nonsense_Mutation\", \"In_Frame_Del\", \"Frame_Shift_Del\", \"Frame_Shift_Ins\", \"In_Frame_Ins\", \"Nonstop_Mutation\"))\n",
    "    maf@data$Tumor_Sample_Barcode <- sample_name[i]\n",
    "    return(maf)\n",
    "  })\n",
    "    # Merge the MAF files into a single cohort\n",
    "  maf_files_matched_cohort <- merge_mafs(r_maffiles, verbose = TRUE,vc_nonSyn = c(\"RNA\", \"IGR\", \"5'flank\", \"Intron\", \"3'UTR\", \"Missense_Mutation\", \"Splice_Site\", \"Nonsense_Mutation\", \"In_Frame_Del\", \"Frame_Shift_Del\", \"Frame_Shift_Ins\", \"In_Frame_Ins\", \"Nonstop_Mutation\"))\n",
    "  \n",
    "  return(maf_files_matched_cohort)\n",
    "}\n",
    "maf_files_matched_cohort <- process_maf_files(snv_files,sample_name = timepoint)"
   ]
  },
  {
   "cell_type": "code",
   "execution_count": 59,
   "metadata": {
    "vscode": {
     "languageId": "r"
    }
   },
   "outputs": [
    {
     "data": {
      "image/png": "[encoded data removed]",
      "text/plain": [
       "Plot with title “Altered in 4 (80%) of 5 samples.”"
      ]
     },
     "metadata": {
      "image/png": {
       "height": 420,
       "width": 420
      }
     },
     "output_type": "display_data"
    }
   ],
   "source": [
    "x <- oncoplot(maf =maf_files_matched_cohort, top = 20, fontSize = 0.6, showTumorSampleBarcodes = T, writeMatrix = F, genes = mutations, sampleOrder = c(\"D0\", \"Q1\",\"Q2\",\"Q3\"))"
   ]
  },
  {
   "cell_type": "code",
   "execution_count": 60,
   "metadata": {
    "vscode": {
     "languageId": "r"
    }
   },
   "outputs": [
    {
     "data": {
      "text/html": [
       "<strong>pdf:</strong> 2"
      ],
      "text/latex": [
       "\\textbf{pdf:} 2"
      ],
      "text/markdown": [
       "**pdf:** 2"
      ],
      "text/plain": [
       "pdf \n",
       "  2 "
      ]
     },
     "metadata": {},
     "output_type": "display_data"
    }
   ],
   "source": [
    "pdf(\"oncoplot_TMB.pdf\", width = 10, height = 8)  # adjust size as needed\n",
    "\n",
    "oncoplot(\n",
    "  maf = maf_files_matched_cohort,\n",
    "  top = 20,\n",
    "  fontSize = 0.6,\n",
    "  showTumorSampleBarcodes = TRUE,\n",
    "  writeMatrix = FALSE,\n",
    "  genes = mutations,\n",
    "  sampleOrder = c(\"D0\", \"Q1\", \"Q2\", \"Q3\")\n",
    ")\n",
    "\n",
    "dev.off()\n"
   ]
  },
  {
   "cell_type": "code",
   "execution_count": 19,
   "metadata": {
    "vscode": {
     "languageId": "r"
    }
   },
   "outputs": [
    {
     "data": {
      "image/png": "[encoded data removed]",
      "text/plain": [
       "Plot with title “Top 10\n",
       "mutated genes”"
      ]
     },
     "metadata": {
      "image/png": {
       "height": 420,
       "width": 420
      }
     },
     "output_type": "display_data"
    }
   ],
   "source": [
    "y <- plotmafSummary(maf_files_matched_cohort, showBarcodes = TRUE) + theme_cowplot()"
   ]
  },
  {
   "cell_type": "code",
   "execution_count": 20,
   "metadata": {
    "vscode": {
     "languageId": "r"
    }
   },
   "outputs": [
    {
     "data": {
      "image/png": "[encoded data removed]",
      "text/plain": [
       "Plot with title “Altered in 4 (80%) of 5 samples.”"
      ]
     },
     "metadata": {
      "image/png": {
       "height": 420,
       "width": 420
      }
     },
     "output_type": "display_data"
    }
   ],
   "source": [
    "x <- oncoplot(maf =maf_files_matched_cohort, top = 20, fontSize = 0.4, showTumorSampleBarcodes = T, writeMatrix = F, genes = mutations)"
   ]
  }
 ],
 "metadata": {
  "kernelspec": {
   "display_name": "base_R",
   "language": "R",
   "name": "base_r"
  },
  "language_info": {
   "codemirror_mode": "r",
   "file_extension": ".r",
   "mimetype": "text/x-r-source",
   "name": "R",
   "pygments_lexer": "r",
   "version": "4.3.3"
  }
 },
 "nbformat": 4,
 "nbformat_minor": 2
}
