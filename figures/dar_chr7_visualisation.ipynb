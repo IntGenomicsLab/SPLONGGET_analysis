{
 "cells": [
  {
   "cell_type": "markdown",
   "id": "5d7f8246",
   "metadata": {},
   "source": [
    "# KaryotypeR\n",
    "\n",
    "Notebook to plot the DARs between D0 and Q1 tumour cells"
   ]
  },
  {
   "cell_type": "code",
   "execution_count": 1,
   "id": "dbf70099-df21-449d-8985-3437a9154dee",
   "metadata": {
    "vscode": {
     "languageId": "r"
    }
   },
   "outputs": [
    {
     "name": "stderr",
     "output_type": "stream",
     "text": [
      "Loading required package: regioneR\n",
      "\n",
      "Loading required package: GenomicRanges\n",
      "\n",
      "Loading required package: stats4\n",
      "\n",
      "Loading required package: BiocGenerics\n",
      "\n",
      "\n",
      "Attaching package: ‘BiocGenerics’\n",
      "\n",
      "\n",
      "The following objects are masked from ‘package:stats’:\n",
      "\n",
      "    IQR, mad, sd, var, xtabs\n",
      "\n",
      "\n",
      "The following objects are masked from ‘package:base’:\n",
      "\n",
      "    Filter, Find, Map, Position, Reduce, anyDuplicated, aperm, append,\n",
      "    as.data.frame, basename, cbind, colnames, dirname, do.call,\n",
      "    duplicated, eval, evalq, get, grep, grepl, intersect, is.unsorted,\n",
      "    lapply, mapply, match, mget, order, paste, pmax, pmax.int, pmin,\n",
      "    pmin.int, rank, rbind, rownames, sapply, saveRDS, setdiff, table,\n",
      "    tapply, union, unique, unsplit, which.max, which.min\n",
      "\n",
      "\n",
      "Loading required package: S4Vectors\n",
      "\n",
      "\n",
      "Attaching package: ‘S4Vectors’\n",
      "\n",
      "\n",
      "The following object is masked from ‘package:utils’:\n",
      "\n",
      "    findMatches\n",
      "\n",
      "\n",
      "The following objects are masked from ‘package:base’:\n",
      "\n",
      "    I, expand.grid, unname\n",
      "\n",
      "\n",
      "Loading required package: IRanges\n",
      "\n",
      "Loading required package: GenomeInfoDb\n",
      "\n"
     ]
    }
   ],
   "source": [
    "library(\"karyoploteR\")"
   ]
  },
  {
   "cell_type": "code",
   "execution_count": null,
   "id": "4d63268e-47c2-4d35-b633-30e0c6276bb0",
   "metadata": {
    "vscode": {
     "languageId": "r"
    }
   },
   "outputs": [],
   "source": [
    "sign.genes <- read.csv(\"/processing/atac/D0_Q1_subset/chr7_d0_dars.csv\")"
   ]
  },
  {
   "cell_type": "code",
   "execution_count": 3,
   "id": "c4b16ffa-160e-4ead-965a-ab8eb4ab4da4",
   "metadata": {
    "vscode": {
     "languageId": "r"
    }
   },
   "outputs": [
    {
     "data": {
      "text/html": [
       "<table class=\"dataframe\">\n",
       "<caption>A data.frame: 705 × 6</caption>\n",
       "<thead>\n",
       "\t<tr><th scope=col>X</th><th scope=col>Log2FC</th><th scope=col>Adjusted_pval</th><th scope=col>Contrast</th><th scope=col>chr</th><th scope=col>loc</th></tr>\n",
       "\t<tr><th scope=col>&lt;chr&gt;</th><th scope=col>&lt;dbl&gt;</th><th scope=col>&lt;dbl&gt;</th><th scope=col>&lt;chr&gt;</th><th scope=col>&lt;chr&gt;</th><th scope=col>&lt;int&gt;</th></tr>\n",
       "</thead>\n",
       "<tbody>\n",
       "\t<tr><td>chr7:89228-89728  </td><td>1.2008494</td><td>0</td><td>Pro-B_cells_D0</td><td>chr7</td><td> 89728</td></tr>\n",
       "\t<tr><td>chr7:119226-119726</td><td>1.0449007</td><td>0</td><td>Pro-B_cells_D0</td><td>chr7</td><td>119726</td></tr>\n",
       "\t<tr><td>chr7:150042-150542</td><td>0.6055433</td><td>0</td><td>Pro-B_cells_D0</td><td>chr7</td><td>150542</td></tr>\n",
       "\t<tr><td>chr7:191230-191730</td><td>1.5829283</td><td>0</td><td>Pro-B_cells_D0</td><td>chr7</td><td>191730</td></tr>\n",
       "\t<tr><td>chr7:192066-192566</td><td>0.7547269</td><td>0</td><td>Pro-B_cells_D0</td><td>chr7</td><td>192566</td></tr>\n",
       "\t<tr><td>chr7:193769-194269</td><td>1.7400629</td><td>0</td><td>Pro-B_cells_D0</td><td>chr7</td><td>194269</td></tr>\n",
       "\t<tr><td>chr7:263517-264017</td><td>1.4453514</td><td>0</td><td>Pro-B_cells_D0</td><td>chr7</td><td>264017</td></tr>\n",
       "\t<tr><td>chr7:351026-351526</td><td>0.7152762</td><td>0</td><td>Pro-B_cells_D0</td><td>chr7</td><td>351526</td></tr>\n",
       "\t<tr><td>chr7:351578-352078</td><td>0.7537560</td><td>0</td><td>Pro-B_cells_D0</td><td>chr7</td><td>352078</td></tr>\n",
       "\t<tr><td>chr7:362147-362647</td><td>0.8660022</td><td>0</td><td>Pro-B_cells_D0</td><td>chr7</td><td>362647</td></tr>\n",
       "\t<tr><td>chr7:368820-369320</td><td>1.2524299</td><td>0</td><td>Pro-B_cells_D0</td><td>chr7</td><td>369320</td></tr>\n",
       "\t<tr><td>chr7:379965-380465</td><td>0.9384534</td><td>0</td><td>Pro-B_cells_D0</td><td>chr7</td><td>380465</td></tr>\n",
       "\t<tr><td>chr7:490731-491231</td><td>0.6915561</td><td>0</td><td>Pro-B_cells_D0</td><td>chr7</td><td>491231</td></tr>\n",
       "\t<tr><td>chr7:518536-519036</td><td>0.8183298</td><td>0</td><td>Pro-B_cells_D0</td><td>chr7</td><td>519036</td></tr>\n",
       "\t<tr><td>chr7:520996-521496</td><td>1.8173305</td><td>0</td><td>Pro-B_cells_D0</td><td>chr7</td><td>521496</td></tr>\n",
       "\t<tr><td>chr7:521802-522302</td><td>0.9248850</td><td>0</td><td>Pro-B_cells_D0</td><td>chr7</td><td>522302</td></tr>\n",
       "\t<tr><td>chr7:522679-523179</td><td>0.6254764</td><td>0</td><td>Pro-B_cells_D0</td><td>chr7</td><td>523179</td></tr>\n",
       "\t<tr><td>chr7:530194-530694</td><td>0.6697182</td><td>0</td><td>Pro-B_cells_D0</td><td>chr7</td><td>530694</td></tr>\n",
       "\t<tr><td>chr7:539199-539699</td><td>1.3772685</td><td>0</td><td>Pro-B_cells_D0</td><td>chr7</td><td>539699</td></tr>\n",
       "\t<tr><td>chr7:541078-541578</td><td>1.2653823</td><td>0</td><td>Pro-B_cells_D0</td><td>chr7</td><td>541578</td></tr>\n",
       "\t<tr><td>chr7:583957-584457</td><td>0.5984901</td><td>0</td><td>Pro-B_cells_D0</td><td>chr7</td><td>584457</td></tr>\n",
       "\t<tr><td>chr7:607952-608452</td><td>0.6501227</td><td>0</td><td>Pro-B_cells_D0</td><td>chr7</td><td>608452</td></tr>\n",
       "\t<tr><td>chr7:610717-611217</td><td>1.5233780</td><td>0</td><td>Pro-B_cells_D0</td><td>chr7</td><td>611217</td></tr>\n",
       "\t<tr><td>chr7:727190-727690</td><td>1.0856874</td><td>0</td><td>Pro-B_cells_D0</td><td>chr7</td><td>727690</td></tr>\n",
       "\t<tr><td>chr7:786355-786855</td><td>1.1867077</td><td>0</td><td>Pro-B_cells_D0</td><td>chr7</td><td>786855</td></tr>\n",
       "\t<tr><td>chr7:816233-816733</td><td>0.6088258</td><td>0</td><td>Pro-B_cells_D0</td><td>chr7</td><td>816733</td></tr>\n",
       "\t<tr><td>chr7:873082-873582</td><td>1.1339690</td><td>0</td><td>Pro-B_cells_D0</td><td>chr7</td><td>873582</td></tr>\n",
       "\t<tr><td>chr7:907439-907939</td><td>1.1644306</td><td>0</td><td>Pro-B_cells_D0</td><td>chr7</td><td>907939</td></tr>\n",
       "\t<tr><td>chr7:908628-909128</td><td>0.8542468</td><td>0</td><td>Pro-B_cells_D0</td><td>chr7</td><td>909128</td></tr>\n",
       "\t<tr><td>chr7:909915-910415</td><td>1.1978077</td><td>0</td><td>Pro-B_cells_D0</td><td>chr7</td><td>910415</td></tr>\n",
       "\t<tr><td>⋮</td><td>⋮</td><td>⋮</td><td>⋮</td><td>⋮</td><td>⋮</td></tr>\n",
       "\t<tr><td>chr7:105447982-105448482</td><td>0.9056058</td><td>0</td><td>Pro-B_cells_D0</td><td>chr7</td><td>105448482</td></tr>\n",
       "\t<tr><td>chr7:106089726-106090226</td><td>0.8926609</td><td>0</td><td>Pro-B_cells_D0</td><td>chr7</td><td>106090226</td></tr>\n",
       "\t<tr><td>chr7:106598389-106598889</td><td>1.2083012</td><td>0</td><td>Pro-B_cells_D0</td><td>chr7</td><td>106598889</td></tr>\n",
       "\t<tr><td>chr7:106926387-106926887</td><td>2.0332876</td><td>0</td><td>Pro-B_cells_D0</td><td>chr7</td><td>106926887</td></tr>\n",
       "\t<tr><td>chr7:107638511-107639011</td><td>1.3258724</td><td>0</td><td>Pro-B_cells_D0</td><td>chr7</td><td>107639011</td></tr>\n",
       "\t<tr><td>chr7:108503411-108503911</td><td>0.9527428</td><td>0</td><td>Pro-B_cells_D0</td><td>chr7</td><td>108503911</td></tr>\n",
       "\t<tr><td>chr7:112882432-112882932</td><td>1.5851677</td><td>0</td><td>Pro-B_cells_D0</td><td>chr7</td><td>112882932</td></tr>\n",
       "\t<tr><td>chr7:114051758-114052258</td><td>1.6687569</td><td>0</td><td>Pro-B_cells_D0</td><td>chr7</td><td>114052258</td></tr>\n",
       "\t<tr><td>chr7:117134814-117135314</td><td>1.8974914</td><td>0</td><td>Pro-B_cells_D0</td><td>chr7</td><td>117135314</td></tr>\n",
       "\t<tr><td>chr7:127782567-127783067</td><td>1.2022021</td><td>0</td><td>Pro-B_cells_D0</td><td>chr7</td><td>127783067</td></tr>\n",
       "\t<tr><td>chr7:127793406-127793906</td><td>1.3756362</td><td>0</td><td>Pro-B_cells_D0</td><td>chr7</td><td>127793906</td></tr>\n",
       "\t<tr><td>chr7:128236893-128237393</td><td>1.4517883</td><td>0</td><td>Pro-B_cells_D0</td><td>chr7</td><td>128237393</td></tr>\n",
       "\t<tr><td>chr7:128672754-128673254</td><td>1.0689356</td><td>0</td><td>Pro-B_cells_D0</td><td>chr7</td><td>128673254</td></tr>\n",
       "\t<tr><td>chr7:128934610-128935110</td><td>1.0649377</td><td>0</td><td>Pro-B_cells_D0</td><td>chr7</td><td>128935110</td></tr>\n",
       "\t<tr><td>chr7:129606796-129607296</td><td>1.0007601</td><td>0</td><td>Pro-B_cells_D0</td><td>chr7</td><td>129607296</td></tr>\n",
       "\t<tr><td>chr7:130025931-130026431</td><td>1.6915637</td><td>0</td><td>Pro-B_cells_D0</td><td>chr7</td><td>130026431</td></tr>\n",
       "\t<tr><td>chr7:134292864-134293364</td><td>0.7529704</td><td>0</td><td>Pro-B_cells_D0</td><td>chr7</td><td>134293364</td></tr>\n",
       "\t<tr><td>chr7:135970837-135971337</td><td>1.3933858</td><td>0</td><td>Pro-B_cells_D0</td><td>chr7</td><td>135971337</td></tr>\n",
       "\t<tr><td>chr7:135980421-135980921</td><td>0.6714906</td><td>0</td><td>Pro-B_cells_D0</td><td>chr7</td><td>135980921</td></tr>\n",
       "\t<tr><td>chr7:140232786-140233286</td><td>1.0382601</td><td>0</td><td>Pro-B_cells_D0</td><td>chr7</td><td>140233286</td></tr>\n",
       "\t<tr><td>chr7:140261566-140262066</td><td>1.5402607</td><td>0</td><td>Pro-B_cells_D0</td><td>chr7</td><td>140262066</td></tr>\n",
       "\t<tr><td>chr7:141884608-141885108</td><td>1.5533202</td><td>0</td><td>Pro-B_cells_D0</td><td>chr7</td><td>141885108</td></tr>\n",
       "\t<tr><td>chr7:142487890-142488390</td><td>0.6147603</td><td>0</td><td>Pro-B_cells_D0</td><td>chr7</td><td>142488390</td></tr>\n",
       "\t<tr><td>chr7:142927130-142927630</td><td>0.7525270</td><td>0</td><td>Pro-B_cells_D0</td><td>chr7</td><td>142927630</td></tr>\n",
       "\t<tr><td>chr7:143085219-143085719</td><td>0.8853639</td><td>0</td><td>Pro-B_cells_D0</td><td>chr7</td><td>143085719</td></tr>\n",
       "\t<tr><td>chr7:150340493-150340993</td><td>1.1536263</td><td>0</td><td>Pro-B_cells_D0</td><td>chr7</td><td>150340993</td></tr>\n",
       "\t<tr><td>chr7:150365981-150366481</td><td>1.3495863</td><td>0</td><td>Pro-B_cells_D0</td><td>chr7</td><td>150366481</td></tr>\n",
       "\t<tr><td>chr7:150435560-150436060</td><td>0.9015100</td><td>0</td><td>Pro-B_cells_D0</td><td>chr7</td><td>150436060</td></tr>\n",
       "\t<tr><td>chr7:151115889-151116389</td><td>1.2804818</td><td>0</td><td>Pro-B_cells_D0</td><td>chr7</td><td>151116389</td></tr>\n",
       "\t<tr><td>chr7:152459703-152460203</td><td>1.8004020</td><td>0</td><td>Pro-B_cells_D0</td><td>chr7</td><td>152460203</td></tr>\n",
       "</tbody>\n",
       "</table>\n"
      ],
      "text/latex": [
       "A data.frame: 705 × 6\n",
       "\\begin{tabular}{llllll}\n",
       " X & Log2FC & Adjusted\\_pval & Contrast & chr & loc\\\\\n",
       " <chr> & <dbl> & <dbl> & <chr> & <chr> & <int>\\\\\n",
       "\\hline\n",
       "\t chr7:89228-89728   & 1.2008494 & 0 & Pro-B\\_cells\\_D0 & chr7 &  89728\\\\\n",
       "\t chr7:119226-119726 & 1.0449007 & 0 & Pro-B\\_cells\\_D0 & chr7 & 119726\\\\\n",
       "\t chr7:150042-150542 & 0.6055433 & 0 & Pro-B\\_cells\\_D0 & chr7 & 150542\\\\\n",
       "\t chr7:191230-191730 & 1.5829283 & 0 & Pro-B\\_cells\\_D0 & chr7 & 191730\\\\\n",
       "\t chr7:192066-192566 & 0.7547269 & 0 & Pro-B\\_cells\\_D0 & chr7 & 192566\\\\\n",
       "\t chr7:193769-194269 & 1.7400629 & 0 & Pro-B\\_cells\\_D0 & chr7 & 194269\\\\\n",
       "\t chr7:263517-264017 & 1.4453514 & 0 & Pro-B\\_cells\\_D0 & chr7 & 264017\\\\\n",
       "\t chr7:351026-351526 & 0.7152762 & 0 & Pro-B\\_cells\\_D0 & chr7 & 351526\\\\\n",
       "\t chr7:351578-352078 & 0.7537560 & 0 & Pro-B\\_cells\\_D0 & chr7 & 352078\\\\\n",
       "\t chr7:362147-362647 & 0.8660022 & 0 & Pro-B\\_cells\\_D0 & chr7 & 362647\\\\\n",
       "\t chr7:368820-369320 & 1.2524299 & 0 & Pro-B\\_cells\\_D0 & chr7 & 369320\\\\\n",
       "\t chr7:379965-380465 & 0.9384534 & 0 & Pro-B\\_cells\\_D0 & chr7 & 380465\\\\\n",
       "\t chr7:490731-491231 & 0.6915561 & 0 & Pro-B\\_cells\\_D0 & chr7 & 491231\\\\\n",
       "\t chr7:518536-519036 & 0.8183298 & 0 & Pro-B\\_cells\\_D0 & chr7 & 519036\\\\\n",
       "\t chr7:520996-521496 & 1.8173305 & 0 & Pro-B\\_cells\\_D0 & chr7 & 521496\\\\\n",
       "\t chr7:521802-522302 & 0.9248850 & 0 & Pro-B\\_cells\\_D0 & chr7 & 522302\\\\\n",
       "\t chr7:522679-523179 & 0.6254764 & 0 & Pro-B\\_cells\\_D0 & chr7 & 523179\\\\\n",
       "\t chr7:530194-530694 & 0.6697182 & 0 & Pro-B\\_cells\\_D0 & chr7 & 530694\\\\\n",
       "\t chr7:539199-539699 & 1.3772685 & 0 & Pro-B\\_cells\\_D0 & chr7 & 539699\\\\\n",
       "\t chr7:541078-541578 & 1.2653823 & 0 & Pro-B\\_cells\\_D0 & chr7 & 541578\\\\\n",
       "\t chr7:583957-584457 & 0.5984901 & 0 & Pro-B\\_cells\\_D0 & chr7 & 584457\\\\\n",
       "\t chr7:607952-608452 & 0.6501227 & 0 & Pro-B\\_cells\\_D0 & chr7 & 608452\\\\\n",
       "\t chr7:610717-611217 & 1.5233780 & 0 & Pro-B\\_cells\\_D0 & chr7 & 611217\\\\\n",
       "\t chr7:727190-727690 & 1.0856874 & 0 & Pro-B\\_cells\\_D0 & chr7 & 727690\\\\\n",
       "\t chr7:786355-786855 & 1.1867077 & 0 & Pro-B\\_cells\\_D0 & chr7 & 786855\\\\\n",
       "\t chr7:816233-816733 & 0.6088258 & 0 & Pro-B\\_cells\\_D0 & chr7 & 816733\\\\\n",
       "\t chr7:873082-873582 & 1.1339690 & 0 & Pro-B\\_cells\\_D0 & chr7 & 873582\\\\\n",
       "\t chr7:907439-907939 & 1.1644306 & 0 & Pro-B\\_cells\\_D0 & chr7 & 907939\\\\\n",
       "\t chr7:908628-909128 & 0.8542468 & 0 & Pro-B\\_cells\\_D0 & chr7 & 909128\\\\\n",
       "\t chr7:909915-910415 & 1.1978077 & 0 & Pro-B\\_cells\\_D0 & chr7 & 910415\\\\\n",
       "\t ⋮ & ⋮ & ⋮ & ⋮ & ⋮ & ⋮\\\\\n",
       "\t chr7:105447982-105448482 & 0.9056058 & 0 & Pro-B\\_cells\\_D0 & chr7 & 105448482\\\\\n",
       "\t chr7:106089726-106090226 & 0.8926609 & 0 & Pro-B\\_cells\\_D0 & chr7 & 106090226\\\\\n",
       "\t chr7:106598389-106598889 & 1.2083012 & 0 & Pro-B\\_cells\\_D0 & chr7 & 106598889\\\\\n",
       "\t chr7:106926387-106926887 & 2.0332876 & 0 & Pro-B\\_cells\\_D0 & chr7 & 106926887\\\\\n",
       "\t chr7:107638511-107639011 & 1.3258724 & 0 & Pro-B\\_cells\\_D0 & chr7 & 107639011\\\\\n",
       "\t chr7:108503411-108503911 & 0.9527428 & 0 & Pro-B\\_cells\\_D0 & chr7 & 108503911\\\\\n",
       "\t chr7:112882432-112882932 & 1.5851677 & 0 & Pro-B\\_cells\\_D0 & chr7 & 112882932\\\\\n",
       "\t chr7:114051758-114052258 & 1.6687569 & 0 & Pro-B\\_cells\\_D0 & chr7 & 114052258\\\\\n",
       "\t chr7:117134814-117135314 & 1.8974914 & 0 & Pro-B\\_cells\\_D0 & chr7 & 117135314\\\\\n",
       "\t chr7:127782567-127783067 & 1.2022021 & 0 & Pro-B\\_cells\\_D0 & chr7 & 127783067\\\\\n",
       "\t chr7:127793406-127793906 & 1.3756362 & 0 & Pro-B\\_cells\\_D0 & chr7 & 127793906\\\\\n",
       "\t chr7:128236893-128237393 & 1.4517883 & 0 & Pro-B\\_cells\\_D0 & chr7 & 128237393\\\\\n",
       "\t chr7:128672754-128673254 & 1.0689356 & 0 & Pro-B\\_cells\\_D0 & chr7 & 128673254\\\\\n",
       "\t chr7:128934610-128935110 & 1.0649377 & 0 & Pro-B\\_cells\\_D0 & chr7 & 128935110\\\\\n",
       "\t chr7:129606796-129607296 & 1.0007601 & 0 & Pro-B\\_cells\\_D0 & chr7 & 129607296\\\\\n",
       "\t chr7:130025931-130026431 & 1.6915637 & 0 & Pro-B\\_cells\\_D0 & chr7 & 130026431\\\\\n",
       "\t chr7:134292864-134293364 & 0.7529704 & 0 & Pro-B\\_cells\\_D0 & chr7 & 134293364\\\\\n",
       "\t chr7:135970837-135971337 & 1.3933858 & 0 & Pro-B\\_cells\\_D0 & chr7 & 135971337\\\\\n",
       "\t chr7:135980421-135980921 & 0.6714906 & 0 & Pro-B\\_cells\\_D0 & chr7 & 135980921\\\\\n",
       "\t chr7:140232786-140233286 & 1.0382601 & 0 & Pro-B\\_cells\\_D0 & chr7 & 140233286\\\\\n",
       "\t chr7:140261566-140262066 & 1.5402607 & 0 & Pro-B\\_cells\\_D0 & chr7 & 140262066\\\\\n",
       "\t chr7:141884608-141885108 & 1.5533202 & 0 & Pro-B\\_cells\\_D0 & chr7 & 141885108\\\\\n",
       "\t chr7:142487890-142488390 & 0.6147603 & 0 & Pro-B\\_cells\\_D0 & chr7 & 142488390\\\\\n",
       "\t chr7:142927130-142927630 & 0.7525270 & 0 & Pro-B\\_cells\\_D0 & chr7 & 142927630\\\\\n",
       "\t chr7:143085219-143085719 & 0.8853639 & 0 & Pro-B\\_cells\\_D0 & chr7 & 143085719\\\\\n",
       "\t chr7:150340493-150340993 & 1.1536263 & 0 & Pro-B\\_cells\\_D0 & chr7 & 150340993\\\\\n",
       "\t chr7:150365981-150366481 & 1.3495863 & 0 & Pro-B\\_cells\\_D0 & chr7 & 150366481\\\\\n",
       "\t chr7:150435560-150436060 & 0.9015100 & 0 & Pro-B\\_cells\\_D0 & chr7 & 150436060\\\\\n",
       "\t chr7:151115889-151116389 & 1.2804818 & 0 & Pro-B\\_cells\\_D0 & chr7 & 151116389\\\\\n",
       "\t chr7:152459703-152460203 & 1.8004020 & 0 & Pro-B\\_cells\\_D0 & chr7 & 152460203\\\\\n",
       "\\end{tabular}\n"
      ],
      "text/markdown": [
       "\n",
       "A data.frame: 705 × 6\n",
       "\n",
       "| X &lt;chr&gt; | Log2FC &lt;dbl&gt; | Adjusted_pval &lt;dbl&gt; | Contrast &lt;chr&gt; | chr &lt;chr&gt; | loc &lt;int&gt; |\n",
       "|---|---|---|---|---|---|\n",
       "| chr7:89228-89728   | 1.2008494 | 0 | Pro-B_cells_D0 | chr7 |  89728 |\n",
       "| chr7:119226-119726 | 1.0449007 | 0 | Pro-B_cells_D0 | chr7 | 119726 |\n",
       "| chr7:150042-150542 | 0.6055433 | 0 | Pro-B_cells_D0 | chr7 | 150542 |\n",
       "| chr7:191230-191730 | 1.5829283 | 0 | Pro-B_cells_D0 | chr7 | 191730 |\n",
       "| chr7:192066-192566 | 0.7547269 | 0 | Pro-B_cells_D0 | chr7 | 192566 |\n",
       "| chr7:193769-194269 | 1.7400629 | 0 | Pro-B_cells_D0 | chr7 | 194269 |\n",
       "| chr7:263517-264017 | 1.4453514 | 0 | Pro-B_cells_D0 | chr7 | 264017 |\n",
       "| chr7:351026-351526 | 0.7152762 | 0 | Pro-B_cells_D0 | chr7 | 351526 |\n",
       "| chr7:351578-352078 | 0.7537560 | 0 | Pro-B_cells_D0 | chr7 | 352078 |\n",
       "| chr7:362147-362647 | 0.8660022 | 0 | Pro-B_cells_D0 | chr7 | 362647 |\n",
       "| chr7:368820-369320 | 1.2524299 | 0 | Pro-B_cells_D0 | chr7 | 369320 |\n",
       "| chr7:379965-380465 | 0.9384534 | 0 | Pro-B_cells_D0 | chr7 | 380465 |\n",
       "| chr7:490731-491231 | 0.6915561 | 0 | Pro-B_cells_D0 | chr7 | 491231 |\n",
       "| chr7:518536-519036 | 0.8183298 | 0 | Pro-B_cells_D0 | chr7 | 519036 |\n",
       "| chr7:520996-521496 | 1.8173305 | 0 | Pro-B_cells_D0 | chr7 | 521496 |\n",
       "| chr7:521802-522302 | 0.9248850 | 0 | Pro-B_cells_D0 | chr7 | 522302 |\n",
       "| chr7:522679-523179 | 0.6254764 | 0 | Pro-B_cells_D0 | chr7 | 523179 |\n",
       "| chr7:530194-530694 | 0.6697182 | 0 | Pro-B_cells_D0 | chr7 | 530694 |\n",
       "| chr7:539199-539699 | 1.3772685 | 0 | Pro-B_cells_D0 | chr7 | 539699 |\n",
       "| chr7:541078-541578 | 1.2653823 | 0 | Pro-B_cells_D0 | chr7 | 541578 |\n",
       "| chr7:583957-584457 | 0.5984901 | 0 | Pro-B_cells_D0 | chr7 | 584457 |\n",
       "| chr7:607952-608452 | 0.6501227 | 0 | Pro-B_cells_D0 | chr7 | 608452 |\n",
       "| chr7:610717-611217 | 1.5233780 | 0 | Pro-B_cells_D0 | chr7 | 611217 |\n",
       "| chr7:727190-727690 | 1.0856874 | 0 | Pro-B_cells_D0 | chr7 | 727690 |\n",
       "| chr7:786355-786855 | 1.1867077 | 0 | Pro-B_cells_D0 | chr7 | 786855 |\n",
       "| chr7:816233-816733 | 0.6088258 | 0 | Pro-B_cells_D0 | chr7 | 816733 |\n",
       "| chr7:873082-873582 | 1.1339690 | 0 | Pro-B_cells_D0 | chr7 | 873582 |\n",
       "| chr7:907439-907939 | 1.1644306 | 0 | Pro-B_cells_D0 | chr7 | 907939 |\n",
       "| chr7:908628-909128 | 0.8542468 | 0 | Pro-B_cells_D0 | chr7 | 909128 |\n",
       "| chr7:909915-910415 | 1.1978077 | 0 | Pro-B_cells_D0 | chr7 | 910415 |\n",
       "| ⋮ | ⋮ | ⋮ | ⋮ | ⋮ | ⋮ |\n",
       "| chr7:105447982-105448482 | 0.9056058 | 0 | Pro-B_cells_D0 | chr7 | 105448482 |\n",
       "| chr7:106089726-106090226 | 0.8926609 | 0 | Pro-B_cells_D0 | chr7 | 106090226 |\n",
       "| chr7:106598389-106598889 | 1.2083012 | 0 | Pro-B_cells_D0 | chr7 | 106598889 |\n",
       "| chr7:106926387-106926887 | 2.0332876 | 0 | Pro-B_cells_D0 | chr7 | 106926887 |\n",
       "| chr7:107638511-107639011 | 1.3258724 | 0 | Pro-B_cells_D0 | chr7 | 107639011 |\n",
       "| chr7:108503411-108503911 | 0.9527428 | 0 | Pro-B_cells_D0 | chr7 | 108503911 |\n",
       "| chr7:112882432-112882932 | 1.5851677 | 0 | Pro-B_cells_D0 | chr7 | 112882932 |\n",
       "| chr7:114051758-114052258 | 1.6687569 | 0 | Pro-B_cells_D0 | chr7 | 114052258 |\n",
       "| chr7:117134814-117135314 | 1.8974914 | 0 | Pro-B_cells_D0 | chr7 | 117135314 |\n",
       "| chr7:127782567-127783067 | 1.2022021 | 0 | Pro-B_cells_D0 | chr7 | 127783067 |\n",
       "| chr7:127793406-127793906 | 1.3756362 | 0 | Pro-B_cells_D0 | chr7 | 127793906 |\n",
       "| chr7:128236893-128237393 | 1.4517883 | 0 | Pro-B_cells_D0 | chr7 | 128237393 |\n",
       "| chr7:128672754-128673254 | 1.0689356 | 0 | Pro-B_cells_D0 | chr7 | 128673254 |\n",
       "| chr7:128934610-128935110 | 1.0649377 | 0 | Pro-B_cells_D0 | chr7 | 128935110 |\n",
       "| chr7:129606796-129607296 | 1.0007601 | 0 | Pro-B_cells_D0 | chr7 | 129607296 |\n",
       "| chr7:130025931-130026431 | 1.6915637 | 0 | Pro-B_cells_D0 | chr7 | 130026431 |\n",
       "| chr7:134292864-134293364 | 0.7529704 | 0 | Pro-B_cells_D0 | chr7 | 134293364 |\n",
       "| chr7:135970837-135971337 | 1.3933858 | 0 | Pro-B_cells_D0 | chr7 | 135971337 |\n",
       "| chr7:135980421-135980921 | 0.6714906 | 0 | Pro-B_cells_D0 | chr7 | 135980921 |\n",
       "| chr7:140232786-140233286 | 1.0382601 | 0 | Pro-B_cells_D0 | chr7 | 140233286 |\n",
       "| chr7:140261566-140262066 | 1.5402607 | 0 | Pro-B_cells_D0 | chr7 | 140262066 |\n",
       "| chr7:141884608-141885108 | 1.5533202 | 0 | Pro-B_cells_D0 | chr7 | 141885108 |\n",
       "| chr7:142487890-142488390 | 0.6147603 | 0 | Pro-B_cells_D0 | chr7 | 142488390 |\n",
       "| chr7:142927130-142927630 | 0.7525270 | 0 | Pro-B_cells_D0 | chr7 | 142927630 |\n",
       "| chr7:143085219-143085719 | 0.8853639 | 0 | Pro-B_cells_D0 | chr7 | 143085719 |\n",
       "| chr7:150340493-150340993 | 1.1536263 | 0 | Pro-B_cells_D0 | chr7 | 150340993 |\n",
       "| chr7:150365981-150366481 | 1.3495863 | 0 | Pro-B_cells_D0 | chr7 | 150366481 |\n",
       "| chr7:150435560-150436060 | 0.9015100 | 0 | Pro-B_cells_D0 | chr7 | 150436060 |\n",
       "| chr7:151115889-151116389 | 1.2804818 | 0 | Pro-B_cells_D0 | chr7 | 151116389 |\n",
       "| chr7:152459703-152460203 | 1.8004020 | 0 | Pro-B_cells_D0 | chr7 | 152460203 |\n",
       "\n"
      ],
      "text/plain": [
       "    X                        Log2FC    Adjusted_pval Contrast       chr \n",
       "1   chr7:89228-89728         1.2008494 0             Pro-B_cells_D0 chr7\n",
       "2   chr7:119226-119726       1.0449007 0             Pro-B_cells_D0 chr7\n",
       "3   chr7:150042-150542       0.6055433 0             Pro-B_cells_D0 chr7\n",
       "4   chr7:191230-191730       1.5829283 0             Pro-B_cells_D0 chr7\n",
       "5   chr7:192066-192566       0.7547269 0             Pro-B_cells_D0 chr7\n",
       "6   chr7:193769-194269       1.7400629 0             Pro-B_cells_D0 chr7\n",
       "7   chr7:263517-264017       1.4453514 0             Pro-B_cells_D0 chr7\n",
       "8   chr7:351026-351526       0.7152762 0             Pro-B_cells_D0 chr7\n",
       "9   chr7:351578-352078       0.7537560 0             Pro-B_cells_D0 chr7\n",
       "10  chr7:362147-362647       0.8660022 0             Pro-B_cells_D0 chr7\n",
       "11  chr7:368820-369320       1.2524299 0             Pro-B_cells_D0 chr7\n",
       "12  chr7:379965-380465       0.9384534 0             Pro-B_cells_D0 chr7\n",
       "13  chr7:490731-491231       0.6915561 0             Pro-B_cells_D0 chr7\n",
       "14  chr7:518536-519036       0.8183298 0             Pro-B_cells_D0 chr7\n",
       "15  chr7:520996-521496       1.8173305 0             Pro-B_cells_D0 chr7\n",
       "16  chr7:521802-522302       0.9248850 0             Pro-B_cells_D0 chr7\n",
       "17  chr7:522679-523179       0.6254764 0             Pro-B_cells_D0 chr7\n",
       "18  chr7:530194-530694       0.6697182 0             Pro-B_cells_D0 chr7\n",
       "19  chr7:539199-539699       1.3772685 0             Pro-B_cells_D0 chr7\n",
       "20  chr7:541078-541578       1.2653823 0             Pro-B_cells_D0 chr7\n",
       "21  chr7:583957-584457       0.5984901 0             Pro-B_cells_D0 chr7\n",
       "22  chr7:607952-608452       0.6501227 0             Pro-B_cells_D0 chr7\n",
       "23  chr7:610717-611217       1.5233780 0             Pro-B_cells_D0 chr7\n",
       "24  chr7:727190-727690       1.0856874 0             Pro-B_cells_D0 chr7\n",
       "25  chr7:786355-786855       1.1867077 0             Pro-B_cells_D0 chr7\n",
       "26  chr7:816233-816733       0.6088258 0             Pro-B_cells_D0 chr7\n",
       "27  chr7:873082-873582       1.1339690 0             Pro-B_cells_D0 chr7\n",
       "28  chr7:907439-907939       1.1644306 0             Pro-B_cells_D0 chr7\n",
       "29  chr7:908628-909128       0.8542468 0             Pro-B_cells_D0 chr7\n",
       "30  chr7:909915-910415       1.1978077 0             Pro-B_cells_D0 chr7\n",
       "⋮   ⋮                        ⋮         ⋮             ⋮              ⋮   \n",
       "676 chr7:105447982-105448482 0.9056058 0             Pro-B_cells_D0 chr7\n",
       "677 chr7:106089726-106090226 0.8926609 0             Pro-B_cells_D0 chr7\n",
       "678 chr7:106598389-106598889 1.2083012 0             Pro-B_cells_D0 chr7\n",
       "679 chr7:106926387-106926887 2.0332876 0             Pro-B_cells_D0 chr7\n",
       "680 chr7:107638511-107639011 1.3258724 0             Pro-B_cells_D0 chr7\n",
       "681 chr7:108503411-108503911 0.9527428 0             Pro-B_cells_D0 chr7\n",
       "682 chr7:112882432-112882932 1.5851677 0             Pro-B_cells_D0 chr7\n",
       "683 chr7:114051758-114052258 1.6687569 0             Pro-B_cells_D0 chr7\n",
       "684 chr7:117134814-117135314 1.8974914 0             Pro-B_cells_D0 chr7\n",
       "685 chr7:127782567-127783067 1.2022021 0             Pro-B_cells_D0 chr7\n",
       "686 chr7:127793406-127793906 1.3756362 0             Pro-B_cells_D0 chr7\n",
       "687 chr7:128236893-128237393 1.4517883 0             Pro-B_cells_D0 chr7\n",
       "688 chr7:128672754-128673254 1.0689356 0             Pro-B_cells_D0 chr7\n",
       "689 chr7:128934610-128935110 1.0649377 0             Pro-B_cells_D0 chr7\n",
       "690 chr7:129606796-129607296 1.0007601 0             Pro-B_cells_D0 chr7\n",
       "691 chr7:130025931-130026431 1.6915637 0             Pro-B_cells_D0 chr7\n",
       "692 chr7:134292864-134293364 0.7529704 0             Pro-B_cells_D0 chr7\n",
       "693 chr7:135970837-135971337 1.3933858 0             Pro-B_cells_D0 chr7\n",
       "694 chr7:135980421-135980921 0.6714906 0             Pro-B_cells_D0 chr7\n",
       "695 chr7:140232786-140233286 1.0382601 0             Pro-B_cells_D0 chr7\n",
       "696 chr7:140261566-140262066 1.5402607 0             Pro-B_cells_D0 chr7\n",
       "697 chr7:141884608-141885108 1.5533202 0             Pro-B_cells_D0 chr7\n",
       "698 chr7:142487890-142488390 0.6147603 0             Pro-B_cells_D0 chr7\n",
       "699 chr7:142927130-142927630 0.7525270 0             Pro-B_cells_D0 chr7\n",
       "700 chr7:143085219-143085719 0.8853639 0             Pro-B_cells_D0 chr7\n",
       "701 chr7:150340493-150340993 1.1536263 0             Pro-B_cells_D0 chr7\n",
       "702 chr7:150365981-150366481 1.3495863 0             Pro-B_cells_D0 chr7\n",
       "703 chr7:150435560-150436060 0.9015100 0             Pro-B_cells_D0 chr7\n",
       "704 chr7:151115889-151116389 1.2804818 0             Pro-B_cells_D0 chr7\n",
       "705 chr7:152459703-152460203 1.8004020 0             Pro-B_cells_D0 chr7\n",
       "    loc      \n",
       "1    89728   \n",
       "2   119726   \n",
       "3   150542   \n",
       "4   191730   \n",
       "5   192566   \n",
       "6   194269   \n",
       "7   264017   \n",
       "8   351526   \n",
       "9   352078   \n",
       "10  362647   \n",
       "11  369320   \n",
       "12  380465   \n",
       "13  491231   \n",
       "14  519036   \n",
       "15  521496   \n",
       "16  522302   \n",
       "17  523179   \n",
       "18  530694   \n",
       "19  539699   \n",
       "20  541578   \n",
       "21  584457   \n",
       "22  608452   \n",
       "23  611217   \n",
       "24  727690   \n",
       "25  786855   \n",
       "26  816733   \n",
       "27  873582   \n",
       "28  907939   \n",
       "29  909128   \n",
       "30  910415   \n",
       "⋮   ⋮        \n",
       "676 105448482\n",
       "677 106090226\n",
       "678 106598889\n",
       "679 106926887\n",
       "680 107639011\n",
       "681 108503911\n",
       "682 112882932\n",
       "683 114052258\n",
       "684 117135314\n",
       "685 127783067\n",
       "686 127793906\n",
       "687 128237393\n",
       "688 128673254\n",
       "689 128935110\n",
       "690 129607296\n",
       "691 130026431\n",
       "692 134293364\n",
       "693 135971337\n",
       "694 135980921\n",
       "695 140233286\n",
       "696 140262066\n",
       "697 141885108\n",
       "698 142488390\n",
       "699 142927630\n",
       "700 143085719\n",
       "701 150340993\n",
       "702 150366481\n",
       "703 150436060\n",
       "704 151116389\n",
       "705 152460203"
      ]
     },
     "metadata": {},
     "output_type": "display_data"
    }
   ],
   "source": [
    "sign.genes"
   ]
  },
  {
   "cell_type": "code",
   "execution_count": 4,
   "id": "f3d281da-751f-471b-9499-f394dd08b280",
   "metadata": {
    "vscode": {
     "languageId": "r"
    }
   },
   "outputs": [],
   "source": [
    "coords <- do.call(rbind, strsplit(sign.genes$X, \"[:-]\"))\n",
    "sign.genes$chr <- coords[,1]\n",
    "sign.genes$start <- as.integer(coords[,2])\n",
    "sign.genes$end <- as.integer(coords[,3])"
   ]
  },
  {
   "cell_type": "code",
   "execution_count": null,
   "id": "f140d825-a793-4619-898e-c2d169688620",
   "metadata": {
    "vscode": {
     "languageId": "r"
    }
   },
   "outputs": [],
   "source": [
    "gr <- GRanges(\n",
    "  seqnames = sign.genes$chr,\n",
    "  ranges = IRanges(start = sign.genes$start, end = sign.genes$end),\n",
    "  Log2FC = sign.genes$Log2FC,\n",
    "  time = 'D0'\n",
    ")"
   ]
  },
  {
   "cell_type": "code",
   "execution_count": null,
   "id": "be76842b-6c99-4ea1-ab6c-af8beabf24f8",
   "metadata": {
    "vscode": {
     "languageId": "r"
    }
   },
   "outputs": [
    {
     "name": "stderr",
     "output_type": "stream",
     "text": [
      "Warning message in text.default(x = x, y = y, labels = labels, pos = pos, offset = 0, :\n",
      "\"\"ymax\" is not a graphical parameter\"\n",
      "Warning message in text.default(x = x, y = y, labels = labels, pos = pos, offset = 0, :\n",
      "\"\"ymin\" is not a graphical parameter\"\n"
     ]
    },
    {
     "data": {
      "text/html": [
       "<strong>null device:</strong> 1"
      ],
      "text/latex": [
       "\\textbf{null device:} 1"
      ],
      "text/markdown": [
       "**null device:** 1"
      ],
      "text/plain": [
       "null device \n",
       "          1 "
      ]
     },
     "metadata": {},
     "output_type": "display_data"
    },
    {
     "data": {
      "image/png": "[encoded data removed]",
      "text/plain": [
       "plot without title"
      ]
     },
     "metadata": {
      "image/png": {
       "height": 420,
       "width": 420
      }
     },
     "output_type": "display_data"
    }
   ],
   "source": [
    "gr$Log2FC <- -gr$Log2FC\n",
    "fc.ymin <- ceiling(min(gr$Log2FC, na.rm = TRUE))\n",
    "fc.ymax <- 0\n",
    "kp <- plotKaryotype(genome=\"hg38\", chromosomes = \"chr7\")\n",
    "kpPoints(kp, data=gr, y=gr$Log2FC, ymax=fc.ymax, ymin=fc.ymin)\n",
    "kpAxis(kp, ymax=fc.ymax, ymin=fc.ymin)\n",
    "kpAddLabels(kp, labels = \"Log2 Fold Change\", srt=90, pos=1, label.margin = 0.08, ymax=fc.ymax, ymin=fc.ymin)\n",
    "dev.off()"
   ]
  },
  {
   "cell_type": "code",
   "execution_count": null,
   "id": "8a104ad8-1ef5-4a7a-b97d-ecd6d1466056",
   "metadata": {
    "vscode": {
     "languageId": "r"
    }
   },
   "outputs": [],
   "source": [
    "sign.genes2 <- read.csv(\"/processing/atac/D0_Q1_subset/chr7_q1_dars.csv\")"
   ]
  },
  {
   "cell_type": "code",
   "execution_count": 8,
   "id": "61997966-c6d1-4a8f-bf82-b0766a78b836",
   "metadata": {
    "vscode": {
     "languageId": "r"
    }
   },
   "outputs": [],
   "source": [
    "coords <- do.call(rbind, strsplit(sign.genes2$X, \"[:-]\"))\n",
    "sign.genes2$chr <- coords[,1]\n",
    "sign.genes2$start <- as.integer(coords[,2])\n",
    "sign.genes2$end <- as.integer(coords[,3])"
   ]
  },
  {
   "cell_type": "code",
   "execution_count": 9,
   "id": "9973f5bc-5bbd-4eb9-805b-16bf12b352e3",
   "metadata": {
    "vscode": {
     "languageId": "r"
    }
   },
   "outputs": [],
   "source": [
    "gr2 <- GRanges(\n",
    "  seqnames = sign.genes2$chr,\n",
    "  ranges = IRanges(start = sign.genes2$start, end = sign.genes2$end),\n",
    "  # metadata\n",
    "  Log2FC = sign.genes2$Log2FC,\n",
    "  time = 'Q1'\n",
    ")"
   ]
  },
  {
   "cell_type": "code",
   "execution_count": 10,
   "id": "86b321b7-1e8c-4b56-a485-b0a49769e203",
   "metadata": {
    "vscode": {
     "languageId": "r"
    }
   },
   "outputs": [
    {
     "data": {
      "text/html": [
       "1"
      ],
      "text/latex": [
       "1"
      ],
      "text/markdown": [
       "1"
      ],
      "text/plain": [
       "[1] 1"
      ]
     },
     "metadata": {},
     "output_type": "display_data"
    }
   ],
   "source": [
    "ceiling(min(gr2$Log2FC, na.rm = TRUE))"
   ]
  },
  {
   "cell_type": "code",
   "execution_count": 11,
   "id": "f6b2a2d1-f0b1-4f48-89f6-d4a0e619925d",
   "metadata": {
    "vscode": {
     "languageId": "r"
    }
   },
   "outputs": [
    {
     "data": {
      "text/plain": [
       "GRanges object with 818 ranges and 2 metadata columns:\n",
       "        seqnames              ranges strand |    Log2FC        time\n",
       "           <Rle>           <IRanges>  <Rle> | <numeric> <character>\n",
       "    [1]     chr7       525657-526157      * |   0.74330          Q1\n",
       "    [2]     chr7       573385-573885      * |   2.18125          Q1\n",
       "    [3]     chr7       574107-574607      * |   2.07670          Q1\n",
       "    [4]     chr7       575012-575512      * |   2.41498          Q1\n",
       "    [5]     chr7       823201-823701      * |   1.26383          Q1\n",
       "    ...      ...                 ...    ... .       ...         ...\n",
       "  [814]     chr7 159175148-159175648      * |   2.71593          Q1\n",
       "  [815]     chr7 159191289-159191789      * |   2.78182          Q1\n",
       "  [816]     chr7 159195721-159196221      * |   2.13015          Q1\n",
       "  [817]     chr7 159197201-159197701      * |   2.26994          Q1\n",
       "  [818]     chr7 159253388-159253888      * |   2.72768          Q1\n",
       "  -------\n",
       "  seqinfo: 1 sequence from an unspecified genome; no seqlengths"
      ]
     },
     "metadata": {},
     "output_type": "display_data"
    }
   ],
   "source": [
    "gr2"
   ]
  },
  {
   "cell_type": "code",
   "execution_count": null,
   "id": "dd5013ff-bcb8-4377-b7d5-66fac8769b8c",
   "metadata": {
    "vscode": {
     "languageId": "r"
    }
   },
   "outputs": [
    {
     "name": "stderr",
     "output_type": "stream",
     "text": [
      "Warning message in text.default(x = x, y = y, labels = labels, pos = pos, offset = 0, :\n",
      "\"\"ymax\" is not a graphical parameter\"\n",
      "Warning message in text.default(x = x, y = y, labels = labels, pos = pos, offset = 0, :\n",
      "\"\"ymin\" is not a graphical parameter\"\n"
     ]
    },
    {
     "data": {
      "text/html": [
       "<strong>null device:</strong> 1"
      ],
      "text/latex": [
       "\\textbf{null device:} 1"
      ],
      "text/markdown": [
       "**null device:** 1"
      ],
      "text/plain": [
       "null device \n",
       "          1 "
      ]
     },
     "metadata": {},
     "output_type": "display_data"
    },
    {
     "data": {
      "image/png": "[encoded data removed]",
      "text/plain": [
       "plot without title"
      ]
     },
     "metadata": {
      "image/png": {
       "height": 420,
       "width": 420
      }
     },
     "output_type": "display_data"
    }
   ],
   "source": [
    "fc.ymax <- ceiling(max(gr2$Log2FC, na.rm = TRUE))\n",
    "fc.ymin <- 0\n",
    "kp <- plotKaryotype(genome=\"hg38\", chromosomes = \"chr7\")\n",
    "kpPoints(kp, data=gr2, y=gr2$Log2FC, ymax=fc.ymax, ymin=fc.ymin)\n",
    "kpAxis(kp, ymax=fc.ymax, ymin=fc.ymin)\n",
    "kpAddLabels(kp, labels = \"Log2 Fold Change\", srt=90, pos=1, label.margin = 0.08, ymax=fc.ymax, ymin=fc.ymin)\n",
    "dev.off()\n"
   ]
  },
  {
   "cell_type": "code",
   "execution_count": 13,
   "id": "326077c5-63b3-435d-9f70-954d256fde02",
   "metadata": {
    "vscode": {
     "languageId": "r"
    }
   },
   "outputs": [
    {
     "name": "stderr",
     "output_type": "stream",
     "text": [
      "Warning message in text.default(x = x, y = y, labels = labels, pos = pos, offset = 0, :\n",
      "\"\"ymax\" is not a graphical parameter\"\n",
      "Warning message in text.default(x = x, y = y, labels = labels, pos = pos, offset = 0, :\n",
      "\"\"ymin\" is not a graphical parameter\"\n"
     ]
    },
    {
     "data": {
      "text/html": [
       "<strong>pdf:</strong> 2"
      ],
      "text/latex": [
       "\\textbf{pdf:} 2"
      ],
      "text/markdown": [
       "**pdf:** 2"
      ],
      "text/plain": [
       "pdf \n",
       "  2 "
      ]
     },
     "metadata": {},
     "output_type": "display_data"
    }
   ],
   "source": [
    "pdf(\"karyoplot_log2fc_chr7_D0_Q1.pdf\", width = 7, height = 5, family = \"Helvetica\")\n",
    "gr_combined <- c(gr, gr2)\n",
    "group_colors <- setNames(c(\"#fac710\", \"#709AE1FF\"), c(\"D0\", \"Q1\"))\n",
    "fc.ymax <- ceiling(max(abs(gr_combined$Log2FC), na.rm = TRUE))\n",
    "fc.ymin <- ceiling(min(gr_combined$Log2FC, na.rm = TRUE))\n",
    "kp <- plotKaryotype(genome=\"hg38\", chromosomes = \"chr7\")\n",
    "kpPoints(kp, data=gr_combined, y=gr_combined$Log2FC, ymax=fc.ymax, ymin=fc.ymin, col=group_colors[gr_combined$time])\n",
    "kpAxis(kp, ymax=fc.ymax, ymin=fc.ymin)\n",
    "kpAddLabels(kp, labels = \"Log2 Fold Change\", srt=90, pos=1, label.margin = 0.08, ymax=fc.ymax, ymin=fc.ymin)\n",
    "legend(\"topright\", legend = c(\"D0\", \"Q1\"), fill = c(\"#fac710\", \"#709AE1FF\"), title = \"Time\")\n",
    "dev.off()"
   ]
  },
  {
   "cell_type": "code",
   "execution_count": 14,
   "id": "5cf15646-8088-4d80-854b-3bf93a5dd79e",
   "metadata": {
    "vscode": {
     "languageId": "r"
    }
   },
   "outputs": [
    {
     "name": "stderr",
     "output_type": "stream",
     "text": [
      "Warning message in system(\"timedatectl\", intern = TRUE):\n",
      "\"running command 'timedatectl' had status 1\"\n"
     ]
    },
    {
     "data": {
      "text/plain": [
       "R version 4.4.2 (2024-10-31)\n",
       "Platform: x86_64-conda-linux-gnu\n",
       "Running under: Rocky Linux 8.10 (Green Obsidian)\n",
       "\n",
       "Matrix products: default\n",
       "BLAS/LAPACK: /lustre1/project/stg_00002/mambaforge/vsc33857/envs/milo/lib/libopenblasp-r0.3.28.so;  LAPACK version 3.12.0\n",
       "\n",
       "locale:\n",
       " [1] LC_CTYPE=en_US.utf8       LC_NUMERIC=C             \n",
       " [3] LC_TIME=en_US.utf8        LC_COLLATE=C             \n",
       " [5] LC_MONETARY=en_US.utf8    LC_MESSAGES=en_US.utf8   \n",
       " [7] LC_PAPER=en_US.utf8       LC_NAME=C                \n",
       " [9] LC_ADDRESS=C              LC_TELEPHONE=C           \n",
       "[11] LC_MEASUREMENT=en_US.utf8 LC_IDENTIFICATION=C      \n",
       "\n",
       "time zone: Europe/Brussels\n",
       "tzcode source: system (glibc)\n",
       "\n",
       "attached base packages:\n",
       "[1] stats4    stats     graphics  grDevices utils     datasets  methods  \n",
       "[8] base     \n",
       "\n",
       "other attached packages:\n",
       "[1] karyoploteR_1.32.0   regioneR_1.38.0      GenomicRanges_1.58.0\n",
       "[4] GenomeInfoDb_1.42.3  IRanges_2.40.1       S4Vectors_0.44.0    \n",
       "[7] BiocGenerics_0.52.0 \n",
       "\n",
       "loaded via a namespace (and not attached):\n",
       "  [1] DBI_1.2.3                   bitops_1.0-9               \n",
       "  [3] gridExtra_2.3               rlang_1.1.6                \n",
       "  [5] magrittr_2.0.3              biovizBase_1.54.0          \n",
       "  [7] matrixStats_1.5.0           compiler_4.4.2             \n",
       "  [9] RSQLite_2.3.11              GenomicFeatures_1.58.0     \n",
       " [11] png_0.1-8                   vctrs_0.6.5                \n",
       " [13] ProtGenerics_1.38.0         stringr_1.5.1              \n",
       " [15] pkgconfig_2.0.3             crayon_1.5.3               \n",
       " [17] fastmap_1.2.0               backports_1.5.0            \n",
       " [19] XVector_0.46.0              Rsamtools_2.22.0           \n",
       " [21] rmarkdown_2.29              UCSC.utils_1.2.0           \n",
       " [23] bit_4.6.0                   xfun_0.52                  \n",
       " [25] zlibbioc_1.52.0             cachem_1.1.0               \n",
       " [27] jsonlite_2.0.0              blob_1.2.4                 \n",
       " [29] DelayedArray_0.32.0         uuid_1.2-1                 \n",
       " [31] BiocParallel_1.40.2         parallel_4.4.2             \n",
       " [33] cluster_2.1.8.1             R6_2.6.1                   \n",
       " [35] VariantAnnotation_1.52.0    stringi_1.8.7              \n",
       " [37] RColorBrewer_1.1-3          bezier_1.1.2               \n",
       " [39] rtracklayer_1.66.0          rpart_4.1.24               \n",
       " [41] Rcpp_1.0.14                 IRkernel_1.3.2             \n",
       " [43] SummarizedExperiment_1.36.0 knitr_1.50                 \n",
       " [45] base64enc_0.1-3             Matrix_1.7-3               \n",
       " [47] nnet_7.3-20                 tidyselect_1.2.1           \n",
       " [49] rstudioapi_0.17.1           dichromat_2.0-0.1          \n",
       " [51] abind_1.4-8                 yaml_2.3.10                \n",
       " [53] codetools_0.2-20            curl_6.2.2                 \n",
       " [55] lattice_0.22-7              tibble_3.2.1               \n",
       " [57] Biobase_2.66.0              KEGGREST_1.46.0            \n",
       " [59] evaluate_1.0.3              foreign_0.8-90             \n",
       " [61] Biostrings_2.74.1           pillar_1.10.2              \n",
       " [63] MatrixGenerics_1.18.1       checkmate_2.3.2            \n",
       " [65] generics_0.1.4              RCurl_1.98-1.17            \n",
       " [67] IRdisplay_1.1               ensembldb_2.30.0           \n",
       " [69] ggplot2_3.5.2               scales_1.4.0               \n",
       " [71] glue_1.8.0                  lazyeval_0.2.2             \n",
       " [73] Hmisc_5.2-3                 tools_4.4.2                \n",
       " [75] BiocIO_1.16.0               data.table_1.17.2          \n",
       " [77] BSgenome_1.74.0             GenomicAlignments_1.42.0   \n",
       " [79] pbdZMQ_0.3-14               XML_3.99-0.18              \n",
       " [81] Cairo_1.6-2                 grid_4.4.2                 \n",
       " [83] AnnotationDbi_1.68.0        colorspace_2.1-1           \n",
       " [85] GenomeInfoDbData_1.2.13     repr_1.1.7                 \n",
       " [87] htmlTable_2.4.3             restfulr_0.0.15            \n",
       " [89] Formula_1.2-5               cli_3.6.5                  \n",
       " [91] S4Arrays_1.6.0              dplyr_1.1.4                \n",
       " [93] AnnotationFilter_1.30.0     gtable_0.3.6               \n",
       " [95] digest_0.6.37               SparseArray_1.6.2          \n",
       " [97] rjson_0.2.23                htmlwidgets_1.6.4          \n",
       " [99] farver_2.1.2                memoise_2.0.1              \n",
       "[101] htmltools_0.5.8.1           lifecycle_1.0.4            \n",
       "[103] httr_1.4.7                  bit64_4.6.0-1              \n",
       "[105] bamsignals_1.38.0          "
      ]
     },
     "metadata": {},
     "output_type": "display_data"
    }
   ],
   "source": [
    "sessionInfo()"
   ]
  },
  {
   "cell_type": "markdown",
   "id": "5eebae3a",
   "metadata": {},
   "source": []
  }
 ],
 "metadata": {
  "kernelspec": {
   "display_name": "miloR",
   "language": "R",
   "name": "milo"
  },
  "language_info": {
   "codemirror_mode": "r",
   "file_extension": ".r",
   "mimetype": "text/x-r-source",
   "name": "R",
   "pygments_lexer": "r",
   "version": "4.4.2"
  }
 },
 "nbformat": 4,
 "nbformat_minor": 5
}
